{
 "cells": [
  {
   "cell_type": "markdown",
   "metadata": {},
   "source": [
    "Render table used in README ([notebook](./README.ipynb), [markdown](./README.md))\n",
    "\n",
    "TODO:\n",
    "- link each box to appropriate test/example\n",
    "- use fancier \"[label-table](https://gist.github.com/ryan-williams/67c176af2495bd1c98e1d35a698150f2)\" renderer"
   ]
  },
  {
   "cell_type": "code",
   "execution_count": 1,
   "metadata": {},
   "outputs": [
    {
     "data": {
      "text/html": [
       "<div>\n",
       "<style scoped>\n",
       "    .dataframe tbody tr th:only-of-type {\n",
       "        vertical-align: middle;\n",
       "    }\n",
       "\n",
       "    .dataframe tbody tr th {\n",
       "        vertical-align: top;\n",
       "    }\n",
       "\n",
       "    .dataframe thead th {\n",
       "        text-align: right;\n",
       "    }\n",
       "</style>\n",
       "<table border=\"1\" class=\"dataframe\">\n",
       "  <thead>\n",
       "    <tr style=\"text-align: right;\">\n",
       "      <th>Import From</th>\n",
       "      <th>Gists</th>\n",
       "      <th>URLs</th>\n",
       "      <th>Local files</th>\n",
       "      <th>GitHub</th>\n",
       "      <th>GitLab</th>\n",
       "    </tr>\n",
       "    <tr>\n",
       "      <th>File Type</th>\n",
       "      <th></th>\n",
       "      <th></th>\n",
       "      <th></th>\n",
       "      <th></th>\n",
       "      <th></th>\n",
       "    </tr>\n",
       "  </thead>\n",
       "  <tbody>\n",
       "    <tr>\n",
       "      <th>Notebook (.ipynb)</th>\n",
       "      <td>✅</td>\n",
       "      <td>✅</td>\n",
       "      <td>✅</td>\n",
       "      <td>🚧</td>\n",
       "      <td>🚧</td>\n",
       "    </tr>\n",
       "    <tr>\n",
       "      <th>Python (.py)</th>\n",
       "      <td>✅</td>\n",
       "      <td>✅</td>\n",
       "      <td>✅</td>\n",
       "      <td>🚧</td>\n",
       "      <td>🚧</td>\n",
       "    </tr>\n",
       "  </tbody>\n",
       "</table>\n",
       "</div>"
      ],
      "text/plain": [
       "Import From       Gists URLs Local files GitHub GitLab\n",
       "File Type                                             \n",
       "Notebook (.ipynb)     ✅    ✅           ✅      🚧      🚧\n",
       "Python (.py)          ✅    ✅           ✅      🚧      🚧"
      ]
     },
     "execution_count": 1,
     "metadata": {},
     "output_type": "execute_result"
    }
   ],
   "source": [
    "from pandas import DataFrame as DF\n",
    "df = DF([\n",
    "    {'File Type': 'Notebook (.ipynb)', 'Gists': True, 'URLs': True, 'Local files': True, 'GitHub': False, 'GitLab': False},\n",
    "    {'File Type': 'Python (.py)', 'Gists': True, 'URLs': True, 'Local files': True, 'GitHub': False, 'GitLab': False},\n",
    "]) \\\n",
    ".set_index('File Type')\n",
    "df.columns.name = 'Import From'\n",
    "df = df.replace(True, '✅').replace(False, '🚧')\n",
    "df"
   ]
  },
  {
   "cell_type": "code",
   "execution_count": 2,
   "metadata": {},
   "outputs": [
    {
     "name": "stdout",
     "output_type": "stream",
     "text": [
      "<table border=\"1\" class=\"dataframe\">\n",
      "  <thead>\n",
      "    <tr style=\"text-align: right;\">\n",
      "      <th>Import From</th>\n",
      "      <th>Gists</th>\n",
      "      <th>URLs</th>\n",
      "      <th>Local files</th>\n",
      "      <th>GitHub</th>\n",
      "      <th>GitLab</th>\n",
      "    </tr>\n",
      "    <tr>\n",
      "      <th>File Type</th>\n",
      "      <th></th>\n",
      "      <th></th>\n",
      "      <th></th>\n",
      "      <th></th>\n",
      "      <th></th>\n",
      "    </tr>\n",
      "  </thead>\n",
      "  <tbody>\n",
      "    <tr>\n",
      "      <th>Notebook (.ipynb)</th>\n",
      "      <td>✅</td>\n",
      "      <td>✅</td>\n",
      "      <td>✅</td>\n",
      "      <td>🚧</td>\n",
      "      <td>🚧</td>\n",
      "    </tr>\n",
      "    <tr>\n",
      "      <th>Python (.py)</th>\n",
      "      <td>✅</td>\n",
      "      <td>✅</td>\n",
      "      <td>✅</td>\n",
      "      <td>🚧</td>\n",
      "      <td>🚧</td>\n",
      "    </tr>\n",
      "  </tbody>\n",
      "</table>\n"
     ]
    }
   ],
   "source": [
    "print(df.to_html())"
   ]
  },
  {
   "cell_type": "code",
   "execution_count": 3,
   "metadata": {},
   "outputs": [
    {
     "name": "stdout",
     "output_type": "stream",
     "text": [
      ".objs/Gist/67c176af2495bd1c98e1d35a698150f2/clone exists; attempting to pull\n",
      ".objs/Gist/67c176af2495bd1c98e1d35a698150f2/clone exists; attempting to pull\n",
      ".objs/Gist/67c176af2495bd1c98e1d35a698150f2/clone exists; attempting to pull\n",
      ".objs/Gist/67c176af2495bd1c98e1d35a698150f2/clone exists; attempting to pull\n"
     ]
    }
   ],
   "source": [
    "import ur\n",
    "ur.skip_cache = True\n",
    "from gist._67c176af2495bd1c98e1d35a698150f2.label_table import *"
   ]
  },
  {
   "cell_type": "code",
   "execution_count": 4,
   "metadata": {},
   "outputs": [
    {
     "data": {
      "text/html": [
       "<table><tr><th colspan=\"2\" rowspan=\"2\"></th><th colspan=\"5\" align=\"center\" style=\"text-align:center\"><b>Import From</b></th></tr><tr><th><b>Gists</b></th><th><b>URLs</b></th><th><b>Local files</b></th><th><b>GitHub</b></th><th><b>GitLab</b></th></tr><tr><td rowspan=\"2\"><b>File Type</b></td><td align=\"right\"><b>Notebook (.ipynb)</b></td><td align=\"right\">✅</td><td align=\"right\">✅</td><td align=\"right\">✅</td><td align=\"right\">🚧</td><td align=\"right\">🚧</td></tr><tr><td align=\"right\"><b>Python (.py)</b></td><td align=\"right\">✅</td><td align=\"right\">✅</td><td align=\"right\">✅</td><td align=\"right\">🚧</td><td align=\"right\">🚧</td></tr></table>"
      ],
      "text/plain": [
       "<IPython.core.display.HTML object>"
      ]
     },
     "execution_count": 4,
     "metadata": {},
     "output_type": "execute_result"
    }
   ],
   "source": [
    "label_table(df)"
   ]
  },
  {
   "cell_type": "code",
   "execution_count": 5,
   "metadata": {},
   "outputs": [],
   "source": [
    "label_table(df, copy=True, indent=True)"
   ]
  }
 ],
 "metadata": {
  "kernelspec": {
   "display_name": "3.8.2",
   "language": "python",
   "name": "3.8.2"
  },
  "language_info": {
   "codemirror_mode": {
    "name": "ipython",
    "version": 3
   },
   "file_extension": ".py",
   "mimetype": "text/x-python",
   "name": "python",
   "nbconvert_exporter": "python",
   "pygments_lexer": "ipython3",
   "version": "3.8.2"
  }
 },
 "nbformat": 4,
 "nbformat_minor": 2
}
