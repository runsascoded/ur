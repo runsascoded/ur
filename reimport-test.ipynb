{
 "cells": [
  {
   "cell_type": "markdown",
   "metadata": {},
   "source": [
    "# reimport-test\n",
    "Test importing [an example gist](https://gist.github.com/ryan-williams/aca1060cb371eb93eb14bb07ee68e4eb) (built from [the `mutating-notebook-test` submodule](./mutating-notebook-test)), with and without `ur.skip_cache` set."
   ]
  },
  {
   "cell_type": "code",
   "execution_count": 1,
   "metadata": {},
   "outputs": [],
   "source": [
    "import ur"
   ]
  },
  {
   "cell_type": "markdown",
   "metadata": {},
   "source": [
    "Set `ur.only_defs = False` to pick up the `timestamp` value set in [the example notebook](./mutating-notebook-test/example.ipynb) (which is not a function or other statement-type that `ur` would normally pick up, by default):"
   ]
  },
  {
   "cell_type": "code",
   "execution_count": 2,
   "metadata": {},
   "outputs": [],
   "source": [
    "ur.only_defs = False"
   ]
  },
  {
   "cell_type": "markdown",
   "metadata": {},
   "source": [
    "Optional: enable verbose logging of import machinery, gist resolution, and clone/pull activity:"
   ]
  },
  {
   "cell_type": "code",
   "execution_count": 3,
   "metadata": {},
   "outputs": [],
   "source": [
    "ur.verbose = True"
   ]
  },
  {
   "cell_type": "markdown",
   "metadata": {},
   "source": [
    "Without this set, the first cloned version of the Gist will be used in perpetuity.\n",
    "\n",
    "By setting it to true, a `git pull` will update the local cache of the Gist to pick up the most recent version:"
   ]
  },
  {
   "cell_type": "code",
   "execution_count": 4,
   "metadata": {},
   "outputs": [],
   "source": [
    "#ur.skip_cache = True"
   ]
  },
  {
   "cell_type": "markdown",
   "metadata": {},
   "source": [
    "Import the example notebook, and show the `now` value (written into the notebook as a string literal the last time it was executed; see [`mutating-notebook-test/example.ipynb`](./mutating-notebook-test/example.ipynb)):"
   ]
  },
  {
   "cell_type": "code",
   "execution_count": 5,
   "metadata": {},
   "outputs": [
    {
     "name": "stdout",
     "output_type": "stream",
     "text": [
      "find_spec: gists.aca1060cb371eb93eb14bb07ee68e4eb ['/Users/ryan/c/ur/gists'] None (commit? None)\n",
      "Gist aca1060cb371eb93eb14bb07ee68e4eb: opts.skip_cache=False\n",
      "Building module/pkg for gist Commit(id=e23127e85011058ab19f1615ab256f868da8b9b1) ([]; None)\n",
      "Creating package spec from https://gist.github.com/aca1060cb371eb93eb14bb07ee68e4eb (https://gist.github.com/aca1060cb371eb93eb14bb07ee68e4eb)\n",
      "create_module ModuleSpec(name='gists.aca1060cb371eb93eb14bb07ee68e4eb', loader=<gists.Importer object at 0x113252fa0>, origin='https://gist.github.com/aca1060cb371eb93eb14bb07ee68e4eb', submodule_search_locations=['/Users/ryan/c/ur/.objs/Gist/aca1060cb371eb93eb14bb07ee68e4eb/clone'])\n",
      "Installing module gists.aca1060cb371eb93eb14bb07ee68e4eb: <module 'gists.aca1060cb371eb93eb14bb07ee68e4eb' (https://gist.github.com/aca1060cb371eb93eb14bb07ee68e4eb)>\n",
      "exec_module <module 'gists.aca1060cb371eb93eb14bb07ee68e4eb' (https://gist.github.com/aca1060cb371eb93eb14bb07ee68e4eb)>\n",
      "find_spec: gists.aca1060cb371eb93eb14bb07ee68e4eb.example None None (commit? e23127e85011058ab19f1615ab256f868da8b9b1)\n",
      "Gist aca1060cb371eb93eb14bb07ee68e4eb: opts.skip_cache=False\n",
      "Building module/pkg for gist Commit(id=e23127e85011058ab19f1615ab256f868da8b9b1) (['example']; None)\n",
      "Creating package spec from https://gist.githubusercontent.com/ryan-williams/aca1060cb371eb93eb14bb07ee68e4eb/raw/e23127e85011058ab19f1615ab256f868da8b9b1/example.ipynb (https://gist.githubusercontent.com/ryan-williams/aca1060cb371eb93eb14bb07ee68e4eb/raw/e23127e85011058ab19f1615ab256f868da8b9b1/example.ipynb)\n",
      "Found spec for child module example (gists.aca1060cb371eb93eb14bb07ee68e4eb.example)\n",
      "create_module ModuleSpec(name='gists.aca1060cb371eb93eb14bb07ee68e4eb.example', loader=<gists.Importer object at 0x113252fa0>, origin='https://gist.githubusercontent.com/ryan-williams/aca1060cb371eb93eb14bb07ee68e4eb/raw/e23127e85011058ab19f1615ab256f868da8b9b1/example.ipynb')\n",
      "Installing module gists.aca1060cb371eb93eb14bb07ee68e4eb.example: <module 'gists.aca1060cb371eb93eb14bb07ee68e4eb.example' (https://gist.githubusercontent.com/ryan-williams/aca1060cb371eb93eb14bb07ee68e4eb/raw/e23127e85011058ab19f1615ab256f868da8b9b1/example.ipynb)>\n",
      "exec_module <module 'gists.aca1060cb371eb93eb14bb07ee68e4eb.example' (https://gist.githubusercontent.com/ryan-williams/aca1060cb371eb93eb14bb07ee68e4eb/raw/e23127e85011058ab19f1615ab256f868da8b9b1/example.ipynb)>\n",
      "Attempt to exec module gists.aca1060cb371eb93eb14bb07ee68e4eb.example\n",
      "exec notebook: example.ipynb\n"
     ]
    },
    {
     "data": {
      "text/plain": [
       "'2020-05-26T00:07:58'"
      ]
     },
     "execution_count": 5,
     "metadata": {},
     "output_type": "execute_result"
    }
   ],
   "source": [
    "from gists.aca1060cb371eb93eb14bb07ee68e4eb.example import *\n",
    "timestamp"
   ]
  }
 ],
 "metadata": {
  "kernelspec": {
   "display_name": "3.8.2",
   "language": "python",
   "name": "3.8.2"
  },
  "language_info": {
   "codemirror_mode": {
    "name": "ipython",
    "version": 3
   },
   "file_extension": ".py",
   "mimetype": "text/x-python",
   "name": "python",
   "nbconvert_exporter": "python",
   "pygments_lexer": "ipython3",
   "version": "3.8.2"
  }
 },
 "nbformat": 4,
 "nbformat_minor": 2
}
