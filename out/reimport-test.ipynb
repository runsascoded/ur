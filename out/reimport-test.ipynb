{
 "cells": [
  {
   "cell_type": "markdown",
   "metadata": {
    "papermill": {
     "duration": 0.011413,
     "end_time": "2020-06-08T04:22:31.986818",
     "exception": false,
     "start_time": "2020-06-08T04:22:31.975405",
     "status": "completed"
    },
    "tags": []
   },
   "source": [
    "# reimport-test\n",
    "Test importing [an example gist](https://gist.github.com/ryan-williams/aca1060cb371eb93eb14bb07ee68e4eb) (built from [the `mutating-notebook-test` submodule](./mutating-notebook-test)), with and without `ur.skip_cache` set."
   ]
  },
  {
   "cell_type": "code",
   "execution_count": 1,
   "metadata": {
    "execution": {
     "iopub.execute_input": "2020-06-08T04:22:32.013159Z",
     "iopub.status.busy": "2020-06-08T04:22:32.011829Z",
     "iopub.status.idle": "2020-06-08T04:22:32.240514Z",
     "shell.execute_reply": "2020-06-08T04:22:32.239924Z"
    },
    "papermill": {
     "duration": 0.243434,
     "end_time": "2020-06-08T04:22:32.240606",
     "exception": false,
     "start_time": "2020-06-08T04:22:31.997172",
     "status": "completed"
    },
    "tags": []
   },
   "outputs": [],
   "source": [
    "import ur"
   ]
  },
  {
   "cell_type": "markdown",
   "metadata": {
    "papermill": {
     "duration": 0.011479,
     "end_time": "2020-06-08T04:22:32.271622",
     "exception": false,
     "start_time": "2020-06-08T04:22:32.260143",
     "status": "completed"
    },
    "tags": []
   },
   "source": [
    "Set `ur.only_defs = False` to pick up the `timestamp` value set in [the example notebook](./mutating-notebook-test/example.ipynb) (which is not a function or other statement-type that `ur` would normally pick up, by default):"
   ]
  },
  {
   "cell_type": "code",
   "execution_count": 2,
   "metadata": {
    "execution": {
     "iopub.execute_input": "2020-06-08T04:22:32.301279Z",
     "iopub.status.busy": "2020-06-08T04:22:32.300379Z",
     "iopub.status.idle": "2020-06-08T04:22:32.302869Z",
     "shell.execute_reply": "2020-06-08T04:22:32.302451Z"
    },
    "papermill": {
     "duration": 0.019966,
     "end_time": "2020-06-08T04:22:32.302956",
     "exception": false,
     "start_time": "2020-06-08T04:22:32.282990",
     "status": "completed"
    },
    "tags": []
   },
   "outputs": [],
   "source": [
    "ur.only_defs = False"
   ]
  },
  {
   "cell_type": "markdown",
   "metadata": {
    "papermill": {
     "duration": 0.009786,
     "end_time": "2020-06-08T04:22:32.324130",
     "exception": false,
     "start_time": "2020-06-08T04:22:32.314344",
     "status": "completed"
    },
    "tags": []
   },
   "source": [
    "Optional: enable verbose logging of import machinery, gist resolution, and clone/pull activity:"
   ]
  },
  {
   "cell_type": "code",
   "execution_count": 3,
   "metadata": {
    "execution": {
     "iopub.execute_input": "2020-06-08T04:22:32.346449Z",
     "iopub.status.busy": "2020-06-08T04:22:32.345948Z",
     "iopub.status.idle": "2020-06-08T04:22:32.349131Z",
     "shell.execute_reply": "2020-06-08T04:22:32.349527Z"
    },
    "papermill": {
     "duration": 0.015855,
     "end_time": "2020-06-08T04:22:32.349636",
     "exception": false,
     "start_time": "2020-06-08T04:22:32.333781",
     "status": "completed"
    },
    "tags": []
   },
   "outputs": [],
   "source": [
    "#ur.verbose = True"
   ]
  },
  {
   "cell_type": "markdown",
   "metadata": {
    "papermill": {
     "duration": 0.010161,
     "end_time": "2020-06-08T04:22:32.371066",
     "exception": false,
     "start_time": "2020-06-08T04:22:32.360905",
     "status": "completed"
    },
    "tags": []
   },
   "source": [
    "Without this set, the first cloned version of the Gist will be used in perpetuity.\n",
    "\n",
    "By setting it to true, a `git pull` will update the local cache of the Gist to pick up the most recent version:"
   ]
  },
  {
   "cell_type": "code",
   "execution_count": 4,
   "metadata": {
    "execution": {
     "iopub.execute_input": "2020-06-08T04:22:32.392271Z",
     "iopub.status.busy": "2020-06-08T04:22:32.391639Z",
     "iopub.status.idle": "2020-06-08T04:22:32.395014Z",
     "shell.execute_reply": "2020-06-08T04:22:32.395609Z"
    },
    "papermill": {
     "duration": 0.016089,
     "end_time": "2020-06-08T04:22:32.395742",
     "exception": false,
     "start_time": "2020-06-08T04:22:32.379653",
     "status": "completed"
    },
    "tags": []
   },
   "outputs": [],
   "source": [
    "#ur.skip_cache = True"
   ]
  },
  {
   "cell_type": "markdown",
   "metadata": {
    "papermill": {
     "duration": 0.008963,
     "end_time": "2020-06-08T04:22:32.414174",
     "exception": false,
     "start_time": "2020-06-08T04:22:32.405211",
     "status": "completed"
    },
    "tags": []
   },
   "source": [
    "Import the example notebook, and show the `now` value (written into the notebook as a string literal the last time it was executed; see [`mutating-notebook-test/example.ipynb`](./mutating-notebook-test/example.ipynb)):"
   ]
  },
  {
   "cell_type": "code",
   "execution_count": 5,
   "metadata": {
    "execution": {
     "iopub.execute_input": "2020-06-08T04:22:32.436300Z",
     "iopub.status.busy": "2020-06-08T04:22:32.435199Z",
     "iopub.status.idle": "2020-06-08T04:22:32.657068Z",
     "shell.execute_reply": "2020-06-08T04:22:32.657459Z"
    },
    "papermill": {
     "duration": 0.233888,
     "end_time": "2020-06-08T04:22:32.657569",
     "exception": false,
     "start_time": "2020-06-08T04:22:32.423681",
     "status": "completed"
    },
    "tags": []
   },
   "outputs": [
    {
     "data": {
      "text/plain": [
       "'2020-05-26T00:07:58'"
      ]
     },
     "execution_count": 5,
     "metadata": {},
     "output_type": "execute_result"
    }
   ],
   "source": [
    "from gist.aca1060cb371eb93eb14bb07ee68e4eb.example import *\n",
    "timestamp"
   ]
  }
 ],
 "metadata": {
  "kernelspec": {
   "display_name": "3.8.2",
   "language": "python",
   "name": "3.8.2"
  },
  "language_info": {
   "codemirror_mode": {
    "name": "ipython",
    "version": 3
   },
   "file_extension": ".py",
   "mimetype": "text/x-python",
   "name": "python",
   "nbconvert_exporter": "python",
   "pygments_lexer": "ipython3",
   "version": "3.8.3"
  },
  "papermill": {
   "duration": 1.698203,
   "end_time": "2020-06-08T04:22:32.780155",
   "environment_variables": {},
   "exception": null,
   "input_path": "/ur/reimport-test.ipynb",
   "output_path": "/ur/out/reimport-test.ipynb",
   "parameters": {},
   "start_time": "2020-06-08T04:22:31.081952",
   "version": "2.1.1"
  }
 },
 "nbformat": 4,
 "nbformat_minor": 2
}