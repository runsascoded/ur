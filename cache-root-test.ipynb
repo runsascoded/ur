{
 "cells": [
  {
   "cell_type": "markdown",
   "metadata": {},
   "source": [
    "Set a non-default `cache_root` (can only be changed before any Gists are imported; subsequent changes will have no effect):"
   ]
  },
  {
   "cell_type": "code",
   "execution_count": 1,
   "metadata": {},
   "outputs": [],
   "source": [
    "import ur\n",
    "ur.cache_root = '.cache'\n",
    "\n",
    "from gist._1288bff2f9e05394a94312010da267bb import *"
   ]
  },
  {
   "cell_type": "code",
   "execution_count": 2,
   "metadata": {
    "scrolled": true
   },
   "outputs": [
    {
     "data": {
      "text/plain": [
       "('aaa', 'bbb', 'ccc')"
      ]
     },
     "execution_count": 2,
     "metadata": {},
     "output_type": "execute_result"
    }
   ],
   "source": [
    "a_b.a(), a_b.b(), c.c()"
   ]
  },
  {
   "cell_type": "code",
   "execution_count": 3,
   "metadata": {},
   "outputs": [
    {
     "name": "stdout",
     "output_type": "stream",
     "text": [
      "\u001b[1m.cache\u001b[00m\r\n",
      "├── \u001b[1mCommit\u001b[00m\r\n",
      "│   └── \u001b[1m0a2b5966c22c5461734063b78239262e39e4f363\u001b[00m\r\n",
      "│       └── xml\r\n",
      "└── \u001b[1mGist\u001b[00m\r\n",
      "    └── \u001b[1m1288bff2f9e05394a94312010da267bb\u001b[00m\r\n",
      "        ├── \u001b[1mclone\u001b[00m\r\n",
      "        │   ├── a_b.ipynb\r\n",
      "        │   └── c.ipynb\r\n",
      "        └── user\r\n",
      "\r\n",
      "5 directories, 4 files\r\n"
     ]
    }
   ],
   "source": [
    "!tree .cache"
   ]
  }
 ],
 "metadata": {
  "kernelspec": {
   "display_name": "3.8.2",
   "language": "python",
   "name": "3.8.2"
  },
  "language_info": {
   "codemirror_mode": {
    "name": "ipython",
    "version": 3
   },
   "file_extension": ".py",
   "mimetype": "text/x-python",
   "name": "python",
   "nbconvert_exporter": "python",
   "pygments_lexer": "ipython3",
   "version": "3.8.2"
  }
 },
 "nbformat": 4,
 "nbformat_minor": 2
}
