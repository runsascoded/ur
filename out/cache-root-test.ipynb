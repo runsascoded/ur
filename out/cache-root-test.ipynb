{
 "cells": [
  {
   "cell_type": "markdown",
   "metadata": {
    "papermill": {
     "duration": 0.00891,
     "end_time": "2020-06-08T04:58:58.864120",
     "exception": false,
     "start_time": "2020-06-08T04:58:58.855210",
     "status": "completed"
    },
    "tags": []
   },
   "source": [
    "Set a non-default `cache_root` (can only be changed before any Gists are imported; subsequent changes will have no effect):"
   ]
  },
  {
   "cell_type": "code",
   "execution_count": 1,
   "metadata": {
    "execution": {
     "iopub.execute_input": "2020-06-08T04:58:58.885414Z",
     "iopub.status.busy": "2020-06-08T04:58:58.883821Z",
     "iopub.status.idle": "2020-06-08T04:58:59.266620Z",
     "shell.execute_reply": "2020-06-08T04:58:59.267094Z"
    },
    "papermill": {
     "duration": 0.394797,
     "end_time": "2020-06-08T04:58:59.267263",
     "exception": false,
     "start_time": "2020-06-08T04:58:58.872466",
     "status": "completed"
    },
    "tags": []
   },
   "outputs": [],
   "source": [
    "import ur\n",
    "ur.cache_root = '.cache'\n",
    "\n",
    "from gist._1288bff2f9e05394a94312010da267bb import *"
   ]
  },
  {
   "cell_type": "code",
   "execution_count": 2,
   "metadata": {
    "execution": {
     "iopub.execute_input": "2020-06-08T04:58:59.294632Z",
     "iopub.status.busy": "2020-06-08T04:58:59.292108Z",
     "iopub.status.idle": "2020-06-08T04:58:59.298973Z",
     "shell.execute_reply": "2020-06-08T04:58:59.298464Z"
    },
    "papermill": {
     "duration": 0.02314,
     "end_time": "2020-06-08T04:58:59.299053",
     "exception": false,
     "start_time": "2020-06-08T04:58:59.275913",
     "status": "completed"
    },
    "scrolled": true,
    "tags": []
   },
   "outputs": [
    {
     "data": {
      "text/plain": [
       "('aaa', 'bbb', 'ccc')"
      ]
     },
     "execution_count": 2,
     "metadata": {},
     "output_type": "execute_result"
    }
   ],
   "source": [
    "a_b.a(), a_b.b(), c.c()"
   ]
  },
  {
   "cell_type": "code",
   "execution_count": 3,
   "metadata": {
    "execution": {
     "iopub.execute_input": "2020-06-08T04:58:59.317827Z",
     "iopub.status.busy": "2020-06-08T04:58:59.317263Z",
     "iopub.status.idle": "2020-06-08T04:58:59.916890Z",
     "shell.execute_reply": "2020-06-08T04:58:59.917670Z"
    },
    "papermill": {
     "duration": 0.611029,
     "end_time": "2020-06-08T04:58:59.917817",
     "exception": false,
     "start_time": "2020-06-08T04:58:59.306788",
     "status": "completed"
    },
    "tags": []
   },
   "outputs": [
    {
     "name": "stdout",
     "output_type": "stream",
     "text": [
      "/bin/sh: 1: tree: not found\r\n"
     ]
    }
   ],
   "source": [
    "!tree .cache"
   ]
  }
 ],
 "metadata": {
  "kernelspec": {
   "display_name": "3.8.2",
   "language": "python",
   "name": "3.8.2"
  },
  "language_info": {
   "codemirror_mode": {
    "name": "ipython",
    "version": 3
   },
   "file_extension": ".py",
   "mimetype": "text/x-python",
   "name": "python",
   "nbconvert_exporter": "python",
   "pygments_lexer": "ipython3",
   "version": "3.8.3"
  },
  "papermill": {
   "duration": 2.136073,
   "end_time": "2020-06-08T04:59:00.046939",
   "environment_variables": {},
   "exception": null,
   "input_path": "/ur/cache-root-test.ipynb",
   "output_path": "/ur/out/cache-root-test.ipynb",
   "parameters": {},
   "start_time": "2020-06-08T04:58:57.910866",
   "version": "2.1.1"
  }
 },
 "nbformat": 4,
 "nbformat_minor": 2
}