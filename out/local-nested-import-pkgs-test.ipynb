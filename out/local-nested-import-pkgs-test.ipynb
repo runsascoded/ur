{
 "cells": [
  {
   "cell_type": "markdown",
   "metadata": {
    "papermill": {
     "duration": 0.02129,
     "end_time": "2020-06-08T04:22:21.306392",
     "exception": false,
     "start_time": "2020-06-08T04:22:21.285102",
     "status": "completed"
    },
    "tags": []
   },
   "source": [
    "Test importing local {`.py`,`.ipynb`} modules that in turn import from other local {`.py`,`.ipynb`} modules:"
   ]
  },
  {
   "cell_type": "code",
   "execution_count": 1,
   "metadata": {
    "execution": {
     "iopub.execute_input": "2020-06-08T04:22:21.374864Z",
     "iopub.status.busy": "2020-06-08T04:22:21.373645Z",
     "iopub.status.idle": "2020-06-08T04:22:21.928003Z",
     "shell.execute_reply": "2020-06-08T04:22:21.928534Z"
    },
    "papermill": {
     "duration": 0.581175,
     "end_time": "2020-06-08T04:22:21.928687",
     "exception": false,
     "start_time": "2020-06-08T04:22:21.347512",
     "status": "completed"
    },
    "tags": []
   },
   "outputs": [],
   "source": [
    "import ur"
   ]
  },
  {
   "cell_type": "markdown",
   "metadata": {
    "papermill": {
     "duration": 0.012,
     "end_time": "2020-06-08T04:22:21.956344",
     "exception": false,
     "start_time": "2020-06-08T04:22:21.944344",
     "status": "completed"
    },
    "tags": []
   },
   "source": [
    "Import from a notebook that in turn imports from another, adjacent notebook:"
   ]
  },
  {
   "cell_type": "code",
   "execution_count": 2,
   "metadata": {
    "execution": {
     "iopub.execute_input": "2020-06-08T04:22:21.983723Z",
     "iopub.status.busy": "2020-06-08T04:22:21.983102Z",
     "iopub.status.idle": "2020-06-08T04:22:22.126301Z",
     "shell.execute_reply": "2020-06-08T04:22:22.126674Z"
    },
    "papermill": {
     "duration": 0.159366,
     "end_time": "2020-06-08T04:22:22.126781",
     "exception": false,
     "start_time": "2020-06-08T04:22:21.967415",
     "status": "completed"
    },
    "scrolled": true,
    "tags": []
   },
   "outputs": [
    {
     "data": {
      "text/plain": [
       "'aaabbb'"
      ]
     },
     "execution_count": 2,
     "metadata": {},
     "output_type": "execute_result"
    }
   ],
   "source": [
    "from examples.abcd_gist import nb_abs_nb\n",
    "nb_abs_nb.nb_abs_nb()"
   ]
  },
  {
   "cell_type": "markdown",
   "metadata": {
    "papermill": {
     "duration": 0.010415,
     "end_time": "2020-06-08T04:22:22.149795",
     "exception": false,
     "start_time": "2020-06-08T04:22:22.139380",
     "status": "completed"
    },
    "tags": []
   },
   "source": [
    "Import from a notebook that in turn imports from an adjacent Python file:"
   ]
  },
  {
   "cell_type": "code",
   "execution_count": 3,
   "metadata": {
    "execution": {
     "iopub.execute_input": "2020-06-08T04:22:22.176710Z",
     "iopub.status.busy": "2020-06-08T04:22:22.176121Z",
     "iopub.status.idle": "2020-06-08T04:22:22.181780Z",
     "shell.execute_reply": "2020-06-08T04:22:22.181282Z"
    },
    "papermill": {
     "duration": 0.022375,
     "end_time": "2020-06-08T04:22:22.181859",
     "exception": false,
     "start_time": "2020-06-08T04:22:22.159484",
     "status": "completed"
    },
    "scrolled": true,
    "tags": []
   },
   "outputs": [
    {
     "data": {
      "text/plain": [
       "'DDD!yay'"
      ]
     },
     "execution_count": 3,
     "metadata": {},
     "output_type": "execute_result"
    }
   ],
   "source": [
    "from examples.abcd_gist import nb_abs_py\n",
    "nb_abs_py.nb_abs_py()"
   ]
  },
  {
   "cell_type": "markdown",
   "metadata": {
    "papermill": {
     "duration": 0.011868,
     "end_time": "2020-06-08T04:22:22.205853",
     "exception": false,
     "start_time": "2020-06-08T04:22:22.193985",
     "status": "completed"
    },
    "tags": []
   },
   "source": [
    "Import from a Python file that in turn imports an adjacent notebook:"
   ]
  },
  {
   "cell_type": "code",
   "execution_count": 4,
   "metadata": {
    "execution": {
     "iopub.execute_input": "2020-06-08T04:22:22.238594Z",
     "iopub.status.busy": "2020-06-08T04:22:22.237330Z",
     "iopub.status.idle": "2020-06-08T04:22:22.243787Z",
     "shell.execute_reply": "2020-06-08T04:22:22.243272Z"
    },
    "papermill": {
     "duration": 0.023716,
     "end_time": "2020-06-08T04:22:22.243867",
     "exception": false,
     "start_time": "2020-06-08T04:22:22.220151",
     "status": "completed"
    },
    "scrolled": true,
    "tags": []
   },
   "outputs": [
    {
     "data": {
      "text/plain": [
       "'aaabbb'"
      ]
     },
     "execution_count": 4,
     "metadata": {},
     "output_type": "execute_result"
    }
   ],
   "source": [
    "from examples.abcd_gist import py_abs_nb\n",
    "py_abs_nb.py_abs_nb()"
   ]
  },
  {
   "cell_type": "markdown",
   "metadata": {
    "papermill": {
     "duration": 0.012024,
     "end_time": "2020-06-08T04:22:22.276717",
     "exception": false,
     "start_time": "2020-06-08T04:22:22.264693",
     "status": "completed"
    },
    "tags": []
   },
   "source": [
    "Import from a Python file that in turn imports from another, adjacent Python file:"
   ]
  },
  {
   "cell_type": "code",
   "execution_count": 5,
   "metadata": {
    "execution": {
     "iopub.execute_input": "2020-06-08T04:22:22.302209Z",
     "iopub.status.busy": "2020-06-08T04:22:22.301496Z",
     "iopub.status.idle": "2020-06-08T04:22:22.305940Z",
     "shell.execute_reply": "2020-06-08T04:22:22.305546Z"
    },
    "papermill": {
     "duration": 0.018984,
     "end_time": "2020-06-08T04:22:22.306020",
     "exception": false,
     "start_time": "2020-06-08T04:22:22.287036",
     "status": "completed"
    },
    "scrolled": true,
    "tags": []
   },
   "outputs": [
    {
     "data": {
      "text/plain": [
       "'DDD!yay'"
      ]
     },
     "execution_count": 5,
     "metadata": {},
     "output_type": "execute_result"
    }
   ],
   "source": [
    "from examples.abcd_gist import py_abs_py\n",
    "py_abs_py.py_abs_py()"
   ]
  }
 ],
 "metadata": {
  "kernelspec": {
   "display_name": "3.8.2",
   "language": "python",
   "name": "3.8.2"
  },
  "language_info": {
   "codemirror_mode": {
    "name": "ipython",
    "version": 3
   },
   "file_extension": ".py",
   "mimetype": "text/x-python",
   "name": "python",
   "nbconvert_exporter": "python",
   "pygments_lexer": "ipython3",
   "version": "3.8.3"
  },
  "papermill": {
   "duration": 2.526633,
   "end_time": "2020-06-08T04:22:22.436840",
   "environment_variables": {},
   "exception": null,
   "input_path": "/ur/local-nested-import-pkgs-test.ipynb",
   "output_path": "/ur/out/local-nested-import-pkgs-test.ipynb",
   "parameters": {},
   "start_time": "2020-06-08T04:22:19.910207",
   "version": "2.1.1"
  }
 },
 "nbformat": 4,
 "nbformat_minor": 2
}