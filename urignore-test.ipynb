{
 "cells": [
  {
   "cell_type": "code",
   "execution_count": 1,
   "metadata": {},
   "outputs": [],
   "source": [
    "import sys\n",
    "len(sys.modules)"
   ]
  },
  {
   "cell_type": "code",
   "execution_count": 2,
   "metadata": {
    "scrolled": false
   },
   "outputs": [
    {
     "name": "stdout",
     "output_type": "stream",
     "text": [
      "CPU times: user 150 ms, sys: 34.6 ms, total: 185 ms\n",
      "Wall time: 199 ms\n"
     ]
    }
   ],
   "source": [
    "%%time\n",
    "import ur\n",
    "ur.only_defs = False\n",
    "#ur.skip_cache = True\n",
    "#ur.verbose = 1\n",
    "from ignore_tests import *"
   ]
  },
  {
   "cell_type": "code",
   "execution_count": 3,
   "metadata": {
    "scrolled": true
   },
   "outputs": [
    {
     "name": "stdout",
     "output_type": "stream",
     "text": [
      "yayy\n",
      "CPU times: user 15.8 s, sys: 726 ms, total: 16.5 s\n",
      "Wall time: 17.5 s\n"
     ]
    }
   ],
   "source": [
    "%%time\n",
    "from jupyter_rc.context import *"
   ]
  },
  {
   "cell_type": "code",
   "execution_count": 4,
   "metadata": {},
   "outputs": [
    {
     "data": {
      "text/plain": [
       "1980"
      ]
     },
     "execution_count": 4,
     "metadata": {},
     "output_type": "execute_result"
    }
   ],
   "source": [
    "len(sys.modules)"
   ]
  },
  {
   "cell_type": "code",
   "execution_count": 5,
   "metadata": {},
   "outputs": [],
   "source": [
    "with no: import context\n",
    "with no: context"
   ]
  },
  {
   "cell_type": "code",
   "execution_count": 6,
   "metadata": {},
   "outputs": [
    {
     "data": {
      "text/plain": [
       "<module 'jupyter_rc.context' (/Users/ryan/c/ur/jupyter_rc/context.ipynb)>"
      ]
     },
     "execution_count": 6,
     "metadata": {},
     "output_type": "execute_result"
    }
   ],
   "source": [
    "import jupyter_rc\n",
    "jupyter_rc.context"
   ]
  },
  {
   "cell_type": "code",
   "execution_count": 7,
   "metadata": {},
   "outputs": [
    {
     "data": {
      "text/plain": [
       "(<module 'ignore_tests.allowlist' (/Users/ryan/c/ur/ignore_tests/allowlist)>,\n",
       " <module 'ignore_tests.blocklist' (/Users/ryan/c/ur/ignore_tests/blocklist)>)"
      ]
     },
     "execution_count": 7,
     "metadata": {},
     "output_type": "execute_result"
    }
   ],
   "source": [
    "allowlist, blocklist"
   ]
  },
  {
   "cell_type": "code",
   "execution_count": 8,
   "metadata": {},
   "outputs": [],
   "source": [
    "with no: ignored"
   ]
  },
  {
   "cell_type": "code",
   "execution_count": 9,
   "metadata": {},
   "outputs": [
    {
     "data": {
      "text/plain": [
       "(<module 'ignore_tests.allowlist.b' (/Users/ryan/c/ur/ignore_tests/allowlist/b.ipynb)>,\n",
       " <module 'ignore_tests.allowlist.d' (/Users/ryan/c/ur/ignore_tests/allowlist/d.py)>)"
      ]
     },
     "execution_count": 9,
     "metadata": {},
     "output_type": "execute_result"
    }
   ],
   "source": [
    "allowlist.b, allowlist.d"
   ]
  },
  {
   "cell_type": "code",
   "execution_count": 10,
   "metadata": {},
   "outputs": [],
   "source": [
    "with no: allowlist.a\n",
    "with no: allowlist.c"
   ]
  },
  {
   "cell_type": "code",
   "execution_count": 11,
   "metadata": {},
   "outputs": [],
   "source": [
    "with no: blocklist.g1\n",
    "with no: blocklist.g2\n",
    "with no: blocklist.h1\n",
    "with no: blocklist.h2"
   ]
  },
  {
   "cell_type": "code",
   "execution_count": 12,
   "metadata": {},
   "outputs": [
    {
     "data": {
      "text/plain": [
       "(<module 'ignore_tests.blocklist.i' (/Users/ryan/c/ur/ignore_tests/blocklist/i.py)>,\n",
       " <module 'ignore_tests.blocklist.j1' (/Users/ryan/c/ur/ignore_tests/blocklist/j1.ipynb)>,\n",
       " <module 'ignore_tests.blocklist.j2' (/Users/ryan/c/ur/ignore_tests/blocklist/j2.ipynb)>)"
      ]
     },
     "execution_count": 12,
     "metadata": {},
     "output_type": "execute_result"
    }
   ],
   "source": [
    "blocklist.i, blocklist.j1, blocklist.j2"
   ]
  }
 ],
 "metadata": {
  "kernelspec": {
   "display_name": "3.8.2",
   "language": "python",
   "name": "3.8.2"
  },
  "language_info": {
   "codemirror_mode": {
    "name": "ipython",
    "version": 3
   },
   "file_extension": ".py",
   "mimetype": "text/x-python",
   "name": "python",
   "nbconvert_exporter": "python",
   "pygments_lexer": "ipython3",
   "version": "3.8.2"
  }
 },
 "nbformat": 4,
 "nbformat_minor": 2
}
