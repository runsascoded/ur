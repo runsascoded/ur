{
 "cells": [
  {
   "cell_type": "markdown",
   "metadata": {
    "papermill": {
     "duration": 0.01448,
     "end_time": "2020-05-30T18:38:09.795142",
     "exception": false,
     "start_time": "2020-05-30T18:38:09.780662",
     "status": "completed"
    },
    "tags": []
   },
   "source": [
    "# reimport-test\n",
    "Test importing [an example gist](https://gist.github.com/ryan-williams/aca1060cb371eb93eb14bb07ee68e4eb) (built from [the `mutating-notebook-test` submodule](./mutating-notebook-test)), with and without `ur.skip_cache` set."
   ]
  },
  {
   "cell_type": "code",
   "execution_count": 1,
   "metadata": {
    "execution": {
     "iopub.execute_input": "2020-05-30T18:38:09.822404Z",
     "iopub.status.busy": "2020-05-30T18:38:09.821316Z",
     "iopub.status.idle": "2020-05-30T18:38:09.951006Z",
     "shell.execute_reply": "2020-05-30T18:38:09.951478Z"
    },
    "papermill": {
     "duration": 0.144103,
     "end_time": "2020-05-30T18:38:09.951625",
     "exception": false,
     "start_time": "2020-05-30T18:38:09.807522",
     "status": "completed"
    },
    "tags": []
   },
   "outputs": [],
   "source": [
    "import ur"
   ]
  },
  {
   "cell_type": "markdown",
   "metadata": {
    "papermill": {
     "duration": 0.012119,
     "end_time": "2020-05-30T18:38:09.977005",
     "exception": false,
     "start_time": "2020-05-30T18:38:09.964886",
     "status": "completed"
    },
    "tags": []
   },
   "source": [
    "Set `ur.only_defs = False` to pick up the `timestamp` value set in [the example notebook](./mutating-notebook-test/example.ipynb) (which is not a function or other statement-type that `ur` would normally pick up, by default):"
   ]
  },
  {
   "cell_type": "code",
   "execution_count": 2,
   "metadata": {
    "execution": {
     "iopub.execute_input": "2020-05-30T18:38:09.999628Z",
     "iopub.status.busy": "2020-05-30T18:38:09.999009Z",
     "iopub.status.idle": "2020-05-30T18:38:10.002323Z",
     "shell.execute_reply": "2020-05-30T18:38:10.001729Z"
    },
    "papermill": {
     "duration": 0.016121,
     "end_time": "2020-05-30T18:38:10.002409",
     "exception": false,
     "start_time": "2020-05-30T18:38:09.986288",
     "status": "completed"
    },
    "tags": []
   },
   "outputs": [],
   "source": [
    "ur.only_defs = False"
   ]
  },
  {
   "cell_type": "markdown",
   "metadata": {
    "papermill": {
     "duration": 0.009335,
     "end_time": "2020-05-30T18:38:10.023016",
     "exception": false,
     "start_time": "2020-05-30T18:38:10.013681",
     "status": "completed"
    },
    "tags": []
   },
   "source": [
    "Optional: enable verbose logging of import machinery, gist resolution, and clone/pull activity:"
   ]
  },
  {
   "cell_type": "code",
   "execution_count": 3,
   "metadata": {
    "execution": {
     "iopub.execute_input": "2020-05-30T18:38:10.047331Z",
     "iopub.status.busy": "2020-05-30T18:38:10.046760Z",
     "iopub.status.idle": "2020-05-30T18:38:10.049948Z",
     "shell.execute_reply": "2020-05-30T18:38:10.050423Z"
    },
    "papermill": {
     "duration": 0.017048,
     "end_time": "2020-05-30T18:38:10.050542",
     "exception": false,
     "start_time": "2020-05-30T18:38:10.033494",
     "status": "completed"
    },
    "tags": []
   },
   "outputs": [],
   "source": [
    "ur.verbose = True"
   ]
  },
  {
   "cell_type": "markdown",
   "metadata": {
    "papermill": {
     "duration": 0.00966,
     "end_time": "2020-05-30T18:38:10.070615",
     "exception": false,
     "start_time": "2020-05-30T18:38:10.060955",
     "status": "completed"
    },
    "tags": []
   },
   "source": [
    "Without this set, the first cloned version of the Gist will be used in perpetuity.\n",
    "\n",
    "By setting it to true, a `git pull` will update the local cache of the Gist to pick up the most recent version:"
   ]
  },
  {
   "cell_type": "code",
   "execution_count": 4,
   "metadata": {
    "execution": {
     "iopub.execute_input": "2020-05-30T18:38:10.098250Z",
     "iopub.status.busy": "2020-05-30T18:38:10.097173Z",
     "iopub.status.idle": "2020-05-30T18:38:10.100440Z",
     "shell.execute_reply": "2020-05-30T18:38:10.099884Z"
    },
    "papermill": {
     "duration": 0.018237,
     "end_time": "2020-05-30T18:38:10.100524",
     "exception": false,
     "start_time": "2020-05-30T18:38:10.082287",
     "status": "completed"
    },
    "tags": []
   },
   "outputs": [],
   "source": [
    "#ur.skip_cache = True"
   ]
  },
  {
   "cell_type": "markdown",
   "metadata": {
    "papermill": {
     "duration": 0.009652,
     "end_time": "2020-05-30T18:38:10.120240",
     "exception": false,
     "start_time": "2020-05-30T18:38:10.110588",
     "status": "completed"
    },
    "tags": []
   },
   "source": [
    "Import the example notebook, and show the `now` value (written into the notebook as a string literal the last time it was executed; see [`mutating-notebook-test/example.ipynb`](./mutating-notebook-test/example.ipynb)):"
   ]
  },
  {
   "cell_type": "code",
   "execution_count": 5,
   "metadata": {
    "execution": {
     "iopub.execute_input": "2020-05-30T18:38:10.145891Z",
     "iopub.status.busy": "2020-05-30T18:38:10.144754Z",
     "iopub.status.idle": "2020-05-30T18:38:10.524402Z",
     "shell.execute_reply": "2020-05-30T18:38:10.523907Z"
    },
    "papermill": {
     "duration": 0.393913,
     "end_time": "2020-05-30T18:38:10.524490",
     "exception": false,
     "start_time": "2020-05-30T18:38:10.130577",
     "status": "completed"
    },
    "tags": []
   },
   "outputs": [
    {
     "name": "stdout",
     "output_type": "stream",
     "text": [
      "find_spec: gist.aca1060cb371eb93eb14bb07ee68e4eb ['/ur/gist'] None (commit? None)\n",
      "find_spec: gitdb_speedups None None (commit? None)\n",
      "find_spec: gitdb_speedups None None (commit? None)\n",
      "find_spec: gitdb_speedups None None (commit? None)\n",
      "Meta.__new__(<class 'pclass.dircache.Meta'>, Commit, (), {'__module__': '_gist', '__qualname__': 'Commit', '__init__': <function Commit.__init__ at 0x7f4fd2446ca0>, 'url': <property object at 0x7f4fd24406d0>, 'user': <property object at 0x7f4fd2440720>, 'author': <property object at 0x7f4fd2440770>, 'commit': <property object at 0x7f4fd24407c0>, 'tree': <property object at 0x7f4fd2440810>, 'blobs': <property object at 0x7f4fd2440860>, 'files': <property object at 0x7f4fd24408b0>, 'files_dict': <property object at 0x7f4fd2440900>, 'file_bases_dict': <property object at 0x7f4fd2440950>, 'xml': <pclass.field.DirectField object at 0x7f4fd2621340>, 'load_xml': None, 'fragments': <pclass.field.Field object at 0x7f4fd26213d0>})\n",
      "cache_root=None\n",
      "Class cache dir: .objs/Commit\n",
      "Checking: __module__: _gist\n",
      "__module__: bind functools.partial(<function Meta.__new__.<locals>._bind at 0x7f4fd2448700>, name='__module__') OrderedDict([('fn', <Parameter \"fn\">), ('name', <Parameter \"name='__module__'\">), ('_kw', <Parameter \"**_kw\">)])\n",
      "Skipping: __module__\n",
      "Checking: __qualname__: Commit\n",
      "__qualname__: bind functools.partial(<function Meta.__new__.<locals>._bind at 0x7f4fd2448af0>, name='__qualname__') OrderedDict([('fn', <Parameter \"fn\">), ('name', <Parameter \"name='__qualname__'\">), ('_kw', <Parameter \"**_kw\">)])\n",
      "Skipping: __qualname__\n",
      "Checking: __init__: <function Commit.__init__ at 0x7f4fd2446ca0>\n",
      "__init__: bind functools.partial(<function Meta.__new__.<locals>._bind at 0x7f4fd2448e50>, name='__init__') OrderedDict([('fn', <Parameter \"fn\">), ('name', <Parameter \"name='__init__'\">), ('_kw', <Parameter \"**_kw\">)])\n",
      "Skipping: __init__\n",
      "Checking: url: <property object at 0x7f4fd24406d0>\n",
      "url: bind functools.partial(<function Meta.__new__.<locals>._bind at 0x7f4fd2448f70>, name='url') OrderedDict([('fn', <Parameter \"fn\">), ('name', <Parameter \"name='url'\">), ('_kw', <Parameter \"**_kw\">)])\n",
      "Skipping: url\n",
      "Checking: user: <property object at 0x7f4fd2440720>\n",
      "user: bind functools.partial(<function Meta.__new__.<locals>._bind at 0x7f4fd2448b80>, name='user') OrderedDict([('fn', <Parameter \"fn\">), ('name', <Parameter \"name='user'\">), ('_kw', <Parameter \"**_kw\">)])\n",
      "Skipping: user\n",
      "Checking: author: <property object at 0x7f4fd2440770>\n",
      "author: bind functools.partial(<function Meta.__new__.<locals>._bind at 0x7f4fd2448820>, name='author') OrderedDict([('fn', <Parameter \"fn\">), ('name', <Parameter \"name='author'\">), ('_kw', <Parameter \"**_kw\">)])\n",
      "Skipping: author\n",
      "Checking: commit: <property object at 0x7f4fd24407c0>\n",
      "commit: bind functools.partial(<function Meta.__new__.<locals>._bind at 0x7f4fd244b160>, name='commit') OrderedDict([('fn', <Parameter \"fn\">), ('name', <Parameter \"name='commit'\">), ('_kw', <Parameter \"**_kw\">)])\n",
      "Skipping: commit\n",
      "Checking: tree: <property object at 0x7f4fd2440810>\n",
      "tree: bind functools.partial(<function Meta.__new__.<locals>._bind at 0x7f4fd244b3a0>, name='tree') OrderedDict([('fn', <Parameter \"fn\">), ('name', <Parameter \"name='tree'\">), ('_kw', <Parameter \"**_kw\">)])\n",
      "Skipping: tree\n",
      "Checking: blobs: <property object at 0x7f4fd2440860>\n",
      "blobs: bind functools.partial(<function Meta.__new__.<locals>._bind at 0x7f4fd244b700>, name='blobs') OrderedDict([('fn', <Parameter \"fn\">), ('name', <Parameter \"name='blobs'\">), ('_kw', <Parameter \"**_kw\">)])\n",
      "Skipping: blobs\n",
      "Checking: files: <property object at 0x7f4fd24408b0>\n",
      "files: bind functools.partial(<function Meta.__new__.<locals>._bind at 0x7f4fd2448820>, name='files') OrderedDict([('fn', <Parameter \"fn\">), ('name', <Parameter \"name='files'\">), ('_kw', <Parameter \"**_kw\">)])\n",
      "Skipping: files\n",
      "Checking: files_dict: <property object at 0x7f4fd2440900>\n",
      "files_dict: bind functools.partial(<function Meta.__new__.<locals>._bind at 0x7f4fd24488b0>, name='files_dict') OrderedDict([('fn', <Parameter \"fn\">), ('name', <Parameter \"name='files_dict'\">), ('_kw', <Parameter \"**_kw\">)])\n",
      "Skipping: files_dict\n",
      "Checking: file_bases_dict: <property object at 0x7f4fd2440950>\n",
      "file_bases_dict: bind functools.partial(<function Meta.__new__.<locals>._bind at 0x7f4fd24485e0>, name='file_bases_dict') OrderedDict([('fn', <Parameter \"fn\">), ('name', <Parameter \"name='file_bases_dict'\">), ('_kw', <Parameter \"**_kw\">)])\n",
      "Skipping: file_bases_dict\n",
      "Checking: xml: <pclass.field.DirectField object at 0x7f4fd2621340>\n",
      "xml: bind functools.partial(<function Meta.__new__.<locals>._bind at 0x7f4fd2448c10>, name='xml') OrderedDict([('fn', <Parameter \"fn\">), ('name', <Parameter \"name='xml'\">), ('_kw', <Parameter \"**_kw\">)])\n",
      "field: xml -> <pclass.field.DirectField object at 0x7f4fd2621340>\n",
      "Setting method: xml: <property object at 0x7f4fd2440d60>\n",
      "Checking: load_xml: None\n",
      "load_xml: bind functools.partial(<function Meta.__new__.<locals>._bind at 0x7f4fd244b670>, name='load_xml') OrderedDict([('fn', <Parameter \"fn\">), ('name', <Parameter \"name='load_xml'\">), ('_kw', <Parameter \"**_kw\">)])\n",
      "Skipping: load_xml\n",
      "Checking: fragments: <pclass.field.Field object at 0x7f4fd26213d0>\n",
      "fragments: bind functools.partial(<function Meta.__new__.<locals>._bind at 0x7f4fd244b310>, name='fragments') OrderedDict([('fn', <Parameter \"fn\">), ('name', <Parameter \"name='fragments'\">), ('_kw', <Parameter \"**_kw\">)])\n",
      "field: fragments -> <pclass.field.Field object at 0x7f4fd26213d0>\n",
      "Setting method: fragments: <property object at 0x7f4fd2440ef0>\n",
      "Fields: ['xml', 'fragments']\n",
      "returning <class '_gist.Commit'>: {'__module__': '_gist', '__qualname__': 'Commit', '__init__': <function Commit.__init__ at 0x7f4fd244ba60>, 'url': <property object at 0x7f4fd24406d0>, 'user': <property object at 0x7f4fd2440720>, 'author': <property object at 0x7f4fd2440770>, 'commit': <property object at 0x7f4fd24407c0>, 'tree': <property object at 0x7f4fd2440810>, 'blobs': <property object at 0x7f4fd2440860>, 'files': <property object at 0x7f4fd24408b0>, 'files_dict': <property object at 0x7f4fd2440900>, 'file_bases_dict': <property object at 0x7f4fd2440950>, 'xml': <property object at 0x7f4fd2440d60>, 'load_xml': None, 'fragments': <property object at 0x7f4fd2440ef0>, '__str__': <function Meta.__new__.<locals>.__str__ at 0x7f4fd244baf0>, '__repr__': <function Meta.__new__.<locals>.__str__ at 0x7f4fd244baf0>}\n",
      "Meta.__new__(<class 'pclass.dircache.Meta'>, Gist, (), {'__module__': '_gist', '__qualname__': 'Gist', 'WWW_URL_PATH_REGEX': '^(?:/(?P<user>[A-Za-z0-9_\\\\-]+))?/(?P<id>[a-f0-9]+)(?:/(?P<commit>[a-f0-9]+))?(?:#(?P<fragment>[A-Za-z0-9_\\\\-]+))?$', 'RAW_URL_PATH_REGEX': '^/(?P<user>[A-Za-z0-9_\\\\-]+)/(?P<id>[a-f0-9]+)/(?P<raw>raw)(?:/(?P<commit>[a-f0-9]+))?(?:/(?P<file>[A-Za-z0-9_\\\\-\\\\.]+))?$', 'URL_PATH_REGEXS': ['^(?:/(?P<user>[A-Za-z0-9_\\\\-]+))?/(?P<id>[a-f0-9]+)(?:/(?P<commit>[a-f0-9]+))?(?:#(?P<fragment>[A-Za-z0-9_\\\\-]+))?$', '^/(?P<user>[A-Za-z0-9_\\\\-]+)/(?P<id>[a-f0-9]+)/(?P<raw>raw)(?:/(?P<commit>[a-f0-9]+))?(?:/(?P<file>[A-Za-z0-9_\\\\-\\\\.]+))?$'], 'ID_LEN': 32, '__init__': <function Gist.__init__ at 0x7f4fd244bca0>, 'from_url': <classmethod object at 0x7f4fd244d2e0>, 'parse_url': <classmethod object at 0x7f4fd244d310>, 'parse_url_path': <classmethod object at 0x7f4fd244d340>, 'from_url_path': <classmethod object at 0x7f4fd244d370>, 'from_dict': <classmethod object at 0x7f4fd244d3a0>, 'git_url': <property object at 0x7f4fd2440f90>, 'url': <property object at 0x7f4fd244f040>, 'module_name': <property object at 0x7f4fd244f090>, 'user': <pclass.field.Field object at 0x7f4fd244d430>, 'xml': <property object at 0x7f4fd244f0e0>, 'clone': <pclass.field.DirectField object at 0x7f4fd244d3d0>, 'commit': <property object at 0x7f4fd244f130>, 'clone_dir': <property object at 0x7f4fd244f180>})\n",
      "cache_root=None\n",
      "Class cache dir: .objs/Gist\n",
      "Checking: __module__: _gist\n",
      "__module__: bind functools.partial(<function Meta.__new__.<locals>._bind at 0x7f4fd244b820>, name='__module__') OrderedDict([('fn', <Parameter \"fn\">), ('name', <Parameter \"name='__module__'\">), ('_kw', <Parameter \"**_kw\">)])\n",
      "Skipping: __module__\n",
      "Checking: __qualname__: Gist\n",
      "__qualname__: bind functools.partial(<function Meta.__new__.<locals>._bind at 0x7f4fd244b4c0>, name='__qualname__') OrderedDict([('fn', <Parameter \"fn\">), ('name', <Parameter \"name='__qualname__'\">), ('_kw', <Parameter \"**_kw\">)])\n",
      "Skipping: __qualname__\n",
      "Checking: WWW_URL_PATH_REGEX: ^(?:/(?P<user>[A-Za-z0-9_\\-]+))?/(?P<id>[a-f0-9]+)(?:/(?P<commit>[a-f0-9]+))?(?:#(?P<fragment>[A-Za-z0-9_\\-]+))?$\n",
      "WWW_URL_PATH_REGEX: bind functools.partial(<function Meta.__new__.<locals>._bind at 0x7f4fd244b820>, name='WWW_URL_PATH_REGEX') OrderedDict([('fn', <Parameter \"fn\">), ('name', <Parameter \"name='WWW_URL_PATH_REGEX'\">), ('_kw', <Parameter \"**_kw\">)])\n",
      "Skipping: WWW_URL_PATH_REGEX\n",
      "Checking: RAW_URL_PATH_REGEX: ^/(?P<user>[A-Za-z0-9_\\-]+)/(?P<id>[a-f0-9]+)/(?P<raw>raw)(?:/(?P<commit>[a-f0-9]+))?(?:/(?P<file>[A-Za-z0-9_\\-\\.]+))?$\n",
      "RAW_URL_PATH_REGEX: bind functools.partial(<function Meta.__new__.<locals>._bind at 0x7f4fd244b280>, name='RAW_URL_PATH_REGEX') OrderedDict([('fn', <Parameter \"fn\">), ('name', <Parameter \"name='RAW_URL_PATH_REGEX'\">), ('_kw', <Parameter \"**_kw\">)])\n",
      "Skipping: RAW_URL_PATH_REGEX\n",
      "Checking: URL_PATH_REGEXS: ['^(?:/(?P<user>[A-Za-z0-9_\\\\-]+))?/(?P<id>[a-f0-9]+)(?:/(?P<commit>[a-f0-9]+))?(?:#(?P<fragment>[A-Za-z0-9_\\\\-]+))?$', '^/(?P<user>[A-Za-z0-9_\\\\-]+)/(?P<id>[a-f0-9]+)/(?P<raw>raw)(?:/(?P<commit>[a-f0-9]+))?(?:/(?P<file>[A-Za-z0-9_\\\\-\\\\.]+))?$']\n",
      "URL_PATH_REGEXS: bind functools.partial(<function Meta.__new__.<locals>._bind at 0x7f4fd244bb80>, name='URL_PATH_REGEXS') OrderedDict([('fn', <Parameter \"fn\">), ('name', <Parameter \"name='URL_PATH_REGEXS'\">), ('_kw', <Parameter \"**_kw\">)])\n",
      "Skipping: URL_PATH_REGEXS\n",
      "Checking: ID_LEN: 32\n",
      "ID_LEN: bind functools.partial(<function Meta.__new__.<locals>._bind at 0x7f4fd2448e50>, name='ID_LEN') OrderedDict([('fn', <Parameter \"fn\">), ('name', <Parameter \"name='ID_LEN'\">), ('_kw', <Parameter \"**_kw\">)])\n",
      "Skipping: ID_LEN\n",
      "Checking: __init__: <function Gist.__init__ at 0x7f4fd244bca0>\n",
      "__init__: bind functools.partial(<function Meta.__new__.<locals>._bind at 0x7f4fd2448700>, name='__init__') OrderedDict([('fn', <Parameter \"fn\">), ('name', <Parameter \"name='__init__'\">), ('_kw', <Parameter \"**_kw\">)])\n",
      "Skipping: __init__\n",
      "Checking: from_url: <classmethod object at 0x7f4fd244d2e0>\n",
      "from_url: bind functools.partial(<function Meta.__new__.<locals>._bind at 0x7f4fd2448550>, name='from_url') OrderedDict([('fn', <Parameter \"fn\">), ('name', <Parameter \"name='from_url'\">), ('_kw', <Parameter \"**_kw\">)])\n",
      "Skipping: from_url\n",
      "Checking: parse_url: <classmethod object at 0x7f4fd244d310>\n",
      "parse_url: bind functools.partial(<function Meta.__new__.<locals>._bind at 0x7f4fd2448820>, name='parse_url') OrderedDict([('fn', <Parameter \"fn\">), ('name', <Parameter \"name='parse_url'\">), ('_kw', <Parameter \"**_kw\">)])\n",
      "Skipping: parse_url\n",
      "Checking: parse_url_path: <classmethod object at 0x7f4fd244d340>\n",
      "parse_url_path: bind functools.partial(<function Meta.__new__.<locals>._bind at 0x7f4fd2448940>, name='parse_url_path') OrderedDict([('fn', <Parameter \"fn\">), ('name', <Parameter \"name='parse_url_path'\">), ('_kw', <Parameter \"**_kw\">)])\n",
      "Skipping: parse_url_path\n",
      "Checking: from_url_path: <classmethod object at 0x7f4fd244d370>\n",
      "from_url_path: bind functools.partial(<function Meta.__new__.<locals>._bind at 0x7f4fd2448ca0>, name='from_url_path') OrderedDict([('fn', <Parameter \"fn\">), ('name', <Parameter \"name='from_url_path'\">), ('_kw', <Parameter \"**_kw\">)])\n",
      "Skipping: from_url_path\n",
      "Checking: from_dict: <classmethod object at 0x7f4fd244d3a0>\n",
      "from_dict: bind functools.partial(<function Meta.__new__.<locals>._bind at 0x7f4fd244bb80>, name='from_dict') OrderedDict([('fn', <Parameter \"fn\">), ('name', <Parameter \"name='from_dict'\">), ('_kw', <Parameter \"**_kw\">)])\n",
      "Skipping: from_dict\n",
      "Checking: git_url: <property object at 0x7f4fd2440f90>\n",
      "git_url: bind functools.partial(<function Meta.__new__.<locals>._bind at 0x7f4fd244b940>, name='git_url') OrderedDict([('fn', <Parameter \"fn\">), ('name', <Parameter \"name='git_url'\">), ('_kw', <Parameter \"**_kw\">)])\n",
      "Skipping: git_url\n",
      "Checking: url: <property object at 0x7f4fd244f040>\n",
      "url: bind functools.partial(<function Meta.__new__.<locals>._bind at 0x7f4fd2448670>, name='url') OrderedDict([('fn', <Parameter \"fn\">), ('name', <Parameter \"name='url'\">), ('_kw', <Parameter \"**_kw\">)])\n",
      "Skipping: url\n",
      "Checking: module_name: <property object at 0x7f4fd244f090>\n",
      "module_name: bind functools.partial(<function Meta.__new__.<locals>._bind at 0x7f4fd24485e0>, name='module_name') OrderedDict([('fn', <Parameter \"fn\">), ('name', <Parameter \"name='module_name'\">), ('_kw', <Parameter \"**_kw\">)])\n",
      "Skipping: module_name\n",
      "Checking: user: <pclass.field.Field object at 0x7f4fd244d430>\n",
      "user: bind functools.partial(<function Meta.__new__.<locals>._bind at 0x7f4fd2448f70>, name='user') OrderedDict([('fn', <Parameter \"fn\">), ('name', <Parameter \"name='user'\">), ('_kw', <Parameter \"**_kw\">)])\n",
      "field: user -> <pclass.field.Field object at 0x7f4fd244d430>\n",
      "Setting method: user: <property object at 0x7f4fd244f860>\n",
      "Checking: xml: <property object at 0x7f4fd244f0e0>\n",
      "xml: bind functools.partial(<function Meta.__new__.<locals>._bind at 0x7f4fd2448790>, name='xml') OrderedDict([('fn', <Parameter \"fn\">), ('name', <Parameter \"name='xml'\">), ('_kw', <Parameter \"**_kw\">)])\n",
      "Skipping: xml\n",
      "Checking: clone: <pclass.field.DirectField object at 0x7f4fd244d3d0>\n",
      "clone: bind functools.partial(<function Meta.__new__.<locals>._bind at 0x7f4fd24484c0>, name='clone') OrderedDict([('fn', <Parameter \"fn\">), ('name', <Parameter \"name='clone'\">), ('_kw', <Parameter \"**_kw\">)])\n",
      "field: clone -> <pclass.field.DirectField object at 0x7f4fd244d3d0>\n",
      "Setting method: clone: <property object at 0x7f4fd244f900>\n",
      "Checking: commit: <property object at 0x7f4fd244f130>\n",
      "commit: bind functools.partial(<function Meta.__new__.<locals>._bind at 0x7f4fd2448c10>, name='commit') OrderedDict([('fn', <Parameter \"fn\">), ('name', <Parameter \"name='commit'\">), ('_kw', <Parameter \"**_kw\">)])\n",
      "Skipping: commit\n",
      "Checking: clone_dir: <property object at 0x7f4fd244f180>\n",
      "clone_dir: bind functools.partial(<function Meta.__new__.<locals>._bind at 0x7f4fd244b940>, name='clone_dir') OrderedDict([('fn', <Parameter \"fn\">), ('name', <Parameter \"name='clone_dir'\">), ('_kw', <Parameter \"**_kw\">)])\n",
      "Skipping: clone_dir\n",
      "Fields: ['user', 'clone']\n",
      "returning <class '_gist.Gist'>: {'__module__': '_gist', '__qualname__': 'Gist', 'WWW_URL_PATH_REGEX': '^(?:/(?P<user>[A-Za-z0-9_\\\\-]+))?/(?P<id>[a-f0-9]+)(?:/(?P<commit>[a-f0-9]+))?(?:#(?P<fragment>[A-Za-z0-9_\\\\-]+))?$', 'RAW_URL_PATH_REGEX': '^/(?P<user>[A-Za-z0-9_\\\\-]+)/(?P<id>[a-f0-9]+)/(?P<raw>raw)(?:/(?P<commit>[a-f0-9]+))?(?:/(?P<file>[A-Za-z0-9_\\\\-\\\\.]+))?$', 'URL_PATH_REGEXS': ['^(?:/(?P<user>[A-Za-z0-9_\\\\-]+))?/(?P<id>[a-f0-9]+)(?:/(?P<commit>[a-f0-9]+))?(?:#(?P<fragment>[A-Za-z0-9_\\\\-]+))?$', '^/(?P<user>[A-Za-z0-9_\\\\-]+)/(?P<id>[a-f0-9]+)/(?P<raw>raw)(?:/(?P<commit>[a-f0-9]+))?(?:/(?P<file>[A-Za-z0-9_\\\\-\\\\.]+))?$'], 'ID_LEN': 32, '__init__': <function Gist.__init__ at 0x7f4fd244b9d0>, 'from_url': <classmethod object at 0x7f4fd244d2e0>, 'parse_url': <classmethod object at 0x7f4fd244d310>, 'parse_url_path': <classmethod object at 0x7f4fd244d340>, 'from_url_path': <classmethod object at 0x7f4fd244d370>, 'from_dict': <classmethod object at 0x7f4fd244d3a0>, 'git_url': <property object at 0x7f4fd2440f90>, 'url': <property object at 0x7f4fd244f040>, 'module_name': <property object at 0x7f4fd244f090>, 'user': <property object at 0x7f4fd244f860>, 'xml': <property object at 0x7f4fd244f0e0>, 'clone': <property object at 0x7f4fd244f900>, 'commit': <property object at 0x7f4fd244f130>, 'clone_dir': <property object at 0x7f4fd244f180>, '__str__': <function Meta.__new__.<locals>.__str__ at 0x7f4fd244b280>, '__repr__': <function Meta.__new__.<locals>.__str__ at 0x7f4fd244b280>}\n",
      "Gist aca1060cb371eb93eb14bb07ee68e4eb: skip_cache=False\n",
      "__init__(self, ('aca1060cb371eb93eb14bb07ee68e4eb',), {'_skip_cache': False})\n",
      "Setting cache id id=aca1060cb371eb93eb14bb07ee68e4eb\n",
      "Set _dir=.objs/Gist/aca1060cb371eb93eb14bb07ee68e4eb for id aca1060cb371eb93eb14bb07ee68e4eb\n",
      "Done with injected __init__\n",
      "wrapped_fn: clone (_clone): field <pclass.field.DirectField object at 0x7f4fd244d3d0>\n",
      "clone_dir params: OrderedDict([('path', <Parameter \"path=None\">), ('odbt', <Parameter \"odbt=<class 'git.db.GitCmdObjectDB'>\">), ('search_parent_directories', <Parameter \"search_parent_directories=False\">), ('expand_vars', <Parameter \"expand_vars=True\">)]) for fn <class 'git.repo.base.Repo'>\n",
      "clone_dir adding path .objs/Gist/aca1060cb371eb93eb14bb07ee68e4eb/clone to <class 'git.repo.base.Repo'>\n",
      "clone_dir: calling <class 'git.repo.base.Repo'> with {'path': PosixPath('.objs/Gist/aca1060cb371eb93eb14bb07ee68e4eb/clone')}\n",
      "Loaded attr from cache: _clone=<git.repo.base.Repo '/ur/.objs/Gist/aca1060cb371eb93eb14bb07ee68e4eb/clone/.git'>\n",
      "__init__(self, ('e23127e85011058ab19f1615ab256f868da8b9b1', Gist(id=aca1060cb371eb93eb14bb07ee68e4eb, clone=<git.repo.base.Repo '/ur/.objs/Gist/aca1060cb371eb93eb14bb07ee68e4eb/clone/.git'>)), {})\n",
      "Setting cache id id=e23127e85011058ab19f1615ab256f868da8b9b1\n",
      "Set _dir=.objs/Commit/e23127e85011058ab19f1615ab256f868da8b9b1 for id e23127e85011058ab19f1615ab256f868da8b9b1\n",
      "Done with injected __init__\n",
      "Building module/pkg for gist Commit(id=e23127e85011058ab19f1615ab256f868da8b9b1) ([]; None)\n",
      "Creating package spec from https://gist.github.com/aca1060cb371eb93eb14bb07ee68e4eb (https://gist.github.com/aca1060cb371eb93eb14bb07ee68e4eb)\n",
      "wrapped_fn: clone (_clone): field <pclass.field.DirectField object at 0x7f4fd244d3d0>\n",
      "Lookup: clone=<git.repo.base.Repo '/ur/.objs/Gist/aca1060cb371eb93eb14bb07ee68e4eb/clone/.git'>\n"
     ]
    },
    {
     "name": "stdout",
     "output_type": "stream",
     "text": [
      "wrapped_fn: clone (_clone): field <pclass.field.DirectField object at 0x7f4fd244d3d0>\n",
      "Lookup: clone=<git.repo.base.Repo '/ur/.objs/Gist/aca1060cb371eb93eb14bb07ee68e4eb/clone/.git'>\n",
      "create_module ModuleSpec(name='gist.aca1060cb371eb93eb14bb07ee68e4eb', loader=<importer.Importer object at 0x7f4fe00ac040>, origin='https://gist.github.com/aca1060cb371eb93eb14bb07ee68e4eb', submodule_search_locations=['/ur/.objs/Gist/aca1060cb371eb93eb14bb07ee68e4eb/clone'])\n",
      "Installing module gist.aca1060cb371eb93eb14bb07ee68e4eb: <module 'gist.aca1060cb371eb93eb14bb07ee68e4eb' (https://gist.github.com/aca1060cb371eb93eb14bb07ee68e4eb)>\n",
      "exec_module <module 'gist.aca1060cb371eb93eb14bb07ee68e4eb' (https://gist.github.com/aca1060cb371eb93eb14bb07ee68e4eb)>\n",
      "wrapped_fn: clone (_clone): field <pclass.field.DirectField object at 0x7f4fd244d3d0>\n",
      "Lookup: clone=<git.repo.base.Repo '/ur/.objs/Gist/aca1060cb371eb93eb14bb07ee68e4eb/clone/.git'>\n",
      "wrapped_fn: clone (_clone): field <pclass.field.DirectField object at 0x7f4fd244d3d0>\n",
      "Lookup: clone=<git.repo.base.Repo '/ur/.objs/Gist/aca1060cb371eb93eb14bb07ee68e4eb/clone/.git'>\n",
      "find_spec: gist.aca1060cb371eb93eb14bb07ee68e4eb.example None None (commit? e23127e85011058ab19f1615ab256f868da8b9b1)\n",
      "Gist aca1060cb371eb93eb14bb07ee68e4eb: skip_cache=False\n",
      "__init__(self, ('aca1060cb371eb93eb14bb07ee68e4eb',), {'_skip_cache': False})\n",
      "Setting cache id id=aca1060cb371eb93eb14bb07ee68e4eb\n",
      "Set _dir=.objs/Gist/aca1060cb371eb93eb14bb07ee68e4eb for id aca1060cb371eb93eb14bb07ee68e4eb\n",
      "Done with injected __init__\n",
      "__init__(self, ('e23127e85011058ab19f1615ab256f868da8b9b1', Gist(id=aca1060cb371eb93eb14bb07ee68e4eb)), {})\n",
      "Setting cache id id=e23127e85011058ab19f1615ab256f868da8b9b1\n",
      "Set _dir=.objs/Commit/e23127e85011058ab19f1615ab256f868da8b9b1 for id e23127e85011058ab19f1615ab256f868da8b9b1\n",
      "Done with injected __init__\n",
      "Building module/pkg for gist Commit(id=e23127e85011058ab19f1615ab256f868da8b9b1) (['example']; None)\n",
      "wrapped_fn: clone (_clone): field <pclass.field.DirectField object at 0x7f4fd244d3d0>\n",
      "clone_dir params: OrderedDict([('path', <Parameter \"path=None\">), ('odbt', <Parameter \"odbt=<class 'git.db.GitCmdObjectDB'>\">), ('search_parent_directories', <Parameter \"search_parent_directories=False\">), ('expand_vars', <Parameter \"expand_vars=True\">)]) for fn <class 'git.repo.base.Repo'>\n",
      "clone_dir adding path .objs/Gist/aca1060cb371eb93eb14bb07ee68e4eb/clone to <class 'git.repo.base.Repo'>\n",
      "clone_dir: calling <class 'git.repo.base.Repo'> with {'path': PosixPath('.objs/Gist/aca1060cb371eb93eb14bb07ee68e4eb/clone')}\n",
      "Loaded attr from cache: _clone=<git.repo.base.Repo '/ur/.objs/Gist/aca1060cb371eb93eb14bb07ee68e4eb/clone/.git'>\n",
      "wrapped_fn: clone (_clone): field <pclass.field.DirectField object at 0x7f4fd244d3d0>\n",
      "Lookup: clone=<git.repo.base.Repo '/ur/.objs/Gist/aca1060cb371eb93eb14bb07ee68e4eb/clone/.git'>\n",
      "wrapped_fn: user (_user): field <pclass.field.Field object at 0x7f4fd244d430> loader <pclass.loader.Loader object at 0x7f4fd2442b80>\n",
      "clone_dir params: OrderedDict([('path', <Parameter \"path\">)]) for fn <function JSONLoader._load at 0x7f4fd261e550>\n",
      "clone_dir adding path .objs/Gist/aca1060cb371eb93eb14bb07ee68e4eb/user to <function JSONLoader._load at 0x7f4fd261e550>\n",
      "clone_dir: calling <function JSONLoader._load at 0x7f4fd261e550> with {'path': PosixPath('.objs/Gist/aca1060cb371eb93eb14bb07ee68e4eb/user')}\n",
      "Loaded attr from cache: _user=ryan-williams\n",
      "Creating package spec from https://gist.githubusercontent.com/ryan-williams/aca1060cb371eb93eb14bb07ee68e4eb/raw/e23127e85011058ab19f1615ab256f868da8b9b1/example.ipynb (https://gist.githubusercontent.com/ryan-williams/aca1060cb371eb93eb14bb07ee68e4eb/raw/e23127e85011058ab19f1615ab256f868da8b9b1/example.ipynb)\n",
      "wrapped_fn: clone (_clone): field <pclass.field.DirectField object at 0x7f4fd244d3d0>\n",
      "Lookup: clone=<git.repo.base.Repo '/ur/.objs/Gist/aca1060cb371eb93eb14bb07ee68e4eb/clone/.git'>\n",
      "Found spec for child module example (gist.aca1060cb371eb93eb14bb07ee68e4eb.example)\n",
      "create_module ModuleSpec(name='gist.aca1060cb371eb93eb14bb07ee68e4eb.example', loader=<importer.Importer object at 0x7f4fe00ac040>, origin='https://gist.githubusercontent.com/ryan-williams/aca1060cb371eb93eb14bb07ee68e4eb/raw/e23127e85011058ab19f1615ab256f868da8b9b1/example.ipynb')\n",
      "Installing module gist.aca1060cb371eb93eb14bb07ee68e4eb.example: <module 'gist.aca1060cb371eb93eb14bb07ee68e4eb.example' (https://gist.githubusercontent.com/ryan-williams/aca1060cb371eb93eb14bb07ee68e4eb/raw/e23127e85011058ab19f1615ab256f868da8b9b1/example.ipynb)>\n",
      "wrapped_fn: clone (_clone): field <pclass.field.DirectField object at 0x7f4fd244d3d0>\n",
      "Lookup: clone=<git.repo.base.Repo '/ur/.objs/Gist/aca1060cb371eb93eb14bb07ee68e4eb/clone/.git'>\n",
      "exec_module <module 'gist.aca1060cb371eb93eb14bb07ee68e4eb.example' (https://gist.githubusercontent.com/ryan-williams/aca1060cb371eb93eb14bb07ee68e4eb/raw/e23127e85011058ab19f1615ab256f868da8b9b1/example.ipynb)>\n",
      "Attempt to exec module gist.aca1060cb371eb93eb14bb07ee68e4eb.example\n",
      "exec notebook: example.ipynb\n",
      "wrapped_fn: clone (_clone): field <pclass.field.DirectField object at 0x7f4fd244d3d0>\n",
      "Lookup: clone=<git.repo.base.Repo '/ur/.objs/Gist/aca1060cb371eb93eb14bb07ee68e4eb/clone/.git'>\n",
      "all symbols!\n",
      "all symbols!\n"
     ]
    },
    {
     "data": {
      "text/plain": [
       "'2020-05-26T00:07:58'"
      ]
     },
     "execution_count": 5,
     "metadata": {},
     "output_type": "execute_result"
    }
   ],
   "source": [
    "from gist.aca1060cb371eb93eb14bb07ee68e4eb.example import *\n",
    "timestamp"
   ]
  }
 ],
 "metadata": {
  "kernelspec": {
   "display_name": "3.8.2",
   "language": "python",
   "name": "3.8.2"
  },
  "language_info": {
   "codemirror_mode": {
    "name": "ipython",
    "version": 3
   },
   "file_extension": ".py",
   "mimetype": "text/x-python",
   "name": "python",
   "nbconvert_exporter": "python",
   "pygments_lexer": "ipython3",
   "version": "3.8.2"
  },
  "papermill": {
   "duration": 1.647799,
   "end_time": "2020-05-30T18:38:10.650837",
   "environment_variables": {},
   "exception": null,
   "input_path": "/ur/reimport-test.ipynb",
   "output_path": "/ur/out/reimport-test.ipynb",
   "parameters": {},
   "start_time": "2020-05-30T18:38:09.003038",
   "version": "2.1.1"
  }
 },
 "nbformat": 4,
 "nbformat_minor": 2
}