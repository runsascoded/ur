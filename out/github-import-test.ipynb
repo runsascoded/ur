{
 "cells": [
  {
   "cell_type": "markdown",
   "metadata": {
    "papermill": {
     "duration": 0.008643,
     "end_time": "2020-06-08T04:22:33.803267",
     "exception": false,
     "start_time": "2020-06-08T04:22:33.794624",
     "status": "completed"
    },
    "tags": []
   },
   "source": [
    "Wildcard-import a module from [a GitHub repo](https://github.com/ryan-williams/jupyter-rc):"
   ]
  },
  {
   "cell_type": "code",
   "execution_count": 1,
   "metadata": {
    "execution": {
     "iopub.execute_input": "2020-06-08T04:22:33.832374Z",
     "iopub.status.busy": "2020-06-08T04:22:33.830985Z",
     "iopub.status.idle": "2020-06-08T04:22:34.977145Z",
     "shell.execute_reply": "2020-06-08T04:22:34.976562Z"
    },
    "papermill": {
     "duration": 1.157954,
     "end_time": "2020-06-08T04:22:34.977240",
     "exception": false,
     "start_time": "2020-06-08T04:22:33.819286",
     "status": "completed"
    },
    "scrolled": false,
    "tags": []
   },
   "outputs": [],
   "source": [
    "import ur\n",
    "from github.ryan_williams.jupyter_rc.context import *"
   ]
  },
  {
   "cell_type": "markdown",
   "metadata": {
    "papermill": {
     "duration": 0.006802,
     "end_time": "2020-06-08T04:22:34.993091",
     "exception": false,
     "start_time": "2020-06-08T04:22:34.986289",
     "status": "completed"
    },
    "tags": []
   },
   "source": [
    "The `catch` function is now in scope:"
   ]
  },
  {
   "cell_type": "code",
   "execution_count": 2,
   "metadata": {
    "execution": {
     "iopub.execute_input": "2020-06-08T04:22:35.011813Z",
     "iopub.status.busy": "2020-06-08T04:22:35.011220Z",
     "iopub.status.idle": "2020-06-08T04:22:35.015914Z",
     "shell.execute_reply": "2020-06-08T04:22:35.015259Z"
    },
    "papermill": {
     "duration": 0.015541,
     "end_time": "2020-06-08T04:22:35.016066",
     "exception": false,
     "start_time": "2020-06-08T04:22:35.000525",
     "status": "completed"
    },
    "tags": []
   },
   "outputs": [],
   "source": [
    "with catch(ValueError): raise ValueError"
   ]
  },
  {
   "cell_type": "markdown",
   "metadata": {
    "papermill": {
     "duration": 0.006737,
     "end_time": "2020-06-08T04:22:35.030705",
     "exception": false,
     "start_time": "2020-06-08T04:22:35.023968",
     "status": "completed"
    },
    "tags": []
   },
   "source": [
    "Direct-import a class from another module:"
   ]
  },
  {
   "cell_type": "code",
   "execution_count": 3,
   "metadata": {
    "execution": {
     "iopub.execute_input": "2020-06-08T04:22:35.052994Z",
     "iopub.status.busy": "2020-06-08T04:22:35.052377Z",
     "iopub.status.idle": "2020-06-08T04:22:35.059176Z",
     "shell.execute_reply": "2020-06-08T04:22:35.058693Z"
    },
    "papermill": {
     "duration": 0.021433,
     "end_time": "2020-06-08T04:22:35.059264",
     "exception": false,
     "start_time": "2020-06-08T04:22:35.037831",
     "status": "completed"
    },
    "tags": []
   },
   "outputs": [
    {
     "data": {
      "text/plain": [
       "{'a': 1, 'b': 2}"
      ]
     },
     "execution_count": 3,
     "metadata": {},
     "output_type": "execute_result"
    }
   ],
   "source": [
    "from github.ryan_williams.jupyter_rc.o import o\n",
    "o(a=1,b=2)"
   ]
  }
 ],
 "metadata": {
  "kernelspec": {
   "display_name": "ur-3.8.2",
   "language": "python",
   "name": "ur-3.8.2"
  },
  "language_info": {
   "codemirror_mode": {
    "name": "ipython",
    "version": 3
   },
   "file_extension": ".py",
   "mimetype": "text/x-python",
   "name": "python",
   "nbconvert_exporter": "python",
   "pygments_lexer": "ipython3",
   "version": "3.8.3"
  },
  "papermill": {
   "duration": 2.343461,
   "end_time": "2020-06-08T04:22:35.178864",
   "environment_variables": {},
   "exception": null,
   "input_path": "/ur/github-import-test.ipynb",
   "output_path": "/ur/out/github-import-test.ipynb",
   "parameters": {},
   "start_time": "2020-06-08T04:22:32.835403",
   "version": "2.1.1"
  }
 },
 "nbformat": 4,
 "nbformat_minor": 2
}