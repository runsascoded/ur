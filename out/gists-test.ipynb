{
 "cells": [
  {
   "cell_type": "markdown",
   "metadata": {
    "papermill": {
     "duration": 0.030163,
     "end_time": "2020-06-08T04:22:10.913397",
     "exception": false,
     "start_time": "2020-06-08T04:22:10.883234",
     "status": "completed"
    },
    "tags": []
   },
   "source": [
    "Verify some behaviors and properties about [the `Gist` class](./_gist/__init__.py) used in this repo:"
   ]
  },
  {
   "cell_type": "code",
   "execution_count": 1,
   "metadata": {
    "execution": {
     "iopub.execute_input": "2020-06-08T04:22:10.963592Z",
     "iopub.status.busy": "2020-06-08T04:22:10.962747Z",
     "iopub.status.idle": "2020-06-08T04:22:11.480698Z",
     "shell.execute_reply": "2020-06-08T04:22:11.480137Z"
    },
    "papermill": {
     "duration": 0.548729,
     "end_time": "2020-06-08T04:22:11.480894",
     "exception": false,
     "start_time": "2020-06-08T04:22:10.932165",
     "status": "completed"
    },
    "scrolled": false,
    "tags": []
   },
   "outputs": [
    {
     "data": {
      "text/plain": [
       "('https://gist.github.com/1288bff2f9e05394a94312010da267bb',\n",
       " 'https://gist.github.com/1288bff2f9e05394a94312010da267bb.git')"
      ]
     },
     "execution_count": 1,
     "metadata": {},
     "output_type": "execute_result"
    }
   ],
   "source": [
    "from _gist import Gist\n",
    "\n",
    "gist_id = '1288bff2f9e05394a94312010da267bb'\n",
    "g = Gist(gist_id)\n",
    "g.www_url, g.git_url"
   ]
  },
  {
   "cell_type": "code",
   "execution_count": 2,
   "metadata": {
    "execution": {
     "iopub.execute_input": "2020-06-08T04:22:11.532039Z",
     "iopub.status.busy": "2020-06-08T04:22:11.531374Z",
     "iopub.status.idle": "2020-06-08T04:22:11.623411Z",
     "shell.execute_reply": "2020-06-08T04:22:11.622980Z"
    },
    "papermill": {
     "duration": 0.11952,
     "end_time": "2020-06-08T04:22:11.623495",
     "exception": false,
     "start_time": "2020-06-08T04:22:11.503975",
     "status": "completed"
    },
    "tags": []
   },
   "outputs": [
    {
     "data": {
      "text/plain": [
       "{'file-a_b-ipynb': 'a_b.ipynb',\n",
       " 'file-c-ipynb': 'c.ipynb',\n",
       " 'file-conv-import-tests-sh': 'conv-import-tests.sh',\n",
       " 'file-d-py': 'd.py',\n",
       " 'file-nb_abs_nb-ipynb': 'nb_abs_nb.ipynb',\n",
       " 'file-nb_abs_py-ipynb': 'nb_abs_py.ipynb',\n",
       " 'file-py_abs_nb-py': 'py_abs_nb.py',\n",
       " 'file-py_abs_py-py': 'py_abs_py.py',\n",
       " 'file-relative-imports-failure-test-ipynb': 'relative-imports-failure-test.ipynb'}"
      ]
     },
     "execution_count": 2,
     "metadata": {},
     "output_type": "execute_result"
    }
   ],
   "source": [
    "g.commit.fragments"
   ]
  },
  {
   "cell_type": "code",
   "execution_count": 3,
   "metadata": {
    "execution": {
     "iopub.execute_input": "2020-06-08T04:22:11.666076Z",
     "iopub.status.busy": "2020-06-08T04:22:11.664029Z",
     "iopub.status.idle": "2020-06-08T04:22:11.736176Z",
     "shell.execute_reply": "2020-06-08T04:22:11.735637Z"
    },
    "papermill": {
     "duration": 0.095809,
     "end_time": "2020-06-08T04:22:11.736279",
     "exception": false,
     "start_time": "2020-06-08T04:22:11.640470",
     "status": "completed"
    },
    "tags": []
   },
   "outputs": [
    {
     "data": {
      "text/plain": [
       "'{\\n \"cells\": [\\n  {\\n   \"cell_type\": \"code\",\\n   \"execution_count\": 3,\\n   \"metadata\": {},\\n   \"outputs\": [],\\n   \"source\": [\\n    \"def a():\\\\n\",\\n    \"    return \\'aaa\\'\"\\n   ]\\n  },\\n  {\\n   \"cell_type\": \"code\",\\n   \"execution_count\": null,\\n   \"metadata\": {},\\n   \"outputs\": [],\\n   \"source\": [\\n    \"def b():\\\\n\",\\n    \"    return \\'bbb\\'\"\\n   ]\\n  }\\n ],\\n \"metadata\": {\\n  \"kernelspec\": {\\n   \"display_name\": \"ur-3.7.4\",\\n   \"language\": \"python\",\\n   \"name\": \"ur-3.7.4\"\\n  },\\n  \"language_info\": {\\n   \"codemirror_mode\": {\\n    \"name\": \"ipython\",\\n    \"version\": 3\\n   },\\n   \"file_extension\": \".py\",\\n   \"mimetype\": \"text/x-python\",\\n   \"name\": \"python\",\\n   \"nbconvert_exporter\": \"python\",\\n   \"pygments_lexer\": \"ipython3\",\\n   \"version\": \"3.7.4\"\\n  }\\n },\\n \"nbformat\": 4,\\n \"nbformat_minor\": 2\\n}\\n'"
      ]
     },
     "execution_count": 3,
     "metadata": {},
     "output_type": "execute_result"
    }
   ],
   "source": [
    "g.commit.files[0].read_text()"
   ]
  },
  {
   "cell_type": "code",
   "execution_count": 4,
   "metadata": {
    "execution": {
     "iopub.execute_input": "2020-06-08T04:22:11.856907Z",
     "iopub.status.busy": "2020-06-08T04:22:11.855738Z",
     "iopub.status.idle": "2020-06-08T04:22:11.993642Z",
     "shell.execute_reply": "2020-06-08T04:22:11.992894Z"
    },
    "papermill": {
     "duration": 0.23502,
     "end_time": "2020-06-08T04:22:11.993775",
     "exception": false,
     "start_time": "2020-06-08T04:22:11.758755",
     "status": "completed"
    },
    "tags": []
   },
   "outputs": [
    {
     "data": {
      "text/plain": [
       "<Element html at 0x7f5b9b7b1900>"
      ]
     },
     "execution_count": 4,
     "metadata": {},
     "output_type": "execute_result"
    }
   ],
   "source": [
    "g.xml"
   ]
  },
  {
   "cell_type": "code",
   "execution_count": 5,
   "metadata": {
    "execution": {
     "iopub.execute_input": "2020-06-08T04:22:12.058583Z",
     "iopub.status.busy": "2020-06-08T04:22:12.055602Z",
     "iopub.status.idle": "2020-06-08T04:22:12.079969Z",
     "shell.execute_reply": "2020-06-08T04:22:12.080340Z"
    },
    "papermill": {
     "duration": 0.051667,
     "end_time": "2020-06-08T04:22:12.080444",
     "exception": false,
     "start_time": "2020-06-08T04:22:12.028777",
     "status": "completed"
    },
    "tags": []
   },
   "outputs": [
    {
     "data": {
      "text/plain": [
       "'ryan.williams@mssm.edu'"
      ]
     },
     "execution_count": 5,
     "metadata": {},
     "output_type": "execute_result"
    }
   ],
   "source": [
    "g.commit.author"
   ]
  },
  {
   "cell_type": "code",
   "execution_count": 6,
   "metadata": {
    "execution": {
     "iopub.execute_input": "2020-06-08T04:22:12.133174Z",
     "iopub.status.busy": "2020-06-08T04:22:12.132354Z",
     "iopub.status.idle": "2020-06-08T04:22:12.143839Z",
     "shell.execute_reply": "2020-06-08T04:22:12.143038Z"
    },
    "papermill": {
     "duration": 0.040094,
     "end_time": "2020-06-08T04:22:12.144049",
     "exception": false,
     "start_time": "2020-06-08T04:22:12.103955",
     "status": "completed"
    },
    "tags": []
   },
   "outputs": [
    {
     "data": {
      "text/plain": [
       "'ryan-williams'"
      ]
     },
     "execution_count": 6,
     "metadata": {},
     "output_type": "execute_result"
    }
   ],
   "source": [
    "g.user"
   ]
  },
  {
   "cell_type": "code",
   "execution_count": 7,
   "metadata": {
    "execution": {
     "iopub.execute_input": "2020-06-08T04:22:12.196507Z",
     "iopub.status.busy": "2020-06-08T04:22:12.195239Z",
     "iopub.status.idle": "2020-06-08T04:22:12.200952Z",
     "shell.execute_reply": "2020-06-08T04:22:12.201793Z"
    },
    "papermill": {
     "duration": 0.036146,
     "end_time": "2020-06-08T04:22:12.202028",
     "exception": false,
     "start_time": "2020-06-08T04:22:12.165882",
     "status": "completed"
    },
    "tags": []
   },
   "outputs": [
    {
     "data": {
      "text/plain": [
       "'https://gist.github.com/1288bff2f9e05394a94312010da267bb.git'"
      ]
     },
     "execution_count": 7,
     "metadata": {},
     "output_type": "execute_result"
    }
   ],
   "source": [
    "g.git_url"
   ]
  },
  {
   "cell_type": "code",
   "execution_count": 8,
   "metadata": {
    "execution": {
     "iopub.execute_input": "2020-06-08T04:22:12.276994Z",
     "iopub.status.busy": "2020-06-08T04:22:12.275392Z",
     "iopub.status.idle": "2020-06-08T04:22:12.517984Z",
     "shell.execute_reply": "2020-06-08T04:22:12.518884Z"
    },
    "papermill": {
     "duration": 0.284926,
     "end_time": "2020-06-08T04:22:12.519008",
     "exception": false,
     "start_time": "2020-06-08T04:22:12.234082",
     "status": "completed"
    },
    "scrolled": false,
    "tags": []
   },
   "outputs": [
    {
     "data": {
      "text/plain": [
       "('aaa', 'bbb', 'ccc')"
      ]
     },
     "execution_count": 8,
     "metadata": {},
     "output_type": "execute_result"
    }
   ],
   "source": [
    "from gist._1288bff2f9e05394a94312010da267bb import *\n",
    "a_b.a(), a_b.b(), c.c()"
   ]
  },
  {
   "cell_type": "code",
   "execution_count": 9,
   "metadata": {
    "execution": {
     "iopub.execute_input": "2020-06-08T04:22:12.577484Z",
     "iopub.status.busy": "2020-06-08T04:22:12.576885Z",
     "iopub.status.idle": "2020-06-08T04:22:12.579983Z",
     "shell.execute_reply": "2020-06-08T04:22:12.579433Z"
    },
    "papermill": {
     "duration": 0.034249,
     "end_time": "2020-06-08T04:22:12.580066",
     "exception": false,
     "start_time": "2020-06-08T04:22:12.545817",
     "status": "completed"
    },
    "tags": []
   },
   "outputs": [],
   "source": [
    "from pathlib import Path"
   ]
  },
  {
   "cell_type": "code",
   "execution_count": 10,
   "metadata": {
    "execution": {
     "iopub.execute_input": "2020-06-08T04:22:12.632601Z",
     "iopub.status.busy": "2020-06-08T04:22:12.630329Z",
     "iopub.status.idle": "2020-06-08T04:22:12.638004Z",
     "shell.execute_reply": "2020-06-08T04:22:12.637404Z"
    },
    "papermill": {
     "duration": 0.038875,
     "end_time": "2020-06-08T04:22:12.638090",
     "exception": false,
     "start_time": "2020-06-08T04:22:12.599215",
     "status": "completed"
    },
    "tags": []
   },
   "outputs": [
    {
     "data": {
      "text/plain": [
       "PosixPath('/ur/.objs/Gist/1288bff2f9e05394a94312010da267bb/clone')"
      ]
     },
     "execution_count": 10,
     "metadata": {},
     "output_type": "execute_result"
    }
   ],
   "source": [
    "Path(g.clone.git_dir).parent"
   ]
  },
  {
   "cell_type": "code",
   "execution_count": 11,
   "metadata": {
    "execution": {
     "iopub.execute_input": "2020-06-08T04:22:12.686923Z",
     "iopub.status.busy": "2020-06-08T04:22:12.685610Z",
     "iopub.status.idle": "2020-06-08T04:22:12.861854Z",
     "shell.execute_reply": "2020-06-08T04:22:12.862274Z"
    },
    "papermill": {
     "duration": 0.201182,
     "end_time": "2020-06-08T04:22:12.862402",
     "exception": false,
     "start_time": "2020-06-08T04:22:12.661220",
     "status": "completed"
    },
    "tags": []
   },
   "outputs": [
    {
     "data": {
      "text/plain": [
       "('aaa', 'bbb')"
      ]
     },
     "execution_count": 11,
     "metadata": {},
     "output_type": "execute_result"
    }
   ],
   "source": [
    "from gists._1288bff2f9e05394a94312010da267bb.a_b import *\n",
    "a(), b()"
   ]
  },
  {
   "cell_type": "code",
   "execution_count": 12,
   "metadata": {
    "execution": {
     "iopub.execute_input": "2020-06-08T04:22:12.919378Z",
     "iopub.status.busy": "2020-06-08T04:22:12.918141Z",
     "iopub.status.idle": "2020-06-08T04:22:12.925131Z",
     "shell.execute_reply": "2020-06-08T04:22:12.926476Z"
    },
    "papermill": {
     "duration": 0.038661,
     "end_time": "2020-06-08T04:22:12.926824",
     "exception": false,
     "start_time": "2020-06-08T04:22:12.888163",
     "status": "completed"
    },
    "tags": []
   },
   "outputs": [
    {
     "data": {
      "text/plain": [
       "(<module 'gists._1288bff2f9e05394a94312010da267bb.a_b' (https://gist.github.com/1288bff2f9e05394a94312010da267bb/001cf9c4ee425e50a822524d2a475ef18c6423d8/a_b.ipynb)>,\n",
       " 'aaa',\n",
       " 'bbb')"
      ]
     },
     "execution_count": 12,
     "metadata": {},
     "output_type": "execute_result"
    }
   ],
   "source": [
    "from gists._1288bff2f9e05394a94312010da267bb import a_b\n",
    "a_b, a_b.a(), a_b.b()"
   ]
  },
  {
   "cell_type": "markdown",
   "metadata": {
    "papermill": {
     "duration": 0.072209,
     "end_time": "2020-06-08T04:22:13.094357",
     "exception": false,
     "start_time": "2020-06-08T04:22:13.022148",
     "status": "completed"
    },
    "tags": []
   },
   "source": [
    "Executes the sibling module `a_b` (from the same Gist \"package\") as well!"
   ]
  },
  {
   "cell_type": "code",
   "execution_count": 13,
   "metadata": {
    "execution": {
     "iopub.execute_input": "2020-06-08T04:22:13.232760Z",
     "iopub.status.busy": "2020-06-08T04:22:13.231586Z",
     "iopub.status.idle": "2020-06-08T04:22:13.252157Z",
     "shell.execute_reply": "2020-06-08T04:22:13.250295Z"
    },
    "papermill": {
     "duration": 0.089491,
     "end_time": "2020-06-08T04:22:13.252716",
     "exception": false,
     "start_time": "2020-06-08T04:22:13.163225",
     "status": "completed"
    },
    "tags": []
   },
   "outputs": [
    {
     "data": {
      "text/plain": [
       "'ccc'"
      ]
     },
     "execution_count": 13,
     "metadata": {},
     "output_type": "execute_result"
    }
   ],
   "source": [
    "from gists._1288bff2f9e05394a94312010da267bb.c import c\n",
    "c()"
   ]
  },
  {
   "cell_type": "code",
   "execution_count": 14,
   "metadata": {
    "execution": {
     "iopub.execute_input": "2020-06-08T04:22:13.439156Z",
     "iopub.status.busy": "2020-06-08T04:22:13.437791Z",
     "iopub.status.idle": "2020-06-08T04:22:13.441841Z",
     "shell.execute_reply": "2020-06-08T04:22:13.443078Z"
    },
    "papermill": {
     "duration": 0.129474,
     "end_time": "2020-06-08T04:22:13.443235",
     "exception": false,
     "start_time": "2020-06-08T04:22:13.313761",
     "status": "completed"
    },
    "tags": []
   },
   "outputs": [
    {
     "data": {
      "text/plain": [
       "'ccc'"
      ]
     },
     "execution_count": 14,
     "metadata": {},
     "output_type": "execute_result"
    }
   ],
   "source": [
    "from gists._1288bff2f9e05394a94312010da267bb.c import c\n",
    "c()"
   ]
  },
  {
   "cell_type": "code",
   "execution_count": 15,
   "metadata": {
    "execution": {
     "iopub.execute_input": "2020-06-08T04:22:13.589603Z",
     "iopub.status.busy": "2020-06-08T04:22:13.587379Z",
     "iopub.status.idle": "2020-06-08T04:22:13.595011Z",
     "shell.execute_reply": "2020-06-08T04:22:13.593506Z"
    },
    "papermill": {
     "duration": 0.104638,
     "end_time": "2020-06-08T04:22:13.595172",
     "exception": false,
     "start_time": "2020-06-08T04:22:13.490534",
     "status": "completed"
    },
    "tags": []
   },
   "outputs": [
    {
     "data": {
      "text/plain": [
       "'ccc'"
      ]
     },
     "execution_count": 15,
     "metadata": {},
     "output_type": "execute_result"
    }
   ],
   "source": [
    "import gists._1288bff2f9e05394a94312010da267bb.c\n",
    "gists._1288bff2f9e05394a94312010da267bb.c.c()"
   ]
  },
  {
   "cell_type": "code",
   "execution_count": 16,
   "metadata": {
    "execution": {
     "iopub.execute_input": "2020-06-08T04:22:13.712712Z",
     "iopub.status.busy": "2020-06-08T04:22:13.711036Z",
     "iopub.status.idle": "2020-06-08T04:22:13.719332Z",
     "shell.execute_reply": "2020-06-08T04:22:13.718695Z"
    },
    "papermill": {
     "duration": 0.051484,
     "end_time": "2020-06-08T04:22:13.719430",
     "exception": false,
     "start_time": "2020-06-08T04:22:13.667946",
     "status": "completed"
    },
    "tags": []
   },
   "outputs": [
    {
     "data": {
      "text/plain": [
       "'aaa'"
      ]
     },
     "execution_count": 16,
     "metadata": {},
     "output_type": "execute_result"
    }
   ],
   "source": [
    "from gists._1288bff2f9e05394a94312010da267bb import a_b as ab\n",
    "ab.a()"
   ]
  }
 ],
 "metadata": {
  "kernelspec": {
   "display_name": "ur-3.7.4",
   "language": "python",
   "name": "ur-3.7.4"
  },
  "language_info": {
   "codemirror_mode": {
    "name": "ipython",
    "version": 3
   },
   "file_extension": ".py",
   "mimetype": "text/x-python",
   "name": "python",
   "nbconvert_exporter": "python",
   "pygments_lexer": "ipython3",
   "version": "3.8.3"
  },
  "papermill": {
   "duration": 5.355121,
   "end_time": "2020-06-08T04:22:14.920678",
   "environment_variables": {},
   "exception": null,
   "input_path": "/ur/gists-test.ipynb",
   "output_path": "/ur/out/gists-test.ipynb",
   "parameters": {},
   "start_time": "2020-06-08T04:22:09.565557",
   "version": "2.1.1"
  }
 },
 "nbformat": 4,
 "nbformat_minor": 2
}