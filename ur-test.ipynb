{
 "cells": [
  {
   "cell_type": "code",
   "execution_count": 1,
   "metadata": {},
   "outputs": [],
   "source": [
    "import nbimporter"
   ]
  },
  {
   "cell_type": "code",
   "execution_count": 3,
   "metadata": {},
   "outputs": [
    {
     "name": "stdout",
     "output_type": "stream",
     "text": [
      "find_module: $nbs.test_nb, $_NamespacePath(['/Users/ryan/c/ur/nbs', '/Users/ryan/c/ur/nbs', '/Users/ryan/c/ur/nbs'])\n",
      "Importing Jupyter notebook from /Users/ryan/c/ur/nbs/test_nb.ipynb\n"
     ]
    }
   ],
   "source": [
    "from nbs.test_nb import foo"
   ]
  },
  {
   "cell_type": "code",
   "execution_count": 2,
   "metadata": {},
   "outputs": [
    {
     "name": "stdout",
     "output_type": "stream",
     "text": [
      "find_module: $nbs.test_nb, $_NamespacePath(['/Users/ryan/c/ur/nbs', '/Users/ryan/c/ur/nbs', '/Users/ryan/c/ur/nbs'])\n",
      "Importing Jupyter notebook from /Users/ryan/c/ur/nbs/test_nb.ipynb\n"
     ]
    }
   ],
   "source": [
    "from nbs import test_nb"
   ]
  },
  {
   "cell_type": "code",
   "execution_count": 2,
   "metadata": {},
   "outputs": [
    {
     "name": "stdout",
     "output_type": "stream",
     "text": [
      "find_module: $nbs.test_nb, $_NamespacePath(['/Users/ryan/c/ur/nbs', '/Users/ryan/c/ur/nbs', '/Users/ryan/c/ur/nbs'])\n",
      "Importing Jupyter notebook from /Users/ryan/c/ur/nbs/test_nb.ipynb\n"
     ]
    }
   ],
   "source": [
    "import nbs.test_nb"
   ]
  },
  {
   "cell_type": "code",
   "execution_count": 3,
   "metadata": {},
   "outputs": [],
   "source": [
    "from sys import meta_path"
   ]
  },
  {
   "cell_type": "code",
   "execution_count": 4,
   "metadata": {},
   "outputs": [
    {
     "data": {
      "text/plain": [
       "[_frozen_importlib.BuiltinImporter,\n",
       " _frozen_importlib.FrozenImporter,\n",
       " _frozen_importlib_external.PathFinder,\n",
       " <six._SixMetaPathImporter at 0x106196bd0>,\n",
       " <importlib_metadata.MetadataPathFinder at 0x109227cd0>,\n",
       " <nbimporter.NotebookFinder at 0x107fe2750>]"
      ]
     },
     "execution_count": 4,
     "metadata": {},
     "output_type": "execute_result"
    }
   ],
   "source": [
    "meta_path"
   ]
  },
  {
   "cell_type": "code",
   "execution_count": 5,
   "metadata": {},
   "outputs": [],
   "source": [
    "nbf = meta_path[-1]"
   ]
  },
  {
   "cell_type": "code",
   "execution_count": 6,
   "metadata": {},
   "outputs": [
    {
     "data": {
      "text/plain": [
       "<nbimporter.NotebookFinder at 0x107fe2750>"
      ]
     },
     "execution_count": 6,
     "metadata": {},
     "output_type": "execute_result"
    }
   ],
   "source": [
    "nbf"
   ]
  },
  {
   "cell_type": "code",
   "execution_count": 7,
   "metadata": {},
   "outputs": [
    {
     "data": {
      "text/plain": [
       "{'/Users/ryan/c/ur/nbs//Users/ryan/c/ur/nbs//Users/ryan/c/ur/nbs': <nbimporter.NotebookLoader at 0x107fabc10>}"
      ]
     },
     "execution_count": 7,
     "metadata": {},
     "output_type": "execute_result"
    }
   ],
   "source": [
    "nbf.loaders"
   ]
  },
  {
   "cell_type": "code",
   "execution_count": 1,
   "metadata": {},
   "outputs": [],
   "source": [
    "%run 'nbs/test_nb.ipynb'"
   ]
  },
  {
   "cell_type": "code",
   "execution_count": 2,
   "metadata": {},
   "outputs": [
    {
     "data": {
      "text/plain": [
       "2"
      ]
     },
     "execution_count": 2,
     "metadata": {},
     "output_type": "execute_result"
    }
   ],
   "source": [
    "foo()"
   ]
  },
  {
   "cell_type": "code",
   "execution_count": 3,
   "metadata": {},
   "outputs": [],
   "source": [
    "from urllib import parse"
   ]
  },
  {
   "cell_type": "code",
   "execution_count": 5,
   "metadata": {},
   "outputs": [],
   "source": [
    "from urllib.parse import urlparse"
   ]
  },
  {
   "cell_type": "code",
   "execution_count": 6,
   "metadata": {},
   "outputs": [
    {
     "data": {
      "text/plain": [
       "ParseResult(scheme='', netloc='', path='a/b/c', params='', query='', fragment='')"
      ]
     },
     "execution_count": 6,
     "metadata": {},
     "output_type": "execute_result"
    }
   ],
   "source": [
    "urlparse('a/b/c')"
   ]
  },
  {
   "cell_type": "code",
   "execution_count": 3,
   "metadata": {},
   "outputs": [
    {
     "data": {
      "text/plain": [
       "{'__name__': 'ur',\n",
       " '__doc__': None,\n",
       " '__package__': None,\n",
       " '__loader__': None,\n",
       " '__spec__': None,\n",
       " '_wrapped': <module 'ur' from '/Users/ryan/c/ur/ur.py'>}"
      ]
     },
     "execution_count": 3,
     "metadata": {},
     "output_type": "execute_result"
    }
   ],
   "source": [
    "ur.__dict__"
   ]
  },
  {
   "cell_type": "code",
   "execution_count": 23,
   "metadata": {},
   "outputs": [],
   "source": [
    "from importlib import reload\n",
    "reload(ur)\n",
    "import ur"
   ]
  },
  {
   "cell_type": "code",
   "execution_count": 1,
   "metadata": {},
   "outputs": [
    {
     "name": "stdout",
     "output_type": "stream",
     "text": [
      "ur top: __name__ __doc__ __package__ __loader__ __spec__ __file__ __cached__ __builtins__ io os sys types ast stack nbformat NamedTemporaryFile urlparse urlretrieve get_ipython InteractiveShell ModuleType\n"
     ]
    }
   ],
   "source": [
    "import ur"
   ]
  },
  {
   "cell_type": "code",
   "execution_count": 2,
   "metadata": {},
   "outputs": [
    {
     "name": "stdout",
     "output_type": "stream",
     "text": [
      "main 1: __name__ __doc__ __package__ __loader__ __spec__ __file__ __cached__ __builtins__ io os sys types ast stack nbformat NamedTemporaryFile urlparse urlretrieve get_ipython InteractiveShell ModuleType CallableModule options find_notebook CellDeleter URLLoader _loader main URLFinder NotebookLoader NotebookFinder\n",
      "load_module: https://gist.githubusercontent.com/ryan-williams/58d781f4ea97e98ee80e6c4af0c8acf3/raw/458a253b9afececff0a6ba11d40b7f79f88ec151/test_nb.ipynb -> ParseResult(scheme='https', netloc='gist.githubusercontent.com', path='/ryan-williams/58d781f4ea97e98ee80e6c4af0c8acf3/raw/458a253b9afececff0a6ba11d40b7f79f88ec151/test_nb.ipynb', params='', query='', fragment='')\n",
      "Fetching https://gist.githubusercontent.com/ryan-williams/58d781f4ea97e98ee80e6c4af0c8acf3/raw/458a253b9afececff0a6ba11d40b7f79f88ec151/test_nb.ipynb to /var/folders/m0/mj2x82p1527349z6mn8btgtr0000gr/T/tmpgpg7k14y\n",
      "cell code:\n",
      "def foo():\n",
      "    return 4\n",
      "\n",
      "main 2: __name__ __doc__ __package__ __loader__ __spec__ __file__ __cached__ __builtins__ io os sys types ast stack nbformat NamedTemporaryFile urlparse urlretrieve get_ipython InteractiveShell ModuleType CallableModule options find_notebook CellDeleter URLLoader _loader main URLFinder NotebookLoader NotebookFinder\n"
     ]
    },
    {
     "data": {
      "text/plain": [
       "<module 'https://gist.githubusercontent.com/ryan-williams/58d781f4ea97e98ee80e6c4af0c8acf3/raw/458a253b9afececff0a6ba11d40b7f79f88ec151/test_nb.ipynb' from 'https://gist.githubusercontent.com/ryan-williams/58d781f4ea97e98ee80e6c4af0c8acf3/raw/458a253b9afececff0a6ba11d40b7f79f88ec151/test_nb.ipynb'>"
      ]
     },
     "execution_count": 2,
     "metadata": {},
     "output_type": "execute_result"
    }
   ],
   "source": [
    "#ur('https://gist.githubusercontent.com/ryan-williams/58d781f4ea97e98ee80e6c4af0c8acf3/raw/458a253b9afececff0a6ba11d40b7f79f88ec151/test_nb.ipynb', '*', _globals=globals())\n",
    "mod = ur('https://gist.githubusercontent.com/ryan-williams/58d781f4ea97e98ee80e6c4af0c8acf3/raw/458a253b9afececff0a6ba11d40b7f79f88ec151/test_nb.ipynb', '*', _globals=globals())\n",
    "mod"
   ]
  },
  {
   "cell_type": "code",
   "execution_count": 3,
   "metadata": {},
   "outputs": [
    {
     "data": {
      "text/plain": [
       "4"
      ]
     },
     "execution_count": 3,
     "metadata": {},
     "output_type": "execute_result"
    }
   ],
   "source": [
    "foo()"
   ]
  },
  {
   "cell_type": "code",
   "execution_count": 5,
   "metadata": {},
   "outputs": [
    {
     "data": {
      "text/plain": [
       "31"
      ]
     },
     "execution_count": 5,
     "metadata": {},
     "output_type": "execute_result"
    }
   ],
   "source": [
    "len(stk)"
   ]
  },
  {
   "cell_type": "code",
   "execution_count": 4,
   "metadata": {},
   "outputs": [
    {
     "data": {
      "text/plain": [
       "28"
      ]
     },
     "execution_count": 4,
     "metadata": {},
     "output_type": "execute_result"
    }
   ],
   "source": [
    "from inspect import stack\n",
    "len(stack())"
   ]
  },
  {
   "cell_type": "code",
   "execution_count": 16,
   "metadata": {},
   "outputs": [
    {
     "data": {
      "text/plain": [
       "<frame at 0x1122fd870, file '<ipython-input-7-508c3db883b3>', line 1, code <module>>"
      ]
     },
     "execution_count": 16,
     "metadata": {},
     "output_type": "execute_result"
    }
   ],
   "source": [
    "f = s[0].frame; f"
   ]
  },
  {
   "cell_type": "code",
   "execution_count": 17,
   "metadata": {},
   "outputs": [
    {
     "data": {
      "text/plain": [
       "{'__name__': '__main__',\n",
       " '__doc__': 'Automatically created module for IPython interactive environment',\n",
       " '__package__': None,\n",
       " '__loader__': None,\n",
       " '__spec__': None,\n",
       " '__builtin__': <module 'builtins' (built-in)>,\n",
       " '__builtins__': <module 'builtins' (built-in)>,\n",
       " '_ih': ['',\n",
       "  'import ur',\n",
       "  \"#ur('https://gist.githubusercontent.com/ryan-williams/58d781f4ea97e98ee80e6c4af0c8acf3/raw/458a253b9afececff0a6ba11d40b7f79f88ec151/test_nb.ipynb', '*', _globals=globals())\\nmod = ur('https://gist.githubusercontent.com/ryan-williams/58d781f4ea97e98ee80e6c4af0c8acf3/raw/458a253b9afececff0a6ba11d40b7f79f88ec151/test_nb.ipynb', '*')\\nmod\",\n",
       "  'mod.foo()',\n",
       "  'from mod import foo',\n",
       "  \"from 'mod' import foo\",\n",
       "  'from inspect import stack',\n",
       "  's = stack(); s',\n",
       "  'len(s)',\n",
       "  'len(s)',\n",
       "  's[0]',\n",
       "  's[0][1]',\n",
       "  's[0][0]',\n",
       "  's[0]',\n",
       "  's[0].frame',\n",
       "  's[0][0]',\n",
       "  'f = s[0].frame; f',\n",
       "  'f.f_globals'],\n",
       " '_oh': {2: <module 'https://gist.githubusercontent.com/ryan-williams/58d781f4ea97e98ee80e6c4af0c8acf3/raw/458a253b9afececff0a6ba11d40b7f79f88ec151/test_nb.ipynb' from 'https://gist.githubusercontent.com/ryan-williams/58d781f4ea97e98ee80e6c4af0c8acf3/raw/458a253b9afececff0a6ba11d40b7f79f88ec151/test_nb.ipynb'>,\n",
       "  3: 4,\n",
       "  7: [FrameInfo(frame=<frame at 0x1122fd870, file '<ipython-input-7-508c3db883b3>', line 1, code <module>>, filename='<ipython-input-7-508c3db883b3>', lineno=1, function='<module>', code_context=['s = stack(); s\\n'], index=0),\n",
       "   FrameInfo(frame=<frame at 0x7f9b1c7e90f0, file '/Users/ryan/.pyenv/versions/ur-3.7.4/lib/python3.7/site-packages/IPython/core/interactiveshell.py', line 3339, code run_code>, filename='/Users/ryan/.pyenv/versions/ur-3.7.4/lib/python3.7/site-packages/IPython/core/interactiveshell.py', lineno=3319, function='run_code', code_context=['                    exec(code_obj, self.user_global_ns, self.user_ns)\\n'], index=0),\n",
       "   FrameInfo(frame=<frame at 0x7f9b1f2c0830, file '/Users/ryan/.pyenv/versions/ur-3.7.4/lib/python3.7/site-packages/IPython/core/interactiveshell.py', line 3264, code run_ast_nodes>, filename='/Users/ryan/.pyenv/versions/ur-3.7.4/lib/python3.7/site-packages/IPython/core/interactiveshell.py', lineno=3242, function='run_ast_nodes', code_context=['                    if (await self.run_code(code, result,  async_=asy)):\\n'], index=0),\n",
       "   FrameInfo(frame=<frame at 0x7f9b1c7c3a90, file '/Users/ryan/.pyenv/versions/ur-3.7.4/lib/python3.7/site-packages/IPython/core/interactiveshell.py', line 3067, code run_cell_async>, filename='/Users/ryan/.pyenv/versions/ur-3.7.4/lib/python3.7/site-packages/IPython/core/interactiveshell.py', lineno=3051, function='run_cell_async', code_context=['                       interactivity=interactivity, compiler=compiler, result=result)\\n'], index=0),\n",
       "   FrameInfo(frame=<frame at 0x11104cbf0, file '/Users/ryan/.pyenv/versions/ur-3.7.4/lib/python3.7/site-packages/IPython/core/async_helpers.py', line 70, code _pseudo_sync_runner>, filename='/Users/ryan/.pyenv/versions/ur-3.7.4/lib/python3.7/site-packages/IPython/core/async_helpers.py', lineno=68, function='_pseudo_sync_runner', code_context=['        coro.send(None)\\n'], index=0),\n",
       "   FrameInfo(frame=<frame at 0x7f9b1f2bfd60, file '/Users/ryan/.pyenv/versions/ur-3.7.4/lib/python3.7/site-packages/IPython/core/interactiveshell.py', line 2874, code _run_cell>, filename='/Users/ryan/.pyenv/versions/ur-3.7.4/lib/python3.7/site-packages/IPython/core/interactiveshell.py', lineno=2874, function='_run_cell', code_context=['            return runner(coro)\\n'], index=0),\n",
       "   FrameInfo(frame=<frame at 0x7f9b1f2bf980, file '/Users/ryan/.pyenv/versions/ur-3.7.4/lib/python3.7/site-packages/IPython/core/interactiveshell.py', line 2853, code run_cell>, filename='/Users/ryan/.pyenv/versions/ur-3.7.4/lib/python3.7/site-packages/IPython/core/interactiveshell.py', lineno=2848, function='run_cell', code_context=['                raw_cell, store_history, silent, shell_futures)\\n'], index=0),\n",
       "   FrameInfo(frame=<frame at 0x111052050, file '/Users/ryan/.pyenv/versions/ur-3.7.4/lib/python3.7/site-packages/ipykernel/zmqshell.py', line 536, code run_cell>, filename='/Users/ryan/.pyenv/versions/ur-3.7.4/lib/python3.7/site-packages/ipykernel/zmqshell.py', lineno=536, function='run_cell', code_context=['        return super(ZMQInteractiveShell, self).run_cell(*args, **kwargs)\\n'], index=0),\n",
       "   FrameInfo(frame=<frame at 0x7f9b1f2bf100, file '/Users/ryan/.pyenv/versions/ur-3.7.4/lib/python3.7/site-packages/ipykernel/ipkernel.py', line 350, code do_execute>, filename='/Users/ryan/.pyenv/versions/ur-3.7.4/lib/python3.7/site-packages/ipykernel/ipkernel.py', lineno=300, function='do_execute', code_context=['                res = shell.run_cell(code, store_history=store_history, silent=silent)\\n'], index=0),\n",
       "   FrameInfo(frame=<frame at 0x7f9b1c7c6e90, file '/Users/ryan/.pyenv/versions/ur-3.7.4/lib/python3.7/site-packages/tornado/gen.py', line 239, code wrapper>, filename='/Users/ryan/.pyenv/versions/ur-3.7.4/lib/python3.7/site-packages/tornado/gen.py', lineno=209, function='wrapper', code_context=['                    yielded = next(result)\\n'], index=0),\n",
       "   FrameInfo(frame=<frame at 0x7f9b1f2bec90, file '/Users/ryan/.pyenv/versions/ur-3.7.4/lib/python3.7/site-packages/ipykernel/kernelbase.py', line 565, code execute_request>, filename='/Users/ryan/.pyenv/versions/ur-3.7.4/lib/python3.7/site-packages/ipykernel/kernelbase.py', lineno=541, function='execute_request', code_context=['                user_expressions, allow_stdin,\\n'], index=0),\n",
       "   FrameInfo(frame=<frame at 0x7f9b1f2d8b20, file '/Users/ryan/.pyenv/versions/ur-3.7.4/lib/python3.7/site-packages/tornado/gen.py', line 239, code wrapper>, filename='/Users/ryan/.pyenv/versions/ur-3.7.4/lib/python3.7/site-packages/tornado/gen.py', lineno=209, function='wrapper', code_context=['                    yielded = next(result)\\n'], index=0),\n",
       "   FrameInfo(frame=<frame at 0x7f9b1c7c3410, file '/Users/ryan/.pyenv/versions/ur-3.7.4/lib/python3.7/site-packages/ipykernel/kernelbase.py', line 282, code dispatch_shell>, filename='/Users/ryan/.pyenv/versions/ur-3.7.4/lib/python3.7/site-packages/ipykernel/kernelbase.py', lineno=268, function='dispatch_shell', code_context=['                yield gen.maybe_future(handler(stream, idents, msg))\\n'], index=0),\n",
       "   FrameInfo(frame=<frame at 0x7f9b1c7c69a0, file '/Users/ryan/.pyenv/versions/ur-3.7.4/lib/python3.7/site-packages/tornado/gen.py', line 239, code wrapper>, filename='/Users/ryan/.pyenv/versions/ur-3.7.4/lib/python3.7/site-packages/tornado/gen.py', lineno=209, function='wrapper', code_context=['                    yielded = next(result)\\n'], index=0),\n",
       "   FrameInfo(frame=<frame at 0x111038c50, file '/Users/ryan/.pyenv/versions/ur-3.7.4/lib/python3.7/site-packages/ipykernel/kernelbase.py', line 361, code process_one>, filename='/Users/ryan/.pyenv/versions/ur-3.7.4/lib/python3.7/site-packages/ipykernel/kernelbase.py', lineno=361, function='process_one', code_context=['        yield gen.maybe_future(dispatch(*args))\\n'], index=0),\n",
       "   FrameInfo(frame=<frame at 0x7f9b1c7c74d0, file '/Users/ryan/.pyenv/versions/ur-3.7.4/lib/python3.7/site-packages/tornado/gen.py', line 768, code run>, filename='/Users/ryan/.pyenv/versions/ur-3.7.4/lib/python3.7/site-packages/tornado/gen.py', lineno=748, function='run', code_context=['                        yielded = self.gen.send(value)\\n'], index=0),\n",
       "   FrameInfo(frame=<frame at 0x11103ca70, file '/Users/ryan/.pyenv/versions/ur-3.7.4/lib/python3.7/site-packages/tornado/gen.py', line 787, code inner>, filename='/Users/ryan/.pyenv/versions/ur-3.7.4/lib/python3.7/site-packages/tornado/gen.py', lineno=787, function='inner', code_context=['                self.run()\\n'], index=0),\n",
       "   FrameInfo(frame=<frame at 0x1123fb850, file '/Users/ryan/.pyenv/versions/ur-3.7.4/lib/python3.7/site-packages/tornado/ioloop.py', line 763, code _run_callback>, filename='/Users/ryan/.pyenv/versions/ur-3.7.4/lib/python3.7/site-packages/tornado/ioloop.py', lineno=743, function='_run_callback', code_context=['            ret = callback()\\n'], index=0),\n",
       "   FrameInfo(frame=<frame at 0x1110407d0, file '/Users/ryan/.pyenv/versions/ur-3.7.4/lib/python3.7/site-packages/tornado/ioloop.py', line 690, code <lambda>>, filename='/Users/ryan/.pyenv/versions/ur-3.7.4/lib/python3.7/site-packages/tornado/ioloop.py', lineno=690, function='<lambda>', code_context=['                lambda f: self._run_callback(functools.partial(callback, future))\\n'], index=0),\n",
       "   FrameInfo(frame=<frame at 0x7f9b1c7b6820, file '/Users/ryan/.pyenv/versions/3.7.4/lib/python3.7/asyncio/events.py', line 101, code _run>, filename='/Users/ryan/.pyenv/versions/3.7.4/lib/python3.7/asyncio/events.py', lineno=88, function='_run', code_context=['            self._context.run(self._callback, *self._args)\\n'], index=0),\n",
       "   FrameInfo(frame=<frame at 0x7f9b1c7b54e0, file '/Users/ryan/.pyenv/versions/3.7.4/lib/python3.7/asyncio/base_events.py', line 1772, code _run_once>, filename='/Users/ryan/.pyenv/versions/3.7.4/lib/python3.7/asyncio/base_events.py', lineno=1771, function='_run_once', code_context=['                handle._run()\\n'], index=0),\n",
       "   FrameInfo(frame=<frame at 0x111039810, file '/Users/ryan/.pyenv/versions/3.7.4/lib/python3.7/asyncio/base_events.py', line 534, code run_forever>, filename='/Users/ryan/.pyenv/versions/3.7.4/lib/python3.7/asyncio/base_events.py', lineno=534, function='run_forever', code_context=['                self._run_once()\\n'], index=0),\n",
       "   FrameInfo(frame=<frame at 0x111039620, file '/Users/ryan/.pyenv/versions/ur-3.7.4/lib/python3.7/site-packages/tornado/platform/asyncio.py', line 148, code start>, filename='/Users/ryan/.pyenv/versions/ur-3.7.4/lib/python3.7/site-packages/tornado/platform/asyncio.py', lineno=148, function='start', code_context=['            self.asyncio_loop.run_forever()\\n'], index=0),\n",
       "   FrameInfo(frame=<frame at 0x7f9b1c637ea0, file '/Users/ryan/.pyenv/versions/ur-3.7.4/lib/python3.7/site-packages/ipykernel/kernelapp.py', line 563, code start>, filename='/Users/ryan/.pyenv/versions/ur-3.7.4/lib/python3.7/site-packages/ipykernel/kernelapp.py', lineno=563, function='start', code_context=['            self.io_loop.start()\\n'], index=0),\n",
       "   FrameInfo(frame=<frame at 0x7f9b1f289310, file '/Users/ryan/.pyenv/versions/ur-3.7.4/lib/python3.7/site-packages/traitlets/config/application.py', line 664, code launch_instance>, filename='/Users/ryan/.pyenv/versions/ur-3.7.4/lib/python3.7/site-packages/traitlets/config/application.py', lineno=664, function='launch_instance', code_context=['        app.start()\\n'], index=0),\n",
       "   FrameInfo(frame=<frame at 0x10ee02590, file '/Users/ryan/.pyenv/versions/ur-3.7.4/lib/python3.7/site-packages/ipykernel_launcher.py', line 16, code <module>>, filename='/Users/ryan/.pyenv/versions/ur-3.7.4/lib/python3.7/site-packages/ipykernel_launcher.py', lineno=16, function='<module>', code_context=['    app.launch_new_instance()\\n'], index=0),\n",
       "   FrameInfo(frame=<frame at 0x7f9b1c417480, file '/Users/ryan/.pyenv/versions/3.7.4/lib/python3.7/runpy.py', line 85, code _run_code>, filename='/Users/ryan/.pyenv/versions/3.7.4/lib/python3.7/runpy.py', lineno=85, function='_run_code', code_context=['    exec(code, run_globals)\\n'], index=0),\n",
       "   FrameInfo(frame=<frame at 0x7f9b1c409ca0, file '/Users/ryan/.pyenv/versions/3.7.4/lib/python3.7/runpy.py', line 193, code _run_module_as_main>, filename='/Users/ryan/.pyenv/versions/3.7.4/lib/python3.7/runpy.py', lineno=193, function='_run_module_as_main', code_context=['                     \"__main__\", mod_spec)\\n'], index=0)],\n",
       "  8: 28,\n",
       "  9: 28,\n",
       "  10: FrameInfo(frame=<frame at 0x1122fd870, file '<ipython-input-7-508c3db883b3>', line 1, code <module>>, filename='<ipython-input-7-508c3db883b3>', lineno=1, function='<module>', code_context=['s = stack(); s\\n'], index=0),\n",
       "  11: '<ipython-input-7-508c3db883b3>',\n",
       "  12: <frame at 0x1122fd870, file '<ipython-input-7-508c3db883b3>', line 1, code <module>>,\n",
       "  13: FrameInfo(frame=<frame at 0x1122fd870, file '<ipython-input-7-508c3db883b3>', line 1, code <module>>, filename='<ipython-input-7-508c3db883b3>', lineno=1, function='<module>', code_context=['s = stack(); s\\n'], index=0),\n",
       "  14: <frame at 0x1122fd870, file '<ipython-input-7-508c3db883b3>', line 1, code <module>>,\n",
       "  15: <frame at 0x1122fd870, file '<ipython-input-7-508c3db883b3>', line 1, code <module>>,\n",
       "  16: <frame at 0x1122fd870, file '<ipython-input-7-508c3db883b3>', line 1, code <module>>},\n",
       " '_dh': ['/Users/ryan/c/ur'],\n",
       " 'In': ['',\n",
       "  'import ur',\n",
       "  \"#ur('https://gist.githubusercontent.com/ryan-williams/58d781f4ea97e98ee80e6c4af0c8acf3/raw/458a253b9afececff0a6ba11d40b7f79f88ec151/test_nb.ipynb', '*', _globals=globals())\\nmod = ur('https://gist.githubusercontent.com/ryan-williams/58d781f4ea97e98ee80e6c4af0c8acf3/raw/458a253b9afececff0a6ba11d40b7f79f88ec151/test_nb.ipynb', '*')\\nmod\",\n",
       "  'mod.foo()',\n",
       "  'from mod import foo',\n",
       "  \"from 'mod' import foo\",\n",
       "  'from inspect import stack',\n",
       "  's = stack(); s',\n",
       "  'len(s)',\n",
       "  'len(s)',\n",
       "  's[0]',\n",
       "  's[0][1]',\n",
       "  's[0][0]',\n",
       "  's[0]',\n",
       "  's[0].frame',\n",
       "  's[0][0]',\n",
       "  'f = s[0].frame; f',\n",
       "  'f.f_globals'],\n",
       " 'Out': {2: <module 'https://gist.githubusercontent.com/ryan-williams/58d781f4ea97e98ee80e6c4af0c8acf3/raw/458a253b9afececff0a6ba11d40b7f79f88ec151/test_nb.ipynb' from 'https://gist.githubusercontent.com/ryan-williams/58d781f4ea97e98ee80e6c4af0c8acf3/raw/458a253b9afececff0a6ba11d40b7f79f88ec151/test_nb.ipynb'>,\n",
       "  3: 4,\n",
       "  7: [FrameInfo(frame=<frame at 0x1122fd870, file '<ipython-input-7-508c3db883b3>', line 1, code <module>>, filename='<ipython-input-7-508c3db883b3>', lineno=1, function='<module>', code_context=['s = stack(); s\\n'], index=0),\n",
       "   FrameInfo(frame=<frame at 0x7f9b1c7e90f0, file '/Users/ryan/.pyenv/versions/ur-3.7.4/lib/python3.7/site-packages/IPython/core/interactiveshell.py', line 3339, code run_code>, filename='/Users/ryan/.pyenv/versions/ur-3.7.4/lib/python3.7/site-packages/IPython/core/interactiveshell.py', lineno=3319, function='run_code', code_context=['                    exec(code_obj, self.user_global_ns, self.user_ns)\\n'], index=0),\n",
       "   FrameInfo(frame=<frame at 0x7f9b1f2c0830, file '/Users/ryan/.pyenv/versions/ur-3.7.4/lib/python3.7/site-packages/IPython/core/interactiveshell.py', line 3264, code run_ast_nodes>, filename='/Users/ryan/.pyenv/versions/ur-3.7.4/lib/python3.7/site-packages/IPython/core/interactiveshell.py', lineno=3242, function='run_ast_nodes', code_context=['                    if (await self.run_code(code, result,  async_=asy)):\\n'], index=0),\n",
       "   FrameInfo(frame=<frame at 0x7f9b1c7c3a90, file '/Users/ryan/.pyenv/versions/ur-3.7.4/lib/python3.7/site-packages/IPython/core/interactiveshell.py', line 3067, code run_cell_async>, filename='/Users/ryan/.pyenv/versions/ur-3.7.4/lib/python3.7/site-packages/IPython/core/interactiveshell.py', lineno=3051, function='run_cell_async', code_context=['                       interactivity=interactivity, compiler=compiler, result=result)\\n'], index=0),\n",
       "   FrameInfo(frame=<frame at 0x11104cbf0, file '/Users/ryan/.pyenv/versions/ur-3.7.4/lib/python3.7/site-packages/IPython/core/async_helpers.py', line 70, code _pseudo_sync_runner>, filename='/Users/ryan/.pyenv/versions/ur-3.7.4/lib/python3.7/site-packages/IPython/core/async_helpers.py', lineno=68, function='_pseudo_sync_runner', code_context=['        coro.send(None)\\n'], index=0),\n",
       "   FrameInfo(frame=<frame at 0x7f9b1f2bfd60, file '/Users/ryan/.pyenv/versions/ur-3.7.4/lib/python3.7/site-packages/IPython/core/interactiveshell.py', line 2874, code _run_cell>, filename='/Users/ryan/.pyenv/versions/ur-3.7.4/lib/python3.7/site-packages/IPython/core/interactiveshell.py', lineno=2874, function='_run_cell', code_context=['            return runner(coro)\\n'], index=0),\n",
       "   FrameInfo(frame=<frame at 0x7f9b1f2bf980, file '/Users/ryan/.pyenv/versions/ur-3.7.4/lib/python3.7/site-packages/IPython/core/interactiveshell.py', line 2853, code run_cell>, filename='/Users/ryan/.pyenv/versions/ur-3.7.4/lib/python3.7/site-packages/IPython/core/interactiveshell.py', lineno=2848, function='run_cell', code_context=['                raw_cell, store_history, silent, shell_futures)\\n'], index=0),\n",
       "   FrameInfo(frame=<frame at 0x111052050, file '/Users/ryan/.pyenv/versions/ur-3.7.4/lib/python3.7/site-packages/ipykernel/zmqshell.py', line 536, code run_cell>, filename='/Users/ryan/.pyenv/versions/ur-3.7.4/lib/python3.7/site-packages/ipykernel/zmqshell.py', lineno=536, function='run_cell', code_context=['        return super(ZMQInteractiveShell, self).run_cell(*args, **kwargs)\\n'], index=0),\n",
       "   FrameInfo(frame=<frame at 0x7f9b1f2bf100, file '/Users/ryan/.pyenv/versions/ur-3.7.4/lib/python3.7/site-packages/ipykernel/ipkernel.py', line 350, code do_execute>, filename='/Users/ryan/.pyenv/versions/ur-3.7.4/lib/python3.7/site-packages/ipykernel/ipkernel.py', lineno=300, function='do_execute', code_context=['                res = shell.run_cell(code, store_history=store_history, silent=silent)\\n'], index=0),\n",
       "   FrameInfo(frame=<frame at 0x7f9b1c7c6e90, file '/Users/ryan/.pyenv/versions/ur-3.7.4/lib/python3.7/site-packages/tornado/gen.py', line 239, code wrapper>, filename='/Users/ryan/.pyenv/versions/ur-3.7.4/lib/python3.7/site-packages/tornado/gen.py', lineno=209, function='wrapper', code_context=['                    yielded = next(result)\\n'], index=0),\n",
       "   FrameInfo(frame=<frame at 0x7f9b1f2bec90, file '/Users/ryan/.pyenv/versions/ur-3.7.4/lib/python3.7/site-packages/ipykernel/kernelbase.py', line 565, code execute_request>, filename='/Users/ryan/.pyenv/versions/ur-3.7.4/lib/python3.7/site-packages/ipykernel/kernelbase.py', lineno=541, function='execute_request', code_context=['                user_expressions, allow_stdin,\\n'], index=0),\n",
       "   FrameInfo(frame=<frame at 0x7f9b1f2d8b20, file '/Users/ryan/.pyenv/versions/ur-3.7.4/lib/python3.7/site-packages/tornado/gen.py', line 239, code wrapper>, filename='/Users/ryan/.pyenv/versions/ur-3.7.4/lib/python3.7/site-packages/tornado/gen.py', lineno=209, function='wrapper', code_context=['                    yielded = next(result)\\n'], index=0),\n",
       "   FrameInfo(frame=<frame at 0x7f9b1c7c3410, file '/Users/ryan/.pyenv/versions/ur-3.7.4/lib/python3.7/site-packages/ipykernel/kernelbase.py', line 282, code dispatch_shell>, filename='/Users/ryan/.pyenv/versions/ur-3.7.4/lib/python3.7/site-packages/ipykernel/kernelbase.py', lineno=268, function='dispatch_shell', code_context=['                yield gen.maybe_future(handler(stream, idents, msg))\\n'], index=0),\n",
       "   FrameInfo(frame=<frame at 0x7f9b1c7c69a0, file '/Users/ryan/.pyenv/versions/ur-3.7.4/lib/python3.7/site-packages/tornado/gen.py', line 239, code wrapper>, filename='/Users/ryan/.pyenv/versions/ur-3.7.4/lib/python3.7/site-packages/tornado/gen.py', lineno=209, function='wrapper', code_context=['                    yielded = next(result)\\n'], index=0),\n",
       "   FrameInfo(frame=<frame at 0x111038c50, file '/Users/ryan/.pyenv/versions/ur-3.7.4/lib/python3.7/site-packages/ipykernel/kernelbase.py', line 361, code process_one>, filename='/Users/ryan/.pyenv/versions/ur-3.7.4/lib/python3.7/site-packages/ipykernel/kernelbase.py', lineno=361, function='process_one', code_context=['        yield gen.maybe_future(dispatch(*args))\\n'], index=0),\n",
       "   FrameInfo(frame=<frame at 0x7f9b1c7c74d0, file '/Users/ryan/.pyenv/versions/ur-3.7.4/lib/python3.7/site-packages/tornado/gen.py', line 768, code run>, filename='/Users/ryan/.pyenv/versions/ur-3.7.4/lib/python3.7/site-packages/tornado/gen.py', lineno=748, function='run', code_context=['                        yielded = self.gen.send(value)\\n'], index=0),\n",
       "   FrameInfo(frame=<frame at 0x11103ca70, file '/Users/ryan/.pyenv/versions/ur-3.7.4/lib/python3.7/site-packages/tornado/gen.py', line 787, code inner>, filename='/Users/ryan/.pyenv/versions/ur-3.7.4/lib/python3.7/site-packages/tornado/gen.py', lineno=787, function='inner', code_context=['                self.run()\\n'], index=0),\n",
       "   FrameInfo(frame=<frame at 0x1123fb850, file '/Users/ryan/.pyenv/versions/ur-3.7.4/lib/python3.7/site-packages/tornado/ioloop.py', line 763, code _run_callback>, filename='/Users/ryan/.pyenv/versions/ur-3.7.4/lib/python3.7/site-packages/tornado/ioloop.py', lineno=743, function='_run_callback', code_context=['            ret = callback()\\n'], index=0),\n",
       "   FrameInfo(frame=<frame at 0x1110407d0, file '/Users/ryan/.pyenv/versions/ur-3.7.4/lib/python3.7/site-packages/tornado/ioloop.py', line 690, code <lambda>>, filename='/Users/ryan/.pyenv/versions/ur-3.7.4/lib/python3.7/site-packages/tornado/ioloop.py', lineno=690, function='<lambda>', code_context=['                lambda f: self._run_callback(functools.partial(callback, future))\\n'], index=0),\n",
       "   FrameInfo(frame=<frame at 0x7f9b1c7b6820, file '/Users/ryan/.pyenv/versions/3.7.4/lib/python3.7/asyncio/events.py', line 101, code _run>, filename='/Users/ryan/.pyenv/versions/3.7.4/lib/python3.7/asyncio/events.py', lineno=88, function='_run', code_context=['            self._context.run(self._callback, *self._args)\\n'], index=0),\n",
       "   FrameInfo(frame=<frame at 0x7f9b1c7b54e0, file '/Users/ryan/.pyenv/versions/3.7.4/lib/python3.7/asyncio/base_events.py', line 1772, code _run_once>, filename='/Users/ryan/.pyenv/versions/3.7.4/lib/python3.7/asyncio/base_events.py', lineno=1771, function='_run_once', code_context=['                handle._run()\\n'], index=0),\n",
       "   FrameInfo(frame=<frame at 0x111039810, file '/Users/ryan/.pyenv/versions/3.7.4/lib/python3.7/asyncio/base_events.py', line 534, code run_forever>, filename='/Users/ryan/.pyenv/versions/3.7.4/lib/python3.7/asyncio/base_events.py', lineno=534, function='run_forever', code_context=['                self._run_once()\\n'], index=0),\n",
       "   FrameInfo(frame=<frame at 0x111039620, file '/Users/ryan/.pyenv/versions/ur-3.7.4/lib/python3.7/site-packages/tornado/platform/asyncio.py', line 148, code start>, filename='/Users/ryan/.pyenv/versions/ur-3.7.4/lib/python3.7/site-packages/tornado/platform/asyncio.py', lineno=148, function='start', code_context=['            self.asyncio_loop.run_forever()\\n'], index=0),\n",
       "   FrameInfo(frame=<frame at 0x7f9b1c637ea0, file '/Users/ryan/.pyenv/versions/ur-3.7.4/lib/python3.7/site-packages/ipykernel/kernelapp.py', line 563, code start>, filename='/Users/ryan/.pyenv/versions/ur-3.7.4/lib/python3.7/site-packages/ipykernel/kernelapp.py', lineno=563, function='start', code_context=['            self.io_loop.start()\\n'], index=0),\n",
       "   FrameInfo(frame=<frame at 0x7f9b1f289310, file '/Users/ryan/.pyenv/versions/ur-3.7.4/lib/python3.7/site-packages/traitlets/config/application.py', line 664, code launch_instance>, filename='/Users/ryan/.pyenv/versions/ur-3.7.4/lib/python3.7/site-packages/traitlets/config/application.py', lineno=664, function='launch_instance', code_context=['        app.start()\\n'], index=0),\n",
       "   FrameInfo(frame=<frame at 0x10ee02590, file '/Users/ryan/.pyenv/versions/ur-3.7.4/lib/python3.7/site-packages/ipykernel_launcher.py', line 16, code <module>>, filename='/Users/ryan/.pyenv/versions/ur-3.7.4/lib/python3.7/site-packages/ipykernel_launcher.py', lineno=16, function='<module>', code_context=['    app.launch_new_instance()\\n'], index=0),\n",
       "   FrameInfo(frame=<frame at 0x7f9b1c417480, file '/Users/ryan/.pyenv/versions/3.7.4/lib/python3.7/runpy.py', line 85, code _run_code>, filename='/Users/ryan/.pyenv/versions/3.7.4/lib/python3.7/runpy.py', lineno=85, function='_run_code', code_context=['    exec(code, run_globals)\\n'], index=0),\n",
       "   FrameInfo(frame=<frame at 0x7f9b1c409ca0, file '/Users/ryan/.pyenv/versions/3.7.4/lib/python3.7/runpy.py', line 193, code _run_module_as_main>, filename='/Users/ryan/.pyenv/versions/3.7.4/lib/python3.7/runpy.py', lineno=193, function='_run_module_as_main', code_context=['                     \"__main__\", mod_spec)\\n'], index=0)],\n",
       "  8: 28,\n",
       "  9: 28,\n",
       "  10: FrameInfo(frame=<frame at 0x1122fd870, file '<ipython-input-7-508c3db883b3>', line 1, code <module>>, filename='<ipython-input-7-508c3db883b3>', lineno=1, function='<module>', code_context=['s = stack(); s\\n'], index=0),\n",
       "  11: '<ipython-input-7-508c3db883b3>',\n",
       "  12: <frame at 0x1122fd870, file '<ipython-input-7-508c3db883b3>', line 1, code <module>>,\n",
       "  13: FrameInfo(frame=<frame at 0x1122fd870, file '<ipython-input-7-508c3db883b3>', line 1, code <module>>, filename='<ipython-input-7-508c3db883b3>', lineno=1, function='<module>', code_context=['s = stack(); s\\n'], index=0),\n",
       "  14: <frame at 0x1122fd870, file '<ipython-input-7-508c3db883b3>', line 1, code <module>>,\n",
       "  15: <frame at 0x1122fd870, file '<ipython-input-7-508c3db883b3>', line 1, code <module>>,\n",
       "  16: <frame at 0x1122fd870, file '<ipython-input-7-508c3db883b3>', line 1, code <module>>},\n",
       " 'get_ipython': <bound method InteractiveShell.get_ipython of <ipykernel.zmqshell.ZMQInteractiveShell object at 0x10f6e4850>>,\n",
       " 'exit': <IPython.core.autocall.ZMQExitAutocall at 0x110f4a3d0>,\n",
       " 'quit': <IPython.core.autocall.ZMQExitAutocall at 0x110f4a3d0>,\n",
       " '_': <frame at 0x1122fd870, file '<ipython-input-7-508c3db883b3>', line 1, code <module>>,\n",
       " '__': <frame at 0x1122fd870, file '<ipython-input-7-508c3db883b3>', line 1, code <module>>,\n",
       " '___': <frame at 0x1122fd870, file '<ipython-input-7-508c3db883b3>', line 1, code <module>>,\n",
       " '_i': 'f = s[0].frame; f',\n",
       " '_ii': 's[0][0]',\n",
       " '_iii': 's[0].frame',\n",
       " '_i1': 'import ur',\n",
       " 'ur': <module 'ur' from '/Users/ryan/c/ur/ur.py'>,\n",
       " '_i2': \"#ur('https://gist.githubusercontent.com/ryan-williams/58d781f4ea97e98ee80e6c4af0c8acf3/raw/458a253b9afececff0a6ba11d40b7f79f88ec151/test_nb.ipynb', '*', _globals=globals())\\nmod = ur('https://gist.githubusercontent.com/ryan-williams/58d781f4ea97e98ee80e6c4af0c8acf3/raw/458a253b9afececff0a6ba11d40b7f79f88ec151/test_nb.ipynb', '*')\\nmod\",\n",
       " 'mod': <module 'https://gist.githubusercontent.com/ryan-williams/58d781f4ea97e98ee80e6c4af0c8acf3/raw/458a253b9afececff0a6ba11d40b7f79f88ec151/test_nb.ipynb' from 'https://gist.githubusercontent.com/ryan-williams/58d781f4ea97e98ee80e6c4af0c8acf3/raw/458a253b9afececff0a6ba11d40b7f79f88ec151/test_nb.ipynb'>,\n",
       " '_2': <module 'https://gist.githubusercontent.com/ryan-williams/58d781f4ea97e98ee80e6c4af0c8acf3/raw/458a253b9afececff0a6ba11d40b7f79f88ec151/test_nb.ipynb' from 'https://gist.githubusercontent.com/ryan-williams/58d781f4ea97e98ee80e6c4af0c8acf3/raw/458a253b9afececff0a6ba11d40b7f79f88ec151/test_nb.ipynb'>,\n",
       " '_i3': 'mod.foo()',\n",
       " '_3': 4,\n",
       " '_i4': 'from mod import foo',\n",
       " '_i5': \"from 'mod' import foo\",\n",
       " '_i6': 'from inspect import stack',\n",
       " 'stack': <function inspect.stack(context=1)>,\n",
       " '_i7': 's = stack(); s',\n",
       " 's': [FrameInfo(frame=<frame at 0x1122fd870, file '<ipython-input-7-508c3db883b3>', line 1, code <module>>, filename='<ipython-input-7-508c3db883b3>', lineno=1, function='<module>', code_context=['s = stack(); s\\n'], index=0),\n",
       "  FrameInfo(frame=<frame at 0x7f9b1c7e90f0, file '/Users/ryan/.pyenv/versions/ur-3.7.4/lib/python3.7/site-packages/IPython/core/interactiveshell.py', line 3339, code run_code>, filename='/Users/ryan/.pyenv/versions/ur-3.7.4/lib/python3.7/site-packages/IPython/core/interactiveshell.py', lineno=3319, function='run_code', code_context=['                    exec(code_obj, self.user_global_ns, self.user_ns)\\n'], index=0),\n",
       "  FrameInfo(frame=<frame at 0x7f9b1f2c0830, file '/Users/ryan/.pyenv/versions/ur-3.7.4/lib/python3.7/site-packages/IPython/core/interactiveshell.py', line 3264, code run_ast_nodes>, filename='/Users/ryan/.pyenv/versions/ur-3.7.4/lib/python3.7/site-packages/IPython/core/interactiveshell.py', lineno=3242, function='run_ast_nodes', code_context=['                    if (await self.run_code(code, result,  async_=asy)):\\n'], index=0),\n",
       "  FrameInfo(frame=<frame at 0x7f9b1c7c3a90, file '/Users/ryan/.pyenv/versions/ur-3.7.4/lib/python3.7/site-packages/IPython/core/interactiveshell.py', line 3067, code run_cell_async>, filename='/Users/ryan/.pyenv/versions/ur-3.7.4/lib/python3.7/site-packages/IPython/core/interactiveshell.py', lineno=3051, function='run_cell_async', code_context=['                       interactivity=interactivity, compiler=compiler, result=result)\\n'], index=0),\n",
       "  FrameInfo(frame=<frame at 0x11104cbf0, file '/Users/ryan/.pyenv/versions/ur-3.7.4/lib/python3.7/site-packages/IPython/core/async_helpers.py', line 70, code _pseudo_sync_runner>, filename='/Users/ryan/.pyenv/versions/ur-3.7.4/lib/python3.7/site-packages/IPython/core/async_helpers.py', lineno=68, function='_pseudo_sync_runner', code_context=['        coro.send(None)\\n'], index=0),\n",
       "  FrameInfo(frame=<frame at 0x7f9b1f2bfd60, file '/Users/ryan/.pyenv/versions/ur-3.7.4/lib/python3.7/site-packages/IPython/core/interactiveshell.py', line 2874, code _run_cell>, filename='/Users/ryan/.pyenv/versions/ur-3.7.4/lib/python3.7/site-packages/IPython/core/interactiveshell.py', lineno=2874, function='_run_cell', code_context=['            return runner(coro)\\n'], index=0),\n",
       "  FrameInfo(frame=<frame at 0x7f9b1f2bf980, file '/Users/ryan/.pyenv/versions/ur-3.7.4/lib/python3.7/site-packages/IPython/core/interactiveshell.py', line 2853, code run_cell>, filename='/Users/ryan/.pyenv/versions/ur-3.7.4/lib/python3.7/site-packages/IPython/core/interactiveshell.py', lineno=2848, function='run_cell', code_context=['                raw_cell, store_history, silent, shell_futures)\\n'], index=0),\n",
       "  FrameInfo(frame=<frame at 0x111052050, file '/Users/ryan/.pyenv/versions/ur-3.7.4/lib/python3.7/site-packages/ipykernel/zmqshell.py', line 536, code run_cell>, filename='/Users/ryan/.pyenv/versions/ur-3.7.4/lib/python3.7/site-packages/ipykernel/zmqshell.py', lineno=536, function='run_cell', code_context=['        return super(ZMQInteractiveShell, self).run_cell(*args, **kwargs)\\n'], index=0),\n",
       "  FrameInfo(frame=<frame at 0x7f9b1f2bf100, file '/Users/ryan/.pyenv/versions/ur-3.7.4/lib/python3.7/site-packages/ipykernel/ipkernel.py', line 350, code do_execute>, filename='/Users/ryan/.pyenv/versions/ur-3.7.4/lib/python3.7/site-packages/ipykernel/ipkernel.py', lineno=300, function='do_execute', code_context=['                res = shell.run_cell(code, store_history=store_history, silent=silent)\\n'], index=0),\n",
       "  FrameInfo(frame=<frame at 0x7f9b1c7c6e90, file '/Users/ryan/.pyenv/versions/ur-3.7.4/lib/python3.7/site-packages/tornado/gen.py', line 239, code wrapper>, filename='/Users/ryan/.pyenv/versions/ur-3.7.4/lib/python3.7/site-packages/tornado/gen.py', lineno=209, function='wrapper', code_context=['                    yielded = next(result)\\n'], index=0),\n",
       "  FrameInfo(frame=<frame at 0x7f9b1f2bec90, file '/Users/ryan/.pyenv/versions/ur-3.7.4/lib/python3.7/site-packages/ipykernel/kernelbase.py', line 565, code execute_request>, filename='/Users/ryan/.pyenv/versions/ur-3.7.4/lib/python3.7/site-packages/ipykernel/kernelbase.py', lineno=541, function='execute_request', code_context=['                user_expressions, allow_stdin,\\n'], index=0),\n",
       "  FrameInfo(frame=<frame at 0x7f9b1f2d8b20, file '/Users/ryan/.pyenv/versions/ur-3.7.4/lib/python3.7/site-packages/tornado/gen.py', line 239, code wrapper>, filename='/Users/ryan/.pyenv/versions/ur-3.7.4/lib/python3.7/site-packages/tornado/gen.py', lineno=209, function='wrapper', code_context=['                    yielded = next(result)\\n'], index=0),\n",
       "  FrameInfo(frame=<frame at 0x7f9b1c7c3410, file '/Users/ryan/.pyenv/versions/ur-3.7.4/lib/python3.7/site-packages/ipykernel/kernelbase.py', line 282, code dispatch_shell>, filename='/Users/ryan/.pyenv/versions/ur-3.7.4/lib/python3.7/site-packages/ipykernel/kernelbase.py', lineno=268, function='dispatch_shell', code_context=['                yield gen.maybe_future(handler(stream, idents, msg))\\n'], index=0),\n",
       "  FrameInfo(frame=<frame at 0x7f9b1c7c69a0, file '/Users/ryan/.pyenv/versions/ur-3.7.4/lib/python3.7/site-packages/tornado/gen.py', line 239, code wrapper>, filename='/Users/ryan/.pyenv/versions/ur-3.7.4/lib/python3.7/site-packages/tornado/gen.py', lineno=209, function='wrapper', code_context=['                    yielded = next(result)\\n'], index=0),\n",
       "  FrameInfo(frame=<frame at 0x111038c50, file '/Users/ryan/.pyenv/versions/ur-3.7.4/lib/python3.7/site-packages/ipykernel/kernelbase.py', line 361, code process_one>, filename='/Users/ryan/.pyenv/versions/ur-3.7.4/lib/python3.7/site-packages/ipykernel/kernelbase.py', lineno=361, function='process_one', code_context=['        yield gen.maybe_future(dispatch(*args))\\n'], index=0),\n",
       "  FrameInfo(frame=<frame at 0x7f9b1c7c74d0, file '/Users/ryan/.pyenv/versions/ur-3.7.4/lib/python3.7/site-packages/tornado/gen.py', line 768, code run>, filename='/Users/ryan/.pyenv/versions/ur-3.7.4/lib/python3.7/site-packages/tornado/gen.py', lineno=748, function='run', code_context=['                        yielded = self.gen.send(value)\\n'], index=0),\n",
       "  FrameInfo(frame=<frame at 0x11103ca70, file '/Users/ryan/.pyenv/versions/ur-3.7.4/lib/python3.7/site-packages/tornado/gen.py', line 787, code inner>, filename='/Users/ryan/.pyenv/versions/ur-3.7.4/lib/python3.7/site-packages/tornado/gen.py', lineno=787, function='inner', code_context=['                self.run()\\n'], index=0),\n",
       "  FrameInfo(frame=<frame at 0x1123fb850, file '/Users/ryan/.pyenv/versions/ur-3.7.4/lib/python3.7/site-packages/tornado/ioloop.py', line 763, code _run_callback>, filename='/Users/ryan/.pyenv/versions/ur-3.7.4/lib/python3.7/site-packages/tornado/ioloop.py', lineno=743, function='_run_callback', code_context=['            ret = callback()\\n'], index=0),\n",
       "  FrameInfo(frame=<frame at 0x1110407d0, file '/Users/ryan/.pyenv/versions/ur-3.7.4/lib/python3.7/site-packages/tornado/ioloop.py', line 690, code <lambda>>, filename='/Users/ryan/.pyenv/versions/ur-3.7.4/lib/python3.7/site-packages/tornado/ioloop.py', lineno=690, function='<lambda>', code_context=['                lambda f: self._run_callback(functools.partial(callback, future))\\n'], index=0),\n",
       "  FrameInfo(frame=<frame at 0x7f9b1c7b6820, file '/Users/ryan/.pyenv/versions/3.7.4/lib/python3.7/asyncio/events.py', line 101, code _run>, filename='/Users/ryan/.pyenv/versions/3.7.4/lib/python3.7/asyncio/events.py', lineno=88, function='_run', code_context=['            self._context.run(self._callback, *self._args)\\n'], index=0),\n",
       "  FrameInfo(frame=<frame at 0x7f9b1c7b54e0, file '/Users/ryan/.pyenv/versions/3.7.4/lib/python3.7/asyncio/base_events.py', line 1772, code _run_once>, filename='/Users/ryan/.pyenv/versions/3.7.4/lib/python3.7/asyncio/base_events.py', lineno=1771, function='_run_once', code_context=['                handle._run()\\n'], index=0),\n",
       "  FrameInfo(frame=<frame at 0x111039810, file '/Users/ryan/.pyenv/versions/3.7.4/lib/python3.7/asyncio/base_events.py', line 534, code run_forever>, filename='/Users/ryan/.pyenv/versions/3.7.4/lib/python3.7/asyncio/base_events.py', lineno=534, function='run_forever', code_context=['                self._run_once()\\n'], index=0),\n",
       "  FrameInfo(frame=<frame at 0x111039620, file '/Users/ryan/.pyenv/versions/ur-3.7.4/lib/python3.7/site-packages/tornado/platform/asyncio.py', line 148, code start>, filename='/Users/ryan/.pyenv/versions/ur-3.7.4/lib/python3.7/site-packages/tornado/platform/asyncio.py', lineno=148, function='start', code_context=['            self.asyncio_loop.run_forever()\\n'], index=0),\n",
       "  FrameInfo(frame=<frame at 0x7f9b1c637ea0, file '/Users/ryan/.pyenv/versions/ur-3.7.4/lib/python3.7/site-packages/ipykernel/kernelapp.py', line 563, code start>, filename='/Users/ryan/.pyenv/versions/ur-3.7.4/lib/python3.7/site-packages/ipykernel/kernelapp.py', lineno=563, function='start', code_context=['            self.io_loop.start()\\n'], index=0),\n",
       "  FrameInfo(frame=<frame at 0x7f9b1f289310, file '/Users/ryan/.pyenv/versions/ur-3.7.4/lib/python3.7/site-packages/traitlets/config/application.py', line 664, code launch_instance>, filename='/Users/ryan/.pyenv/versions/ur-3.7.4/lib/python3.7/site-packages/traitlets/config/application.py', lineno=664, function='launch_instance', code_context=['        app.start()\\n'], index=0),\n",
       "  FrameInfo(frame=<frame at 0x10ee02590, file '/Users/ryan/.pyenv/versions/ur-3.7.4/lib/python3.7/site-packages/ipykernel_launcher.py', line 16, code <module>>, filename='/Users/ryan/.pyenv/versions/ur-3.7.4/lib/python3.7/site-packages/ipykernel_launcher.py', lineno=16, function='<module>', code_context=['    app.launch_new_instance()\\n'], index=0),\n",
       "  FrameInfo(frame=<frame at 0x7f9b1c417480, file '/Users/ryan/.pyenv/versions/3.7.4/lib/python3.7/runpy.py', line 85, code _run_code>, filename='/Users/ryan/.pyenv/versions/3.7.4/lib/python3.7/runpy.py', lineno=85, function='_run_code', code_context=['    exec(code, run_globals)\\n'], index=0),\n",
       "  FrameInfo(frame=<frame at 0x7f9b1c409ca0, file '/Users/ryan/.pyenv/versions/3.7.4/lib/python3.7/runpy.py', line 193, code _run_module_as_main>, filename='/Users/ryan/.pyenv/versions/3.7.4/lib/python3.7/runpy.py', lineno=193, function='_run_module_as_main', code_context=['                     \"__main__\", mod_spec)\\n'], index=0)],\n",
       " '_7': [FrameInfo(frame=<frame at 0x1122fd870, file '<ipython-input-7-508c3db883b3>', line 1, code <module>>, filename='<ipython-input-7-508c3db883b3>', lineno=1, function='<module>', code_context=['s = stack(); s\\n'], index=0),\n",
       "  FrameInfo(frame=<frame at 0x7f9b1c7e90f0, file '/Users/ryan/.pyenv/versions/ur-3.7.4/lib/python3.7/site-packages/IPython/core/interactiveshell.py', line 3339, code run_code>, filename='/Users/ryan/.pyenv/versions/ur-3.7.4/lib/python3.7/site-packages/IPython/core/interactiveshell.py', lineno=3319, function='run_code', code_context=['                    exec(code_obj, self.user_global_ns, self.user_ns)\\n'], index=0),\n",
       "  FrameInfo(frame=<frame at 0x7f9b1f2c0830, file '/Users/ryan/.pyenv/versions/ur-3.7.4/lib/python3.7/site-packages/IPython/core/interactiveshell.py', line 3264, code run_ast_nodes>, filename='/Users/ryan/.pyenv/versions/ur-3.7.4/lib/python3.7/site-packages/IPython/core/interactiveshell.py', lineno=3242, function='run_ast_nodes', code_context=['                    if (await self.run_code(code, result,  async_=asy)):\\n'], index=0),\n",
       "  FrameInfo(frame=<frame at 0x7f9b1c7c3a90, file '/Users/ryan/.pyenv/versions/ur-3.7.4/lib/python3.7/site-packages/IPython/core/interactiveshell.py', line 3067, code run_cell_async>, filename='/Users/ryan/.pyenv/versions/ur-3.7.4/lib/python3.7/site-packages/IPython/core/interactiveshell.py', lineno=3051, function='run_cell_async', code_context=['                       interactivity=interactivity, compiler=compiler, result=result)\\n'], index=0),\n",
       "  FrameInfo(frame=<frame at 0x11104cbf0, file '/Users/ryan/.pyenv/versions/ur-3.7.4/lib/python3.7/site-packages/IPython/core/async_helpers.py', line 70, code _pseudo_sync_runner>, filename='/Users/ryan/.pyenv/versions/ur-3.7.4/lib/python3.7/site-packages/IPython/core/async_helpers.py', lineno=68, function='_pseudo_sync_runner', code_context=['        coro.send(None)\\n'], index=0),\n",
       "  FrameInfo(frame=<frame at 0x7f9b1f2bfd60, file '/Users/ryan/.pyenv/versions/ur-3.7.4/lib/python3.7/site-packages/IPython/core/interactiveshell.py', line 2874, code _run_cell>, filename='/Users/ryan/.pyenv/versions/ur-3.7.4/lib/python3.7/site-packages/IPython/core/interactiveshell.py', lineno=2874, function='_run_cell', code_context=['            return runner(coro)\\n'], index=0),\n",
       "  FrameInfo(frame=<frame at 0x7f9b1f2bf980, file '/Users/ryan/.pyenv/versions/ur-3.7.4/lib/python3.7/site-packages/IPython/core/interactiveshell.py', line 2853, code run_cell>, filename='/Users/ryan/.pyenv/versions/ur-3.7.4/lib/python3.7/site-packages/IPython/core/interactiveshell.py', lineno=2848, function='run_cell', code_context=['                raw_cell, store_history, silent, shell_futures)\\n'], index=0),\n",
       "  FrameInfo(frame=<frame at 0x111052050, file '/Users/ryan/.pyenv/versions/ur-3.7.4/lib/python3.7/site-packages/ipykernel/zmqshell.py', line 536, code run_cell>, filename='/Users/ryan/.pyenv/versions/ur-3.7.4/lib/python3.7/site-packages/ipykernel/zmqshell.py', lineno=536, function='run_cell', code_context=['        return super(ZMQInteractiveShell, self).run_cell(*args, **kwargs)\\n'], index=0),\n",
       "  FrameInfo(frame=<frame at 0x7f9b1f2bf100, file '/Users/ryan/.pyenv/versions/ur-3.7.4/lib/python3.7/site-packages/ipykernel/ipkernel.py', line 350, code do_execute>, filename='/Users/ryan/.pyenv/versions/ur-3.7.4/lib/python3.7/site-packages/ipykernel/ipkernel.py', lineno=300, function='do_execute', code_context=['                res = shell.run_cell(code, store_history=store_history, silent=silent)\\n'], index=0),\n",
       "  FrameInfo(frame=<frame at 0x7f9b1c7c6e90, file '/Users/ryan/.pyenv/versions/ur-3.7.4/lib/python3.7/site-packages/tornado/gen.py', line 239, code wrapper>, filename='/Users/ryan/.pyenv/versions/ur-3.7.4/lib/python3.7/site-packages/tornado/gen.py', lineno=209, function='wrapper', code_context=['                    yielded = next(result)\\n'], index=0),\n",
       "  FrameInfo(frame=<frame at 0x7f9b1f2bec90, file '/Users/ryan/.pyenv/versions/ur-3.7.4/lib/python3.7/site-packages/ipykernel/kernelbase.py', line 565, code execute_request>, filename='/Users/ryan/.pyenv/versions/ur-3.7.4/lib/python3.7/site-packages/ipykernel/kernelbase.py', lineno=541, function='execute_request', code_context=['                user_expressions, allow_stdin,\\n'], index=0),\n",
       "  FrameInfo(frame=<frame at 0x7f9b1f2d8b20, file '/Users/ryan/.pyenv/versions/ur-3.7.4/lib/python3.7/site-packages/tornado/gen.py', line 239, code wrapper>, filename='/Users/ryan/.pyenv/versions/ur-3.7.4/lib/python3.7/site-packages/tornado/gen.py', lineno=209, function='wrapper', code_context=['                    yielded = next(result)\\n'], index=0),\n",
       "  FrameInfo(frame=<frame at 0x7f9b1c7c3410, file '/Users/ryan/.pyenv/versions/ur-3.7.4/lib/python3.7/site-packages/ipykernel/kernelbase.py', line 282, code dispatch_shell>, filename='/Users/ryan/.pyenv/versions/ur-3.7.4/lib/python3.7/site-packages/ipykernel/kernelbase.py', lineno=268, function='dispatch_shell', code_context=['                yield gen.maybe_future(handler(stream, idents, msg))\\n'], index=0),\n",
       "  FrameInfo(frame=<frame at 0x7f9b1c7c69a0, file '/Users/ryan/.pyenv/versions/ur-3.7.4/lib/python3.7/site-packages/tornado/gen.py', line 239, code wrapper>, filename='/Users/ryan/.pyenv/versions/ur-3.7.4/lib/python3.7/site-packages/tornado/gen.py', lineno=209, function='wrapper', code_context=['                    yielded = next(result)\\n'], index=0),\n",
       "  FrameInfo(frame=<frame at 0x111038c50, file '/Users/ryan/.pyenv/versions/ur-3.7.4/lib/python3.7/site-packages/ipykernel/kernelbase.py', line 361, code process_one>, filename='/Users/ryan/.pyenv/versions/ur-3.7.4/lib/python3.7/site-packages/ipykernel/kernelbase.py', lineno=361, function='process_one', code_context=['        yield gen.maybe_future(dispatch(*args))\\n'], index=0),\n",
       "  FrameInfo(frame=<frame at 0x7f9b1c7c74d0, file '/Users/ryan/.pyenv/versions/ur-3.7.4/lib/python3.7/site-packages/tornado/gen.py', line 768, code run>, filename='/Users/ryan/.pyenv/versions/ur-3.7.4/lib/python3.7/site-packages/tornado/gen.py', lineno=748, function='run', code_context=['                        yielded = self.gen.send(value)\\n'], index=0),\n",
       "  FrameInfo(frame=<frame at 0x11103ca70, file '/Users/ryan/.pyenv/versions/ur-3.7.4/lib/python3.7/site-packages/tornado/gen.py', line 787, code inner>, filename='/Users/ryan/.pyenv/versions/ur-3.7.4/lib/python3.7/site-packages/tornado/gen.py', lineno=787, function='inner', code_context=['                self.run()\\n'], index=0),\n",
       "  FrameInfo(frame=<frame at 0x1123fb850, file '/Users/ryan/.pyenv/versions/ur-3.7.4/lib/python3.7/site-packages/tornado/ioloop.py', line 763, code _run_callback>, filename='/Users/ryan/.pyenv/versions/ur-3.7.4/lib/python3.7/site-packages/tornado/ioloop.py', lineno=743, function='_run_callback', code_context=['            ret = callback()\\n'], index=0),\n",
       "  FrameInfo(frame=<frame at 0x1110407d0, file '/Users/ryan/.pyenv/versions/ur-3.7.4/lib/python3.7/site-packages/tornado/ioloop.py', line 690, code <lambda>>, filename='/Users/ryan/.pyenv/versions/ur-3.7.4/lib/python3.7/site-packages/tornado/ioloop.py', lineno=690, function='<lambda>', code_context=['                lambda f: self._run_callback(functools.partial(callback, future))\\n'], index=0),\n",
       "  FrameInfo(frame=<frame at 0x7f9b1c7b6820, file '/Users/ryan/.pyenv/versions/3.7.4/lib/python3.7/asyncio/events.py', line 101, code _run>, filename='/Users/ryan/.pyenv/versions/3.7.4/lib/python3.7/asyncio/events.py', lineno=88, function='_run', code_context=['            self._context.run(self._callback, *self._args)\\n'], index=0),\n",
       "  FrameInfo(frame=<frame at 0x7f9b1c7b54e0, file '/Users/ryan/.pyenv/versions/3.7.4/lib/python3.7/asyncio/base_events.py', line 1772, code _run_once>, filename='/Users/ryan/.pyenv/versions/3.7.4/lib/python3.7/asyncio/base_events.py', lineno=1771, function='_run_once', code_context=['                handle._run()\\n'], index=0),\n",
       "  FrameInfo(frame=<frame at 0x111039810, file '/Users/ryan/.pyenv/versions/3.7.4/lib/python3.7/asyncio/base_events.py', line 534, code run_forever>, filename='/Users/ryan/.pyenv/versions/3.7.4/lib/python3.7/asyncio/base_events.py', lineno=534, function='run_forever', code_context=['                self._run_once()\\n'], index=0),\n",
       "  FrameInfo(frame=<frame at 0x111039620, file '/Users/ryan/.pyenv/versions/ur-3.7.4/lib/python3.7/site-packages/tornado/platform/asyncio.py', line 148, code start>, filename='/Users/ryan/.pyenv/versions/ur-3.7.4/lib/python3.7/site-packages/tornado/platform/asyncio.py', lineno=148, function='start', code_context=['            self.asyncio_loop.run_forever()\\n'], index=0),\n",
       "  FrameInfo(frame=<frame at 0x7f9b1c637ea0, file '/Users/ryan/.pyenv/versions/ur-3.7.4/lib/python3.7/site-packages/ipykernel/kernelapp.py', line 563, code start>, filename='/Users/ryan/.pyenv/versions/ur-3.7.4/lib/python3.7/site-packages/ipykernel/kernelapp.py', lineno=563, function='start', code_context=['            self.io_loop.start()\\n'], index=0),\n",
       "  FrameInfo(frame=<frame at 0x7f9b1f289310, file '/Users/ryan/.pyenv/versions/ur-3.7.4/lib/python3.7/site-packages/traitlets/config/application.py', line 664, code launch_instance>, filename='/Users/ryan/.pyenv/versions/ur-3.7.4/lib/python3.7/site-packages/traitlets/config/application.py', lineno=664, function='launch_instance', code_context=['        app.start()\\n'], index=0),\n",
       "  FrameInfo(frame=<frame at 0x10ee02590, file '/Users/ryan/.pyenv/versions/ur-3.7.4/lib/python3.7/site-packages/ipykernel_launcher.py', line 16, code <module>>, filename='/Users/ryan/.pyenv/versions/ur-3.7.4/lib/python3.7/site-packages/ipykernel_launcher.py', lineno=16, function='<module>', code_context=['    app.launch_new_instance()\\n'], index=0),\n",
       "  FrameInfo(frame=<frame at 0x7f9b1c417480, file '/Users/ryan/.pyenv/versions/3.7.4/lib/python3.7/runpy.py', line 85, code _run_code>, filename='/Users/ryan/.pyenv/versions/3.7.4/lib/python3.7/runpy.py', lineno=85, function='_run_code', code_context=['    exec(code, run_globals)\\n'], index=0),\n",
       "  FrameInfo(frame=<frame at 0x7f9b1c409ca0, file '/Users/ryan/.pyenv/versions/3.7.4/lib/python3.7/runpy.py', line 193, code _run_module_as_main>, filename='/Users/ryan/.pyenv/versions/3.7.4/lib/python3.7/runpy.py', lineno=193, function='_run_module_as_main', code_context=['                     \"__main__\", mod_spec)\\n'], index=0)],\n",
       " '_i8': 'len(s)',\n",
       " '_8': 28,\n",
       " '_i9': 'len(s)',\n",
       " '_9': 28,\n",
       " '_i10': 's[0]',\n",
       " '_10': FrameInfo(frame=<frame at 0x1122fd870, file '<ipython-input-7-508c3db883b3>', line 1, code <module>>, filename='<ipython-input-7-508c3db883b3>', lineno=1, function='<module>', code_context=['s = stack(); s\\n'], index=0),\n",
       " '_i11': 's[0][1]',\n",
       " '_11': '<ipython-input-7-508c3db883b3>',\n",
       " '_i12': 's[0][0]',\n",
       " '_12': <frame at 0x1122fd870, file '<ipython-input-7-508c3db883b3>', line 1, code <module>>,\n",
       " '_i13': 's[0]',\n",
       " '_13': FrameInfo(frame=<frame at 0x1122fd870, file '<ipython-input-7-508c3db883b3>', line 1, code <module>>, filename='<ipython-input-7-508c3db883b3>', lineno=1, function='<module>', code_context=['s = stack(); s\\n'], index=0),\n",
       " '_i14': 's[0].frame',\n",
       " '_14': <frame at 0x1122fd870, file '<ipython-input-7-508c3db883b3>', line 1, code <module>>,\n",
       " '_i15': 's[0][0]',\n",
       " '_15': <frame at 0x1122fd870, file '<ipython-input-7-508c3db883b3>', line 1, code <module>>,\n",
       " '_i16': 'f = s[0].frame; f',\n",
       " 'f': <frame at 0x1122fd870, file '<ipython-input-7-508c3db883b3>', line 1, code <module>>,\n",
       " '_16': <frame at 0x1122fd870, file '<ipython-input-7-508c3db883b3>', line 1, code <module>>,\n",
       " '_i17': 'f.f_globals'}"
      ]
     },
     "execution_count": 17,
     "metadata": {},
     "output_type": "execute_result"
    }
   ],
   "source": [
    "f.f_globals"
   ]
  },
  {
   "cell_type": "code",
   "execution_count": 15,
   "metadata": {},
   "outputs": [
    {
     "data": {
      "text/plain": [
       "<frame at 0x1122fd870, file '<ipython-input-7-508c3db883b3>', line 1, code <module>>"
      ]
     },
     "execution_count": 15,
     "metadata": {},
     "output_type": "execute_result"
    }
   ],
   "source": [
    "s[0][0]"
   ]
  },
  {
   "cell_type": "code",
   "execution_count": 9,
   "metadata": {},
   "outputs": [
    {
     "data": {
      "text/plain": [
       "28"
      ]
     },
     "execution_count": 9,
     "metadata": {},
     "output_type": "execute_result"
    }
   ],
   "source": [
    "len(s)"
   ]
  },
  {
   "cell_type": "code",
   "execution_count": 7,
   "metadata": {
    "scrolled": true
   },
   "outputs": [
    {
     "data": {
      "text/plain": [
       "[FrameInfo(frame=<frame at 0x1122fd870, file '<ipython-input-7-508c3db883b3>', line 1, code <module>>, filename='<ipython-input-7-508c3db883b3>', lineno=1, function='<module>', code_context=['s = stack(); s\\n'], index=0),\n",
       " FrameInfo(frame=<frame at 0x7f9b1c7e90f0, file '/Users/ryan/.pyenv/versions/ur-3.7.4/lib/python3.7/site-packages/IPython/core/interactiveshell.py', line 3339, code run_code>, filename='/Users/ryan/.pyenv/versions/ur-3.7.4/lib/python3.7/site-packages/IPython/core/interactiveshell.py', lineno=3319, function='run_code', code_context=['                    exec(code_obj, self.user_global_ns, self.user_ns)\\n'], index=0),\n",
       " FrameInfo(frame=<frame at 0x7f9b1f2c0830, file '/Users/ryan/.pyenv/versions/ur-3.7.4/lib/python3.7/site-packages/IPython/core/interactiveshell.py', line 3242, code run_ast_nodes>, filename='/Users/ryan/.pyenv/versions/ur-3.7.4/lib/python3.7/site-packages/IPython/core/interactiveshell.py', lineno=3242, function='run_ast_nodes', code_context=['                    if (await self.run_code(code, result,  async_=asy)):\\n'], index=0),\n",
       " FrameInfo(frame=<frame at 0x7f9b1c7c3a90, file '/Users/ryan/.pyenv/versions/ur-3.7.4/lib/python3.7/site-packages/IPython/core/interactiveshell.py', line 3051, code run_cell_async>, filename='/Users/ryan/.pyenv/versions/ur-3.7.4/lib/python3.7/site-packages/IPython/core/interactiveshell.py', lineno=3051, function='run_cell_async', code_context=['                       interactivity=interactivity, compiler=compiler, result=result)\\n'], index=0),\n",
       " FrameInfo(frame=<frame at 0x11104cbf0, file '/Users/ryan/.pyenv/versions/ur-3.7.4/lib/python3.7/site-packages/IPython/core/async_helpers.py', line 68, code _pseudo_sync_runner>, filename='/Users/ryan/.pyenv/versions/ur-3.7.4/lib/python3.7/site-packages/IPython/core/async_helpers.py', lineno=68, function='_pseudo_sync_runner', code_context=['        coro.send(None)\\n'], index=0),\n",
       " FrameInfo(frame=<frame at 0x7f9b1f2bfd60, file '/Users/ryan/.pyenv/versions/ur-3.7.4/lib/python3.7/site-packages/IPython/core/interactiveshell.py', line 2874, code _run_cell>, filename='/Users/ryan/.pyenv/versions/ur-3.7.4/lib/python3.7/site-packages/IPython/core/interactiveshell.py', lineno=2874, function='_run_cell', code_context=['            return runner(coro)\\n'], index=0),\n",
       " FrameInfo(frame=<frame at 0x7f9b1f2bf980, file '/Users/ryan/.pyenv/versions/ur-3.7.4/lib/python3.7/site-packages/IPython/core/interactiveshell.py', line 2848, code run_cell>, filename='/Users/ryan/.pyenv/versions/ur-3.7.4/lib/python3.7/site-packages/IPython/core/interactiveshell.py', lineno=2848, function='run_cell', code_context=['                raw_cell, store_history, silent, shell_futures)\\n'], index=0),\n",
       " FrameInfo(frame=<frame at 0x111052050, file '/Users/ryan/.pyenv/versions/ur-3.7.4/lib/python3.7/site-packages/ipykernel/zmqshell.py', line 536, code run_cell>, filename='/Users/ryan/.pyenv/versions/ur-3.7.4/lib/python3.7/site-packages/ipykernel/zmqshell.py', lineno=536, function='run_cell', code_context=['        return super(ZMQInteractiveShell, self).run_cell(*args, **kwargs)\\n'], index=0),\n",
       " FrameInfo(frame=<frame at 0x7f9b1f2bf100, file '/Users/ryan/.pyenv/versions/ur-3.7.4/lib/python3.7/site-packages/ipykernel/ipkernel.py', line 300, code do_execute>, filename='/Users/ryan/.pyenv/versions/ur-3.7.4/lib/python3.7/site-packages/ipykernel/ipkernel.py', lineno=300, function='do_execute', code_context=['                res = shell.run_cell(code, store_history=store_history, silent=silent)\\n'], index=0),\n",
       " FrameInfo(frame=<frame at 0x7f9b1c7c6e90, file '/Users/ryan/.pyenv/versions/ur-3.7.4/lib/python3.7/site-packages/tornado/gen.py', line 209, code wrapper>, filename='/Users/ryan/.pyenv/versions/ur-3.7.4/lib/python3.7/site-packages/tornado/gen.py', lineno=209, function='wrapper', code_context=['                    yielded = next(result)\\n'], index=0),\n",
       " FrameInfo(frame=<frame at 0x7f9b1f2bec90, file '/Users/ryan/.pyenv/versions/ur-3.7.4/lib/python3.7/site-packages/ipykernel/kernelbase.py', line 541, code execute_request>, filename='/Users/ryan/.pyenv/versions/ur-3.7.4/lib/python3.7/site-packages/ipykernel/kernelbase.py', lineno=541, function='execute_request', code_context=['                user_expressions, allow_stdin,\\n'], index=0),\n",
       " FrameInfo(frame=<frame at 0x7f9b1f2d8b20, file '/Users/ryan/.pyenv/versions/ur-3.7.4/lib/python3.7/site-packages/tornado/gen.py', line 209, code wrapper>, filename='/Users/ryan/.pyenv/versions/ur-3.7.4/lib/python3.7/site-packages/tornado/gen.py', lineno=209, function='wrapper', code_context=['                    yielded = next(result)\\n'], index=0),\n",
       " FrameInfo(frame=<frame at 0x7f9b1c7c3410, file '/Users/ryan/.pyenv/versions/ur-3.7.4/lib/python3.7/site-packages/ipykernel/kernelbase.py', line 268, code dispatch_shell>, filename='/Users/ryan/.pyenv/versions/ur-3.7.4/lib/python3.7/site-packages/ipykernel/kernelbase.py', lineno=268, function='dispatch_shell', code_context=['                yield gen.maybe_future(handler(stream, idents, msg))\\n'], index=0),\n",
       " FrameInfo(frame=<frame at 0x7f9b1c7c69a0, file '/Users/ryan/.pyenv/versions/ur-3.7.4/lib/python3.7/site-packages/tornado/gen.py', line 209, code wrapper>, filename='/Users/ryan/.pyenv/versions/ur-3.7.4/lib/python3.7/site-packages/tornado/gen.py', lineno=209, function='wrapper', code_context=['                    yielded = next(result)\\n'], index=0),\n",
       " FrameInfo(frame=<frame at 0x111038c50, file '/Users/ryan/.pyenv/versions/ur-3.7.4/lib/python3.7/site-packages/ipykernel/kernelbase.py', line 361, code process_one>, filename='/Users/ryan/.pyenv/versions/ur-3.7.4/lib/python3.7/site-packages/ipykernel/kernelbase.py', lineno=361, function='process_one', code_context=['        yield gen.maybe_future(dispatch(*args))\\n'], index=0),\n",
       " FrameInfo(frame=<frame at 0x7f9b1c7c74d0, file '/Users/ryan/.pyenv/versions/ur-3.7.4/lib/python3.7/site-packages/tornado/gen.py', line 748, code run>, filename='/Users/ryan/.pyenv/versions/ur-3.7.4/lib/python3.7/site-packages/tornado/gen.py', lineno=748, function='run', code_context=['                        yielded = self.gen.send(value)\\n'], index=0),\n",
       " FrameInfo(frame=<frame at 0x11103ca70, file '/Users/ryan/.pyenv/versions/ur-3.7.4/lib/python3.7/site-packages/tornado/gen.py', line 787, code inner>, filename='/Users/ryan/.pyenv/versions/ur-3.7.4/lib/python3.7/site-packages/tornado/gen.py', lineno=787, function='inner', code_context=['                self.run()\\n'], index=0),\n",
       " FrameInfo(frame=<frame at 0x1123fb850, file '/Users/ryan/.pyenv/versions/ur-3.7.4/lib/python3.7/site-packages/tornado/ioloop.py', line 743, code _run_callback>, filename='/Users/ryan/.pyenv/versions/ur-3.7.4/lib/python3.7/site-packages/tornado/ioloop.py', lineno=743, function='_run_callback', code_context=['            ret = callback()\\n'], index=0),\n",
       " FrameInfo(frame=<frame at 0x1110407d0, file '/Users/ryan/.pyenv/versions/ur-3.7.4/lib/python3.7/site-packages/tornado/ioloop.py', line 690, code <lambda>>, filename='/Users/ryan/.pyenv/versions/ur-3.7.4/lib/python3.7/site-packages/tornado/ioloop.py', lineno=690, function='<lambda>', code_context=['                lambda f: self._run_callback(functools.partial(callback, future))\\n'], index=0),\n",
       " FrameInfo(frame=<frame at 0x7f9b1c7b6820, file '/Users/ryan/.pyenv/versions/3.7.4/lib/python3.7/asyncio/events.py', line 88, code _run>, filename='/Users/ryan/.pyenv/versions/3.7.4/lib/python3.7/asyncio/events.py', lineno=88, function='_run', code_context=['            self._context.run(self._callback, *self._args)\\n'], index=0),\n",
       " FrameInfo(frame=<frame at 0x7f9b1c7b54e0, file '/Users/ryan/.pyenv/versions/3.7.4/lib/python3.7/asyncio/base_events.py', line 1771, code _run_once>, filename='/Users/ryan/.pyenv/versions/3.7.4/lib/python3.7/asyncio/base_events.py', lineno=1771, function='_run_once', code_context=['                handle._run()\\n'], index=0),\n",
       " FrameInfo(frame=<frame at 0x111039810, file '/Users/ryan/.pyenv/versions/3.7.4/lib/python3.7/asyncio/base_events.py', line 534, code run_forever>, filename='/Users/ryan/.pyenv/versions/3.7.4/lib/python3.7/asyncio/base_events.py', lineno=534, function='run_forever', code_context=['                self._run_once()\\n'], index=0),\n",
       " FrameInfo(frame=<frame at 0x111039620, file '/Users/ryan/.pyenv/versions/ur-3.7.4/lib/python3.7/site-packages/tornado/platform/asyncio.py', line 148, code start>, filename='/Users/ryan/.pyenv/versions/ur-3.7.4/lib/python3.7/site-packages/tornado/platform/asyncio.py', lineno=148, function='start', code_context=['            self.asyncio_loop.run_forever()\\n'], index=0),\n",
       " FrameInfo(frame=<frame at 0x7f9b1c637ea0, file '/Users/ryan/.pyenv/versions/ur-3.7.4/lib/python3.7/site-packages/ipykernel/kernelapp.py', line 563, code start>, filename='/Users/ryan/.pyenv/versions/ur-3.7.4/lib/python3.7/site-packages/ipykernel/kernelapp.py', lineno=563, function='start', code_context=['            self.io_loop.start()\\n'], index=0),\n",
       " FrameInfo(frame=<frame at 0x7f9b1f289310, file '/Users/ryan/.pyenv/versions/ur-3.7.4/lib/python3.7/site-packages/traitlets/config/application.py', line 664, code launch_instance>, filename='/Users/ryan/.pyenv/versions/ur-3.7.4/lib/python3.7/site-packages/traitlets/config/application.py', lineno=664, function='launch_instance', code_context=['        app.start()\\n'], index=0),\n",
       " FrameInfo(frame=<frame at 0x10ee02590, file '/Users/ryan/.pyenv/versions/ur-3.7.4/lib/python3.7/site-packages/ipykernel_launcher.py', line 16, code <module>>, filename='/Users/ryan/.pyenv/versions/ur-3.7.4/lib/python3.7/site-packages/ipykernel_launcher.py', lineno=16, function='<module>', code_context=['    app.launch_new_instance()\\n'], index=0),\n",
       " FrameInfo(frame=<frame at 0x7f9b1c417480, file '/Users/ryan/.pyenv/versions/3.7.4/lib/python3.7/runpy.py', line 85, code _run_code>, filename='/Users/ryan/.pyenv/versions/3.7.4/lib/python3.7/runpy.py', lineno=85, function='_run_code', code_context=['    exec(code, run_globals)\\n'], index=0),\n",
       " FrameInfo(frame=<frame at 0x7f9b1c409ca0, file '/Users/ryan/.pyenv/versions/3.7.4/lib/python3.7/runpy.py', line 193, code _run_module_as_main>, filename='/Users/ryan/.pyenv/versions/3.7.4/lib/python3.7/runpy.py', lineno=193, function='_run_module_as_main', code_context=['                     \"__main__\", mod_spec)\\n'], index=0)]"
      ]
     },
     "execution_count": 7,
     "metadata": {},
     "output_type": "execute_result"
    }
   ],
   "source": [
    "s = stack(); s"
   ]
  },
  {
   "cell_type": "code",
   "execution_count": 3,
   "metadata": {},
   "outputs": [
    {
     "data": {
      "text/plain": [
       "4"
      ]
     },
     "execution_count": 3,
     "metadata": {},
     "output_type": "execute_result"
    }
   ],
   "source": [
    "mod.foo()"
   ]
  },
  {
   "cell_type": "code",
   "execution_count": 5,
   "metadata": {},
   "outputs": [
    {
     "ename": "SyntaxError",
     "evalue": "invalid syntax (<ipython-input-5-98ff0ab57498>, line 1)",
     "output_type": "error",
     "traceback": [
      "\u001b[0;36m  File \u001b[0;32m\"<ipython-input-5-98ff0ab57498>\"\u001b[0;36m, line \u001b[0;32m1\u001b[0m\n\u001b[0;31m    from 'mod' import foo\u001b[0m\n\u001b[0m             ^\u001b[0m\n\u001b[0;31mSyntaxError\u001b[0m\u001b[0;31m:\u001b[0m invalid syntax\n"
     ]
    }
   ],
   "source": [
    "from 'mod' import foo"
   ]
  },
  {
   "cell_type": "code",
   "execution_count": 37,
   "metadata": {},
   "outputs": [
    {
     "data": {
      "text/plain": [
       "dict_keys(['__name__', '__doc__', '__package__', '__loader__', '__spec__', '__builtin__', '__builtins__', '_ih', '_oh', '_dh', 'In', 'Out', 'get_ipython', 'exit', 'quit', '_', '__', '___', '_i', '_ii', '_iii', '_i1', 'ur', '_i2', '_i3', '_i4', 'reload', '_i5', '_i6', '_i7', '_7', '_i8', 'g', '_i9', '_9', '_i10', '_10', '_i11', '_11', '_i12', '_i13', '_13', '_i14', 'x', '_i15', '_i16', '_16', '_i17', '_i18', '_i19', '_i20', '_20', '_i21', '_i22', '_i23', '_i24', '_i25', '_i26', '_i27', '_27', '_i28', 'ldr', '_i29', '_29', '_i30', '_30', '_i31', '_31', '_i32', '_32', '_i33', '_i34', '_i35', '_35', '_i36', '_36', '_i37'])"
      ]
     },
     "execution_count": 37,
     "metadata": {},
     "output_type": "execute_result"
    }
   ],
   "source": [
    "globals().keys()"
   ]
  },
  {
   "cell_type": "code",
   "execution_count": 28,
   "metadata": {},
   "outputs": [],
   "source": [
    "ldr = ur._loader"
   ]
  },
  {
   "cell_type": "code",
   "execution_count": 4,
   "metadata": {},
   "outputs": [
    {
     "name": "stdout",
     "output_type": "stream",
     "text": [
      "__name__ __doc__ __package__ __loader__ __spec__ __builtin__ __builtins__ _ih _oh _dh In Out get_ipython exit quit _ __ ___ _i _ii _iii _i1 ur _i2 foo _2 _i3 _i4\n"
     ]
    }
   ],
   "source": [
    "print(' '.join(globals().keys()))"
   ]
  },
  {
   "cell_type": "code",
   "execution_count": 5,
   "metadata": {},
   "outputs": [
    {
     "data": {
      "text/plain": [
       "4"
      ]
     },
     "execution_count": 5,
     "metadata": {},
     "output_type": "execute_result"
    }
   ],
   "source": [
    "foo()"
   ]
  },
  {
   "cell_type": "code",
   "execution_count": 8,
   "metadata": {},
   "outputs": [
    {
     "name": "stdout",
     "output_type": "stream",
     "text": [
      "main 1: __name__ __doc__ __package__ __loader__ __spec__ __builtin__ __builtins__ _ih _oh _dh In Out get_ipython exit quit _ __ ___ _i _ii _iii _i1 _i2 _2 _i3 _i4 _i5 _i6 _i7 ur _i8\n"
     ]
    }
   ],
   "source": [
    "print('main 1: %s' % ' '.join(globals().keys()))"
   ]
  },
  {
   "cell_type": "code",
   "execution_count": 20,
   "metadata": {},
   "outputs": [
    {
     "data": {
      "text/plain": [
       "{'__name__': '__main__',\n",
       " '__doc__': 'Automatically created module for IPython interactive environment',\n",
       " '__package__': None,\n",
       " '__loader__': None,\n",
       " '__spec__': None,\n",
       " '__builtin__': <module 'builtins' (built-in)>,\n",
       " '__builtins__': <module 'builtins' (built-in)>,\n",
       " '_ih': ['',\n",
       "  'import ur',\n",
       "  \"ur('https://gist.githubusercontent.com/ryan-williams/58d781f4ea97e98ee80e6c4af0c8acf3/raw/458a253b9afececff0a6ba11d40b7f79f88ec151/test_nb.ipynb', '*')\",\n",
       "  'foo()',\n",
       "  'from importlib import reload\\nreload(ur)\\nimport ur',\n",
       "  \"ur('https://gist.githubusercontent.com/ryan-williams/58d781f4ea97e98ee80e6c4af0c8acf3/raw/458a253b9afececff0a6ba11d40b7f79f88ec151/test_nb.ipynb', '*')\",\n",
       "  'foo()',\n",
       "  'globals()',\n",
       "  'g = globals()',\n",
       "  'g',\n",
       "  'g.items()',\n",
       "  'g.keys()',\n",
       "  \"g['foo']\",\n",
       "  \"g['get_ipython']\",\n",
       "  \"x={'a':1}\",\n",
       "  \"x.update({'b':2})\",\n",
       "  'x',\n",
       "  'from importlib import reload\\nreload(ur)\\nimport ur',\n",
       "  \"ur('https://gist.githubusercontent.com/ryan-williams/58d781f4ea97e98ee80e6c4af0c8acf3/raw/458a253b9afececff0a6ba11d40b7f79f88ec151/test_nb.ipynb', '*')\",\n",
       "  'foo()',\n",
       "  'globals()'],\n",
       " '_oh': {7: {...},\n",
       "  9: {...},\n",
       "  10: dict_items([('__name__', '__main__'), ('__doc__', 'Automatically created module for IPython interactive environment'), ('__package__', None), ('__loader__', None), ('__spec__', None), ('__builtin__', <module 'builtins' (built-in)>), ('__builtins__', <module 'builtins' (built-in)>), ('_ih', ['', 'import ur', \"ur('https://gist.githubusercontent.com/ryan-williams/58d781f4ea97e98ee80e6c4af0c8acf3/raw/458a253b9afececff0a6ba11d40b7f79f88ec151/test_nb.ipynb', '*')\", 'foo()', 'from importlib import reload\\nreload(ur)\\nimport ur', \"ur('https://gist.githubusercontent.com/ryan-williams/58d781f4ea97e98ee80e6c4af0c8acf3/raw/458a253b9afececff0a6ba11d40b7f79f88ec151/test_nb.ipynb', '*')\", 'foo()', 'globals()', 'g = globals()', 'g', 'g.items()', 'g.keys()', \"g['foo']\", \"g['get_ipython']\", \"x={'a':1}\", \"x.update({'b':2})\", 'x', 'from importlib import reload\\nreload(ur)\\nimport ur', \"ur('https://gist.githubusercontent.com/ryan-williams/58d781f4ea97e98ee80e6c4af0c8acf3/raw/458a253b9afececff0a6ba11d40b7f79f88ec151/test_nb.ipynb', '*')\", 'foo()', 'globals()']), ('_oh', {7: {'__name__': '__main__', '__doc__': 'Automatically created module for IPython interactive environment', '__package__': None, '__loader__': None, '__spec__': None, '__builtin__': <module 'builtins' (built-in)>, '__builtins__': <module 'builtins' (built-in)>, '_ih': ['', 'import ur', \"ur('https://gist.githubusercontent.com/ryan-williams/58d781f4ea97e98ee80e6c4af0c8acf3/raw/458a253b9afececff0a6ba11d40b7f79f88ec151/test_nb.ipynb', '*')\", 'foo()', 'from importlib import reload\\nreload(ur)\\nimport ur', \"ur('https://gist.githubusercontent.com/ryan-williams/58d781f4ea97e98ee80e6c4af0c8acf3/raw/458a253b9afececff0a6ba11d40b7f79f88ec151/test_nb.ipynb', '*')\", 'foo()', 'globals()', 'g = globals()', 'g', 'g.items()', 'g.keys()', \"g['foo']\", \"g['get_ipython']\", \"x={'a':1}\", \"x.update({'b':2})\", 'x', 'from importlib import reload\\nreload(ur)\\nimport ur', \"ur('https://gist.githubusercontent.com/ryan-williams/58d781f4ea97e98ee80e6c4af0c8acf3/raw/458a253b9afececff0a6ba11d40b7f79f88ec151/test_nb.ipynb', '*')\", 'foo()', 'globals()'], '_oh': {...}, '_dh': ['/Users/ryan/c/ur'], 'In': ['', 'import ur', \"ur('https://gist.githubusercontent.com/ryan-williams/58d781f4ea97e98ee80e6c4af0c8acf3/raw/458a253b9afececff0a6ba11d40b7f79f88ec151/test_nb.ipynb', '*')\", 'foo()', 'from importlib import reload\\nreload(ur)\\nimport ur', \"ur('https://gist.githubusercontent.com/ryan-williams/58d781f4ea97e98ee80e6c4af0c8acf3/raw/458a253b9afececff0a6ba11d40b7f79f88ec151/test_nb.ipynb', '*')\", 'foo()', 'globals()', 'g = globals()', 'g', 'g.items()', 'g.keys()', \"g['foo']\", \"g['get_ipython']\", \"x={'a':1}\", \"x.update({'b':2})\", 'x', 'from importlib import reload\\nreload(ur)\\nimport ur', \"ur('https://gist.githubusercontent.com/ryan-williams/58d781f4ea97e98ee80e6c4af0c8acf3/raw/458a253b9afececff0a6ba11d40b7f79f88ec151/test_nb.ipynb', '*')\", 'foo()', 'globals()'], 'Out': {...}, 'get_ipython': <bound method InteractiveShell.get_ipython of <ipykernel.zmqshell.ZMQInteractiveShell object at 0x1041c1ad0>>, 'exit': <IPython.core.autocall.ZMQExitAutocall object at 0x1041e8390>, 'quit': <IPython.core.autocall.ZMQExitAutocall object at 0x1041e8390>, '_': {'a': 1, 'b': 2}, '__': <bound method InteractiveShell.get_ipython of <ipykernel.zmqshell.ZMQInteractiveShell object at 0x1041c1ad0>>, '___': dict_keys(['__name__', '__doc__', '__package__', '__loader__', '__spec__', '__builtin__', '__builtins__', '_ih', '_oh', '_dh', 'In', 'Out', 'get_ipython', 'exit', 'quit', '_', '__', '___', '_i', '_ii', '_iii', '_i1', 'ur', '_i2', '_i3', '_i4', 'reload', '_i5', '_i6', '_i7', '_7', '_i8', 'g', '_i9', '_9', '_i10', '_10', '_i11', '_11', '_i12', '_i13', '_13', '_i14', 'x', '_i15', '_i16', '_16', '_i17', '_i18', '_i19', '_i20']), '_i': 'foo()', '_ii': \"ur('https://gist.githubusercontent.com/ryan-williams/58d781f4ea97e98ee80e6c4af0c8acf3/raw/458a253b9afececff0a6ba11d40b7f79f88ec151/test_nb.ipynb', '*')\", '_iii': 'from importlib import reload\\nreload(ur)\\nimport ur', '_i1': 'import ur', 'ur': <module 'ur' from '/Users/ryan/c/ur/ur.py'>, '_i2': \"ur('https://gist.githubusercontent.com/ryan-williams/58d781f4ea97e98ee80e6c4af0c8acf3/raw/458a253b9afececff0a6ba11d40b7f79f88ec151/test_nb.ipynb', '*')\", '_i3': 'foo()', '_i4': 'from importlib import reload\\nreload(ur)\\nimport ur', 'reload': <function reload at 0x102178cb0>, '_i5': \"ur('https://gist.githubusercontent.com/ryan-williams/58d781f4ea97e98ee80e6c4af0c8acf3/raw/458a253b9afececff0a6ba11d40b7f79f88ec151/test_nb.ipynb', '*')\", '_i6': 'foo()', '_i7': 'globals()', '_7': {...}, '_i8': 'g = globals()', 'g': {...}, '_i9': 'g', '_9': {...}, '_i10': 'g.items()', '_10': ..., '_i11': 'g.keys()', '_11': dict_keys(['__name__', '__doc__', '__package__', '__loader__', '__spec__', '__builtin__', '__builtins__', '_ih', '_oh', '_dh', 'In', 'Out', 'get_ipython', 'exit', 'quit', '_', '__', '___', '_i', '_ii', '_iii', '_i1', 'ur', '_i2', '_i3', '_i4', 'reload', '_i5', '_i6', '_i7', '_7', '_i8', 'g', '_i9', '_9', '_i10', '_10', '_i11', '_11', '_i12', '_i13', '_13', '_i14', 'x', '_i15', '_i16', '_16', '_i17', '_i18', '_i19', '_i20']), '_i12': \"g['foo']\", '_i13': \"g['get_ipython']\", '_13': <bound method InteractiveShell.get_ipython of <ipykernel.zmqshell.ZMQInteractiveShell object at 0x1041c1ad0>>, '_i14': \"x={'a':1}\", 'x': {'a': 1, 'b': 2}, '_i15': \"x.update({'b':2})\", '_i16': 'x', '_16': {'a': 1, 'b': 2}, '_i17': 'from importlib import reload\\nreload(ur)\\nimport ur', '_i18': \"ur('https://gist.githubusercontent.com/ryan-williams/58d781f4ea97e98ee80e6c4af0c8acf3/raw/458a253b9afececff0a6ba11d40b7f79f88ec151/test_nb.ipynb', '*')\", '_i19': 'foo()', '_i20': 'globals()'}, 9: {'__name__': '__main__', '__doc__': 'Automatically created module for IPython interactive environment', '__package__': None, '__loader__': None, '__spec__': None, '__builtin__': <module 'builtins' (built-in)>, '__builtins__': <module 'builtins' (built-in)>, '_ih': ['', 'import ur', \"ur('https://gist.githubusercontent.com/ryan-williams/58d781f4ea97e98ee80e6c4af0c8acf3/raw/458a253b9afececff0a6ba11d40b7f79f88ec151/test_nb.ipynb', '*')\", 'foo()', 'from importlib import reload\\nreload(ur)\\nimport ur', \"ur('https://gist.githubusercontent.com/ryan-williams/58d781f4ea97e98ee80e6c4af0c8acf3/raw/458a253b9afececff0a6ba11d40b7f79f88ec151/test_nb.ipynb', '*')\", 'foo()', 'globals()', 'g = globals()', 'g', 'g.items()', 'g.keys()', \"g['foo']\", \"g['get_ipython']\", \"x={'a':1}\", \"x.update({'b':2})\", 'x', 'from importlib import reload\\nreload(ur)\\nimport ur', \"ur('https://gist.githubusercontent.com/ryan-williams/58d781f4ea97e98ee80e6c4af0c8acf3/raw/458a253b9afececff0a6ba11d40b7f79f88ec151/test_nb.ipynb', '*')\", 'foo()', 'globals()'], '_oh': {...}, '_dh': ['/Users/ryan/c/ur'], 'In': ['', 'import ur', \"ur('https://gist.githubusercontent.com/ryan-williams/58d781f4ea97e98ee80e6c4af0c8acf3/raw/458a253b9afececff0a6ba11d40b7f79f88ec151/test_nb.ipynb', '*')\", 'foo()', 'from importlib import reload\\nreload(ur)\\nimport ur', \"ur('https://gist.githubusercontent.com/ryan-williams/58d781f4ea97e98ee80e6c4af0c8acf3/raw/458a253b9afececff0a6ba11d40b7f79f88ec151/test_nb.ipynb', '*')\", 'foo()', 'globals()', 'g = globals()', 'g', 'g.items()', 'g.keys()', \"g['foo']\", \"g['get_ipython']\", \"x={'a':1}\", \"x.update({'b':2})\", 'x', 'from importlib import reload\\nreload(ur)\\nimport ur', \"ur('https://gist.githubusercontent.com/ryan-williams/58d781f4ea97e98ee80e6c4af0c8acf3/raw/458a253b9afececff0a6ba11d40b7f79f88ec151/test_nb.ipynb', '*')\", 'foo()', 'globals()'], 'Out': {...}, 'get_ipython': <bound method InteractiveShell.get_ipython of <ipykernel.zmqshell.ZMQInteractiveShell object at 0x1041c1ad0>>, 'exit': <IPython.core.autocall.ZMQExitAutocall object at 0x1041e8390>, 'quit': <IPython.core.autocall.ZMQExitAutocall object at 0x1041e8390>, '_': {'a': 1, 'b': 2}, '__': <bound method InteractiveShell.get_ipython of <ipykernel.zmqshell.ZMQInteractiveShell object at 0x1041c1ad0>>, '___': dict_keys(['__name__', '__doc__', '__package__', '__loader__', '__spec__', '__builtin__', '__builtins__', '_ih', '_oh', '_dh', 'In', 'Out', 'get_ipython', 'exit', 'quit', '_', '__', '___', '_i', '_ii', '_iii', '_i1', 'ur', '_i2', '_i3', '_i4', 'reload', '_i5', '_i6', '_i7', '_7', '_i8', 'g', '_i9', '_9', '_i10', '_10', '_i11', '_11', '_i12', '_i13', '_13', '_i14', 'x', '_i15', '_i16', '_16', '_i17', '_i18', '_i19', '_i20']), '_i': 'foo()', '_ii': \"ur('https://gist.githubusercontent.com/ryan-williams/58d781f4ea97e98ee80e6c4af0c8acf3/raw/458a253b9afececff0a6ba11d40b7f79f88ec151/test_nb.ipynb', '*')\", '_iii': 'from importlib import reload\\nreload(ur)\\nimport ur', '_i1': 'import ur', 'ur': <module 'ur' from '/Users/ryan/c/ur/ur.py'>, '_i2': \"ur('https://gist.githubusercontent.com/ryan-williams/58d781f4ea97e98ee80e6c4af0c8acf3/raw/458a253b9afececff0a6ba11d40b7f79f88ec151/test_nb.ipynb', '*')\", '_i3': 'foo()', '_i4': 'from importlib import reload\\nreload(ur)\\nimport ur', 'reload': <function reload at 0x102178cb0>, '_i5': \"ur('https://gist.githubusercontent.com/ryan-williams/58d781f4ea97e98ee80e6c4af0c8acf3/raw/458a253b9afececff0a6ba11d40b7f79f88ec151/test_nb.ipynb', '*')\", '_i6': 'foo()', '_i7': 'globals()', '_7': {...}, '_i8': 'g = globals()', 'g': {...}, '_i9': 'g', '_9': {...}, '_i10': 'g.items()', '_10': ..., '_i11': 'g.keys()', '_11': dict_keys(['__name__', '__doc__', '__package__', '__loader__', '__spec__', '__builtin__', '__builtins__', '_ih', '_oh', '_dh', 'In', 'Out', 'get_ipython', 'exit', 'quit', '_', '__', '___', '_i', '_ii', '_iii', '_i1', 'ur', '_i2', '_i3', '_i4', 'reload', '_i5', '_i6', '_i7', '_7', '_i8', 'g', '_i9', '_9', '_i10', '_10', '_i11', '_11', '_i12', '_i13', '_13', '_i14', 'x', '_i15', '_i16', '_16', '_i17', '_i18', '_i19', '_i20']), '_i12': \"g['foo']\", '_i13': \"g['get_ipython']\", '_13': <bound method InteractiveShell.get_ipython of <ipykernel.zmqshell.ZMQInteractiveShell object at 0x1041c1ad0>>, '_i14': \"x={'a':1}\", 'x': {'a': 1, 'b': 2}, '_i15': \"x.update({'b':2})\", '_i16': 'x', '_16': {'a': 1, 'b': 2}, '_i17': 'from importlib import reload\\nreload(ur)\\nimport ur', '_i18': \"ur('https://gist.githubusercontent.com/ryan-williams/58d781f4ea97e98ee80e6c4af0c8acf3/raw/458a253b9afececff0a6ba11d40b7f79f88ec151/test_nb.ipynb', '*')\", '_i19': 'foo()', '_i20': 'globals()'}, 10: ..., 11: dict_keys(['__name__', '__doc__', '__package__', '__loader__', '__spec__', '__builtin__', '__builtins__', '_ih', '_oh', '_dh', 'In', 'Out', 'get_ipython', 'exit', 'quit', '_', '__', '___', '_i', '_ii', '_iii', '_i1', 'ur', '_i2', '_i3', '_i4', 'reload', '_i5', '_i6', '_i7', '_7', '_i8', 'g', '_i9', '_9', '_i10', '_10', '_i11', '_11', '_i12', '_i13', '_13', '_i14', 'x', '_i15', '_i16', '_16', '_i17', '_i18', '_i19', '_i20']), 13: <bound method InteractiveShell.get_ipython of <ipykernel.zmqshell.ZMQInteractiveShell object at 0x1041c1ad0>>, 16: {'a': 1, 'b': 2}}), ('_dh', ['/Users/ryan/c/ur']), ('In', ['', 'import ur', \"ur('https://gist.githubusercontent.com/ryan-williams/58d781f4ea97e98ee80e6c4af0c8acf3/raw/458a253b9afececff0a6ba11d40b7f79f88ec151/test_nb.ipynb', '*')\", 'foo()', 'from importlib import reload\\nreload(ur)\\nimport ur', \"ur('https://gist.githubusercontent.com/ryan-williams/58d781f4ea97e98ee80e6c4af0c8acf3/raw/458a253b9afececff0a6ba11d40b7f79f88ec151/test_nb.ipynb', '*')\", 'foo()', 'globals()', 'g = globals()', 'g', 'g.items()', 'g.keys()', \"g['foo']\", \"g['get_ipython']\", \"x={'a':1}\", \"x.update({'b':2})\", 'x', 'from importlib import reload\\nreload(ur)\\nimport ur', \"ur('https://gist.githubusercontent.com/ryan-williams/58d781f4ea97e98ee80e6c4af0c8acf3/raw/458a253b9afececff0a6ba11d40b7f79f88ec151/test_nb.ipynb', '*')\", 'foo()', 'globals()']), ('Out', {7: {'__name__': '__main__', '__doc__': 'Automatically created module for IPython interactive environment', '__package__': None, '__loader__': None, '__spec__': None, '__builtin__': <module 'builtins' (built-in)>, '__builtins__': <module 'builtins' (built-in)>, '_ih': ['', 'import ur', \"ur('https://gist.githubusercontent.com/ryan-williams/58d781f4ea97e98ee80e6c4af0c8acf3/raw/458a253b9afececff0a6ba11d40b7f79f88ec151/test_nb.ipynb', '*')\", 'foo()', 'from importlib import reload\\nreload(ur)\\nimport ur', \"ur('https://gist.githubusercontent.com/ryan-williams/58d781f4ea97e98ee80e6c4af0c8acf3/raw/458a253b9afececff0a6ba11d40b7f79f88ec151/test_nb.ipynb', '*')\", 'foo()', 'globals()', 'g = globals()', 'g', 'g.items()', 'g.keys()', \"g['foo']\", \"g['get_ipython']\", \"x={'a':1}\", \"x.update({'b':2})\", 'x', 'from importlib import reload\\nreload(ur)\\nimport ur', \"ur('https://gist.githubusercontent.com/ryan-williams/58d781f4ea97e98ee80e6c4af0c8acf3/raw/458a253b9afececff0a6ba11d40b7f79f88ec151/test_nb.ipynb', '*')\", 'foo()', 'globals()'], '_oh': {...}, '_dh': ['/Users/ryan/c/ur'], 'In': ['', 'import ur', \"ur('https://gist.githubusercontent.com/ryan-williams/58d781f4ea97e98ee80e6c4af0c8acf3/raw/458a253b9afececff0a6ba11d40b7f79f88ec151/test_nb.ipynb', '*')\", 'foo()', 'from importlib import reload\\nreload(ur)\\nimport ur', \"ur('https://gist.githubusercontent.com/ryan-williams/58d781f4ea97e98ee80e6c4af0c8acf3/raw/458a253b9afececff0a6ba11d40b7f79f88ec151/test_nb.ipynb', '*')\", 'foo()', 'globals()', 'g = globals()', 'g', 'g.items()', 'g.keys()', \"g['foo']\", \"g['get_ipython']\", \"x={'a':1}\", \"x.update({'b':2})\", 'x', 'from importlib import reload\\nreload(ur)\\nimport ur', \"ur('https://gist.githubusercontent.com/ryan-williams/58d781f4ea97e98ee80e6c4af0c8acf3/raw/458a253b9afececff0a6ba11d40b7f79f88ec151/test_nb.ipynb', '*')\", 'foo()', 'globals()'], 'Out': {...}, 'get_ipython': <bound method InteractiveShell.get_ipython of <ipykernel.zmqshell.ZMQInteractiveShell object at 0x1041c1ad0>>, 'exit': <IPython.core.autocall.ZMQExitAutocall object at 0x1041e8390>, 'quit': <IPython.core.autocall.ZMQExitAutocall object at 0x1041e8390>, '_': {'a': 1, 'b': 2}, '__': <bound method InteractiveShell.get_ipython of <ipykernel.zmqshell.ZMQInteractiveShell object at 0x1041c1ad0>>, '___': dict_keys(['__name__', '__doc__', '__package__', '__loader__', '__spec__', '__builtin__', '__builtins__', '_ih', '_oh', '_dh', 'In', 'Out', 'get_ipython', 'exit', 'quit', '_', '__', '___', '_i', '_ii', '_iii', '_i1', 'ur', '_i2', '_i3', '_i4', 'reload', '_i5', '_i6', '_i7', '_7', '_i8', 'g', '_i9', '_9', '_i10', '_10', '_i11', '_11', '_i12', '_i13', '_13', '_i14', 'x', '_i15', '_i16', '_16', '_i17', '_i18', '_i19', '_i20']), '_i': 'foo()', '_ii': \"ur('https://gist.githubusercontent.com/ryan-williams/58d781f4ea97e98ee80e6c4af0c8acf3/raw/458a253b9afececff0a6ba11d40b7f79f88ec151/test_nb.ipynb', '*')\", '_iii': 'from importlib import reload\\nreload(ur)\\nimport ur', '_i1': 'import ur', 'ur': <module 'ur' from '/Users/ryan/c/ur/ur.py'>, '_i2': \"ur('https://gist.githubusercontent.com/ryan-williams/58d781f4ea97e98ee80e6c4af0c8acf3/raw/458a253b9afececff0a6ba11d40b7f79f88ec151/test_nb.ipynb', '*')\", '_i3': 'foo()', '_i4': 'from importlib import reload\\nreload(ur)\\nimport ur', 'reload': <function reload at 0x102178cb0>, '_i5': \"ur('https://gist.githubusercontent.com/ryan-williams/58d781f4ea97e98ee80e6c4af0c8acf3/raw/458a253b9afececff0a6ba11d40b7f79f88ec151/test_nb.ipynb', '*')\", '_i6': 'foo()', '_i7': 'globals()', '_7': {...}, '_i8': 'g = globals()', 'g': {...}, '_i9': 'g', '_9': {...}, '_i10': 'g.items()', '_10': ..., '_i11': 'g.keys()', '_11': dict_keys(['__name__', '__doc__', '__package__', '__loader__', '__spec__', '__builtin__', '__builtins__', '_ih', '_oh', '_dh', 'In', 'Out', 'get_ipython', 'exit', 'quit', '_', '__', '___', '_i', '_ii', '_iii', '_i1', 'ur', '_i2', '_i3', '_i4', 'reload', '_i5', '_i6', '_i7', '_7', '_i8', 'g', '_i9', '_9', '_i10', '_10', '_i11', '_11', '_i12', '_i13', '_13', '_i14', 'x', '_i15', '_i16', '_16', '_i17', '_i18', '_i19', '_i20']), '_i12': \"g['foo']\", '_i13': \"g['get_ipython']\", '_13': <bound method InteractiveShell.get_ipython of <ipykernel.zmqshell.ZMQInteractiveShell object at 0x1041c1ad0>>, '_i14': \"x={'a':1}\", 'x': {'a': 1, 'b': 2}, '_i15': \"x.update({'b':2})\", '_i16': 'x', '_16': {'a': 1, 'b': 2}, '_i17': 'from importlib import reload\\nreload(ur)\\nimport ur', '_i18': \"ur('https://gist.githubusercontent.com/ryan-williams/58d781f4ea97e98ee80e6c4af0c8acf3/raw/458a253b9afececff0a6ba11d40b7f79f88ec151/test_nb.ipynb', '*')\", '_i19': 'foo()', '_i20': 'globals()'}, 9: {'__name__': '__main__', '__doc__': 'Automatically created module for IPython interactive environment', '__package__': None, '__loader__': None, '__spec__': None, '__builtin__': <module 'builtins' (built-in)>, '__builtins__': <module 'builtins' (built-in)>, '_ih': ['', 'import ur', \"ur('https://gist.githubusercontent.com/ryan-williams/58d781f4ea97e98ee80e6c4af0c8acf3/raw/458a253b9afececff0a6ba11d40b7f79f88ec151/test_nb.ipynb', '*')\", 'foo()', 'from importlib import reload\\nreload(ur)\\nimport ur', \"ur('https://gist.githubusercontent.com/ryan-williams/58d781f4ea97e98ee80e6c4af0c8acf3/raw/458a253b9afececff0a6ba11d40b7f79f88ec151/test_nb.ipynb', '*')\", 'foo()', 'globals()', 'g = globals()', 'g', 'g.items()', 'g.keys()', \"g['foo']\", \"g['get_ipython']\", \"x={'a':1}\", \"x.update({'b':2})\", 'x', 'from importlib import reload\\nreload(ur)\\nimport ur', \"ur('https://gist.githubusercontent.com/ryan-williams/58d781f4ea97e98ee80e6c4af0c8acf3/raw/458a253b9afececff0a6ba11d40b7f79f88ec151/test_nb.ipynb', '*')\", 'foo()', 'globals()'], '_oh': {...}, '_dh': ['/Users/ryan/c/ur'], 'In': ['', 'import ur', \"ur('https://gist.githubusercontent.com/ryan-williams/58d781f4ea97e98ee80e6c4af0c8acf3/raw/458a253b9afececff0a6ba11d40b7f79f88ec151/test_nb.ipynb', '*')\", 'foo()', 'from importlib import reload\\nreload(ur)\\nimport ur', \"ur('https://gist.githubusercontent.com/ryan-williams/58d781f4ea97e98ee80e6c4af0c8acf3/raw/458a253b9afececff0a6ba11d40b7f79f88ec151/test_nb.ipynb', '*')\", 'foo()', 'globals()', 'g = globals()', 'g', 'g.items()', 'g.keys()', \"g['foo']\", \"g['get_ipython']\", \"x={'a':1}\", \"x.update({'b':2})\", 'x', 'from importlib import reload\\nreload(ur)\\nimport ur', \"ur('https://gist.githubusercontent.com/ryan-williams/58d781f4ea97e98ee80e6c4af0c8acf3/raw/458a253b9afececff0a6ba11d40b7f79f88ec151/test_nb.ipynb', '*')\", 'foo()', 'globals()'], 'Out': {...}, 'get_ipython': <bound method InteractiveShell.get_ipython of <ipykernel.zmqshell.ZMQInteractiveShell object at 0x1041c1ad0>>, 'exit': <IPython.core.autocall.ZMQExitAutocall object at 0x1041e8390>, 'quit': <IPython.core.autocall.ZMQExitAutocall object at 0x1041e8390>, '_': {'a': 1, 'b': 2}, '__': <bound method InteractiveShell.get_ipython of <ipykernel.zmqshell.ZMQInteractiveShell object at 0x1041c1ad0>>, '___': dict_keys(['__name__', '__doc__', '__package__', '__loader__', '__spec__', '__builtin__', '__builtins__', '_ih', '_oh', '_dh', 'In', 'Out', 'get_ipython', 'exit', 'quit', '_', '__', '___', '_i', '_ii', '_iii', '_i1', 'ur', '_i2', '_i3', '_i4', 'reload', '_i5', '_i6', '_i7', '_7', '_i8', 'g', '_i9', '_9', '_i10', '_10', '_i11', '_11', '_i12', '_i13', '_13', '_i14', 'x', '_i15', '_i16', '_16', '_i17', '_i18', '_i19', '_i20']), '_i': 'foo()', '_ii': \"ur('https://gist.githubusercontent.com/ryan-williams/58d781f4ea97e98ee80e6c4af0c8acf3/raw/458a253b9afececff0a6ba11d40b7f79f88ec151/test_nb.ipynb', '*')\", '_iii': 'from importlib import reload\\nreload(ur)\\nimport ur', '_i1': 'import ur', 'ur': <module 'ur' from '/Users/ryan/c/ur/ur.py'>, '_i2': \"ur('https://gist.githubusercontent.com/ryan-williams/58d781f4ea97e98ee80e6c4af0c8acf3/raw/458a253b9afececff0a6ba11d40b7f79f88ec151/test_nb.ipynb', '*')\", '_i3': 'foo()', '_i4': 'from importlib import reload\\nreload(ur)\\nimport ur', 'reload': <function reload at 0x102178cb0>, '_i5': \"ur('https://gist.githubusercontent.com/ryan-williams/58d781f4ea97e98ee80e6c4af0c8acf3/raw/458a253b9afececff0a6ba11d40b7f79f88ec151/test_nb.ipynb', '*')\", '_i6': 'foo()', '_i7': 'globals()', '_7': {...}, '_i8': 'g = globals()', 'g': {...}, '_i9': 'g', '_9': {...}, '_i10': 'g.items()', '_10': ..., '_i11': 'g.keys()', '_11': dict_keys(['__name__', '__doc__', '__package__', '__loader__', '__spec__', '__builtin__', '__builtins__', '_ih', '_oh', '_dh', 'In', 'Out', 'get_ipython', 'exit', 'quit', '_', '__', '___', '_i', '_ii', '_iii', '_i1', 'ur', '_i2', '_i3', '_i4', 'reload', '_i5', '_i6', '_i7', '_7', '_i8', 'g', '_i9', '_9', '_i10', '_10', '_i11', '_11', '_i12', '_i13', '_13', '_i14', 'x', '_i15', '_i16', '_16', '_i17', '_i18', '_i19', '_i20']), '_i12': \"g['foo']\", '_i13': \"g['get_ipython']\", '_13': <bound method InteractiveShell.get_ipython of <ipykernel.zmqshell.ZMQInteractiveShell object at 0x1041c1ad0>>, '_i14': \"x={'a':1}\", 'x': {'a': 1, 'b': 2}, '_i15': \"x.update({'b':2})\", '_i16': 'x', '_16': {'a': 1, 'b': 2}, '_i17': 'from importlib import reload\\nreload(ur)\\nimport ur', '_i18': \"ur('https://gist.githubusercontent.com/ryan-williams/58d781f4ea97e98ee80e6c4af0c8acf3/raw/458a253b9afececff0a6ba11d40b7f79f88ec151/test_nb.ipynb', '*')\", '_i19': 'foo()', '_i20': 'globals()'}, 10: ..., 11: dict_keys(['__name__', '__doc__', '__package__', '__loader__', '__spec__', '__builtin__', '__builtins__', '_ih', '_oh', '_dh', 'In', 'Out', 'get_ipython', 'exit', 'quit', '_', '__', '___', '_i', '_ii', '_iii', '_i1', 'ur', '_i2', '_i3', '_i4', 'reload', '_i5', '_i6', '_i7', '_7', '_i8', 'g', '_i9', '_9', '_i10', '_10', '_i11', '_11', '_i12', '_i13', '_13', '_i14', 'x', '_i15', '_i16', '_16', '_i17', '_i18', '_i19', '_i20']), 13: <bound method InteractiveShell.get_ipython of <ipykernel.zmqshell.ZMQInteractiveShell object at 0x1041c1ad0>>, 16: {'a': 1, 'b': 2}}), ('get_ipython', <bound method InteractiveShell.get_ipython of <ipykernel.zmqshell.ZMQInteractiveShell object at 0x1041c1ad0>>), ('exit', <IPython.core.autocall.ZMQExitAutocall object at 0x1041e8390>), ('quit', <IPython.core.autocall.ZMQExitAutocall object at 0x1041e8390>), ('_', {'a': 1, 'b': 2}), ('__', <bound method InteractiveShell.get_ipython of <ipykernel.zmqshell.ZMQInteractiveShell object at 0x1041c1ad0>>), ('___', dict_keys(['__name__', '__doc__', '__package__', '__loader__', '__spec__', '__builtin__', '__builtins__', '_ih', '_oh', '_dh', 'In', 'Out', 'get_ipython', 'exit', 'quit', '_', '__', '___', '_i', '_ii', '_iii', '_i1', 'ur', '_i2', '_i3', '_i4', 'reload', '_i5', '_i6', '_i7', '_7', '_i8', 'g', '_i9', '_9', '_i10', '_10', '_i11', '_11', '_i12', '_i13', '_13', '_i14', 'x', '_i15', '_i16', '_16', '_i17', '_i18', '_i19', '_i20'])), ('_i', 'foo()'), ('_ii', \"ur('https://gist.githubusercontent.com/ryan-williams/58d781f4ea97e98ee80e6c4af0c8acf3/raw/458a253b9afececff0a6ba11d40b7f79f88ec151/test_nb.ipynb', '*')\"), ('_iii', 'from importlib import reload\\nreload(ur)\\nimport ur'), ('_i1', 'import ur'), ('ur', <module 'ur' from '/Users/ryan/c/ur/ur.py'>), ('_i2', \"ur('https://gist.githubusercontent.com/ryan-williams/58d781f4ea97e98ee80e6c4af0c8acf3/raw/458a253b9afececff0a6ba11d40b7f79f88ec151/test_nb.ipynb', '*')\"), ('_i3', 'foo()'), ('_i4', 'from importlib import reload\\nreload(ur)\\nimport ur'), ('reload', <function reload at 0x102178cb0>), ('_i5', \"ur('https://gist.githubusercontent.com/ryan-williams/58d781f4ea97e98ee80e6c4af0c8acf3/raw/458a253b9afececff0a6ba11d40b7f79f88ec151/test_nb.ipynb', '*')\"), ('_i6', 'foo()'), ('_i7', 'globals()'), ('_7', {'__name__': '__main__', '__doc__': 'Automatically created module for IPython interactive environment', '__package__': None, '__loader__': None, '__spec__': None, '__builtin__': <module 'builtins' (built-in)>, '__builtins__': <module 'builtins' (built-in)>, '_ih': ['', 'import ur', \"ur('https://gist.githubusercontent.com/ryan-williams/58d781f4ea97e98ee80e6c4af0c8acf3/raw/458a253b9afececff0a6ba11d40b7f79f88ec151/test_nb.ipynb', '*')\", 'foo()', 'from importlib import reload\\nreload(ur)\\nimport ur', \"ur('https://gist.githubusercontent.com/ryan-williams/58d781f4ea97e98ee80e6c4af0c8acf3/raw/458a253b9afececff0a6ba11d40b7f79f88ec151/test_nb.ipynb', '*')\", 'foo()', 'globals()', 'g = globals()', 'g', 'g.items()', 'g.keys()', \"g['foo']\", \"g['get_ipython']\", \"x={'a':1}\", \"x.update({'b':2})\", 'x', 'from importlib import reload\\nreload(ur)\\nimport ur', \"ur('https://gist.githubusercontent.com/ryan-williams/58d781f4ea97e98ee80e6c4af0c8acf3/raw/458a253b9afececff0a6ba11d40b7f79f88ec151/test_nb.ipynb', '*')\", 'foo()', 'globals()'], '_oh': {7: {...}, 9: {...}, 10: ..., 11: dict_keys(['__name__', '__doc__', '__package__', '__loader__', '__spec__', '__builtin__', '__builtins__', '_ih', '_oh', '_dh', 'In', 'Out', 'get_ipython', 'exit', 'quit', '_', '__', '___', '_i', '_ii', '_iii', '_i1', 'ur', '_i2', '_i3', '_i4', 'reload', '_i5', '_i6', '_i7', '_7', '_i8', 'g', '_i9', '_9', '_i10', '_10', '_i11', '_11', '_i12', '_i13', '_13', '_i14', 'x', '_i15', '_i16', '_16', '_i17', '_i18', '_i19', '_i20']), 13: <bound method InteractiveShell.get_ipython of <ipykernel.zmqshell.ZMQInteractiveShell object at 0x1041c1ad0>>, 16: {'a': 1, 'b': 2}}, '_dh': ['/Users/ryan/c/ur'], 'In': ['', 'import ur', \"ur('https://gist.githubusercontent.com/ryan-williams/58d781f4ea97e98ee80e6c4af0c8acf3/raw/458a253b9afececff0a6ba11d40b7f79f88ec151/test_nb.ipynb', '*')\", 'foo()', 'from importlib import reload\\nreload(ur)\\nimport ur', \"ur('https://gist.githubusercontent.com/ryan-williams/58d781f4ea97e98ee80e6c4af0c8acf3/raw/458a253b9afececff0a6ba11d40b7f79f88ec151/test_nb.ipynb', '*')\", 'foo()', 'globals()', 'g = globals()', 'g', 'g.items()', 'g.keys()', \"g['foo']\", \"g['get_ipython']\", \"x={'a':1}\", \"x.update({'b':2})\", 'x', 'from importlib import reload\\nreload(ur)\\nimport ur', \"ur('https://gist.githubusercontent.com/ryan-williams/58d781f4ea97e98ee80e6c4af0c8acf3/raw/458a253b9afececff0a6ba11d40b7f79f88ec151/test_nb.ipynb', '*')\", 'foo()', 'globals()'], 'Out': {7: {...}, 9: {...}, 10: ..., 11: dict_keys(['__name__', '__doc__', '__package__', '__loader__', '__spec__', '__builtin__', '__builtins__', '_ih', '_oh', '_dh', 'In', 'Out', 'get_ipython', 'exit', 'quit', '_', '__', '___', '_i', '_ii', '_iii', '_i1', 'ur', '_i2', '_i3', '_i4', 'reload', '_i5', '_i6', '_i7', '_7', '_i8', 'g', '_i9', '_9', '_i10', '_10', '_i11', '_11', '_i12', '_i13', '_13', '_i14', 'x', '_i15', '_i16', '_16', '_i17', '_i18', '_i19', '_i20']), 13: <bound method InteractiveShell.get_ipython of <ipykernel.zmqshell.ZMQInteractiveShell object at 0x1041c1ad0>>, 16: {'a': 1, 'b': 2}}, 'get_ipython': <bound method InteractiveShell.get_ipython of <ipykernel.zmqshell.ZMQInteractiveShell object at 0x1041c1ad0>>, 'exit': <IPython.core.autocall.ZMQExitAutocall object at 0x1041e8390>, 'quit': <IPython.core.autocall.ZMQExitAutocall object at 0x1041e8390>, '_': {'a': 1, 'b': 2}, '__': <bound method InteractiveShell.get_ipython of <ipykernel.zmqshell.ZMQInteractiveShell object at 0x1041c1ad0>>, '___': dict_keys(['__name__', '__doc__', '__package__', '__loader__', '__spec__', '__builtin__', '__builtins__', '_ih', '_oh', '_dh', 'In', 'Out', 'get_ipython', 'exit', 'quit', '_', '__', '___', '_i', '_ii', '_iii', '_i1', 'ur', '_i2', '_i3', '_i4', 'reload', '_i5', '_i6', '_i7', '_7', '_i8', 'g', '_i9', '_9', '_i10', '_10', '_i11', '_11', '_i12', '_i13', '_13', '_i14', 'x', '_i15', '_i16', '_16', '_i17', '_i18', '_i19', '_i20']), '_i': 'foo()', '_ii': \"ur('https://gist.githubusercontent.com/ryan-williams/58d781f4ea97e98ee80e6c4af0c8acf3/raw/458a253b9afececff0a6ba11d40b7f79f88ec151/test_nb.ipynb', '*')\", '_iii': 'from importlib import reload\\nreload(ur)\\nimport ur', '_i1': 'import ur', 'ur': <module 'ur' from '/Users/ryan/c/ur/ur.py'>, '_i2': \"ur('https://gist.githubusercontent.com/ryan-williams/58d781f4ea97e98ee80e6c4af0c8acf3/raw/458a253b9afececff0a6ba11d40b7f79f88ec151/test_nb.ipynb', '*')\", '_i3': 'foo()', '_i4': 'from importlib import reload\\nreload(ur)\\nimport ur', 'reload': <function reload at 0x102178cb0>, '_i5': \"ur('https://gist.githubusercontent.com/ryan-williams/58d781f4ea97e98ee80e6c4af0c8acf3/raw/458a253b9afececff0a6ba11d40b7f79f88ec151/test_nb.ipynb', '*')\", '_i6': 'foo()', '_i7': 'globals()', '_7': {...}, '_i8': 'g = globals()', 'g': {...}, '_i9': 'g', '_9': {...}, '_i10': 'g.items()', '_10': ..., '_i11': 'g.keys()', '_11': dict_keys(['__name__', '__doc__', '__package__', '__loader__', '__spec__', '__builtin__', '__builtins__', '_ih', '_oh', '_dh', 'In', 'Out', 'get_ipython', 'exit', 'quit', '_', '__', '___', '_i', '_ii', '_iii', '_i1', 'ur', '_i2', '_i3', '_i4', 'reload', '_i5', '_i6', '_i7', '_7', '_i8', 'g', '_i9', '_9', '_i10', '_10', '_i11', '_11', '_i12', '_i13', '_13', '_i14', 'x', '_i15', '_i16', '_16', '_i17', '_i18', '_i19', '_i20']), '_i12': \"g['foo']\", '_i13': \"g['get_ipython']\", '_13': <bound method InteractiveShell.get_ipython of <ipykernel.zmqshell.ZMQInteractiveShell object at 0x1041c1ad0>>, '_i14': \"x={'a':1}\", 'x': {'a': 1, 'b': 2}, '_i15': \"x.update({'b':2})\", '_i16': 'x', '_16': {'a': 1, 'b': 2}, '_i17': 'from importlib import reload\\nreload(ur)\\nimport ur', '_i18': \"ur('https://gist.githubusercontent.com/ryan-williams/58d781f4ea97e98ee80e6c4af0c8acf3/raw/458a253b9afececff0a6ba11d40b7f79f88ec151/test_nb.ipynb', '*')\", '_i19': 'foo()', '_i20': 'globals()'}), ('_i8', 'g = globals()'), ('g', {'__name__': '__main__', '__doc__': 'Automatically created module for IPython interactive environment', '__package__': None, '__loader__': None, '__spec__': None, '__builtin__': <module 'builtins' (built-in)>, '__builtins__': <module 'builtins' (built-in)>, '_ih': ['', 'import ur', \"ur('https://gist.githubusercontent.com/ryan-williams/58d781f4ea97e98ee80e6c4af0c8acf3/raw/458a253b9afececff0a6ba11d40b7f79f88ec151/test_nb.ipynb', '*')\", 'foo()', 'from importlib import reload\\nreload(ur)\\nimport ur', \"ur('https://gist.githubusercontent.com/ryan-williams/58d781f4ea97e98ee80e6c4af0c8acf3/raw/458a253b9afececff0a6ba11d40b7f79f88ec151/test_nb.ipynb', '*')\", 'foo()', 'globals()', 'g = globals()', 'g', 'g.items()', 'g.keys()', \"g['foo']\", \"g['get_ipython']\", \"x={'a':1}\", \"x.update({'b':2})\", 'x', 'from importlib import reload\\nreload(ur)\\nimport ur', \"ur('https://gist.githubusercontent.com/ryan-williams/58d781f4ea97e98ee80e6c4af0c8acf3/raw/458a253b9afececff0a6ba11d40b7f79f88ec151/test_nb.ipynb', '*')\", 'foo()', 'globals()'], '_oh': {7: {...}, 9: {...}, 10: ..., 11: dict_keys(['__name__', '__doc__', '__package__', '__loader__', '__spec__', '__builtin__', '__builtins__', '_ih', '_oh', '_dh', 'In', 'Out', 'get_ipython', 'exit', 'quit', '_', '__', '___', '_i', '_ii', '_iii', '_i1', 'ur', '_i2', '_i3', '_i4', 'reload', '_i5', '_i6', '_i7', '_7', '_i8', 'g', '_i9', '_9', '_i10', '_10', '_i11', '_11', '_i12', '_i13', '_13', '_i14', 'x', '_i15', '_i16', '_16', '_i17', '_i18', '_i19', '_i20']), 13: <bound method InteractiveShell.get_ipython of <ipykernel.zmqshell.ZMQInteractiveShell object at 0x1041c1ad0>>, 16: {'a': 1, 'b': 2}}, '_dh': ['/Users/ryan/c/ur'], 'In': ['', 'import ur', \"ur('https://gist.githubusercontent.com/ryan-williams/58d781f4ea97e98ee80e6c4af0c8acf3/raw/458a253b9afececff0a6ba11d40b7f79f88ec151/test_nb.ipynb', '*')\", 'foo()', 'from importlib import reload\\nreload(ur)\\nimport ur', \"ur('https://gist.githubusercontent.com/ryan-williams/58d781f4ea97e98ee80e6c4af0c8acf3/raw/458a253b9afececff0a6ba11d40b7f79f88ec151/test_nb.ipynb', '*')\", 'foo()', 'globals()', 'g = globals()', 'g', 'g.items()', 'g.keys()', \"g['foo']\", \"g['get_ipython']\", \"x={'a':1}\", \"x.update({'b':2})\", 'x', 'from importlib import reload\\nreload(ur)\\nimport ur', \"ur('https://gist.githubusercontent.com/ryan-williams/58d781f4ea97e98ee80e6c4af0c8acf3/raw/458a253b9afececff0a6ba11d40b7f79f88ec151/test_nb.ipynb', '*')\", 'foo()', 'globals()'], 'Out': {7: {...}, 9: {...}, 10: ..., 11: dict_keys(['__name__', '__doc__', '__package__', '__loader__', '__spec__', '__builtin__', '__builtins__', '_ih', '_oh', '_dh', 'In', 'Out', 'get_ipython', 'exit', 'quit', '_', '__', '___', '_i', '_ii', '_iii', '_i1', 'ur', '_i2', '_i3', '_i4', 'reload', '_i5', '_i6', '_i7', '_7', '_i8', 'g', '_i9', '_9', '_i10', '_10', '_i11', '_11', '_i12', '_i13', '_13', '_i14', 'x', '_i15', '_i16', '_16', '_i17', '_i18', '_i19', '_i20']), 13: <bound method InteractiveShell.get_ipython of <ipykernel.zmqshell.ZMQInteractiveShell object at 0x1041c1ad0>>, 16: {'a': 1, 'b': 2}}, 'get_ipython': <bound method InteractiveShell.get_ipython of <ipykernel.zmqshell.ZMQInteractiveShell object at 0x1041c1ad0>>, 'exit': <IPython.core.autocall.ZMQExitAutocall object at 0x1041e8390>, 'quit': <IPython.core.autocall.ZMQExitAutocall object at 0x1041e8390>, '_': {'a': 1, 'b': 2}, '__': <bound method InteractiveShell.get_ipython of <ipykernel.zmqshell.ZMQInteractiveShell object at 0x1041c1ad0>>, '___': dict_keys(['__name__', '__doc__', '__package__', '__loader__', '__spec__', '__builtin__', '__builtins__', '_ih', '_oh', '_dh', 'In', 'Out', 'get_ipython', 'exit', 'quit', '_', '__', '___', '_i', '_ii', '_iii', '_i1', 'ur', '_i2', '_i3', '_i4', 'reload', '_i5', '_i6', '_i7', '_7', '_i8', 'g', '_i9', '_9', '_i10', '_10', '_i11', '_11', '_i12', '_i13', '_13', '_i14', 'x', '_i15', '_i16', '_16', '_i17', '_i18', '_i19', '_i20']), '_i': 'foo()', '_ii': \"ur('https://gist.githubusercontent.com/ryan-williams/58d781f4ea97e98ee80e6c4af0c8acf3/raw/458a253b9afececff0a6ba11d40b7f79f88ec151/test_nb.ipynb', '*')\", '_iii': 'from importlib import reload\\nreload(ur)\\nimport ur', '_i1': 'import ur', 'ur': <module 'ur' from '/Users/ryan/c/ur/ur.py'>, '_i2': \"ur('https://gist.githubusercontent.com/ryan-williams/58d781f4ea97e98ee80e6c4af0c8acf3/raw/458a253b9afececff0a6ba11d40b7f79f88ec151/test_nb.ipynb', '*')\", '_i3': 'foo()', '_i4': 'from importlib import reload\\nreload(ur)\\nimport ur', 'reload': <function reload at 0x102178cb0>, '_i5': \"ur('https://gist.githubusercontent.com/ryan-williams/58d781f4ea97e98ee80e6c4af0c8acf3/raw/458a253b9afececff0a6ba11d40b7f79f88ec151/test_nb.ipynb', '*')\", '_i6': 'foo()', '_i7': 'globals()', '_7': {...}, '_i8': 'g = globals()', 'g': {...}, '_i9': 'g', '_9': {...}, '_i10': 'g.items()', '_10': ..., '_i11': 'g.keys()', '_11': dict_keys(['__name__', '__doc__', '__package__', '__loader__', '__spec__', '__builtin__', '__builtins__', '_ih', '_oh', '_dh', 'In', 'Out', 'get_ipython', 'exit', 'quit', '_', '__', '___', '_i', '_ii', '_iii', '_i1', 'ur', '_i2', '_i3', '_i4', 'reload', '_i5', '_i6', '_i7', '_7', '_i8', 'g', '_i9', '_9', '_i10', '_10', '_i11', '_11', '_i12', '_i13', '_13', '_i14', 'x', '_i15', '_i16', '_16', '_i17', '_i18', '_i19', '_i20']), '_i12': \"g['foo']\", '_i13': \"g['get_ipython']\", '_13': <bound method InteractiveShell.get_ipython of <ipykernel.zmqshell.ZMQInteractiveShell object at 0x1041c1ad0>>, '_i14': \"x={'a':1}\", 'x': {'a': 1, 'b': 2}, '_i15': \"x.update({'b':2})\", '_i16': 'x', '_16': {'a': 1, 'b': 2}, '_i17': 'from importlib import reload\\nreload(ur)\\nimport ur', '_i18': \"ur('https://gist.githubusercontent.com/ryan-williams/58d781f4ea97e98ee80e6c4af0c8acf3/raw/458a253b9afececff0a6ba11d40b7f79f88ec151/test_nb.ipynb', '*')\", '_i19': 'foo()', '_i20': 'globals()'}), ('_i9', 'g'), ('_9', {'__name__': '__main__', '__doc__': 'Automatically created module for IPython interactive environment', '__package__': None, '__loader__': None, '__spec__': None, '__builtin__': <module 'builtins' (built-in)>, '__builtins__': <module 'builtins' (built-in)>, '_ih': ['', 'import ur', \"ur('https://gist.githubusercontent.com/ryan-williams/58d781f4ea97e98ee80e6c4af0c8acf3/raw/458a253b9afececff0a6ba11d40b7f79f88ec151/test_nb.ipynb', '*')\", 'foo()', 'from importlib import reload\\nreload(ur)\\nimport ur', \"ur('https://gist.githubusercontent.com/ryan-williams/58d781f4ea97e98ee80e6c4af0c8acf3/raw/458a253b9afececff0a6ba11d40b7f79f88ec151/test_nb.ipynb', '*')\", 'foo()', 'globals()', 'g = globals()', 'g', 'g.items()', 'g.keys()', \"g['foo']\", \"g['get_ipython']\", \"x={'a':1}\", \"x.update({'b':2})\", 'x', 'from importlib import reload\\nreload(ur)\\nimport ur', \"ur('https://gist.githubusercontent.com/ryan-williams/58d781f4ea97e98ee80e6c4af0c8acf3/raw/458a253b9afececff0a6ba11d40b7f79f88ec151/test_nb.ipynb', '*')\", 'foo()', 'globals()'], '_oh': {7: {...}, 9: {...}, 10: ..., 11: dict_keys(['__name__', '__doc__', '__package__', '__loader__', '__spec__', '__builtin__', '__builtins__', '_ih', '_oh', '_dh', 'In', 'Out', 'get_ipython', 'exit', 'quit', '_', '__', '___', '_i', '_ii', '_iii', '_i1', 'ur', '_i2', '_i3', '_i4', 'reload', '_i5', '_i6', '_i7', '_7', '_i8', 'g', '_i9', '_9', '_i10', '_10', '_i11', '_11', '_i12', '_i13', '_13', '_i14', 'x', '_i15', '_i16', '_16', '_i17', '_i18', '_i19', '_i20']), 13: <bound method InteractiveShell.get_ipython of <ipykernel.zmqshell.ZMQInteractiveShell object at 0x1041c1ad0>>, 16: {'a': 1, 'b': 2}}, '_dh': ['/Users/ryan/c/ur'], 'In': ['', 'import ur', \"ur('https://gist.githubusercontent.com/ryan-williams/58d781f4ea97e98ee80e6c4af0c8acf3/raw/458a253b9afececff0a6ba11d40b7f79f88ec151/test_nb.ipynb', '*')\", 'foo()', 'from importlib import reload\\nreload(ur)\\nimport ur', \"ur('https://gist.githubusercontent.com/ryan-williams/58d781f4ea97e98ee80e6c4af0c8acf3/raw/458a253b9afececff0a6ba11d40b7f79f88ec151/test_nb.ipynb', '*')\", 'foo()', 'globals()', 'g = globals()', 'g', 'g.items()', 'g.keys()', \"g['foo']\", \"g['get_ipython']\", \"x={'a':1}\", \"x.update({'b':2})\", 'x', 'from importlib import reload\\nreload(ur)\\nimport ur', \"ur('https://gist.githubusercontent.com/ryan-williams/58d781f4ea97e98ee80e6c4af0c8acf3/raw/458a253b9afececff0a6ba11d40b7f79f88ec151/test_nb.ipynb', '*')\", 'foo()', 'globals()'], 'Out': {7: {...}, 9: {...}, 10: ..., 11: dict_keys(['__name__', '__doc__', '__package__', '__loader__', '__spec__', '__builtin__', '__builtins__', '_ih', '_oh', '_dh', 'In', 'Out', 'get_ipython', 'exit', 'quit', '_', '__', '___', '_i', '_ii', '_iii', '_i1', 'ur', '_i2', '_i3', '_i4', 'reload', '_i5', '_i6', '_i7', '_7', '_i8', 'g', '_i9', '_9', '_i10', '_10', '_i11', '_11', '_i12', '_i13', '_13', '_i14', 'x', '_i15', '_i16', '_16', '_i17', '_i18', '_i19', '_i20']), 13: <bound method InteractiveShell.get_ipython of <ipykernel.zmqshell.ZMQInteractiveShell object at 0x1041c1ad0>>, 16: {'a': 1, 'b': 2}}, 'get_ipython': <bound method InteractiveShell.get_ipython of <ipykernel.zmqshell.ZMQInteractiveShell object at 0x1041c1ad0>>, 'exit': <IPython.core.autocall.ZMQExitAutocall object at 0x1041e8390>, 'quit': <IPython.core.autocall.ZMQExitAutocall object at 0x1041e8390>, '_': {'a': 1, 'b': 2}, '__': <bound method InteractiveShell.get_ipython of <ipykernel.zmqshell.ZMQInteractiveShell object at 0x1041c1ad0>>, '___': dict_keys(['__name__', '__doc__', '__package__', '__loader__', '__spec__', '__builtin__', '__builtins__', '_ih', '_oh', '_dh', 'In', 'Out', 'get_ipython', 'exit', 'quit', '_', '__', '___', '_i', '_ii', '_iii', '_i1', 'ur', '_i2', '_i3', '_i4', 'reload', '_i5', '_i6', '_i7', '_7', '_i8', 'g', '_i9', '_9', '_i10', '_10', '_i11', '_11', '_i12', '_i13', '_13', '_i14', 'x', '_i15', '_i16', '_16', '_i17', '_i18', '_i19', '_i20']), '_i': 'foo()', '_ii': \"ur('https://gist.githubusercontent.com/ryan-williams/58d781f4ea97e98ee80e6c4af0c8acf3/raw/458a253b9afececff0a6ba11d40b7f79f88ec151/test_nb.ipynb', '*')\", '_iii': 'from importlib import reload\\nreload(ur)\\nimport ur', '_i1': 'import ur', 'ur': <module 'ur' from '/Users/ryan/c/ur/ur.py'>, '_i2': \"ur('https://gist.githubusercontent.com/ryan-williams/58d781f4ea97e98ee80e6c4af0c8acf3/raw/458a253b9afececff0a6ba11d40b7f79f88ec151/test_nb.ipynb', '*')\", '_i3': 'foo()', '_i4': 'from importlib import reload\\nreload(ur)\\nimport ur', 'reload': <function reload at 0x102178cb0>, '_i5': \"ur('https://gist.githubusercontent.com/ryan-williams/58d781f4ea97e98ee80e6c4af0c8acf3/raw/458a253b9afececff0a6ba11d40b7f79f88ec151/test_nb.ipynb', '*')\", '_i6': 'foo()', '_i7': 'globals()', '_7': {...}, '_i8': 'g = globals()', 'g': {...}, '_i9': 'g', '_9': {...}, '_i10': 'g.items()', '_10': ..., '_i11': 'g.keys()', '_11': dict_keys(['__name__', '__doc__', '__package__', '__loader__', '__spec__', '__builtin__', '__builtins__', '_ih', '_oh', '_dh', 'In', 'Out', 'get_ipython', 'exit', 'quit', '_', '__', '___', '_i', '_ii', '_iii', '_i1', 'ur', '_i2', '_i3', '_i4', 'reload', '_i5', '_i6', '_i7', '_7', '_i8', 'g', '_i9', '_9', '_i10', '_10', '_i11', '_11', '_i12', '_i13', '_13', '_i14', 'x', '_i15', '_i16', '_16', '_i17', '_i18', '_i19', '_i20']), '_i12': \"g['foo']\", '_i13': \"g['get_ipython']\", '_13': <bound method InteractiveShell.get_ipython of <ipykernel.zmqshell.ZMQInteractiveShell object at 0x1041c1ad0>>, '_i14': \"x={'a':1}\", 'x': {'a': 1, 'b': 2}, '_i15': \"x.update({'b':2})\", '_i16': 'x', '_16': {'a': 1, 'b': 2}, '_i17': 'from importlib import reload\\nreload(ur)\\nimport ur', '_i18': \"ur('https://gist.githubusercontent.com/ryan-williams/58d781f4ea97e98ee80e6c4af0c8acf3/raw/458a253b9afececff0a6ba11d40b7f79f88ec151/test_nb.ipynb', '*')\", '_i19': 'foo()', '_i20': 'globals()'}), ('_i10', 'g.items()'), ('_10', ...), ('_i11', 'g.keys()'), ('_11', dict_keys(['__name__', '__doc__', '__package__', '__loader__', '__spec__', '__builtin__', '__builtins__', '_ih', '_oh', '_dh', 'In', 'Out', 'get_ipython', 'exit', 'quit', '_', '__', '___', '_i', '_ii', '_iii', '_i1', 'ur', '_i2', '_i3', '_i4', 'reload', '_i5', '_i6', '_i7', '_7', '_i8', 'g', '_i9', '_9', '_i10', '_10', '_i11', '_11', '_i12', '_i13', '_13', '_i14', 'x', '_i15', '_i16', '_16', '_i17', '_i18', '_i19', '_i20'])), ('_i12', \"g['foo']\"), ('_i13', \"g['get_ipython']\"), ('_13', <bound method InteractiveShell.get_ipython of <ipykernel.zmqshell.ZMQInteractiveShell object at 0x1041c1ad0>>), ('_i14', \"x={'a':1}\"), ('x', {'a': 1, 'b': 2}), ('_i15', \"x.update({'b':2})\"), ('_i16', 'x'), ('_16', {'a': 1, 'b': 2}), ('_i17', 'from importlib import reload\\nreload(ur)\\nimport ur'), ('_i18', \"ur('https://gist.githubusercontent.com/ryan-williams/58d781f4ea97e98ee80e6c4af0c8acf3/raw/458a253b9afececff0a6ba11d40b7f79f88ec151/test_nb.ipynb', '*')\"), ('_i19', 'foo()'), ('_i20', 'globals()')]),\n",
       "  11: dict_keys(['__name__', '__doc__', '__package__', '__loader__', '__spec__', '__builtin__', '__builtins__', '_ih', '_oh', '_dh', 'In', 'Out', 'get_ipython', 'exit', 'quit', '_', '__', '___', '_i', '_ii', '_iii', '_i1', 'ur', '_i2', '_i3', '_i4', 'reload', '_i5', '_i6', '_i7', '_7', '_i8', 'g', '_i9', '_9', '_i10', '_10', '_i11', '_11', '_i12', '_i13', '_13', '_i14', 'x', '_i15', '_i16', '_16', '_i17', '_i18', '_i19', '_i20']),\n",
       "  13: <bound method InteractiveShell.get_ipython of <ipykernel.zmqshell.ZMQInteractiveShell object at 0x1041c1ad0>>,\n",
       "  16: {'a': 1, 'b': 2}},\n",
       " '_dh': ['/Users/ryan/c/ur'],\n",
       " 'In': ['',\n",
       "  'import ur',\n",
       "  \"ur('https://gist.githubusercontent.com/ryan-williams/58d781f4ea97e98ee80e6c4af0c8acf3/raw/458a253b9afececff0a6ba11d40b7f79f88ec151/test_nb.ipynb', '*')\",\n",
       "  'foo()',\n",
       "  'from importlib import reload\\nreload(ur)\\nimport ur',\n",
       "  \"ur('https://gist.githubusercontent.com/ryan-williams/58d781f4ea97e98ee80e6c4af0c8acf3/raw/458a253b9afececff0a6ba11d40b7f79f88ec151/test_nb.ipynb', '*')\",\n",
       "  'foo()',\n",
       "  'globals()',\n",
       "  'g = globals()',\n",
       "  'g',\n",
       "  'g.items()',\n",
       "  'g.keys()',\n",
       "  \"g['foo']\",\n",
       "  \"g['get_ipython']\",\n",
       "  \"x={'a':1}\",\n",
       "  \"x.update({'b':2})\",\n",
       "  'x',\n",
       "  'from importlib import reload\\nreload(ur)\\nimport ur',\n",
       "  \"ur('https://gist.githubusercontent.com/ryan-williams/58d781f4ea97e98ee80e6c4af0c8acf3/raw/458a253b9afececff0a6ba11d40b7f79f88ec151/test_nb.ipynb', '*')\",\n",
       "  'foo()',\n",
       "  'globals()'],\n",
       " 'Out': {7: {...},\n",
       "  9: {...},\n",
       "  10: dict_items([('__name__', '__main__'), ('__doc__', 'Automatically created module for IPython interactive environment'), ('__package__', None), ('__loader__', None), ('__spec__', None), ('__builtin__', <module 'builtins' (built-in)>), ('__builtins__', <module 'builtins' (built-in)>), ('_ih', ['', 'import ur', \"ur('https://gist.githubusercontent.com/ryan-williams/58d781f4ea97e98ee80e6c4af0c8acf3/raw/458a253b9afececff0a6ba11d40b7f79f88ec151/test_nb.ipynb', '*')\", 'foo()', 'from importlib import reload\\nreload(ur)\\nimport ur', \"ur('https://gist.githubusercontent.com/ryan-williams/58d781f4ea97e98ee80e6c4af0c8acf3/raw/458a253b9afececff0a6ba11d40b7f79f88ec151/test_nb.ipynb', '*')\", 'foo()', 'globals()', 'g = globals()', 'g', 'g.items()', 'g.keys()', \"g['foo']\", \"g['get_ipython']\", \"x={'a':1}\", \"x.update({'b':2})\", 'x', 'from importlib import reload\\nreload(ur)\\nimport ur', \"ur('https://gist.githubusercontent.com/ryan-williams/58d781f4ea97e98ee80e6c4af0c8acf3/raw/458a253b9afececff0a6ba11d40b7f79f88ec151/test_nb.ipynb', '*')\", 'foo()', 'globals()']), ('_oh', {7: {'__name__': '__main__', '__doc__': 'Automatically created module for IPython interactive environment', '__package__': None, '__loader__': None, '__spec__': None, '__builtin__': <module 'builtins' (built-in)>, '__builtins__': <module 'builtins' (built-in)>, '_ih': ['', 'import ur', \"ur('https://gist.githubusercontent.com/ryan-williams/58d781f4ea97e98ee80e6c4af0c8acf3/raw/458a253b9afececff0a6ba11d40b7f79f88ec151/test_nb.ipynb', '*')\", 'foo()', 'from importlib import reload\\nreload(ur)\\nimport ur', \"ur('https://gist.githubusercontent.com/ryan-williams/58d781f4ea97e98ee80e6c4af0c8acf3/raw/458a253b9afececff0a6ba11d40b7f79f88ec151/test_nb.ipynb', '*')\", 'foo()', 'globals()', 'g = globals()', 'g', 'g.items()', 'g.keys()', \"g['foo']\", \"g['get_ipython']\", \"x={'a':1}\", \"x.update({'b':2})\", 'x', 'from importlib import reload\\nreload(ur)\\nimport ur', \"ur('https://gist.githubusercontent.com/ryan-williams/58d781f4ea97e98ee80e6c4af0c8acf3/raw/458a253b9afececff0a6ba11d40b7f79f88ec151/test_nb.ipynb', '*')\", 'foo()', 'globals()'], '_oh': {...}, '_dh': ['/Users/ryan/c/ur'], 'In': ['', 'import ur', \"ur('https://gist.githubusercontent.com/ryan-williams/58d781f4ea97e98ee80e6c4af0c8acf3/raw/458a253b9afececff0a6ba11d40b7f79f88ec151/test_nb.ipynb', '*')\", 'foo()', 'from importlib import reload\\nreload(ur)\\nimport ur', \"ur('https://gist.githubusercontent.com/ryan-williams/58d781f4ea97e98ee80e6c4af0c8acf3/raw/458a253b9afececff0a6ba11d40b7f79f88ec151/test_nb.ipynb', '*')\", 'foo()', 'globals()', 'g = globals()', 'g', 'g.items()', 'g.keys()', \"g['foo']\", \"g['get_ipython']\", \"x={'a':1}\", \"x.update({'b':2})\", 'x', 'from importlib import reload\\nreload(ur)\\nimport ur', \"ur('https://gist.githubusercontent.com/ryan-williams/58d781f4ea97e98ee80e6c4af0c8acf3/raw/458a253b9afececff0a6ba11d40b7f79f88ec151/test_nb.ipynb', '*')\", 'foo()', 'globals()'], 'Out': {...}, 'get_ipython': <bound method InteractiveShell.get_ipython of <ipykernel.zmqshell.ZMQInteractiveShell object at 0x1041c1ad0>>, 'exit': <IPython.core.autocall.ZMQExitAutocall object at 0x1041e8390>, 'quit': <IPython.core.autocall.ZMQExitAutocall object at 0x1041e8390>, '_': {'a': 1, 'b': 2}, '__': <bound method InteractiveShell.get_ipython of <ipykernel.zmqshell.ZMQInteractiveShell object at 0x1041c1ad0>>, '___': dict_keys(['__name__', '__doc__', '__package__', '__loader__', '__spec__', '__builtin__', '__builtins__', '_ih', '_oh', '_dh', 'In', 'Out', 'get_ipython', 'exit', 'quit', '_', '__', '___', '_i', '_ii', '_iii', '_i1', 'ur', '_i2', '_i3', '_i4', 'reload', '_i5', '_i6', '_i7', '_7', '_i8', 'g', '_i9', '_9', '_i10', '_10', '_i11', '_11', '_i12', '_i13', '_13', '_i14', 'x', '_i15', '_i16', '_16', '_i17', '_i18', '_i19', '_i20']), '_i': 'foo()', '_ii': \"ur('https://gist.githubusercontent.com/ryan-williams/58d781f4ea97e98ee80e6c4af0c8acf3/raw/458a253b9afececff0a6ba11d40b7f79f88ec151/test_nb.ipynb', '*')\", '_iii': 'from importlib import reload\\nreload(ur)\\nimport ur', '_i1': 'import ur', 'ur': <module 'ur' from '/Users/ryan/c/ur/ur.py'>, '_i2': \"ur('https://gist.githubusercontent.com/ryan-williams/58d781f4ea97e98ee80e6c4af0c8acf3/raw/458a253b9afececff0a6ba11d40b7f79f88ec151/test_nb.ipynb', '*')\", '_i3': 'foo()', '_i4': 'from importlib import reload\\nreload(ur)\\nimport ur', 'reload': <function reload at 0x102178cb0>, '_i5': \"ur('https://gist.githubusercontent.com/ryan-williams/58d781f4ea97e98ee80e6c4af0c8acf3/raw/458a253b9afececff0a6ba11d40b7f79f88ec151/test_nb.ipynb', '*')\", '_i6': 'foo()', '_i7': 'globals()', '_7': {...}, '_i8': 'g = globals()', 'g': {...}, '_i9': 'g', '_9': {...}, '_i10': 'g.items()', '_10': ..., '_i11': 'g.keys()', '_11': dict_keys(['__name__', '__doc__', '__package__', '__loader__', '__spec__', '__builtin__', '__builtins__', '_ih', '_oh', '_dh', 'In', 'Out', 'get_ipython', 'exit', 'quit', '_', '__', '___', '_i', '_ii', '_iii', '_i1', 'ur', '_i2', '_i3', '_i4', 'reload', '_i5', '_i6', '_i7', '_7', '_i8', 'g', '_i9', '_9', '_i10', '_10', '_i11', '_11', '_i12', '_i13', '_13', '_i14', 'x', '_i15', '_i16', '_16', '_i17', '_i18', '_i19', '_i20']), '_i12': \"g['foo']\", '_i13': \"g['get_ipython']\", '_13': <bound method InteractiveShell.get_ipython of <ipykernel.zmqshell.ZMQInteractiveShell object at 0x1041c1ad0>>, '_i14': \"x={'a':1}\", 'x': {'a': 1, 'b': 2}, '_i15': \"x.update({'b':2})\", '_i16': 'x', '_16': {'a': 1, 'b': 2}, '_i17': 'from importlib import reload\\nreload(ur)\\nimport ur', '_i18': \"ur('https://gist.githubusercontent.com/ryan-williams/58d781f4ea97e98ee80e6c4af0c8acf3/raw/458a253b9afececff0a6ba11d40b7f79f88ec151/test_nb.ipynb', '*')\", '_i19': 'foo()', '_i20': 'globals()'}, 9: {'__name__': '__main__', '__doc__': 'Automatically created module for IPython interactive environment', '__package__': None, '__loader__': None, '__spec__': None, '__builtin__': <module 'builtins' (built-in)>, '__builtins__': <module 'builtins' (built-in)>, '_ih': ['', 'import ur', \"ur('https://gist.githubusercontent.com/ryan-williams/58d781f4ea97e98ee80e6c4af0c8acf3/raw/458a253b9afececff0a6ba11d40b7f79f88ec151/test_nb.ipynb', '*')\", 'foo()', 'from importlib import reload\\nreload(ur)\\nimport ur', \"ur('https://gist.githubusercontent.com/ryan-williams/58d781f4ea97e98ee80e6c4af0c8acf3/raw/458a253b9afececff0a6ba11d40b7f79f88ec151/test_nb.ipynb', '*')\", 'foo()', 'globals()', 'g = globals()', 'g', 'g.items()', 'g.keys()', \"g['foo']\", \"g['get_ipython']\", \"x={'a':1}\", \"x.update({'b':2})\", 'x', 'from importlib import reload\\nreload(ur)\\nimport ur', \"ur('https://gist.githubusercontent.com/ryan-williams/58d781f4ea97e98ee80e6c4af0c8acf3/raw/458a253b9afececff0a6ba11d40b7f79f88ec151/test_nb.ipynb', '*')\", 'foo()', 'globals()'], '_oh': {...}, '_dh': ['/Users/ryan/c/ur'], 'In': ['', 'import ur', \"ur('https://gist.githubusercontent.com/ryan-williams/58d781f4ea97e98ee80e6c4af0c8acf3/raw/458a253b9afececff0a6ba11d40b7f79f88ec151/test_nb.ipynb', '*')\", 'foo()', 'from importlib import reload\\nreload(ur)\\nimport ur', \"ur('https://gist.githubusercontent.com/ryan-williams/58d781f4ea97e98ee80e6c4af0c8acf3/raw/458a253b9afececff0a6ba11d40b7f79f88ec151/test_nb.ipynb', '*')\", 'foo()', 'globals()', 'g = globals()', 'g', 'g.items()', 'g.keys()', \"g['foo']\", \"g['get_ipython']\", \"x={'a':1}\", \"x.update({'b':2})\", 'x', 'from importlib import reload\\nreload(ur)\\nimport ur', \"ur('https://gist.githubusercontent.com/ryan-williams/58d781f4ea97e98ee80e6c4af0c8acf3/raw/458a253b9afececff0a6ba11d40b7f79f88ec151/test_nb.ipynb', '*')\", 'foo()', 'globals()'], 'Out': {...}, 'get_ipython': <bound method InteractiveShell.get_ipython of <ipykernel.zmqshell.ZMQInteractiveShell object at 0x1041c1ad0>>, 'exit': <IPython.core.autocall.ZMQExitAutocall object at 0x1041e8390>, 'quit': <IPython.core.autocall.ZMQExitAutocall object at 0x1041e8390>, '_': {'a': 1, 'b': 2}, '__': <bound method InteractiveShell.get_ipython of <ipykernel.zmqshell.ZMQInteractiveShell object at 0x1041c1ad0>>, '___': dict_keys(['__name__', '__doc__', '__package__', '__loader__', '__spec__', '__builtin__', '__builtins__', '_ih', '_oh', '_dh', 'In', 'Out', 'get_ipython', 'exit', 'quit', '_', '__', '___', '_i', '_ii', '_iii', '_i1', 'ur', '_i2', '_i3', '_i4', 'reload', '_i5', '_i6', '_i7', '_7', '_i8', 'g', '_i9', '_9', '_i10', '_10', '_i11', '_11', '_i12', '_i13', '_13', '_i14', 'x', '_i15', '_i16', '_16', '_i17', '_i18', '_i19', '_i20']), '_i': 'foo()', '_ii': \"ur('https://gist.githubusercontent.com/ryan-williams/58d781f4ea97e98ee80e6c4af0c8acf3/raw/458a253b9afececff0a6ba11d40b7f79f88ec151/test_nb.ipynb', '*')\", '_iii': 'from importlib import reload\\nreload(ur)\\nimport ur', '_i1': 'import ur', 'ur': <module 'ur' from '/Users/ryan/c/ur/ur.py'>, '_i2': \"ur('https://gist.githubusercontent.com/ryan-williams/58d781f4ea97e98ee80e6c4af0c8acf3/raw/458a253b9afececff0a6ba11d40b7f79f88ec151/test_nb.ipynb', '*')\", '_i3': 'foo()', '_i4': 'from importlib import reload\\nreload(ur)\\nimport ur', 'reload': <function reload at 0x102178cb0>, '_i5': \"ur('https://gist.githubusercontent.com/ryan-williams/58d781f4ea97e98ee80e6c4af0c8acf3/raw/458a253b9afececff0a6ba11d40b7f79f88ec151/test_nb.ipynb', '*')\", '_i6': 'foo()', '_i7': 'globals()', '_7': {...}, '_i8': 'g = globals()', 'g': {...}, '_i9': 'g', '_9': {...}, '_i10': 'g.items()', '_10': ..., '_i11': 'g.keys()', '_11': dict_keys(['__name__', '__doc__', '__package__', '__loader__', '__spec__', '__builtin__', '__builtins__', '_ih', '_oh', '_dh', 'In', 'Out', 'get_ipython', 'exit', 'quit', '_', '__', '___', '_i', '_ii', '_iii', '_i1', 'ur', '_i2', '_i3', '_i4', 'reload', '_i5', '_i6', '_i7', '_7', '_i8', 'g', '_i9', '_9', '_i10', '_10', '_i11', '_11', '_i12', '_i13', '_13', '_i14', 'x', '_i15', '_i16', '_16', '_i17', '_i18', '_i19', '_i20']), '_i12': \"g['foo']\", '_i13': \"g['get_ipython']\", '_13': <bound method InteractiveShell.get_ipython of <ipykernel.zmqshell.ZMQInteractiveShell object at 0x1041c1ad0>>, '_i14': \"x={'a':1}\", 'x': {'a': 1, 'b': 2}, '_i15': \"x.update({'b':2})\", '_i16': 'x', '_16': {'a': 1, 'b': 2}, '_i17': 'from importlib import reload\\nreload(ur)\\nimport ur', '_i18': \"ur('https://gist.githubusercontent.com/ryan-williams/58d781f4ea97e98ee80e6c4af0c8acf3/raw/458a253b9afececff0a6ba11d40b7f79f88ec151/test_nb.ipynb', '*')\", '_i19': 'foo()', '_i20': 'globals()'}, 10: ..., 11: dict_keys(['__name__', '__doc__', '__package__', '__loader__', '__spec__', '__builtin__', '__builtins__', '_ih', '_oh', '_dh', 'In', 'Out', 'get_ipython', 'exit', 'quit', '_', '__', '___', '_i', '_ii', '_iii', '_i1', 'ur', '_i2', '_i3', '_i4', 'reload', '_i5', '_i6', '_i7', '_7', '_i8', 'g', '_i9', '_9', '_i10', '_10', '_i11', '_11', '_i12', '_i13', '_13', '_i14', 'x', '_i15', '_i16', '_16', '_i17', '_i18', '_i19', '_i20']), 13: <bound method InteractiveShell.get_ipython of <ipykernel.zmqshell.ZMQInteractiveShell object at 0x1041c1ad0>>, 16: {'a': 1, 'b': 2}}), ('_dh', ['/Users/ryan/c/ur']), ('In', ['', 'import ur', \"ur('https://gist.githubusercontent.com/ryan-williams/58d781f4ea97e98ee80e6c4af0c8acf3/raw/458a253b9afececff0a6ba11d40b7f79f88ec151/test_nb.ipynb', '*')\", 'foo()', 'from importlib import reload\\nreload(ur)\\nimport ur', \"ur('https://gist.githubusercontent.com/ryan-williams/58d781f4ea97e98ee80e6c4af0c8acf3/raw/458a253b9afececff0a6ba11d40b7f79f88ec151/test_nb.ipynb', '*')\", 'foo()', 'globals()', 'g = globals()', 'g', 'g.items()', 'g.keys()', \"g['foo']\", \"g['get_ipython']\", \"x={'a':1}\", \"x.update({'b':2})\", 'x', 'from importlib import reload\\nreload(ur)\\nimport ur', \"ur('https://gist.githubusercontent.com/ryan-williams/58d781f4ea97e98ee80e6c4af0c8acf3/raw/458a253b9afececff0a6ba11d40b7f79f88ec151/test_nb.ipynb', '*')\", 'foo()', 'globals()']), ('Out', {7: {'__name__': '__main__', '__doc__': 'Automatically created module for IPython interactive environment', '__package__': None, '__loader__': None, '__spec__': None, '__builtin__': <module 'builtins' (built-in)>, '__builtins__': <module 'builtins' (built-in)>, '_ih': ['', 'import ur', \"ur('https://gist.githubusercontent.com/ryan-williams/58d781f4ea97e98ee80e6c4af0c8acf3/raw/458a253b9afececff0a6ba11d40b7f79f88ec151/test_nb.ipynb', '*')\", 'foo()', 'from importlib import reload\\nreload(ur)\\nimport ur', \"ur('https://gist.githubusercontent.com/ryan-williams/58d781f4ea97e98ee80e6c4af0c8acf3/raw/458a253b9afececff0a6ba11d40b7f79f88ec151/test_nb.ipynb', '*')\", 'foo()', 'globals()', 'g = globals()', 'g', 'g.items()', 'g.keys()', \"g['foo']\", \"g['get_ipython']\", \"x={'a':1}\", \"x.update({'b':2})\", 'x', 'from importlib import reload\\nreload(ur)\\nimport ur', \"ur('https://gist.githubusercontent.com/ryan-williams/58d781f4ea97e98ee80e6c4af0c8acf3/raw/458a253b9afececff0a6ba11d40b7f79f88ec151/test_nb.ipynb', '*')\", 'foo()', 'globals()'], '_oh': {...}, '_dh': ['/Users/ryan/c/ur'], 'In': ['', 'import ur', \"ur('https://gist.githubusercontent.com/ryan-williams/58d781f4ea97e98ee80e6c4af0c8acf3/raw/458a253b9afececff0a6ba11d40b7f79f88ec151/test_nb.ipynb', '*')\", 'foo()', 'from importlib import reload\\nreload(ur)\\nimport ur', \"ur('https://gist.githubusercontent.com/ryan-williams/58d781f4ea97e98ee80e6c4af0c8acf3/raw/458a253b9afececff0a6ba11d40b7f79f88ec151/test_nb.ipynb', '*')\", 'foo()', 'globals()', 'g = globals()', 'g', 'g.items()', 'g.keys()', \"g['foo']\", \"g['get_ipython']\", \"x={'a':1}\", \"x.update({'b':2})\", 'x', 'from importlib import reload\\nreload(ur)\\nimport ur', \"ur('https://gist.githubusercontent.com/ryan-williams/58d781f4ea97e98ee80e6c4af0c8acf3/raw/458a253b9afececff0a6ba11d40b7f79f88ec151/test_nb.ipynb', '*')\", 'foo()', 'globals()'], 'Out': {...}, 'get_ipython': <bound method InteractiveShell.get_ipython of <ipykernel.zmqshell.ZMQInteractiveShell object at 0x1041c1ad0>>, 'exit': <IPython.core.autocall.ZMQExitAutocall object at 0x1041e8390>, 'quit': <IPython.core.autocall.ZMQExitAutocall object at 0x1041e8390>, '_': {'a': 1, 'b': 2}, '__': <bound method InteractiveShell.get_ipython of <ipykernel.zmqshell.ZMQInteractiveShell object at 0x1041c1ad0>>, '___': dict_keys(['__name__', '__doc__', '__package__', '__loader__', '__spec__', '__builtin__', '__builtins__', '_ih', '_oh', '_dh', 'In', 'Out', 'get_ipython', 'exit', 'quit', '_', '__', '___', '_i', '_ii', '_iii', '_i1', 'ur', '_i2', '_i3', '_i4', 'reload', '_i5', '_i6', '_i7', '_7', '_i8', 'g', '_i9', '_9', '_i10', '_10', '_i11', '_11', '_i12', '_i13', '_13', '_i14', 'x', '_i15', '_i16', '_16', '_i17', '_i18', '_i19', '_i20']), '_i': 'foo()', '_ii': \"ur('https://gist.githubusercontent.com/ryan-williams/58d781f4ea97e98ee80e6c4af0c8acf3/raw/458a253b9afececff0a6ba11d40b7f79f88ec151/test_nb.ipynb', '*')\", '_iii': 'from importlib import reload\\nreload(ur)\\nimport ur', '_i1': 'import ur', 'ur': <module 'ur' from '/Users/ryan/c/ur/ur.py'>, '_i2': \"ur('https://gist.githubusercontent.com/ryan-williams/58d781f4ea97e98ee80e6c4af0c8acf3/raw/458a253b9afececff0a6ba11d40b7f79f88ec151/test_nb.ipynb', '*')\", '_i3': 'foo()', '_i4': 'from importlib import reload\\nreload(ur)\\nimport ur', 'reload': <function reload at 0x102178cb0>, '_i5': \"ur('https://gist.githubusercontent.com/ryan-williams/58d781f4ea97e98ee80e6c4af0c8acf3/raw/458a253b9afececff0a6ba11d40b7f79f88ec151/test_nb.ipynb', '*')\", '_i6': 'foo()', '_i7': 'globals()', '_7': {...}, '_i8': 'g = globals()', 'g': {...}, '_i9': 'g', '_9': {...}, '_i10': 'g.items()', '_10': ..., '_i11': 'g.keys()', '_11': dict_keys(['__name__', '__doc__', '__package__', '__loader__', '__spec__', '__builtin__', '__builtins__', '_ih', '_oh', '_dh', 'In', 'Out', 'get_ipython', 'exit', 'quit', '_', '__', '___', '_i', '_ii', '_iii', '_i1', 'ur', '_i2', '_i3', '_i4', 'reload', '_i5', '_i6', '_i7', '_7', '_i8', 'g', '_i9', '_9', '_i10', '_10', '_i11', '_11', '_i12', '_i13', '_13', '_i14', 'x', '_i15', '_i16', '_16', '_i17', '_i18', '_i19', '_i20']), '_i12': \"g['foo']\", '_i13': \"g['get_ipython']\", '_13': <bound method InteractiveShell.get_ipython of <ipykernel.zmqshell.ZMQInteractiveShell object at 0x1041c1ad0>>, '_i14': \"x={'a':1}\", 'x': {'a': 1, 'b': 2}, '_i15': \"x.update({'b':2})\", '_i16': 'x', '_16': {'a': 1, 'b': 2}, '_i17': 'from importlib import reload\\nreload(ur)\\nimport ur', '_i18': \"ur('https://gist.githubusercontent.com/ryan-williams/58d781f4ea97e98ee80e6c4af0c8acf3/raw/458a253b9afececff0a6ba11d40b7f79f88ec151/test_nb.ipynb', '*')\", '_i19': 'foo()', '_i20': 'globals()'}, 9: {'__name__': '__main__', '__doc__': 'Automatically created module for IPython interactive environment', '__package__': None, '__loader__': None, '__spec__': None, '__builtin__': <module 'builtins' (built-in)>, '__builtins__': <module 'builtins' (built-in)>, '_ih': ['', 'import ur', \"ur('https://gist.githubusercontent.com/ryan-williams/58d781f4ea97e98ee80e6c4af0c8acf3/raw/458a253b9afececff0a6ba11d40b7f79f88ec151/test_nb.ipynb', '*')\", 'foo()', 'from importlib import reload\\nreload(ur)\\nimport ur', \"ur('https://gist.githubusercontent.com/ryan-williams/58d781f4ea97e98ee80e6c4af0c8acf3/raw/458a253b9afececff0a6ba11d40b7f79f88ec151/test_nb.ipynb', '*')\", 'foo()', 'globals()', 'g = globals()', 'g', 'g.items()', 'g.keys()', \"g['foo']\", \"g['get_ipython']\", \"x={'a':1}\", \"x.update({'b':2})\", 'x', 'from importlib import reload\\nreload(ur)\\nimport ur', \"ur('https://gist.githubusercontent.com/ryan-williams/58d781f4ea97e98ee80e6c4af0c8acf3/raw/458a253b9afececff0a6ba11d40b7f79f88ec151/test_nb.ipynb', '*')\", 'foo()', 'globals()'], '_oh': {...}, '_dh': ['/Users/ryan/c/ur'], 'In': ['', 'import ur', \"ur('https://gist.githubusercontent.com/ryan-williams/58d781f4ea97e98ee80e6c4af0c8acf3/raw/458a253b9afececff0a6ba11d40b7f79f88ec151/test_nb.ipynb', '*')\", 'foo()', 'from importlib import reload\\nreload(ur)\\nimport ur', \"ur('https://gist.githubusercontent.com/ryan-williams/58d781f4ea97e98ee80e6c4af0c8acf3/raw/458a253b9afececff0a6ba11d40b7f79f88ec151/test_nb.ipynb', '*')\", 'foo()', 'globals()', 'g = globals()', 'g', 'g.items()', 'g.keys()', \"g['foo']\", \"g['get_ipython']\", \"x={'a':1}\", \"x.update({'b':2})\", 'x', 'from importlib import reload\\nreload(ur)\\nimport ur', \"ur('https://gist.githubusercontent.com/ryan-williams/58d781f4ea97e98ee80e6c4af0c8acf3/raw/458a253b9afececff0a6ba11d40b7f79f88ec151/test_nb.ipynb', '*')\", 'foo()', 'globals()'], 'Out': {...}, 'get_ipython': <bound method InteractiveShell.get_ipython of <ipykernel.zmqshell.ZMQInteractiveShell object at 0x1041c1ad0>>, 'exit': <IPython.core.autocall.ZMQExitAutocall object at 0x1041e8390>, 'quit': <IPython.core.autocall.ZMQExitAutocall object at 0x1041e8390>, '_': {'a': 1, 'b': 2}, '__': <bound method InteractiveShell.get_ipython of <ipykernel.zmqshell.ZMQInteractiveShell object at 0x1041c1ad0>>, '___': dict_keys(['__name__', '__doc__', '__package__', '__loader__', '__spec__', '__builtin__', '__builtins__', '_ih', '_oh', '_dh', 'In', 'Out', 'get_ipython', 'exit', 'quit', '_', '__', '___', '_i', '_ii', '_iii', '_i1', 'ur', '_i2', '_i3', '_i4', 'reload', '_i5', '_i6', '_i7', '_7', '_i8', 'g', '_i9', '_9', '_i10', '_10', '_i11', '_11', '_i12', '_i13', '_13', '_i14', 'x', '_i15', '_i16', '_16', '_i17', '_i18', '_i19', '_i20']), '_i': 'foo()', '_ii': \"ur('https://gist.githubusercontent.com/ryan-williams/58d781f4ea97e98ee80e6c4af0c8acf3/raw/458a253b9afececff0a6ba11d40b7f79f88ec151/test_nb.ipynb', '*')\", '_iii': 'from importlib import reload\\nreload(ur)\\nimport ur', '_i1': 'import ur', 'ur': <module 'ur' from '/Users/ryan/c/ur/ur.py'>, '_i2': \"ur('https://gist.githubusercontent.com/ryan-williams/58d781f4ea97e98ee80e6c4af0c8acf3/raw/458a253b9afececff0a6ba11d40b7f79f88ec151/test_nb.ipynb', '*')\", '_i3': 'foo()', '_i4': 'from importlib import reload\\nreload(ur)\\nimport ur', 'reload': <function reload at 0x102178cb0>, '_i5': \"ur('https://gist.githubusercontent.com/ryan-williams/58d781f4ea97e98ee80e6c4af0c8acf3/raw/458a253b9afececff0a6ba11d40b7f79f88ec151/test_nb.ipynb', '*')\", '_i6': 'foo()', '_i7': 'globals()', '_7': {...}, '_i8': 'g = globals()', 'g': {...}, '_i9': 'g', '_9': {...}, '_i10': 'g.items()', '_10': ..., '_i11': 'g.keys()', '_11': dict_keys(['__name__', '__doc__', '__package__', '__loader__', '__spec__', '__builtin__', '__builtins__', '_ih', '_oh', '_dh', 'In', 'Out', 'get_ipython', 'exit', 'quit', '_', '__', '___', '_i', '_ii', '_iii', '_i1', 'ur', '_i2', '_i3', '_i4', 'reload', '_i5', '_i6', '_i7', '_7', '_i8', 'g', '_i9', '_9', '_i10', '_10', '_i11', '_11', '_i12', '_i13', '_13', '_i14', 'x', '_i15', '_i16', '_16', '_i17', '_i18', '_i19', '_i20']), '_i12': \"g['foo']\", '_i13': \"g['get_ipython']\", '_13': <bound method InteractiveShell.get_ipython of <ipykernel.zmqshell.ZMQInteractiveShell object at 0x1041c1ad0>>, '_i14': \"x={'a':1}\", 'x': {'a': 1, 'b': 2}, '_i15': \"x.update({'b':2})\", '_i16': 'x', '_16': {'a': 1, 'b': 2}, '_i17': 'from importlib import reload\\nreload(ur)\\nimport ur', '_i18': \"ur('https://gist.githubusercontent.com/ryan-williams/58d781f4ea97e98ee80e6c4af0c8acf3/raw/458a253b9afececff0a6ba11d40b7f79f88ec151/test_nb.ipynb', '*')\", '_i19': 'foo()', '_i20': 'globals()'}, 10: ..., 11: dict_keys(['__name__', '__doc__', '__package__', '__loader__', '__spec__', '__builtin__', '__builtins__', '_ih', '_oh', '_dh', 'In', 'Out', 'get_ipython', 'exit', 'quit', '_', '__', '___', '_i', '_ii', '_iii', '_i1', 'ur', '_i2', '_i3', '_i4', 'reload', '_i5', '_i6', '_i7', '_7', '_i8', 'g', '_i9', '_9', '_i10', '_10', '_i11', '_11', '_i12', '_i13', '_13', '_i14', 'x', '_i15', '_i16', '_16', '_i17', '_i18', '_i19', '_i20']), 13: <bound method InteractiveShell.get_ipython of <ipykernel.zmqshell.ZMQInteractiveShell object at 0x1041c1ad0>>, 16: {'a': 1, 'b': 2}}), ('get_ipython', <bound method InteractiveShell.get_ipython of <ipykernel.zmqshell.ZMQInteractiveShell object at 0x1041c1ad0>>), ('exit', <IPython.core.autocall.ZMQExitAutocall object at 0x1041e8390>), ('quit', <IPython.core.autocall.ZMQExitAutocall object at 0x1041e8390>), ('_', {'a': 1, 'b': 2}), ('__', <bound method InteractiveShell.get_ipython of <ipykernel.zmqshell.ZMQInteractiveShell object at 0x1041c1ad0>>), ('___', dict_keys(['__name__', '__doc__', '__package__', '__loader__', '__spec__', '__builtin__', '__builtins__', '_ih', '_oh', '_dh', 'In', 'Out', 'get_ipython', 'exit', 'quit', '_', '__', '___', '_i', '_ii', '_iii', '_i1', 'ur', '_i2', '_i3', '_i4', 'reload', '_i5', '_i6', '_i7', '_7', '_i8', 'g', '_i9', '_9', '_i10', '_10', '_i11', '_11', '_i12', '_i13', '_13', '_i14', 'x', '_i15', '_i16', '_16', '_i17', '_i18', '_i19', '_i20'])), ('_i', 'foo()'), ('_ii', \"ur('https://gist.githubusercontent.com/ryan-williams/58d781f4ea97e98ee80e6c4af0c8acf3/raw/458a253b9afececff0a6ba11d40b7f79f88ec151/test_nb.ipynb', '*')\"), ('_iii', 'from importlib import reload\\nreload(ur)\\nimport ur'), ('_i1', 'import ur'), ('ur', <module 'ur' from '/Users/ryan/c/ur/ur.py'>), ('_i2', \"ur('https://gist.githubusercontent.com/ryan-williams/58d781f4ea97e98ee80e6c4af0c8acf3/raw/458a253b9afececff0a6ba11d40b7f79f88ec151/test_nb.ipynb', '*')\"), ('_i3', 'foo()'), ('_i4', 'from importlib import reload\\nreload(ur)\\nimport ur'), ('reload', <function reload at 0x102178cb0>), ('_i5', \"ur('https://gist.githubusercontent.com/ryan-williams/58d781f4ea97e98ee80e6c4af0c8acf3/raw/458a253b9afececff0a6ba11d40b7f79f88ec151/test_nb.ipynb', '*')\"), ('_i6', 'foo()'), ('_i7', 'globals()'), ('_7', {'__name__': '__main__', '__doc__': 'Automatically created module for IPython interactive environment', '__package__': None, '__loader__': None, '__spec__': None, '__builtin__': <module 'builtins' (built-in)>, '__builtins__': <module 'builtins' (built-in)>, '_ih': ['', 'import ur', \"ur('https://gist.githubusercontent.com/ryan-williams/58d781f4ea97e98ee80e6c4af0c8acf3/raw/458a253b9afececff0a6ba11d40b7f79f88ec151/test_nb.ipynb', '*')\", 'foo()', 'from importlib import reload\\nreload(ur)\\nimport ur', \"ur('https://gist.githubusercontent.com/ryan-williams/58d781f4ea97e98ee80e6c4af0c8acf3/raw/458a253b9afececff0a6ba11d40b7f79f88ec151/test_nb.ipynb', '*')\", 'foo()', 'globals()', 'g = globals()', 'g', 'g.items()', 'g.keys()', \"g['foo']\", \"g['get_ipython']\", \"x={'a':1}\", \"x.update({'b':2})\", 'x', 'from importlib import reload\\nreload(ur)\\nimport ur', \"ur('https://gist.githubusercontent.com/ryan-williams/58d781f4ea97e98ee80e6c4af0c8acf3/raw/458a253b9afececff0a6ba11d40b7f79f88ec151/test_nb.ipynb', '*')\", 'foo()', 'globals()'], '_oh': {7: {...}, 9: {...}, 10: ..., 11: dict_keys(['__name__', '__doc__', '__package__', '__loader__', '__spec__', '__builtin__', '__builtins__', '_ih', '_oh', '_dh', 'In', 'Out', 'get_ipython', 'exit', 'quit', '_', '__', '___', '_i', '_ii', '_iii', '_i1', 'ur', '_i2', '_i3', '_i4', 'reload', '_i5', '_i6', '_i7', '_7', '_i8', 'g', '_i9', '_9', '_i10', '_10', '_i11', '_11', '_i12', '_i13', '_13', '_i14', 'x', '_i15', '_i16', '_16', '_i17', '_i18', '_i19', '_i20']), 13: <bound method InteractiveShell.get_ipython of <ipykernel.zmqshell.ZMQInteractiveShell object at 0x1041c1ad0>>, 16: {'a': 1, 'b': 2}}, '_dh': ['/Users/ryan/c/ur'], 'In': ['', 'import ur', \"ur('https://gist.githubusercontent.com/ryan-williams/58d781f4ea97e98ee80e6c4af0c8acf3/raw/458a253b9afececff0a6ba11d40b7f79f88ec151/test_nb.ipynb', '*')\", 'foo()', 'from importlib import reload\\nreload(ur)\\nimport ur', \"ur('https://gist.githubusercontent.com/ryan-williams/58d781f4ea97e98ee80e6c4af0c8acf3/raw/458a253b9afececff0a6ba11d40b7f79f88ec151/test_nb.ipynb', '*')\", 'foo()', 'globals()', 'g = globals()', 'g', 'g.items()', 'g.keys()', \"g['foo']\", \"g['get_ipython']\", \"x={'a':1}\", \"x.update({'b':2})\", 'x', 'from importlib import reload\\nreload(ur)\\nimport ur', \"ur('https://gist.githubusercontent.com/ryan-williams/58d781f4ea97e98ee80e6c4af0c8acf3/raw/458a253b9afececff0a6ba11d40b7f79f88ec151/test_nb.ipynb', '*')\", 'foo()', 'globals()'], 'Out': {7: {...}, 9: {...}, 10: ..., 11: dict_keys(['__name__', '__doc__', '__package__', '__loader__', '__spec__', '__builtin__', '__builtins__', '_ih', '_oh', '_dh', 'In', 'Out', 'get_ipython', 'exit', 'quit', '_', '__', '___', '_i', '_ii', '_iii', '_i1', 'ur', '_i2', '_i3', '_i4', 'reload', '_i5', '_i6', '_i7', '_7', '_i8', 'g', '_i9', '_9', '_i10', '_10', '_i11', '_11', '_i12', '_i13', '_13', '_i14', 'x', '_i15', '_i16', '_16', '_i17', '_i18', '_i19', '_i20']), 13: <bound method InteractiveShell.get_ipython of <ipykernel.zmqshell.ZMQInteractiveShell object at 0x1041c1ad0>>, 16: {'a': 1, 'b': 2}}, 'get_ipython': <bound method InteractiveShell.get_ipython of <ipykernel.zmqshell.ZMQInteractiveShell object at 0x1041c1ad0>>, 'exit': <IPython.core.autocall.ZMQExitAutocall object at 0x1041e8390>, 'quit': <IPython.core.autocall.ZMQExitAutocall object at 0x1041e8390>, '_': {'a': 1, 'b': 2}, '__': <bound method InteractiveShell.get_ipython of <ipykernel.zmqshell.ZMQInteractiveShell object at 0x1041c1ad0>>, '___': dict_keys(['__name__', '__doc__', '__package__', '__loader__', '__spec__', '__builtin__', '__builtins__', '_ih', '_oh', '_dh', 'In', 'Out', 'get_ipython', 'exit', 'quit', '_', '__', '___', '_i', '_ii', '_iii', '_i1', 'ur', '_i2', '_i3', '_i4', 'reload', '_i5', '_i6', '_i7', '_7', '_i8', 'g', '_i9', '_9', '_i10', '_10', '_i11', '_11', '_i12', '_i13', '_13', '_i14', 'x', '_i15', '_i16', '_16', '_i17', '_i18', '_i19', '_i20']), '_i': 'foo()', '_ii': \"ur('https://gist.githubusercontent.com/ryan-williams/58d781f4ea97e98ee80e6c4af0c8acf3/raw/458a253b9afececff0a6ba11d40b7f79f88ec151/test_nb.ipynb', '*')\", '_iii': 'from importlib import reload\\nreload(ur)\\nimport ur', '_i1': 'import ur', 'ur': <module 'ur' from '/Users/ryan/c/ur/ur.py'>, '_i2': \"ur('https://gist.githubusercontent.com/ryan-williams/58d781f4ea97e98ee80e6c4af0c8acf3/raw/458a253b9afececff0a6ba11d40b7f79f88ec151/test_nb.ipynb', '*')\", '_i3': 'foo()', '_i4': 'from importlib import reload\\nreload(ur)\\nimport ur', 'reload': <function reload at 0x102178cb0>, '_i5': \"ur('https://gist.githubusercontent.com/ryan-williams/58d781f4ea97e98ee80e6c4af0c8acf3/raw/458a253b9afececff0a6ba11d40b7f79f88ec151/test_nb.ipynb', '*')\", '_i6': 'foo()', '_i7': 'globals()', '_7': {...}, '_i8': 'g = globals()', 'g': {...}, '_i9': 'g', '_9': {...}, '_i10': 'g.items()', '_10': ..., '_i11': 'g.keys()', '_11': dict_keys(['__name__', '__doc__', '__package__', '__loader__', '__spec__', '__builtin__', '__builtins__', '_ih', '_oh', '_dh', 'In', 'Out', 'get_ipython', 'exit', 'quit', '_', '__', '___', '_i', '_ii', '_iii', '_i1', 'ur', '_i2', '_i3', '_i4', 'reload', '_i5', '_i6', '_i7', '_7', '_i8', 'g', '_i9', '_9', '_i10', '_10', '_i11', '_11', '_i12', '_i13', '_13', '_i14', 'x', '_i15', '_i16', '_16', '_i17', '_i18', '_i19', '_i20']), '_i12': \"g['foo']\", '_i13': \"g['get_ipython']\", '_13': <bound method InteractiveShell.get_ipython of <ipykernel.zmqshell.ZMQInteractiveShell object at 0x1041c1ad0>>, '_i14': \"x={'a':1}\", 'x': {'a': 1, 'b': 2}, '_i15': \"x.update({'b':2})\", '_i16': 'x', '_16': {'a': 1, 'b': 2}, '_i17': 'from importlib import reload\\nreload(ur)\\nimport ur', '_i18': \"ur('https://gist.githubusercontent.com/ryan-williams/58d781f4ea97e98ee80e6c4af0c8acf3/raw/458a253b9afececff0a6ba11d40b7f79f88ec151/test_nb.ipynb', '*')\", '_i19': 'foo()', '_i20': 'globals()'}), ('_i8', 'g = globals()'), ('g', {'__name__': '__main__', '__doc__': 'Automatically created module for IPython interactive environment', '__package__': None, '__loader__': None, '__spec__': None, '__builtin__': <module 'builtins' (built-in)>, '__builtins__': <module 'builtins' (built-in)>, '_ih': ['', 'import ur', \"ur('https://gist.githubusercontent.com/ryan-williams/58d781f4ea97e98ee80e6c4af0c8acf3/raw/458a253b9afececff0a6ba11d40b7f79f88ec151/test_nb.ipynb', '*')\", 'foo()', 'from importlib import reload\\nreload(ur)\\nimport ur', \"ur('https://gist.githubusercontent.com/ryan-williams/58d781f4ea97e98ee80e6c4af0c8acf3/raw/458a253b9afececff0a6ba11d40b7f79f88ec151/test_nb.ipynb', '*')\", 'foo()', 'globals()', 'g = globals()', 'g', 'g.items()', 'g.keys()', \"g['foo']\", \"g['get_ipython']\", \"x={'a':1}\", \"x.update({'b':2})\", 'x', 'from importlib import reload\\nreload(ur)\\nimport ur', \"ur('https://gist.githubusercontent.com/ryan-williams/58d781f4ea97e98ee80e6c4af0c8acf3/raw/458a253b9afececff0a6ba11d40b7f79f88ec151/test_nb.ipynb', '*')\", 'foo()', 'globals()'], '_oh': {7: {...}, 9: {...}, 10: ..., 11: dict_keys(['__name__', '__doc__', '__package__', '__loader__', '__spec__', '__builtin__', '__builtins__', '_ih', '_oh', '_dh', 'In', 'Out', 'get_ipython', 'exit', 'quit', '_', '__', '___', '_i', '_ii', '_iii', '_i1', 'ur', '_i2', '_i3', '_i4', 'reload', '_i5', '_i6', '_i7', '_7', '_i8', 'g', '_i9', '_9', '_i10', '_10', '_i11', '_11', '_i12', '_i13', '_13', '_i14', 'x', '_i15', '_i16', '_16', '_i17', '_i18', '_i19', '_i20']), 13: <bound method InteractiveShell.get_ipython of <ipykernel.zmqshell.ZMQInteractiveShell object at 0x1041c1ad0>>, 16: {'a': 1, 'b': 2}}, '_dh': ['/Users/ryan/c/ur'], 'In': ['', 'import ur', \"ur('https://gist.githubusercontent.com/ryan-williams/58d781f4ea97e98ee80e6c4af0c8acf3/raw/458a253b9afececff0a6ba11d40b7f79f88ec151/test_nb.ipynb', '*')\", 'foo()', 'from importlib import reload\\nreload(ur)\\nimport ur', \"ur('https://gist.githubusercontent.com/ryan-williams/58d781f4ea97e98ee80e6c4af0c8acf3/raw/458a253b9afececff0a6ba11d40b7f79f88ec151/test_nb.ipynb', '*')\", 'foo()', 'globals()', 'g = globals()', 'g', 'g.items()', 'g.keys()', \"g['foo']\", \"g['get_ipython']\", \"x={'a':1}\", \"x.update({'b':2})\", 'x', 'from importlib import reload\\nreload(ur)\\nimport ur', \"ur('https://gist.githubusercontent.com/ryan-williams/58d781f4ea97e98ee80e6c4af0c8acf3/raw/458a253b9afececff0a6ba11d40b7f79f88ec151/test_nb.ipynb', '*')\", 'foo()', 'globals()'], 'Out': {7: {...}, 9: {...}, 10: ..., 11: dict_keys(['__name__', '__doc__', '__package__', '__loader__', '__spec__', '__builtin__', '__builtins__', '_ih', '_oh', '_dh', 'In', 'Out', 'get_ipython', 'exit', 'quit', '_', '__', '___', '_i', '_ii', '_iii', '_i1', 'ur', '_i2', '_i3', '_i4', 'reload', '_i5', '_i6', '_i7', '_7', '_i8', 'g', '_i9', '_9', '_i10', '_10', '_i11', '_11', '_i12', '_i13', '_13', '_i14', 'x', '_i15', '_i16', '_16', '_i17', '_i18', '_i19', '_i20']), 13: <bound method InteractiveShell.get_ipython of <ipykernel.zmqshell.ZMQInteractiveShell object at 0x1041c1ad0>>, 16: {'a': 1, 'b': 2}}, 'get_ipython': <bound method InteractiveShell.get_ipython of <ipykernel.zmqshell.ZMQInteractiveShell object at 0x1041c1ad0>>, 'exit': <IPython.core.autocall.ZMQExitAutocall object at 0x1041e8390>, 'quit': <IPython.core.autocall.ZMQExitAutocall object at 0x1041e8390>, '_': {'a': 1, 'b': 2}, '__': <bound method InteractiveShell.get_ipython of <ipykernel.zmqshell.ZMQInteractiveShell object at 0x1041c1ad0>>, '___': dict_keys(['__name__', '__doc__', '__package__', '__loader__', '__spec__', '__builtin__', '__builtins__', '_ih', '_oh', '_dh', 'In', 'Out', 'get_ipython', 'exit', 'quit', '_', '__', '___', '_i', '_ii', '_iii', '_i1', 'ur', '_i2', '_i3', '_i4', 'reload', '_i5', '_i6', '_i7', '_7', '_i8', 'g', '_i9', '_9', '_i10', '_10', '_i11', '_11', '_i12', '_i13', '_13', '_i14', 'x', '_i15', '_i16', '_16', '_i17', '_i18', '_i19', '_i20']), '_i': 'foo()', '_ii': \"ur('https://gist.githubusercontent.com/ryan-williams/58d781f4ea97e98ee80e6c4af0c8acf3/raw/458a253b9afececff0a6ba11d40b7f79f88ec151/test_nb.ipynb', '*')\", '_iii': 'from importlib import reload\\nreload(ur)\\nimport ur', '_i1': 'import ur', 'ur': <module 'ur' from '/Users/ryan/c/ur/ur.py'>, '_i2': \"ur('https://gist.githubusercontent.com/ryan-williams/58d781f4ea97e98ee80e6c4af0c8acf3/raw/458a253b9afececff0a6ba11d40b7f79f88ec151/test_nb.ipynb', '*')\", '_i3': 'foo()', '_i4': 'from importlib import reload\\nreload(ur)\\nimport ur', 'reload': <function reload at 0x102178cb0>, '_i5': \"ur('https://gist.githubusercontent.com/ryan-williams/58d781f4ea97e98ee80e6c4af0c8acf3/raw/458a253b9afececff0a6ba11d40b7f79f88ec151/test_nb.ipynb', '*')\", '_i6': 'foo()', '_i7': 'globals()', '_7': {...}, '_i8': 'g = globals()', 'g': {...}, '_i9': 'g', '_9': {...}, '_i10': 'g.items()', '_10': ..., '_i11': 'g.keys()', '_11': dict_keys(['__name__', '__doc__', '__package__', '__loader__', '__spec__', '__builtin__', '__builtins__', '_ih', '_oh', '_dh', 'In', 'Out', 'get_ipython', 'exit', 'quit', '_', '__', '___', '_i', '_ii', '_iii', '_i1', 'ur', '_i2', '_i3', '_i4', 'reload', '_i5', '_i6', '_i7', '_7', '_i8', 'g', '_i9', '_9', '_i10', '_10', '_i11', '_11', '_i12', '_i13', '_13', '_i14', 'x', '_i15', '_i16', '_16', '_i17', '_i18', '_i19', '_i20']), '_i12': \"g['foo']\", '_i13': \"g['get_ipython']\", '_13': <bound method InteractiveShell.get_ipython of <ipykernel.zmqshell.ZMQInteractiveShell object at 0x1041c1ad0>>, '_i14': \"x={'a':1}\", 'x': {'a': 1, 'b': 2}, '_i15': \"x.update({'b':2})\", '_i16': 'x', '_16': {'a': 1, 'b': 2}, '_i17': 'from importlib import reload\\nreload(ur)\\nimport ur', '_i18': \"ur('https://gist.githubusercontent.com/ryan-williams/58d781f4ea97e98ee80e6c4af0c8acf3/raw/458a253b9afececff0a6ba11d40b7f79f88ec151/test_nb.ipynb', '*')\", '_i19': 'foo()', '_i20': 'globals()'}), ('_i9', 'g'), ('_9', {'__name__': '__main__', '__doc__': 'Automatically created module for IPython interactive environment', '__package__': None, '__loader__': None, '__spec__': None, '__builtin__': <module 'builtins' (built-in)>, '__builtins__': <module 'builtins' (built-in)>, '_ih': ['', 'import ur', \"ur('https://gist.githubusercontent.com/ryan-williams/58d781f4ea97e98ee80e6c4af0c8acf3/raw/458a253b9afececff0a6ba11d40b7f79f88ec151/test_nb.ipynb', '*')\", 'foo()', 'from importlib import reload\\nreload(ur)\\nimport ur', \"ur('https://gist.githubusercontent.com/ryan-williams/58d781f4ea97e98ee80e6c4af0c8acf3/raw/458a253b9afececff0a6ba11d40b7f79f88ec151/test_nb.ipynb', '*')\", 'foo()', 'globals()', 'g = globals()', 'g', 'g.items()', 'g.keys()', \"g['foo']\", \"g['get_ipython']\", \"x={'a':1}\", \"x.update({'b':2})\", 'x', 'from importlib import reload\\nreload(ur)\\nimport ur', \"ur('https://gist.githubusercontent.com/ryan-williams/58d781f4ea97e98ee80e6c4af0c8acf3/raw/458a253b9afececff0a6ba11d40b7f79f88ec151/test_nb.ipynb', '*')\", 'foo()', 'globals()'], '_oh': {7: {...}, 9: {...}, 10: ..., 11: dict_keys(['__name__', '__doc__', '__package__', '__loader__', '__spec__', '__builtin__', '__builtins__', '_ih', '_oh', '_dh', 'In', 'Out', 'get_ipython', 'exit', 'quit', '_', '__', '___', '_i', '_ii', '_iii', '_i1', 'ur', '_i2', '_i3', '_i4', 'reload', '_i5', '_i6', '_i7', '_7', '_i8', 'g', '_i9', '_9', '_i10', '_10', '_i11', '_11', '_i12', '_i13', '_13', '_i14', 'x', '_i15', '_i16', '_16', '_i17', '_i18', '_i19', '_i20']), 13: <bound method InteractiveShell.get_ipython of <ipykernel.zmqshell.ZMQInteractiveShell object at 0x1041c1ad0>>, 16: {'a': 1, 'b': 2}}, '_dh': ['/Users/ryan/c/ur'], 'In': ['', 'import ur', \"ur('https://gist.githubusercontent.com/ryan-williams/58d781f4ea97e98ee80e6c4af0c8acf3/raw/458a253b9afececff0a6ba11d40b7f79f88ec151/test_nb.ipynb', '*')\", 'foo()', 'from importlib import reload\\nreload(ur)\\nimport ur', \"ur('https://gist.githubusercontent.com/ryan-williams/58d781f4ea97e98ee80e6c4af0c8acf3/raw/458a253b9afececff0a6ba11d40b7f79f88ec151/test_nb.ipynb', '*')\", 'foo()', 'globals()', 'g = globals()', 'g', 'g.items()', 'g.keys()', \"g['foo']\", \"g['get_ipython']\", \"x={'a':1}\", \"x.update({'b':2})\", 'x', 'from importlib import reload\\nreload(ur)\\nimport ur', \"ur('https://gist.githubusercontent.com/ryan-williams/58d781f4ea97e98ee80e6c4af0c8acf3/raw/458a253b9afececff0a6ba11d40b7f79f88ec151/test_nb.ipynb', '*')\", 'foo()', 'globals()'], 'Out': {7: {...}, 9: {...}, 10: ..., 11: dict_keys(['__name__', '__doc__', '__package__', '__loader__', '__spec__', '__builtin__', '__builtins__', '_ih', '_oh', '_dh', 'In', 'Out', 'get_ipython', 'exit', 'quit', '_', '__', '___', '_i', '_ii', '_iii', '_i1', 'ur', '_i2', '_i3', '_i4', 'reload', '_i5', '_i6', '_i7', '_7', '_i8', 'g', '_i9', '_9', '_i10', '_10', '_i11', '_11', '_i12', '_i13', '_13', '_i14', 'x', '_i15', '_i16', '_16', '_i17', '_i18', '_i19', '_i20']), 13: <bound method InteractiveShell.get_ipython of <ipykernel.zmqshell.ZMQInteractiveShell object at 0x1041c1ad0>>, 16: {'a': 1, 'b': 2}}, 'get_ipython': <bound method InteractiveShell.get_ipython of <ipykernel.zmqshell.ZMQInteractiveShell object at 0x1041c1ad0>>, 'exit': <IPython.core.autocall.ZMQExitAutocall object at 0x1041e8390>, 'quit': <IPython.core.autocall.ZMQExitAutocall object at 0x1041e8390>, '_': {'a': 1, 'b': 2}, '__': <bound method InteractiveShell.get_ipython of <ipykernel.zmqshell.ZMQInteractiveShell object at 0x1041c1ad0>>, '___': dict_keys(['__name__', '__doc__', '__package__', '__loader__', '__spec__', '__builtin__', '__builtins__', '_ih', '_oh', '_dh', 'In', 'Out', 'get_ipython', 'exit', 'quit', '_', '__', '___', '_i', '_ii', '_iii', '_i1', 'ur', '_i2', '_i3', '_i4', 'reload', '_i5', '_i6', '_i7', '_7', '_i8', 'g', '_i9', '_9', '_i10', '_10', '_i11', '_11', '_i12', '_i13', '_13', '_i14', 'x', '_i15', '_i16', '_16', '_i17', '_i18', '_i19', '_i20']), '_i': 'foo()', '_ii': \"ur('https://gist.githubusercontent.com/ryan-williams/58d781f4ea97e98ee80e6c4af0c8acf3/raw/458a253b9afececff0a6ba11d40b7f79f88ec151/test_nb.ipynb', '*')\", '_iii': 'from importlib import reload\\nreload(ur)\\nimport ur', '_i1': 'import ur', 'ur': <module 'ur' from '/Users/ryan/c/ur/ur.py'>, '_i2': \"ur('https://gist.githubusercontent.com/ryan-williams/58d781f4ea97e98ee80e6c4af0c8acf3/raw/458a253b9afececff0a6ba11d40b7f79f88ec151/test_nb.ipynb', '*')\", '_i3': 'foo()', '_i4': 'from importlib import reload\\nreload(ur)\\nimport ur', 'reload': <function reload at 0x102178cb0>, '_i5': \"ur('https://gist.githubusercontent.com/ryan-williams/58d781f4ea97e98ee80e6c4af0c8acf3/raw/458a253b9afececff0a6ba11d40b7f79f88ec151/test_nb.ipynb', '*')\", '_i6': 'foo()', '_i7': 'globals()', '_7': {...}, '_i8': 'g = globals()', 'g': {...}, '_i9': 'g', '_9': {...}, '_i10': 'g.items()', '_10': ..., '_i11': 'g.keys()', '_11': dict_keys(['__name__', '__doc__', '__package__', '__loader__', '__spec__', '__builtin__', '__builtins__', '_ih', '_oh', '_dh', 'In', 'Out', 'get_ipython', 'exit', 'quit', '_', '__', '___', '_i', '_ii', '_iii', '_i1', 'ur', '_i2', '_i3', '_i4', 'reload', '_i5', '_i6', '_i7', '_7', '_i8', 'g', '_i9', '_9', '_i10', '_10', '_i11', '_11', '_i12', '_i13', '_13', '_i14', 'x', '_i15', '_i16', '_16', '_i17', '_i18', '_i19', '_i20']), '_i12': \"g['foo']\", '_i13': \"g['get_ipython']\", '_13': <bound method InteractiveShell.get_ipython of <ipykernel.zmqshell.ZMQInteractiveShell object at 0x1041c1ad0>>, '_i14': \"x={'a':1}\", 'x': {'a': 1, 'b': 2}, '_i15': \"x.update({'b':2})\", '_i16': 'x', '_16': {'a': 1, 'b': 2}, '_i17': 'from importlib import reload\\nreload(ur)\\nimport ur', '_i18': \"ur('https://gist.githubusercontent.com/ryan-williams/58d781f4ea97e98ee80e6c4af0c8acf3/raw/458a253b9afececff0a6ba11d40b7f79f88ec151/test_nb.ipynb', '*')\", '_i19': 'foo()', '_i20': 'globals()'}), ('_i10', 'g.items()'), ('_10', ...), ('_i11', 'g.keys()'), ('_11', dict_keys(['__name__', '__doc__', '__package__', '__loader__', '__spec__', '__builtin__', '__builtins__', '_ih', '_oh', '_dh', 'In', 'Out', 'get_ipython', 'exit', 'quit', '_', '__', '___', '_i', '_ii', '_iii', '_i1', 'ur', '_i2', '_i3', '_i4', 'reload', '_i5', '_i6', '_i7', '_7', '_i8', 'g', '_i9', '_9', '_i10', '_10', '_i11', '_11', '_i12', '_i13', '_13', '_i14', 'x', '_i15', '_i16', '_16', '_i17', '_i18', '_i19', '_i20'])), ('_i12', \"g['foo']\"), ('_i13', \"g['get_ipython']\"), ('_13', <bound method InteractiveShell.get_ipython of <ipykernel.zmqshell.ZMQInteractiveShell object at 0x1041c1ad0>>), ('_i14', \"x={'a':1}\"), ('x', {'a': 1, 'b': 2}), ('_i15', \"x.update({'b':2})\"), ('_i16', 'x'), ('_16', {'a': 1, 'b': 2}), ('_i17', 'from importlib import reload\\nreload(ur)\\nimport ur'), ('_i18', \"ur('https://gist.githubusercontent.com/ryan-williams/58d781f4ea97e98ee80e6c4af0c8acf3/raw/458a253b9afececff0a6ba11d40b7f79f88ec151/test_nb.ipynb', '*')\"), ('_i19', 'foo()'), ('_i20', 'globals()')]),\n",
       "  11: dict_keys(['__name__', '__doc__', '__package__', '__loader__', '__spec__', '__builtin__', '__builtins__', '_ih', '_oh', '_dh', 'In', 'Out', 'get_ipython', 'exit', 'quit', '_', '__', '___', '_i', '_ii', '_iii', '_i1', 'ur', '_i2', '_i3', '_i4', 'reload', '_i5', '_i6', '_i7', '_7', '_i8', 'g', '_i9', '_9', '_i10', '_10', '_i11', '_11', '_i12', '_i13', '_13', '_i14', 'x', '_i15', '_i16', '_16', '_i17', '_i18', '_i19', '_i20']),\n",
       "  13: <bound method InteractiveShell.get_ipython of <ipykernel.zmqshell.ZMQInteractiveShell object at 0x1041c1ad0>>,\n",
       "  16: {'a': 1, 'b': 2}},\n",
       " 'get_ipython': <bound method InteractiveShell.get_ipython of <ipykernel.zmqshell.ZMQInteractiveShell object at 0x1041c1ad0>>,\n",
       " 'exit': <IPython.core.autocall.ZMQExitAutocall at 0x1041e8390>,\n",
       " 'quit': <IPython.core.autocall.ZMQExitAutocall at 0x1041e8390>,\n",
       " '_': {'a': 1, 'b': 2},\n",
       " '__': <bound method InteractiveShell.get_ipython of <ipykernel.zmqshell.ZMQInteractiveShell object at 0x1041c1ad0>>,\n",
       " '___': dict_keys(['__name__', '__doc__', '__package__', '__loader__', '__spec__', '__builtin__', '__builtins__', '_ih', '_oh', '_dh', 'In', 'Out', 'get_ipython', 'exit', 'quit', '_', '__', '___', '_i', '_ii', '_iii', '_i1', 'ur', '_i2', '_i3', '_i4', 'reload', '_i5', '_i6', '_i7', '_7', '_i8', 'g', '_i9', '_9', '_i10', '_10', '_i11', '_11', '_i12', '_i13', '_13', '_i14', 'x', '_i15', '_i16', '_16', '_i17', '_i18', '_i19', '_i20']),\n",
       " '_i': 'foo()',\n",
       " '_ii': \"ur('https://gist.githubusercontent.com/ryan-williams/58d781f4ea97e98ee80e6c4af0c8acf3/raw/458a253b9afececff0a6ba11d40b7f79f88ec151/test_nb.ipynb', '*')\",\n",
       " '_iii': 'from importlib import reload\\nreload(ur)\\nimport ur',\n",
       " '_i1': 'import ur',\n",
       " 'ur': <module 'ur' from '/Users/ryan/c/ur/ur.py'>,\n",
       " '_i2': \"ur('https://gist.githubusercontent.com/ryan-williams/58d781f4ea97e98ee80e6c4af0c8acf3/raw/458a253b9afececff0a6ba11d40b7f79f88ec151/test_nb.ipynb', '*')\",\n",
       " '_i3': 'foo()',\n",
       " '_i4': 'from importlib import reload\\nreload(ur)\\nimport ur',\n",
       " 'reload': <function importlib.reload(module)>,\n",
       " '_i5': \"ur('https://gist.githubusercontent.com/ryan-williams/58d781f4ea97e98ee80e6c4af0c8acf3/raw/458a253b9afececff0a6ba11d40b7f79f88ec151/test_nb.ipynb', '*')\",\n",
       " '_i6': 'foo()',\n",
       " '_i7': 'globals()',\n",
       " '_7': {...},\n",
       " '_i8': 'g = globals()',\n",
       " 'g': {...},\n",
       " '_i9': 'g',\n",
       " '_9': {...},\n",
       " '_i10': 'g.items()',\n",
       " '_10': dict_items([('__name__', '__main__'), ('__doc__', 'Automatically created module for IPython interactive environment'), ('__package__', None), ('__loader__', None), ('__spec__', None), ('__builtin__', <module 'builtins' (built-in)>), ('__builtins__', <module 'builtins' (built-in)>), ('_ih', ['', 'import ur', \"ur('https://gist.githubusercontent.com/ryan-williams/58d781f4ea97e98ee80e6c4af0c8acf3/raw/458a253b9afececff0a6ba11d40b7f79f88ec151/test_nb.ipynb', '*')\", 'foo()', 'from importlib import reload\\nreload(ur)\\nimport ur', \"ur('https://gist.githubusercontent.com/ryan-williams/58d781f4ea97e98ee80e6c4af0c8acf3/raw/458a253b9afececff0a6ba11d40b7f79f88ec151/test_nb.ipynb', '*')\", 'foo()', 'globals()', 'g = globals()', 'g', 'g.items()', 'g.keys()', \"g['foo']\", \"g['get_ipython']\", \"x={'a':1}\", \"x.update({'b':2})\", 'x', 'from importlib import reload\\nreload(ur)\\nimport ur', \"ur('https://gist.githubusercontent.com/ryan-williams/58d781f4ea97e98ee80e6c4af0c8acf3/raw/458a253b9afececff0a6ba11d40b7f79f88ec151/test_nb.ipynb', '*')\", 'foo()', 'globals()']), ('_oh', {7: {'__name__': '__main__', '__doc__': 'Automatically created module for IPython interactive environment', '__package__': None, '__loader__': None, '__spec__': None, '__builtin__': <module 'builtins' (built-in)>, '__builtins__': <module 'builtins' (built-in)>, '_ih': ['', 'import ur', \"ur('https://gist.githubusercontent.com/ryan-williams/58d781f4ea97e98ee80e6c4af0c8acf3/raw/458a253b9afececff0a6ba11d40b7f79f88ec151/test_nb.ipynb', '*')\", 'foo()', 'from importlib import reload\\nreload(ur)\\nimport ur', \"ur('https://gist.githubusercontent.com/ryan-williams/58d781f4ea97e98ee80e6c4af0c8acf3/raw/458a253b9afececff0a6ba11d40b7f79f88ec151/test_nb.ipynb', '*')\", 'foo()', 'globals()', 'g = globals()', 'g', 'g.items()', 'g.keys()', \"g['foo']\", \"g['get_ipython']\", \"x={'a':1}\", \"x.update({'b':2})\", 'x', 'from importlib import reload\\nreload(ur)\\nimport ur', \"ur('https://gist.githubusercontent.com/ryan-williams/58d781f4ea97e98ee80e6c4af0c8acf3/raw/458a253b9afececff0a6ba11d40b7f79f88ec151/test_nb.ipynb', '*')\", 'foo()', 'globals()'], '_oh': {...}, '_dh': ['/Users/ryan/c/ur'], 'In': ['', 'import ur', \"ur('https://gist.githubusercontent.com/ryan-williams/58d781f4ea97e98ee80e6c4af0c8acf3/raw/458a253b9afececff0a6ba11d40b7f79f88ec151/test_nb.ipynb', '*')\", 'foo()', 'from importlib import reload\\nreload(ur)\\nimport ur', \"ur('https://gist.githubusercontent.com/ryan-williams/58d781f4ea97e98ee80e6c4af0c8acf3/raw/458a253b9afececff0a6ba11d40b7f79f88ec151/test_nb.ipynb', '*')\", 'foo()', 'globals()', 'g = globals()', 'g', 'g.items()', 'g.keys()', \"g['foo']\", \"g['get_ipython']\", \"x={'a':1}\", \"x.update({'b':2})\", 'x', 'from importlib import reload\\nreload(ur)\\nimport ur', \"ur('https://gist.githubusercontent.com/ryan-williams/58d781f4ea97e98ee80e6c4af0c8acf3/raw/458a253b9afececff0a6ba11d40b7f79f88ec151/test_nb.ipynb', '*')\", 'foo()', 'globals()'], 'Out': {...}, 'get_ipython': <bound method InteractiveShell.get_ipython of <ipykernel.zmqshell.ZMQInteractiveShell object at 0x1041c1ad0>>, 'exit': <IPython.core.autocall.ZMQExitAutocall object at 0x1041e8390>, 'quit': <IPython.core.autocall.ZMQExitAutocall object at 0x1041e8390>, '_': {'a': 1, 'b': 2}, '__': <bound method InteractiveShell.get_ipython of <ipykernel.zmqshell.ZMQInteractiveShell object at 0x1041c1ad0>>, '___': dict_keys(['__name__', '__doc__', '__package__', '__loader__', '__spec__', '__builtin__', '__builtins__', '_ih', '_oh', '_dh', 'In', 'Out', 'get_ipython', 'exit', 'quit', '_', '__', '___', '_i', '_ii', '_iii', '_i1', 'ur', '_i2', '_i3', '_i4', 'reload', '_i5', '_i6', '_i7', '_7', '_i8', 'g', '_i9', '_9', '_i10', '_10', '_i11', '_11', '_i12', '_i13', '_13', '_i14', 'x', '_i15', '_i16', '_16', '_i17', '_i18', '_i19', '_i20']), '_i': 'foo()', '_ii': \"ur('https://gist.githubusercontent.com/ryan-williams/58d781f4ea97e98ee80e6c4af0c8acf3/raw/458a253b9afececff0a6ba11d40b7f79f88ec151/test_nb.ipynb', '*')\", '_iii': 'from importlib import reload\\nreload(ur)\\nimport ur', '_i1': 'import ur', 'ur': <module 'ur' from '/Users/ryan/c/ur/ur.py'>, '_i2': \"ur('https://gist.githubusercontent.com/ryan-williams/58d781f4ea97e98ee80e6c4af0c8acf3/raw/458a253b9afececff0a6ba11d40b7f79f88ec151/test_nb.ipynb', '*')\", '_i3': 'foo()', '_i4': 'from importlib import reload\\nreload(ur)\\nimport ur', 'reload': <function reload at 0x102178cb0>, '_i5': \"ur('https://gist.githubusercontent.com/ryan-williams/58d781f4ea97e98ee80e6c4af0c8acf3/raw/458a253b9afececff0a6ba11d40b7f79f88ec151/test_nb.ipynb', '*')\", '_i6': 'foo()', '_i7': 'globals()', '_7': {...}, '_i8': 'g = globals()', 'g': {...}, '_i9': 'g', '_9': {...}, '_i10': 'g.items()', '_10': ..., '_i11': 'g.keys()', '_11': dict_keys(['__name__', '__doc__', '__package__', '__loader__', '__spec__', '__builtin__', '__builtins__', '_ih', '_oh', '_dh', 'In', 'Out', 'get_ipython', 'exit', 'quit', '_', '__', '___', '_i', '_ii', '_iii', '_i1', 'ur', '_i2', '_i3', '_i4', 'reload', '_i5', '_i6', '_i7', '_7', '_i8', 'g', '_i9', '_9', '_i10', '_10', '_i11', '_11', '_i12', '_i13', '_13', '_i14', 'x', '_i15', '_i16', '_16', '_i17', '_i18', '_i19', '_i20']), '_i12': \"g['foo']\", '_i13': \"g['get_ipython']\", '_13': <bound method InteractiveShell.get_ipython of <ipykernel.zmqshell.ZMQInteractiveShell object at 0x1041c1ad0>>, '_i14': \"x={'a':1}\", 'x': {'a': 1, 'b': 2}, '_i15': \"x.update({'b':2})\", '_i16': 'x', '_16': {'a': 1, 'b': 2}, '_i17': 'from importlib import reload\\nreload(ur)\\nimport ur', '_i18': \"ur('https://gist.githubusercontent.com/ryan-williams/58d781f4ea97e98ee80e6c4af0c8acf3/raw/458a253b9afececff0a6ba11d40b7f79f88ec151/test_nb.ipynb', '*')\", '_i19': 'foo()', '_i20': 'globals()'}, 9: {'__name__': '__main__', '__doc__': 'Automatically created module for IPython interactive environment', '__package__': None, '__loader__': None, '__spec__': None, '__builtin__': <module 'builtins' (built-in)>, '__builtins__': <module 'builtins' (built-in)>, '_ih': ['', 'import ur', \"ur('https://gist.githubusercontent.com/ryan-williams/58d781f4ea97e98ee80e6c4af0c8acf3/raw/458a253b9afececff0a6ba11d40b7f79f88ec151/test_nb.ipynb', '*')\", 'foo()', 'from importlib import reload\\nreload(ur)\\nimport ur', \"ur('https://gist.githubusercontent.com/ryan-williams/58d781f4ea97e98ee80e6c4af0c8acf3/raw/458a253b9afececff0a6ba11d40b7f79f88ec151/test_nb.ipynb', '*')\", 'foo()', 'globals()', 'g = globals()', 'g', 'g.items()', 'g.keys()', \"g['foo']\", \"g['get_ipython']\", \"x={'a':1}\", \"x.update({'b':2})\", 'x', 'from importlib import reload\\nreload(ur)\\nimport ur', \"ur('https://gist.githubusercontent.com/ryan-williams/58d781f4ea97e98ee80e6c4af0c8acf3/raw/458a253b9afececff0a6ba11d40b7f79f88ec151/test_nb.ipynb', '*')\", 'foo()', 'globals()'], '_oh': {...}, '_dh': ['/Users/ryan/c/ur'], 'In': ['', 'import ur', \"ur('https://gist.githubusercontent.com/ryan-williams/58d781f4ea97e98ee80e6c4af0c8acf3/raw/458a253b9afececff0a6ba11d40b7f79f88ec151/test_nb.ipynb', '*')\", 'foo()', 'from importlib import reload\\nreload(ur)\\nimport ur', \"ur('https://gist.githubusercontent.com/ryan-williams/58d781f4ea97e98ee80e6c4af0c8acf3/raw/458a253b9afececff0a6ba11d40b7f79f88ec151/test_nb.ipynb', '*')\", 'foo()', 'globals()', 'g = globals()', 'g', 'g.items()', 'g.keys()', \"g['foo']\", \"g['get_ipython']\", \"x={'a':1}\", \"x.update({'b':2})\", 'x', 'from importlib import reload\\nreload(ur)\\nimport ur', \"ur('https://gist.githubusercontent.com/ryan-williams/58d781f4ea97e98ee80e6c4af0c8acf3/raw/458a253b9afececff0a6ba11d40b7f79f88ec151/test_nb.ipynb', '*')\", 'foo()', 'globals()'], 'Out': {...}, 'get_ipython': <bound method InteractiveShell.get_ipython of <ipykernel.zmqshell.ZMQInteractiveShell object at 0x1041c1ad0>>, 'exit': <IPython.core.autocall.ZMQExitAutocall object at 0x1041e8390>, 'quit': <IPython.core.autocall.ZMQExitAutocall object at 0x1041e8390>, '_': {'a': 1, 'b': 2}, '__': <bound method InteractiveShell.get_ipython of <ipykernel.zmqshell.ZMQInteractiveShell object at 0x1041c1ad0>>, '___': dict_keys(['__name__', '__doc__', '__package__', '__loader__', '__spec__', '__builtin__', '__builtins__', '_ih', '_oh', '_dh', 'In', 'Out', 'get_ipython', 'exit', 'quit', '_', '__', '___', '_i', '_ii', '_iii', '_i1', 'ur', '_i2', '_i3', '_i4', 'reload', '_i5', '_i6', '_i7', '_7', '_i8', 'g', '_i9', '_9', '_i10', '_10', '_i11', '_11', '_i12', '_i13', '_13', '_i14', 'x', '_i15', '_i16', '_16', '_i17', '_i18', '_i19', '_i20']), '_i': 'foo()', '_ii': \"ur('https://gist.githubusercontent.com/ryan-williams/58d781f4ea97e98ee80e6c4af0c8acf3/raw/458a253b9afececff0a6ba11d40b7f79f88ec151/test_nb.ipynb', '*')\", '_iii': 'from importlib import reload\\nreload(ur)\\nimport ur', '_i1': 'import ur', 'ur': <module 'ur' from '/Users/ryan/c/ur/ur.py'>, '_i2': \"ur('https://gist.githubusercontent.com/ryan-williams/58d781f4ea97e98ee80e6c4af0c8acf3/raw/458a253b9afececff0a6ba11d40b7f79f88ec151/test_nb.ipynb', '*')\", '_i3': 'foo()', '_i4': 'from importlib import reload\\nreload(ur)\\nimport ur', 'reload': <function reload at 0x102178cb0>, '_i5': \"ur('https://gist.githubusercontent.com/ryan-williams/58d781f4ea97e98ee80e6c4af0c8acf3/raw/458a253b9afececff0a6ba11d40b7f79f88ec151/test_nb.ipynb', '*')\", '_i6': 'foo()', '_i7': 'globals()', '_7': {...}, '_i8': 'g = globals()', 'g': {...}, '_i9': 'g', '_9': {...}, '_i10': 'g.items()', '_10': ..., '_i11': 'g.keys()', '_11': dict_keys(['__name__', '__doc__', '__package__', '__loader__', '__spec__', '__builtin__', '__builtins__', '_ih', '_oh', '_dh', 'In', 'Out', 'get_ipython', 'exit', 'quit', '_', '__', '___', '_i', '_ii', '_iii', '_i1', 'ur', '_i2', '_i3', '_i4', 'reload', '_i5', '_i6', '_i7', '_7', '_i8', 'g', '_i9', '_9', '_i10', '_10', '_i11', '_11', '_i12', '_i13', '_13', '_i14', 'x', '_i15', '_i16', '_16', '_i17', '_i18', '_i19', '_i20']), '_i12': \"g['foo']\", '_i13': \"g['get_ipython']\", '_13': <bound method InteractiveShell.get_ipython of <ipykernel.zmqshell.ZMQInteractiveShell object at 0x1041c1ad0>>, '_i14': \"x={'a':1}\", 'x': {'a': 1, 'b': 2}, '_i15': \"x.update({'b':2})\", '_i16': 'x', '_16': {'a': 1, 'b': 2}, '_i17': 'from importlib import reload\\nreload(ur)\\nimport ur', '_i18': \"ur('https://gist.githubusercontent.com/ryan-williams/58d781f4ea97e98ee80e6c4af0c8acf3/raw/458a253b9afececff0a6ba11d40b7f79f88ec151/test_nb.ipynb', '*')\", '_i19': 'foo()', '_i20': 'globals()'}, 10: ..., 11: dict_keys(['__name__', '__doc__', '__package__', '__loader__', '__spec__', '__builtin__', '__builtins__', '_ih', '_oh', '_dh', 'In', 'Out', 'get_ipython', 'exit', 'quit', '_', '__', '___', '_i', '_ii', '_iii', '_i1', 'ur', '_i2', '_i3', '_i4', 'reload', '_i5', '_i6', '_i7', '_7', '_i8', 'g', '_i9', '_9', '_i10', '_10', '_i11', '_11', '_i12', '_i13', '_13', '_i14', 'x', '_i15', '_i16', '_16', '_i17', '_i18', '_i19', '_i20']), 13: <bound method InteractiveShell.get_ipython of <ipykernel.zmqshell.ZMQInteractiveShell object at 0x1041c1ad0>>, 16: {'a': 1, 'b': 2}}), ('_dh', ['/Users/ryan/c/ur']), ('In', ['', 'import ur', \"ur('https://gist.githubusercontent.com/ryan-williams/58d781f4ea97e98ee80e6c4af0c8acf3/raw/458a253b9afececff0a6ba11d40b7f79f88ec151/test_nb.ipynb', '*')\", 'foo()', 'from importlib import reload\\nreload(ur)\\nimport ur', \"ur('https://gist.githubusercontent.com/ryan-williams/58d781f4ea97e98ee80e6c4af0c8acf3/raw/458a253b9afececff0a6ba11d40b7f79f88ec151/test_nb.ipynb', '*')\", 'foo()', 'globals()', 'g = globals()', 'g', 'g.items()', 'g.keys()', \"g['foo']\", \"g['get_ipython']\", \"x={'a':1}\", \"x.update({'b':2})\", 'x', 'from importlib import reload\\nreload(ur)\\nimport ur', \"ur('https://gist.githubusercontent.com/ryan-williams/58d781f4ea97e98ee80e6c4af0c8acf3/raw/458a253b9afececff0a6ba11d40b7f79f88ec151/test_nb.ipynb', '*')\", 'foo()', 'globals()']), ('Out', {7: {'__name__': '__main__', '__doc__': 'Automatically created module for IPython interactive environment', '__package__': None, '__loader__': None, '__spec__': None, '__builtin__': <module 'builtins' (built-in)>, '__builtins__': <module 'builtins' (built-in)>, '_ih': ['', 'import ur', \"ur('https://gist.githubusercontent.com/ryan-williams/58d781f4ea97e98ee80e6c4af0c8acf3/raw/458a253b9afececff0a6ba11d40b7f79f88ec151/test_nb.ipynb', '*')\", 'foo()', 'from importlib import reload\\nreload(ur)\\nimport ur', \"ur('https://gist.githubusercontent.com/ryan-williams/58d781f4ea97e98ee80e6c4af0c8acf3/raw/458a253b9afececff0a6ba11d40b7f79f88ec151/test_nb.ipynb', '*')\", 'foo()', 'globals()', 'g = globals()', 'g', 'g.items()', 'g.keys()', \"g['foo']\", \"g['get_ipython']\", \"x={'a':1}\", \"x.update({'b':2})\", 'x', 'from importlib import reload\\nreload(ur)\\nimport ur', \"ur('https://gist.githubusercontent.com/ryan-williams/58d781f4ea97e98ee80e6c4af0c8acf3/raw/458a253b9afececff0a6ba11d40b7f79f88ec151/test_nb.ipynb', '*')\", 'foo()', 'globals()'], '_oh': {...}, '_dh': ['/Users/ryan/c/ur'], 'In': ['', 'import ur', \"ur('https://gist.githubusercontent.com/ryan-williams/58d781f4ea97e98ee80e6c4af0c8acf3/raw/458a253b9afececff0a6ba11d40b7f79f88ec151/test_nb.ipynb', '*')\", 'foo()', 'from importlib import reload\\nreload(ur)\\nimport ur', \"ur('https://gist.githubusercontent.com/ryan-williams/58d781f4ea97e98ee80e6c4af0c8acf3/raw/458a253b9afececff0a6ba11d40b7f79f88ec151/test_nb.ipynb', '*')\", 'foo()', 'globals()', 'g = globals()', 'g', 'g.items()', 'g.keys()', \"g['foo']\", \"g['get_ipython']\", \"x={'a':1}\", \"x.update({'b':2})\", 'x', 'from importlib import reload\\nreload(ur)\\nimport ur', \"ur('https://gist.githubusercontent.com/ryan-williams/58d781f4ea97e98ee80e6c4af0c8acf3/raw/458a253b9afececff0a6ba11d40b7f79f88ec151/test_nb.ipynb', '*')\", 'foo()', 'globals()'], 'Out': {...}, 'get_ipython': <bound method InteractiveShell.get_ipython of <ipykernel.zmqshell.ZMQInteractiveShell object at 0x1041c1ad0>>, 'exit': <IPython.core.autocall.ZMQExitAutocall object at 0x1041e8390>, 'quit': <IPython.core.autocall.ZMQExitAutocall object at 0x1041e8390>, '_': {'a': 1, 'b': 2}, '__': <bound method InteractiveShell.get_ipython of <ipykernel.zmqshell.ZMQInteractiveShell object at 0x1041c1ad0>>, '___': dict_keys(['__name__', '__doc__', '__package__', '__loader__', '__spec__', '__builtin__', '__builtins__', '_ih', '_oh', '_dh', 'In', 'Out', 'get_ipython', 'exit', 'quit', '_', '__', '___', '_i', '_ii', '_iii', '_i1', 'ur', '_i2', '_i3', '_i4', 'reload', '_i5', '_i6', '_i7', '_7', '_i8', 'g', '_i9', '_9', '_i10', '_10', '_i11', '_11', '_i12', '_i13', '_13', '_i14', 'x', '_i15', '_i16', '_16', '_i17', '_i18', '_i19', '_i20']), '_i': 'foo()', '_ii': \"ur('https://gist.githubusercontent.com/ryan-williams/58d781f4ea97e98ee80e6c4af0c8acf3/raw/458a253b9afececff0a6ba11d40b7f79f88ec151/test_nb.ipynb', '*')\", '_iii': 'from importlib import reload\\nreload(ur)\\nimport ur', '_i1': 'import ur', 'ur': <module 'ur' from '/Users/ryan/c/ur/ur.py'>, '_i2': \"ur('https://gist.githubusercontent.com/ryan-williams/58d781f4ea97e98ee80e6c4af0c8acf3/raw/458a253b9afececff0a6ba11d40b7f79f88ec151/test_nb.ipynb', '*')\", '_i3': 'foo()', '_i4': 'from importlib import reload\\nreload(ur)\\nimport ur', 'reload': <function reload at 0x102178cb0>, '_i5': \"ur('https://gist.githubusercontent.com/ryan-williams/58d781f4ea97e98ee80e6c4af0c8acf3/raw/458a253b9afececff0a6ba11d40b7f79f88ec151/test_nb.ipynb', '*')\", '_i6': 'foo()', '_i7': 'globals()', '_7': {...}, '_i8': 'g = globals()', 'g': {...}, '_i9': 'g', '_9': {...}, '_i10': 'g.items()', '_10': ..., '_i11': 'g.keys()', '_11': dict_keys(['__name__', '__doc__', '__package__', '__loader__', '__spec__', '__builtin__', '__builtins__', '_ih', '_oh', '_dh', 'In', 'Out', 'get_ipython', 'exit', 'quit', '_', '__', '___', '_i', '_ii', '_iii', '_i1', 'ur', '_i2', '_i3', '_i4', 'reload', '_i5', '_i6', '_i7', '_7', '_i8', 'g', '_i9', '_9', '_i10', '_10', '_i11', '_11', '_i12', '_i13', '_13', '_i14', 'x', '_i15', '_i16', '_16', '_i17', '_i18', '_i19', '_i20']), '_i12': \"g['foo']\", '_i13': \"g['get_ipython']\", '_13': <bound method InteractiveShell.get_ipython of <ipykernel.zmqshell.ZMQInteractiveShell object at 0x1041c1ad0>>, '_i14': \"x={'a':1}\", 'x': {'a': 1, 'b': 2}, '_i15': \"x.update({'b':2})\", '_i16': 'x', '_16': {'a': 1, 'b': 2}, '_i17': 'from importlib import reload\\nreload(ur)\\nimport ur', '_i18': \"ur('https://gist.githubusercontent.com/ryan-williams/58d781f4ea97e98ee80e6c4af0c8acf3/raw/458a253b9afececff0a6ba11d40b7f79f88ec151/test_nb.ipynb', '*')\", '_i19': 'foo()', '_i20': 'globals()'}, 9: {'__name__': '__main__', '__doc__': 'Automatically created module for IPython interactive environment', '__package__': None, '__loader__': None, '__spec__': None, '__builtin__': <module 'builtins' (built-in)>, '__builtins__': <module 'builtins' (built-in)>, '_ih': ['', 'import ur', \"ur('https://gist.githubusercontent.com/ryan-williams/58d781f4ea97e98ee80e6c4af0c8acf3/raw/458a253b9afececff0a6ba11d40b7f79f88ec151/test_nb.ipynb', '*')\", 'foo()', 'from importlib import reload\\nreload(ur)\\nimport ur', \"ur('https://gist.githubusercontent.com/ryan-williams/58d781f4ea97e98ee80e6c4af0c8acf3/raw/458a253b9afececff0a6ba11d40b7f79f88ec151/test_nb.ipynb', '*')\", 'foo()', 'globals()', 'g = globals()', 'g', 'g.items()', 'g.keys()', \"g['foo']\", \"g['get_ipython']\", \"x={'a':1}\", \"x.update({'b':2})\", 'x', 'from importlib import reload\\nreload(ur)\\nimport ur', \"ur('https://gist.githubusercontent.com/ryan-williams/58d781f4ea97e98ee80e6c4af0c8acf3/raw/458a253b9afececff0a6ba11d40b7f79f88ec151/test_nb.ipynb', '*')\", 'foo()', 'globals()'], '_oh': {...}, '_dh': ['/Users/ryan/c/ur'], 'In': ['', 'import ur', \"ur('https://gist.githubusercontent.com/ryan-williams/58d781f4ea97e98ee80e6c4af0c8acf3/raw/458a253b9afececff0a6ba11d40b7f79f88ec151/test_nb.ipynb', '*')\", 'foo()', 'from importlib import reload\\nreload(ur)\\nimport ur', \"ur('https://gist.githubusercontent.com/ryan-williams/58d781f4ea97e98ee80e6c4af0c8acf3/raw/458a253b9afececff0a6ba11d40b7f79f88ec151/test_nb.ipynb', '*')\", 'foo()', 'globals()', 'g = globals()', 'g', 'g.items()', 'g.keys()', \"g['foo']\", \"g['get_ipython']\", \"x={'a':1}\", \"x.update({'b':2})\", 'x', 'from importlib import reload\\nreload(ur)\\nimport ur', \"ur('https://gist.githubusercontent.com/ryan-williams/58d781f4ea97e98ee80e6c4af0c8acf3/raw/458a253b9afececff0a6ba11d40b7f79f88ec151/test_nb.ipynb', '*')\", 'foo()', 'globals()'], 'Out': {...}, 'get_ipython': <bound method InteractiveShell.get_ipython of <ipykernel.zmqshell.ZMQInteractiveShell object at 0x1041c1ad0>>, 'exit': <IPython.core.autocall.ZMQExitAutocall object at 0x1041e8390>, 'quit': <IPython.core.autocall.ZMQExitAutocall object at 0x1041e8390>, '_': {'a': 1, 'b': 2}, '__': <bound method InteractiveShell.get_ipython of <ipykernel.zmqshell.ZMQInteractiveShell object at 0x1041c1ad0>>, '___': dict_keys(['__name__', '__doc__', '__package__', '__loader__', '__spec__', '__builtin__', '__builtins__', '_ih', '_oh', '_dh', 'In', 'Out', 'get_ipython', 'exit', 'quit', '_', '__', '___', '_i', '_ii', '_iii', '_i1', 'ur', '_i2', '_i3', '_i4', 'reload', '_i5', '_i6', '_i7', '_7', '_i8', 'g', '_i9', '_9', '_i10', '_10', '_i11', '_11', '_i12', '_i13', '_13', '_i14', 'x', '_i15', '_i16', '_16', '_i17', '_i18', '_i19', '_i20']), '_i': 'foo()', '_ii': \"ur('https://gist.githubusercontent.com/ryan-williams/58d781f4ea97e98ee80e6c4af0c8acf3/raw/458a253b9afececff0a6ba11d40b7f79f88ec151/test_nb.ipynb', '*')\", '_iii': 'from importlib import reload\\nreload(ur)\\nimport ur', '_i1': 'import ur', 'ur': <module 'ur' from '/Users/ryan/c/ur/ur.py'>, '_i2': \"ur('https://gist.githubusercontent.com/ryan-williams/58d781f4ea97e98ee80e6c4af0c8acf3/raw/458a253b9afececff0a6ba11d40b7f79f88ec151/test_nb.ipynb', '*')\", '_i3': 'foo()', '_i4': 'from importlib import reload\\nreload(ur)\\nimport ur', 'reload': <function reload at 0x102178cb0>, '_i5': \"ur('https://gist.githubusercontent.com/ryan-williams/58d781f4ea97e98ee80e6c4af0c8acf3/raw/458a253b9afececff0a6ba11d40b7f79f88ec151/test_nb.ipynb', '*')\", '_i6': 'foo()', '_i7': 'globals()', '_7': {...}, '_i8': 'g = globals()', 'g': {...}, '_i9': 'g', '_9': {...}, '_i10': 'g.items()', '_10': ..., '_i11': 'g.keys()', '_11': dict_keys(['__name__', '__doc__', '__package__', '__loader__', '__spec__', '__builtin__', '__builtins__', '_ih', '_oh', '_dh', 'In', 'Out', 'get_ipython', 'exit', 'quit', '_', '__', '___', '_i', '_ii', '_iii', '_i1', 'ur', '_i2', '_i3', '_i4', 'reload', '_i5', '_i6', '_i7', '_7', '_i8', 'g', '_i9', '_9', '_i10', '_10', '_i11', '_11', '_i12', '_i13', '_13', '_i14', 'x', '_i15', '_i16', '_16', '_i17', '_i18', '_i19', '_i20']), '_i12': \"g['foo']\", '_i13': \"g['get_ipython']\", '_13': <bound method InteractiveShell.get_ipython of <ipykernel.zmqshell.ZMQInteractiveShell object at 0x1041c1ad0>>, '_i14': \"x={'a':1}\", 'x': {'a': 1, 'b': 2}, '_i15': \"x.update({'b':2})\", '_i16': 'x', '_16': {'a': 1, 'b': 2}, '_i17': 'from importlib import reload\\nreload(ur)\\nimport ur', '_i18': \"ur('https://gist.githubusercontent.com/ryan-williams/58d781f4ea97e98ee80e6c4af0c8acf3/raw/458a253b9afececff0a6ba11d40b7f79f88ec151/test_nb.ipynb', '*')\", '_i19': 'foo()', '_i20': 'globals()'}, 10: ..., 11: dict_keys(['__name__', '__doc__', '__package__', '__loader__', '__spec__', '__builtin__', '__builtins__', '_ih', '_oh', '_dh', 'In', 'Out', 'get_ipython', 'exit', 'quit', '_', '__', '___', '_i', '_ii', '_iii', '_i1', 'ur', '_i2', '_i3', '_i4', 'reload', '_i5', '_i6', '_i7', '_7', '_i8', 'g', '_i9', '_9', '_i10', '_10', '_i11', '_11', '_i12', '_i13', '_13', '_i14', 'x', '_i15', '_i16', '_16', '_i17', '_i18', '_i19', '_i20']), 13: <bound method InteractiveShell.get_ipython of <ipykernel.zmqshell.ZMQInteractiveShell object at 0x1041c1ad0>>, 16: {'a': 1, 'b': 2}}), ('get_ipython', <bound method InteractiveShell.get_ipython of <ipykernel.zmqshell.ZMQInteractiveShell object at 0x1041c1ad0>>), ('exit', <IPython.core.autocall.ZMQExitAutocall object at 0x1041e8390>), ('quit', <IPython.core.autocall.ZMQExitAutocall object at 0x1041e8390>), ('_', {'a': 1, 'b': 2}), ('__', <bound method InteractiveShell.get_ipython of <ipykernel.zmqshell.ZMQInteractiveShell object at 0x1041c1ad0>>), ('___', dict_keys(['__name__', '__doc__', '__package__', '__loader__', '__spec__', '__builtin__', '__builtins__', '_ih', '_oh', '_dh', 'In', 'Out', 'get_ipython', 'exit', 'quit', '_', '__', '___', '_i', '_ii', '_iii', '_i1', 'ur', '_i2', '_i3', '_i4', 'reload', '_i5', '_i6', '_i7', '_7', '_i8', 'g', '_i9', '_9', '_i10', '_10', '_i11', '_11', '_i12', '_i13', '_13', '_i14', 'x', '_i15', '_i16', '_16', '_i17', '_i18', '_i19', '_i20'])), ('_i', 'foo()'), ('_ii', \"ur('https://gist.githubusercontent.com/ryan-williams/58d781f4ea97e98ee80e6c4af0c8acf3/raw/458a253b9afececff0a6ba11d40b7f79f88ec151/test_nb.ipynb', '*')\"), ('_iii', 'from importlib import reload\\nreload(ur)\\nimport ur'), ('_i1', 'import ur'), ('ur', <module 'ur' from '/Users/ryan/c/ur/ur.py'>), ('_i2', \"ur('https://gist.githubusercontent.com/ryan-williams/58d781f4ea97e98ee80e6c4af0c8acf3/raw/458a253b9afececff0a6ba11d40b7f79f88ec151/test_nb.ipynb', '*')\"), ('_i3', 'foo()'), ('_i4', 'from importlib import reload\\nreload(ur)\\nimport ur'), ('reload', <function reload at 0x102178cb0>), ('_i5', \"ur('https://gist.githubusercontent.com/ryan-williams/58d781f4ea97e98ee80e6c4af0c8acf3/raw/458a253b9afececff0a6ba11d40b7f79f88ec151/test_nb.ipynb', '*')\"), ('_i6', 'foo()'), ('_i7', 'globals()'), ('_7', {'__name__': '__main__', '__doc__': 'Automatically created module for IPython interactive environment', '__package__': None, '__loader__': None, '__spec__': None, '__builtin__': <module 'builtins' (built-in)>, '__builtins__': <module 'builtins' (built-in)>, '_ih': ['', 'import ur', \"ur('https://gist.githubusercontent.com/ryan-williams/58d781f4ea97e98ee80e6c4af0c8acf3/raw/458a253b9afececff0a6ba11d40b7f79f88ec151/test_nb.ipynb', '*')\", 'foo()', 'from importlib import reload\\nreload(ur)\\nimport ur', \"ur('https://gist.githubusercontent.com/ryan-williams/58d781f4ea97e98ee80e6c4af0c8acf3/raw/458a253b9afececff0a6ba11d40b7f79f88ec151/test_nb.ipynb', '*')\", 'foo()', 'globals()', 'g = globals()', 'g', 'g.items()', 'g.keys()', \"g['foo']\", \"g['get_ipython']\", \"x={'a':1}\", \"x.update({'b':2})\", 'x', 'from importlib import reload\\nreload(ur)\\nimport ur', \"ur('https://gist.githubusercontent.com/ryan-williams/58d781f4ea97e98ee80e6c4af0c8acf3/raw/458a253b9afececff0a6ba11d40b7f79f88ec151/test_nb.ipynb', '*')\", 'foo()', 'globals()'], '_oh': {7: {...}, 9: {...}, 10: ..., 11: dict_keys(['__name__', '__doc__', '__package__', '__loader__', '__spec__', '__builtin__', '__builtins__', '_ih', '_oh', '_dh', 'In', 'Out', 'get_ipython', 'exit', 'quit', '_', '__', '___', '_i', '_ii', '_iii', '_i1', 'ur', '_i2', '_i3', '_i4', 'reload', '_i5', '_i6', '_i7', '_7', '_i8', 'g', '_i9', '_9', '_i10', '_10', '_i11', '_11', '_i12', '_i13', '_13', '_i14', 'x', '_i15', '_i16', '_16', '_i17', '_i18', '_i19', '_i20']), 13: <bound method InteractiveShell.get_ipython of <ipykernel.zmqshell.ZMQInteractiveShell object at 0x1041c1ad0>>, 16: {'a': 1, 'b': 2}}, '_dh': ['/Users/ryan/c/ur'], 'In': ['', 'import ur', \"ur('https://gist.githubusercontent.com/ryan-williams/58d781f4ea97e98ee80e6c4af0c8acf3/raw/458a253b9afececff0a6ba11d40b7f79f88ec151/test_nb.ipynb', '*')\", 'foo()', 'from importlib import reload\\nreload(ur)\\nimport ur', \"ur('https://gist.githubusercontent.com/ryan-williams/58d781f4ea97e98ee80e6c4af0c8acf3/raw/458a253b9afececff0a6ba11d40b7f79f88ec151/test_nb.ipynb', '*')\", 'foo()', 'globals()', 'g = globals()', 'g', 'g.items()', 'g.keys()', \"g['foo']\", \"g['get_ipython']\", \"x={'a':1}\", \"x.update({'b':2})\", 'x', 'from importlib import reload\\nreload(ur)\\nimport ur', \"ur('https://gist.githubusercontent.com/ryan-williams/58d781f4ea97e98ee80e6c4af0c8acf3/raw/458a253b9afececff0a6ba11d40b7f79f88ec151/test_nb.ipynb', '*')\", 'foo()', 'globals()'], 'Out': {7: {...}, 9: {...}, 10: ..., 11: dict_keys(['__name__', '__doc__', '__package__', '__loader__', '__spec__', '__builtin__', '__builtins__', '_ih', '_oh', '_dh', 'In', 'Out', 'get_ipython', 'exit', 'quit', '_', '__', '___', '_i', '_ii', '_iii', '_i1', 'ur', '_i2', '_i3', '_i4', 'reload', '_i5', '_i6', '_i7', '_7', '_i8', 'g', '_i9', '_9', '_i10', '_10', '_i11', '_11', '_i12', '_i13', '_13', '_i14', 'x', '_i15', '_i16', '_16', '_i17', '_i18', '_i19', '_i20']), 13: <bound method InteractiveShell.get_ipython of <ipykernel.zmqshell.ZMQInteractiveShell object at 0x1041c1ad0>>, 16: {'a': 1, 'b': 2}}, 'get_ipython': <bound method InteractiveShell.get_ipython of <ipykernel.zmqshell.ZMQInteractiveShell object at 0x1041c1ad0>>, 'exit': <IPython.core.autocall.ZMQExitAutocall object at 0x1041e8390>, 'quit': <IPython.core.autocall.ZMQExitAutocall object at 0x1041e8390>, '_': {'a': 1, 'b': 2}, '__': <bound method InteractiveShell.get_ipython of <ipykernel.zmqshell.ZMQInteractiveShell object at 0x1041c1ad0>>, '___': dict_keys(['__name__', '__doc__', '__package__', '__loader__', '__spec__', '__builtin__', '__builtins__', '_ih', '_oh', '_dh', 'In', 'Out', 'get_ipython', 'exit', 'quit', '_', '__', '___', '_i', '_ii', '_iii', '_i1', 'ur', '_i2', '_i3', '_i4', 'reload', '_i5', '_i6', '_i7', '_7', '_i8', 'g', '_i9', '_9', '_i10', '_10', '_i11', '_11', '_i12', '_i13', '_13', '_i14', 'x', '_i15', '_i16', '_16', '_i17', '_i18', '_i19', '_i20']), '_i': 'foo()', '_ii': \"ur('https://gist.githubusercontent.com/ryan-williams/58d781f4ea97e98ee80e6c4af0c8acf3/raw/458a253b9afececff0a6ba11d40b7f79f88ec151/test_nb.ipynb', '*')\", '_iii': 'from importlib import reload\\nreload(ur)\\nimport ur', '_i1': 'import ur', 'ur': <module 'ur' from '/Users/ryan/c/ur/ur.py'>, '_i2': \"ur('https://gist.githubusercontent.com/ryan-williams/58d781f4ea97e98ee80e6c4af0c8acf3/raw/458a253b9afececff0a6ba11d40b7f79f88ec151/test_nb.ipynb', '*')\", '_i3': 'foo()', '_i4': 'from importlib import reload\\nreload(ur)\\nimport ur', 'reload': <function reload at 0x102178cb0>, '_i5': \"ur('https://gist.githubusercontent.com/ryan-williams/58d781f4ea97e98ee80e6c4af0c8acf3/raw/458a253b9afececff0a6ba11d40b7f79f88ec151/test_nb.ipynb', '*')\", '_i6': 'foo()', '_i7': 'globals()', '_7': {...}, '_i8': 'g = globals()', 'g': {...}, '_i9': 'g', '_9': {...}, '_i10': 'g.items()', '_10': ..., '_i11': 'g.keys()', '_11': dict_keys(['__name__', '__doc__', '__package__', '__loader__', '__spec__', '__builtin__', '__builtins__', '_ih', '_oh', '_dh', 'In', 'Out', 'get_ipython', 'exit', 'quit', '_', '__', '___', '_i', '_ii', '_iii', '_i1', 'ur', '_i2', '_i3', '_i4', 'reload', '_i5', '_i6', '_i7', '_7', '_i8', 'g', '_i9', '_9', '_i10', '_10', '_i11', '_11', '_i12', '_i13', '_13', '_i14', 'x', '_i15', '_i16', '_16', '_i17', '_i18', '_i19', '_i20']), '_i12': \"g['foo']\", '_i13': \"g['get_ipython']\", '_13': <bound method InteractiveShell.get_ipython of <ipykernel.zmqshell.ZMQInteractiveShell object at 0x1041c1ad0>>, '_i14': \"x={'a':1}\", 'x': {'a': 1, 'b': 2}, '_i15': \"x.update({'b':2})\", '_i16': 'x', '_16': {'a': 1, 'b': 2}, '_i17': 'from importlib import reload\\nreload(ur)\\nimport ur', '_i18': \"ur('https://gist.githubusercontent.com/ryan-williams/58d781f4ea97e98ee80e6c4af0c8acf3/raw/458a253b9afececff0a6ba11d40b7f79f88ec151/test_nb.ipynb', '*')\", '_i19': 'foo()', '_i20': 'globals()'}), ('_i8', 'g = globals()'), ('g', {'__name__': '__main__', '__doc__': 'Automatically created module for IPython interactive environment', '__package__': None, '__loader__': None, '__spec__': None, '__builtin__': <module 'builtins' (built-in)>, '__builtins__': <module 'builtins' (built-in)>, '_ih': ['', 'import ur', \"ur('https://gist.githubusercontent.com/ryan-williams/58d781f4ea97e98ee80e6c4af0c8acf3/raw/458a253b9afececff0a6ba11d40b7f79f88ec151/test_nb.ipynb', '*')\", 'foo()', 'from importlib import reload\\nreload(ur)\\nimport ur', \"ur('https://gist.githubusercontent.com/ryan-williams/58d781f4ea97e98ee80e6c4af0c8acf3/raw/458a253b9afececff0a6ba11d40b7f79f88ec151/test_nb.ipynb', '*')\", 'foo()', 'globals()', 'g = globals()', 'g', 'g.items()', 'g.keys()', \"g['foo']\", \"g['get_ipython']\", \"x={'a':1}\", \"x.update({'b':2})\", 'x', 'from importlib import reload\\nreload(ur)\\nimport ur', \"ur('https://gist.githubusercontent.com/ryan-williams/58d781f4ea97e98ee80e6c4af0c8acf3/raw/458a253b9afececff0a6ba11d40b7f79f88ec151/test_nb.ipynb', '*')\", 'foo()', 'globals()'], '_oh': {7: {...}, 9: {...}, 10: ..., 11: dict_keys(['__name__', '__doc__', '__package__', '__loader__', '__spec__', '__builtin__', '__builtins__', '_ih', '_oh', '_dh', 'In', 'Out', 'get_ipython', 'exit', 'quit', '_', '__', '___', '_i', '_ii', '_iii', '_i1', 'ur', '_i2', '_i3', '_i4', 'reload', '_i5', '_i6', '_i7', '_7', '_i8', 'g', '_i9', '_9', '_i10', '_10', '_i11', '_11', '_i12', '_i13', '_13', '_i14', 'x', '_i15', '_i16', '_16', '_i17', '_i18', '_i19', '_i20']), 13: <bound method InteractiveShell.get_ipython of <ipykernel.zmqshell.ZMQInteractiveShell object at 0x1041c1ad0>>, 16: {'a': 1, 'b': 2}}, '_dh': ['/Users/ryan/c/ur'], 'In': ['', 'import ur', \"ur('https://gist.githubusercontent.com/ryan-williams/58d781f4ea97e98ee80e6c4af0c8acf3/raw/458a253b9afececff0a6ba11d40b7f79f88ec151/test_nb.ipynb', '*')\", 'foo()', 'from importlib import reload\\nreload(ur)\\nimport ur', \"ur('https://gist.githubusercontent.com/ryan-williams/58d781f4ea97e98ee80e6c4af0c8acf3/raw/458a253b9afececff0a6ba11d40b7f79f88ec151/test_nb.ipynb', '*')\", 'foo()', 'globals()', 'g = globals()', 'g', 'g.items()', 'g.keys()', \"g['foo']\", \"g['get_ipython']\", \"x={'a':1}\", \"x.update({'b':2})\", 'x', 'from importlib import reload\\nreload(ur)\\nimport ur', \"ur('https://gist.githubusercontent.com/ryan-williams/58d781f4ea97e98ee80e6c4af0c8acf3/raw/458a253b9afececff0a6ba11d40b7f79f88ec151/test_nb.ipynb', '*')\", 'foo()', 'globals()'], 'Out': {7: {...}, 9: {...}, 10: ..., 11: dict_keys(['__name__', '__doc__', '__package__', '__loader__', '__spec__', '__builtin__', '__builtins__', '_ih', '_oh', '_dh', 'In', 'Out', 'get_ipython', 'exit', 'quit', '_', '__', '___', '_i', '_ii', '_iii', '_i1', 'ur', '_i2', '_i3', '_i4', 'reload', '_i5', '_i6', '_i7', '_7', '_i8', 'g', '_i9', '_9', '_i10', '_10', '_i11', '_11', '_i12', '_i13', '_13', '_i14', 'x', '_i15', '_i16', '_16', '_i17', '_i18', '_i19', '_i20']), 13: <bound method InteractiveShell.get_ipython of <ipykernel.zmqshell.ZMQInteractiveShell object at 0x1041c1ad0>>, 16: {'a': 1, 'b': 2}}, 'get_ipython': <bound method InteractiveShell.get_ipython of <ipykernel.zmqshell.ZMQInteractiveShell object at 0x1041c1ad0>>, 'exit': <IPython.core.autocall.ZMQExitAutocall object at 0x1041e8390>, 'quit': <IPython.core.autocall.ZMQExitAutocall object at 0x1041e8390>, '_': {'a': 1, 'b': 2}, '__': <bound method InteractiveShell.get_ipython of <ipykernel.zmqshell.ZMQInteractiveShell object at 0x1041c1ad0>>, '___': dict_keys(['__name__', '__doc__', '__package__', '__loader__', '__spec__', '__builtin__', '__builtins__', '_ih', '_oh', '_dh', 'In', 'Out', 'get_ipython', 'exit', 'quit', '_', '__', '___', '_i', '_ii', '_iii', '_i1', 'ur', '_i2', '_i3', '_i4', 'reload', '_i5', '_i6', '_i7', '_7', '_i8', 'g', '_i9', '_9', '_i10', '_10', '_i11', '_11', '_i12', '_i13', '_13', '_i14', 'x', '_i15', '_i16', '_16', '_i17', '_i18', '_i19', '_i20']), '_i': 'foo()', '_ii': \"ur('https://gist.githubusercontent.com/ryan-williams/58d781f4ea97e98ee80e6c4af0c8acf3/raw/458a253b9afececff0a6ba11d40b7f79f88ec151/test_nb.ipynb', '*')\", '_iii': 'from importlib import reload\\nreload(ur)\\nimport ur', '_i1': 'import ur', 'ur': <module 'ur' from '/Users/ryan/c/ur/ur.py'>, '_i2': \"ur('https://gist.githubusercontent.com/ryan-williams/58d781f4ea97e98ee80e6c4af0c8acf3/raw/458a253b9afececff0a6ba11d40b7f79f88ec151/test_nb.ipynb', '*')\", '_i3': 'foo()', '_i4': 'from importlib import reload\\nreload(ur)\\nimport ur', 'reload': <function reload at 0x102178cb0>, '_i5': \"ur('https://gist.githubusercontent.com/ryan-williams/58d781f4ea97e98ee80e6c4af0c8acf3/raw/458a253b9afececff0a6ba11d40b7f79f88ec151/test_nb.ipynb', '*')\", '_i6': 'foo()', '_i7': 'globals()', '_7': {...}, '_i8': 'g = globals()', 'g': {...}, '_i9': 'g', '_9': {...}, '_i10': 'g.items()', '_10': ..., '_i11': 'g.keys()', '_11': dict_keys(['__name__', '__doc__', '__package__', '__loader__', '__spec__', '__builtin__', '__builtins__', '_ih', '_oh', '_dh', 'In', 'Out', 'get_ipython', 'exit', 'quit', '_', '__', '___', '_i', '_ii', '_iii', '_i1', 'ur', '_i2', '_i3', '_i4', 'reload', '_i5', '_i6', '_i7', '_7', '_i8', 'g', '_i9', '_9', '_i10', '_10', '_i11', '_11', '_i12', '_i13', '_13', '_i14', 'x', '_i15', '_i16', '_16', '_i17', '_i18', '_i19', '_i20']), '_i12': \"g['foo']\", '_i13': \"g['get_ipython']\", '_13': <bound method InteractiveShell.get_ipython of <ipykernel.zmqshell.ZMQInteractiveShell object at 0x1041c1ad0>>, '_i14': \"x={'a':1}\", 'x': {'a': 1, 'b': 2}, '_i15': \"x.update({'b':2})\", '_i16': 'x', '_16': {'a': 1, 'b': 2}, '_i17': 'from importlib import reload\\nreload(ur)\\nimport ur', '_i18': \"ur('https://gist.githubusercontent.com/ryan-williams/58d781f4ea97e98ee80e6c4af0c8acf3/raw/458a253b9afececff0a6ba11d40b7f79f88ec151/test_nb.ipynb', '*')\", '_i19': 'foo()', '_i20': 'globals()'}), ('_i9', 'g'), ('_9', {'__name__': '__main__', '__doc__': 'Automatically created module for IPython interactive environment', '__package__': None, '__loader__': None, '__spec__': None, '__builtin__': <module 'builtins' (built-in)>, '__builtins__': <module 'builtins' (built-in)>, '_ih': ['', 'import ur', \"ur('https://gist.githubusercontent.com/ryan-williams/58d781f4ea97e98ee80e6c4af0c8acf3/raw/458a253b9afececff0a6ba11d40b7f79f88ec151/test_nb.ipynb', '*')\", 'foo()', 'from importlib import reload\\nreload(ur)\\nimport ur', \"ur('https://gist.githubusercontent.com/ryan-williams/58d781f4ea97e98ee80e6c4af0c8acf3/raw/458a253b9afececff0a6ba11d40b7f79f88ec151/test_nb.ipynb', '*')\", 'foo()', 'globals()', 'g = globals()', 'g', 'g.items()', 'g.keys()', \"g['foo']\", \"g['get_ipython']\", \"x={'a':1}\", \"x.update({'b':2})\", 'x', 'from importlib import reload\\nreload(ur)\\nimport ur', \"ur('https://gist.githubusercontent.com/ryan-williams/58d781f4ea97e98ee80e6c4af0c8acf3/raw/458a253b9afececff0a6ba11d40b7f79f88ec151/test_nb.ipynb', '*')\", 'foo()', 'globals()'], '_oh': {7: {...}, 9: {...}, 10: ..., 11: dict_keys(['__name__', '__doc__', '__package__', '__loader__', '__spec__', '__builtin__', '__builtins__', '_ih', '_oh', '_dh', 'In', 'Out', 'get_ipython', 'exit', 'quit', '_', '__', '___', '_i', '_ii', '_iii', '_i1', 'ur', '_i2', '_i3', '_i4', 'reload', '_i5', '_i6', '_i7', '_7', '_i8', 'g', '_i9', '_9', '_i10', '_10', '_i11', '_11', '_i12', '_i13', '_13', '_i14', 'x', '_i15', '_i16', '_16', '_i17', '_i18', '_i19', '_i20']), 13: <bound method InteractiveShell.get_ipython of <ipykernel.zmqshell.ZMQInteractiveShell object at 0x1041c1ad0>>, 16: {'a': 1, 'b': 2}}, '_dh': ['/Users/ryan/c/ur'], 'In': ['', 'import ur', \"ur('https://gist.githubusercontent.com/ryan-williams/58d781f4ea97e98ee80e6c4af0c8acf3/raw/458a253b9afececff0a6ba11d40b7f79f88ec151/test_nb.ipynb', '*')\", 'foo()', 'from importlib import reload\\nreload(ur)\\nimport ur', \"ur('https://gist.githubusercontent.com/ryan-williams/58d781f4ea97e98ee80e6c4af0c8acf3/raw/458a253b9afececff0a6ba11d40b7f79f88ec151/test_nb.ipynb', '*')\", 'foo()', 'globals()', 'g = globals()', 'g', 'g.items()', 'g.keys()', \"g['foo']\", \"g['get_ipython']\", \"x={'a':1}\", \"x.update({'b':2})\", 'x', 'from importlib import reload\\nreload(ur)\\nimport ur', \"ur('https://gist.githubusercontent.com/ryan-williams/58d781f4ea97e98ee80e6c4af0c8acf3/raw/458a253b9afececff0a6ba11d40b7f79f88ec151/test_nb.ipynb', '*')\", 'foo()', 'globals()'], 'Out': {7: {...}, 9: {...}, 10: ..., 11: dict_keys(['__name__', '__doc__', '__package__', '__loader__', '__spec__', '__builtin__', '__builtins__', '_ih', '_oh', '_dh', 'In', 'Out', 'get_ipython', 'exit', 'quit', '_', '__', '___', '_i', '_ii', '_iii', '_i1', 'ur', '_i2', '_i3', '_i4', 'reload', '_i5', '_i6', '_i7', '_7', '_i8', 'g', '_i9', '_9', '_i10', '_10', '_i11', '_11', '_i12', '_i13', '_13', '_i14', 'x', '_i15', '_i16', '_16', '_i17', '_i18', '_i19', '_i20']), 13: <bound method InteractiveShell.get_ipython of <ipykernel.zmqshell.ZMQInteractiveShell object at 0x1041c1ad0>>, 16: {'a': 1, 'b': 2}}, 'get_ipython': <bound method InteractiveShell.get_ipython of <ipykernel.zmqshell.ZMQInteractiveShell object at 0x1041c1ad0>>, 'exit': <IPython.core.autocall.ZMQExitAutocall object at 0x1041e8390>, 'quit': <IPython.core.autocall.ZMQExitAutocall object at 0x1041e8390>, '_': {'a': 1, 'b': 2}, '__': <bound method InteractiveShell.get_ipython of <ipykernel.zmqshell.ZMQInteractiveShell object at 0x1041c1ad0>>, '___': dict_keys(['__name__', '__doc__', '__package__', '__loader__', '__spec__', '__builtin__', '__builtins__', '_ih', '_oh', '_dh', 'In', 'Out', 'get_ipython', 'exit', 'quit', '_', '__', '___', '_i', '_ii', '_iii', '_i1', 'ur', '_i2', '_i3', '_i4', 'reload', '_i5', '_i6', '_i7', '_7', '_i8', 'g', '_i9', '_9', '_i10', '_10', '_i11', '_11', '_i12', '_i13', '_13', '_i14', 'x', '_i15', '_i16', '_16', '_i17', '_i18', '_i19', '_i20']), '_i': 'foo()', '_ii': \"ur('https://gist.githubusercontent.com/ryan-williams/58d781f4ea97e98ee80e6c4af0c8acf3/raw/458a253b9afececff0a6ba11d40b7f79f88ec151/test_nb.ipynb', '*')\", '_iii': 'from importlib import reload\\nreload(ur)\\nimport ur', '_i1': 'import ur', 'ur': <module 'ur' from '/Users/ryan/c/ur/ur.py'>, '_i2': \"ur('https://gist.githubusercontent.com/ryan-williams/58d781f4ea97e98ee80e6c4af0c8acf3/raw/458a253b9afececff0a6ba11d40b7f79f88ec151/test_nb.ipynb', '*')\", '_i3': 'foo()', '_i4': 'from importlib import reload\\nreload(ur)\\nimport ur', 'reload': <function reload at 0x102178cb0>, '_i5': \"ur('https://gist.githubusercontent.com/ryan-williams/58d781f4ea97e98ee80e6c4af0c8acf3/raw/458a253b9afececff0a6ba11d40b7f79f88ec151/test_nb.ipynb', '*')\", '_i6': 'foo()', '_i7': 'globals()', '_7': {...}, '_i8': 'g = globals()', 'g': {...}, '_i9': 'g', '_9': {...}, '_i10': 'g.items()', '_10': ..., '_i11': 'g.keys()', '_11': dict_keys(['__name__', '__doc__', '__package__', '__loader__', '__spec__', '__builtin__', '__builtins__', '_ih', '_oh', '_dh', 'In', 'Out', 'get_ipython', 'exit', 'quit', '_', '__', '___', '_i', '_ii', '_iii', '_i1', 'ur', '_i2', '_i3', '_i4', 'reload', '_i5', '_i6', '_i7', '_7', '_i8', 'g', '_i9', '_9', '_i10', '_10', '_i11', '_11', '_i12', '_i13', '_13', '_i14', 'x', '_i15', '_i16', '_16', '_i17', '_i18', '_i19', '_i20']), '_i12': \"g['foo']\", '_i13': \"g['get_ipython']\", '_13': <bound method InteractiveShell.get_ipython of <ipykernel.zmqshell.ZMQInteractiveShell object at 0x1041c1ad0>>, '_i14': \"x={'a':1}\", 'x': {'a': 1, 'b': 2}, '_i15': \"x.update({'b':2})\", '_i16': 'x', '_16': {'a': 1, 'b': 2}, '_i17': 'from importlib import reload\\nreload(ur)\\nimport ur', '_i18': \"ur('https://gist.githubusercontent.com/ryan-williams/58d781f4ea97e98ee80e6c4af0c8acf3/raw/458a253b9afececff0a6ba11d40b7f79f88ec151/test_nb.ipynb', '*')\", '_i19': 'foo()', '_i20': 'globals()'}), ('_i10', 'g.items()'), ('_10', ...), ('_i11', 'g.keys()'), ('_11', dict_keys(['__name__', '__doc__', '__package__', '__loader__', '__spec__', '__builtin__', '__builtins__', '_ih', '_oh', '_dh', 'In', 'Out', 'get_ipython', 'exit', 'quit', '_', '__', '___', '_i', '_ii', '_iii', '_i1', 'ur', '_i2', '_i3', '_i4', 'reload', '_i5', '_i6', '_i7', '_7', '_i8', 'g', '_i9', '_9', '_i10', '_10', '_i11', '_11', '_i12', '_i13', '_13', '_i14', 'x', '_i15', '_i16', '_16', '_i17', '_i18', '_i19', '_i20'])), ('_i12', \"g['foo']\"), ('_i13', \"g['get_ipython']\"), ('_13', <bound method InteractiveShell.get_ipython of <ipykernel.zmqshell.ZMQInteractiveShell object at 0x1041c1ad0>>), ('_i14', \"x={'a':1}\"), ('x', {'a': 1, 'b': 2}), ('_i15', \"x.update({'b':2})\"), ('_i16', 'x'), ('_16', {'a': 1, 'b': 2}), ('_i17', 'from importlib import reload\\nreload(ur)\\nimport ur'), ('_i18', \"ur('https://gist.githubusercontent.com/ryan-williams/58d781f4ea97e98ee80e6c4af0c8acf3/raw/458a253b9afececff0a6ba11d40b7f79f88ec151/test_nb.ipynb', '*')\"), ('_i19', 'foo()'), ('_i20', 'globals()')]),\n",
       " '_i11': 'g.keys()',\n",
       " '_11': dict_keys(['__name__', '__doc__', '__package__', '__loader__', '__spec__', '__builtin__', '__builtins__', '_ih', '_oh', '_dh', 'In', 'Out', 'get_ipython', 'exit', 'quit', '_', '__', '___', '_i', '_ii', '_iii', '_i1', 'ur', '_i2', '_i3', '_i4', 'reload', '_i5', '_i6', '_i7', '_7', '_i8', 'g', '_i9', '_9', '_i10', '_10', '_i11', '_11', '_i12', '_i13', '_13', '_i14', 'x', '_i15', '_i16', '_16', '_i17', '_i18', '_i19', '_i20']),\n",
       " '_i12': \"g['foo']\",\n",
       " '_i13': \"g['get_ipython']\",\n",
       " '_13': <bound method InteractiveShell.get_ipython of <ipykernel.zmqshell.ZMQInteractiveShell object at 0x1041c1ad0>>,\n",
       " '_i14': \"x={'a':1}\",\n",
       " 'x': {'a': 1, 'b': 2},\n",
       " '_i15': \"x.update({'b':2})\",\n",
       " '_i16': 'x',\n",
       " '_16': {'a': 1, 'b': 2},\n",
       " '_i17': 'from importlib import reload\\nreload(ur)\\nimport ur',\n",
       " '_i18': \"ur('https://gist.githubusercontent.com/ryan-williams/58d781f4ea97e98ee80e6c4af0c8acf3/raw/458a253b9afececff0a6ba11d40b7f79f88ec151/test_nb.ipynb', '*')\",\n",
       " '_i19': 'foo()',\n",
       " '_i20': 'globals()'}"
      ]
     },
     "execution_count": 20,
     "metadata": {},
     "output_type": "execute_result"
    },
    {
     "name": "stdout",
     "output_type": "stream",
     "text": [
      "find_module: $zmq.backend.cython.zmq, $['/Users/ryan/.pyenv/versions/ur-3.7.4/lib/python3.7/site-packages/zmq/backend/cython']\n",
      "find_notebook: fullname zmq.backend.cython.zmq, path ['/Users/ryan/.pyenv/versions/ur-3.7.4/lib/python3.7/site-packages/zmq/backend/cython'], name zmq\n",
      "find_module: $zmq.backend.cython.zmq, $['/Users/ryan/.pyenv/versions/ur-3.7.4/lib/python3.7/site-packages/zmq/backend/cython']\n",
      "find_notebook: fullname zmq.backend.cython.zmq, path ['/Users/ryan/.pyenv/versions/ur-3.7.4/lib/python3.7/site-packages/zmq/backend/cython'], name zmq\n",
      "find_module: $zmq.backend.cython.zmq, $['/Users/ryan/.pyenv/versions/ur-3.7.4/lib/python3.7/site-packages/zmq/backend/cython']\n",
      "find_notebook: fullname zmq.backend.cython.zmq, path ['/Users/ryan/.pyenv/versions/ur-3.7.4/lib/python3.7/site-packages/zmq/backend/cython'], name zmq\n"
     ]
    }
   ],
   "source": [
    "globals()"
   ]
  },
  {
   "cell_type": "code",
   "execution_count": 19,
   "metadata": {},
   "outputs": [
    {
     "ename": "NameError",
     "evalue": "name 'foo' is not defined",
     "output_type": "error",
     "traceback": [
      "\u001b[0;31m---------------------------------------------------------------------------\u001b[0m",
      "\u001b[0;31mNameError\u001b[0m                                 Traceback (most recent call last)",
      "\u001b[0;32m<ipython-input-19-c19b6d9633cf>\u001b[0m in \u001b[0;36m<module>\u001b[0;34m\u001b[0m\n\u001b[0;32m----> 1\u001b[0;31m \u001b[0mfoo\u001b[0m\u001b[0;34m(\u001b[0m\u001b[0;34m)\u001b[0m\u001b[0;34m\u001b[0m\u001b[0;34m\u001b[0m\u001b[0m\n\u001b[0m",
      "\u001b[0;31mNameError\u001b[0m: name 'foo' is not defined"
     ]
    }
   ],
   "source": [
    "foo()"
   ]
  },
  {
   "cell_type": "code",
   "execution_count": 8,
   "metadata": {},
   "outputs": [],
   "source": [
    "g = globals()"
   ]
  },
  {
   "cell_type": "code",
   "execution_count": 11,
   "metadata": {},
   "outputs": [
    {
     "data": {
      "text/plain": [
       "dict_keys(['__name__', '__doc__', '__package__', '__loader__', '__spec__', '__builtin__', '__builtins__', '_ih', '_oh', '_dh', 'In', 'Out', 'get_ipython', 'exit', 'quit', '_', '__', '___', '_i', '_ii', '_iii', '_i1', 'ur', '_i2', '_i3', '_i4', 'reload', '_i5', '_i6', '_i7', '_7', '_i8', 'g', '_i9', '_9', '_i10', '_10', '_i11'])"
      ]
     },
     "execution_count": 11,
     "metadata": {},
     "output_type": "execute_result"
    }
   ],
   "source": [
    "g.keys()"
   ]
  },
  {
   "cell_type": "code",
   "execution_count": 13,
   "metadata": {},
   "outputs": [
    {
     "data": {
      "text/plain": [
       "<bound method InteractiveShell.get_ipython of <ipykernel.zmqshell.ZMQInteractiveShell object at 0x1041c1ad0>>"
      ]
     },
     "execution_count": 13,
     "metadata": {},
     "output_type": "execute_result"
    }
   ],
   "source": [
    "g['get_ipython']"
   ]
  },
  {
   "cell_type": "code",
   "execution_count": 9,
   "metadata": {
    "scrolled": true
   },
   "outputs": [
    {
     "data": {
      "text/plain": [
       "{'__name__': '__main__',\n",
       " '__doc__': 'Automatically created module for IPython interactive environment',\n",
       " '__package__': None,\n",
       " '__loader__': None,\n",
       " '__spec__': None,\n",
       " '__builtin__': <module 'builtins' (built-in)>,\n",
       " '__builtins__': <module 'builtins' (built-in)>,\n",
       " '_ih': ['',\n",
       "  'import ur',\n",
       "  \"ur('https://gist.githubusercontent.com/ryan-williams/58d781f4ea97e98ee80e6c4af0c8acf3/raw/458a253b9afececff0a6ba11d40b7f79f88ec151/test_nb.ipynb', '*')\",\n",
       "  'foo()',\n",
       "  'from importlib import reload\\nreload(ur)\\nimport ur',\n",
       "  \"ur('https://gist.githubusercontent.com/ryan-williams/58d781f4ea97e98ee80e6c4af0c8acf3/raw/458a253b9afececff0a6ba11d40b7f79f88ec151/test_nb.ipynb', '*')\",\n",
       "  'foo()',\n",
       "  'globals()',\n",
       "  'g = globals()',\n",
       "  'g'],\n",
       " '_oh': {7: {...}},\n",
       " '_dh': ['/Users/ryan/c/ur'],\n",
       " 'In': ['',\n",
       "  'import ur',\n",
       "  \"ur('https://gist.githubusercontent.com/ryan-williams/58d781f4ea97e98ee80e6c4af0c8acf3/raw/458a253b9afececff0a6ba11d40b7f79f88ec151/test_nb.ipynb', '*')\",\n",
       "  'foo()',\n",
       "  'from importlib import reload\\nreload(ur)\\nimport ur',\n",
       "  \"ur('https://gist.githubusercontent.com/ryan-williams/58d781f4ea97e98ee80e6c4af0c8acf3/raw/458a253b9afececff0a6ba11d40b7f79f88ec151/test_nb.ipynb', '*')\",\n",
       "  'foo()',\n",
       "  'globals()',\n",
       "  'g = globals()',\n",
       "  'g'],\n",
       " 'Out': {7: {...}},\n",
       " 'get_ipython': <bound method InteractiveShell.get_ipython of <ipykernel.zmqshell.ZMQInteractiveShell object at 0x1041c1ad0>>,\n",
       " 'exit': <IPython.core.autocall.ZMQExitAutocall at 0x1041e8390>,\n",
       " 'quit': <IPython.core.autocall.ZMQExitAutocall at 0x1041e8390>,\n",
       " '_': {...},\n",
       " '__': '',\n",
       " '___': '',\n",
       " '_i': 'g = globals()',\n",
       " '_ii': 'globals()',\n",
       " '_iii': 'foo()',\n",
       " '_i1': 'import ur',\n",
       " 'ur': <module 'ur' from '/Users/ryan/c/ur/ur.py'>,\n",
       " '_i2': \"ur('https://gist.githubusercontent.com/ryan-williams/58d781f4ea97e98ee80e6c4af0c8acf3/raw/458a253b9afececff0a6ba11d40b7f79f88ec151/test_nb.ipynb', '*')\",\n",
       " '_i3': 'foo()',\n",
       " '_i4': 'from importlib import reload\\nreload(ur)\\nimport ur',\n",
       " 'reload': <function importlib.reload(module)>,\n",
       " '_i5': \"ur('https://gist.githubusercontent.com/ryan-williams/58d781f4ea97e98ee80e6c4af0c8acf3/raw/458a253b9afececff0a6ba11d40b7f79f88ec151/test_nb.ipynb', '*')\",\n",
       " '_i6': 'foo()',\n",
       " '_i7': 'globals()',\n",
       " '_7': {...},\n",
       " '_i8': 'g = globals()',\n",
       " 'g': {...},\n",
       " '_i9': 'g'}"
      ]
     },
     "execution_count": 9,
     "metadata": {},
     "output_type": "execute_result"
    }
   ],
   "source": [
    "g"
   ]
  },
  {
   "cell_type": "code",
   "execution_count": 7,
   "metadata": {},
   "outputs": [
    {
     "name": "stdout",
     "output_type": "stream",
     "text": [
      "ur top: __name__ __doc__ __package__ __loader__ __spec__ __file__ __cached__ __builtins__ io os sys types ast nbformat NamedTemporaryFile urlparse urlretrieve get_ipython InteractiveShell ModuleType\n"
     ]
    }
   ],
   "source": [
    "import ur"
   ]
  },
  {
   "cell_type": "code",
   "execution_count": 7,
   "metadata": {},
   "outputs": [],
   "source": [
    "from importlib import invalidate_caches"
   ]
  },
  {
   "cell_type": "code",
   "execution_count": 8,
   "metadata": {},
   "outputs": [],
   "source": [
    "invalidate_caches()"
   ]
  },
  {
   "cell_type": "code",
   "execution_count": 22,
   "metadata": {},
   "outputs": [
    {
     "name": "stdout",
     "output_type": "stream",
     "text": [
      "load_module: https://gist.githubusercontent.com/ryan-williams/58d781f4ea97e98ee80e6c4af0c8acf3/raw/458a253b9afececff0a6ba11d40b7f79f88ec151/test_nb.ipynb -> ParseResult(scheme='https', netloc='gist.githubusercontent.com', path='/ryan-williams/58d781f4ea97e98ee80e6c4af0c8acf3/raw/458a253b9afececff0a6ba11d40b7f79f88ec151/test_nb.ipynb', params='', query='', fragment='')\n",
      "Fetching https://gist.githubusercontent.com/ryan-williams/58d781f4ea97e98ee80e6c4af0c8acf3/raw/458a253b9afececff0a6ba11d40b7f79f88ec151/test_nb.ipynb to /var/folders/m0/mj2x82p1527349z6mn8btgtr0000gr/T/tmpc2g__dhg\n",
      "cell code:\n",
      "def foo():\n",
      "    return 4\n",
      "\n"
     ]
    },
    {
     "data": {
      "text/plain": [
       "4"
      ]
     },
     "execution_count": 22,
     "metadata": {},
     "output_type": "execute_result"
    }
   ],
   "source": [
    "foo = ur('https://gist.githubusercontent.com/ryan-williams/58d781f4ea97e98ee80e6c4af0c8acf3/raw/458a253b9afececff0a6ba11d40b7f79f88ec151/test_nb.ipynb').foo\n",
    "foo()"
   ]
  },
  {
   "cell_type": "code",
   "execution_count": 17,
   "metadata": {},
   "outputs": [],
   "source": [
    "from sys import meta_path, modules"
   ]
  },
  {
   "cell_type": "code",
   "execution_count": 21,
   "metadata": {},
   "outputs": [
    {
     "data": {
      "text/plain": [
       "4"
      ]
     },
     "execution_count": 21,
     "metadata": {},
     "output_type": "execute_result"
    }
   ],
   "source": [
    "modules['https://gist.githubusercontent.com/ryan-williams/58d781f4ea97e98ee80e6c4af0c8acf3/raw/458a253b9afececff0a6ba11d40b7f79f88ec151/test_nb.ipynb'].foo()"
   ]
  },
  {
   "cell_type": "code",
   "execution_count": 15,
   "metadata": {},
   "outputs": [
    {
     "data": {
      "text/plain": [
       "4"
      ]
     },
     "execution_count": 15,
     "metadata": {},
     "output_type": "execute_result"
    }
   ],
   "source": [
    "mod.foo()"
   ]
  },
  {
   "cell_type": "code",
   "execution_count": 14,
   "metadata": {},
   "outputs": [
    {
     "data": {
      "text/plain": [
       "{'__name__': 'https://gist.githubusercontent.com/ryan-williams/58d781f4ea97e98ee80e6c4af0c8acf3/raw/458a253b9afececff0a6ba11d40b7f79f88ec151/test_nb.ipynb',\n",
       " '__doc__': None,\n",
       " '__package__': None,\n",
       " '__loader__': <ur.URLLoader at 0x112e8ab50>,\n",
       " '__spec__': None,\n",
       " '__file__': 'https://gist.githubusercontent.com/ryan-williams/58d781f4ea97e98ee80e6c4af0c8acf3/raw/458a253b9afececff0a6ba11d40b7f79f88ec151/test_nb.ipynb',\n",
       " 'get_ipython': <function IPython.core.getipython.get_ipython()>,\n",
       " '__builtins__': {'__name__': 'builtins',\n",
       "  '__doc__': \"Built-in functions, exceptions, and other objects.\\n\\nNoteworthy: None is the `nil' object; Ellipsis represents `...' in slices.\",\n",
       "  '__package__': '',\n",
       "  '__loader__': _frozen_importlib.BuiltinImporter,\n",
       "  '__spec__': ModuleSpec(name='builtins', loader=<class '_frozen_importlib.BuiltinImporter'>),\n",
       "  '__build_class__': <function __build_class__>,\n",
       "  '__import__': <function __import__>,\n",
       "  'abs': <function abs(x, /)>,\n",
       "  'all': <function all(iterable, /)>,\n",
       "  'any': <function any(iterable, /)>,\n",
       "  'ascii': <function ascii(obj, /)>,\n",
       "  'bin': <function bin(number, /)>,\n",
       "  'breakpoint': <function breakpoint>,\n",
       "  'callable': <function callable(obj, /)>,\n",
       "  'chr': <function chr(i, /)>,\n",
       "  'compile': <function compile(source, filename, mode, flags=0, dont_inherit=False, optimize=-1)>,\n",
       "  'delattr': <function delattr(obj, name, /)>,\n",
       "  'dir': <function dir>,\n",
       "  'divmod': <function divmod(x, y, /)>,\n",
       "  'eval': <function eval(source, globals=None, locals=None, /)>,\n",
       "  'exec': <function exec(source, globals=None, locals=None, /)>,\n",
       "  'format': <function format(value, format_spec='', /)>,\n",
       "  'getattr': <function getattr>,\n",
       "  'globals': <function globals()>,\n",
       "  'hasattr': <function hasattr(obj, name, /)>,\n",
       "  'hash': <function hash(obj, /)>,\n",
       "  'hex': <function hex(number, /)>,\n",
       "  'id': <function id(obj, /)>,\n",
       "  'input': <bound method Kernel.raw_input of <ipykernel.ipkernel.IPythonKernel object at 0x1119b1910>>,\n",
       "  'isinstance': <function isinstance(obj, class_or_tuple, /)>,\n",
       "  'issubclass': <function issubclass(cls, class_or_tuple, /)>,\n",
       "  'iter': <function iter>,\n",
       "  'len': <function len(obj, /)>,\n",
       "  'locals': <function locals()>,\n",
       "  'max': <function max>,\n",
       "  'min': <function min>,\n",
       "  'next': <function next>,\n",
       "  'oct': <function oct(number, /)>,\n",
       "  'ord': <function ord(c, /)>,\n",
       "  'pow': <function pow(x, y, z=None, /)>,\n",
       "  'print': <function print>,\n",
       "  'repr': <function repr(obj, /)>,\n",
       "  'round': <function round(number, ndigits=None)>,\n",
       "  'setattr': <function setattr(obj, name, value, /)>,\n",
       "  'sorted': <function sorted(iterable, /, *, key=None, reverse=False)>,\n",
       "  'sum': <function sum(iterable, start=0, /)>,\n",
       "  'vars': <function vars>,\n",
       "  'None': None,\n",
       "  'Ellipsis': Ellipsis,\n",
       "  'NotImplemented': NotImplemented,\n",
       "  'False': False,\n",
       "  'True': True,\n",
       "  'bool': bool,\n",
       "  'memoryview': memoryview,\n",
       "  'bytearray': bytearray,\n",
       "  'bytes': bytes,\n",
       "  'classmethod': classmethod,\n",
       "  'complex': complex,\n",
       "  'dict': dict,\n",
       "  'enumerate': enumerate,\n",
       "  'filter': filter,\n",
       "  'float': float,\n",
       "  'frozenset': frozenset,\n",
       "  'property': property,\n",
       "  'int': int,\n",
       "  'list': list,\n",
       "  'map': map,\n",
       "  'object': object,\n",
       "  'range': range,\n",
       "  'reversed': reversed,\n",
       "  'set': set,\n",
       "  'slice': slice,\n",
       "  'staticmethod': staticmethod,\n",
       "  'str': str,\n",
       "  'super': super,\n",
       "  'tuple': tuple,\n",
       "  'type': type,\n",
       "  'zip': zip,\n",
       "  '__debug__': True,\n",
       "  'BaseException': BaseException,\n",
       "  'Exception': Exception,\n",
       "  'TypeError': TypeError,\n",
       "  'StopAsyncIteration': StopAsyncIteration,\n",
       "  'StopIteration': StopIteration,\n",
       "  'GeneratorExit': GeneratorExit,\n",
       "  'SystemExit': SystemExit,\n",
       "  'KeyboardInterrupt': KeyboardInterrupt,\n",
       "  'ImportError': ImportError,\n",
       "  'ModuleNotFoundError': ModuleNotFoundError,\n",
       "  'OSError': OSError,\n",
       "  'EnvironmentError': OSError,\n",
       "  'IOError': OSError,\n",
       "  'EOFError': EOFError,\n",
       "  'RuntimeError': RuntimeError,\n",
       "  'RecursionError': RecursionError,\n",
       "  'NotImplementedError': NotImplementedError,\n",
       "  'NameError': NameError,\n",
       "  'UnboundLocalError': UnboundLocalError,\n",
       "  'AttributeError': AttributeError,\n",
       "  'SyntaxError': SyntaxError,\n",
       "  'IndentationError': IndentationError,\n",
       "  'TabError': TabError,\n",
       "  'LookupError': LookupError,\n",
       "  'IndexError': IndexError,\n",
       "  'KeyError': KeyError,\n",
       "  'ValueError': ValueError,\n",
       "  'UnicodeError': UnicodeError,\n",
       "  'UnicodeEncodeError': UnicodeEncodeError,\n",
       "  'UnicodeDecodeError': UnicodeDecodeError,\n",
       "  'UnicodeTranslateError': UnicodeTranslateError,\n",
       "  'AssertionError': AssertionError,\n",
       "  'ArithmeticError': ArithmeticError,\n",
       "  'FloatingPointError': FloatingPointError,\n",
       "  'OverflowError': OverflowError,\n",
       "  'ZeroDivisionError': ZeroDivisionError,\n",
       "  'SystemError': SystemError,\n",
       "  'ReferenceError': ReferenceError,\n",
       "  'MemoryError': MemoryError,\n",
       "  'BufferError': BufferError,\n",
       "  'Warning': Warning,\n",
       "  'UserWarning': UserWarning,\n",
       "  'DeprecationWarning': DeprecationWarning,\n",
       "  'PendingDeprecationWarning': PendingDeprecationWarning,\n",
       "  'SyntaxWarning': SyntaxWarning,\n",
       "  'RuntimeWarning': RuntimeWarning,\n",
       "  'FutureWarning': FutureWarning,\n",
       "  'ImportWarning': ImportWarning,\n",
       "  'UnicodeWarning': UnicodeWarning,\n",
       "  'BytesWarning': BytesWarning,\n",
       "  'ResourceWarning': ResourceWarning,\n",
       "  'ConnectionError': ConnectionError,\n",
       "  'BlockingIOError': BlockingIOError,\n",
       "  'BrokenPipeError': BrokenPipeError,\n",
       "  'ChildProcessError': ChildProcessError,\n",
       "  'ConnectionAbortedError': ConnectionAbortedError,\n",
       "  'ConnectionRefusedError': ConnectionRefusedError,\n",
       "  'ConnectionResetError': ConnectionResetError,\n",
       "  'FileExistsError': FileExistsError,\n",
       "  'FileNotFoundError': FileNotFoundError,\n",
       "  'IsADirectoryError': IsADirectoryError,\n",
       "  'NotADirectoryError': NotADirectoryError,\n",
       "  'InterruptedError': InterruptedError,\n",
       "  'PermissionError': PermissionError,\n",
       "  'ProcessLookupError': ProcessLookupError,\n",
       "  'TimeoutError': TimeoutError,\n",
       "  'open': <function io.open(file, mode='r', buffering=-1, encoding=None, errors=None, newline=None, closefd=True, opener=None)>,\n",
       "  'copyright': Copyright (c) 2001-2019 Python Software Foundation.\n",
       "  All Rights Reserved.\n",
       "  \n",
       "  Copyright (c) 2000 BeOpen.com.\n",
       "  All Rights Reserved.\n",
       "  \n",
       "  Copyright (c) 1995-2001 Corporation for National Research Initiatives.\n",
       "  All Rights Reserved.\n",
       "  \n",
       "  Copyright (c) 1991-1995 Stichting Mathematisch Centrum, Amsterdam.\n",
       "  All Rights Reserved.,\n",
       "  'credits':     Thanks to CWI, CNRI, BeOpen.com, Zope Corporation and a cast of thousands\n",
       "      for supporting Python development.  See www.python.org for more information.,\n",
       "  'license': Type license() to see the full license text,\n",
       "  'help': Type help() for interactive help, or help(object) for help about object.,\n",
       "  '__IPYTHON__': True,\n",
       "  'display': <function IPython.core.display.display(*objs, include=None, exclude=None, metadata=None, transient=None, display_id=None, **kwargs)>,\n",
       "  'get_ipython': <bound method InteractiveShell.get_ipython of <ipykernel.zmqshell.ZMQInteractiveShell object at 0x11194fcd0>>},\n",
       " 'foo': <function https://gist.githubusercontent.com/ryan-williams/58d781f4ea97e98ee80e6c4af0c8acf3/raw/458a253b9afececff0a6ba11d40b7f79f88ec151/test_nb.ipynb.foo()>}"
      ]
     },
     "execution_count": 14,
     "metadata": {},
     "output_type": "execute_result"
    }
   ],
   "source": [
    "mod.__dict__"
   ]
  },
  {
   "cell_type": "code",
   "execution_count": 10,
   "metadata": {},
   "outputs": [
    {
     "ename": "NameError",
     "evalue": "name 'bar' is not defined",
     "output_type": "error",
     "traceback": [
      "\u001b[0;31m---------------------------------------------------------------------------\u001b[0m",
      "\u001b[0;31mNameError\u001b[0m                                 Traceback (most recent call last)",
      "\u001b[0;32m<ipython-input-10-226d01f48125>\u001b[0m in \u001b[0;36m<module>\u001b[0;34m\u001b[0m\n\u001b[0;32m----> 1\u001b[0;31m \u001b[0mbar\u001b[0m\u001b[0;34m(\u001b[0m\u001b[0;34m)\u001b[0m\u001b[0;34m\u001b[0m\u001b[0;34m\u001b[0m\u001b[0m\n\u001b[0m",
      "\u001b[0;31mNameError\u001b[0m: name 'bar' is not defined"
     ]
    }
   ],
   "source": [
    "bar()"
   ]
  },
  {
   "cell_type": "code",
   "execution_count": 10,
   "metadata": {},
   "outputs": [
    {
     "ename": "SyntaxError",
     "evalue": "invalid syntax (<ipython-input-10-385464e66661>, line 1)",
     "output_type": "error",
     "traceback": [
      "\u001b[0;36m  File \u001b[0;32m\"<ipython-input-10-385464e66661>\"\u001b[0;36m, line \u001b[0;32m1\u001b[0m\n\u001b[0;31m    import 'https://gist.githubusercontent.com/ryan-williams/58d781f4ea97e98ee80e6c4af0c8acf3/raw/caea2fa4a78913c300afc9465da1eb3b3d0d0b2b/test_nb.ipynb'\u001b[0m\n\u001b[0m                                                                                                                                                        ^\u001b[0m\n\u001b[0;31mSyntaxError\u001b[0m\u001b[0;31m:\u001b[0m invalid syntax\n"
     ]
    }
   ],
   "source": [
    "import 'https://gist.githubusercontent.com/ryan-williams/58d781f4ea97e98ee80e6c4af0c8acf3/raw/caea2fa4a78913c300afc9465da1eb3b3d0d0b2b/test_nb.ipynb'"
   ]
  },
  {
   "cell_type": "code",
   "execution_count": null,
   "metadata": {},
   "outputs": [],
   "source": []
  }
 ],
 "metadata": {
  "kernelspec": {
   "display_name": "ur-3.7.4",
   "language": "python",
   "name": "ur-3.7.4"
  },
  "language_info": {
   "codemirror_mode": {
    "name": "ipython",
    "version": 3
   },
   "file_extension": ".py",
   "mimetype": "text/x-python",
   "name": "python",
   "nbconvert_exporter": "python",
   "pygments_lexer": "ipython3",
   "version": "3.7.4"
  }
 },
 "nbformat": 4,
 "nbformat_minor": 2
}
