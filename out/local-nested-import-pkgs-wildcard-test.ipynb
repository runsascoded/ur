{
 "cells": [
  {
   "cell_type": "markdown",
   "metadata": {
    "papermill": {
     "duration": 0.013809,
     "end_time": "2020-06-08T04:22:42.147009",
     "exception": false,
     "start_time": "2020-06-08T04:22:42.133200",
     "status": "completed"
    },
    "tags": []
   },
   "source": [
    "Test a wildcard-import of local {`.py`,`.ipynb`} modules that in turn import from other local {`.py`,`.ipynb`} modules:"
   ]
  },
  {
   "cell_type": "code",
   "execution_count": 1,
   "metadata": {
    "execution": {
     "iopub.execute_input": "2020-06-08T04:22:42.174718Z",
     "iopub.status.busy": "2020-06-08T04:22:42.173764Z",
     "iopub.status.idle": "2020-06-08T04:22:42.493475Z",
     "shell.execute_reply": "2020-06-08T04:22:42.493856Z"
    },
    "papermill": {
     "duration": 0.334541,
     "end_time": "2020-06-08T04:22:42.493980",
     "exception": false,
     "start_time": "2020-06-08T04:22:42.159439",
     "status": "completed"
    },
    "tags": []
   },
   "outputs": [],
   "source": [
    "import ur\n",
    "from examples.abcd_gist import *"
   ]
  },
  {
   "cell_type": "markdown",
   "metadata": {
    "papermill": {
     "duration": 0.011469,
     "end_time": "2020-06-08T04:22:42.518242",
     "exception": false,
     "start_time": "2020-06-08T04:22:42.506773",
     "status": "completed"
    },
    "tags": []
   },
   "source": [
    "Use a notebook that in turn imports from another, adjacent notebook:"
   ]
  },
  {
   "cell_type": "code",
   "execution_count": 2,
   "metadata": {
    "execution": {
     "iopub.execute_input": "2020-06-08T04:22:42.546793Z",
     "iopub.status.busy": "2020-06-08T04:22:42.545728Z",
     "iopub.status.idle": "2020-06-08T04:22:42.549781Z",
     "shell.execute_reply": "2020-06-08T04:22:42.549365Z"
    },
    "papermill": {
     "duration": 0.022136,
     "end_time": "2020-06-08T04:22:42.549863",
     "exception": false,
     "start_time": "2020-06-08T04:22:42.527727",
     "status": "completed"
    },
    "scrolled": true,
    "tags": []
   },
   "outputs": [
    {
     "data": {
      "text/plain": [
       "'aaabbb'"
      ]
     },
     "execution_count": 2,
     "metadata": {},
     "output_type": "execute_result"
    }
   ],
   "source": [
    "nb_abs_nb.nb_abs_nb()"
   ]
  },
  {
   "cell_type": "markdown",
   "metadata": {
    "papermill": {
     "duration": 0.008351,
     "end_time": "2020-06-08T04:22:42.567939",
     "exception": false,
     "start_time": "2020-06-08T04:22:42.559588",
     "status": "completed"
    },
    "tags": []
   },
   "source": [
    "Use a notebook that in turn imports from an adjacent Python file:"
   ]
  },
  {
   "cell_type": "code",
   "execution_count": 3,
   "metadata": {
    "execution": {
     "iopub.execute_input": "2020-06-08T04:22:42.589748Z",
     "iopub.status.busy": "2020-06-08T04:22:42.589267Z",
     "iopub.status.idle": "2020-06-08T04:22:42.593329Z",
     "shell.execute_reply": "2020-06-08T04:22:42.592735Z"
    },
    "papermill": {
     "duration": 0.016407,
     "end_time": "2020-06-08T04:22:42.593412",
     "exception": false,
     "start_time": "2020-06-08T04:22:42.577005",
     "status": "completed"
    },
    "scrolled": true,
    "tags": []
   },
   "outputs": [
    {
     "data": {
      "text/plain": [
       "'DDD!yay'"
      ]
     },
     "execution_count": 3,
     "metadata": {},
     "output_type": "execute_result"
    }
   ],
   "source": [
    "nb_abs_py.nb_abs_py()"
   ]
  },
  {
   "cell_type": "markdown",
   "metadata": {
    "papermill": {
     "duration": 0.011026,
     "end_time": "2020-06-08T04:22:42.614299",
     "exception": false,
     "start_time": "2020-06-08T04:22:42.603273",
     "status": "completed"
    },
    "tags": []
   },
   "source": [
    "Use a Python file that in turn imports an adjacent notebook:"
   ]
  },
  {
   "cell_type": "code",
   "execution_count": 4,
   "metadata": {
    "execution": {
     "iopub.execute_input": "2020-06-08T04:22:42.643115Z",
     "iopub.status.busy": "2020-06-08T04:22:42.642563Z",
     "iopub.status.idle": "2020-06-08T04:22:42.646981Z",
     "shell.execute_reply": "2020-06-08T04:22:42.646547Z"
    },
    "papermill": {
     "duration": 0.020362,
     "end_time": "2020-06-08T04:22:42.647110",
     "exception": false,
     "start_time": "2020-06-08T04:22:42.626748",
     "status": "completed"
    },
    "scrolled": true,
    "tags": []
   },
   "outputs": [
    {
     "data": {
      "text/plain": [
       "'aaabbb'"
      ]
     },
     "execution_count": 4,
     "metadata": {},
     "output_type": "execute_result"
    }
   ],
   "source": [
    "py_abs_nb.py_abs_nb()"
   ]
  },
  {
   "cell_type": "markdown",
   "metadata": {
    "papermill": {
     "duration": 0.009593,
     "end_time": "2020-06-08T04:22:42.666946",
     "exception": false,
     "start_time": "2020-06-08T04:22:42.657353",
     "status": "completed"
    },
    "tags": []
   },
   "source": [
    "Use a Python file that in turn imports from another, adjacent Python file:"
   ]
  },
  {
   "cell_type": "code",
   "execution_count": 5,
   "metadata": {
    "execution": {
     "iopub.execute_input": "2020-06-08T04:22:42.692094Z",
     "iopub.status.busy": "2020-06-08T04:22:42.691348Z",
     "iopub.status.idle": "2020-06-08T04:22:42.695095Z",
     "shell.execute_reply": "2020-06-08T04:22:42.694636Z"
    },
    "papermill": {
     "duration": 0.017742,
     "end_time": "2020-06-08T04:22:42.695180",
     "exception": false,
     "start_time": "2020-06-08T04:22:42.677438",
     "status": "completed"
    },
    "scrolled": true,
    "tags": []
   },
   "outputs": [
    {
     "data": {
      "text/plain": [
       "'DDD!yay'"
      ]
     },
     "execution_count": 5,
     "metadata": {},
     "output_type": "execute_result"
    }
   ],
   "source": [
    "py_abs_py.py_abs_py()"
   ]
  }
 ],
 "metadata": {
  "kernelspec": {
   "display_name": "3.8.2",
   "language": "python",
   "name": "3.8.2"
  },
  "language_info": {
   "codemirror_mode": {
    "name": "ipython",
    "version": 3
   },
   "file_extension": ".py",
   "mimetype": "text/x-python",
   "name": "python",
   "nbconvert_exporter": "python",
   "pygments_lexer": "ipython3",
   "version": "3.8.3"
  },
  "papermill": {
   "duration": 1.725822,
   "end_time": "2020-06-08T04:22:42.826351",
   "environment_variables": {},
   "exception": null,
   "input_path": "/ur/local-nested-import-pkgs-wildcard-test.ipynb",
   "output_path": "/ur/out/local-nested-import-pkgs-wildcard-test.ipynb",
   "parameters": {},
   "start_time": "2020-06-08T04:22:41.100529",
   "version": "2.1.1"
  }
 },
 "nbformat": 4,
 "nbformat_minor": 2
}