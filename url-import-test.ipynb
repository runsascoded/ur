{
 "cells": [
  {
   "cell_type": "markdown",
   "metadata": {},
   "source": [
    "Test importing from URLs:\n",
    "- spin up an HTTP server serving local files\n",
    "- import a notebook by URL\n",
    "\n",
    "`papermill` params:"
   ]
  },
  {
   "cell_type": "code",
   "execution_count": 1,
   "metadata": {},
   "outputs": [],
   "source": [
    "def attrs(mod):\n",
    "    spec = mod.__spec__\n",
    "    return mod, mod.__package__, spec.parent, spec.submodule_search_locations"
   ]
  },
  {
   "cell_type": "code",
   "execution_count": 2,
   "metadata": {},
   "outputs": [],
   "source": [
    "#import examples.abcd_gist\n",
    "import examples.abcd_gist.d"
   ]
  },
  {
   "cell_type": "code",
   "execution_count": 2,
   "metadata": {},
   "outputs": [],
   "source": [
    "from examples.abcd_gist import d"
   ]
  },
  {
   "cell_type": "code",
   "execution_count": 3,
   "metadata": {},
   "outputs": [
    {
     "data": {
      "text/plain": [
       "'/Users/ryan/c/ur/examples/abcd_gist/d.py'"
      ]
     },
     "execution_count": 3,
     "metadata": {},
     "output_type": "execute_result"
    }
   ],
   "source": [
    "d.__file__"
   ]
  },
  {
   "cell_type": "code",
   "execution_count": 4,
   "metadata": {},
   "outputs": [
    {
     "data": {
      "text/plain": [
       "'examples.abcd_gist'"
      ]
     },
     "execution_count": 4,
     "metadata": {},
     "output_type": "execute_result"
    }
   ],
   "source": [
    "d.__package__"
   ]
  },
  {
   "cell_type": "code",
   "execution_count": 6,
   "metadata": {},
   "outputs": [
    {
     "data": {
      "text/plain": [
       "(ModuleSpec(name='examples.abcd_gist.d', loader=<_frozen_importlib_external.SourceFileLoader object at 0x106a34970>, origin='/Users/ryan/c/ur/examples/abcd_gist/d.py'),\n",
       " 'examples.abcd_gist')"
      ]
     },
     "execution_count": 6,
     "metadata": {},
     "output_type": "execute_result"
    }
   ],
   "source": [
    "d.__spec__, d.__spec__.parent"
   ]
  },
  {
   "cell_type": "code",
   "execution_count": 1,
   "metadata": {},
   "outputs": [],
   "source": [
    "from examples.abcd_gist.d import *"
   ]
  },
  {
   "cell_type": "code",
   "execution_count": null,
   "metadata": {},
   "outputs": [],
   "source": []
  },
  {
   "cell_type": "code",
   "execution_count": 5,
   "metadata": {},
   "outputs": [
    {
     "data": {
      "text/plain": [
       "(<function examples.abcd_gist.d.ddd()>, 'DDD!')"
      ]
     },
     "execution_count": 5,
     "metadata": {},
     "output_type": "execute_result"
    }
   ],
   "source": [
    "ddd, ddd()"
   ]
  },
  {
   "cell_type": "code",
   "execution_count": 3,
   "metadata": {},
   "outputs": [
    {
     "data": {
      "text/plain": [
       "(<module 'examples' (namespace)>,\n",
       " 'examples',\n",
       " 'examples',\n",
       " _NamespacePath(['/Users/ryan/c/ur/examples', '/Users/ryan/c/ur/examples', '/Users/ryan/c/ur/examples']))"
      ]
     },
     "execution_count": 3,
     "metadata": {},
     "output_type": "execute_result"
    }
   ],
   "source": [
    "attrs(examples)"
   ]
  },
  {
   "cell_type": "code",
   "execution_count": 4,
   "metadata": {},
   "outputs": [
    {
     "data": {
      "text/plain": [
       "(<module 'examples.abcd_gist' from '/Users/ryan/c/ur/examples/abcd_gist/__init__.py'>,\n",
       " 'examples.abcd_gist',\n",
       " 'examples.abcd_gist',\n",
       " ['/Users/ryan/c/ur/examples/abcd_gist'])"
      ]
     },
     "execution_count": 4,
     "metadata": {},
     "output_type": "execute_result"
    }
   ],
   "source": [
    "attrs(examples.abcd_gist)"
   ]
  },
  {
   "cell_type": "code",
   "execution_count": 5,
   "metadata": {},
   "outputs": [
    {
     "data": {
      "text/plain": [
       "(<module 'examples.abcd_gist.d' from '/Users/ryan/c/ur/examples/abcd_gist/d.py'>,\n",
       " 'examples.abcd_gist',\n",
       " 'examples.abcd_gist',\n",
       " None)"
      ]
     },
     "execution_count": 5,
     "metadata": {},
     "output_type": "execute_result"
    }
   ],
   "source": [
    "attrs(examples.abcd_gist.d)"
   ]
  },
  {
   "cell_type": "code",
   "execution_count": 9,
   "metadata": {},
   "outputs": [
    {
     "data": {
      "text/plain": [
       "(<module 'examples' (namespace)>,\n",
       " <module 'examples.abcd_gist' from '/Users/ryan/c/ur/examples/abcd_gist/__init__.py'>,\n",
       " <module 'examples.abcd_gist.d' from '/Users/ryan/c/ur/examples/abcd_gist/d.py'>)"
      ]
     },
     "execution_count": 9,
     "metadata": {},
     "output_type": "execute_result"
    }
   ],
   "source": [
    "import sys\n",
    "sys.modules['examples'], sys.modules['examples.abcd_gist'], sys.modules['examples.abcd_gist.d']"
   ]
  },
  {
   "cell_type": "code",
   "execution_count": null,
   "metadata": {},
   "outputs": [],
   "source": []
  },
  {
   "cell_type": "code",
   "execution_count": 6,
   "metadata": {},
   "outputs": [],
   "source": [
    "import examples.abcd_gist.d"
   ]
  },
  {
   "cell_type": "code",
   "execution_count": 6,
   "metadata": {},
   "outputs": [
    {
     "data": {
      "text/plain": [
       "'/Users/ryan/c/ur/examples/abcd_gist'"
      ]
     },
     "execution_count": 6,
     "metadata": {},
     "output_type": "execute_result"
    }
   ],
   "source": [
    "examples.abcd_gist.__file__,"
   ]
  },
  {
   "cell_type": "code",
   "execution_count": 3,
   "metadata": {},
   "outputs": [
    {
     "data": {
      "text/plain": [
       "'examples.abcd_gist'"
      ]
     },
     "execution_count": 3,
     "metadata": {},
     "output_type": "execute_result"
    }
   ],
   "source": [
    "examples.abcd_gist.__package__"
   ]
  },
  {
   "cell_type": "code",
   "execution_count": 4,
   "metadata": {},
   "outputs": [
    {
     "data": {
      "text/plain": [
       "['/Users/ryan/c/ur/examples/abcd_gist']"
      ]
     },
     "execution_count": 4,
     "metadata": {},
     "output_type": "execute_result"
    }
   ],
   "source": [
    "examples.abcd_gist.__spec__.submodule_search_locations"
   ]
  },
  {
   "cell_type": "markdown",
   "metadata": {},
   "source": [
    "------\n",
    "## ur"
   ]
  },
  {
   "cell_type": "code",
   "execution_count": 1,
   "metadata": {},
   "outputs": [],
   "source": [
    "def attrs(mod):\n",
    "    spec = mod.__spec__\n",
    "    return (\n",
    "        mod, mod.__file__, \n",
    "        (mod.__package__, spec.parent), \n",
    "        (spec.submodule_search_locations, mod.__path__ if hasattr(mod, '__path__') else 'not a pkg')\n",
    "    )"
   ]
  },
  {
   "cell_type": "code",
   "execution_count": 1,
   "metadata": {},
   "outputs": [],
   "source": [
    "import ur\n",
    "#ur.verbose = 1"
   ]
  },
  {
   "cell_type": "code",
   "execution_count": 8,
   "metadata": {},
   "outputs": [],
   "source": [
    "import examples.abcd_gist"
   ]
  },
  {
   "cell_type": "code",
   "execution_count": 10,
   "metadata": {},
   "outputs": [
    {
     "data": {
      "text/plain": [
       "(<module 'examples' (/Users/ryan/c/ur/examples)>,\n",
       " '/Users/ryan/c/ur/examples',\n",
       " 'examples',\n",
       " 'examples',\n",
       " ['/Users/ryan/c/ur/examples'])"
      ]
     },
     "execution_count": 10,
     "metadata": {},
     "output_type": "execute_result"
    }
   ],
   "source": [
    "attrs(examples)"
   ]
  },
  {
   "cell_type": "code",
   "execution_count": 11,
   "metadata": {
    "scrolled": true
   },
   "outputs": [
    {
     "data": {
      "text/plain": [
       "(<module 'examples.abcd_gist' (/Users/ryan/c/ur/examples/abcd_gist)>,\n",
       " '/Users/ryan/c/ur/examples/abcd_gist',\n",
       " 'examples.abcd_gist',\n",
       " 'examples.abcd_gist',\n",
       " ['/Users/ryan/c/ur/examples/abcd_gist'])"
      ]
     },
     "execution_count": 11,
     "metadata": {},
     "output_type": "execute_result"
    }
   ],
   "source": [
    "attrs(examples.abcd_gist)"
   ]
  },
  {
   "cell_type": "code",
   "execution_count": 3,
   "metadata": {},
   "outputs": [],
   "source": [
    "from examples.abcd_gist import d"
   ]
  },
  {
   "cell_type": "code",
   "execution_count": 5,
   "metadata": {},
   "outputs": [],
   "source": [
    "from examples import abcd_gist"
   ]
  },
  {
   "cell_type": "code",
   "execution_count": 6,
   "metadata": {},
   "outputs": [
    {
     "data": {
      "text/plain": [
       "(<module 'examples.abcd_gist' (/Users/ryan/c/ur/examples/abcd_gist)>,\n",
       " '/Users/ryan/c/ur/examples/abcd_gist',\n",
       " ('examples.abcd_gist', 'examples.abcd_gist'),\n",
       " (['/Users/ryan/c/ur/examples/abcd_gist'],\n",
       "  ['/Users/ryan/c/ur/examples/abcd_gist']))"
      ]
     },
     "execution_count": 6,
     "metadata": {},
     "output_type": "execute_result"
    }
   ],
   "source": [
    "attrs(abcd_gist)"
   ]
  },
  {
   "cell_type": "code",
   "execution_count": 7,
   "metadata": {},
   "outputs": [
    {
     "data": {
      "text/plain": [
       "(<module 'd' (/Users/ryan/c/ur/examples/abcd_gist/d.py)>,\n",
       " '/Users/ryan/c/ur/examples/abcd_gist/d.py',\n",
       " ('', ''),\n",
       " (None, None))"
      ]
     },
     "execution_count": 7,
     "metadata": {},
     "output_type": "execute_result"
    }
   ],
   "source": [
    "attrs(d)"
   ]
  },
  {
   "cell_type": "code",
   "execution_count": 8,
   "metadata": {},
   "outputs": [
    {
     "data": {
      "text/plain": [
       "(ModuleSpec(name='d', loader=<importer.Importer object at 0x10d899190>, origin='/Users/ryan/c/ur/examples/abcd_gist/d.py'),\n",
       " '')"
      ]
     },
     "execution_count": 8,
     "metadata": {},
     "output_type": "execute_result"
    }
   ],
   "source": [
    "d.__spec__, d.__spec__.parent"
   ]
  },
  {
   "cell_type": "code",
   "execution_count": 13,
   "metadata": {},
   "outputs": [
    {
     "data": {
      "text/plain": [
       "''"
      ]
     },
     "execution_count": 13,
     "metadata": {},
     "output_type": "execute_result"
    }
   ],
   "source": [
    "d.__package__"
   ]
  },
  {
   "cell_type": "code",
   "execution_count": 3,
   "metadata": {},
   "outputs": [],
   "source": [
    "from examples.abcd_gist import *"
   ]
  },
  {
   "cell_type": "code",
   "execution_count": 9,
   "metadata": {},
   "outputs": [],
   "source": [
    "from examples.abcd_gist.d import *"
   ]
  },
  {
   "cell_type": "code",
   "execution_count": 10,
   "metadata": {},
   "outputs": [
    {
     "data": {
      "text/plain": [
       "'DDD!'"
      ]
     },
     "execution_count": 10,
     "metadata": {},
     "output_type": "execute_result"
    }
   ],
   "source": [
    "ddd()"
   ]
  },
  {
   "cell_type": "code",
   "execution_count": 3,
   "metadata": {},
   "outputs": [
    {
     "data": {
      "text/plain": [
       "<module 'a_b' (/Users/ryan/c/ur/examples/abcd_gist/a_b.ipynb)>"
      ]
     },
     "execution_count": 3,
     "metadata": {},
     "output_type": "execute_result"
    }
   ],
   "source": [
    "a_b"
   ]
  },
  {
   "cell_type": "code",
   "execution_count": 7,
   "metadata": {},
   "outputs": [
    {
     "data": {
      "text/plain": [
       "<module 'd' (/Users/ryan/c/ur/examples/abcd_gist/d.py)>"
      ]
     },
     "execution_count": 7,
     "metadata": {},
     "output_type": "execute_result"
    }
   ],
   "source": [
    "examples.abcd_gist.d"
   ]
  },
  {
   "cell_type": "code",
   "execution_count": 4,
   "metadata": {},
   "outputs": [
    {
     "ename": "ModuleNotFoundError",
     "evalue": "No module named 'examples.abcd_gist.d'; 'examples.abcd_gist' is not a package",
     "output_type": "error",
     "traceback": [
      "\u001b[0;31m---------------------------------------------------------------------------\u001b[0m",
      "\u001b[0;31mModuleNotFoundError\u001b[0m                       Traceback (most recent call last)",
      "\u001b[0;32m<ipython-input-4-0013550f41a8>\u001b[0m in \u001b[0;36m<module>\u001b[0;34m\u001b[0m\n\u001b[0;32m----> 1\u001b[0;31m \u001b[0;32mimport\u001b[0m \u001b[0mexamples\u001b[0m\u001b[0;34m.\u001b[0m\u001b[0mabcd_gist\u001b[0m\u001b[0;34m.\u001b[0m\u001b[0md\u001b[0m\u001b[0;34m\u001b[0m\u001b[0;34m\u001b[0m\u001b[0m\n\u001b[0m",
      "\u001b[0;31mModuleNotFoundError\u001b[0m: No module named 'examples.abcd_gist.d'; 'examples.abcd_gist' is not a package"
     ]
    }
   ],
   "source": [
    "import examples.abcd_gist.d"
   ]
  },
  {
   "cell_type": "code",
   "execution_count": 5,
   "metadata": {},
   "outputs": [],
   "source": [
    "import examples.abcd_gist"
   ]
  },
  {
   "cell_type": "code",
   "execution_count": 9,
   "metadata": {},
   "outputs": [
    {
     "data": {
      "text/plain": [
       "(<module 'examples' (/Users/ryan/c/ur/examples)>, 'examples', 'examples', [])"
      ]
     },
     "execution_count": 9,
     "metadata": {},
     "output_type": "execute_result"
    }
   ],
   "source": [
    "attrs(examples)"
   ]
  },
  {
   "cell_type": "code",
   "execution_count": 10,
   "metadata": {},
   "outputs": [
    {
     "data": {
      "text/plain": [
       "(<module 'examples.abcd_gist' (/Users/ryan/c/ur/examples/abcd_gist)>,\n",
       " 'examples.abcd_gist',\n",
       " 'examples.abcd_gist',\n",
       " [])"
      ]
     },
     "execution_count": 10,
     "metadata": {},
     "output_type": "execute_result"
    }
   ],
   "source": [
    "attrs(examples.abcd_gist)"
   ]
  },
  {
   "cell_type": "code",
   "execution_count": 4,
   "metadata": {},
   "outputs": [
    {
     "data": {
      "text/plain": [
       "'examples.abcd_gist'"
      ]
     },
     "execution_count": 4,
     "metadata": {},
     "output_type": "execute_result"
    }
   ],
   "source": [
    "examples.abcd_gist.__package__"
   ]
  },
  {
   "cell_type": "code",
   "execution_count": 5,
   "metadata": {},
   "outputs": [
    {
     "data": {
      "text/plain": [
       "[]"
      ]
     },
     "execution_count": 5,
     "metadata": {},
     "output_type": "execute_result"
    }
   ],
   "source": [
    "examples.abcd_gist.__spec__.submodule_search_locations"
   ]
  },
  {
   "cell_type": "code",
   "execution_count": 8,
   "metadata": {},
   "outputs": [
    {
     "ename": "ModuleNotFoundError",
     "evalue": "No module named 'examples.abcd_gist.a_b'; 'examples.abcd_gist' is not a package",
     "output_type": "error",
     "traceback": [
      "\u001b[0;31m---------------------------------------------------------------------------\u001b[0m",
      "\u001b[0;31mModuleNotFoundError\u001b[0m                       Traceback (most recent call last)",
      "\u001b[0;32m<ipython-input-8-3d94c2ba45ea>\u001b[0m in \u001b[0;36m<module>\u001b[0;34m\u001b[0m\n\u001b[0;32m----> 1\u001b[0;31m \u001b[0;32mimport\u001b[0m \u001b[0mexamples\u001b[0m\u001b[0;34m.\u001b[0m\u001b[0mabcd_gist\u001b[0m\u001b[0;34m.\u001b[0m\u001b[0ma_b\u001b[0m\u001b[0;34m\u001b[0m\u001b[0;34m\u001b[0m\u001b[0m\n\u001b[0m",
      "\u001b[0;31mModuleNotFoundError\u001b[0m: No module named 'examples.abcd_gist.a_b'; 'examples.abcd_gist' is not a package"
     ]
    }
   ],
   "source": [
    "import examples.abcd_gist.a_b"
   ]
  },
  {
   "cell_type": "code",
   "execution_count": 2,
   "metadata": {
    "scrolled": true
   },
   "outputs": [
    {
     "name": "stdout",
     "output_type": "stream",
     "text": [
      "Importer.find_spec: fullname=examples path=None target=None mod_path=None\n",
      "node_spec: node=Node(/Users/ryan/c/ur), mod_path=['examples']\n",
      "Creating package spec examples from Node(/Users/ryan/c/ur/examples) (origin=/Users/ryan/c/ur/examples)\n",
      "create_module ModuleSpec(name='examples', loader=<importer.Importer object at 0x10b190160>, origin='/Users/ryan/c/ur/examples', submodule_search_locations=[])\n",
      "Installing module examples: <module 'examples' (/Users/ryan/c/ur/examples)> (examples)\n",
      "exec_module <module 'examples' (/Users/ryan/c/ur/examples)>\n",
      "exec: name=examples mod=<module 'examples' (/Users/ryan/c/ur/examples)> node=Node(/Users/ryan/c/ur/examples) root_path=None\n",
      "Executing module examples (<module 'examples' (/Users/ryan/c/ur/examples)>) for first time (0)\n",
      "Importer.find_spec: fullname=examples.abcd_gist path=[Node(/Users/ryan/c/ur/examples)] target=None mod_path=['abcd_gist']\n",
      "find_spec received path: [Node(/Users/ryan/c/ur/examples)]\n",
      "node_spec: node=Node(/Users/ryan/c/ur/examples), mod_path=['abcd_gist']\n",
      "Creating package spec examples.abcd_gist from Node(/Users/ryan/c/ur/examples/abcd_gist) (origin=/Users/ryan/c/ur/examples/abcd_gist)\n",
      "Found spec for child module abcd_gist (examples)\n",
      "create_module ModuleSpec(name='examples.abcd_gist', loader=<importer.Importer object at 0x10b190160>, origin='/Users/ryan/c/ur/examples/abcd_gist', submodule_search_locations=[])\n",
      "Installing module examples.abcd_gist: <module 'examples.abcd_gist' (/Users/ryan/c/ur/examples/abcd_gist)> (examples.abcd_gist)\n",
      "Prepending Importer tmp_path: [Node(/Users/ryan/c/ur/examples/abcd_gist)]\n",
      "exec_module <module 'examples.abcd_gist' (/Users/ryan/c/ur/examples/abcd_gist)>\n",
      "exec: name=examples.abcd_gist mod=<module 'examples.abcd_gist' (/Users/ryan/c/ur/examples/abcd_gist)> node=Node(/Users/ryan/c/ur/examples/abcd_gist) root_path=[Node(/Users/ryan/c/ur/examples)]\n",
      "Executing module examples.abcd_gist (<module 'examples.abcd_gist' (/Users/ryan/c/ur/examples/abcd_gist)>) for first time (0)\n",
      "<module 'examples.abcd_gist' (/Users/ryan/c/ur/examples/abcd_gist)>: executing __init__.py\n",
      "exec: name=examples.abcd_gist mod=<module 'examples.abcd_gist' (/Users/ryan/c/ur/examples/abcd_gist)> node=Node(/Users/ryan/c/ur/examples/abcd_gist/__init__.py) root_path=[Node(/Users/ryan/c/ur/examples)]\n",
      "Executing module __init__.py: examples.abcd_gist (<module 'examples.abcd_gist' (/Users/ryan/c/ur/examples/abcd_gist)>)\n",
      "Attempt to exec module examples.abcd_gist (root_path=[Node(/Users/ryan/c/ur/examples)])\n",
      "Prepending Importer tmp_path: [Node(/Users/ryan/c/ur/examples)]\n",
      "exec .py file: Node(/Users/ryan/c/ur/examples/abcd_gist/__init__.py)\n",
      "Popping Importer tmp_path: Node(/Users/ryan/c/ur/examples)\n",
      "Importer.find_spec: fullname=examples.abcd_gist.py_abs_py path=[Node(/Users/ryan/c/ur/examples)] target=None mod_path=['py_abs_py']\n",
      "find_spec received path: [Node(/Users/ryan/c/ur/examples)]\n",
      "find_spec adding self.path: [Node(/Users/ryan/c/ur/examples/abcd_gist)]\n",
      "node_spec: node=Node(/Users/ryan/c/ur/examples), mod_path=['py_abs_py']\n",
      "node_spec: node=Node(/Users/ryan/c/ur/examples/abcd_gist), mod_path=['py_abs_py']\n",
      "Creating package spec examples.abcd_gist.py_abs_py from Node(/Users/ryan/c/ur/examples/abcd_gist/py_abs_py.py) (origin=/Users/ryan/c/ur/examples/abcd_gist/py_abs_py.py)\n",
      "Found spec for child module py_abs_py.py (examples.abcd_gist)\n",
      "create_module ModuleSpec(name='examples.abcd_gist.py_abs_py', loader=<importer.Importer object at 0x10b190160>, origin='/Users/ryan/c/ur/examples/abcd_gist/py_abs_py.py')\n",
      "Installing module examples.abcd_gist.py_abs_py: <module 'examples.abcd_gist.py_abs_py' (/Users/ryan/c/ur/examples/abcd_gist/py_abs_py.py)> (examples.abcd_gist)\n",
      "exec_module <module 'examples.abcd_gist.py_abs_py' (/Users/ryan/c/ur/examples/abcd_gist/py_abs_py.py)>\n",
      "exec: name=examples.abcd_gist.py_abs_py mod=<module 'examples.abcd_gist.py_abs_py' (/Users/ryan/c/ur/examples/abcd_gist/py_abs_py.py)> node=Node(/Users/ryan/c/ur/examples/abcd_gist/py_abs_py.py) root_path=[Node(/Users/ryan/c/ur/examples)]\n",
      "Executing module examples.abcd_gist.py_abs_py (<module 'examples.abcd_gist.py_abs_py' (/Users/ryan/c/ur/examples/abcd_gist/py_abs_py.py)>) for first time (0)\n",
      "Attempt to exec module examples.abcd_gist.py_abs_py (root_path=[Node(/Users/ryan/c/ur/examples)])\n",
      "Prepending Importer tmp_path: [Node(/Users/ryan/c/ur/examples)]\n",
      "exec .py file: Node(/Users/ryan/c/ur/examples/abcd_gist/py_abs_py.py)\n",
      "Importer.find_spec: fullname=d path=None target=None mod_path=None\n",
      "find_spec adding self.path: [Node(/Users/ryan/c/ur/examples), Node(/Users/ryan/c/ur/examples/abcd_gist)]\n",
      "node_spec: node=Node(/Users/ryan/c/ur/examples), mod_path=['d']\n",
      "node_spec: node=Node(/Users/ryan/c/ur/examples/abcd_gist), mod_path=['d']\n",
      "Creating package spec d from Node(/Users/ryan/c/ur/examples/abcd_gist/d.py) (origin=/Users/ryan/c/ur/examples/abcd_gist/d.py)\n",
      "create_module ModuleSpec(name='d', loader=<importer.Importer object at 0x10b190160>, origin='/Users/ryan/c/ur/examples/abcd_gist/d.py')\n",
      "Installing module d: <module 'd' (/Users/ryan/c/ur/examples/abcd_gist/d.py)> ()\n",
      "exec_module <module 'd' (/Users/ryan/c/ur/examples/abcd_gist/d.py)>\n",
      "exec: name=d mod=<module 'd' (/Users/ryan/c/ur/examples/abcd_gist/d.py)> node=Node(/Users/ryan/c/ur/examples/abcd_gist/d.py) root_path=None\n",
      "Executing module d (<module 'd' (/Users/ryan/c/ur/examples/abcd_gist/d.py)>) for first time (0)\n",
      "Attempt to exec module d (root_path=None)\n",
      "exec .py file: Node(/Users/ryan/c/ur/examples/abcd_gist/d.py)\n",
      "Popping Importer tmp_path: Node(/Users/ryan/c/ur/examples)\n",
      "Importer.find_spec: fullname=examples.abcd_gist.nb_abs_py path=[Node(/Users/ryan/c/ur/examples)] target=None mod_path=['nb_abs_py']\n",
      "find_spec received path: [Node(/Users/ryan/c/ur/examples)]\n",
      "find_spec adding self.path: [Node(/Users/ryan/c/ur/examples/abcd_gist)]\n",
      "node_spec: node=Node(/Users/ryan/c/ur/examples), mod_path=['nb_abs_py']\n",
      "node_spec: node=Node(/Users/ryan/c/ur/examples/abcd_gist), mod_path=['nb_abs_py']\n",
      "Creating package spec examples.abcd_gist.nb_abs_py from Node(/Users/ryan/c/ur/examples/abcd_gist/nb_abs_py.ipynb) (origin=/Users/ryan/c/ur/examples/abcd_gist/nb_abs_py.ipynb)\n",
      "Found spec for child module nb_abs_py.ipynb (examples.abcd_gist)\n",
      "create_module ModuleSpec(name='examples.abcd_gist.nb_abs_py', loader=<importer.Importer object at 0x10b190160>, origin='/Users/ryan/c/ur/examples/abcd_gist/nb_abs_py.ipynb')\n",
      "Installing module examples.abcd_gist.nb_abs_py: <module 'examples.abcd_gist.nb_abs_py' (/Users/ryan/c/ur/examples/abcd_gist/nb_abs_py.ipynb)> (examples.abcd_gist)\n",
      "exec_module <module 'examples.abcd_gist.nb_abs_py' (/Users/ryan/c/ur/examples/abcd_gist/nb_abs_py.ipynb)>\n",
      "exec: name=examples.abcd_gist.nb_abs_py mod=<module 'examples.abcd_gist.nb_abs_py' (/Users/ryan/c/ur/examples/abcd_gist/nb_abs_py.ipynb)> node=Node(/Users/ryan/c/ur/examples/abcd_gist/nb_abs_py.ipynb) root_path=[Node(/Users/ryan/c/ur/examples)]\n",
      "Executing module examples.abcd_gist.nb_abs_py (<module 'examples.abcd_gist.nb_abs_py' (/Users/ryan/c/ur/examples/abcd_gist/nb_abs_py.ipynb)>) for first time (0)\n",
      "Attempt to exec module examples.abcd_gist.nb_abs_py (root_path=[Node(/Users/ryan/c/ur/examples)])\n",
      "Prepending Importer tmp_path: [Node(/Users/ryan/c/ur/examples)]\n",
      "exec .ipynb file: Node(/Users/ryan/c/ur/examples/abcd_gist/nb_abs_py.ipynb)\n",
      "defs only\n",
      "Popping Importer tmp_path: Node(/Users/ryan/c/ur/examples)\n",
      "Importer.find_spec: fullname=examples.abcd_gist.c path=[Node(/Users/ryan/c/ur/examples)] target=None mod_path=['c']\n",
      "find_spec received path: [Node(/Users/ryan/c/ur/examples)]\n",
      "find_spec adding self.path: [Node(/Users/ryan/c/ur/examples/abcd_gist)]\n",
      "node_spec: node=Node(/Users/ryan/c/ur/examples), mod_path=['c']\n",
      "node_spec: node=Node(/Users/ryan/c/ur/examples/abcd_gist), mod_path=['c']\n",
      "Creating package spec examples.abcd_gist.c from Node(/Users/ryan/c/ur/examples/abcd_gist/c.ipynb) (origin=/Users/ryan/c/ur/examples/abcd_gist/c.ipynb)\n",
      "Found spec for child module c.ipynb (examples.abcd_gist)\n",
      "create_module ModuleSpec(name='examples.abcd_gist.c', loader=<importer.Importer object at 0x10b190160>, origin='/Users/ryan/c/ur/examples/abcd_gist/c.ipynb')\n",
      "Installing module examples.abcd_gist.c: <module 'examples.abcd_gist.c' (/Users/ryan/c/ur/examples/abcd_gist/c.ipynb)> (examples.abcd_gist)\n",
      "exec_module <module 'examples.abcd_gist.c' (/Users/ryan/c/ur/examples/abcd_gist/c.ipynb)>\n",
      "exec: name=examples.abcd_gist.c mod=<module 'examples.abcd_gist.c' (/Users/ryan/c/ur/examples/abcd_gist/c.ipynb)> node=Node(/Users/ryan/c/ur/examples/abcd_gist/c.ipynb) root_path=[Node(/Users/ryan/c/ur/examples)]\n",
      "Executing module examples.abcd_gist.c (<module 'examples.abcd_gist.c' (/Users/ryan/c/ur/examples/abcd_gist/c.ipynb)>) for first time (0)\n",
      "Attempt to exec module examples.abcd_gist.c (root_path=[Node(/Users/ryan/c/ur/examples)])\n",
      "Prepending Importer tmp_path: [Node(/Users/ryan/c/ur/examples)]\n",
      "exec .ipynb file: Node(/Users/ryan/c/ur/examples/abcd_gist/c.ipynb)\n",
      "defs only\n",
      "Popping Importer tmp_path: Node(/Users/ryan/c/ur/examples)\n",
      "Skipping Node(/Users/ryan/c/ur/examples/abcd_gist/relative-imports-failure-test.ipynb) due to urignores: [UrIgnore(Node(/Users/ryan/c/ur/.urignore))]\n",
      "Importer.find_spec: fullname=examples.abcd_gist.py_abs_nb path=[Node(/Users/ryan/c/ur/examples)] target=None mod_path=['py_abs_nb']\n",
      "find_spec received path: [Node(/Users/ryan/c/ur/examples)]\n",
      "find_spec adding self.path: [Node(/Users/ryan/c/ur/examples/abcd_gist)]\n",
      "node_spec: node=Node(/Users/ryan/c/ur/examples), mod_path=['py_abs_nb']\n",
      "node_spec: node=Node(/Users/ryan/c/ur/examples/abcd_gist), mod_path=['py_abs_nb']\n",
      "Creating package spec examples.abcd_gist.py_abs_nb from Node(/Users/ryan/c/ur/examples/abcd_gist/py_abs_nb.py) (origin=/Users/ryan/c/ur/examples/abcd_gist/py_abs_nb.py)\n",
      "Found spec for child module py_abs_nb.py (examples.abcd_gist)\n",
      "create_module ModuleSpec(name='examples.abcd_gist.py_abs_nb', loader=<importer.Importer object at 0x10b190160>, origin='/Users/ryan/c/ur/examples/abcd_gist/py_abs_nb.py')\n",
      "Installing module examples.abcd_gist.py_abs_nb: <module 'examples.abcd_gist.py_abs_nb' (/Users/ryan/c/ur/examples/abcd_gist/py_abs_nb.py)> (examples.abcd_gist)\n",
      "exec_module <module 'examples.abcd_gist.py_abs_nb' (/Users/ryan/c/ur/examples/abcd_gist/py_abs_nb.py)>\n",
      "exec: name=examples.abcd_gist.py_abs_nb mod=<module 'examples.abcd_gist.py_abs_nb' (/Users/ryan/c/ur/examples/abcd_gist/py_abs_nb.py)> node=Node(/Users/ryan/c/ur/examples/abcd_gist/py_abs_nb.py) root_path=[Node(/Users/ryan/c/ur/examples)]\n",
      "Executing module examples.abcd_gist.py_abs_nb (<module 'examples.abcd_gist.py_abs_nb' (/Users/ryan/c/ur/examples/abcd_gist/py_abs_nb.py)>) for first time (0)\n",
      "Attempt to exec module examples.abcd_gist.py_abs_nb (root_path=[Node(/Users/ryan/c/ur/examples)])\n",
      "Prepending Importer tmp_path: [Node(/Users/ryan/c/ur/examples)]\n",
      "exec .py file: Node(/Users/ryan/c/ur/examples/abcd_gist/py_abs_nb.py)\n",
      "Importer.find_spec: fullname=a_b path=None target=None mod_path=None\n",
      "find_spec adding self.path: [Node(/Users/ryan/c/ur/examples), Node(/Users/ryan/c/ur/examples/abcd_gist)]\n",
      "node_spec: node=Node(/Users/ryan/c/ur/examples), mod_path=['a_b']\n",
      "node_spec: node=Node(/Users/ryan/c/ur/examples/abcd_gist), mod_path=['a_b']\n",
      "Creating package spec a_b from Node(/Users/ryan/c/ur/examples/abcd_gist/a_b.ipynb) (origin=/Users/ryan/c/ur/examples/abcd_gist/a_b.ipynb)\n",
      "create_module ModuleSpec(name='a_b', loader=<importer.Importer object at 0x10b190160>, origin='/Users/ryan/c/ur/examples/abcd_gist/a_b.ipynb')\n",
      "Installing module a_b: <module 'a_b' (/Users/ryan/c/ur/examples/abcd_gist/a_b.ipynb)> ()\n",
      "exec_module <module 'a_b' (/Users/ryan/c/ur/examples/abcd_gist/a_b.ipynb)>\n",
      "exec: name=a_b mod=<module 'a_b' (/Users/ryan/c/ur/examples/abcd_gist/a_b.ipynb)> node=Node(/Users/ryan/c/ur/examples/abcd_gist/a_b.ipynb) root_path=None\n",
      "Executing module a_b (<module 'a_b' (/Users/ryan/c/ur/examples/abcd_gist/a_b.ipynb)>) for first time (0)\n",
      "Attempt to exec module a_b (root_path=None)\n",
      "exec .ipynb file: Node(/Users/ryan/c/ur/examples/abcd_gist/a_b.ipynb)\n",
      "defs only\n",
      "defs only\n",
      "Popping Importer tmp_path: Node(/Users/ryan/c/ur/examples)\n",
      "Importer.find_spec: fullname=examples.abcd_gist.nb_abs_nb path=[Node(/Users/ryan/c/ur/examples)] target=None mod_path=['nb_abs_nb']\n",
      "find_spec received path: [Node(/Users/ryan/c/ur/examples)]\n",
      "find_spec adding self.path: [Node(/Users/ryan/c/ur/examples/abcd_gist)]\n",
      "node_spec: node=Node(/Users/ryan/c/ur/examples), mod_path=['nb_abs_nb']\n",
      "node_spec: node=Node(/Users/ryan/c/ur/examples/abcd_gist), mod_path=['nb_abs_nb']\n",
      "Creating package spec examples.abcd_gist.nb_abs_nb from Node(/Users/ryan/c/ur/examples/abcd_gist/nb_abs_nb.ipynb) (origin=/Users/ryan/c/ur/examples/abcd_gist/nb_abs_nb.ipynb)\n",
      "Found spec for child module nb_abs_nb.ipynb (examples.abcd_gist)\n",
      "create_module ModuleSpec(name='examples.abcd_gist.nb_abs_nb', loader=<importer.Importer object at 0x10b190160>, origin='/Users/ryan/c/ur/examples/abcd_gist/nb_abs_nb.ipynb')\n",
      "Installing module examples.abcd_gist.nb_abs_nb: <module 'examples.abcd_gist.nb_abs_nb' (/Users/ryan/c/ur/examples/abcd_gist/nb_abs_nb.ipynb)> (examples.abcd_gist)\n",
      "exec_module <module 'examples.abcd_gist.nb_abs_nb' (/Users/ryan/c/ur/examples/abcd_gist/nb_abs_nb.ipynb)>\n",
      "exec: name=examples.abcd_gist.nb_abs_nb mod=<module 'examples.abcd_gist.nb_abs_nb' (/Users/ryan/c/ur/examples/abcd_gist/nb_abs_nb.ipynb)> node=Node(/Users/ryan/c/ur/examples/abcd_gist/nb_abs_nb.ipynb) root_path=[Node(/Users/ryan/c/ur/examples)]\n",
      "Executing module examples.abcd_gist.nb_abs_nb (<module 'examples.abcd_gist.nb_abs_nb' (/Users/ryan/c/ur/examples/abcd_gist/nb_abs_nb.ipynb)>) for first time (0)\n",
      "Attempt to exec module examples.abcd_gist.nb_abs_nb (root_path=[Node(/Users/ryan/c/ur/examples)])\n",
      "Prepending Importer tmp_path: [Node(/Users/ryan/c/ur/examples)]\n",
      "exec .ipynb file: Node(/Users/ryan/c/ur/examples/abcd_gist/nb_abs_nb.ipynb)\n",
      "defs only\n",
      "Popping Importer tmp_path: Node(/Users/ryan/c/ur/examples)\n",
      "Importer.find_spec: fullname=examples.abcd_gist.a_b path=[Node(/Users/ryan/c/ur/examples)] target=None mod_path=['a_b']\n",
      "find_spec received path: [Node(/Users/ryan/c/ur/examples)]\n",
      "find_spec adding self.path: [Node(/Users/ryan/c/ur/examples/abcd_gist)]\n",
      "node_spec: node=Node(/Users/ryan/c/ur/examples), mod_path=['a_b']\n",
      "node_spec: node=Node(/Users/ryan/c/ur/examples/abcd_gist), mod_path=['a_b']\n",
      "Returning cached spec for examples.abcd_gist.a_b (node=Node(/Users/ryan/c/ur/examples/abcd_gist/a_b.ipynb), origin=/Users/ryan/c/ur/examples/abcd_gist/a_b.ipynb)\n",
      "Found spec for child module a_b.ipynb (examples.abcd_gist)\n",
      "Skipping re-creating module a_b: <module 'a_b' (/Users/ryan/c/ur/examples/abcd_gist/a_b.ipynb)>\n",
      "exec_module <module 'a_b' (/Users/ryan/c/ur/examples/abcd_gist/a_b.ipynb)>\n",
      "exec: name=a_b mod=<module 'a_b' (/Users/ryan/c/ur/examples/abcd_gist/a_b.ipynb)> node=Node(/Users/ryan/c/ur/examples/abcd_gist/a_b.ipynb) root_path=[Node(/Users/ryan/c/ur/examples)]\n",
      "Skipping re-executing module (1x): a_b\n",
      "Importer.find_spec: fullname=examples.abcd_gist.d path=[Node(/Users/ryan/c/ur/examples)] target=None mod_path=['d']\n",
      "find_spec received path: [Node(/Users/ryan/c/ur/examples)]\n",
      "find_spec adding self.path: [Node(/Users/ryan/c/ur/examples/abcd_gist)]\n",
      "node_spec: node=Node(/Users/ryan/c/ur/examples), mod_path=['d']\n",
      "node_spec: node=Node(/Users/ryan/c/ur/examples/abcd_gist), mod_path=['d']\n",
      "Returning cached spec for examples.abcd_gist.d (node=Node(/Users/ryan/c/ur/examples/abcd_gist/d.py), origin=/Users/ryan/c/ur/examples/abcd_gist/d.py)\n",
      "Found spec for child module d.py (examples.abcd_gist)\n",
      "Skipping re-creating module d: <module 'd' (/Users/ryan/c/ur/examples/abcd_gist/d.py)>\n",
      "exec_module <module 'd' (/Users/ryan/c/ur/examples/abcd_gist/d.py)>\n",
      "exec: name=d mod=<module 'd' (/Users/ryan/c/ur/examples/abcd_gist/d.py)> node=Node(/Users/ryan/c/ur/examples/abcd_gist/d.py) root_path=[Node(/Users/ryan/c/ur/examples)]\n",
      "Skipping re-executing module (1x): d\n",
      "Popping Importer tmp_path: Node(/Users/ryan/c/ur/examples/abcd_gist)\n"
     ]
    },
    {
     "ename": "ModuleNotFoundError",
     "evalue": "No module named 'examples.abcd_gist.a_b'; 'examples.abcd_gist' is not a package",
     "output_type": "error",
     "traceback": [
      "\u001b[0;31m---------------------------------------------------------------------------\u001b[0m",
      "\u001b[0;31mModuleNotFoundError\u001b[0m                       Traceback (most recent call last)",
      "\u001b[0;32m<ipython-input-2-be68dbab1a8e>\u001b[0m in \u001b[0;36m<module>\u001b[0;34m\u001b[0m\n\u001b[0;32m----> 1\u001b[0;31m \u001b[0;32mfrom\u001b[0m \u001b[0mexamples\u001b[0m\u001b[0;34m.\u001b[0m\u001b[0mabcd_gist\u001b[0m\u001b[0;34m.\u001b[0m\u001b[0ma_b\u001b[0m \u001b[0;32mimport\u001b[0m \u001b[0;34m*\u001b[0m\u001b[0;34m\u001b[0m\u001b[0;34m\u001b[0m\u001b[0m\n\u001b[0m",
      "\u001b[0;31mModuleNotFoundError\u001b[0m: No module named 'examples.abcd_gist.a_b'; 'examples.abcd_gist' is not a package"
     ]
    }
   ],
   "source": [
    "from examples.abcd_gist.a_b import *"
   ]
  },
  {
   "cell_type": "code",
   "execution_count": 7,
   "metadata": {},
   "outputs": [
    {
     "data": {
      "text/plain": [
       "'examples.abcd_gist'"
      ]
     },
     "execution_count": 7,
     "metadata": {},
     "output_type": "execute_result"
    }
   ],
   "source": [
    "import sys\n",
    "sys.modules['examples.abcd_gist'].__package__"
   ]
  },
  {
   "cell_type": "code",
   "execution_count": 3,
   "metadata": {},
   "outputs": [],
   "source": [
    "import examples"
   ]
  },
  {
   "cell_type": "code",
   "execution_count": 4,
   "metadata": {},
   "outputs": [
    {
     "data": {
      "text/plain": [
       "('examples', 'examples')"
      ]
     },
     "execution_count": 4,
     "metadata": {},
     "output_type": "execute_result"
    }
   ],
   "source": [
    "examples.__spec__.parent, examples.__package__"
   ]
  },
  {
   "cell_type": "code",
   "execution_count": 5,
   "metadata": {},
   "outputs": [
    {
     "data": {
      "text/plain": [
       "('examples.abcd_gist', 'examples.abcd_gist')"
      ]
     },
     "execution_count": 5,
     "metadata": {},
     "output_type": "execute_result"
    }
   ],
   "source": [
    "examples.abcd_gist.__spec__.parent, examples.abcd_gist.__package__"
   ]
  },
  {
   "cell_type": "code",
   "execution_count": 3,
   "metadata": {},
   "outputs": [],
   "source": [
    "import examples.abcd_gist"
   ]
  },
  {
   "cell_type": "code",
   "execution_count": 7,
   "metadata": {},
   "outputs": [],
   "source": [
    "m = examples.abcd_gist"
   ]
  },
  {
   "cell_type": "code",
   "execution_count": 9,
   "metadata": {},
   "outputs": [
    {
     "ename": "AttributeError",
     "evalue": "module 'examples.abcd_gist' has no attribute 'is_package'",
     "output_type": "error",
     "traceback": [
      "\u001b[0;31m---------------------------------------------------------------------------\u001b[0m",
      "\u001b[0;31mAttributeError\u001b[0m                            Traceback (most recent call last)",
      "\u001b[0;32m<ipython-input-9-4973e6a888db>\u001b[0m in \u001b[0;36m<module>\u001b[0;34m\u001b[0m\n\u001b[0;32m----> 1\u001b[0;31m \u001b[0mm\u001b[0m\u001b[0;34m.\u001b[0m\u001b[0mis_package\u001b[0m\u001b[0;34m\u001b[0m\u001b[0;34m\u001b[0m\u001b[0m\n\u001b[0m",
      "\u001b[0;31mAttributeError\u001b[0m: module 'examples.abcd_gist' has no attribute 'is_package'"
     ]
    }
   ],
   "source": [
    "m.is_package"
   ]
  },
  {
   "cell_type": "code",
   "execution_count": 10,
   "metadata": {},
   "outputs": [
    {
     "ename": "AttributeError",
     "evalue": "'ModuleSpec' object has no attribute 'is_package'",
     "output_type": "error",
     "traceback": [
      "\u001b[0;31m---------------------------------------------------------------------------\u001b[0m",
      "\u001b[0;31mAttributeError\u001b[0m                            Traceback (most recent call last)",
      "\u001b[0;32m<ipython-input-10-f90781d4069d>\u001b[0m in \u001b[0;36m<module>\u001b[0;34m\u001b[0m\n\u001b[0;32m----> 1\u001b[0;31m \u001b[0mm\u001b[0m\u001b[0;34m.\u001b[0m\u001b[0m__spec__\u001b[0m\u001b[0;34m.\u001b[0m\u001b[0mis_package\u001b[0m\u001b[0;34m\u001b[0m\u001b[0;34m\u001b[0m\u001b[0m\n\u001b[0m",
      "\u001b[0;31mAttributeError\u001b[0m: 'ModuleSpec' object has no attribute 'is_package'"
     ]
    }
   ],
   "source": [
    "m.__spec__.is_package"
   ]
  },
  {
   "cell_type": "code",
   "execution_count": 5,
   "metadata": {},
   "outputs": [
    {
     "data": {
      "text/plain": [
       "{'__name__': 'examples.abcd_gist',\n",
       " '__doc__': None,\n",
       " '__package__': None,\n",
       " '__loader__': <importer.Importer at 0x107cd3310>,\n",
       " '__spec__': ModuleSpec(name='examples.abcd_gist', loader=<importer.Importer object at 0x107cd3310>, origin='/Users/ryan/c/ur/examples/abcd_gist', submodule_search_locations=[]),\n",
       " '__file__': '/Users/ryan/c/ur/examples/abcd_gist',\n",
       " 'get_ipython': <function IPython.core.getipython.get_ipython()>,\n",
       " '__exec_count__': 1,\n",
       " '__builtins__': {'__name__': 'builtins',\n",
       "  '__doc__': \"Built-in functions, exceptions, and other objects.\\n\\nNoteworthy: None is the `nil' object; Ellipsis represents `...' in slices.\",\n",
       "  '__package__': '',\n",
       "  '__loader__': _frozen_importlib.BuiltinImporter,\n",
       "  '__spec__': ModuleSpec(name='builtins', loader=<class '_frozen_importlib.BuiltinImporter'>),\n",
       "  '__build_class__': <function __build_class__>,\n",
       "  '__import__': <function __import__>,\n",
       "  'abs': <function abs(x, /)>,\n",
       "  'all': <function all(iterable, /)>,\n",
       "  'any': <function any(iterable, /)>,\n",
       "  'ascii': <function ascii(obj, /)>,\n",
       "  'bin': <function bin(number, /)>,\n",
       "  'breakpoint': <function breakpoint>,\n",
       "  'callable': <function callable(obj, /)>,\n",
       "  'chr': <function chr(i, /)>,\n",
       "  'compile': <function compile(source, filename, mode, flags=0, dont_inherit=False, optimize=-1, *, _feature_version=-1)>,\n",
       "  'delattr': <function delattr(obj, name, /)>,\n",
       "  'dir': <function dir>,\n",
       "  'divmod': <function divmod(x, y, /)>,\n",
       "  'eval': <function eval(source, globals=None, locals=None, /)>,\n",
       "  'exec': <function exec(source, globals=None, locals=None, /)>,\n",
       "  'format': <function format(value, format_spec='', /)>,\n",
       "  'getattr': <function getattr>,\n",
       "  'globals': <function globals()>,\n",
       "  'hasattr': <function hasattr(obj, name, /)>,\n",
       "  'hash': <function hash(obj, /)>,\n",
       "  'hex': <function hex(number, /)>,\n",
       "  'id': <function id(obj, /)>,\n",
       "  'input': <bound method Kernel.raw_input of <ipykernel.ipkernel.IPythonKernel object at 0x10688a490>>,\n",
       "  'isinstance': <function isinstance(obj, class_or_tuple, /)>,\n",
       "  'issubclass': <function issubclass(cls, class_or_tuple, /)>,\n",
       "  'iter': <function iter>,\n",
       "  'len': <function len(obj, /)>,\n",
       "  'locals': <function locals()>,\n",
       "  'max': <function max>,\n",
       "  'min': <function min>,\n",
       "  'next': <function next>,\n",
       "  'oct': <function oct(number, /)>,\n",
       "  'ord': <function ord(c, /)>,\n",
       "  'pow': <function pow(base, exp, mod=None)>,\n",
       "  'print': <function print>,\n",
       "  'repr': <function repr(obj, /)>,\n",
       "  'round': <function round(number, ndigits=None)>,\n",
       "  'setattr': <function setattr(obj, name, value, /)>,\n",
       "  'sorted': <function sorted(iterable, /, *, key=None, reverse=False)>,\n",
       "  'sum': <function sum(iterable, /, start=0)>,\n",
       "  'vars': <function vars>,\n",
       "  'None': None,\n",
       "  'Ellipsis': Ellipsis,\n",
       "  'NotImplemented': NotImplemented,\n",
       "  'False': False,\n",
       "  'True': True,\n",
       "  'bool': bool,\n",
       "  'memoryview': memoryview,\n",
       "  'bytearray': bytearray,\n",
       "  'bytes': bytes,\n",
       "  'classmethod': classmethod,\n",
       "  'complex': complex,\n",
       "  'dict': dict,\n",
       "  'enumerate': enumerate,\n",
       "  'filter': filter,\n",
       "  'float': float,\n",
       "  'frozenset': frozenset,\n",
       "  'property': property,\n",
       "  'int': int,\n",
       "  'list': list,\n",
       "  'map': map,\n",
       "  'object': object,\n",
       "  'range': range,\n",
       "  'reversed': reversed,\n",
       "  'set': set,\n",
       "  'slice': slice,\n",
       "  'staticmethod': staticmethod,\n",
       "  'str': str,\n",
       "  'super': super,\n",
       "  'tuple': tuple,\n",
       "  'type': type,\n",
       "  'zip': zip,\n",
       "  '__debug__': True,\n",
       "  'BaseException': BaseException,\n",
       "  'Exception': Exception,\n",
       "  'TypeError': TypeError,\n",
       "  'StopAsyncIteration': StopAsyncIteration,\n",
       "  'StopIteration': StopIteration,\n",
       "  'GeneratorExit': GeneratorExit,\n",
       "  'SystemExit': SystemExit,\n",
       "  'KeyboardInterrupt': KeyboardInterrupt,\n",
       "  'ImportError': ImportError,\n",
       "  'ModuleNotFoundError': ModuleNotFoundError,\n",
       "  'OSError': OSError,\n",
       "  'EnvironmentError': OSError,\n",
       "  'IOError': OSError,\n",
       "  'EOFError': EOFError,\n",
       "  'RuntimeError': RuntimeError,\n",
       "  'RecursionError': RecursionError,\n",
       "  'NotImplementedError': NotImplementedError,\n",
       "  'NameError': NameError,\n",
       "  'UnboundLocalError': UnboundLocalError,\n",
       "  'AttributeError': AttributeError,\n",
       "  'SyntaxError': SyntaxError,\n",
       "  'IndentationError': IndentationError,\n",
       "  'TabError': TabError,\n",
       "  'LookupError': LookupError,\n",
       "  'IndexError': IndexError,\n",
       "  'KeyError': KeyError,\n",
       "  'ValueError': ValueError,\n",
       "  'UnicodeError': UnicodeError,\n",
       "  'UnicodeEncodeError': UnicodeEncodeError,\n",
       "  'UnicodeDecodeError': UnicodeDecodeError,\n",
       "  'UnicodeTranslateError': UnicodeTranslateError,\n",
       "  'AssertionError': AssertionError,\n",
       "  'ArithmeticError': ArithmeticError,\n",
       "  'FloatingPointError': FloatingPointError,\n",
       "  'OverflowError': OverflowError,\n",
       "  'ZeroDivisionError': ZeroDivisionError,\n",
       "  'SystemError': SystemError,\n",
       "  'ReferenceError': ReferenceError,\n",
       "  'MemoryError': MemoryError,\n",
       "  'BufferError': BufferError,\n",
       "  'Warning': Warning,\n",
       "  'UserWarning': UserWarning,\n",
       "  'DeprecationWarning': DeprecationWarning,\n",
       "  'PendingDeprecationWarning': PendingDeprecationWarning,\n",
       "  'SyntaxWarning': SyntaxWarning,\n",
       "  'RuntimeWarning': RuntimeWarning,\n",
       "  'FutureWarning': FutureWarning,\n",
       "  'ImportWarning': ImportWarning,\n",
       "  'UnicodeWarning': UnicodeWarning,\n",
       "  'BytesWarning': BytesWarning,\n",
       "  'ResourceWarning': ResourceWarning,\n",
       "  'ConnectionError': ConnectionError,\n",
       "  'BlockingIOError': BlockingIOError,\n",
       "  'BrokenPipeError': BrokenPipeError,\n",
       "  'ChildProcessError': ChildProcessError,\n",
       "  'ConnectionAbortedError': ConnectionAbortedError,\n",
       "  'ConnectionRefusedError': ConnectionRefusedError,\n",
       "  'ConnectionResetError': ConnectionResetError,\n",
       "  'FileExistsError': FileExistsError,\n",
       "  'FileNotFoundError': FileNotFoundError,\n",
       "  'IsADirectoryError': IsADirectoryError,\n",
       "  'NotADirectoryError': NotADirectoryError,\n",
       "  'InterruptedError': InterruptedError,\n",
       "  'PermissionError': PermissionError,\n",
       "  'ProcessLookupError': ProcessLookupError,\n",
       "  'TimeoutError': TimeoutError,\n",
       "  'open': <function io.open(file, mode='r', buffering=-1, encoding=None, errors=None, newline=None, closefd=True, opener=None)>,\n",
       "  'copyright': Copyright (c) 2001-2020 Python Software Foundation.\n",
       "  All Rights Reserved.\n",
       "  \n",
       "  Copyright (c) 2000 BeOpen.com.\n",
       "  All Rights Reserved.\n",
       "  \n",
       "  Copyright (c) 1995-2001 Corporation for National Research Initiatives.\n",
       "  All Rights Reserved.\n",
       "  \n",
       "  Copyright (c) 1991-1995 Stichting Mathematisch Centrum, Amsterdam.\n",
       "  All Rights Reserved.,\n",
       "  'credits':     Thanks to CWI, CNRI, BeOpen.com, Zope Corporation and a cast of thousands\n",
       "      for supporting Python development.  See www.python.org for more information.,\n",
       "  'license': Type license() to see the full license text,\n",
       "  'help': Type help() for interactive help, or help(object) for help about object.,\n",
       "  '__IPYTHON__': True,\n",
       "  'display': <function IPython.core.display.display(*objs, include=None, exclude=None, metadata=None, transient=None, display_id=None, **kwargs)>,\n",
       "  'get_ipython': <bound method InteractiveShell.get_ipython of <ipykernel.zmqshell.ZMQInteractiveShell object at 0x106898820>>},\n",
       " 'py_abs_py': <module 'examples.abcd_gist.py_abs_py' (/Users/ryan/c/ur/examples/abcd_gist/py_abs_py.py)>,\n",
       " 'nb_abs_py': <module 'examples.abcd_gist.nb_abs_py' (/Users/ryan/c/ur/examples/abcd_gist/nb_abs_py.ipynb)>,\n",
       " 'c': <module 'examples.abcd_gist.c' (/Users/ryan/c/ur/examples/abcd_gist/c.ipynb)>,\n",
       " 'py_abs_nb': <module 'examples.abcd_gist.py_abs_nb' (/Users/ryan/c/ur/examples/abcd_gist/py_abs_nb.py)>,\n",
       " 'nb_abs_nb': <module 'examples.abcd_gist.nb_abs_nb' (/Users/ryan/c/ur/examples/abcd_gist/nb_abs_nb.ipynb)>,\n",
       " 'a_b': <module 'a_b' (/Users/ryan/c/ur/examples/abcd_gist/a_b.ipynb)>,\n",
       " 'd': <module 'd' (/Users/ryan/c/ur/examples/abcd_gist/d.py)>}"
      ]
     },
     "execution_count": 5,
     "metadata": {},
     "output_type": "execute_result"
    }
   ],
   "source": [
    "examples.abcd_gist.__dict__"
   ]
  },
  {
   "cell_type": "code",
   "execution_count": 12,
   "metadata": {},
   "outputs": [
    {
     "data": {
      "text/plain": [
       "[]"
      ]
     },
     "execution_count": 12,
     "metadata": {},
     "output_type": "execute_result"
    }
   ],
   "source": [
    "examples.__spec__.submodule_search_locations"
   ]
  },
  {
   "cell_type": "code",
   "execution_count": 13,
   "metadata": {},
   "outputs": [
    {
     "data": {
      "text/plain": [
       "'examples'"
      ]
     },
     "execution_count": 13,
     "metadata": {},
     "output_type": "execute_result"
    }
   ],
   "source": [
    "examples.__package__"
   ]
  },
  {
   "cell_type": "code",
   "execution_count": 14,
   "metadata": {},
   "outputs": [],
   "source": [
    "examples.abcd_gist.__package__"
   ]
  },
  {
   "cell_type": "code",
   "execution_count": 16,
   "metadata": {},
   "outputs": [
    {
     "name": "stdout",
     "output_type": "stream",
     "text": [
      "Importer.find_spec: fullname=_gist path=None target=None mod_path=None\n",
      "node_spec: node=Node(/Users/ryan/c/ur), mod_path=['_gist']\n",
      "Creating package spec _gist from Node(/Users/ryan/c/ur/_gist) (origin=/Users/ryan/c/ur/_gist)\n",
      "create_module ModuleSpec(name='_gist', loader=<importer.Importer object at 0x107cd3310>, origin='/Users/ryan/c/ur/_gist', submodule_search_locations=[])\n",
      "Installing module _gist: <module '_gist' (/Users/ryan/c/ur/_gist)>\n",
      "exec_module <module '_gist' (/Users/ryan/c/ur/_gist)>\n",
      "exec: name=_gist mod=<module '_gist' (/Users/ryan/c/ur/_gist)> node=Node(/Users/ryan/c/ur/_gist) root_path=None\n",
      "Executing module _gist (<module '_gist' (/Users/ryan/c/ur/_gist)>) for first time (0)\n",
      "<module '_gist' (/Users/ryan/c/ur/_gist)>: executing __init__.py\n",
      "exec: name=_gist mod=<module '_gist' (/Users/ryan/c/ur/_gist)> node=Node(/Users/ryan/c/ur/_gist/__init__.py) root_path=[Node(/Users/ryan/c/ur/_gist)]\n",
      "Executing module __init__.py: _gist (<module '_gist' (/Users/ryan/c/ur/_gist)>)\n",
      "Attempt to exec module _gist (root_path=[Node(/Users/ryan/c/ur/_gist)])\n",
      "Prepending Importer tmp_path: [Node(/Users/ryan/c/ur/_gist)]\n",
      "exec .py file: Node(/Users/ryan/c/ur/_gist/__init__.py)\n",
      "Importer.find_spec: fullname=pclass path=None target=None mod_path=None\n",
      "find_spec adding self.path: [Node(/Users/ryan/c/ur/_gist)]\n",
      "node_spec: node=Node(/Users/ryan/c/ur/_gist), mod_path=['pclass']\n",
      "node_spec: node=Node(/Users/ryan/c/ur), mod_path=['pclass']\n",
      "Creating package spec pclass from Node(/Users/ryan/c/ur/pclass) (origin=/Users/ryan/c/ur/pclass)\n",
      "create_module ModuleSpec(name='pclass', loader=<importer.Importer object at 0x107cd3310>, origin='/Users/ryan/c/ur/pclass', submodule_search_locations=[])\n",
      "Installing module pclass: <module 'pclass' (/Users/ryan/c/ur/pclass)>\n",
      "exec_module <module 'pclass' (/Users/ryan/c/ur/pclass)>\n",
      "exec: name=pclass mod=<module 'pclass' (/Users/ryan/c/ur/pclass)> node=Node(/Users/ryan/c/ur/pclass) root_path=None\n",
      "Executing module pclass (<module 'pclass' (/Users/ryan/c/ur/pclass)>) for first time (0)\n",
      "Importer.find_spec: fullname=pclass.field path=[Node(/Users/ryan/c/ur/pclass)] target=None mod_path=['field']\n",
      "find_spec received path: [Node(/Users/ryan/c/ur/pclass)]\n",
      "find_spec adding self.path: [Node(/Users/ryan/c/ur/_gist)]\n",
      "node_spec: node=Node(/Users/ryan/c/ur/pclass), mod_path=['field']\n",
      "Creating package spec pclass.field from Node(/Users/ryan/c/ur/pclass/field.py) (origin=/Users/ryan/c/ur/pclass/field.py)\n",
      "Found spec for child module field.py (pclass)\n",
      "create_module ModuleSpec(name='pclass.field', loader=<importer.Importer object at 0x107cd3310>, origin='/Users/ryan/c/ur/pclass/field.py')\n",
      "Installing module pclass.field: <module 'pclass.field' (/Users/ryan/c/ur/pclass/field.py)>\n",
      "exec_module <module 'pclass.field' (/Users/ryan/c/ur/pclass/field.py)>\n",
      "exec: name=pclass.field mod=<module 'pclass.field' (/Users/ryan/c/ur/pclass/field.py)> node=Node(/Users/ryan/c/ur/pclass/field.py) root_path=[Node(/Users/ryan/c/ur/pclass)]\n",
      "Executing module pclass.field (<module 'pclass.field' (/Users/ryan/c/ur/pclass/field.py)>) for first time (0)\n",
      "Attempt to exec module pclass.field (root_path=[Node(/Users/ryan/c/ur/pclass)])\n",
      "Prepending Importer tmp_path: [Node(/Users/ryan/c/ur/pclass)]\n",
      "exec .py file: Node(/Users/ryan/c/ur/pclass/field.py)\n",
      "Importer.find_spec: fullname=pclass.loader path=[] target=None mod_path=None\n",
      "find_spec adding self.path: [Node(/Users/ryan/c/ur/pclass), Node(/Users/ryan/c/ur/_gist)]\n",
      "node_spec: node=Node(/Users/ryan/c/ur/pclass), mod_path=['pclass', 'loader']\n",
      "node_spec: node=Node(/Users/ryan/c/ur/_gist), mod_path=['pclass', 'loader']\n",
      "node_spec: node=Node(/Users/ryan/c/ur), mod_path=['pclass', 'loader']\n",
      "Creating package spec pclass.loader from Node(/Users/ryan/c/ur/pclass/loader.py) (origin=/Users/ryan/c/ur/pclass/loader.py)\n",
      "create_module ModuleSpec(name='pclass.loader', loader=<importer.Importer object at 0x107cd3310>, origin='/Users/ryan/c/ur/pclass/loader.py')\n",
      "Installing module pclass.loader: <module 'pclass.loader' (/Users/ryan/c/ur/pclass/loader.py)>\n",
      "exec_module <module 'pclass.loader' (/Users/ryan/c/ur/pclass/loader.py)>\n",
      "exec: name=pclass.loader mod=<module 'pclass.loader' (/Users/ryan/c/ur/pclass/loader.py)> node=Node(/Users/ryan/c/ur/pclass/loader.py) root_path=None\n",
      "Executing module pclass.loader (<module 'pclass.loader' (/Users/ryan/c/ur/pclass/loader.py)>) for first time (0)\n",
      "Attempt to exec module pclass.loader (root_path=None)\n",
      "exec .py file: Node(/Users/ryan/c/ur/pclass/loader.py)\n",
      "Popping Importer tmp_path: Node(/Users/ryan/c/ur/pclass)\n",
      "Importer.find_spec: fullname=pclass.dircache path=[Node(/Users/ryan/c/ur/pclass)] target=None mod_path=['dircache']\n",
      "find_spec received path: [Node(/Users/ryan/c/ur/pclass)]\n",
      "find_spec adding self.path: [Node(/Users/ryan/c/ur/_gist)]\n",
      "node_spec: node=Node(/Users/ryan/c/ur/pclass), mod_path=['dircache']\n",
      "Creating package spec pclass.dircache from Node(/Users/ryan/c/ur/pclass/dircache.py) (origin=/Users/ryan/c/ur/pclass/dircache.py)\n",
      "Found spec for child module dircache.py (pclass)\n",
      "create_module ModuleSpec(name='pclass.dircache', loader=<importer.Importer object at 0x107cd3310>, origin='/Users/ryan/c/ur/pclass/dircache.py')\n",
      "Installing module pclass.dircache: <module 'pclass.dircache' (/Users/ryan/c/ur/pclass/dircache.py)>\n",
      "exec_module <module 'pclass.dircache' (/Users/ryan/c/ur/pclass/dircache.py)>\n",
      "exec: name=pclass.dircache mod=<module 'pclass.dircache' (/Users/ryan/c/ur/pclass/dircache.py)> node=Node(/Users/ryan/c/ur/pclass/dircache.py) root_path=[Node(/Users/ryan/c/ur/pclass)]\n",
      "Executing module pclass.dircache (<module 'pclass.dircache' (/Users/ryan/c/ur/pclass/dircache.py)>) for first time (0)\n",
      "Attempt to exec module pclass.dircache (root_path=[Node(/Users/ryan/c/ur/pclass)])\n",
      "Prepending Importer tmp_path: [Node(/Users/ryan/c/ur/pclass)]\n",
      "exec .py file: Node(/Users/ryan/c/ur/pclass/dircache.py)\n",
      "Popping Importer tmp_path: Node(/Users/ryan/c/ur/pclass)\n",
      "Importer.find_spec: fullname=pclass.loader path=[Node(/Users/ryan/c/ur/pclass)] target=None mod_path=['loader']\n",
      "find_spec received path: [Node(/Users/ryan/c/ur/pclass)]\n",
      "find_spec adding self.path: [Node(/Users/ryan/c/ur/_gist)]\n",
      "node_spec: node=Node(/Users/ryan/c/ur/pclass), mod_path=['loader']\n",
      "Returning cached spec for pclass.loader (node=Node(/Users/ryan/c/ur/pclass/loader.py), origin=/Users/ryan/c/ur/pclass/loader.py)\n",
      "Found spec for child module loader.py (pclass)\n",
      "Skipping re-creating module pclass.loader: <module 'pclass.loader' (/Users/ryan/c/ur/pclass/loader.py)>\n",
      "exec_module <module 'pclass.loader' (/Users/ryan/c/ur/pclass/loader.py)>\n",
      "exec: name=pclass.loader mod=<module 'pclass.loader' (/Users/ryan/c/ur/pclass/loader.py)> node=Node(/Users/ryan/c/ur/pclass/loader.py) root_path=[Node(/Users/ryan/c/ur/pclass)]\n",
      "Skipping re-executing module (1x): pclass.loader\n",
      "Meta.__new__(<class 'pclass.dircache.Meta'>, Commit, (), {'__module__': '_gist', '__qualname__': 'Commit', '__init__': <function Commit.__init__ at 0x1094fa1f0>, 'www_url': <property object at 0x1094e4860>, 'user': <property object at 0x1094e4f40>, 'author': <property object at 0x1094e4c20>, 'commit': <property object at 0x1094e4720>, 'tree': <property object at 0x1094e43b0>, 'blobs': <property object at 0x1094e4ef0>, 'clone_dir': <property object at 0x1094e42c0>, 'files': <property object at 0x1094e4d60>, 'files_dict': <property object at 0x1094e40e0>, 'file_bases_dict': <property object at 0x1094e4b30>, 'xml': <pclass.field.DirectField object at 0x1094fb550>, 'load_xml': None, 'fragments': <pclass.field.Field object at 0x1094fb4c0>})\n",
      "cache_root=None\n",
      "Class cache dir: .objs/Commit\n",
      "Checking: __module__: _gist\n",
      "__module__: bind functools.partial(<function Meta.__new__.<locals>._bind at 0x1094fa8b0>, name='__module__') OrderedDict([('fn', <Parameter \"fn\">), ('name', <Parameter \"name='__module__'\">), ('_kw', <Parameter \"**_kw\">)])\n",
      "Skipping: __module__\n",
      "Checking: __qualname__: Commit\n",
      "__qualname__: bind functools.partial(<function Meta.__new__.<locals>._bind at 0x10945b940>, name='__qualname__') OrderedDict([('fn', <Parameter \"fn\">), ('name', <Parameter \"name='__qualname__'\">), ('_kw', <Parameter \"**_kw\">)])\n",
      "Skipping: __qualname__\n",
      "Checking: __init__: <function Commit.__init__ at 0x1094fa1f0>\n",
      "__init__: bind functools.partial(<function Meta.__new__.<locals>._bind at 0x10945bca0>, name='__init__') OrderedDict([('fn', <Parameter \"fn\">), ('name', <Parameter \"name='__init__'\">), ('_kw', <Parameter \"**_kw\">)])\n",
      "Skipping: __init__\n",
      "Checking: www_url: <property object at 0x1094e4860>\n",
      "www_url: bind functools.partial(<function Meta.__new__.<locals>._bind at 0x10945b8b0>, name='www_url') OrderedDict([('fn', <Parameter \"fn\">), ('name', <Parameter \"name='www_url'\">), ('_kw', <Parameter \"**_kw\">)])\n",
      "Skipping: www_url\n",
      "Checking: user: <property object at 0x1094e4f40>\n",
      "user: bind functools.partial(<function Meta.__new__.<locals>._bind at 0x1094fac10>, name='user') OrderedDict([('fn', <Parameter \"fn\">), ('name', <Parameter \"name='user'\">), ('_kw', <Parameter \"**_kw\">)])\n",
      "Skipping: user\n",
      "Checking: author: <property object at 0x1094e4c20>\n",
      "author: bind functools.partial(<function Meta.__new__.<locals>._bind at 0x10944cb80>, name='author') OrderedDict([('fn', <Parameter \"fn\">), ('name', <Parameter \"name='author'\">), ('_kw', <Parameter \"**_kw\">)])\n",
      "Skipping: author\n",
      "Checking: commit: <property object at 0x1094e4720>\n",
      "commit: bind functools.partial(<function Meta.__new__.<locals>._bind at 0x10944cca0>, name='commit') OrderedDict([('fn', <Parameter \"fn\">), ('name', <Parameter \"name='commit'\">), ('_kw', <Parameter \"**_kw\">)])\n",
      "Skipping: commit\n",
      "Checking: tree: <property object at 0x1094e43b0>\n",
      "tree: bind functools.partial(<function Meta.__new__.<locals>._bind at 0x109506670>, name='tree') OrderedDict([('fn', <Parameter \"fn\">), ('name', <Parameter \"name='tree'\">), ('_kw', <Parameter \"**_kw\">)])\n",
      "Skipping: tree\n",
      "Checking: blobs: <property object at 0x1094e4ef0>\n",
      "blobs: bind functools.partial(<function Meta.__new__.<locals>._bind at 0x109506310>, name='blobs') OrderedDict([('fn', <Parameter \"fn\">), ('name', <Parameter \"name='blobs'\">), ('_kw', <Parameter \"**_kw\">)])\n",
      "Skipping: blobs\n",
      "Checking: clone_dir: <property object at 0x1094e42c0>\n",
      "clone_dir: bind functools.partial(<function Meta.__new__.<locals>._bind at 0x10944ca60>, name='clone_dir') OrderedDict([('fn', <Parameter \"fn\">), ('name', <Parameter \"name='clone_dir'\">), ('_kw', <Parameter \"**_kw\">)])\n",
      "Skipping: clone_dir\n",
      "Checking: files: <property object at 0x1094e4d60>\n",
      "files: bind functools.partial(<function Meta.__new__.<locals>._bind at 0x1094fa8b0>, name='files') OrderedDict([('fn', <Parameter \"fn\">), ('name', <Parameter \"name='files'\">), ('_kw', <Parameter \"**_kw\">)])\n",
      "Skipping: files\n",
      "Checking: files_dict: <property object at 0x1094e40e0>\n",
      "files_dict: bind functools.partial(<function Meta.__new__.<locals>._bind at 0x10945b790>, name='files_dict') OrderedDict([('fn', <Parameter \"fn\">), ('name', <Parameter \"name='files_dict'\">), ('_kw', <Parameter \"**_kw\">)])\n",
      "Skipping: files_dict\n",
      "Checking: file_bases_dict: <property object at 0x1094e4b30>\n",
      "file_bases_dict: bind functools.partial(<function Meta.__new__.<locals>._bind at 0x10945b5e0>, name='file_bases_dict') OrderedDict([('fn', <Parameter \"fn\">), ('name', <Parameter \"name='file_bases_dict'\">), ('_kw', <Parameter \"**_kw\">)])\n",
      "Skipping: file_bases_dict\n",
      "Checking: xml: <pclass.field.DirectField object at 0x1094fb550>\n",
      "xml: bind functools.partial(<function Meta.__new__.<locals>._bind at 0x1095065e0>, name='xml') OrderedDict([('fn', <Parameter \"fn\">), ('name', <Parameter \"name='xml'\">), ('_kw', <Parameter \"**_kw\">)])\n",
      "field: xml -> <pclass.field.DirectField object at 0x1094fb550>\n",
      "Setting method: xml: <property object at 0x109736d10>\n",
      "Checking: load_xml: None\n",
      "load_xml: bind functools.partial(<function Meta.__new__.<locals>._bind at 0x109506160>, name='load_xml') OrderedDict([('fn', <Parameter \"fn\">), ('name', <Parameter \"name='load_xml'\">), ('_kw', <Parameter \"**_kw\">)])\n",
      "Skipping: load_xml\n",
      "Checking: fragments: <pclass.field.Field object at 0x1094fb4c0>\n",
      "fragments: bind functools.partial(<function Meta.__new__.<locals>._bind at 0x10945bca0>, name='fragments') OrderedDict([('fn', <Parameter \"fn\">), ('name', <Parameter \"name='fragments'\">), ('_kw', <Parameter \"**_kw\">)])\n",
      "field: fragments -> <pclass.field.Field object at 0x1094fb4c0>\n",
      "Setting method: fragments: <property object at 0x109730130>\n",
      "Fields: ['xml', 'fragments']\n",
      "returning <class '_gist.Commit'>: {'__module__': '_gist', '__qualname__': 'Commit', '__init__': <function Commit.__init__ at 0x1094faee0>, 'www_url': <property object at 0x1094e4860>, 'user': <property object at 0x1094e4f40>, 'author': <property object at 0x1094e4c20>, 'commit': <property object at 0x1094e4720>, 'tree': <property object at 0x1094e43b0>, 'blobs': <property object at 0x1094e4ef0>, 'clone_dir': <property object at 0x1094e42c0>, 'files': <property object at 0x1094e4d60>, 'files_dict': <property object at 0x1094e40e0>, 'file_bases_dict': <property object at 0x1094e4b30>, 'xml': <property object at 0x109736d10>, 'load_xml': None, 'fragments': <property object at 0x109730130>, '__str__': <function Meta.__new__.<locals>.__str__ at 0x1094fac10>, '__repr__': <function Meta.__new__.<locals>.__str__ at 0x1094fac10>}\n",
      "Meta.__new__(<class 'pclass.dircache.Meta'>, Gist, (), {'__module__': '_gist', '__qualname__': 'Gist', 'WWW_URL_PATH_REGEX': '^(?:/(?P<user>[A-Za-z0-9_\\\\-]+))?/(?P<id>[a-f0-9]+)(?:/(?P<commit>[a-f0-9]+))?(?:#(?P<fragment>[A-Za-z0-9_\\\\-]+))?$', 'RAW_URL_PATH_REGEX': '^/(?P<user>[A-Za-z0-9_\\\\-]+)/(?P<id>[a-f0-9]+)/(?P<raw>raw)(?:/(?P<commit>[a-f0-9]+))?(?:/(?P<file>[A-Za-z0-9_\\\\-\\\\.]+))?$', 'URL_PATH_REGEXS': ['^(?:/(?P<user>[A-Za-z0-9_\\\\-]+))?/(?P<id>[a-f0-9]+)(?:/(?P<commit>[a-f0-9]+))?(?:#(?P<fragment>[A-Za-z0-9_\\\\-]+))?$', '^/(?P<user>[A-Za-z0-9_\\\\-]+)/(?P<id>[a-f0-9]+)/(?P<raw>raw)(?:/(?P<commit>[a-f0-9]+))?(?:/(?P<file>[A-Za-z0-9_\\\\-\\\\.]+))?$'], 'ID_LEN': 32, '__init__': <function Gist.__init__ at 0x10944caf0>, 'from_url': <classmethod object at 0x1094ecd00>, 'parse_url': <classmethod object at 0x106a297c0>, 'parse_url_path': <classmethod object at 0x106a29610>, 'from_url_path': <classmethod object at 0x106a29490>, 'from_dict': <classmethod object at 0x106a298b0>, 'git_url': <property object at 0x109730090>, 'www_url': <property object at 0x109730040>, 'ssh_url': <property object at 0x109730950>, 'module_name': <property object at 0x109730900>, 'user': <pclass.field.Field object at 0x106a29b20>, 'xml': <property object at 0x109730360>, 'clone': <pclass.field.DirectField object at 0x106a29f10>, 'commit': <property object at 0x109730270>, 'clone_dir': <property object at 0x1097303b0>})\n",
      "cache_root=None\n",
      "Class cache dir: .objs/Gist\n",
      "Checking: __module__: _gist\n",
      "__module__: bind functools.partial(<function Meta.__new__.<locals>._bind at 0x1095069d0>, name='__module__') OrderedDict([('fn', <Parameter \"fn\">), ('name', <Parameter \"name='__module__'\">), ('_kw', <Parameter \"**_kw\">)])\n",
      "Skipping: __module__\n",
      "Checking: __qualname__: Gist\n",
      "__qualname__: bind functools.partial(<function Meta.__new__.<locals>._bind at 0x109506f70>, name='__qualname__') OrderedDict([('fn', <Parameter \"fn\">), ('name', <Parameter \"name='__qualname__'\">), ('_kw', <Parameter \"**_kw\">)])\n",
      "Skipping: __qualname__\n",
      "Checking: WWW_URL_PATH_REGEX: ^(?:/(?P<user>[A-Za-z0-9_\\-]+))?/(?P<id>[a-f0-9]+)(?:/(?P<commit>[a-f0-9]+))?(?:#(?P<fragment>[A-Za-z0-9_\\-]+))?$\n",
      "WWW_URL_PATH_REGEX: bind functools.partial(<function Meta.__new__.<locals>._bind at 0x109506e50>, name='WWW_URL_PATH_REGEX') OrderedDict([('fn', <Parameter \"fn\">), ('name', <Parameter \"name='WWW_URL_PATH_REGEX'\">), ('_kw', <Parameter \"**_kw\">)])\n",
      "Skipping: WWW_URL_PATH_REGEX\n",
      "Checking: RAW_URL_PATH_REGEX: ^/(?P<user>[A-Za-z0-9_\\-]+)/(?P<id>[a-f0-9]+)/(?P<raw>raw)(?:/(?P<commit>[a-f0-9]+))?(?:/(?P<file>[A-Za-z0-9_\\-\\.]+))?$\n",
      "RAW_URL_PATH_REGEX: bind functools.partial(<function Meta.__new__.<locals>._bind at 0x109506040>, name='RAW_URL_PATH_REGEX') OrderedDict([('fn', <Parameter \"fn\">), ('name', <Parameter \"name='RAW_URL_PATH_REGEX'\">), ('_kw', <Parameter \"**_kw\">)])\n",
      "Skipping: RAW_URL_PATH_REGEX\n",
      "Checking: URL_PATH_REGEXS: ['^(?:/(?P<user>[A-Za-z0-9_\\\\-]+))?/(?P<id>[a-f0-9]+)(?:/(?P<commit>[a-f0-9]+))?(?:#(?P<fragment>[A-Za-z0-9_\\\\-]+))?$', '^/(?P<user>[A-Za-z0-9_\\\\-]+)/(?P<id>[a-f0-9]+)/(?P<raw>raw)(?:/(?P<commit>[a-f0-9]+))?(?:/(?P<file>[A-Za-z0-9_\\\\-\\\\.]+))?$']\n",
      "URL_PATH_REGEXS: bind functools.partial(<function Meta.__new__.<locals>._bind at 0x109506550>, name='URL_PATH_REGEXS') OrderedDict([('fn', <Parameter \"fn\">), ('name', <Parameter \"name='URL_PATH_REGEXS'\">), ('_kw', <Parameter \"**_kw\">)])\n",
      "Skipping: URL_PATH_REGEXS\n",
      "Checking: ID_LEN: 32\n",
      "ID_LEN: bind functools.partial(<function Meta.__new__.<locals>._bind at 0x1094fad30>, name='ID_LEN') OrderedDict([('fn', <Parameter \"fn\">), ('name', <Parameter \"name='ID_LEN'\">), ('_kw', <Parameter \"**_kw\">)])\n",
      "Skipping: ID_LEN\n",
      "Checking: __init__: <function Gist.__init__ at 0x10944caf0>\n",
      "__init__: bind functools.partial(<function Meta.__new__.<locals>._bind at 0x10945b9d0>, name='__init__') OrderedDict([('fn', <Parameter \"fn\">), ('name', <Parameter \"name='__init__'\">), ('_kw', <Parameter \"**_kw\">)])\n",
      "Skipping: __init__\n",
      "Checking: from_url: <classmethod object at 0x1094ecd00>\n",
      "from_url: bind functools.partial(<function Meta.__new__.<locals>._bind at 0x109734160>, name='from_url') OrderedDict([('fn', <Parameter \"fn\">), ('name', <Parameter \"name='from_url'\">), ('_kw', <Parameter \"**_kw\">)])\n",
      "Skipping: from_url\n",
      "Checking: parse_url: <classmethod object at 0x106a297c0>\n",
      "parse_url: bind functools.partial(<function Meta.__new__.<locals>._bind at 0x10945b790>, name='parse_url') OrderedDict([('fn', <Parameter \"fn\">), ('name', <Parameter \"name='parse_url'\">), ('_kw', <Parameter \"**_kw\">)])\n",
      "Skipping: parse_url\n",
      "Checking: parse_url_path: <classmethod object at 0x106a29610>\n",
      "parse_url_path: bind functools.partial(<function Meta.__new__.<locals>._bind at 0x10945bb80>, name='parse_url_path') OrderedDict([('fn', <Parameter \"fn\">), ('name', <Parameter \"name='parse_url_path'\">), ('_kw', <Parameter \"**_kw\">)])\n",
      "Skipping: parse_url_path\n",
      "Checking: from_url_path: <classmethod object at 0x106a29490>\n",
      "from_url_path: bind functools.partial(<function Meta.__new__.<locals>._bind at 0x10944cca0>, name='from_url_path') OrderedDict([('fn', <Parameter \"fn\">), ('name', <Parameter \"name='from_url_path'\">), ('_kw', <Parameter \"**_kw\">)])\n",
      "Skipping: from_url_path\n",
      "Checking: from_dict: <classmethod object at 0x106a298b0>\n",
      "from_dict: bind functools.partial(<function Meta.__new__.<locals>._bind at 0x109506670>, name='from_dict') OrderedDict([('fn', <Parameter \"fn\">), ('name', <Parameter \"name='from_dict'\">), ('_kw', <Parameter \"**_kw\">)])\n",
      "Skipping: from_dict\n",
      "Checking: git_url: <property object at 0x109730090>\n",
      "git_url: bind functools.partial(<function Meta.__new__.<locals>._bind at 0x109506c10>, name='git_url') OrderedDict([('fn', <Parameter \"fn\">), ('name', <Parameter \"name='git_url'\">), ('_kw', <Parameter \"**_kw\">)])\n",
      "Skipping: git_url\n",
      "Checking: www_url: <property object at 0x109730040>\n",
      "www_url: bind functools.partial(<function Meta.__new__.<locals>._bind at 0x109733040>, name='www_url') OrderedDict([('fn', <Parameter \"fn\">), ('name', <Parameter \"name='www_url'\">), ('_kw', <Parameter \"**_kw\">)])\n",
      "Skipping: www_url\n",
      "Checking: ssh_url: <property object at 0x109730950>\n",
      "ssh_url: bind functools.partial(<function Meta.__new__.<locals>._bind at 0x1097333a0>, name='ssh_url') OrderedDict([('fn', <Parameter \"fn\">), ('name', <Parameter \"name='ssh_url'\">), ('_kw', <Parameter \"**_kw\">)])\n",
      "Skipping: ssh_url\n",
      "Checking: module_name: <property object at 0x109730900>\n",
      "module_name: bind functools.partial(<function Meta.__new__.<locals>._bind at 0x109506670>, name='module_name') OrderedDict([('fn', <Parameter \"fn\">), ('name', <Parameter \"name='module_name'\">), ('_kw', <Parameter \"**_kw\">)])\n",
      "Skipping: module_name\n",
      "Checking: user: <pclass.field.Field object at 0x106a29b20>\n",
      "user: bind functools.partial(<function Meta.__new__.<locals>._bind at 0x109506e50>, name='user') OrderedDict([('fn', <Parameter \"fn\">), ('name', <Parameter \"name='user'\">), ('_kw', <Parameter \"**_kw\">)])\n",
      "field: user -> <pclass.field.Field object at 0x106a29b20>\n",
      "Setting method: user: <property object at 0x109731130>\n",
      "Checking: xml: <property object at 0x109730360>\n",
      "xml: bind functools.partial(<function Meta.__new__.<locals>._bind at 0x109506040>, name='xml') OrderedDict([('fn', <Parameter \"fn\">), ('name', <Parameter \"name='xml'\">), ('_kw', <Parameter \"**_kw\">)])\n",
      "Skipping: xml\n",
      "Checking: clone: <pclass.field.DirectField object at 0x106a29f10>\n",
      "clone: bind functools.partial(<function Meta.__new__.<locals>._bind at 0x1094fa940>, name='clone') OrderedDict([('fn', <Parameter \"fn\">), ('name', <Parameter \"name='clone'\">), ('_kw', <Parameter \"**_kw\">)])\n",
      "field: clone -> <pclass.field.DirectField object at 0x106a29f10>\n",
      "Setting method: clone: <property object at 0x1097311d0>\n",
      "Checking: commit: <property object at 0x109730270>\n",
      "commit: bind functools.partial(<function Meta.__new__.<locals>._bind at 0x10944cca0>, name='commit') OrderedDict([('fn', <Parameter \"fn\">), ('name', <Parameter \"name='commit'\">), ('_kw', <Parameter \"**_kw\">)])\n",
      "Skipping: commit\n",
      "Checking: clone_dir: <property object at 0x1097303b0>\n",
      "clone_dir: bind functools.partial(<function Meta.__new__.<locals>._bind at 0x10944ca60>, name='clone_dir') OrderedDict([('fn', <Parameter \"fn\">), ('name', <Parameter \"name='clone_dir'\">), ('_kw', <Parameter \"**_kw\">)])\n",
      "Skipping: clone_dir\n",
      "Fields: ['user', 'clone']\n",
      "returning <class '_gist.Gist'>: {'__module__': '_gist', '__qualname__': 'Gist', 'WWW_URL_PATH_REGEX': '^(?:/(?P<user>[A-Za-z0-9_\\\\-]+))?/(?P<id>[a-f0-9]+)(?:/(?P<commit>[a-f0-9]+))?(?:#(?P<fragment>[A-Za-z0-9_\\\\-]+))?$', 'RAW_URL_PATH_REGEX': '^/(?P<user>[A-Za-z0-9_\\\\-]+)/(?P<id>[a-f0-9]+)/(?P<raw>raw)(?:/(?P<commit>[a-f0-9]+))?(?:/(?P<file>[A-Za-z0-9_\\\\-\\\\.]+))?$', 'URL_PATH_REGEXS': ['^(?:/(?P<user>[A-Za-z0-9_\\\\-]+))?/(?P<id>[a-f0-9]+)(?:/(?P<commit>[a-f0-9]+))?(?:#(?P<fragment>[A-Za-z0-9_\\\\-]+))?$', '^/(?P<user>[A-Za-z0-9_\\\\-]+)/(?P<id>[a-f0-9]+)/(?P<raw>raw)(?:/(?P<commit>[a-f0-9]+))?(?:/(?P<file>[A-Za-z0-9_\\\\-\\\\.]+))?$'], 'ID_LEN': 32, '__init__': <function Gist.__init__ at 0x1095069d0>, 'from_url': <classmethod object at 0x1094ecd00>, 'parse_url': <classmethod object at 0x106a297c0>, 'parse_url_path': <classmethod object at 0x106a29610>, 'from_url_path': <classmethod object at 0x106a29490>, 'from_dict': <classmethod object at 0x106a298b0>, 'git_url': <property object at 0x109730090>, 'www_url': <property object at 0x109730040>, 'ssh_url': <property object at 0x109730950>, 'module_name': <property object at 0x109730900>, 'user': <property object at 0x109731130>, 'xml': <property object at 0x109730360>, 'clone': <property object at 0x1097311d0>, 'commit': <property object at 0x109730270>, 'clone_dir': <property object at 0x1097303b0>, '__str__': <function Meta.__new__.<locals>.__str__ at 0x109506550>, '__repr__': <function Meta.__new__.<locals>.__str__ at 0x109506550>}\n",
      "Popping Importer tmp_path: Node(/Users/ryan/c/ur/_gist)\n"
     ]
    }
   ],
   "source": [
    "import _gist"
   ]
  },
  {
   "cell_type": "code",
   "execution_count": 17,
   "metadata": {},
   "outputs": [
    {
     "data": {
      "text/plain": [
       "'_gist'"
      ]
     },
     "execution_count": 17,
     "metadata": {},
     "output_type": "execute_result"
    }
   ],
   "source": [
    "_gist.__package__"
   ]
  },
  {
   "cell_type": "code",
   "execution_count": 1,
   "metadata": {
    "tags": [
     "parameters"
    ]
   },
   "outputs": [],
   "source": [
    "# Configs for web server that we'll run, and load notebooks from:\n",
    "host = 'localhost'\n",
    "port = 8000"
   ]
  },
  {
   "cell_type": "markdown",
   "metadata": {},
   "source": [
    "Serve the current directory over an HTTP server:"
   ]
  },
  {
   "cell_type": "code",
   "execution_count": 2,
   "metadata": {},
   "outputs": [
    {
     "name": "stdout",
     "output_type": "stream",
     "text": [
      "serving at localhost:8000 from dir /Users/ryan/c/ur: [PosixPath('/Users/ryan/c/ur/ignore_tests'), PosixPath('/Users/ryan/c/ur/gists-test.ipynb'), PosixPath('/Users/ryan/c/ur/runtests.ipynb'), PosixPath('/Users/ryan/c/ur/Dockerfile.test'), PosixPath('/Users/ryan/c/ur/.objs'), PosixPath('/Users/ryan/c/ur/importer.py'), PosixPath('/Users/ryan/c/ur/LICENSE'), PosixPath('/Users/ryan/c/ur/.pytest_cache'), PosixPath('/Users/ryan/c/ur/out'), PosixPath('/Users/ryan/c/ur/dist'), PosixPath('/Users/ryan/c/ur/local-nested-import-test.ipynb'), PosixPath('/Users/ryan/c/ur/Untitled.ipynb'), PosixPath('/Users/ryan/c/ur/ur.iml'), PosixPath('/Users/ryan/c/ur/MANIFEST'), PosixPath('/Users/ryan/c/ur/.urignore'), PosixPath('/Users/ryan/c/ur/_github'), PosixPath('/Users/ryan/c/ur/url_loader.py'), PosixPath('/Users/ryan/c/ur/README.ipynb'), PosixPath('/Users/ryan/c/ur/tests'), PosixPath('/Users/ryan/c/ur/ur.code-workspace'), PosixPath('/Users/ryan/c/ur/fd.ipynb'), PosixPath('/Users/ryan/c/ur/__pycache__'), PosixPath('/Users/ryan/c/ur/README.html'), PosixPath('/Users/ryan/c/ur/.gitmodules'), PosixPath('/Users/ryan/c/ur/make-dockerignore.py'), PosixPath('/Users/ryan/c/ur/local-nested-import-pkgs-test.ipynb'), PosixPath('/Users/ryan/c/ur/README.md'), PosixPath('/Users/ryan/c/ur/url.py'), PosixPath('/Users/ryan/c/ur/remote-nested-import-test.ipynb'), PosixPath('/Users/ryan/c/ur/urignore-test.ipynb'), PosixPath('/Users/ryan/c/ur/setup.py'), PosixPath('/Users/ryan/c/ur/.dockerignore'), PosixPath('/Users/ryan/c/ur/github'), PosixPath('/Users/ryan/c/ur/.gitignore'), PosixPath('/Users/ryan/c/ur/gitlab-import-test.ipynb'), PosixPath('/Users/ryan/c/ur/examples'), PosixPath('/Users/ryan/c/ur/opts.py'), PosixPath('/Users/ryan/c/ur/reimport-test.ipynb'), PosixPath('/Users/ryan/c/ur/ur.py'), PosixPath('/Users/ryan/c/ur/.github'), PosixPath('/Users/ryan/c/ur/rgxs.py'), PosixPath('/Users/ryan/c/ur/jupyter_rc'), PosixPath('/Users/ryan/c/ur/github-import-test.ipynb'), PosixPath('/Users/ryan/c/ur/.python-version'), PosixPath('/Users/ryan/c/ur/ur.egg-info'), PosixPath('/Users/ryan/c/ur/cache-root-test.ipynb'), PosixPath('/Users/ryan/c/ur/setup.cfg'), PosixPath('/Users/ryan/c/ur/.ipynb_checkpoints'), PosixPath('/Users/ryan/c/ur/nb.py'), PosixPath('/Users/ryan/c/ur/node.py'), PosixPath('/Users/ryan/c/ur/_gist'), PosixPath('/Users/ryan/c/ur/mutating-notebook-test'), PosixPath('/Users/ryan/c/ur/stack-overflow-import'), PosixPath('/Users/ryan/c/ur/.git'), PosixPath('/Users/ryan/c/ur/.vscode'), PosixPath('/Users/ryan/c/ur/nbimporter'), PosixPath('/Users/ryan/c/ur/cells.py'), PosixPath('/Users/ryan/c/ur/pclass'), PosixPath('/Users/ryan/c/ur/gist'), PosixPath('/Users/ryan/c/ur/.cache'), PosixPath('/Users/ryan/c/ur/urignore.py'), PosixPath('/Users/ryan/c/ur/_gitlab'), PosixPath('/Users/ryan/c/ur/gists'), PosixPath('/Users/ryan/c/ur/url-import-test.ipynb'), PosixPath('/Users/ryan/c/ur/runtests.py'), PosixPath('/Users/ryan/c/ur/import-support-table.ipynb'), PosixPath('/Users/ryan/c/ur/local-nested-import-pkgs-wildcard-test.ipynb'), PosixPath('/Users/ryan/c/ur/.idea')]\n"
     ]
    }
   ],
   "source": [
    "from pathlib import Path\n",
    "\n",
    "def http_server():\n",
    "    from http.server import SimpleHTTPRequestHandler as Handler \n",
    "    from socketserver import TCPServer\n",
    "\n",
    "    with TCPServer((host, port), Handler) as httpd:\n",
    "        cwd = Path.cwd()\n",
    "        print(f\"serving at {host}:{port} from dir {cwd}: {list(cwd.iterdir())}\")\n",
    "        httpd.serve_forever()\n",
    "    \n",
    "from threading import Thread\n",
    "thread = Thread(target=http_server)\n",
    "thread.start()\n",
    "from time import sleep\n",
    "sleep(1)"
   ]
  },
  {
   "cell_type": "markdown",
   "metadata": {},
   "source": [
    "## Import a remote notebook as a Python module:"
   ]
  },
  {
   "cell_type": "code",
   "execution_count": 3,
   "metadata": {
    "scrolled": true
   },
   "outputs": [
    {
     "name": "stdout",
     "output_type": "stream",
     "text": [
      "URLLoader.main(<url_loader.URLLoader object at 0x1044094c0>, path=http://localhost:8000/examples/abcd_gist/a_b.ipynb, names=('*',), all=False, **{}\n",
      "Importer.find_spec: fullname=_gist path=None target=None mod_path=None\n",
      "node_spec: node=Node(/Users/ryan/c/ur), mod_path=['_gist']\n",
      "Creating package spec _gist from Node(/Users/ryan/c/ur/_gist) (origin=/Users/ryan/c/ur/_gist)\n",
      "create_module ModuleSpec(name='_gist', loader=<importer.Importer object at 0x1056e4a30>, origin='/Users/ryan/c/ur/_gist', submodule_search_locations=[])\n",
      "Installing module _gist: <module '_gist' (/Users/ryan/c/ur/_gist)>\n",
      "exec_module <module '_gist' (/Users/ryan/c/ur/_gist)>\n",
      "exec: name=_gist mod=<module '_gist' (/Users/ryan/c/ur/_gist)> node=Node(/Users/ryan/c/ur/_gist) root_path=None\n",
      "Executing module _gist (<module '_gist' (/Users/ryan/c/ur/_gist)>) for first time (0)\n",
      "<module '_gist' (/Users/ryan/c/ur/_gist)>: executing __init__.py\n",
      "exec: name=_gist mod=<module '_gist' (/Users/ryan/c/ur/_gist)> node=Node(/Users/ryan/c/ur/_gist/__init__.py) root_path=[Node(/Users/ryan/c/ur/_gist)]\n",
      "Executing module __init__.py: _gist (<module '_gist' (/Users/ryan/c/ur/_gist)>)\n",
      "Attempt to exec module _gist (root_path=[Node(/Users/ryan/c/ur/_gist)])\n",
      "Prepending Importer tmp_path: [Node(/Users/ryan/c/ur/_gist)]\n",
      "exec .py file: Node(/Users/ryan/c/ur/_gist/__init__.py)\n",
      "Importer.find_spec: fullname=pclass path=None target=None mod_path=None\n",
      "find_spec adding self.path: [Node(/Users/ryan/c/ur/_gist)]\n",
      "node_spec: node=Node(/Users/ryan/c/ur/_gist), mod_path=['pclass']\n",
      "node_spec: node=Node(/Users/ryan/c/ur), mod_path=['pclass']\n",
      "Creating package spec pclass from Node(/Users/ryan/c/ur/pclass) (origin=/Users/ryan/c/ur/pclass)\n",
      "create_module ModuleSpec(name='pclass', loader=<importer.Importer object at 0x1056e4a30>, origin='/Users/ryan/c/ur/pclass', submodule_search_locations=[])\n",
      "Installing module pclass: <module 'pclass' (/Users/ryan/c/ur/pclass)>\n",
      "exec_module <module 'pclass' (/Users/ryan/c/ur/pclass)>\n",
      "exec: name=pclass mod=<module 'pclass' (/Users/ryan/c/ur/pclass)> node=Node(/Users/ryan/c/ur/pclass) root_path=None\n",
      "Executing module pclass (<module 'pclass' (/Users/ryan/c/ur/pclass)>) for first time (0)\n",
      "Importer.find_spec: fullname=pclass.field path=[Node(/Users/ryan/c/ur/pclass)] target=None mod_path=['field']\n",
      "find_spec received path: [Node(/Users/ryan/c/ur/pclass)]\n",
      "find_spec adding self.path: [Node(/Users/ryan/c/ur/_gist)]\n",
      "node_spec: node=Node(/Users/ryan/c/ur/pclass), mod_path=['field']\n",
      "Creating package spec pclass.field from Node(/Users/ryan/c/ur/pclass/field.py) (origin=/Users/ryan/c/ur/pclass/field.py)\n",
      "Found spec for child module field.py (pclass)\n",
      "create_module ModuleSpec(name='pclass.field', loader=<importer.Importer object at 0x1056e4a30>, origin='/Users/ryan/c/ur/pclass/field.py')\n",
      "Installing module pclass.field: <module 'pclass.field' (/Users/ryan/c/ur/pclass/field.py)>\n",
      "exec_module <module 'pclass.field' (/Users/ryan/c/ur/pclass/field.py)>\n",
      "exec: name=pclass.field mod=<module 'pclass.field' (/Users/ryan/c/ur/pclass/field.py)> node=Node(/Users/ryan/c/ur/pclass/field.py) root_path=[Node(/Users/ryan/c/ur/pclass)]\n",
      "Executing module pclass.field (<module 'pclass.field' (/Users/ryan/c/ur/pclass/field.py)>) for first time (0)\n",
      "Attempt to exec module pclass.field (root_path=[Node(/Users/ryan/c/ur/pclass)])\n",
      "Prepending Importer tmp_path: [Node(/Users/ryan/c/ur/pclass)]\n",
      "exec .py file: Node(/Users/ryan/c/ur/pclass/field.py)\n",
      "Importer.find_spec: fullname=pclass.loader path=[] target=None mod_path=None\n",
      "find_spec adding self.path: [Node(/Users/ryan/c/ur/pclass), Node(/Users/ryan/c/ur/_gist)]\n",
      "node_spec: node=Node(/Users/ryan/c/ur/pclass), mod_path=['pclass', 'loader']\n",
      "node_spec: node=Node(/Users/ryan/c/ur/_gist), mod_path=['pclass', 'loader']\n",
      "node_spec: node=Node(/Users/ryan/c/ur), mod_path=['pclass', 'loader']\n",
      "Creating package spec pclass.loader from Node(/Users/ryan/c/ur/pclass/loader.py) (origin=/Users/ryan/c/ur/pclass/loader.py)\n",
      "create_module ModuleSpec(name='pclass.loader', loader=<importer.Importer object at 0x1056e4a30>, origin='/Users/ryan/c/ur/pclass/loader.py')\n",
      "Installing module pclass.loader: <module 'pclass.loader' (/Users/ryan/c/ur/pclass/loader.py)>\n",
      "exec_module <module 'pclass.loader' (/Users/ryan/c/ur/pclass/loader.py)>\n",
      "exec: name=pclass.loader mod=<module 'pclass.loader' (/Users/ryan/c/ur/pclass/loader.py)> node=Node(/Users/ryan/c/ur/pclass/loader.py) root_path=None\n",
      "Executing module pclass.loader (<module 'pclass.loader' (/Users/ryan/c/ur/pclass/loader.py)>) for first time (0)\n",
      "Attempt to exec module pclass.loader (root_path=None)\n",
      "exec .py file: Node(/Users/ryan/c/ur/pclass/loader.py)\n",
      "Popping Importer tmp_path: Node(/Users/ryan/c/ur/pclass)\n",
      "Importer.find_spec: fullname=pclass.dircache path=[Node(/Users/ryan/c/ur/pclass)] target=None mod_path=['dircache']\n",
      "find_spec received path: [Node(/Users/ryan/c/ur/pclass)]\n",
      "find_spec adding self.path: [Node(/Users/ryan/c/ur/_gist)]\n",
      "node_spec: node=Node(/Users/ryan/c/ur/pclass), mod_path=['dircache']\n",
      "Creating package spec pclass.dircache from Node(/Users/ryan/c/ur/pclass/dircache.py) (origin=/Users/ryan/c/ur/pclass/dircache.py)\n",
      "Found spec for child module dircache.py (pclass)\n",
      "create_module ModuleSpec(name='pclass.dircache', loader=<importer.Importer object at 0x1056e4a30>, origin='/Users/ryan/c/ur/pclass/dircache.py')\n",
      "Installing module pclass.dircache: <module 'pclass.dircache' (/Users/ryan/c/ur/pclass/dircache.py)>\n",
      "exec_module <module 'pclass.dircache' (/Users/ryan/c/ur/pclass/dircache.py)>\n",
      "exec: name=pclass.dircache mod=<module 'pclass.dircache' (/Users/ryan/c/ur/pclass/dircache.py)> node=Node(/Users/ryan/c/ur/pclass/dircache.py) root_path=[Node(/Users/ryan/c/ur/pclass)]\n",
      "Executing module pclass.dircache (<module 'pclass.dircache' (/Users/ryan/c/ur/pclass/dircache.py)>) for first time (0)\n",
      "Attempt to exec module pclass.dircache (root_path=[Node(/Users/ryan/c/ur/pclass)])\n",
      "Prepending Importer tmp_path: [Node(/Users/ryan/c/ur/pclass)]\n",
      "exec .py file: Node(/Users/ryan/c/ur/pclass/dircache.py)\n",
      "Popping Importer tmp_path: Node(/Users/ryan/c/ur/pclass)\n",
      "Importer.find_spec: fullname=pclass.loader path=[Node(/Users/ryan/c/ur/pclass)] target=None mod_path=['loader']\n",
      "find_spec received path: [Node(/Users/ryan/c/ur/pclass)]\n",
      "find_spec adding self.path: [Node(/Users/ryan/c/ur/_gist)]\n",
      "node_spec: node=Node(/Users/ryan/c/ur/pclass), mod_path=['loader']\n",
      "Returning cached spec for pclass.loader (node=Node(/Users/ryan/c/ur/pclass/loader.py), origin=/Users/ryan/c/ur/pclass/loader.py)\n",
      "Found spec for child module loader.py (pclass)\n",
      "Skipping re-creating module pclass.loader: <module 'pclass.loader' (/Users/ryan/c/ur/pclass/loader.py)>\n",
      "exec_module <module 'pclass.loader' (/Users/ryan/c/ur/pclass/loader.py)>\n",
      "exec: name=pclass.loader mod=<module 'pclass.loader' (/Users/ryan/c/ur/pclass/loader.py)> node=Node(/Users/ryan/c/ur/pclass/loader.py) root_path=[Node(/Users/ryan/c/ur/pclass)]\n",
      "Skipping re-executing module (1x): pclass.loader\n",
      "Meta.__new__(<class 'pclass.dircache.Meta'>, Commit, (), {'__module__': '_gist', '__qualname__': 'Commit', '__init__': <function Commit.__init__ at 0x105b309d0>, 'www_url': <property object at 0x105b21590>, 'user': <property object at 0x105b21180>, 'author': <property object at 0x105b21130>, 'commit': <property object at 0x105af6220>, 'tree': <property object at 0x105af6810>, 'blobs': <property object at 0x105af6720>, 'clone_dir': <property object at 0x105af67c0>, 'files': <property object at 0x105af6770>, 'files_dict': <property object at 0x105af69a0>, 'file_bases_dict': <property object at 0x105b1bc20>, 'xml': <pclass.field.DirectField object at 0x105b044f0>, 'load_xml': None, 'fragments': <pclass.field.Field object at 0x105b042b0>})\n",
      "cache_root=None\n",
      "Class cache dir: .objs/Commit\n",
      "Checking: __module__: _gist\n",
      "__module__: bind functools.partial(<function Meta.__new__.<locals>._bind at 0x105b300d0>, name='__module__') OrderedDict([('fn', <Parameter \"fn\">), ('name', <Parameter \"name='__module__'\">), ('_kw', <Parameter \"**_kw\">)])\n",
      "Skipping: __module__\n",
      "Checking: __qualname__: Commit\n",
      "__qualname__: bind functools.partial(<function Meta.__new__.<locals>._bind at 0x105b31430>, name='__qualname__') OrderedDict([('fn', <Parameter \"fn\">), ('name', <Parameter \"name='__qualname__'\">), ('_kw', <Parameter \"**_kw\">)])\n",
      "Skipping: __qualname__\n",
      "Checking: __init__: <function Commit.__init__ at 0x105b309d0>\n",
      "__init__: bind functools.partial(<function Meta.__new__.<locals>._bind at 0x105b303a0>, name='__init__') OrderedDict([('fn', <Parameter \"fn\">), ('name', <Parameter \"name='__init__'\">), ('_kw', <Parameter \"**_kw\">)])\n",
      "Skipping: __init__\n",
      "Checking: www_url: <property object at 0x105b21590>\n",
      "www_url: bind functools.partial(<function Meta.__new__.<locals>._bind at 0x105b30280>, name='www_url') OrderedDict([('fn', <Parameter \"fn\">), ('name', <Parameter \"name='www_url'\">), ('_kw', <Parameter \"**_kw\">)])\n",
      "Skipping: www_url\n",
      "Checking: user: <property object at 0x105b21180>\n",
      "user: bind functools.partial(<function Meta.__new__.<locals>._bind at 0x105b15dc0>, name='user') OrderedDict([('fn', <Parameter \"fn\">), ('name', <Parameter \"name='user'\">), ('_kw', <Parameter \"**_kw\">)])\n",
      "Skipping: user\n",
      "Checking: author: <property object at 0x105b21130>\n",
      "author: bind functools.partial(<function Meta.__new__.<locals>._bind at 0x105b31310>, name='author') OrderedDict([('fn', <Parameter \"fn\">), ('name', <Parameter \"name='author'\">), ('_kw', <Parameter \"**_kw\">)])\n",
      "Skipping: author\n",
      "Checking: commit: <property object at 0x105af6220>\n",
      "commit: bind functools.partial(<function Meta.__new__.<locals>._bind at 0x105b31700>, name='commit') OrderedDict([('fn', <Parameter \"fn\">), ('name', <Parameter \"name='commit'\">), ('_kw', <Parameter \"**_kw\">)])\n",
      "Skipping: commit\n",
      "Checking: tree: <property object at 0x105af6810>\n",
      "tree: bind functools.partial(<function Meta.__new__.<locals>._bind at 0x105b15ee0>, name='tree') OrderedDict([('fn', <Parameter \"fn\">), ('name', <Parameter \"name='tree'\">), ('_kw', <Parameter \"**_kw\">)])\n",
      "Skipping: tree\n",
      "Checking: blobs: <property object at 0x105af6720>\n",
      "blobs: bind functools.partial(<function Meta.__new__.<locals>._bind at 0x105b30280>, name='blobs') OrderedDict([('fn', <Parameter \"fn\">), ('name', <Parameter \"name='blobs'\">), ('_kw', <Parameter \"**_kw\">)])\n",
      "Skipping: blobs\n",
      "Checking: clone_dir: <property object at 0x105af67c0>\n",
      "clone_dir: bind functools.partial(<function Meta.__new__.<locals>._bind at 0x105b303a0>, name='clone_dir') OrderedDict([('fn', <Parameter \"fn\">), ('name', <Parameter \"name='clone_dir'\">), ('_kw', <Parameter \"**_kw\">)])\n",
      "Skipping: clone_dir\n",
      "Checking: files: <property object at 0x105af6770>\n",
      "files: bind functools.partial(<function Meta.__new__.<locals>._bind at 0x105b31670>, name='files') OrderedDict([('fn', <Parameter \"fn\">), ('name', <Parameter \"name='files'\">), ('_kw', <Parameter \"**_kw\">)])\n",
      "Skipping: files\n",
      "Checking: files_dict: <property object at 0x105af69a0>\n",
      "files_dict: bind functools.partial(<function Meta.__new__.<locals>._bind at 0x105b300d0>, name='files_dict') OrderedDict([('fn', <Parameter \"fn\">), ('name', <Parameter \"name='files_dict'\">), ('_kw', <Parameter \"**_kw\">)])\n",
      "Skipping: files_dict\n",
      "Checking: file_bases_dict: <property object at 0x105b1bc20>\n",
      "file_bases_dict: bind functools.partial(<function Meta.__new__.<locals>._bind at 0x105b31670>, name='file_bases_dict') OrderedDict([('fn', <Parameter \"fn\">), ('name', <Parameter \"name='file_bases_dict'\">), ('_kw', <Parameter \"**_kw\">)])\n",
      "Skipping: file_bases_dict\n",
      "Checking: xml: <pclass.field.DirectField object at 0x105b044f0>\n",
      "xml: bind functools.partial(<function Meta.__new__.<locals>._bind at 0x105b31700>, name='xml') OrderedDict([('fn', <Parameter \"fn\">), ('name', <Parameter \"name='xml'\">), ('_kw', <Parameter \"**_kw\">)])\n",
      "field: xml -> <pclass.field.DirectField object at 0x105b044f0>\n",
      "Setting method: xml: <property object at 0x105b25950>\n",
      "Checking: load_xml: None\n",
      "load_xml: bind functools.partial(<function Meta.__new__.<locals>._bind at 0x105b31af0>, name='load_xml') OrderedDict([('fn', <Parameter \"fn\">), ('name', <Parameter \"name='load_xml'\">), ('_kw', <Parameter \"**_kw\">)])\n",
      "Skipping: load_xml\n",
      "Checking: fragments: <pclass.field.Field object at 0x105b042b0>\n",
      "fragments: bind functools.partial(<function Meta.__new__.<locals>._bind at 0x105b31e50>, name='fragments') OrderedDict([('fn', <Parameter \"fn\">), ('name', <Parameter \"name='fragments'\">), ('_kw', <Parameter \"**_kw\">)])\n",
      "field: fragments -> <pclass.field.Field object at 0x105b042b0>\n",
      "Setting method: fragments: <property object at 0x105b25810>\n",
      "Fields: ['xml', 'fragments']\n",
      "returning <class '_gist.Commit'>: {'__module__': '_gist', '__qualname__': 'Commit', '__init__': <function Commit.__init__ at 0x105b31ee0>, 'www_url': <property object at 0x105b21590>, 'user': <property object at 0x105b21180>, 'author': <property object at 0x105b21130>, 'commit': <property object at 0x105af6220>, 'tree': <property object at 0x105af6810>, 'blobs': <property object at 0x105af6720>, 'clone_dir': <property object at 0x105af67c0>, 'files': <property object at 0x105af6770>, 'files_dict': <property object at 0x105af69a0>, 'file_bases_dict': <property object at 0x105b1bc20>, 'xml': <property object at 0x105b25950>, 'load_xml': None, 'fragments': <property object at 0x105b25810>, '__str__': <function Meta.__new__.<locals>.__str__ at 0x105b31f70>, '__repr__': <function Meta.__new__.<locals>.__str__ at 0x105b31f70>}\n",
      "Meta.__new__(<class 'pclass.dircache.Meta'>, Gist, (), {'__module__': '_gist', '__qualname__': 'Gist', 'WWW_URL_PATH_REGEX': '^(?:/(?P<user>[A-Za-z0-9_\\\\-]+))?/(?P<id>[a-f0-9]+)(?:/(?P<commit>[a-f0-9]+))?(?:#(?P<fragment>[A-Za-z0-9_\\\\-]+))?$', 'RAW_URL_PATH_REGEX': '^/(?P<user>[A-Za-z0-9_\\\\-]+)/(?P<id>[a-f0-9]+)/(?P<raw>raw)(?:/(?P<commit>[a-f0-9]+))?(?:/(?P<file>[A-Za-z0-9_\\\\-\\\\.]+))?$', 'URL_PATH_REGEXS': ['^(?:/(?P<user>[A-Za-z0-9_\\\\-]+))?/(?P<id>[a-f0-9]+)(?:/(?P<commit>[a-f0-9]+))?(?:#(?P<fragment>[A-Za-z0-9_\\\\-]+))?$', '^/(?P<user>[A-Za-z0-9_\\\\-]+)/(?P<id>[a-f0-9]+)/(?P<raw>raw)(?:/(?P<commit>[a-f0-9]+))?(?:/(?P<file>[A-Za-z0-9_\\\\-\\\\.]+))?$'], 'ID_LEN': 32, '__init__': <function Gist.__init__ at 0x105b31c10>, 'from_url': <classmethod object at 0x105b0bc10>, 'parse_url': <classmethod object at 0x105b0bb50>, 'parse_url_path': <classmethod object at 0x105b0bac0>, 'from_url_path': <classmethod object at 0x105b0baf0>, 'from_dict': <classmethod object at 0x105b0b310>, 'git_url': <property object at 0x105b25db0>, 'www_url': <property object at 0x105b25ef0>, 'ssh_url': <property object at 0x105b25d10>, 'module_name': <property object at 0x105b244a0>, 'user': <pclass.field.Field object at 0x105b0bd30>, 'xml': <property object at 0x105b244f0>, 'clone': <pclass.field.DirectField object at 0x105b0bd90>, 'commit': <property object at 0x105b24540>, 'clone_dir': <property object at 0x105b24770>})\n",
      "cache_root=None\n",
      "Class cache dir: .objs/Gist\n",
      "Checking: __module__: _gist\n",
      "__module__: bind functools.partial(<function Meta.__new__.<locals>._bind at 0x105b15dc0>, name='__module__') OrderedDict([('fn', <Parameter \"fn\">), ('name', <Parameter \"name='__module__'\">), ('_kw', <Parameter \"**_kw\">)])\n",
      "Skipping: __module__\n",
      "Checking: __qualname__: Gist\n",
      "__qualname__: bind functools.partial(<function Meta.__new__.<locals>._bind at 0x105b30040>, name='__qualname__') OrderedDict([('fn', <Parameter \"fn\">), ('name', <Parameter \"name='__qualname__'\">), ('_kw', <Parameter \"**_kw\">)])\n",
      "Skipping: __qualname__\n",
      "Checking: WWW_URL_PATH_REGEX: ^(?:/(?P<user>[A-Za-z0-9_\\-]+))?/(?P<id>[a-f0-9]+)(?:/(?P<commit>[a-f0-9]+))?(?:#(?P<fragment>[A-Za-z0-9_\\-]+))?$\n",
      "WWW_URL_PATH_REGEX: bind functools.partial(<function Meta.__new__.<locals>._bind at 0x105b32160>, name='WWW_URL_PATH_REGEX') OrderedDict([('fn', <Parameter \"fn\">), ('name', <Parameter \"name='WWW_URL_PATH_REGEX'\">), ('_kw', <Parameter \"**_kw\">)])\n",
      "Skipping: WWW_URL_PATH_REGEX\n",
      "Checking: RAW_URL_PATH_REGEX: ^/(?P<user>[A-Za-z0-9_\\-]+)/(?P<id>[a-f0-9]+)/(?P<raw>raw)(?:/(?P<commit>[a-f0-9]+))?(?:/(?P<file>[A-Za-z0-9_\\-\\.]+))?$\n",
      "RAW_URL_PATH_REGEX: bind functools.partial(<function Meta.__new__.<locals>._bind at 0x105b30280>, name='RAW_URL_PATH_REGEX') OrderedDict([('fn', <Parameter \"fn\">), ('name', <Parameter \"name='RAW_URL_PATH_REGEX'\">), ('_kw', <Parameter \"**_kw\">)])\n",
      "Skipping: RAW_URL_PATH_REGEX\n",
      "Checking: URL_PATH_REGEXS: ['^(?:/(?P<user>[A-Za-z0-9_\\\\-]+))?/(?P<id>[a-f0-9]+)(?:/(?P<commit>[a-f0-9]+))?(?:#(?P<fragment>[A-Za-z0-9_\\\\-]+))?$', '^/(?P<user>[A-Za-z0-9_\\\\-]+)/(?P<id>[a-f0-9]+)/(?P<raw>raw)(?:/(?P<commit>[a-f0-9]+))?(?:/(?P<file>[A-Za-z0-9_\\\\-\\\\.]+))?$']\n",
      "URL_PATH_REGEXS: bind functools.partial(<function Meta.__new__.<locals>._bind at 0x105b15f70>, name='URL_PATH_REGEXS') OrderedDict([('fn', <Parameter \"fn\">), ('name', <Parameter \"name='URL_PATH_REGEXS'\">), ('_kw', <Parameter \"**_kw\">)])\n",
      "Skipping: URL_PATH_REGEXS\n",
      "Checking: ID_LEN: 32\n",
      "ID_LEN: bind functools.partial(<function Meta.__new__.<locals>._bind at 0x105b31dc0>, name='ID_LEN') OrderedDict([('fn', <Parameter \"fn\">), ('name', <Parameter \"name='ID_LEN'\">), ('_kw', <Parameter \"**_kw\">)])\n",
      "Skipping: ID_LEN\n",
      "Checking: __init__: <function Gist.__init__ at 0x105b31c10>\n",
      "__init__: bind functools.partial(<function Meta.__new__.<locals>._bind at 0x105b32310>, name='__init__') OrderedDict([('fn', <Parameter \"fn\">), ('name', <Parameter \"name='__init__'\">), ('_kw', <Parameter \"**_kw\">)])\n",
      "Skipping: __init__\n",
      "Checking: from_url: <classmethod object at 0x105b0bc10>\n",
      "from_url: bind functools.partial(<function Meta.__new__.<locals>._bind at 0x105b32670>, name='from_url') OrderedDict([('fn', <Parameter \"fn\">), ('name', <Parameter \"name='from_url'\">), ('_kw', <Parameter \"**_kw\">)])\n",
      "Skipping: from_url\n",
      "Checking: parse_url: <classmethod object at 0x105b0bb50>\n",
      "parse_url: bind functools.partial(<function Meta.__new__.<locals>._bind at 0x105b329d0>, name='parse_url') OrderedDict([('fn', <Parameter \"fn\">), ('name', <Parameter \"name='parse_url'\">), ('_kw', <Parameter \"**_kw\">)])\n",
      "Skipping: parse_url\n",
      "Checking: parse_url_path: <classmethod object at 0x105b0bac0>\n",
      "parse_url_path: bind functools.partial(<function Meta.__new__.<locals>._bind at 0x105b32d30>, name='parse_url_path') OrderedDict([('fn', <Parameter \"fn\">), ('name', <Parameter \"name='parse_url_path'\">), ('_kw', <Parameter \"**_kw\">)])\n",
      "Skipping: parse_url_path\n",
      "Checking: from_url_path: <classmethod object at 0x105b0baf0>\n",
      "from_url_path: bind functools.partial(<function Meta.__new__.<locals>._bind at 0x105b15b80>, name='from_url_path') OrderedDict([('fn', <Parameter \"fn\">), ('name', <Parameter \"name='from_url_path'\">), ('_kw', <Parameter \"**_kw\">)])\n",
      "Skipping: from_url_path\n",
      "Checking: from_dict: <classmethod object at 0x105b0b310>\n",
      "from_dict: bind functools.partial(<function Meta.__new__.<locals>._bind at 0x105b303a0>, name='from_dict') OrderedDict([('fn', <Parameter \"fn\">), ('name', <Parameter \"name='from_dict'\">), ('_kw', <Parameter \"**_kw\">)])\n",
      "Skipping: from_dict\n",
      "Checking: git_url: <property object at 0x105b25db0>\n",
      "git_url: bind functools.partial(<function Meta.__new__.<locals>._bind at 0x105b329d0>, name='git_url') OrderedDict([('fn', <Parameter \"fn\">), ('name', <Parameter \"name='git_url'\">), ('_kw', <Parameter \"**_kw\">)])\n",
      "Skipping: git_url\n",
      "Checking: www_url: <property object at 0x105b25ef0>\n",
      "www_url: bind functools.partial(<function Meta.__new__.<locals>._bind at 0x105b32670>, name='www_url') OrderedDict([('fn', <Parameter \"fn\">), ('name', <Parameter \"name='www_url'\">), ('_kw', <Parameter \"**_kw\">)])\n",
      "Skipping: www_url\n",
      "Checking: ssh_url: <property object at 0x105b25d10>\n",
      "ssh_url: bind functools.partial(<function Meta.__new__.<locals>._bind at 0x105b32310>, name='ssh_url') OrderedDict([('fn', <Parameter \"fn\">), ('name', <Parameter \"name='ssh_url'\">), ('_kw', <Parameter \"**_kw\">)])\n",
      "Skipping: ssh_url\n",
      "Checking: module_name: <property object at 0x105b244a0>\n",
      "module_name: bind functools.partial(<function Meta.__new__.<locals>._bind at 0x105b323a0>, name='module_name') OrderedDict([('fn', <Parameter \"fn\">), ('name', <Parameter \"name='module_name'\">), ('_kw', <Parameter \"**_kw\">)])\n",
      "Skipping: module_name\n",
      "Checking: user: <pclass.field.Field object at 0x105b0bd30>\n",
      "user: bind functools.partial(<function Meta.__new__.<locals>._bind at 0x105b30040>, name='user') OrderedDict([('fn', <Parameter \"fn\">), ('name', <Parameter \"name='user'\">), ('_kw', <Parameter \"**_kw\">)])\n",
      "field: user -> <pclass.field.Field object at 0x105b0bd30>\n",
      "Setting method: user: <property object at 0x105b24d10>\n",
      "Checking: xml: <property object at 0x105b244f0>\n",
      "xml: bind functools.partial(<function Meta.__new__.<locals>._bind at 0x105b323a0>, name='xml') OrderedDict([('fn', <Parameter \"fn\">), ('name', <Parameter \"name='xml'\">), ('_kw', <Parameter \"**_kw\">)])\n",
      "Skipping: xml\n",
      "Checking: clone: <pclass.field.DirectField object at 0x105b0bd90>\n",
      "clone: bind functools.partial(<function Meta.__new__.<locals>._bind at 0x105b325e0>, name='clone') OrderedDict([('fn', <Parameter \"fn\">), ('name', <Parameter \"name='clone'\">), ('_kw', <Parameter \"**_kw\">)])\n",
      "field: clone -> <pclass.field.DirectField object at 0x105b0bd90>\n",
      "Setting method: clone: <property object at 0x105b24db0>\n",
      "Checking: commit: <property object at 0x105b24540>\n",
      "commit: bind functools.partial(<function Meta.__new__.<locals>._bind at 0x105b32af0>, name='commit') OrderedDict([('fn', <Parameter \"fn\">), ('name', <Parameter \"name='commit'\">), ('_kw', <Parameter \"**_kw\">)])\n",
      "Skipping: commit\n",
      "Checking: clone_dir: <property object at 0x105b24770>\n",
      "clone_dir: bind functools.partial(<function Meta.__new__.<locals>._bind at 0x105b324c0>, name='clone_dir') OrderedDict([('fn', <Parameter \"fn\">), ('name', <Parameter \"name='clone_dir'\">), ('_kw', <Parameter \"**_kw\">)])\n",
      "Skipping: clone_dir\n",
      "Fields: ['user', 'clone']\n",
      "returning <class '_gist.Gist'>: {'__module__': '_gist', '__qualname__': 'Gist', 'WWW_URL_PATH_REGEX': '^(?:/(?P<user>[A-Za-z0-9_\\\\-]+))?/(?P<id>[a-f0-9]+)(?:/(?P<commit>[a-f0-9]+))?(?:#(?P<fragment>[A-Za-z0-9_\\\\-]+))?$', 'RAW_URL_PATH_REGEX': '^/(?P<user>[A-Za-z0-9_\\\\-]+)/(?P<id>[a-f0-9]+)/(?P<raw>raw)(?:/(?P<commit>[a-f0-9]+))?(?:/(?P<file>[A-Za-z0-9_\\\\-\\\\.]+))?$', 'URL_PATH_REGEXS': ['^(?:/(?P<user>[A-Za-z0-9_\\\\-]+))?/(?P<id>[a-f0-9]+)(?:/(?P<commit>[a-f0-9]+))?(?:#(?P<fragment>[A-Za-z0-9_\\\\-]+))?$', '^/(?P<user>[A-Za-z0-9_\\\\-]+)/(?P<id>[a-f0-9]+)/(?P<raw>raw)(?:/(?P<commit>[a-f0-9]+))?(?:/(?P<file>[A-Za-z0-9_\\\\-\\\\.]+))?$'], 'ID_LEN': 32, '__init__': <function Gist.__init__ at 0x105b34040>, 'from_url': <classmethod object at 0x105b0bc10>, 'parse_url': <classmethod object at 0x105b0bb50>, 'parse_url_path': <classmethod object at 0x105b0bac0>, 'from_url_path': <classmethod object at 0x105b0baf0>, 'from_dict': <classmethod object at 0x105b0b310>, 'git_url': <property object at 0x105b25db0>, 'www_url': <property object at 0x105b25ef0>, 'ssh_url': <property object at 0x105b25d10>, 'module_name': <property object at 0x105b244a0>, 'user': <property object at 0x105b24d10>, 'xml': <property object at 0x105b244f0>, 'clone': <property object at 0x105b24db0>, 'commit': <property object at 0x105b24540>, 'clone_dir': <property object at 0x105b24770>, '__str__': <function Meta.__new__.<locals>.__str__ at 0x105b340d0>, '__repr__': <function Meta.__new__.<locals>.__str__ at 0x105b340d0>}\n",
      "Popping Importer tmp_path: Node(/Users/ryan/c/ur/_gist)\n",
      "Importer.find_spec: fullname=url path=None target=None mod_path=None\n",
      "node_spec: node=Node(/Users/ryan/c/ur), mod_path=['url']\n",
      "Creating package spec url from Node(/Users/ryan/c/ur/url.py) (origin=/Users/ryan/c/ur/url.py)\n",
      "create_module ModuleSpec(name='url', loader=<importer.Importer object at 0x1056e4a30>, origin='/Users/ryan/c/ur/url.py')\n",
      "Installing module url: <module 'url' (/Users/ryan/c/ur/url.py)>\n",
      "exec_module <module 'url' (/Users/ryan/c/ur/url.py)>\n",
      "exec: name=url mod=<module 'url' (/Users/ryan/c/ur/url.py)> node=Node(/Users/ryan/c/ur/url.py) root_path=None\n",
      "Executing module url (<module 'url' (/Users/ryan/c/ur/url.py)>) for first time (0)\n",
      "Attempt to exec module url (root_path=None)\n",
      "exec .py file: Node(/Users/ryan/c/ur/url.py)\n",
      "Meta.__new__(<class 'pclass.dircache.Meta'>, URL, (), {'__module__': 'url', '__qualname__': 'URL', 'content': <pclass.field.DirectField object at 0x105b1f2e0>, 'load_content': None, 'json': <property object at 0x105b25e50>, 'text': <property object at 0x105b217c0>, '__str__': <function URL.__str__ at 0x105b32e50>})\n",
      "cache_root=None\n",
      "Class cache dir: .objs/URL\n",
      "Checking: __module__: url\n",
      "__module__: bind functools.partial(<function Meta.__new__.<locals>._bind at 0x105b323a0>, name='__module__') OrderedDict([('fn', <Parameter \"fn\">), ('name', <Parameter \"name='__module__'\">), ('_kw', <Parameter \"**_kw\">)])\n",
      "Skipping: __module__\n",
      "Checking: __qualname__: URL\n",
      "__qualname__: bind functools.partial(<function Meta.__new__.<locals>._bind at 0x105b31d30>, name='__qualname__') OrderedDict([('fn', <Parameter \"fn\">), ('name', <Parameter \"name='__qualname__'\">), ('_kw', <Parameter \"**_kw\">)])\n",
      "Skipping: __qualname__\n",
      "Checking: content: <pclass.field.DirectField object at 0x105b1f2e0>\n",
      "content: bind functools.partial(<function Meta.__new__.<locals>._bind at 0x105b15b80>, name='content') OrderedDict([('fn', <Parameter \"fn\">), ('name', <Parameter \"name='content'\">), ('_kw', <Parameter \"**_kw\">)])\n",
      "field: content -> <pclass.field.DirectField object at 0x105b1f2e0>\n",
      "Setting method: content: <property object at 0x105b18b30>\n",
      "Checking: load_content: None\n",
      "load_content: bind functools.partial(<function Meta.__new__.<locals>._bind at 0x105b341f0>, name='load_content') OrderedDict([('fn', <Parameter \"fn\">), ('name', <Parameter \"name='load_content'\">), ('_kw', <Parameter \"**_kw\">)])\n",
      "Skipping: load_content\n",
      "Checking: json: <property object at 0x105b25e50>\n",
      "json: bind functools.partial(<function Meta.__new__.<locals>._bind at 0x105b34550>, name='json') OrderedDict([('fn', <Parameter \"fn\">), ('name', <Parameter \"name='json'\">), ('_kw', <Parameter \"**_kw\">)])\n",
      "Skipping: json\n",
      "Checking: text: <property object at 0x105b217c0>\n",
      "text: bind functools.partial(<function Meta.__new__.<locals>._bind at 0x105b348b0>, name='text') OrderedDict([('fn', <Parameter \"fn\">), ('name', <Parameter \"name='text'\">), ('_kw', <Parameter \"**_kw\">)])\n",
      "Skipping: text\n",
      "Checking: __str__: <function URL.__str__ at 0x105b32e50>\n",
      "__str__: bind functools.partial(<function Meta.__new__.<locals>._bind at 0x105b15b80>, name='__str__') OrderedDict([('fn', <Parameter \"fn\">), ('name', <Parameter \"name='__str__'\">), ('_kw', <Parameter \"**_kw\">)])\n",
      "Skipping: __str__\n",
      "Fields: ['content']\n",
      "returning <class 'url.URL'>: {'__module__': 'url', '__qualname__': 'URL', 'content': <property object at 0x105b18b30>, 'load_content': None, 'json': <property object at 0x105b25e50>, 'text': <property object at 0x105b217c0>, '__str__': <function URL.__str__ at 0x105b32e50>, '__init__': <function Meta.__new__.<locals>.__init__ at 0x105b31dc0>, '__repr__': <function Meta.__new__.<locals>.__str__ at 0x105b31ca0>}\n",
      "__init__(self, ('http://localhost:8000/examples/abcd_gist/a_b.ipynb',), {})\n",
      "Setting cache id id=http://localhost:8000/examples/abcd_gist/a_b.ipynb\n",
      "Set _dir=.objs/URL/http:/localhost:8000/examples/abcd_gist/a_b.ipynb for id http://localhost:8000/examples/abcd_gist/a_b.ipynb\n",
      "Done with injected __init__\n",
      "wrapped_fn: content (_content): field <pclass.field.DirectField object at 0x105b1f2e0>\n",
      "__str__ params: OrderedDict([('self', <Parameter \"self\">), ('path', <Parameter \"path\">)]) for fn <function URL.load_content at 0x105b32d30>\n",
      "__str__ adding path .objs/URL/http:/localhost:8000/examples/abcd_gist/a_b.ipynb/content to <function URL.load_content at 0x105b32d30>\n",
      "__str__ adding self URL(id=http://localhost:8000/examples/abcd_gist/a_b.ipynb) to <function URL.load_content at 0x105b32d30>\n",
      "__str__: calling <function URL.load_content at 0x105b32d30> with {'path': PosixPath('.objs/URL/http:/localhost:8000/examples/abcd_gist/a_b.ipynb/content'), 'self': URL(id=http://localhost:8000/examples/abcd_gist/a_b.ipynb)}\n",
      "Loaded attr from cache: _content=<_io.BufferedReader name='.objs/URL/http:/localhost:8000/examples/abcd_gist/a_b.ipynb/content'>\n",
      "Forwarding URL URL(id=http://localhost:8000/examples/abcd_gist/a_b.ipynb) to path .objs/URL/http:/localhost:8000/examples/abcd_gist/a_b.ipynb/content\n",
      "create_module ModuleSpec(name='URL(id=http://localhost:8000/examples/abcd_gist/a_b.ipynb)', loader=<importer.Importer object at 0x1056e4a30>, origin='.objs/URL/http:/localhost:8000/examples/abcd_gist/a_b.ipynb/content')\n",
      "defs only\n",
      "defs only\n",
      "Bubbling up ['get_ipython', 'a', 'b']\n"
     ]
    },
    {
     "name": "stdout",
     "output_type": "stream",
     "text": [
      "Frame: FrameInfo(frame=<frame at 0x104401200, file '<ipython-input-3-73da96543356>', line 4, code <module>>, filename='<ipython-input-3-73da96543356>', lineno=4, function='<module>', code_context=['ur * url\\n'], index=0), <ipython-input-3-73da96543356>\n"
     ]
    },
    {
     "data": {
      "text/plain": [
       "<module 'URL(id=http://localhost:8000/examples/abcd_gist/a_b.ipynb)' (.objs/URL/http:/localhost:8000/examples/abcd_gist/a_b.ipynb/content)>"
      ]
     },
     "execution_count": 3,
     "metadata": {},
     "output_type": "execute_result"
    }
   ],
   "source": [
    "import ur\n",
    "ur.verbose = 1\n",
    "url = 'http://localhost:8000/examples/abcd_gist/a_b.ipynb'\n",
    "ur * url"
   ]
  },
  {
   "cell_type": "code",
   "execution_count": 4,
   "metadata": {
    "scrolled": true
   },
   "outputs": [
    {
     "data": {
      "text/plain": [
       "{'sys': <module 'sys' (built-in)>,\n",
       " 'builtins': <module 'builtins' (built-in)>,\n",
       " '_frozen_importlib': <module 'importlib._bootstrap' (frozen)>,\n",
       " '_imp': <module '_imp' (built-in)>,\n",
       " '_warnings': <module '_warnings' (built-in)>,\n",
       " '_frozen_importlib_external': <module 'importlib._bootstrap_external' (frozen)>,\n",
       " '_io': <module 'io' (built-in)>,\n",
       " 'marshal': <module 'marshal' (built-in)>,\n",
       " 'posix': <module 'posix' (built-in)>,\n",
       " '_thread': <module '_thread' (built-in)>,\n",
       " '_weakref': <module '_weakref' (built-in)>,\n",
       " 'time': <module 'time' (built-in)>,\n",
       " 'zipimport': <module 'zipimport' (frozen)>,\n",
       " '_codecs': <module '_codecs' (built-in)>,\n",
       " 'codecs': <module 'codecs' from '/Users/ryan/.pyenv/versions/3.8.2/lib/python3.8/codecs.py'>,\n",
       " 'encodings.aliases': <module 'encodings.aliases' from '/Users/ryan/.pyenv/versions/3.8.2/lib/python3.8/encodings/aliases.py'>,\n",
       " 'encodings': <module 'encodings' from '/Users/ryan/.pyenv/versions/3.8.2/lib/python3.8/encodings/__init__.py'>,\n",
       " 'encodings.utf_8': <module 'encodings.utf_8' from '/Users/ryan/.pyenv/versions/3.8.2/lib/python3.8/encodings/utf_8.py'>,\n",
       " '_signal': <module '_signal' (built-in)>,\n",
       " '__main__': <module '__main__'>,\n",
       " 'encodings.latin_1': <module 'encodings.latin_1' from '/Users/ryan/.pyenv/versions/3.8.2/lib/python3.8/encodings/latin_1.py'>,\n",
       " '_abc': <module '_abc' (built-in)>,\n",
       " 'abc': <module 'abc' from '/Users/ryan/.pyenv/versions/3.8.2/lib/python3.8/abc.py'>,\n",
       " 'io': <module 'io' from '/Users/ryan/.pyenv/versions/3.8.2/lib/python3.8/io.py'>,\n",
       " '_stat': <module '_stat' (built-in)>,\n",
       " 'stat': <module 'stat' from '/Users/ryan/.pyenv/versions/3.8.2/lib/python3.8/stat.py'>,\n",
       " '_collections_abc': <module '_collections_abc' from '/Users/ryan/.pyenv/versions/3.8.2/lib/python3.8/_collections_abc.py'>,\n",
       " 'genericpath': <module 'genericpath' from '/Users/ryan/.pyenv/versions/3.8.2/lib/python3.8/genericpath.py'>,\n",
       " 'posixpath': <module 'posixpath' from '/Users/ryan/.pyenv/versions/3.8.2/lib/python3.8/posixpath.py'>,\n",
       " 'os.path': <module 'posixpath' from '/Users/ryan/.pyenv/versions/3.8.2/lib/python3.8/posixpath.py'>,\n",
       " 'os': <module 'os' from '/Users/ryan/.pyenv/versions/3.8.2/lib/python3.8/os.py'>,\n",
       " '_sitebuiltins': <module '_sitebuiltins' from '/Users/ryan/.pyenv/versions/3.8.2/lib/python3.8/_sitebuiltins.py'>,\n",
       " '_locale': <module '_locale' (built-in)>,\n",
       " '_bootlocale': <module '_bootlocale' from '/Users/ryan/.pyenv/versions/3.8.2/lib/python3.8/_bootlocale.py'>,\n",
       " 'site': <module 'site' from '/Users/ryan/.pyenv/versions/3.8.2/lib/python3.8/site.py'>,\n",
       " 'importlib._bootstrap': <module 'importlib._bootstrap' (frozen)>,\n",
       " 'importlib._bootstrap_external': <module 'importlib._bootstrap_external' (frozen)>,\n",
       " 'types': <module 'types' from '/Users/ryan/.pyenv/versions/3.8.2/lib/python3.8/types.py'>,\n",
       " 'warnings': <module 'warnings' from '/Users/ryan/.pyenv/versions/3.8.2/lib/python3.8/warnings.py'>,\n",
       " 'importlib': <module 'importlib' from '/Users/ryan/.pyenv/versions/3.8.2/lib/python3.8/importlib/__init__.py'>,\n",
       " 'importlib.machinery': <module 'importlib.machinery' from '/Users/ryan/.pyenv/versions/3.8.2/lib/python3.8/importlib/machinery.py'>,\n",
       " 'importlib.abc': <module 'importlib.abc' from '/Users/ryan/.pyenv/versions/3.8.2/lib/python3.8/importlib/abc.py'>,\n",
       " '_operator': <module '_operator' (built-in)>,\n",
       " 'operator': <module 'operator' from '/Users/ryan/.pyenv/versions/3.8.2/lib/python3.8/operator.py'>,\n",
       " 'keyword': <module 'keyword' from '/Users/ryan/.pyenv/versions/3.8.2/lib/python3.8/keyword.py'>,\n",
       " '_heapq': <module '_heapq' from '/Users/ryan/.pyenv/versions/3.8.2/lib/python3.8/lib-dynload/_heapq.cpython-38-darwin.so'>,\n",
       " 'heapq': <module 'heapq' from '/Users/ryan/.pyenv/versions/3.8.2/lib/python3.8/heapq.py'>,\n",
       " 'itertools': <module 'itertools' (built-in)>,\n",
       " 'reprlib': <module 'reprlib' from '/Users/ryan/.pyenv/versions/3.8.2/lib/python3.8/reprlib.py'>,\n",
       " '_collections': <module '_collections' (built-in)>,\n",
       " 'collections': <module 'collections' from '/Users/ryan/.pyenv/versions/3.8.2/lib/python3.8/collections/__init__.py'>,\n",
       " '_functools': <module '_functools' (built-in)>,\n",
       " 'functools': <module 'functools' from '/Users/ryan/.pyenv/versions/3.8.2/lib/python3.8/functools.py'>,\n",
       " 'contextlib': <module 'contextlib' from '/Users/ryan/.pyenv/versions/3.8.2/lib/python3.8/contextlib.py'>,\n",
       " 'importlib.util': <module 'importlib.util' from '/Users/ryan/.pyenv/versions/3.8.2/lib/python3.8/importlib/util.py'>,\n",
       " '_weakrefset': <module '_weakrefset' from '/Users/ryan/.pyenv/versions/3.8.2/lib/python3.8/_weakrefset.py'>,\n",
       " 'weakref': <module 'weakref' from '/Users/ryan/.pyenv/versions/3.8.2/lib/python3.8/weakref.py'>,\n",
       " 'pkgutil': <module 'pkgutil' from '/Users/ryan/.pyenv/versions/3.8.2/lib/python3.8/pkgutil.py'>,\n",
       " 'runpy': <module 'runpy' from '/Users/ryan/.pyenv/versions/3.8.2/lib/python3.8/runpy.py'>,\n",
       " 'ipykernel._version': <module 'ipykernel._version' from '/Users/ryan/.pyenv/versions/ur-3.8.2/lib/python3.8/site-packages/ipykernel/_version.py'>,\n",
       " '__future__': <module '__future__' from '/Users/ryan/.pyenv/versions/3.8.2/lib/python3.8/__future__.py'>,\n",
       " 'enum': <module 'enum' from '/Users/ryan/.pyenv/versions/3.8.2/lib/python3.8/enum.py'>,\n",
       " '_sre': <module '_sre' (built-in)>,\n",
       " 'sre_constants': <module 'sre_constants' from '/Users/ryan/.pyenv/versions/3.8.2/lib/python3.8/sre_constants.py'>,\n",
       " 'sre_parse': <module 'sre_parse' from '/Users/ryan/.pyenv/versions/3.8.2/lib/python3.8/sre_parse.py'>,\n",
       " 'sre_compile': <module 'sre_compile' from '/Users/ryan/.pyenv/versions/3.8.2/lib/python3.8/sre_compile.py'>,\n",
       " 'copyreg': <module 'copyreg' from '/Users/ryan/.pyenv/versions/3.8.2/lib/python3.8/copyreg.py'>,\n",
       " 're': <module 're' from '/Users/ryan/.pyenv/versions/3.8.2/lib/python3.8/re.py'>,\n",
       " '_json': <module '_json' from '/Users/ryan/.pyenv/versions/3.8.2/lib/python3.8/lib-dynload/_json.cpython-38-darwin.so'>,\n",
       " 'json.scanner': <module 'json.scanner' from '/Users/ryan/.pyenv/versions/3.8.2/lib/python3.8/json/scanner.py'>,\n",
       " 'json.decoder': <module 'json.decoder' from '/Users/ryan/.pyenv/versions/3.8.2/lib/python3.8/json/decoder.py'>,\n",
       " 'json.encoder': <module 'json.encoder' from '/Users/ryan/.pyenv/versions/3.8.2/lib/python3.8/json/encoder.py'>,\n",
       " 'json': <module 'json' from '/Users/ryan/.pyenv/versions/3.8.2/lib/python3.8/json/__init__.py'>,\n",
       " 'errno': <module 'errno' (built-in)>,\n",
       " 'signal': <module 'signal' from '/Users/ryan/.pyenv/versions/3.8.2/lib/python3.8/signal.py'>,\n",
       " 'threading': <module 'threading' from '/Users/ryan/.pyenv/versions/3.8.2/lib/python3.8/threading.py'>,\n",
       " '_posixsubprocess': <module '_posixsubprocess' from '/Users/ryan/.pyenv/versions/3.8.2/lib/python3.8/lib-dynload/_posixsubprocess.cpython-38-darwin.so'>,\n",
       " 'select': <module 'select' from '/Users/ryan/.pyenv/versions/3.8.2/lib/python3.8/lib-dynload/select.cpython-38-darwin.so'>,\n",
       " 'collections.abc': <module 'collections.abc' from '/Users/ryan/.pyenv/versions/3.8.2/lib/python3.8/collections/abc.py'>,\n",
       " 'math': <module 'math' from '/Users/ryan/.pyenv/versions/3.8.2/lib/python3.8/lib-dynload/math.cpython-38-darwin.so'>,\n",
       " 'selectors': <module 'selectors' from '/Users/ryan/.pyenv/versions/3.8.2/lib/python3.8/selectors.py'>,\n",
       " 'subprocess': <module 'subprocess' from '/Users/ryan/.pyenv/versions/3.8.2/lib/python3.8/subprocess.py'>,\n",
       " 'IPython.core': <module 'IPython.core' from '/Users/ryan/.pyenv/versions/ur-3.8.2/lib/python3.8/site-packages/IPython/core/__init__.py'>,\n",
       " 'IPython.core.getipython': <module 'IPython.core.getipython' from '/Users/ryan/.pyenv/versions/ur-3.8.2/lib/python3.8/site-packages/IPython/core/getipython.py'>,\n",
       " 'IPython.core.release': <module 'IPython.core.release' from '/Users/ryan/.pyenv/versions/ur-3.8.2/lib/python3.8/site-packages/IPython/core/release.py'>,\n",
       " 'atexit': <module 'atexit' (built-in)>,\n",
       " 'copy': <module 'copy' from '/Users/ryan/.pyenv/versions/3.8.2/lib/python3.8/copy.py'>,\n",
       " 'fnmatch': <module 'fnmatch' from '/Users/ryan/.pyenv/versions/3.8.2/lib/python3.8/fnmatch.py'>,\n",
       " 'glob': <module 'glob' from '/Users/ryan/.pyenv/versions/3.8.2/lib/python3.8/glob.py'>,\n",
       " 'token': <module 'token' from '/Users/ryan/.pyenv/versions/3.8.2/lib/python3.8/token.py'>,\n",
       " 'tokenize': <module 'tokenize' from '/Users/ryan/.pyenv/versions/3.8.2/lib/python3.8/tokenize.py'>,\n",
       " 'linecache': <module 'linecache' from '/Users/ryan/.pyenv/versions/3.8.2/lib/python3.8/linecache.py'>,\n",
       " 'traceback': <module 'traceback' from '/Users/ryan/.pyenv/versions/3.8.2/lib/python3.8/traceback.py'>,\n",
       " '_string': <module '_string' (built-in)>,\n",
       " 'string': <module 'string' from '/Users/ryan/.pyenv/versions/3.8.2/lib/python3.8/string.py'>,\n",
       " 'logging': <module 'logging' from '/Users/ryan/.pyenv/versions/3.8.2/lib/python3.8/logging/__init__.py'>,\n",
       " 'zlib': <module 'zlib' from '/Users/ryan/.pyenv/versions/3.8.2/lib/python3.8/lib-dynload/zlib.cpython-38-darwin.so'>,\n",
       " '_compression': <module '_compression' from '/Users/ryan/.pyenv/versions/3.8.2/lib/python3.8/_compression.py'>,\n",
       " '_bz2': <module '_bz2' from '/Users/ryan/.pyenv/versions/3.8.2/lib/python3.8/lib-dynload/_bz2.cpython-38-darwin.so'>,\n",
       " 'bz2': <module 'bz2' from '/Users/ryan/.pyenv/versions/3.8.2/lib/python3.8/bz2.py'>,\n",
       " '_lzma': <module '_lzma' from '/Users/ryan/.pyenv/versions/3.8.2/lib/python3.8/lib-dynload/_lzma.cpython-38-darwin.so'>,\n",
       " 'lzma': <module 'lzma' from '/Users/ryan/.pyenv/versions/3.8.2/lib/python3.8/lzma.py'>,\n",
       " 'pwd': <module 'pwd' (built-in)>,\n",
       " 'grp': <module 'grp' from '/Users/ryan/.pyenv/versions/3.8.2/lib/python3.8/lib-dynload/grp.cpython-38-darwin.so'>,\n",
       " 'shutil': <module 'shutil' from '/Users/ryan/.pyenv/versions/3.8.2/lib/python3.8/shutil.py'>,\n",
       " '_opcode': <module '_opcode' from '/Users/ryan/.pyenv/versions/3.8.2/lib/python3.8/lib-dynload/_opcode.cpython-38-darwin.so'>,\n",
       " 'opcode': <module 'opcode' from '/Users/ryan/.pyenv/versions/3.8.2/lib/python3.8/opcode.py'>,\n",
       " 'dis': <module 'dis' from '/Users/ryan/.pyenv/versions/3.8.2/lib/python3.8/dis.py'>,\n",
       " 'inspect': <module 'inspect' from '/Users/ryan/.pyenv/versions/3.8.2/lib/python3.8/inspect.py'>,\n",
       " '_struct': <module '_struct' from '/Users/ryan/.pyenv/versions/3.8.2/lib/python3.8/lib-dynload/_struct.cpython-38-darwin.so'>,\n",
       " 'struct': <module 'struct' from '/Users/ryan/.pyenv/versions/3.8.2/lib/python3.8/struct.py'>,\n",
       " 'six': <module 'six' from '/Users/ryan/.pyenv/versions/ur-3.8.2/lib/python3.8/site-packages/six.py'>,\n",
       " 'traitlets.utils': <module 'traitlets.utils' from '/Users/ryan/.pyenv/versions/ur-3.8.2/lib/python3.8/site-packages/traitlets/utils/__init__.py'>,\n",
       " 'traitlets.utils.getargspec': <module 'traitlets.utils.getargspec' from '/Users/ryan/.pyenv/versions/ur-3.8.2/lib/python3.8/site-packages/traitlets/utils/getargspec.py'>,\n",
       " 'ipython_genutils._version': <module 'ipython_genutils._version' from '/Users/ryan/.pyenv/versions/ur-3.8.2/lib/python3.8/site-packages/ipython_genutils/_version.py'>,\n",
       " 'ipython_genutils': <module 'ipython_genutils' from '/Users/ryan/.pyenv/versions/ur-3.8.2/lib/python3.8/site-packages/ipython_genutils/__init__.py'>,\n",
       " 'locale': <module 'locale' from '/Users/ryan/.pyenv/versions/3.8.2/lib/python3.8/locale.py'>,\n",
       " 'ipython_genutils.encoding': <module 'ipython_genutils.encoding' from '/Users/ryan/.pyenv/versions/ur-3.8.2/lib/python3.8/site-packages/ipython_genutils/encoding.py'>,\n",
       " 'platform': <module 'platform' from '/Users/ryan/.pyenv/versions/3.8.2/lib/python3.8/platform.py'>,\n",
       " 'ipython_genutils.py3compat': <module 'ipython_genutils.py3compat' from '/Users/ryan/.pyenv/versions/ur-3.8.2/lib/python3.8/site-packages/ipython_genutils/py3compat.py'>,\n",
       " 'traitlets.utils.importstring': <module 'traitlets.utils.importstring' from '/Users/ryan/.pyenv/versions/ur-3.8.2/lib/python3.8/site-packages/traitlets/utils/importstring.py'>,\n",
       " 'traitlets.utils.sentinel': <module 'traitlets.utils.sentinel' from '/Users/ryan/.pyenv/versions/ur-3.8.2/lib/python3.8/site-packages/traitlets/utils/sentinel.py'>,\n",
       " 'traitlets.utils.bunch': <module 'traitlets.utils.bunch' from '/Users/ryan/.pyenv/versions/ur-3.8.2/lib/python3.8/site-packages/traitlets/utils/bunch.py'>,\n",
       " 'traitlets.traitlets': <module 'traitlets.traitlets' from '/Users/ryan/.pyenv/versions/ur-3.8.2/lib/python3.8/site-packages/traitlets/traitlets.py'>,\n",
       " 'traitlets._version': <module 'traitlets._version' from '/Users/ryan/.pyenv/versions/ur-3.8.2/lib/python3.8/site-packages/traitlets/_version.py'>,\n",
       " 'traitlets': <module 'traitlets' from '/Users/ryan/.pyenv/versions/ur-3.8.2/lib/python3.8/site-packages/traitlets/__init__.py'>,\n",
       " 'decorator': <module 'decorator' from '/Users/ryan/.pyenv/versions/ur-3.8.2/lib/python3.8/site-packages/decorator.py'>,\n",
       " 'gettext': <module 'gettext' from '/Users/ryan/.pyenv/versions/3.8.2/lib/python3.8/gettext.py'>,\n",
       " 'argparse': <module 'argparse' from '/Users/ryan/.pyenv/versions/3.8.2/lib/python3.8/argparse.py'>,\n",
       " '_ast': <module '_ast' (built-in)>,\n",
       " 'ast': <module 'ast' from '/Users/ryan/.pyenv/versions/3.8.2/lib/python3.8/ast.py'>,\n",
       " '_bisect': <module '_bisect' from '/Users/ryan/.pyenv/versions/3.8.2/lib/python3.8/lib-dynload/_bisect.cpython-38-darwin.so'>,\n",
       " 'bisect': <module 'bisect' from '/Users/ryan/.pyenv/versions/3.8.2/lib/python3.8/bisect.py'>,\n",
       " '_sha512': <module '_sha512' from '/Users/ryan/.pyenv/versions/3.8.2/lib/python3.8/lib-dynload/_sha512.cpython-38-darwin.so'>,\n",
       " '_random': <module '_random' from '/Users/ryan/.pyenv/versions/3.8.2/lib/python3.8/lib-dynload/_random.cpython-38-darwin.so'>,\n",
       " 'random': <module 'random' from '/Users/ryan/.pyenv/versions/3.8.2/lib/python3.8/random.py'>,\n",
       " 'ipython_genutils.path': <module 'ipython_genutils.path' from '/Users/ryan/.pyenv/versions/ur-3.8.2/lib/python3.8/site-packages/ipython_genutils/path.py'>,\n",
       " 'traitlets.config.loader': <module 'traitlets.config.loader' from '/Users/ryan/.pyenv/versions/ur-3.8.2/lib/python3.8/site-packages/traitlets/config/loader.py'>,\n",
       " 'textwrap': <module 'textwrap' from '/Users/ryan/.pyenv/versions/3.8.2/lib/python3.8/textwrap.py'>,\n",
       " 'ipython_genutils.text': <module 'ipython_genutils.text' from '/Users/ryan/.pyenv/versions/ur-3.8.2/lib/python3.8/site-packages/ipython_genutils/text.py'>,\n",
       " 'traitlets.config.configurable': <module 'traitlets.config.configurable' from '/Users/ryan/.pyenv/versions/ur-3.8.2/lib/python3.8/site-packages/traitlets/config/configurable.py'>,\n",
       " 'ipython_genutils.importstring': <module 'ipython_genutils.importstring' from '/Users/ryan/.pyenv/versions/ur-3.8.2/lib/python3.8/site-packages/ipython_genutils/importstring.py'>,\n",
       " 'traitlets.config.application': <module 'traitlets.config.application' from '/Users/ryan/.pyenv/versions/ur-3.8.2/lib/python3.8/site-packages/traitlets/config/application.py'>,\n",
       " 'traitlets.config': <module 'traitlets.config' from '/Users/ryan/.pyenv/versions/ur-3.8.2/lib/python3.8/site-packages/traitlets/config/__init__.py'>,\n",
       " 'pprint': <module 'pprint' from '/Users/ryan/.pyenv/versions/3.8.2/lib/python3.8/pprint.py'>,\n",
       " 'sysconfig': <module 'sysconfig' from '/Users/ryan/.pyenv/versions/3.8.2/lib/python3.8/sysconfig.py'>,\n",
       " 'urllib': <module 'urllib' from '/Users/ryan/.pyenv/versions/3.8.2/lib/python3.8/urllib/__init__.py'>,\n",
       " 'urllib.parse': <module 'urllib.parse' from '/Users/ryan/.pyenv/versions/3.8.2/lib/python3.8/urllib/parse.py'>,\n",
       " '_sysconfigdata__darwin_darwin': <module '_sysconfigdata__darwin_darwin' from '/Users/ryan/.pyenv/versions/3.8.2/lib/python3.8/_sysconfigdata__darwin_darwin.py'>,\n",
       " '_osx_support': <module '_osx_support' from '/Users/ryan/.pyenv/versions/3.8.2/lib/python3.8/_osx_support.py'>,\n",
       " 'pydoc': <module 'pydoc' from '/Users/ryan/.pyenv/versions/3.8.2/lib/python3.8/pydoc.py'>,\n",
       " 'bdb': <module 'bdb' from '/Users/ryan/.pyenv/versions/3.8.2/lib/python3.8/bdb.py'>,\n",
       " 'IPython.utils': <module 'IPython.utils' from '/Users/ryan/.pyenv/versions/ur-3.8.2/lib/python3.8/site-packages/IPython/utils/__init__.py'>,\n",
       " 'IPython.utils.ipstruct': <module 'IPython.utils.ipstruct' from '/Users/ryan/.pyenv/versions/ur-3.8.2/lib/python3.8/site-packages/IPython/utils/ipstruct.py'>,\n",
       " 'IPython.utils.coloransi': <module 'IPython.utils.coloransi' from '/Users/ryan/.pyenv/versions/ur-3.8.2/lib/python3.8/site-packages/IPython/utils/coloransi.py'>,\n",
       " 'pygments': <module 'pygments' from '/Users/ryan/.pyenv/versions/ur-3.8.2/lib/python3.8/site-packages/pygments/__init__.py'>,\n",
       " 'IPython.utils.colorable': <module 'IPython.utils.colorable' from '/Users/ryan/.pyenv/versions/ur-3.8.2/lib/python3.8/site-packages/IPython/utils/colorable.py'>,\n",
       " 'IPython.utils.PyColorize': <module 'IPython.utils.PyColorize' from '/Users/ryan/.pyenv/versions/ur-3.8.2/lib/python3.8/site-packages/IPython/utils/PyColorize.py'>,\n",
       " 'IPython.utils.encoding': <module 'IPython.utils.encoding' from '/Users/ryan/.pyenv/versions/ur-3.8.2/lib/python3.8/site-packages/IPython/utils/encoding.py'>,\n",
       " 'IPython.utils.py3compat': <module 'IPython.utils.py3compat' from '/Users/ryan/.pyenv/versions/ur-3.8.2/lib/python3.8/site-packages/IPython/utils/py3compat.py'>,\n",
       " 'IPython.core.excolors': <module 'IPython.core.excolors' from '/Users/ryan/.pyenv/versions/ur-3.8.2/lib/python3.8/site-packages/IPython/core/excolors.py'>,\n",
       " 'IPython.testing': <module 'IPython.testing' from '/Users/ryan/.pyenv/versions/ur-3.8.2/lib/python3.8/site-packages/IPython/testing/__init__.py'>,\n",
       " 'IPython.testing.skipdoctest': <module 'IPython.testing.skipdoctest' from '/Users/ryan/.pyenv/versions/ur-3.8.2/lib/python3.8/site-packages/IPython/testing/skipdoctest.py'>,\n",
       " 'cmd': <module 'cmd' from '/Users/ryan/.pyenv/versions/3.8.2/lib/python3.8/cmd.py'>,\n",
       " 'codeop': <module 'codeop' from '/Users/ryan/.pyenv/versions/3.8.2/lib/python3.8/codeop.py'>,\n",
       " 'code': <module 'code' from '/Users/ryan/.pyenv/versions/3.8.2/lib/python3.8/code.py'>,\n",
       " 'pdb': <module 'pdb' from '/Users/ryan/.pyenv/versions/3.8.2/lib/python3.8/pdb.py'>,\n",
       " 'IPython.core.debugger': <module 'IPython.core.debugger' from '/Users/ryan/.pyenv/versions/ur-3.8.2/lib/python3.8/site-packages/IPython/core/debugger.py'>,\n",
       " 'IPython.core.display_trap': <module 'IPython.core.display_trap' from '/Users/ryan/.pyenv/versions/ur-3.8.2/lib/python3.8/site-packages/IPython/core/display_trap.py'>,\n",
       " 'pexpect.exceptions': <module 'pexpect.exceptions' from '/Users/ryan/.pyenv/versions/ur-3.8.2/lib/python3.8/site-packages/pexpect/exceptions.py'>,\n",
       " 'pexpect.utils': <module 'pexpect.utils' from '/Users/ryan/.pyenv/versions/ur-3.8.2/lib/python3.8/site-packages/pexpect/utils.py'>,\n",
       " 'pexpect.expect': <module 'pexpect.expect' from '/Users/ryan/.pyenv/versions/ur-3.8.2/lib/python3.8/site-packages/pexpect/expect.py'>,\n",
       " 'termios': <module 'termios' from '/Users/ryan/.pyenv/versions/3.8.2/lib/python3.8/lib-dynload/termios.cpython-38-darwin.so'>,\n",
       " 'tty': <module 'tty' from '/Users/ryan/.pyenv/versions/3.8.2/lib/python3.8/tty.py'>,\n",
       " 'pty': <module 'pty' from '/Users/ryan/.pyenv/versions/3.8.2/lib/python3.8/pty.py'>,\n",
       " 'fcntl': <module 'fcntl' from '/Users/ryan/.pyenv/versions/3.8.2/lib/python3.8/lib-dynload/fcntl.cpython-38-darwin.so'>,\n",
       " 'resource': <module 'resource' from '/Users/ryan/.pyenv/versions/3.8.2/lib/python3.8/lib-dynload/resource.cpython-38-darwin.so'>,\n",
       " 'ptyprocess.util': <module 'ptyprocess.util' from '/Users/ryan/.pyenv/versions/ur-3.8.2/lib/python3.8/site-packages/ptyprocess/util.py'>,\n",
       " 'ptyprocess.ptyprocess': <module 'ptyprocess.ptyprocess' from '/Users/ryan/.pyenv/versions/ur-3.8.2/lib/python3.8/site-packages/ptyprocess/ptyprocess.py'>,\n",
       " 'ptyprocess': <module 'ptyprocess' from '/Users/ryan/.pyenv/versions/ur-3.8.2/lib/python3.8/site-packages/ptyprocess/__init__.py'>,\n",
       " 'pexpect.spawnbase': <module 'pexpect.spawnbase' from '/Users/ryan/.pyenv/versions/ur-3.8.2/lib/python3.8/site-packages/pexpect/spawnbase.py'>,\n",
       " 'pexpect.pty_spawn': <module 'pexpect.pty_spawn' from '/Users/ryan/.pyenv/versions/ur-3.8.2/lib/python3.8/site-packages/pexpect/pty_spawn.py'>,\n",
       " 'pexpect.run': <module 'pexpect.run' from '/Users/ryan/.pyenv/versions/ur-3.8.2/lib/python3.8/site-packages/pexpect/run.py'>,\n",
       " 'pexpect': <module 'pexpect' from '/Users/ryan/.pyenv/versions/ur-3.8.2/lib/python3.8/site-packages/pexpect/__init__.py'>,\n",
       " 'shlex': <module 'shlex' from '/Users/ryan/.pyenv/versions/3.8.2/lib/python3.8/shlex.py'>,\n",
       " 'IPython.utils._process_common': <module 'IPython.utils._process_common' from '/Users/ryan/.pyenv/versions/ur-3.8.2/lib/python3.8/site-packages/IPython/utils/_process_common.py'>,\n",
       " 'IPython.utils._process_posix': <module 'IPython.utils._process_posix' from '/Users/ryan/.pyenv/versions/ur-3.8.2/lib/python3.8/site-packages/IPython/utils/_process_posix.py'>,\n",
       " 'IPython.utils.process': <module 'IPython.utils.process' from '/Users/ryan/.pyenv/versions/ur-3.8.2/lib/python3.8/site-packages/IPython/utils/process.py'>,\n",
       " 'IPython.utils.decorators': <module 'IPython.utils.decorators' from '/Users/ryan/.pyenv/versions/ur-3.8.2/lib/python3.8/site-packages/IPython/utils/decorators.py'>,\n",
       " 'IPython.utils.path': <module 'IPython.utils.path' from '/Users/ryan/.pyenv/versions/ur-3.8.2/lib/python3.8/site-packages/IPython/utils/path.py'>,\n",
       " 'IPython.utils.data': <module 'IPython.utils.data' from '/Users/ryan/.pyenv/versions/ur-3.8.2/lib/python3.8/site-packages/IPython/utils/data.py'>,\n",
       " 'IPython.utils.terminal': <module 'IPython.utils.terminal' from '/Users/ryan/.pyenv/versions/ur-3.8.2/lib/python3.8/site-packages/IPython/utils/terminal.py'>,\n",
       " 'IPython.core.ultratb': <module 'IPython.core.ultratb' from '/Users/ryan/.pyenv/versions/ur-3.8.2/lib/python3.8/site-packages/IPython/core/ultratb.py'>,\n",
       " 'IPython.utils._sysinfo': <module 'IPython.utils._sysinfo' from '/Users/ryan/.pyenv/versions/ur-3.8.2/lib/python3.8/site-packages/IPython/utils/_sysinfo.py'>,\n",
       " 'IPython.utils.sysinfo': <module 'IPython.utils.sysinfo' from '/Users/ryan/.pyenv/versions/ur-3.8.2/lib/python3.8/site-packages/IPython/utils/sysinfo.py'>,\n",
       " 'IPython.core.crashhandler': <module 'IPython.core.crashhandler' from '/Users/ryan/.pyenv/versions/ur-3.8.2/lib/python3.8/site-packages/IPython/core/crashhandler.py'>,\n",
       " 'tempfile': <module 'tempfile' from '/Users/ryan/.pyenv/versions/3.8.2/lib/python3.8/tempfile.py'>,\n",
       " 'IPython.utils.importstring': <module 'IPython.utils.importstring' from '/Users/ryan/.pyenv/versions/ur-3.8.2/lib/python3.8/site-packages/IPython/utils/importstring.py'>,\n",
       " 'IPython.paths': <module 'IPython.paths' from '/Users/ryan/.pyenv/versions/ur-3.8.2/lib/python3.8/site-packages/IPython/paths.py'>,\n",
       " 'IPython.core.profiledir': <module 'IPython.core.profiledir' from '/Users/ryan/.pyenv/versions/ur-3.8.2/lib/python3.8/site-packages/IPython/core/profiledir.py'>,\n",
       " 'IPython.core.application': <module 'IPython.core.application' from '/Users/ryan/.pyenv/versions/ur-3.8.2/lib/python3.8/site-packages/IPython/core/application.py'>,\n",
       " 'IPython.terminal': <module 'IPython.terminal' from '/Users/ryan/.pyenv/versions/ur-3.8.2/lib/python3.8/site-packages/IPython/terminal/__init__.py'>,\n",
       " '_hashlib': <module '_hashlib' from '/Users/ryan/.pyenv/versions/3.8.2/lib/python3.8/lib-dynload/_hashlib.cpython-38-darwin.so'>,\n",
       " '_blake2': <module '_blake2' from '/Users/ryan/.pyenv/versions/3.8.2/lib/python3.8/lib-dynload/_blake2.cpython-38-darwin.so'>,\n",
       " '_sha3': <module '_sha3' from '/Users/ryan/.pyenv/versions/3.8.2/lib/python3.8/lib-dynload/_sha3.cpython-38-darwin.so'>,\n",
       " 'hashlib': <module 'hashlib' from '/Users/ryan/.pyenv/versions/3.8.2/lib/python3.8/hashlib.py'>,\n",
       " 'IPython.core.compilerop': <module 'IPython.core.compilerop' from '/Users/ryan/.pyenv/versions/ur-3.8.2/lib/python3.8/site-packages/IPython/core/compilerop.py'>,\n",
       " 'IPython.core.error': <module 'IPython.core.error' from '/Users/ryan/.pyenv/versions/ur-3.8.2/lib/python3.8/site-packages/IPython/core/error.py'>,\n",
       " 'ntpath': <module 'ntpath' from '/Users/ryan/.pyenv/versions/3.8.2/lib/python3.8/ntpath.py'>,\n",
       " 'pathlib': <module 'pathlib' from '/Users/ryan/.pyenv/versions/3.8.2/lib/python3.8/pathlib.py'>,\n",
       " 'IPython.utils.text': <module 'IPython.utils.text' from '/Users/ryan/.pyenv/versions/ur-3.8.2/lib/python3.8/site-packages/IPython/utils/text.py'>,\n",
       " 'IPython.core.magic_arguments': <module 'IPython.core.magic_arguments' from '/Users/ryan/.pyenv/versions/ur-3.8.2/lib/python3.8/site-packages/IPython/core/magic_arguments.py'>,\n",
       " 'getopt': <module 'getopt' from '/Users/ryan/.pyenv/versions/3.8.2/lib/python3.8/getopt.py'>,\n",
       " 'typing.io': typing.io,\n",
       " 'typing.re': typing.re,\n",
       " 'typing': <module 'typing' from '/Users/ryan/.pyenv/versions/3.8.2/lib/python3.8/typing.py'>,\n",
       " 'binascii': <module 'binascii' from '/Users/ryan/.pyenv/versions/3.8.2/lib/python3.8/lib-dynload/binascii.cpython-38-darwin.so'>,\n",
       " 'mimetypes': <module 'mimetypes' from '/Users/ryan/.pyenv/versions/3.8.2/lib/python3.8/mimetypes.py'>,\n",
       " 'IPython.core.display': <module 'IPython.core.display' from '/Users/ryan/.pyenv/versions/ur-3.8.2/lib/python3.8/site-packages/IPython/core/display.py'>,\n",
       " 'IPython.core.page': <module 'IPython.core.page' from '/Users/ryan/.pyenv/versions/ur-3.8.2/lib/python3.8/site-packages/IPython/core/page.py'>,\n",
       " 'getpass': <module 'getpass' from '/Users/ryan/.pyenv/versions/3.8.2/lib/python3.8/getpass.py'>,\n",
       " 'IPython.lib.security': <module 'IPython.lib.security' from '/Users/ryan/.pyenv/versions/ur-3.8.2/lib/python3.8/site-packages/IPython/lib/security.py'>,\n",
       " 'IPython.lib': <module 'IPython.lib' from '/Users/ryan/.pyenv/versions/ur-3.8.2/lib/python3.8/site-packages/IPython/lib/__init__.py'>,\n",
       " '_datetime': <module '_datetime' from '/Users/ryan/.pyenv/versions/3.8.2/lib/python3.8/lib-dynload/_datetime.cpython-38-darwin.so'>,\n",
       " 'datetime': <module 'datetime' from '/Users/ryan/.pyenv/versions/3.8.2/lib/python3.8/datetime.py'>,\n",
       " 'IPython.lib.pretty': <module 'IPython.lib.pretty' from '/Users/ryan/.pyenv/versions/ur-3.8.2/lib/python3.8/site-packages/IPython/lib/pretty.py'>,\n",
       " 'IPython.utils.openpy': <module 'IPython.utils.openpy' from '/Users/ryan/.pyenv/versions/ur-3.8.2/lib/python3.8/site-packages/IPython/utils/openpy.py'>,\n",
       " 'IPython.utils.dir2': <module 'IPython.utils.dir2' from '/Users/ryan/.pyenv/versions/ur-3.8.2/lib/python3.8/site-packages/IPython/utils/dir2.py'>,\n",
       " 'IPython.utils.wildcard': <module 'IPython.utils.wildcard' from '/Users/ryan/.pyenv/versions/ur-3.8.2/lib/python3.8/site-packages/IPython/utils/wildcard.py'>,\n",
       " 'pygments.lexers._mapping': <module 'pygments.lexers._mapping' from '/Users/ryan/.pyenv/versions/ur-3.8.2/lib/python3.8/site-packages/pygments/lexers/_mapping.py'>,\n",
       " 'pygments.modeline': <module 'pygments.modeline' from '/Users/ryan/.pyenv/versions/ur-3.8.2/lib/python3.8/site-packages/pygments/modeline.py'>,\n",
       " 'pygments.plugin': <module 'pygments.plugin' from '/Users/ryan/.pyenv/versions/ur-3.8.2/lib/python3.8/site-packages/pygments/plugin.py'>,\n",
       " 'pygments.util': <module 'pygments.util' from '/Users/ryan/.pyenv/versions/ur-3.8.2/lib/python3.8/site-packages/pygments/util.py'>,\n",
       " 'pygments.lexers': <module 'pygments.lexers' from '/Users/ryan/.pyenv/versions/ur-3.8.2/lib/python3.8/site-packages/pygments/lexers/__init__.py'>,\n",
       " 'pygments.filter': <module 'pygments.filter' from '/Users/ryan/.pyenv/versions/ur-3.8.2/lib/python3.8/site-packages/pygments/filter.py'>,\n",
       " 'pygments.token': <module 'pygments.token' from '/Users/ryan/.pyenv/versions/ur-3.8.2/lib/python3.8/site-packages/pygments/token.py'>,\n",
       " 'pygments.filters': <module 'pygments.filters' from '/Users/ryan/.pyenv/versions/ur-3.8.2/lib/python3.8/site-packages/pygments/filters/__init__.py'>,\n",
       " 'pygments.regexopt': <module 'pygments.regexopt' from '/Users/ryan/.pyenv/versions/ur-3.8.2/lib/python3.8/site-packages/pygments/regexopt.py'>,\n",
       " 'pygments.lexer': <module 'pygments.lexer' from '/Users/ryan/.pyenv/versions/ur-3.8.2/lib/python3.8/site-packages/pygments/lexer.py'>,\n",
       " 'pygments.unistring': <module 'pygments.unistring' from '/Users/ryan/.pyenv/versions/ur-3.8.2/lib/python3.8/site-packages/pygments/unistring.py'>,\n",
       " 'pygments.lexers.python': <module 'pygments.lexers.python' from '/Users/ryan/.pyenv/versions/ur-3.8.2/lib/python3.8/site-packages/pygments/lexers/python.py'>,\n",
       " 'pygments.formatters._mapping': <module 'pygments.formatters._mapping' from '/Users/ryan/.pyenv/versions/ur-3.8.2/lib/python3.8/site-packages/pygments/formatters/_mapping.py'>,\n",
       " 'pygments.formatters': <module 'pygments.formatters' from '/Users/ryan/.pyenv/versions/ur-3.8.2/lib/python3.8/site-packages/pygments/formatters/__init__.py'>,\n",
       " 'pygments.styles': <module 'pygments.styles' from '/Users/ryan/.pyenv/versions/ur-3.8.2/lib/python3.8/site-packages/pygments/styles/__init__.py'>,\n",
       " 'pygments.formatter': <module 'pygments.formatter' from '/Users/ryan/.pyenv/versions/ur-3.8.2/lib/python3.8/site-packages/pygments/formatter.py'>,\n",
       " 'pygments.formatters.html': <module 'pygments.formatters.html' from '/Users/ryan/.pyenv/versions/ur-3.8.2/lib/python3.8/site-packages/pygments/formatters/html.py'>,\n",
       " 'IPython.core.oinspect': <module 'IPython.core.oinspect' from '/Users/ryan/.pyenv/versions/ur-3.8.2/lib/python3.8/site-packages/IPython/core/oinspect.py'>,\n",
       " 'IPython.core.inputtransformer2': <module 'IPython.core.inputtransformer2' from '/Users/ryan/.pyenv/versions/ur-3.8.2/lib/python3.8/site-packages/IPython/core/inputtransformer2.py'>,\n",
       " 'IPython.core.magic': <module 'IPython.core.magic' from '/Users/ryan/.pyenv/versions/ur-3.8.2/lib/python3.8/site-packages/IPython/core/magic.py'>,\n",
       " '_compat_pickle': <module '_compat_pickle' from '/Users/ryan/.pyenv/versions/3.8.2/lib/python3.8/_compat_pickle.py'>,\n",
       " '_pickle': <module '_pickle' from '/Users/ryan/.pyenv/versions/3.8.2/lib/python3.8/lib-dynload/_pickle.cpython-38-darwin.so'>,\n",
       " 'pickle': <module 'pickle' from '/Users/ryan/.pyenv/versions/3.8.2/lib/python3.8/pickle.py'>,\n",
       " 'pickleshare': <module 'pickleshare' from '/Users/ryan/.pyenv/versions/ur-3.8.2/lib/python3.8/site-packages/pickleshare.py'>,\n",
       " 'IPython.core.autocall': <module 'IPython.core.autocall' from '/Users/ryan/.pyenv/versions/ur-3.8.2/lib/python3.8/site-packages/IPython/core/autocall.py'>,\n",
       " 'IPython.core.macro': <module 'IPython.core.macro' from '/Users/ryan/.pyenv/versions/ur-3.8.2/lib/python3.8/site-packages/IPython/core/macro.py'>,\n",
       " 'IPython.core.splitinput': <module 'IPython.core.splitinput' from '/Users/ryan/.pyenv/versions/ur-3.8.2/lib/python3.8/site-packages/IPython/core/splitinput.py'>,\n",
       " 'IPython.core.prefilter': <module 'IPython.core.prefilter' from '/Users/ryan/.pyenv/versions/ur-3.8.2/lib/python3.8/site-packages/IPython/core/prefilter.py'>,\n",
       " 'IPython.core.alias': <module 'IPython.core.alias' from '/Users/ryan/.pyenv/versions/ur-3.8.2/lib/python3.8/site-packages/IPython/core/alias.py'>,\n",
       " 'IPython.core.builtin_trap': <module 'IPython.core.builtin_trap' from '/Users/ryan/.pyenv/versions/ur-3.8.2/lib/python3.8/site-packages/IPython/core/builtin_trap.py'>,\n",
       " 'backcall.backcall': <module 'backcall.backcall' from '/Users/ryan/.pyenv/versions/ur-3.8.2/lib/python3.8/site-packages/backcall/backcall.py'>,\n",
       " 'backcall': <module 'backcall' from '/Users/ryan/.pyenv/versions/ur-3.8.2/lib/python3.8/site-packages/backcall/__init__.py'>,\n",
       " 'IPython.core.events': <module 'IPython.core.events' from '/Users/ryan/.pyenv/versions/ur-3.8.2/lib/python3.8/site-packages/IPython/core/events.py'>,\n",
       " 'IPython.core.displayhook': <module 'IPython.core.displayhook' from '/Users/ryan/.pyenv/versions/ur-3.8.2/lib/python3.8/site-packages/IPython/core/displayhook.py'>,\n",
       " 'IPython.core.displaypub': <module 'IPython.core.displaypub' from '/Users/ryan/.pyenv/versions/ur-3.8.2/lib/python3.8/site-packages/IPython/core/displaypub.py'>,\n",
       " 'IPython.core.extensions': <module 'IPython.core.extensions' from '/Users/ryan/.pyenv/versions/ur-3.8.2/lib/python3.8/site-packages/IPython/core/extensions.py'>,\n",
       " 'IPython.utils.sentinel': <module 'IPython.utils.sentinel' from '/Users/ryan/.pyenv/versions/ur-3.8.2/lib/python3.8/site-packages/IPython/utils/sentinel.py'>,\n",
       " 'IPython.core.formatters': <module 'IPython.core.formatters' from '/Users/ryan/.pyenv/versions/ur-3.8.2/lib/python3.8/site-packages/IPython/core/formatters.py'>,\n",
       " '_sqlite3': <module '_sqlite3' from '/Users/ryan/.pyenv/versions/3.8.2/lib/python3.8/lib-dynload/_sqlite3.cpython-38-darwin.so'>,\n",
       " 'sqlite3.dbapi2': <module 'sqlite3.dbapi2' from '/Users/ryan/.pyenv/versions/3.8.2/lib/python3.8/sqlite3/dbapi2.py'>,\n",
       " 'sqlite3': <module 'sqlite3' from '/Users/ryan/.pyenv/versions/3.8.2/lib/python3.8/sqlite3/__init__.py'>,\n",
       " 'IPython.core.history': <module 'IPython.core.history' from '/Users/ryan/.pyenv/versions/ur-3.8.2/lib/python3.8/site-packages/IPython/core/history.py'>,\n",
       " 'IPython.core.logger': <module 'IPython.core.logger' from '/Users/ryan/.pyenv/versions/ur-3.8.2/lib/python3.8/site-packages/IPython/core/logger.py'>,\n",
       " 'IPython.core.payload': <module 'IPython.core.payload' from '/Users/ryan/.pyenv/versions/ur-3.8.2/lib/python3.8/site-packages/IPython/core/payload.py'>,\n",
       " 'IPython.core.usage': <module 'IPython.core.usage' from '/Users/ryan/.pyenv/versions/ur-3.8.2/lib/python3.8/site-packages/IPython/core/usage.py'>,\n",
       " 'html.entities': <module 'html.entities' from '/Users/ryan/.pyenv/versions/3.8.2/lib/python3.8/html/entities.py'>,\n",
       " 'html': <module 'html' from '/Users/ryan/.pyenv/versions/3.8.2/lib/python3.8/html/__init__.py'>,\n",
       " 'IPython.lib.display': <module 'IPython.lib.display' from '/Users/ryan/.pyenv/versions/ur-3.8.2/lib/python3.8/site-packages/IPython/lib/display.py'>,\n",
       " 'IPython.display': <module 'IPython.display' from '/Users/ryan/.pyenv/versions/ur-3.8.2/lib/python3.8/site-packages/IPython/display.py'>,\n",
       " 'IPython.utils.capture': <module 'IPython.utils.capture' from '/Users/ryan/.pyenv/versions/ur-3.8.2/lib/python3.8/site-packages/IPython/utils/capture.py'>,\n",
       " 'IPython.utils.io': <module 'IPython.utils.io' from '/Users/ryan/.pyenv/versions/ur-3.8.2/lib/python3.8/site-packages/IPython/utils/io.py'>,\n",
       " 'IPython.core.hooks': <module 'IPython.core.hooks' from '/Users/ryan/.pyenv/versions/ur-3.8.2/lib/python3.8/site-packages/IPython/core/hooks.py'>,\n",
       " 'IPython.utils.strdispatch': <module 'IPython.utils.strdispatch' from '/Users/ryan/.pyenv/versions/ur-3.8.2/lib/python3.8/site-packages/IPython/utils/strdispatch.py'>,\n",
       " 'IPython.utils.syspathcontext': <module 'IPython.utils.syspathcontext' from '/Users/ryan/.pyenv/versions/ur-3.8.2/lib/python3.8/site-packages/IPython/utils/syspathcontext.py'>,\n",
       " 'IPython.utils.tempdir': <module 'IPython.utils.tempdir' from '/Users/ryan/.pyenv/versions/ur-3.8.2/lib/python3.8/site-packages/IPython/utils/tempdir.py'>,\n",
       " 'IPython.utils.contexts': <module 'IPython.utils.contexts' from '/Users/ryan/.pyenv/versions/ur-3.8.2/lib/python3.8/site-packages/IPython/utils/contexts.py'>,\n",
       " 'IPython.core.async_helpers': <module 'IPython.core.async_helpers' from '/Users/ryan/.pyenv/versions/ur-3.8.2/lib/python3.8/site-packages/IPython/core/async_helpers.py'>,\n",
       " 'IPython.core.interactiveshell': <module 'IPython.core.interactiveshell' from '/Users/ryan/.pyenv/versions/ur-3.8.2/lib/python3.8/site-packages/IPython/core/interactiveshell.py'>,\n",
       " 'concurrent': <module 'concurrent' from '/Users/ryan/.pyenv/versions/3.8.2/lib/python3.8/concurrent/__init__.py'>,\n",
       " 'concurrent.futures._base': <module 'concurrent.futures._base' from '/Users/ryan/.pyenv/versions/3.8.2/lib/python3.8/concurrent/futures/_base.py'>,\n",
       " 'concurrent.futures': <module 'concurrent.futures' from '/Users/ryan/.pyenv/versions/3.8.2/lib/python3.8/concurrent/futures/__init__.py'>,\n",
       " '_socket': <module '_socket' from '/Users/ryan/.pyenv/versions/3.8.2/lib/python3.8/lib-dynload/_socket.cpython-38-darwin.so'>,\n",
       " 'socket': <module 'socket' from '/Users/ryan/.pyenv/versions/3.8.2/lib/python3.8/socket.py'>,\n",
       " '_ssl': <module '_ssl' from '/Users/ryan/.pyenv/versions/3.8.2/lib/python3.8/lib-dynload/_ssl.cpython-38-darwin.so'>,\n",
       " 'base64': <module 'base64' from '/Users/ryan/.pyenv/versions/3.8.2/lib/python3.8/base64.py'>,\n",
       " 'ssl': <module 'ssl' from '/Users/ryan/.pyenv/versions/3.8.2/lib/python3.8/ssl.py'>,\n",
       " 'asyncio.constants': <module 'asyncio.constants' from '/Users/ryan/.pyenv/versions/3.8.2/lib/python3.8/asyncio/constants.py'>,\n",
       " 'asyncio.format_helpers': <module 'asyncio.format_helpers' from '/Users/ryan/.pyenv/versions/3.8.2/lib/python3.8/asyncio/format_helpers.py'>,\n",
       " 'asyncio.base_futures': <module 'asyncio.base_futures' from '/Users/ryan/.pyenv/versions/3.8.2/lib/python3.8/asyncio/base_futures.py'>,\n",
       " 'asyncio.log': <module 'asyncio.log' from '/Users/ryan/.pyenv/versions/3.8.2/lib/python3.8/asyncio/log.py'>,\n",
       " 'asyncio.coroutines': <module 'asyncio.coroutines' from '/Users/ryan/.pyenv/versions/3.8.2/lib/python3.8/asyncio/coroutines.py'>,\n",
       " '_contextvars': <module '_contextvars' from '/Users/ryan/.pyenv/versions/3.8.2/lib/python3.8/lib-dynload/_contextvars.cpython-38-darwin.so'>,\n",
       " 'contextvars': <module 'contextvars' from '/Users/ryan/.pyenv/versions/3.8.2/lib/python3.8/contextvars.py'>,\n",
       " 'asyncio.exceptions': <module 'asyncio.exceptions' from '/Users/ryan/.pyenv/versions/3.8.2/lib/python3.8/asyncio/exceptions.py'>,\n",
       " 'asyncio.base_tasks': <module 'asyncio.base_tasks' from '/Users/ryan/.pyenv/versions/3.8.2/lib/python3.8/asyncio/base_tasks.py'>,\n",
       " '_asyncio': <module '_asyncio' from '/Users/ryan/.pyenv/versions/3.8.2/lib/python3.8/lib-dynload/_asyncio.cpython-38-darwin.so'>,\n",
       " 'asyncio.events': <module 'asyncio.events' from '/Users/ryan/.pyenv/versions/3.8.2/lib/python3.8/asyncio/events.py'>,\n",
       " 'asyncio.futures': <module 'asyncio.futures' from '/Users/ryan/.pyenv/versions/3.8.2/lib/python3.8/asyncio/futures.py'>,\n",
       " 'asyncio.protocols': <module 'asyncio.protocols' from '/Users/ryan/.pyenv/versions/3.8.2/lib/python3.8/asyncio/protocols.py'>,\n",
       " 'asyncio.transports': <module 'asyncio.transports' from '/Users/ryan/.pyenv/versions/3.8.2/lib/python3.8/asyncio/transports.py'>,\n",
       " 'asyncio.sslproto': <module 'asyncio.sslproto' from '/Users/ryan/.pyenv/versions/3.8.2/lib/python3.8/asyncio/sslproto.py'>,\n",
       " 'asyncio.locks': <module 'asyncio.locks' from '/Users/ryan/.pyenv/versions/3.8.2/lib/python3.8/asyncio/locks.py'>,\n",
       " 'asyncio.tasks': <module 'asyncio.tasks' from '/Users/ryan/.pyenv/versions/3.8.2/lib/python3.8/asyncio/tasks.py'>,\n",
       " 'asyncio.staggered': <module 'asyncio.staggered' from '/Users/ryan/.pyenv/versions/3.8.2/lib/python3.8/asyncio/staggered.py'>,\n",
       " 'asyncio.trsock': <module 'asyncio.trsock' from '/Users/ryan/.pyenv/versions/3.8.2/lib/python3.8/asyncio/trsock.py'>,\n",
       " 'asyncio.base_events': <module 'asyncio.base_events' from '/Users/ryan/.pyenv/versions/3.8.2/lib/python3.8/asyncio/base_events.py'>,\n",
       " 'asyncio.runners': <module 'asyncio.runners' from '/Users/ryan/.pyenv/versions/3.8.2/lib/python3.8/asyncio/runners.py'>,\n",
       " 'asyncio.queues': <module 'asyncio.queues' from '/Users/ryan/.pyenv/versions/3.8.2/lib/python3.8/asyncio/queues.py'>,\n",
       " 'asyncio.streams': <module 'asyncio.streams' from '/Users/ryan/.pyenv/versions/3.8.2/lib/python3.8/asyncio/streams.py'>,\n",
       " 'asyncio.subprocess': <module 'asyncio.subprocess' from '/Users/ryan/.pyenv/versions/3.8.2/lib/python3.8/asyncio/subprocess.py'>,\n",
       " 'asyncio.base_subprocess': <module 'asyncio.base_subprocess' from '/Users/ryan/.pyenv/versions/3.8.2/lib/python3.8/asyncio/base_subprocess.py'>,\n",
       " 'asyncio.selector_events': <module 'asyncio.selector_events' from '/Users/ryan/.pyenv/versions/3.8.2/lib/python3.8/asyncio/selector_events.py'>,\n",
       " 'asyncio.unix_events': <module 'asyncio.unix_events' from '/Users/ryan/.pyenv/versions/3.8.2/lib/python3.8/asyncio/unix_events.py'>,\n",
       " 'asyncio': <module 'asyncio' from '/Users/ryan/.pyenv/versions/3.8.2/lib/python3.8/asyncio/__init__.py'>,\n",
       " 'prompt_toolkit.application.current': <module 'prompt_toolkit.application.current' from '/Users/ryan/.pyenv/versions/ur-3.8.2/lib/python3.8/site-packages/prompt_toolkit/application/current.py'>,\n",
       " 'prompt_toolkit.eventloop.utils': <module 'prompt_toolkit.eventloop.utils' from '/Users/ryan/.pyenv/versions/ur-3.8.2/lib/python3.8/site-packages/prompt_toolkit/eventloop/utils.py'>,\n",
       " 'prompt_toolkit.eventloop.async_generator': <module 'prompt_toolkit.eventloop.async_generator' from '/Users/ryan/.pyenv/versions/ur-3.8.2/lib/python3.8/site-packages/prompt_toolkit/eventloop/async_generator.py'>,\n",
       " 'wcwidth.table_wide': <module 'wcwidth.table_wide' from '/Users/ryan/.pyenv/versions/ur-3.8.2/lib/python3.8/site-packages/wcwidth/table_wide.py'>,\n",
       " 'wcwidth.table_zero': <module 'wcwidth.table_zero' from '/Users/ryan/.pyenv/versions/ur-3.8.2/lib/python3.8/site-packages/wcwidth/table_zero.py'>,\n",
       " 'wcwidth.wcwidth': <module 'wcwidth.wcwidth' from '/Users/ryan/.pyenv/versions/ur-3.8.2/lib/python3.8/site-packages/wcwidth/wcwidth.py'>,\n",
       " 'wcwidth': <module 'wcwidth' from '/Users/ryan/.pyenv/versions/ur-3.8.2/lib/python3.8/site-packages/wcwidth/__init__.py'>,\n",
       " 'prompt_toolkit.utils': <module 'prompt_toolkit.utils' from '/Users/ryan/.pyenv/versions/ur-3.8.2/lib/python3.8/site-packages/prompt_toolkit/utils.py'>,\n",
       " 'prompt_toolkit.eventloop.inputhook': <module 'prompt_toolkit.eventloop.inputhook' from '/Users/ryan/.pyenv/versions/ur-3.8.2/lib/python3.8/site-packages/prompt_toolkit/eventloop/inputhook.py'>,\n",
       " 'prompt_toolkit.eventloop': <module 'prompt_toolkit.eventloop' from '/Users/ryan/.pyenv/versions/ur-3.8.2/lib/python3.8/site-packages/prompt_toolkit/eventloop/__init__.py'>,\n",
       " 'prompt_toolkit.application.run_in_terminal': <module 'prompt_toolkit.application.run_in_terminal' from '/Users/ryan/.pyenv/versions/ur-3.8.2/lib/python3.8/site-packages/prompt_toolkit/application/run_in_terminal.py'>,\n",
       " 'prompt_toolkit.selection': <module 'prompt_toolkit.selection' from '/Users/ryan/.pyenv/versions/ur-3.8.2/lib/python3.8/site-packages/prompt_toolkit/selection.py'>,\n",
       " 'prompt_toolkit.clipboard.base': <module 'prompt_toolkit.clipboard.base' from '/Users/ryan/.pyenv/versions/ur-3.8.2/lib/python3.8/site-packages/prompt_toolkit/clipboard/base.py'>,\n",
       " 'prompt_toolkit.clipboard.in_memory': <module 'prompt_toolkit.clipboard.in_memory' from '/Users/ryan/.pyenv/versions/ur-3.8.2/lib/python3.8/site-packages/prompt_toolkit/clipboard/in_memory.py'>,\n",
       " 'prompt_toolkit.clipboard': <module 'prompt_toolkit.clipboard' from '/Users/ryan/.pyenv/versions/ur-3.8.2/lib/python3.8/site-packages/prompt_toolkit/clipboard/__init__.py'>,\n",
       " 'prompt_toolkit.cache': <module 'prompt_toolkit.cache' from '/Users/ryan/.pyenv/versions/ur-3.8.2/lib/python3.8/site-packages/prompt_toolkit/cache.py'>,\n",
       " 'prompt_toolkit.enums': <module 'prompt_toolkit.enums' from '/Users/ryan/.pyenv/versions/ur-3.8.2/lib/python3.8/site-packages/prompt_toolkit/enums.py'>,\n",
       " 'prompt_toolkit.filters.base': <module 'prompt_toolkit.filters.base' from '/Users/ryan/.pyenv/versions/ur-3.8.2/lib/python3.8/site-packages/prompt_toolkit/filters/base.py'>,\n",
       " 'prompt_toolkit.filters.app': <module 'prompt_toolkit.filters.app' from '/Users/ryan/.pyenv/versions/ur-3.8.2/lib/python3.8/site-packages/prompt_toolkit/filters/app.py'>,\n",
       " 'prompt_toolkit.filters.cli': <module 'prompt_toolkit.filters.cli' from '/Users/ryan/.pyenv/versions/ur-3.8.2/lib/python3.8/site-packages/prompt_toolkit/filters/cli.py'>,\n",
       " 'prompt_toolkit.filters.utils': <module 'prompt_toolkit.filters.utils' from '/Users/ryan/.pyenv/versions/ur-3.8.2/lib/python3.8/site-packages/prompt_toolkit/filters/utils.py'>,\n",
       " 'prompt_toolkit.filters': <module 'prompt_toolkit.filters' from '/Users/ryan/.pyenv/versions/ur-3.8.2/lib/python3.8/site-packages/prompt_toolkit/filters/__init__.py'>,\n",
       " 'prompt_toolkit.document': <module 'prompt_toolkit.document' from '/Users/ryan/.pyenv/versions/ur-3.8.2/lib/python3.8/site-packages/prompt_toolkit/document.py'>,\n",
       " 'prompt_toolkit.auto_suggest': <module 'prompt_toolkit.auto_suggest' from '/Users/ryan/.pyenv/versions/ur-3.8.2/lib/python3.8/site-packages/prompt_toolkit/auto_suggest.py'>,\n",
       " 'prompt_toolkit.data_structures': <module 'prompt_toolkit.data_structures' from '/Users/ryan/.pyenv/versions/ur-3.8.2/lib/python3.8/site-packages/prompt_toolkit/data_structures.py'>,\n",
       " 'prompt_toolkit.styles.base': <module 'prompt_toolkit.styles.base' from '/Users/ryan/.pyenv/versions/ur-3.8.2/lib/python3.8/site-packages/prompt_toolkit/styles/base.py'>,\n",
       " 'prompt_toolkit.styles.named_colors': <module 'prompt_toolkit.styles.named_colors' from '/Users/ryan/.pyenv/versions/ur-3.8.2/lib/python3.8/site-packages/prompt_toolkit/styles/named_colors.py'>,\n",
       " 'prompt_toolkit.styles.style': <module 'prompt_toolkit.styles.style' from '/Users/ryan/.pyenv/versions/ur-3.8.2/lib/python3.8/site-packages/prompt_toolkit/styles/style.py'>,\n",
       " 'prompt_toolkit.styles.defaults': <module 'prompt_toolkit.styles.defaults' from '/Users/ryan/.pyenv/versions/ur-3.8.2/lib/python3.8/site-packages/prompt_toolkit/styles/defaults.py'>,\n",
       " 'prompt_toolkit.styles.pygments': <module 'prompt_toolkit.styles.pygments' from '/Users/ryan/.pyenv/versions/ur-3.8.2/lib/python3.8/site-packages/prompt_toolkit/styles/pygments.py'>,\n",
       " 'colorsys': <module 'colorsys' from '/Users/ryan/.pyenv/versions/3.8.2/lib/python3.8/colorsys.py'>,\n",
       " 'prompt_toolkit.styles.style_transformation': <module 'prompt_toolkit.styles.style_transformation' from '/Users/ryan/.pyenv/versions/ur-3.8.2/lib/python3.8/site-packages/prompt_toolkit/styles/style_transformation.py'>,\n",
       " 'prompt_toolkit.styles': <module 'prompt_toolkit.styles' from '/Users/ryan/.pyenv/versions/ur-3.8.2/lib/python3.8/site-packages/prompt_toolkit/styles/__init__.py'>,\n",
       " 'prompt_toolkit.output.color_depth': <module 'prompt_toolkit.output.color_depth' from '/Users/ryan/.pyenv/versions/ur-3.8.2/lib/python3.8/site-packages/prompt_toolkit/output/color_depth.py'>,\n",
       " 'prompt_toolkit.output.base': <module 'prompt_toolkit.output.base' from '/Users/ryan/.pyenv/versions/ur-3.8.2/lib/python3.8/site-packages/prompt_toolkit/output/base.py'>,\n",
       " 'prompt_toolkit.patch_stdout': <module 'prompt_toolkit.patch_stdout' from '/Users/ryan/.pyenv/versions/ur-3.8.2/lib/python3.8/site-packages/prompt_toolkit/patch_stdout.py'>,\n",
       " 'prompt_toolkit.output.defaults': <module 'prompt_toolkit.output.defaults' from '/Users/ryan/.pyenv/versions/ur-3.8.2/lib/python3.8/site-packages/prompt_toolkit/output/defaults.py'>,\n",
       " 'prompt_toolkit.output': <module 'prompt_toolkit.output' from '/Users/ryan/.pyenv/versions/ur-3.8.2/lib/python3.8/site-packages/prompt_toolkit/output/__init__.py'>,\n",
       " 'array': <module 'array' from '/Users/ryan/.pyenv/versions/3.8.2/lib/python3.8/lib-dynload/array.cpython-38-darwin.so'>,\n",
       " 'prompt_toolkit.output.vt100': <module 'prompt_toolkit.output.vt100' from '/Users/ryan/.pyenv/versions/ur-3.8.2/lib/python3.8/site-packages/prompt_toolkit/output/vt100.py'>,\n",
       " 'prompt_toolkit.mouse_events': <module 'prompt_toolkit.mouse_events' from '/Users/ryan/.pyenv/versions/ur-3.8.2/lib/python3.8/site-packages/prompt_toolkit/mouse_events.py'>,\n",
       " 'prompt_toolkit.formatted_text.base': <module 'prompt_toolkit.formatted_text.base' from '/Users/ryan/.pyenv/versions/ur-3.8.2/lib/python3.8/site-packages/prompt_toolkit/formatted_text/base.py'>,\n",
       " 'prompt_toolkit.formatted_text.ansi': <module 'prompt_toolkit.formatted_text.ansi' from '/Users/ryan/.pyenv/versions/ur-3.8.2/lib/python3.8/site-packages/prompt_toolkit/formatted_text/ansi.py'>,\n",
       " 'xml': <module 'xml' from '/Users/ryan/.pyenv/versions/3.8.2/lib/python3.8/xml/__init__.py'>,\n",
       " 'xml.dom.domreg': <module 'xml.dom.domreg' from '/Users/ryan/.pyenv/versions/3.8.2/lib/python3.8/xml/dom/domreg.py'>,\n",
       " 'xml.dom': <module 'xml.dom' from '/Users/ryan/.pyenv/versions/3.8.2/lib/python3.8/xml/dom/__init__.py'>,\n",
       " 'xml.dom.minicompat': <module 'xml.dom.minicompat' from '/Users/ryan/.pyenv/versions/3.8.2/lib/python3.8/xml/dom/minicompat.py'>,\n",
       " 'xml.dom.NodeFilter': <module 'xml.dom.NodeFilter' from '/Users/ryan/.pyenv/versions/3.8.2/lib/python3.8/xml/dom/NodeFilter.py'>,\n",
       " 'xml.dom.xmlbuilder': <module 'xml.dom.xmlbuilder' from '/Users/ryan/.pyenv/versions/3.8.2/lib/python3.8/xml/dom/xmlbuilder.py'>,\n",
       " 'xml.dom.minidom': <module 'xml.dom.minidom' from '/Users/ryan/.pyenv/versions/3.8.2/lib/python3.8/xml/dom/minidom.py'>,\n",
       " 'prompt_toolkit.formatted_text.html': <module 'prompt_toolkit.formatted_text.html' from '/Users/ryan/.pyenv/versions/ur-3.8.2/lib/python3.8/site-packages/prompt_toolkit/formatted_text/html.py'>,\n",
       " 'prompt_toolkit.formatted_text.pygments': <module 'prompt_toolkit.formatted_text.pygments' from '/Users/ryan/.pyenv/versions/ur-3.8.2/lib/python3.8/site-packages/prompt_toolkit/formatted_text/pygments.py'>,\n",
       " 'prompt_toolkit.formatted_text.utils': <module 'prompt_toolkit.formatted_text.utils' from '/Users/ryan/.pyenv/versions/ur-3.8.2/lib/python3.8/site-packages/prompt_toolkit/formatted_text/utils.py'>,\n",
       " 'prompt_toolkit.formatted_text': <module 'prompt_toolkit.formatted_text' from '/Users/ryan/.pyenv/versions/ur-3.8.2/lib/python3.8/site-packages/prompt_toolkit/formatted_text/__init__.py'>,\n",
       " 'prompt_toolkit.completion.base': <module 'prompt_toolkit.completion.base' from '/Users/ryan/.pyenv/versions/ur-3.8.2/lib/python3.8/site-packages/prompt_toolkit/completion/base.py'>,\n",
       " 'prompt_toolkit.completion.filesystem': <module 'prompt_toolkit.completion.filesystem' from '/Users/ryan/.pyenv/versions/ur-3.8.2/lib/python3.8/site-packages/prompt_toolkit/completion/filesystem.py'>,\n",
       " 'prompt_toolkit.completion.word_completer': <module 'prompt_toolkit.completion.word_completer' from '/Users/ryan/.pyenv/versions/ur-3.8.2/lib/python3.8/site-packages/prompt_toolkit/completion/word_completer.py'>,\n",
       " 'prompt_toolkit.completion.fuzzy_completer': <module 'prompt_toolkit.completion.fuzzy_completer' from '/Users/ryan/.pyenv/versions/ur-3.8.2/lib/python3.8/site-packages/prompt_toolkit/completion/fuzzy_completer.py'>,\n",
       " 'prompt_toolkit.completion.nested': <module 'prompt_toolkit.completion.nested' from '/Users/ryan/.pyenv/versions/ur-3.8.2/lib/python3.8/site-packages/prompt_toolkit/completion/nested.py'>,\n",
       " 'prompt_toolkit.completion': <module 'prompt_toolkit.completion' from '/Users/ryan/.pyenv/versions/ur-3.8.2/lib/python3.8/site-packages/prompt_toolkit/completion/__init__.py'>,\n",
       " 'prompt_toolkit.history': <module 'prompt_toolkit.history' from '/Users/ryan/.pyenv/versions/ur-3.8.2/lib/python3.8/site-packages/prompt_toolkit/history.py'>,\n",
       " 'prompt_toolkit.keys': <module 'prompt_toolkit.keys' from '/Users/ryan/.pyenv/versions/ur-3.8.2/lib/python3.8/site-packages/prompt_toolkit/keys.py'>,\n",
       " 'prompt_toolkit.key_binding.key_bindings': <module 'prompt_toolkit.key_binding.key_bindings' from '/Users/ryan/.pyenv/versions/ur-3.8.2/lib/python3.8/site-packages/prompt_toolkit/key_binding/key_bindings.py'>,\n",
       " 'prompt_toolkit.key_binding.key_processor': <module 'prompt_toolkit.key_binding.key_processor' from '/Users/ryan/.pyenv/versions/ur-3.8.2/lib/python3.8/site-packages/prompt_toolkit/key_binding/key_processor.py'>,\n",
       " 'prompt_toolkit.key_binding': <module 'prompt_toolkit.key_binding' from '/Users/ryan/.pyenv/versions/ur-3.8.2/lib/python3.8/site-packages/prompt_toolkit/key_binding/__init__.py'>,\n",
       " 'prompt_toolkit.key_binding.vi_state': <module 'prompt_toolkit.key_binding.vi_state' from '/Users/ryan/.pyenv/versions/ur-3.8.2/lib/python3.8/site-packages/prompt_toolkit/key_binding/vi_state.py'>,\n",
       " 'prompt_toolkit.search': <module 'prompt_toolkit.search' from '/Users/ryan/.pyenv/versions/ur-3.8.2/lib/python3.8/site-packages/prompt_toolkit/search.py'>,\n",
       " 'prompt_toolkit.validation': <module 'prompt_toolkit.validation' from '/Users/ryan/.pyenv/versions/ur-3.8.2/lib/python3.8/site-packages/prompt_toolkit/validation.py'>,\n",
       " 'prompt_toolkit.buffer': <module 'prompt_toolkit.buffer' from '/Users/ryan/.pyenv/versions/ur-3.8.2/lib/python3.8/site-packages/prompt_toolkit/buffer.py'>,\n",
       " 'prompt_toolkit.input.base': <module 'prompt_toolkit.input.base' from '/Users/ryan/.pyenv/versions/ur-3.8.2/lib/python3.8/site-packages/prompt_toolkit/input/base.py'>,\n",
       " 'prompt_toolkit.input.defaults': <module 'prompt_toolkit.input.defaults' from '/Users/ryan/.pyenv/versions/ur-3.8.2/lib/python3.8/site-packages/prompt_toolkit/input/defaults.py'>,\n",
       " 'prompt_toolkit.input': <module 'prompt_toolkit.input' from '/Users/ryan/.pyenv/versions/ur-3.8.2/lib/python3.8/site-packages/prompt_toolkit/input/__init__.py'>,\n",
       " 'prompt_toolkit.input.typeahead': <module 'prompt_toolkit.input.typeahead' from '/Users/ryan/.pyenv/versions/ur-3.8.2/lib/python3.8/site-packages/prompt_toolkit/input/typeahead.py'>,\n",
       " 'prompt_toolkit.key_binding.bindings': <module 'prompt_toolkit.key_binding.bindings' from '/Users/ryan/.pyenv/versions/ur-3.8.2/lib/python3.8/site-packages/prompt_toolkit/key_binding/bindings/__init__.py'>,\n",
       " 'prompt_toolkit.key_binding.bindings.scroll': <module 'prompt_toolkit.key_binding.bindings.scroll' from '/Users/ryan/.pyenv/versions/ur-3.8.2/lib/python3.8/site-packages/prompt_toolkit/key_binding/bindings/scroll.py'>,\n",
       " 'prompt_toolkit.key_binding.bindings.page_navigation': <module 'prompt_toolkit.key_binding.bindings.page_navigation' from '/Users/ryan/.pyenv/versions/ur-3.8.2/lib/python3.8/site-packages/prompt_toolkit/key_binding/bindings/page_navigation.py'>,\n",
       " 'prompt_toolkit.lexers.base': <module 'prompt_toolkit.lexers.base' from '/Users/ryan/.pyenv/versions/ur-3.8.2/lib/python3.8/site-packages/prompt_toolkit/lexers/base.py'>,\n",
       " 'prompt_toolkit.lexers.pygments': <module 'prompt_toolkit.lexers.pygments' from '/Users/ryan/.pyenv/versions/ur-3.8.2/lib/python3.8/site-packages/prompt_toolkit/lexers/pygments.py'>,\n",
       " 'prompt_toolkit.lexers': <module 'prompt_toolkit.lexers' from '/Users/ryan/.pyenv/versions/ur-3.8.2/lib/python3.8/site-packages/prompt_toolkit/lexers/__init__.py'>,\n",
       " 'prompt_toolkit.layout.utils': <module 'prompt_toolkit.layout.utils' from '/Users/ryan/.pyenv/versions/ur-3.8.2/lib/python3.8/site-packages/prompt_toolkit/layout/utils.py'>,\n",
       " 'prompt_toolkit.layout.processors': <module 'prompt_toolkit.layout.processors' from '/Users/ryan/.pyenv/versions/ur-3.8.2/lib/python3.8/site-packages/prompt_toolkit/layout/processors.py'>,\n",
       " 'prompt_toolkit.layout.controls': <module 'prompt_toolkit.layout.controls' from '/Users/ryan/.pyenv/versions/ur-3.8.2/lib/python3.8/site-packages/prompt_toolkit/layout/controls.py'>,\n",
       " 'prompt_toolkit.layout.dimension': <module 'prompt_toolkit.layout.dimension' from '/Users/ryan/.pyenv/versions/ur-3.8.2/lib/python3.8/site-packages/prompt_toolkit/layout/dimension.py'>,\n",
       " 'prompt_toolkit.layout.margins': <module 'prompt_toolkit.layout.margins' from '/Users/ryan/.pyenv/versions/ur-3.8.2/lib/python3.8/site-packages/prompt_toolkit/layout/margins.py'>,\n",
       " 'prompt_toolkit.layout.mouse_handlers': <module 'prompt_toolkit.layout.mouse_handlers' from '/Users/ryan/.pyenv/versions/ur-3.8.2/lib/python3.8/site-packages/prompt_toolkit/layout/mouse_handlers.py'>,\n",
       " 'prompt_toolkit.layout.screen': <module 'prompt_toolkit.layout.screen' from '/Users/ryan/.pyenv/versions/ur-3.8.2/lib/python3.8/site-packages/prompt_toolkit/layout/screen.py'>,\n",
       " 'prompt_toolkit.layout.containers': <module 'prompt_toolkit.layout.containers' from '/Users/ryan/.pyenv/versions/ur-3.8.2/lib/python3.8/site-packages/prompt_toolkit/layout/containers.py'>,\n",
       " 'prompt_toolkit.layout.layout': <module 'prompt_toolkit.layout.layout' from '/Users/ryan/.pyenv/versions/ur-3.8.2/lib/python3.8/site-packages/prompt_toolkit/layout/layout.py'>,\n",
       " 'prompt_toolkit.layout.menus': <module 'prompt_toolkit.layout.menus' from '/Users/ryan/.pyenv/versions/ur-3.8.2/lib/python3.8/site-packages/prompt_toolkit/layout/menus.py'>,\n",
       " 'prompt_toolkit.layout': <module 'prompt_toolkit.layout' from '/Users/ryan/.pyenv/versions/ur-3.8.2/lib/python3.8/site-packages/prompt_toolkit/layout/__init__.py'>,\n",
       " 'prompt_toolkit.key_binding.bindings.completion': <module 'prompt_toolkit.key_binding.bindings.completion' from '/Users/ryan/.pyenv/versions/ur-3.8.2/lib/python3.8/site-packages/prompt_toolkit/key_binding/bindings/completion.py'>,\n",
       " 'prompt_toolkit.key_binding.bindings.named_commands': <module 'prompt_toolkit.key_binding.bindings.named_commands' from '/Users/ryan/.pyenv/versions/ur-3.8.2/lib/python3.8/site-packages/prompt_toolkit/key_binding/bindings/named_commands.py'>,\n",
       " 'prompt_toolkit.key_binding.bindings.basic': <module 'prompt_toolkit.key_binding.bindings.basic' from '/Users/ryan/.pyenv/versions/ur-3.8.2/lib/python3.8/site-packages/prompt_toolkit/key_binding/bindings/basic.py'>,\n",
       " 'prompt_toolkit.key_binding.bindings.cpr': <module 'prompt_toolkit.key_binding.bindings.cpr' from '/Users/ryan/.pyenv/versions/ur-3.8.2/lib/python3.8/site-packages/prompt_toolkit/key_binding/bindings/cpr.py'>,\n",
       " 'prompt_toolkit.key_binding.bindings.emacs': <module 'prompt_toolkit.key_binding.bindings.emacs' from '/Users/ryan/.pyenv/versions/ur-3.8.2/lib/python3.8/site-packages/prompt_toolkit/key_binding/bindings/emacs.py'>,\n",
       " 'prompt_toolkit.key_binding.bindings.mouse': <module 'prompt_toolkit.key_binding.bindings.mouse' from '/Users/ryan/.pyenv/versions/ur-3.8.2/lib/python3.8/site-packages/prompt_toolkit/key_binding/bindings/mouse.py'>,\n",
       " 'prompt_toolkit.input.ansi_escape_sequences': <module 'prompt_toolkit.input.ansi_escape_sequences' from '/Users/ryan/.pyenv/versions/ur-3.8.2/lib/python3.8/site-packages/prompt_toolkit/input/ansi_escape_sequences.py'>,\n",
       " 'prompt_toolkit.input.vt100_parser': <module 'prompt_toolkit.input.vt100_parser' from '/Users/ryan/.pyenv/versions/ur-3.8.2/lib/python3.8/site-packages/prompt_toolkit/input/vt100_parser.py'>,\n",
       " 'prompt_toolkit.key_binding.digraphs': <module 'prompt_toolkit.key_binding.digraphs' from '/Users/ryan/.pyenv/versions/ur-3.8.2/lib/python3.8/site-packages/prompt_toolkit/key_binding/digraphs.py'>,\n",
       " 'prompt_toolkit.key_binding.bindings.vi': <module 'prompt_toolkit.key_binding.bindings.vi' from '/Users/ryan/.pyenv/versions/ur-3.8.2/lib/python3.8/site-packages/prompt_toolkit/key_binding/bindings/vi.py'>,\n",
       " 'prompt_toolkit.key_binding.defaults': <module 'prompt_toolkit.key_binding.defaults' from '/Users/ryan/.pyenv/versions/ur-3.8.2/lib/python3.8/site-packages/prompt_toolkit/key_binding/defaults.py'>,\n",
       " 'prompt_toolkit.key_binding.emacs_state': <module 'prompt_toolkit.key_binding.emacs_state' from '/Users/ryan/.pyenv/versions/ur-3.8.2/lib/python3.8/site-packages/prompt_toolkit/key_binding/emacs_state.py'>,\n",
       " 'prompt_toolkit.layout.dummy': <module 'prompt_toolkit.layout.dummy' from '/Users/ryan/.pyenv/versions/ur-3.8.2/lib/python3.8/site-packages/prompt_toolkit/layout/dummy.py'>,\n",
       " 'prompt_toolkit.renderer': <module 'prompt_toolkit.renderer' from '/Users/ryan/.pyenv/versions/ur-3.8.2/lib/python3.8/site-packages/prompt_toolkit/renderer.py'>,\n",
       " 'prompt_toolkit.application.application': <module 'prompt_toolkit.application.application' from '/Users/ryan/.pyenv/versions/ur-3.8.2/lib/python3.8/site-packages/prompt_toolkit/application/application.py'>,\n",
       " 'prompt_toolkit.application.dummy': <module 'prompt_toolkit.application.dummy' from '/Users/ryan/.pyenv/versions/ur-3.8.2/lib/python3.8/site-packages/prompt_toolkit/application/dummy.py'>,\n",
       " 'prompt_toolkit.application': <module 'prompt_toolkit.application' from '/Users/ryan/.pyenv/versions/ur-3.8.2/lib/python3.8/site-packages/prompt_toolkit/application/__init__.py'>,\n",
       " 'prompt_toolkit.key_binding.bindings.focus': <module 'prompt_toolkit.key_binding.bindings.focus' from '/Users/ryan/.pyenv/versions/ur-3.8.2/lib/python3.8/site-packages/prompt_toolkit/key_binding/bindings/focus.py'>,\n",
       " 'prompt_toolkit.widgets.toolbars': <module 'prompt_toolkit.widgets.toolbars' from '/Users/ryan/.pyenv/versions/ur-3.8.2/lib/python3.8/site-packages/prompt_toolkit/widgets/toolbars.py'>,\n",
       " 'prompt_toolkit.widgets.base': <module 'prompt_toolkit.widgets.base' from '/Users/ryan/.pyenv/versions/ur-3.8.2/lib/python3.8/site-packages/prompt_toolkit/widgets/base.py'>,\n",
       " 'prompt_toolkit.widgets.dialogs': <module 'prompt_toolkit.widgets.dialogs' from '/Users/ryan/.pyenv/versions/ur-3.8.2/lib/python3.8/site-packages/prompt_toolkit/widgets/dialogs.py'>,\n",
       " 'prompt_toolkit.widgets.menus': <module 'prompt_toolkit.widgets.menus' from '/Users/ryan/.pyenv/versions/ur-3.8.2/lib/python3.8/site-packages/prompt_toolkit/widgets/menus.py'>,\n",
       " 'prompt_toolkit.widgets': <module 'prompt_toolkit.widgets' from '/Users/ryan/.pyenv/versions/ur-3.8.2/lib/python3.8/site-packages/prompt_toolkit/widgets/__init__.py'>,\n",
       " 'prompt_toolkit.shortcuts.dialogs': <module 'prompt_toolkit.shortcuts.dialogs' from '/Users/ryan/.pyenv/versions/ur-3.8.2/lib/python3.8/site-packages/prompt_toolkit/shortcuts/dialogs.py'>,\n",
       " 'prompt_toolkit.shortcuts.progress_bar.formatters': <module 'prompt_toolkit.shortcuts.progress_bar.formatters' from '/Users/ryan/.pyenv/versions/ur-3.8.2/lib/python3.8/site-packages/prompt_toolkit/shortcuts/progress_bar/formatters.py'>,\n",
       " 'prompt_toolkit.shortcuts.progress_bar.base': <module 'prompt_toolkit.shortcuts.progress_bar.base' from '/Users/ryan/.pyenv/versions/ur-3.8.2/lib/python3.8/site-packages/prompt_toolkit/shortcuts/progress_bar/base.py'>,\n",
       " 'prompt_toolkit.shortcuts.progress_bar': <module 'prompt_toolkit.shortcuts.progress_bar' from '/Users/ryan/.pyenv/versions/ur-3.8.2/lib/python3.8/site-packages/prompt_toolkit/shortcuts/progress_bar/__init__.py'>,\n",
       " 'prompt_toolkit.key_binding.bindings.auto_suggest': <module 'prompt_toolkit.key_binding.bindings.auto_suggest' from '/Users/ryan/.pyenv/versions/ur-3.8.2/lib/python3.8/site-packages/prompt_toolkit/key_binding/bindings/auto_suggest.py'>,\n",
       " 'prompt_toolkit.key_binding.bindings.open_in_editor': <module 'prompt_toolkit.key_binding.bindings.open_in_editor' from '/Users/ryan/.pyenv/versions/ur-3.8.2/lib/python3.8/site-packages/prompt_toolkit/key_binding/bindings/open_in_editor.py'>,\n",
       " 'prompt_toolkit.shortcuts.prompt': <module 'prompt_toolkit.shortcuts.prompt' from '/Users/ryan/.pyenv/versions/ur-3.8.2/lib/python3.8/site-packages/prompt_toolkit/shortcuts/prompt.py'>,\n",
       " 'prompt_toolkit.shortcuts.utils': <module 'prompt_toolkit.shortcuts.utils' from '/Users/ryan/.pyenv/versions/ur-3.8.2/lib/python3.8/site-packages/prompt_toolkit/shortcuts/utils.py'>,\n",
       " 'prompt_toolkit.shortcuts': <module 'prompt_toolkit.shortcuts' from '/Users/ryan/.pyenv/versions/ur-3.8.2/lib/python3.8/site-packages/prompt_toolkit/shortcuts/__init__.py'>,\n",
       " 'prompt_toolkit': <module 'prompt_toolkit' from '/Users/ryan/.pyenv/versions/ur-3.8.2/lib/python3.8/site-packages/prompt_toolkit/__init__.py'>,\n",
       " 'pygments.style': <module 'pygments.style' from '/Users/ryan/.pyenv/versions/ur-3.8.2/lib/python3.8/site-packages/pygments/style.py'>,\n",
       " 'unicodedata': <module 'unicodedata' from '/Users/ryan/.pyenv/versions/3.8.2/lib/python3.8/lib-dynload/unicodedata.cpython-38-darwin.so'>,\n",
       " 'IPython.core.latex_symbols': <module 'IPython.core.latex_symbols' from '/Users/ryan/.pyenv/versions/ur-3.8.2/lib/python3.8/site-packages/IPython/core/latex_symbols.py'>,\n",
       " 'IPython.utils.generics': <module 'IPython.utils.generics' from '/Users/ryan/.pyenv/versions/ur-3.8.2/lib/python3.8/site-packages/IPython/utils/generics.py'>,\n",
       " 'parso._compatibility': <module 'parso._compatibility' from '/Users/ryan/.pyenv/versions/ur-3.8.2/lib/python3.8/site-packages/parso/_compatibility.py'>,\n",
       " 'parso.utils': <module 'parso.utils' from '/Users/ryan/.pyenv/versions/ur-3.8.2/lib/python3.8/site-packages/parso/utils.py'>,\n",
       " 'parso.tree': <module 'parso.tree' from '/Users/ryan/.pyenv/versions/ur-3.8.2/lib/python3.8/site-packages/parso/tree.py'>,\n",
       " 'parso.python': <module 'parso.python' from '/Users/ryan/.pyenv/versions/ur-3.8.2/lib/python3.8/site-packages/parso/python/__init__.py'>,\n",
       " 'parso.python.token': <module 'parso.python.token' from '/Users/ryan/.pyenv/versions/ur-3.8.2/lib/python3.8/site-packages/parso/python/token.py'>,\n",
       " 'parso.python.tokenize': <module 'parso.python.tokenize' from '/Users/ryan/.pyenv/versions/ur-3.8.2/lib/python3.8/site-packages/parso/python/tokenize.py'>,\n",
       " 'parso.pgen2.grammar_parser': <module 'parso.pgen2.grammar_parser' from '/Users/ryan/.pyenv/versions/ur-3.8.2/lib/python3.8/site-packages/parso/pgen2/grammar_parser.py'>,\n",
       " 'parso.pgen2.generator': <module 'parso.pgen2.generator' from '/Users/ryan/.pyenv/versions/ur-3.8.2/lib/python3.8/site-packages/parso/pgen2/generator.py'>,\n",
       " 'parso.pgen2': <module 'parso.pgen2' from '/Users/ryan/.pyenv/versions/ur-3.8.2/lib/python3.8/site-packages/parso/pgen2/__init__.py'>,\n",
       " 'parso.parser': <module 'parso.parser' from '/Users/ryan/.pyenv/versions/ur-3.8.2/lib/python3.8/site-packages/parso/parser.py'>,\n",
       " 'difflib': <module 'difflib' from '/Users/ryan/.pyenv/versions/3.8.2/lib/python3.8/difflib.py'>,\n",
       " 'parso.python.prefix': <module 'parso.python.prefix' from '/Users/ryan/.pyenv/versions/ur-3.8.2/lib/python3.8/site-packages/parso/python/prefix.py'>,\n",
       " 'parso.python.tree': <module 'parso.python.tree' from '/Users/ryan/.pyenv/versions/ur-3.8.2/lib/python3.8/site-packages/parso/python/tree.py'>,\n",
       " 'parso.python.parser': <module 'parso.python.parser' from '/Users/ryan/.pyenv/versions/ur-3.8.2/lib/python3.8/site-packages/parso/python/parser.py'>,\n",
       " 'parso.python.diff': <module 'parso.python.diff' from '/Users/ryan/.pyenv/versions/ur-3.8.2/lib/python3.8/site-packages/parso/python/diff.py'>,\n",
       " 'gc': <module 'gc' (built-in)>,\n",
       " 'parso.cache': <module 'parso.cache' from '/Users/ryan/.pyenv/versions/ur-3.8.2/lib/python3.8/site-packages/parso/cache.py'>,\n",
       " 'parso.normalizer': <module 'parso.normalizer' from '/Users/ryan/.pyenv/versions/ur-3.8.2/lib/python3.8/site-packages/parso/normalizer.py'>,\n",
       " 'parso.python.errors': <module 'parso.python.errors' from '/Users/ryan/.pyenv/versions/ur-3.8.2/lib/python3.8/site-packages/parso/python/errors.py'>,\n",
       " 'parso.python.pep8': <module 'parso.python.pep8' from '/Users/ryan/.pyenv/versions/ur-3.8.2/lib/python3.8/site-packages/parso/python/pep8.py'>,\n",
       " 'parso.file_io': <module 'parso.file_io' from '/Users/ryan/.pyenv/versions/ur-3.8.2/lib/python3.8/site-packages/parso/file_io.py'>,\n",
       " 'parso.grammar': <module 'parso.grammar' from '/Users/ryan/.pyenv/versions/ur-3.8.2/lib/python3.8/site-packages/parso/grammar.py'>,\n",
       " 'parso': <module 'parso' from '/Users/ryan/.pyenv/versions/ur-3.8.2/lib/python3.8/site-packages/parso/__init__.py'>,\n",
       " 'jedi.file_io': <module 'jedi.file_io' from '/Users/ryan/.pyenv/versions/ur-3.8.2/lib/python3.8/site-packages/jedi/file_io.py'>,\n",
       " '_queue': <module '_queue' from '/Users/ryan/.pyenv/versions/3.8.2/lib/python3.8/lib-dynload/_queue.cpython-38-darwin.so'>,\n",
       " 'queue': <module 'queue' from '/Users/ryan/.pyenv/versions/3.8.2/lib/python3.8/queue.py'>,\n",
       " 'jedi._compatibility': <module 'jedi._compatibility' from '/Users/ryan/.pyenv/versions/ur-3.8.2/lib/python3.8/site-packages/jedi/_compatibility.py'>,\n",
       " 'jedi.parser_utils': <module 'jedi.parser_utils' from '/Users/ryan/.pyenv/versions/ur-3.8.2/lib/python3.8/site-packages/jedi/parser_utils.py'>,\n",
       " 'colorama.ansi': <module 'colorama.ansi' from '/Users/ryan/.pyenv/versions/ur-3.8.2/lib/python3.8/site-packages/colorama/ansi.py'>,\n",
       " '_ctypes': <module '_ctypes' from '/Users/ryan/.pyenv/versions/3.8.2/lib/python3.8/lib-dynload/_ctypes.cpython-38-darwin.so'>,\n",
       " 'ctypes._endian': <module 'ctypes._endian' from '/Users/ryan/.pyenv/versions/3.8.2/lib/python3.8/ctypes/_endian.py'>,\n",
       " 'ctypes': <module 'ctypes' from '/Users/ryan/.pyenv/versions/3.8.2/lib/python3.8/ctypes/__init__.py'>,\n",
       " 'colorama.win32': <module 'colorama.win32' from '/Users/ryan/.pyenv/versions/ur-3.8.2/lib/python3.8/site-packages/colorama/win32.py'>,\n",
       " 'colorama.winterm': <module 'colorama.winterm' from '/Users/ryan/.pyenv/versions/ur-3.8.2/lib/python3.8/site-packages/colorama/winterm.py'>,\n",
       " 'colorama.ansitowin32': <module 'colorama.ansitowin32' from '/Users/ryan/.pyenv/versions/ur-3.8.2/lib/python3.8/site-packages/colorama/ansitowin32.py'>,\n",
       " 'colorama.initialise': <module 'colorama.initialise' from '/Users/ryan/.pyenv/versions/ur-3.8.2/lib/python3.8/site-packages/colorama/initialise.py'>,\n",
       " 'colorama': <module 'colorama' from '/Users/ryan/.pyenv/versions/ur-3.8.2/lib/python3.8/site-packages/colorama/__init__.py'>,\n",
       " 'jedi.debug': <module 'jedi.debug' from '/Users/ryan/.pyenv/versions/ur-3.8.2/lib/python3.8/site-packages/jedi/debug.py'>,\n",
       " 'jedi.settings': <module 'jedi.settings' from '/Users/ryan/.pyenv/versions/ur-3.8.2/lib/python3.8/site-packages/jedi/settings.py'>,\n",
       " 'jedi.cache': <module 'jedi.cache' from '/Users/ryan/.pyenv/versions/ur-3.8.2/lib/python3.8/site-packages/jedi/cache.py'>,\n",
       " 'jedi.inference.cache': <module 'jedi.inference.cache' from '/Users/ryan/.pyenv/versions/ur-3.8.2/lib/python3.8/site-packages/jedi/inference/cache.py'>,\n",
       " 'jedi.common.value': <module 'jedi.common.value' from '/Users/ryan/.pyenv/versions/ur-3.8.2/lib/python3.8/site-packages/jedi/common/value.py'>,\n",
       " 'jedi.common': <module 'jedi.common' from '/Users/ryan/.pyenv/versions/ur-3.8.2/lib/python3.8/site-packages/jedi/common/__init__.py'>,\n",
       " 'jedi.inference.helpers': <module 'jedi.inference.helpers' from '/Users/ryan/.pyenv/versions/ur-3.8.2/lib/python3.8/site-packages/jedi/inference/helpers.py'>,\n",
       " 'jedi.inference.utils': <module 'jedi.inference.utils' from '/Users/ryan/.pyenv/versions/ur-3.8.2/lib/python3.8/site-packages/jedi/inference/utils.py'>,\n",
       " 'jedi.inference.base_value': <module 'jedi.inference.base_value' from '/Users/ryan/.pyenv/versions/ur-3.8.2/lib/python3.8/site-packages/jedi/inference/base_value.py'>,\n",
       " 'jedi.common.utils': <module 'jedi.common.utils' from '/Users/ryan/.pyenv/versions/ur-3.8.2/lib/python3.8/site-packages/jedi/common/utils.py'>,\n",
       " 'jedi.inference.sys_path': <module 'jedi.inference.sys_path' from '/Users/ryan/.pyenv/versions/ur-3.8.2/lib/python3.8/site-packages/jedi/inference/sys_path.py'>,\n",
       " 'jedi.inference.recursion': <module 'jedi.inference.recursion' from '/Users/ryan/.pyenv/versions/ur-3.8.2/lib/python3.8/site-packages/jedi/inference/recursion.py'>,\n",
       " 'jedi.inference.flow_analysis': <module 'jedi.inference.flow_analysis' from '/Users/ryan/.pyenv/versions/ur-3.8.2/lib/python3.8/site-packages/jedi/inference/flow_analysis.py'>,\n",
       " 'jedi.inference.lazy_value': <module 'jedi.inference.lazy_value' from '/Users/ryan/.pyenv/versions/ur-3.8.2/lib/python3.8/site-packages/jedi/inference/lazy_value.py'>,\n",
       " 'jedi.inference.docstrings': <module 'jedi.inference.docstrings' from '/Users/ryan/.pyenv/versions/ur-3.8.2/lib/python3.8/site-packages/jedi/inference/docstrings.py'>,\n",
       " 'jedi.plugins': <module 'jedi.plugins' from '/Users/ryan/.pyenv/versions/ur-3.8.2/lib/python3.8/site-packages/jedi/plugins/__init__.py'>,\n",
       " 'jedi.inference.names': <module 'jedi.inference.names' from '/Users/ryan/.pyenv/versions/ur-3.8.2/lib/python3.8/site-packages/jedi/inference/names.py'>,\n",
       " 'jedi.inference.filters': <module 'jedi.inference.filters' from '/Users/ryan/.pyenv/versions/ur-3.8.2/lib/python3.8/site-packages/jedi/inference/filters.py'>,\n",
       " 'jedi.inference.compiled.getattr_static': <module 'jedi.inference.compiled.getattr_static' from '/Users/ryan/.pyenv/versions/ur-3.8.2/lib/python3.8/site-packages/jedi/inference/compiled/getattr_static.py'>,\n",
       " 'jedi.inference.compiled.access': <module 'jedi.inference.compiled.access' from '/Users/ryan/.pyenv/versions/ur-3.8.2/lib/python3.8/site-packages/jedi/inference/compiled/access.py'>,\n",
       " 'jedi.inference.signature': <module 'jedi.inference.signature' from '/Users/ryan/.pyenv/versions/ur-3.8.2/lib/python3.8/site-packages/jedi/inference/signature.py'>,\n",
       " 'jedi.inference.context': <module 'jedi.inference.context' from '/Users/ryan/.pyenv/versions/ur-3.8.2/lib/python3.8/site-packages/jedi/inference/context.py'>,\n",
       " 'jedi.inference.compiled.value': <module 'jedi.inference.compiled.value' from '/Users/ryan/.pyenv/versions/ur-3.8.2/lib/python3.8/site-packages/jedi/inference/compiled/value.py'>,\n",
       " 'jedi.inference.compiled': <module 'jedi.inference.compiled' from '/Users/ryan/.pyenv/versions/ur-3.8.2/lib/python3.8/site-packages/jedi/inference/compiled/__init__.py'>,\n",
       " 'jedi.inference.analysis': <module 'jedi.inference.analysis' from '/Users/ryan/.pyenv/versions/ur-3.8.2/lib/python3.8/site-packages/jedi/inference/analysis.py'>,\n",
       " 'jedi.inference.gradual': <module 'jedi.inference.gradual' from '/Users/ryan/.pyenv/versions/ur-3.8.2/lib/python3.8/site-packages/jedi/inference/gradual/__init__.py'>,\n",
       " 'jedi.inference.value.module': <module 'jedi.inference.value.module' from '/Users/ryan/.pyenv/versions/ur-3.8.2/lib/python3.8/site-packages/jedi/inference/value/module.py'>,\n",
       " 'jedi.inference.value.dynamic_arrays': <module 'jedi.inference.value.dynamic_arrays' from '/Users/ryan/.pyenv/versions/ur-3.8.2/lib/python3.8/site-packages/jedi/inference/value/dynamic_arrays.py'>,\n",
       " 'jedi.inference.value.iterable': <module 'jedi.inference.value.iterable' from '/Users/ryan/.pyenv/versions/ur-3.8.2/lib/python3.8/site-packages/jedi/inference/value/iterable.py'>,\n",
       " 'jedi.inference.arguments': <module 'jedi.inference.arguments' from '/Users/ryan/.pyenv/versions/ur-3.8.2/lib/python3.8/site-packages/jedi/inference/arguments.py'>,\n",
       " 'jedi.inference.parser_cache': <module 'jedi.inference.parser_cache' from '/Users/ryan/.pyenv/versions/ur-3.8.2/lib/python3.8/site-packages/jedi/inference/parser_cache.py'>,\n",
       " 'jedi.inference.gradual.generics': <module 'jedi.inference.gradual.generics' from '/Users/ryan/.pyenv/versions/ur-3.8.2/lib/python3.8/site-packages/jedi/inference/gradual/generics.py'>,\n",
       " 'jedi.inference.value.function': <module 'jedi.inference.value.function' from '/Users/ryan/.pyenv/versions/ur-3.8.2/lib/python3.8/site-packages/jedi/inference/value/function.py'>,\n",
       " 'jedi.inference.value.klass': <module 'jedi.inference.value.klass' from '/Users/ryan/.pyenv/versions/ur-3.8.2/lib/python3.8/site-packages/jedi/inference/value/klass.py'>,\n",
       " 'jedi.inference.value.instance': <module 'jedi.inference.value.instance' from '/Users/ryan/.pyenv/versions/ur-3.8.2/lib/python3.8/site-packages/jedi/inference/value/instance.py'>,\n",
       " 'jedi.inference.value': <module 'jedi.inference.value' from '/Users/ryan/.pyenv/versions/ur-3.8.2/lib/python3.8/site-packages/jedi/inference/value/__init__.py'>,\n",
       " 'jedi.inference.gradual.base': <module 'jedi.inference.gradual.base' from '/Users/ryan/.pyenv/versions/ur-3.8.2/lib/python3.8/site-packages/jedi/inference/gradual/base.py'>,\n",
       " 'jedi.inference.gradual.type_var': <module 'jedi.inference.gradual.type_var' from '/Users/ryan/.pyenv/versions/ur-3.8.2/lib/python3.8/site-packages/jedi/inference/gradual/type_var.py'>,\n",
       " 'jedi.inference.gradual.typing': <module 'jedi.inference.gradual.typing' from '/Users/ryan/.pyenv/versions/ur-3.8.2/lib/python3.8/site-packages/jedi/inference/gradual/typing.py'>,\n",
       " 'jedi.inference.gradual.stub_value': <module 'jedi.inference.gradual.stub_value' from '/Users/ryan/.pyenv/versions/ur-3.8.2/lib/python3.8/site-packages/jedi/inference/gradual/stub_value.py'>,\n",
       " 'jedi.inference.gradual.typeshed': <module 'jedi.inference.gradual.typeshed' from '/Users/ryan/.pyenv/versions/ur-3.8.2/lib/python3.8/site-packages/jedi/inference/gradual/typeshed.py'>,\n",
       " 'jedi.inference.imports': <module 'jedi.inference.imports' from '/Users/ryan/.pyenv/versions/ur-3.8.2/lib/python3.8/site-packages/jedi/inference/imports.py'>,\n",
       " 'jedi.inference.param': <module 'jedi.inference.param' from '/Users/ryan/.pyenv/versions/ur-3.8.2/lib/python3.8/site-packages/jedi/inference/param.py'>,\n",
       " 'jedi.inference.gradual.annotation': <module 'jedi.inference.gradual.annotation' from '/Users/ryan/.pyenv/versions/ur-3.8.2/lib/python3.8/site-packages/jedi/inference/gradual/annotation.py'>,\n",
       " 'jedi.inference.value.decorator': <module 'jedi.inference.value.decorator' from '/Users/ryan/.pyenv/versions/ur-3.8.2/lib/python3.8/site-packages/jedi/inference/value/decorator.py'>,\n",
       " 'jedi.inference.syntax_tree': <module 'jedi.inference.syntax_tree' from '/Users/ryan/.pyenv/versions/ur-3.8.2/lib/python3.8/site-packages/jedi/inference/syntax_tree.py'>,\n",
       " 'jedi.inference': <module 'jedi.inference' from '/Users/ryan/.pyenv/versions/ur-3.8.2/lib/python3.8/site-packages/jedi/inference/__init__.py'>,\n",
       " 'jedi.inference.gradual.conversion': <module 'jedi.inference.gradual.conversion' from '/Users/ryan/.pyenv/versions/ur-3.8.2/lib/python3.8/site-packages/jedi/inference/gradual/conversion.py'>,\n",
       " 'pydoc_data': <module 'pydoc_data' from '/Users/ryan/.pyenv/versions/3.8.2/lib/python3.8/pydoc_data/__init__.py'>,\n",
       " 'pydoc_data.topics': <module 'pydoc_data.topics' from '/Users/ryan/.pyenv/versions/3.8.2/lib/python3.8/pydoc_data/topics.py'>,\n",
       " 'jedi.api.keywords': <module 'jedi.api.keywords' from '/Users/ryan/.pyenv/versions/ur-3.8.2/lib/python3.8/site-packages/jedi/api/keywords.py'>,\n",
       " 'jedi.api.completion_cache': <module 'jedi.api.completion_cache' from '/Users/ryan/.pyenv/versions/ur-3.8.2/lib/python3.8/site-packages/jedi/api/completion_cache.py'>,\n",
       " 'jedi.api.helpers': <module 'jedi.api.helpers' from '/Users/ryan/.pyenv/versions/ur-3.8.2/lib/python3.8/site-packages/jedi/api/helpers.py'>,\n",
       " 'jedi.api.classes': <module 'jedi.api.classes' from '/Users/ryan/.pyenv/versions/ur-3.8.2/lib/python3.8/site-packages/jedi/api/classes.py'>,\n",
       " 'jedi.inference.compiled.mixed': <module 'jedi.inference.compiled.mixed' from '/Users/ryan/.pyenv/versions/ur-3.8.2/lib/python3.8/site-packages/jedi/inference/compiled/mixed.py'>,\n",
       " 'jedi.api.interpreter': <module 'jedi.api.interpreter' from '/Users/ryan/.pyenv/versions/ur-3.8.2/lib/python3.8/site-packages/jedi/api/interpreter.py'>,\n",
       " 'jedi.api.strings': <module 'jedi.api.strings' from '/Users/ryan/.pyenv/versions/ur-3.8.2/lib/python3.8/site-packages/jedi/api/strings.py'>,\n",
       " 'jedi.api.file_name': <module 'jedi.api.file_name' from '/Users/ryan/.pyenv/versions/ur-3.8.2/lib/python3.8/site-packages/jedi/api/file_name.py'>,\n",
       " 'jedi.api.completion': <module 'jedi.api.completion' from '/Users/ryan/.pyenv/versions/ur-3.8.2/lib/python3.8/site-packages/jedi/api/completion.py'>,\n",
       " 'filecmp': <module 'filecmp' from '/Users/ryan/.pyenv/versions/3.8.2/lib/python3.8/filecmp.py'>,\n",
       " 'jedi.inference.compiled.subprocess.functions': <module 'jedi.inference.compiled.subprocess.functions' from '/Users/ryan/.pyenv/versions/ur-3.8.2/lib/python3.8/site-packages/jedi/inference/compiled/subprocess/functions.py'>,\n",
       " 'jedi.api.exceptions': <module 'jedi.api.exceptions' from '/Users/ryan/.pyenv/versions/ur-3.8.2/lib/python3.8/site-packages/jedi/api/exceptions.py'>,\n",
       " 'jedi.inference.compiled.subprocess': <module 'jedi.inference.compiled.subprocess' from '/Users/ryan/.pyenv/versions/ur-3.8.2/lib/python3.8/site-packages/jedi/inference/compiled/subprocess/__init__.py'>,\n",
       " 'jedi.api.environment': <module 'jedi.api.environment' from '/Users/ryan/.pyenv/versions/ur-3.8.2/lib/python3.8/site-packages/jedi/api/environment.py'>,\n",
       " 'jedi.inference.references': <module 'jedi.inference.references' from '/Users/ryan/.pyenv/versions/ur-3.8.2/lib/python3.8/site-packages/jedi/inference/references.py'>,\n",
       " 'jedi.api.project': <module 'jedi.api.project' from '/Users/ryan/.pyenv/versions/ur-3.8.2/lib/python3.8/site-packages/jedi/api/project.py'>,\n",
       " 'jedi.api.errors': <module 'jedi.api.errors' from '/Users/ryan/.pyenv/versions/ur-3.8.2/lib/python3.8/site-packages/jedi/api/errors.py'>,\n",
       " 'jedi.api.refactoring': <module 'jedi.api.refactoring' from '/Users/ryan/.pyenv/versions/ur-3.8.2/lib/python3.8/site-packages/jedi/api/refactoring/__init__.py'>,\n",
       " 'jedi.api.refactoring.extract': <module 'jedi.api.refactoring.extract' from '/Users/ryan/.pyenv/versions/ur-3.8.2/lib/python3.8/site-packages/jedi/api/refactoring/extract.py'>,\n",
       " 'jedi.inference.gradual.utils': <module 'jedi.inference.gradual.utils' from '/Users/ryan/.pyenv/versions/ur-3.8.2/lib/python3.8/site-packages/jedi/inference/gradual/utils.py'>,\n",
       " 'jedi.api': <module 'jedi.api' from '/Users/ryan/.pyenv/versions/ur-3.8.2/lib/python3.8/site-packages/jedi/api/__init__.py'>,\n",
       " 'jedi.plugins.stdlib': <module 'jedi.plugins.stdlib' from '/Users/ryan/.pyenv/versions/ur-3.8.2/lib/python3.8/site-packages/jedi/plugins/stdlib.py'>,\n",
       " 'jedi.plugins.flask': <module 'jedi.plugins.flask' from '/Users/ryan/.pyenv/versions/ur-3.8.2/lib/python3.8/site-packages/jedi/plugins/flask.py'>,\n",
       " 'jedi.plugins.pytest': <module 'jedi.plugins.pytest' from '/Users/ryan/.pyenv/versions/ur-3.8.2/lib/python3.8/site-packages/jedi/plugins/pytest.py'>,\n",
       " 'jedi.plugins.registry': <module 'jedi.plugins.registry' from '/Users/ryan/.pyenv/versions/ur-3.8.2/lib/python3.8/site-packages/jedi/plugins/registry.py'>,\n",
       " 'jedi': <module 'jedi' from '/Users/ryan/.pyenv/versions/ur-3.8.2/lib/python3.8/site-packages/jedi/__init__.py'>,\n",
       " 'IPython.core.completer': <module 'IPython.core.completer' from '/Users/ryan/.pyenv/versions/ur-3.8.2/lib/python3.8/site-packages/IPython/core/completer.py'>,\n",
       " 'IPython.terminal.ptutils': <module 'IPython.terminal.ptutils' from '/Users/ryan/.pyenv/versions/ur-3.8.2/lib/python3.8/site-packages/IPython/terminal/ptutils.py'>,\n",
       " 'IPython.terminal.shortcuts': <module 'IPython.terminal.shortcuts' from '/Users/ryan/.pyenv/versions/ur-3.8.2/lib/python3.8/site-packages/IPython/terminal/shortcuts.py'>,\n",
       " 'IPython.terminal.debugger': <module 'IPython.terminal.debugger' from '/Users/ryan/.pyenv/versions/ur-3.8.2/lib/python3.8/site-packages/IPython/terminal/debugger.py'>,\n",
       " 'IPython.lib.clipboard': <module 'IPython.lib.clipboard' from '/Users/ryan/.pyenv/versions/ur-3.8.2/lib/python3.8/site-packages/IPython/lib/clipboard.py'>,\n",
       " 'IPython.terminal.magics': <module 'IPython.terminal.magics' from '/Users/ryan/.pyenv/versions/ur-3.8.2/lib/python3.8/site-packages/IPython/terminal/magics.py'>,\n",
       " 'IPython.terminal.pt_inputhooks': <module 'IPython.terminal.pt_inputhooks' from '/Users/ryan/.pyenv/versions/ur-3.8.2/lib/python3.8/site-packages/IPython/terminal/pt_inputhooks/__init__.py'>,\n",
       " 'IPython.terminal.prompts': <module 'IPython.terminal.prompts' from '/Users/ryan/.pyenv/versions/ur-3.8.2/lib/python3.8/site-packages/IPython/terminal/prompts.py'>,\n",
       " 'IPython.terminal.interactiveshell': <module 'IPython.terminal.interactiveshell' from '/Users/ryan/.pyenv/versions/ur-3.8.2/lib/python3.8/site-packages/IPython/terminal/interactiveshell.py'>,\n",
       " 'IPython.core.magics.auto': <module 'IPython.core.magics.auto' from '/Users/ryan/.pyenv/versions/ur-3.8.2/lib/python3.8/site-packages/IPython/core/magics/auto.py'>,\n",
       " 'IPython.core.magics.basic': <module 'IPython.core.magics.basic' from '/Users/ryan/.pyenv/versions/ur-3.8.2/lib/python3.8/site-packages/IPython/core/magics/basic.py'>,\n",
       " 'email': <module 'email' from '/Users/ryan/.pyenv/versions/3.8.2/lib/python3.8/email/__init__.py'>,\n",
       " 'http': <module 'http' from '/Users/ryan/.pyenv/versions/3.8.2/lib/python3.8/http/__init__.py'>,\n",
       " 'email.errors': <module 'email.errors' from '/Users/ryan/.pyenv/versions/3.8.2/lib/python3.8/email/errors.py'>,\n",
       " 'email.quoprimime': <module 'email.quoprimime' from '/Users/ryan/.pyenv/versions/3.8.2/lib/python3.8/email/quoprimime.py'>,\n",
       " 'email.base64mime': <module 'email.base64mime' from '/Users/ryan/.pyenv/versions/3.8.2/lib/python3.8/email/base64mime.py'>,\n",
       " 'quopri': <module 'quopri' from '/Users/ryan/.pyenv/versions/3.8.2/lib/python3.8/quopri.py'>,\n",
       " 'email.encoders': <module 'email.encoders' from '/Users/ryan/.pyenv/versions/3.8.2/lib/python3.8/email/encoders.py'>,\n",
       " 'email.charset': <module 'email.charset' from '/Users/ryan/.pyenv/versions/3.8.2/lib/python3.8/email/charset.py'>,\n",
       " 'email.header': <module 'email.header' from '/Users/ryan/.pyenv/versions/3.8.2/lib/python3.8/email/header.py'>,\n",
       " 'calendar': <module 'calendar' from '/Users/ryan/.pyenv/versions/3.8.2/lib/python3.8/calendar.py'>,\n",
       " 'email._parseaddr': <module 'email._parseaddr' from '/Users/ryan/.pyenv/versions/3.8.2/lib/python3.8/email/_parseaddr.py'>,\n",
       " 'email.utils': <module 'email.utils' from '/Users/ryan/.pyenv/versions/3.8.2/lib/python3.8/email/utils.py'>,\n",
       " 'email._policybase': <module 'email._policybase' from '/Users/ryan/.pyenv/versions/3.8.2/lib/python3.8/email/_policybase.py'>,\n",
       " 'email.feedparser': <module 'email.feedparser' from '/Users/ryan/.pyenv/versions/3.8.2/lib/python3.8/email/feedparser.py'>,\n",
       " 'email.parser': <module 'email.parser' from '/Users/ryan/.pyenv/versions/3.8.2/lib/python3.8/email/parser.py'>,\n",
       " 'uu': <module 'uu' from '/Users/ryan/.pyenv/versions/3.8.2/lib/python3.8/uu.py'>,\n",
       " 'email._encoded_words': <module 'email._encoded_words' from '/Users/ryan/.pyenv/versions/3.8.2/lib/python3.8/email/_encoded_words.py'>,\n",
       " 'email.iterators': <module 'email.iterators' from '/Users/ryan/.pyenv/versions/3.8.2/lib/python3.8/email/iterators.py'>,\n",
       " 'email.message': <module 'email.message' from '/Users/ryan/.pyenv/versions/3.8.2/lib/python3.8/email/message.py'>,\n",
       " 'http.client': <module 'http.client' from '/Users/ryan/.pyenv/versions/3.8.2/lib/python3.8/http/client.py'>,\n",
       " 'urllib.response': <module 'urllib.response' from '/Users/ryan/.pyenv/versions/3.8.2/lib/python3.8/urllib/response.py'>,\n",
       " 'urllib.error': <module 'urllib.error' from '/Users/ryan/.pyenv/versions/3.8.2/lib/python3.8/urllib/error.py'>,\n",
       " '_scproxy': <module '_scproxy' from '/Users/ryan/.pyenv/versions/3.8.2/lib/python3.8/lib-dynload/_scproxy.cpython-38-darwin.so'>,\n",
       " 'urllib.request': <module 'urllib.request' from '/Users/ryan/.pyenv/versions/3.8.2/lib/python3.8/urllib/request.py'>,\n",
       " 'IPython.core.magics.code': <module 'IPython.core.magics.code' from '/Users/ryan/.pyenv/versions/ur-3.8.2/lib/python3.8/site-packages/IPython/core/magics/code.py'>,\n",
       " 'IPython.core.magics.config': <module 'IPython.core.magics.config' from '/Users/ryan/.pyenv/versions/ur-3.8.2/lib/python3.8/site-packages/IPython/core/magics/config.py'>,\n",
       " 'IPython.core.magics.display': <module 'IPython.core.magics.display' from '/Users/ryan/.pyenv/versions/ur-3.8.2/lib/python3.8/site-packages/IPython/core/magics/display.py'>,\n",
       " 'timeit': <module 'timeit' from '/Users/ryan/.pyenv/versions/3.8.2/lib/python3.8/timeit.py'>,\n",
       " '_lsprof': <module '_lsprof' from '/Users/ryan/.pyenv/versions/3.8.2/lib/python3.8/lib-dynload/_lsprof.cpython-38-darwin.so'>,\n",
       " 'profile': <module 'profile' from '/Users/ryan/.pyenv/versions/3.8.2/lib/python3.8/profile.py'>,\n",
       " 'cProfile': <module 'cProfile' from '/Users/ryan/.pyenv/versions/3.8.2/lib/python3.8/cProfile.py'>,\n",
       " 'pstats': <module 'pstats' from '/Users/ryan/.pyenv/versions/3.8.2/lib/python3.8/pstats.py'>,\n",
       " 'IPython.utils.module_paths': <module 'IPython.utils.module_paths' from '/Users/ryan/.pyenv/versions/ur-3.8.2/lib/python3.8/site-packages/IPython/utils/module_paths.py'>,\n",
       " 'IPython.utils.timing': <module 'IPython.utils.timing' from '/Users/ryan/.pyenv/versions/ur-3.8.2/lib/python3.8/site-packages/IPython/utils/timing.py'>,\n",
       " 'IPython.core.magics.execution': <module 'IPython.core.magics.execution' from '/Users/ryan/.pyenv/versions/ur-3.8.2/lib/python3.8/site-packages/IPython/core/magics/execution.py'>,\n",
       " 'IPython.core.magics.extension': <module 'IPython.core.magics.extension' from '/Users/ryan/.pyenv/versions/ur-3.8.2/lib/python3.8/site-packages/IPython/core/magics/extension.py'>,\n",
       " 'IPython.core.magics.history': <module 'IPython.core.magics.history' from '/Users/ryan/.pyenv/versions/ur-3.8.2/lib/python3.8/site-packages/IPython/core/magics/history.py'>,\n",
       " 'IPython.core.magics.logging': <module 'IPython.core.magics.logging' from '/Users/ryan/.pyenv/versions/ur-3.8.2/lib/python3.8/site-packages/IPython/core/magics/logging.py'>,\n",
       " 'IPython.core.magics.namespace': <module 'IPython.core.magics.namespace' from '/Users/ryan/.pyenv/versions/ur-3.8.2/lib/python3.8/site-packages/IPython/core/magics/namespace.py'>,\n",
       " 'IPython.core.magics.osm': <module 'IPython.core.magics.osm' from '/Users/ryan/.pyenv/versions/ur-3.8.2/lib/python3.8/site-packages/IPython/core/magics/osm.py'>,\n",
       " 'IPython.core.magics.packaging': <module 'IPython.core.magics.packaging' from '/Users/ryan/.pyenv/versions/ur-3.8.2/lib/python3.8/site-packages/IPython/core/magics/packaging.py'>,\n",
       " 'IPython.core.pylabtools': <module 'IPython.core.pylabtools' from '/Users/ryan/.pyenv/versions/ur-3.8.2/lib/python3.8/site-packages/IPython/core/pylabtools.py'>,\n",
       " 'IPython.core.magics.pylab': <module 'IPython.core.magics.pylab' from '/Users/ryan/.pyenv/versions/ur-3.8.2/lib/python3.8/site-packages/IPython/core/magics/pylab.py'>,\n",
       " 'IPython.lib.backgroundjobs': <module 'IPython.lib.backgroundjobs' from '/Users/ryan/.pyenv/versions/ur-3.8.2/lib/python3.8/site-packages/IPython/lib/backgroundjobs.py'>,\n",
       " 'IPython.core.magics.script': <module 'IPython.core.magics.script' from '/Users/ryan/.pyenv/versions/ur-3.8.2/lib/python3.8/site-packages/IPython/core/magics/script.py'>,\n",
       " 'IPython.core.magics': <module 'IPython.core.magics' from '/Users/ryan/.pyenv/versions/ur-3.8.2/lib/python3.8/site-packages/IPython/core/magics/__init__.py'>,\n",
       " 'IPython.core.shellapp': <module 'IPython.core.shellapp' from '/Users/ryan/.pyenv/versions/ur-3.8.2/lib/python3.8/site-packages/IPython/core/shellapp.py'>,\n",
       " 'IPython.extensions': <module 'IPython.extensions' from '/Users/ryan/.pyenv/versions/ur-3.8.2/lib/python3.8/site-packages/IPython/extensions/__init__.py'>,\n",
       " 'IPython.extensions.storemagic': <module 'IPython.extensions.storemagic' from '/Users/ryan/.pyenv/versions/ur-3.8.2/lib/python3.8/site-packages/IPython/extensions/storemagic.py'>,\n",
       " 'IPython.terminal.ipapp': <module 'IPython.terminal.ipapp' from '/Users/ryan/.pyenv/versions/ur-3.8.2/lib/python3.8/site-packages/IPython/terminal/ipapp.py'>,\n",
       " 'IPython.terminal.embed': <module 'IPython.terminal.embed' from '/Users/ryan/.pyenv/versions/ur-3.8.2/lib/python3.8/site-packages/IPython/terminal/embed.py'>,\n",
       " 'IPython.utils.frame': <module 'IPython.utils.frame' from '/Users/ryan/.pyenv/versions/ur-3.8.2/lib/python3.8/site-packages/IPython/utils/frame.py'>,\n",
       " 'IPython': <module 'IPython' from '/Users/ryan/.pyenv/versions/ur-3.8.2/lib/python3.8/site-packages/IPython/__init__.py'>,\n",
       " 'jupyter_client._version': <module 'jupyter_client._version' from '/Users/ryan/.pyenv/versions/ur-3.8.2/lib/python3.8/site-packages/jupyter_client/_version.py'>,\n",
       " 'zmq.libzmq': <module 'zmq.libzmq' from '/Users/ryan/.pyenv/versions/ur-3.8.2/lib/python3.8/site-packages/zmq/libzmq.cpython-38-darwin.so'>,\n",
       " 'zmq.backend.select': <module 'zmq.backend.select' from '/Users/ryan/.pyenv/versions/ur-3.8.2/lib/python3.8/site-packages/zmq/backend/select.py'>,\n",
       " 'cython_runtime': <module 'cython_runtime'>,\n",
       " 'zmq.backend.cython.constants': <module 'zmq.backend.cython.constants' from '/Users/ryan/.pyenv/versions/ur-3.8.2/lib/python3.8/site-packages/zmq/backend/cython/constants.cpython-38-darwin.so'>,\n",
       " '_cython_0_29_17': <module '_cython_0_29_17'>,\n",
       " 'zmq.backend.cython.error': <module 'zmq.backend.cython.error' from '/Users/ryan/.pyenv/versions/ur-3.8.2/lib/python3.8/site-packages/zmq/backend/cython/error.cpython-38-darwin.so'>,\n",
       " 'zmq.error': <module 'zmq.error' from '/Users/ryan/.pyenv/versions/ur-3.8.2/lib/python3.8/site-packages/zmq/error.py'>,\n",
       " 'zmq.backend.cython.message': <module 'zmq.backend.cython.message' from '/Users/ryan/.pyenv/versions/ur-3.8.2/lib/python3.8/site-packages/zmq/backend/cython/message.cpython-38-darwin.so'>,\n",
       " 'zmq.backend.cython.context': <module 'zmq.backend.cython.context' from '/Users/ryan/.pyenv/versions/ur-3.8.2/lib/python3.8/site-packages/zmq/backend/cython/context.cpython-38-darwin.so'>,\n",
       " 'zmq.backend.cython.socket': <module 'zmq.backend.cython.socket' from '/Users/ryan/.pyenv/versions/ur-3.8.2/lib/python3.8/site-packages/zmq/backend/cython/socket.cpython-38-darwin.so'>,\n",
       " 'zmq.backend.cython.utils': <module 'zmq.backend.cython.utils' from '/Users/ryan/.pyenv/versions/ur-3.8.2/lib/python3.8/site-packages/zmq/backend/cython/utils.cpython-38-darwin.so'>,\n",
       " 'zmq.backend.cython._poll': <module 'zmq.backend.cython._poll' from '/Users/ryan/.pyenv/versions/ur-3.8.2/lib/python3.8/site-packages/zmq/backend/cython/_poll.cpython-38-darwin.so'>,\n",
       " 'zmq.backend.cython._version': <module 'zmq.backend.cython._version' from '/Users/ryan/.pyenv/versions/ur-3.8.2/lib/python3.8/site-packages/zmq/backend/cython/_version.cpython-38-darwin.so'>,\n",
       " 'zmq.backend.cython._device': <module 'zmq.backend.cython._device' from '/Users/ryan/.pyenv/versions/ur-3.8.2/lib/python3.8/site-packages/zmq/backend/cython/_device.cpython-38-darwin.so'>,\n",
       " 'zmq.backend.cython._proxy_steerable': <module 'zmq.backend.cython._proxy_steerable' from '/Users/ryan/.pyenv/versions/ur-3.8.2/lib/python3.8/site-packages/zmq/backend/cython/_proxy_steerable.cpython-38-darwin.so'>,\n",
       " 'zmq.backend.cython': <module 'zmq.backend.cython' from '/Users/ryan/.pyenv/versions/ur-3.8.2/lib/python3.8/site-packages/zmq/backend/cython/__init__.py'>,\n",
       " 'zmq.backend': <module 'zmq.backend' from '/Users/ryan/.pyenv/versions/ur-3.8.2/lib/python3.8/site-packages/zmq/backend/__init__.py'>,\n",
       " 'zmq.utils': <module 'zmq.utils' from '/Users/ryan/.pyenv/versions/ur-3.8.2/lib/python3.8/site-packages/zmq/utils/__init__.py'>,\n",
       " 'zmq.utils.constant_names': <module 'zmq.utils.constant_names' from '/Users/ryan/.pyenv/versions/ur-3.8.2/lib/python3.8/site-packages/zmq/utils/constant_names.py'>,\n",
       " 'zmq.sugar.constants': <module 'zmq.sugar.constants' from '/Users/ryan/.pyenv/versions/ur-3.8.2/lib/python3.8/site-packages/zmq/sugar/constants.py'>,\n",
       " 'zmq.sugar.attrsettr': <module 'zmq.sugar.attrsettr' from '/Users/ryan/.pyenv/versions/ur-3.8.2/lib/python3.8/site-packages/zmq/sugar/attrsettr.py'>,\n",
       " 'zmq.sugar.poll': <module 'zmq.sugar.poll' from '/Users/ryan/.pyenv/versions/ur-3.8.2/lib/python3.8/site-packages/zmq/sugar/poll.py'>,\n",
       " 'zmq.utils.strtypes': <module 'zmq.utils.strtypes' from '/Users/ryan/.pyenv/versions/ur-3.8.2/lib/python3.8/site-packages/zmq/utils/strtypes.py'>,\n",
       " 'zmq.utils.jsonapi': <module 'zmq.utils.jsonapi' from '/Users/ryan/.pyenv/versions/ur-3.8.2/lib/python3.8/site-packages/zmq/utils/jsonapi.py'>,\n",
       " 'zmq.sugar.socket': <module 'zmq.sugar.socket' from '/Users/ryan/.pyenv/versions/ur-3.8.2/lib/python3.8/site-packages/zmq/sugar/socket.py'>,\n",
       " 'zmq.sugar.context': <module 'zmq.sugar.context' from '/Users/ryan/.pyenv/versions/ur-3.8.2/lib/python3.8/site-packages/zmq/sugar/context.py'>,\n",
       " 'zmq.sugar.frame': <module 'zmq.sugar.frame' from '/Users/ryan/.pyenv/versions/ur-3.8.2/lib/python3.8/site-packages/zmq/sugar/frame.py'>,\n",
       " 'zmq.sugar.tracker': <module 'zmq.sugar.tracker' from '/Users/ryan/.pyenv/versions/ur-3.8.2/lib/python3.8/site-packages/zmq/sugar/tracker.py'>,\n",
       " 'zmq.sugar.version': <module 'zmq.sugar.version' from '/Users/ryan/.pyenv/versions/ur-3.8.2/lib/python3.8/site-packages/zmq/sugar/version.py'>,\n",
       " 'zmq.sugar.stopwatch': <module 'zmq.sugar.stopwatch' from '/Users/ryan/.pyenv/versions/ur-3.8.2/lib/python3.8/site-packages/zmq/sugar/stopwatch.py'>,\n",
       " 'zmq.sugar': <module 'zmq.sugar' from '/Users/ryan/.pyenv/versions/ur-3.8.2/lib/python3.8/site-packages/zmq/sugar/__init__.py'>,\n",
       " 'zmq': <module 'zmq' from '/Users/ryan/.pyenv/versions/ur-3.8.2/lib/python3.8/site-packages/zmq/__init__.py'>,\n",
       " 'jupyter_client.localinterfaces': <module 'jupyter_client.localinterfaces' from '/Users/ryan/.pyenv/versions/ur-3.8.2/lib/python3.8/site-packages/jupyter_client/localinterfaces.py'>,\n",
       " 'jupyter_core.version': <module 'jupyter_core.version' from '/Users/ryan/.pyenv/versions/ur-3.8.2/lib/python3.8/site-packages/jupyter_core/version.py'>,\n",
       " 'jupyter_core': <module 'jupyter_core' from '/Users/ryan/.pyenv/versions/ur-3.8.2/lib/python3.8/site-packages/jupyter_core/__init__.py'>,\n",
       " 'distutils': <module 'distutils' from '/Users/ryan/.pyenv/versions/3.8.2/lib/python3.8/distutils/__init__.py'>,\n",
       " 'distutils.errors': <module 'distutils.errors' from '/Users/ryan/.pyenv/versions/3.8.2/lib/python3.8/distutils/errors.py'>,\n",
       " 'distutils.dep_util': <module 'distutils.dep_util' from '/Users/ryan/.pyenv/versions/3.8.2/lib/python3.8/distutils/dep_util.py'>,\n",
       " 'distutils.debug': <module 'distutils.debug' from '/Users/ryan/.pyenv/versions/3.8.2/lib/python3.8/distutils/debug.py'>,\n",
       " 'distutils.log': <module 'distutils.log' from '/Users/ryan/.pyenv/versions/3.8.2/lib/python3.8/distutils/log.py'>,\n",
       " 'distutils.spawn': <module 'distutils.spawn' from '/Users/ryan/.pyenv/versions/3.8.2/lib/python3.8/distutils/spawn.py'>,\n",
       " 'distutils.util': <module 'distutils.util' from '/Users/ryan/.pyenv/versions/3.8.2/lib/python3.8/distutils/util.py'>,\n",
       " 'jupyter_core.paths': <module 'jupyter_core.paths' from '/Users/ryan/.pyenv/versions/ur-3.8.2/lib/python3.8/site-packages/jupyter_core/paths.py'>,\n",
       " 'jupyter_client.connect': <module 'jupyter_client.connect' from '/Users/ryan/.pyenv/versions/ur-3.8.2/lib/python3.8/site-packages/jupyter_client/connect.py'>,\n",
       " 'traitlets.log': <module 'traitlets.log' from '/Users/ryan/.pyenv/versions/ur-3.8.2/lib/python3.8/site-packages/traitlets/log.py'>,\n",
       " 'jupyter_client.launcher': <module 'jupyter_client.launcher' from '/Users/ryan/.pyenv/versions/ur-3.8.2/lib/python3.8/site-packages/jupyter_client/launcher.py'>,\n",
       " 'jupyter_client.channelsabc': <module 'jupyter_client.channelsabc' from '/Users/ryan/.pyenv/versions/ur-3.8.2/lib/python3.8/site-packages/jupyter_client/channelsabc.py'>,\n",
       " 'jupyter_client.channels': <module 'jupyter_client.channels' from '/Users/ryan/.pyenv/versions/ur-3.8.2/lib/python3.8/site-packages/jupyter_client/channels.py'>,\n",
       " 'jupyter_client.clientabc': <module 'jupyter_client.clientabc' from '/Users/ryan/.pyenv/versions/ur-3.8.2/lib/python3.8/site-packages/jupyter_client/clientabc.py'>,\n",
       " 'jupyter_client.client': <module 'jupyter_client.client' from '/Users/ryan/.pyenv/versions/ur-3.8.2/lib/python3.8/site-packages/jupyter_client/client.py'>,\n",
       " 'jupyter_client.kernelspec': <module 'jupyter_client.kernelspec' from '/Users/ryan/.pyenv/versions/ur-3.8.2/lib/python3.8/site-packages/jupyter_client/kernelspec.py'>,\n",
       " 'jupyter_client.managerabc': <module 'jupyter_client.managerabc' from '/Users/ryan/.pyenv/versions/ur-3.8.2/lib/python3.8/site-packages/jupyter_client/managerabc.py'>,\n",
       " 'jupyter_client.manager': <module 'jupyter_client.manager' from '/Users/ryan/.pyenv/versions/ur-3.8.2/lib/python3.8/site-packages/jupyter_client/manager.py'>,\n",
       " 'jupyter_client.blocking.channels': <module 'jupyter_client.blocking.channels' from '/Users/ryan/.pyenv/versions/ur-3.8.2/lib/python3.8/site-packages/jupyter_client/blocking/channels.py'>,\n",
       " 'jupyter_client.blocking.client': <module 'jupyter_client.blocking.client' from '/Users/ryan/.pyenv/versions/ur-3.8.2/lib/python3.8/site-packages/jupyter_client/blocking/client.py'>,\n",
       " 'jupyter_client.blocking': <module 'jupyter_client.blocking' from '/Users/ryan/.pyenv/versions/ur-3.8.2/lib/python3.8/site-packages/jupyter_client/blocking/__init__.py'>,\n",
       " 'zmq._future': <module 'zmq._future' from '/Users/ryan/.pyenv/versions/ur-3.8.2/lib/python3.8/site-packages/zmq/_future.py'>,\n",
       " 'zmq.asyncio': <module 'zmq.asyncio' from '/Users/ryan/.pyenv/versions/ur-3.8.2/lib/python3.8/site-packages/zmq/asyncio/__init__.py'>,\n",
       " 'jupyter_client.asynchronous.channels': <module 'jupyter_client.asynchronous.channels' from '/Users/ryan/.pyenv/versions/ur-3.8.2/lib/python3.8/site-packages/jupyter_client/asynchronous/channels.py'>,\n",
       " 'jupyter_client.asynchronous.client': <module 'jupyter_client.asynchronous.client' from '/Users/ryan/.pyenv/versions/ur-3.8.2/lib/python3.8/site-packages/jupyter_client/asynchronous/client.py'>,\n",
       " 'jupyter_client.asynchronous': <module 'jupyter_client.asynchronous' from '/Users/ryan/.pyenv/versions/ur-3.8.2/lib/python3.8/site-packages/jupyter_client/asynchronous/__init__.py'>,\n",
       " '_uuid': <module '_uuid' from '/Users/ryan/.pyenv/versions/3.8.2/lib/python3.8/lib-dynload/_uuid.cpython-38-darwin.so'>,\n",
       " 'uuid': <module 'uuid' from '/Users/ryan/.pyenv/versions/3.8.2/lib/python3.8/uuid.py'>,\n",
       " 'jupyter_client.multikernelmanager': <module 'jupyter_client.multikernelmanager' from '/Users/ryan/.pyenv/versions/ur-3.8.2/lib/python3.8/site-packages/jupyter_client/multikernelmanager.py'>,\n",
       " 'jupyter_client': <module 'jupyter_client' from '/Users/ryan/.pyenv/versions/ur-3.8.2/lib/python3.8/site-packages/jupyter_client/__init__.py'>,\n",
       " 'ipykernel.connect': <module 'ipykernel.connect' from '/Users/ryan/.pyenv/versions/ur-3.8.2/lib/python3.8/site-packages/ipykernel/connect.py'>,\n",
       " 'ipykernel': <module 'ipykernel' from '/Users/ryan/.pyenv/versions/ur-3.8.2/lib/python3.8/site-packages/ipykernel/__init__.py'>,\n",
       " 'tornado': <module 'tornado' from '/Users/ryan/.pyenv/versions/ur-3.8.2/lib/python3.8/site-packages/tornado/__init__.py'>,\n",
       " 'numbers': <module 'numbers' from '/Users/ryan/.pyenv/versions/3.8.2/lib/python3.8/numbers.py'>,\n",
       " 'logging.handlers': <module 'logging.handlers' from '/Users/ryan/.pyenv/versions/3.8.2/lib/python3.8/logging/handlers.py'>,\n",
       " 'tornado.speedups': <module 'tornado.speedups' from '/Users/ryan/.pyenv/versions/ur-3.8.2/lib/python3.8/site-packages/tornado/speedups.cpython-38-darwin.so'>,\n",
       " 'tornado.util': <module 'tornado.util' from '/Users/ryan/.pyenv/versions/ur-3.8.2/lib/python3.8/site-packages/tornado/util.py'>,\n",
       " 'tornado.escape': <module 'tornado.escape' from '/Users/ryan/.pyenv/versions/ur-3.8.2/lib/python3.8/site-packages/tornado/escape.py'>,\n",
       " '_curses': <module '_curses' from '/Users/ryan/.pyenv/versions/3.8.2/lib/python3.8/lib-dynload/_curses.cpython-38-darwin.so'>,\n",
       " 'curses': <module 'curses' from '/Users/ryan/.pyenv/versions/3.8.2/lib/python3.8/curses/__init__.py'>,\n",
       " 'tornado.log': <module 'tornado.log' from '/Users/ryan/.pyenv/versions/ur-3.8.2/lib/python3.8/site-packages/tornado/log.py'>,\n",
       " 'tornado.concurrent': <module 'tornado.concurrent' from '/Users/ryan/.pyenv/versions/ur-3.8.2/lib/python3.8/site-packages/tornado/concurrent.py'>,\n",
       " 'tornado.ioloop': <module 'tornado.ioloop' from '/Users/ryan/.pyenv/versions/ur-3.8.2/lib/python3.8/site-packages/tornado/ioloop.py'>,\n",
       " 'tornado.platform': <module 'tornado.platform' from '/Users/ryan/.pyenv/versions/ur-3.8.2/lib/python3.8/site-packages/tornado/platform/__init__.py'>,\n",
       " 'tornado.gen': <module 'tornado.gen' from '/Users/ryan/.pyenv/versions/ur-3.8.2/lib/python3.8/site-packages/tornado/gen.py'>,\n",
       " 'tornado.platform.asyncio': <module 'tornado.platform.asyncio' from '/Users/ryan/.pyenv/versions/ur-3.8.2/lib/python3.8/site-packages/tornado/platform/asyncio.py'>,\n",
       " 'zmq.eventloop.ioloop': <module 'zmq.eventloop.ioloop' from '/Users/ryan/.pyenv/versions/ur-3.8.2/lib/python3.8/site-packages/zmq/eventloop/ioloop.py'>,\n",
       " 'zmq.eventloop': <module 'zmq.eventloop' from '/Users/ryan/.pyenv/versions/ur-3.8.2/lib/python3.8/site-packages/zmq/eventloop/__init__.py'>,\n",
       " 'zmq.eventloop.zmqstream': <module 'zmq.eventloop.zmqstream' from '/Users/ryan/.pyenv/versions/ur-3.8.2/lib/python3.8/site-packages/zmq/eventloop/zmqstream.py'>,\n",
       " 'imp': <module 'imp' from '/Users/ryan/.pyenv/versions/3.8.2/lib/python3.8/imp.py'>,\n",
       " 'hmac': <module 'hmac' from '/Users/ryan/.pyenv/versions/3.8.2/lib/python3.8/hmac.py'>,\n",
       " 'dateutil._version': <module 'dateutil._version' from '/Users/ryan/.pyenv/versions/ur-3.8.2/lib/python3.8/site-packages/dateutil/_version.py'>,\n",
       " 'dateutil': <module 'dateutil' from '/Users/ryan/.pyenv/versions/ur-3.8.2/lib/python3.8/site-packages/dateutil/__init__.py'>,\n",
       " '_decimal': <module '_decimal' from '/Users/ryan/.pyenv/versions/3.8.2/lib/python3.8/lib-dynload/_decimal.cpython-38-darwin.so'>,\n",
       " 'decimal': <module 'decimal' from '/Users/ryan/.pyenv/versions/3.8.2/lib/python3.8/decimal.py'>,\n",
       " 'dateutil._common': <module 'dateutil._common' from '/Users/ryan/.pyenv/versions/ur-3.8.2/lib/python3.8/site-packages/dateutil/_common.py'>,\n",
       " 'dateutil.relativedelta': <module 'dateutil.relativedelta' from '/Users/ryan/.pyenv/versions/ur-3.8.2/lib/python3.8/site-packages/dateutil/relativedelta.py'>,\n",
       " 'six.moves': <module 'six.moves' (<six._SixMetaPathImporter object at 0x1026dfc40>)>,\n",
       " 'dateutil.tz._common': <module 'dateutil.tz._common' from '/Users/ryan/.pyenv/versions/ur-3.8.2/lib/python3.8/site-packages/dateutil/tz/_common.py'>,\n",
       " 'dateutil.tz._factories': <module 'dateutil.tz._factories' from '/Users/ryan/.pyenv/versions/ur-3.8.2/lib/python3.8/site-packages/dateutil/tz/_factories.py'>,\n",
       " 'dateutil.tz.tz': <module 'dateutil.tz.tz' from '/Users/ryan/.pyenv/versions/ur-3.8.2/lib/python3.8/site-packages/dateutil/tz/tz.py'>,\n",
       " 'dateutil.tz': <module 'dateutil.tz' from '/Users/ryan/.pyenv/versions/ur-3.8.2/lib/python3.8/site-packages/dateutil/tz/__init__.py'>,\n",
       " 'dateutil.parser._parser': <module 'dateutil.parser._parser' from '/Users/ryan/.pyenv/versions/ur-3.8.2/lib/python3.8/site-packages/dateutil/parser/_parser.py'>,\n",
       " 'dateutil.parser.isoparser': <module 'dateutil.parser.isoparser' from '/Users/ryan/.pyenv/versions/ur-3.8.2/lib/python3.8/site-packages/dateutil/parser/isoparser.py'>,\n",
       " 'dateutil.parser': <module 'dateutil.parser' from '/Users/ryan/.pyenv/versions/ur-3.8.2/lib/python3.8/site-packages/dateutil/parser/__init__.py'>,\n",
       " '_strptime': <module '_strptime' from '/Users/ryan/.pyenv/versions/3.8.2/lib/python3.8/_strptime.py'>,\n",
       " 'jupyter_client.jsonutil': <module 'jupyter_client.jsonutil' from '/Users/ryan/.pyenv/versions/ur-3.8.2/lib/python3.8/site-packages/jupyter_client/jsonutil.py'>,\n",
       " 'jupyter_client.adapter': <module 'jupyter_client.adapter' from '/Users/ryan/.pyenv/versions/ur-3.8.2/lib/python3.8/site-packages/jupyter_client/adapter.py'>,\n",
       " 'jupyter_client.session': <module 'jupyter_client.session' from '/Users/ryan/.pyenv/versions/ur-3.8.2/lib/python3.8/site-packages/jupyter_client/session.py'>,\n",
       " 'ipykernel.iostream': <module 'ipykernel.iostream' from '/Users/ryan/.pyenv/versions/ur-3.8.2/lib/python3.8/site-packages/ipykernel/iostream.py'>,\n",
       " 'ipykernel.heartbeat': <module 'ipykernel.heartbeat' from '/Users/ryan/.pyenv/versions/ur-3.8.2/lib/python3.8/site-packages/ipykernel/heartbeat.py'>,\n",
       " 'IPython.utils.tokenutil': <module 'IPython.utils.tokenutil' from '/Users/ryan/.pyenv/versions/ur-3.8.2/lib/python3.8/site-packages/IPython/utils/tokenutil.py'>,\n",
       " 'tornado.locks': <module 'tornado.locks' from '/Users/ryan/.pyenv/versions/ur-3.8.2/lib/python3.8/site-packages/tornado/locks.py'>,\n",
       " 'tornado.queues': <module 'tornado.queues' from '/Users/ryan/.pyenv/versions/ur-3.8.2/lib/python3.8/site-packages/tornado/queues.py'>,\n",
       " 'ipykernel.jsonutil': <module 'ipykernel.jsonutil' from '/Users/ryan/.pyenv/versions/ur-3.8.2/lib/python3.8/site-packages/ipykernel/jsonutil.py'>,\n",
       " 'ipykernel.kernelbase': <module 'ipykernel.kernelbase' from '/Users/ryan/.pyenv/versions/ur-3.8.2/lib/python3.8/site-packages/ipykernel/kernelbase.py'>,\n",
       " 'ipykernel.comm.comm': <module 'ipykernel.comm.comm' from '/Users/ryan/.pyenv/versions/ur-3.8.2/lib/python3.8/site-packages/ipykernel/comm/comm.py'>,\n",
       " 'ipykernel.comm.manager': <module 'ipykernel.comm.manager' from '/Users/ryan/.pyenv/versions/ur-3.8.2/lib/python3.8/site-packages/ipykernel/comm/manager.py'>,\n",
       " 'ipykernel.comm': <module 'ipykernel.comm' from '/Users/ryan/.pyenv/versions/ur-3.8.2/lib/python3.8/site-packages/ipykernel/comm/__init__.py'>,\n",
       " 'IPython.core.payloadpage': <module 'IPython.core.payloadpage' from '/Users/ryan/.pyenv/versions/ur-3.8.2/lib/python3.8/site-packages/IPython/core/payloadpage.py'>,\n",
       " 'ipykernel.displayhook': <module 'ipykernel.displayhook' from '/Users/ryan/.pyenv/versions/ur-3.8.2/lib/python3.8/site-packages/ipykernel/displayhook.py'>,\n",
       " 'ipykernel.zmqshell': <module 'ipykernel.zmqshell' from '/Users/ryan/.pyenv/versions/ur-3.8.2/lib/python3.8/site-packages/ipykernel/zmqshell.py'>,\n",
       " 'distutils.version': <module 'distutils.version' from '/Users/ryan/.pyenv/versions/3.8.2/lib/python3.8/distutils/version.py'>,\n",
       " 'ipykernel.eventloops': <module 'ipykernel.eventloops' from '/Users/ryan/.pyenv/versions/ur-3.8.2/lib/python3.8/site-packages/ipykernel/eventloops.py'>,\n",
       " 'ipykernel.ipkernel': <module 'ipykernel.ipkernel' from '/Users/ryan/.pyenv/versions/ur-3.8.2/lib/python3.8/site-packages/ipykernel/ipkernel.py'>,\n",
       " 'ipykernel.parentpoller': <module 'ipykernel.parentpoller' from '/Users/ryan/.pyenv/versions/ur-3.8.2/lib/python3.8/site-packages/ipykernel/parentpoller.py'>,\n",
       " 'ipykernel.kernelapp': <module 'ipykernel.kernelapp' from '/Users/ryan/.pyenv/versions/ur-3.8.2/lib/python3.8/site-packages/ipykernel/kernelapp.py'>,\n",
       " 'faulthandler': <module 'faulthandler' (built-in)>,\n",
       " 'ipykernel.codeutil': <module 'ipykernel.codeutil' from '/Users/ryan/.pyenv/versions/ur-3.8.2/lib/python3.8/site-packages/ipykernel/codeutil.py'>,\n",
       " 'ipykernel.pickleutil': <module 'ipykernel.pickleutil' from '/Users/ryan/.pyenv/versions/ur-3.8.2/lib/python3.8/site-packages/ipykernel/pickleutil.py'>,\n",
       " 'ipykernel.serialize': <module 'ipykernel.serialize' from '/Users/ryan/.pyenv/versions/ur-3.8.2/lib/python3.8/site-packages/ipykernel/serialize.py'>,\n",
       " 'ipykernel.datapub': <module 'ipykernel.datapub' from '/Users/ryan/.pyenv/versions/ur-3.8.2/lib/python3.8/site-packages/ipykernel/datapub.py'>,\n",
       " 'IPython.core.completerlib': <module 'IPython.core.completerlib' from '/Users/ryan/.pyenv/versions/ur-3.8.2/lib/python3.8/site-packages/IPython/core/completerlib.py'>,\n",
       " 'xml.parsers': <module 'xml.parsers' from '/Users/ryan/.pyenv/versions/3.8.2/lib/python3.8/xml/parsers/__init__.py'>,\n",
       " 'pyexpat.errors': <module 'pyexpat.errors'>,\n",
       " 'pyexpat.model': <module 'pyexpat.model'>,\n",
       " 'pyexpat': <module 'pyexpat' from '/Users/ryan/.pyenv/versions/3.8.2/lib/python3.8/lib-dynload/pyexpat.cpython-38-darwin.so'>,\n",
       " 'xml.parsers.expat.model': <module 'pyexpat.model'>,\n",
       " 'xml.parsers.expat.errors': <module 'pyexpat.errors'>,\n",
       " 'xml.parsers.expat': <module 'xml.parsers.expat' from '/Users/ryan/.pyenv/versions/3.8.2/lib/python3.8/xml/parsers/expat.py'>,\n",
       " 'plistlib': <module 'plistlib' from '/Users/ryan/.pyenv/versions/3.8.2/lib/python3.8/plistlib.py'>,\n",
       " 'ctypes.macholib': <module 'ctypes.macholib' from '/Users/ryan/.pyenv/versions/3.8.2/lib/python3.8/ctypes/macholib/__init__.py'>,\n",
       " 'ctypes.macholib.framework': <module 'ctypes.macholib.framework' from '/Users/ryan/.pyenv/versions/3.8.2/lib/python3.8/ctypes/macholib/framework.py'>,\n",
       " 'ctypes.macholib.dylib': <module 'ctypes.macholib.dylib' from '/Users/ryan/.pyenv/versions/3.8.2/lib/python3.8/ctypes/macholib/dylib.py'>,\n",
       " 'ctypes.macholib.dyld': <module 'ctypes.macholib.dyld' from '/Users/ryan/.pyenv/versions/3.8.2/lib/python3.8/ctypes/macholib/dyld.py'>,\n",
       " 'ctypes.util': <module 'ctypes.util' from '/Users/ryan/.pyenv/versions/3.8.2/lib/python3.8/ctypes/util.py'>,\n",
       " 'appnope._nope': <module 'appnope._nope' from '/Users/ryan/.pyenv/versions/ur-3.8.2/lib/python3.8/site-packages/appnope/_nope.py'>,\n",
       " 'appnope': <module 'appnope' from '/Users/ryan/.pyenv/versions/ur-3.8.2/lib/python3.8/site-packages/appnope/__init__.py'>,\n",
       " 'storemagic': <module 'storemagic' from '/Users/ryan/.pyenv/versions/ur-3.8.2/lib/python3.8/site-packages/IPython/extensions/storemagic.py'>,\n",
       " 'socketserver': <module 'socketserver' from '/Users/ryan/.pyenv/versions/3.8.2/lib/python3.8/socketserver.py'>,\n",
       " 'http.server': <module 'http.server' from '/Users/ryan/.pyenv/versions/3.8.2/lib/python3.8/http/server.py'>,\n",
       " 'opts': <module 'opts' from '/Users/ryan/c/ur/opts.py'>,\n",
       " 'nbformat._version': <module 'nbformat._version' from '/Users/ryan/.pyenv/versions/ur-3.8.2/lib/python3.8/site-packages/nbformat/_version.py'>,\n",
       " 'ipython_genutils.ipstruct': <module 'ipython_genutils.ipstruct' from '/Users/ryan/.pyenv/versions/ur-3.8.2/lib/python3.8/site-packages/ipython_genutils/ipstruct.py'>,\n",
       " 'nbformat.v1.nbbase': <module 'nbformat.v1.nbbase' from '/Users/ryan/.pyenv/versions/ur-3.8.2/lib/python3.8/site-packages/nbformat/v1/nbbase.py'>,\n",
       " 'nbformat.v1.rwbase': <module 'nbformat.v1.rwbase' from '/Users/ryan/.pyenv/versions/ur-3.8.2/lib/python3.8/site-packages/nbformat/v1/rwbase.py'>,\n",
       " 'nbformat.v1.nbjson': <module 'nbformat.v1.nbjson' from '/Users/ryan/.pyenv/versions/ur-3.8.2/lib/python3.8/site-packages/nbformat/v1/nbjson.py'>,\n",
       " 'nbformat.v1.convert': <module 'nbformat.v1.convert' from '/Users/ryan/.pyenv/versions/ur-3.8.2/lib/python3.8/site-packages/nbformat/v1/convert.py'>,\n",
       " 'nbformat.v1': <module 'nbformat.v1' from '/Users/ryan/.pyenv/versions/ur-3.8.2/lib/python3.8/site-packages/nbformat/v1/__init__.py'>,\n",
       " 'nbformat.v2.nbbase': <module 'nbformat.v2.nbbase' from '/Users/ryan/.pyenv/versions/ur-3.8.2/lib/python3.8/site-packages/nbformat/v2/nbbase.py'>,\n",
       " 'nbformat.v2.rwbase': <module 'nbformat.v2.rwbase' from '/Users/ryan/.pyenv/versions/ur-3.8.2/lib/python3.8/site-packages/nbformat/v2/rwbase.py'>,\n",
       " 'nbformat.v2.nbjson': <module 'nbformat.v2.nbjson' from '/Users/ryan/.pyenv/versions/ur-3.8.2/lib/python3.8/site-packages/nbformat/v2/nbjson.py'>,\n",
       " 'xml.etree': <module 'xml.etree' from '/Users/ryan/.pyenv/versions/3.8.2/lib/python3.8/xml/etree/__init__.py'>,\n",
       " 'xml.etree.ElementPath': <module 'xml.etree.ElementPath' from '/Users/ryan/.pyenv/versions/3.8.2/lib/python3.8/xml/etree/ElementPath.py'>,\n",
       " '_elementtree': <module '_elementtree' from '/Users/ryan/.pyenv/versions/3.8.2/lib/python3.8/lib-dynload/_elementtree.cpython-38-darwin.so'>,\n",
       " 'xml.etree.ElementTree': <module 'xml.etree.ElementTree' from '/Users/ryan/.pyenv/versions/3.8.2/lib/python3.8/xml/etree/ElementTree.py'>,\n",
       " 'nbformat.v2.nbxml': <module 'nbformat.v2.nbxml' from '/Users/ryan/.pyenv/versions/ur-3.8.2/lib/python3.8/site-packages/nbformat/v2/nbxml.py'>,\n",
       " 'nbformat.v2.nbpy': <module 'nbformat.v2.nbpy' from '/Users/ryan/.pyenv/versions/ur-3.8.2/lib/python3.8/site-packages/nbformat/v2/nbpy.py'>,\n",
       " 'nbformat.v2.convert': <module 'nbformat.v2.convert' from '/Users/ryan/.pyenv/versions/ur-3.8.2/lib/python3.8/site-packages/nbformat/v2/convert.py'>,\n",
       " 'nbformat.v2': <module 'nbformat.v2' from '/Users/ryan/.pyenv/versions/ur-3.8.2/lib/python3.8/site-packages/nbformat/v2/__init__.py'>,\n",
       " 'nbformat.v3.nbbase': <module 'nbformat.v3.nbbase' from '/Users/ryan/.pyenv/versions/ur-3.8.2/lib/python3.8/site-packages/nbformat/v3/nbbase.py'>,\n",
       " 'nbformat.v3.rwbase': <module 'nbformat.v3.rwbase' from '/Users/ryan/.pyenv/versions/ur-3.8.2/lib/python3.8/site-packages/nbformat/v3/rwbase.py'>,\n",
       " 'nbformat.v3.nbjson': <module 'nbformat.v3.nbjson' from '/Users/ryan/.pyenv/versions/ur-3.8.2/lib/python3.8/site-packages/nbformat/v3/nbjson.py'>,\n",
       " 'nbformat.v3.nbpy': <module 'nbformat.v3.nbpy' from '/Users/ryan/.pyenv/versions/ur-3.8.2/lib/python3.8/site-packages/nbformat/v3/nbpy.py'>,\n",
       " 'nbformat.v3.convert': <module 'nbformat.v3.convert' from '/Users/ryan/.pyenv/versions/ur-3.8.2/lib/python3.8/site-packages/nbformat/v3/convert.py'>,\n",
       " 'nbformat.v3': <module 'nbformat.v3' from '/Users/ryan/.pyenv/versions/ur-3.8.2/lib/python3.8/site-packages/nbformat/v3/__init__.py'>,\n",
       " 'nbformat.notebooknode': <module 'nbformat.notebooknode' from '/Users/ryan/.pyenv/versions/ur-3.8.2/lib/python3.8/site-packages/nbformat/notebooknode.py'>,\n",
       " 'nbformat.v4.nbbase': <module 'nbformat.v4.nbbase' from '/Users/ryan/.pyenv/versions/ur-3.8.2/lib/python3.8/site-packages/nbformat/v4/nbbase.py'>,\n",
       " 'nbformat.v4.rwbase': <module 'nbformat.v4.rwbase' from '/Users/ryan/.pyenv/versions/ur-3.8.2/lib/python3.8/site-packages/nbformat/v4/rwbase.py'>,\n",
       " 'nbformat.v4.nbjson': <module 'nbformat.v4.nbjson' from '/Users/ryan/.pyenv/versions/ur-3.8.2/lib/python3.8/site-packages/nbformat/v4/nbjson.py'>,\n",
       " 'nbformat.v4.convert': <module 'nbformat.v4.convert' from '/Users/ryan/.pyenv/versions/ur-3.8.2/lib/python3.8/site-packages/nbformat/v4/convert.py'>,\n",
       " 'nbformat.v4': <module 'nbformat.v4' from '/Users/ryan/.pyenv/versions/ur-3.8.2/lib/python3.8/site-packages/nbformat/v4/__init__.py'>,\n",
       " 'nbformat.sentinel': <module 'nbformat.sentinel' from '/Users/ryan/.pyenv/versions/ur-3.8.2/lib/python3.8/site-packages/nbformat/sentinel.py'>,\n",
       " 'attr._config': <module 'attr._config' from '/Users/ryan/.pyenv/versions/ur-3.8.2/lib/python3.8/site-packages/attr/_config.py'>,\n",
       " 'attr._compat': <module 'attr._compat' from '/Users/ryan/.pyenv/versions/ur-3.8.2/lib/python3.8/site-packages/attr/_compat.py'>,\n",
       " 'attr.exceptions': <module 'attr.exceptions' from '/Users/ryan/.pyenv/versions/ur-3.8.2/lib/python3.8/site-packages/attr/exceptions.py'>,\n",
       " 'attr._make': <module 'attr._make' from '/Users/ryan/.pyenv/versions/ur-3.8.2/lib/python3.8/site-packages/attr/_make.py'>,\n",
       " 'attr.converters': <module 'attr.converters' from '/Users/ryan/.pyenv/versions/ur-3.8.2/lib/python3.8/site-packages/attr/converters.py'>,\n",
       " 'attr.filters': <module 'attr.filters' from '/Users/ryan/.pyenv/versions/ur-3.8.2/lib/python3.8/site-packages/attr/filters.py'>,\n",
       " 'attr.validators': <module 'attr.validators' from '/Users/ryan/.pyenv/versions/ur-3.8.2/lib/python3.8/site-packages/attr/validators.py'>,\n",
       " 'attr._funcs': <module 'attr._funcs' from '/Users/ryan/.pyenv/versions/ur-3.8.2/lib/python3.8/site-packages/attr/_funcs.py'>,\n",
       " 'attr._version_info': <module 'attr._version_info' from '/Users/ryan/.pyenv/versions/ur-3.8.2/lib/python3.8/site-packages/attr/_version_info.py'>,\n",
       " 'attr': <module 'attr' from '/Users/ryan/.pyenv/versions/ur-3.8.2/lib/python3.8/site-packages/attr/__init__.py'>,\n",
       " 'jsonschema.compat': <module 'jsonschema.compat' from '/Users/ryan/.pyenv/versions/ur-3.8.2/lib/python3.8/site-packages/jsonschema/compat.py'>,\n",
       " 'jsonschema._utils': <module 'jsonschema._utils' from '/Users/ryan/.pyenv/versions/ur-3.8.2/lib/python3.8/site-packages/jsonschema/_utils.py'>,\n",
       " 'jsonschema.exceptions': <module 'jsonschema.exceptions' from '/Users/ryan/.pyenv/versions/ur-3.8.2/lib/python3.8/site-packages/jsonschema/exceptions.py'>,\n",
       " 'idna.package_data': <module 'idna.package_data' from '/Users/ryan/.pyenv/versions/ur-3.8.2/lib/python3.8/site-packages/idna/package_data.py'>,\n",
       " 'idna.idnadata': <module 'idna.idnadata' from '/Users/ryan/.pyenv/versions/ur-3.8.2/lib/python3.8/site-packages/idna/idnadata.py'>,\n",
       " 'idna.intranges': <module 'idna.intranges' from '/Users/ryan/.pyenv/versions/ur-3.8.2/lib/python3.8/site-packages/idna/intranges.py'>,\n",
       " 'idna.core': <module 'idna.core' from '/Users/ryan/.pyenv/versions/ur-3.8.2/lib/python3.8/site-packages/idna/core.py'>,\n",
       " 'idna': <module 'idna' from '/Users/ryan/.pyenv/versions/ur-3.8.2/lib/python3.8/site-packages/idna/__init__.py'>,\n",
       " 'jsonschema._format': <module 'jsonschema._format' from '/Users/ryan/.pyenv/versions/ur-3.8.2/lib/python3.8/site-packages/jsonschema/_format.py'>,\n",
       " 'pyrsistent._compat': <module 'pyrsistent._compat' from '/Users/ryan/.pyenv/versions/ur-3.8.2/lib/python3.8/site-packages/pyrsistent/_compat.py'>,\n",
       " 'pyrsistent._transformations': <module 'pyrsistent._transformations' from '/Users/ryan/.pyenv/versions/ur-3.8.2/lib/python3.8/site-packages/pyrsistent/_transformations.py'>,\n",
       " 'pvectorc': <module 'pvectorc' from '/Users/ryan/.pyenv/versions/ur-3.8.2/lib/python3.8/site-packages/pvectorc.cpython-38-darwin.so'>,\n",
       " 'pyrsistent._pvector': <module 'pyrsistent._pvector' from '/Users/ryan/.pyenv/versions/ur-3.8.2/lib/python3.8/site-packages/pyrsistent/_pvector.py'>,\n",
       " 'pyrsistent._pmap': <module 'pyrsistent._pmap' from '/Users/ryan/.pyenv/versions/ur-3.8.2/lib/python3.8/site-packages/pyrsistent/_pmap.py'>,\n",
       " 'pyrsistent._pset': <module 'pyrsistent._pset' from '/Users/ryan/.pyenv/versions/ur-3.8.2/lib/python3.8/site-packages/pyrsistent/_pset.py'>,\n",
       " 'pyrsistent._pbag': <module 'pyrsistent._pbag' from '/Users/ryan/.pyenv/versions/ur-3.8.2/lib/python3.8/site-packages/pyrsistent/_pbag.py'>,\n",
       " 'pyrsistent._plist': <module 'pyrsistent._plist' from '/Users/ryan/.pyenv/versions/ur-3.8.2/lib/python3.8/site-packages/pyrsistent/_plist.py'>,\n",
       " 'pyrsistent._pdeque': <module 'pyrsistent._pdeque' from '/Users/ryan/.pyenv/versions/ur-3.8.2/lib/python3.8/site-packages/pyrsistent/_pdeque.py'>,\n",
       " 'pyrsistent._checked_types': <module 'pyrsistent._checked_types' from '/Users/ryan/.pyenv/versions/ur-3.8.2/lib/python3.8/site-packages/pyrsistent/_checked_types.py'>,\n",
       " 'pyrsistent._field_common': <module 'pyrsistent._field_common' from '/Users/ryan/.pyenv/versions/ur-3.8.2/lib/python3.8/site-packages/pyrsistent/_field_common.py'>,\n",
       " 'pyrsistent._precord': <module 'pyrsistent._precord' from '/Users/ryan/.pyenv/versions/ur-3.8.2/lib/python3.8/site-packages/pyrsistent/_precord.py'>,\n",
       " 'pyrsistent._pclass': <module 'pyrsistent._pclass' from '/Users/ryan/.pyenv/versions/ur-3.8.2/lib/python3.8/site-packages/pyrsistent/_pclass.py'>,\n",
       " 'pyrsistent._immutable': <module 'pyrsistent._immutable' from '/Users/ryan/.pyenv/versions/ur-3.8.2/lib/python3.8/site-packages/pyrsistent/_immutable.py'>,\n",
       " 'pyrsistent._helpers': <module 'pyrsistent._helpers' from '/Users/ryan/.pyenv/versions/ur-3.8.2/lib/python3.8/site-packages/pyrsistent/_helpers.py'>,\n",
       " 'pyrsistent._toolz': <module 'pyrsistent._toolz' from '/Users/ryan/.pyenv/versions/ur-3.8.2/lib/python3.8/site-packages/pyrsistent/_toolz.py'>,\n",
       " 'pyrsistent': <module 'pyrsistent' from '/Users/ryan/.pyenv/versions/ur-3.8.2/lib/python3.8/site-packages/pyrsistent/__init__.py'>,\n",
       " 'jsonschema._types': <module 'jsonschema._types' from '/Users/ryan/.pyenv/versions/ur-3.8.2/lib/python3.8/site-packages/jsonschema/_types.py'>,\n",
       " 'jsonschema._legacy_validators': <module 'jsonschema._legacy_validators' from '/Users/ryan/.pyenv/versions/ur-3.8.2/lib/python3.8/site-packages/jsonschema/_legacy_validators.py'>,\n",
       " 'jsonschema._validators': <module 'jsonschema._validators' from '/Users/ryan/.pyenv/versions/ur-3.8.2/lib/python3.8/site-packages/jsonschema/_validators.py'>,\n",
       " 'jsonschema.validators': <module 'jsonschema.validators' from '/Users/ryan/.pyenv/versions/ur-3.8.2/lib/python3.8/site-packages/jsonschema/validators.py'>,\n",
       " '_csv': <module '_csv' from '/Users/ryan/.pyenv/versions/3.8.2/lib/python3.8/lib-dynload/_csv.cpython-38-darwin.so'>,\n",
       " 'csv': <module 'csv' from '/Users/ryan/.pyenv/versions/3.8.2/lib/python3.8/csv.py'>,\n",
       " 'zipfile': <module 'zipfile' from '/Users/ryan/.pyenv/versions/3.8.2/lib/python3.8/zipfile.py'>,\n",
       " 'configparser': <module 'configparser' from '/Users/ryan/.pyenv/versions/3.8.2/lib/python3.8/configparser.py'>,\n",
       " 'importlib.metadata': <module 'importlib.metadata' from '/Users/ryan/.pyenv/versions/3.8.2/lib/python3.8/importlib/metadata.py'>,\n",
       " 'jsonschema': <module 'jsonschema' from '/Users/ryan/.pyenv/versions/ur-3.8.2/lib/python3.8/site-packages/jsonschema/__init__.py'>,\n",
       " 'nbformat.validator': <module 'nbformat.validator' from '/Users/ryan/.pyenv/versions/ur-3.8.2/lib/python3.8/site-packages/nbformat/validator.py'>,\n",
       " 'nbformat.reader': <module 'nbformat.reader' from '/Users/ryan/.pyenv/versions/ur-3.8.2/lib/python3.8/site-packages/nbformat/reader.py'>,\n",
       " 'nbformat.converter': <module 'nbformat.converter' from '/Users/ryan/.pyenv/versions/ur-3.8.2/lib/python3.8/site-packages/nbformat/converter.py'>,\n",
       " 'nbformat': <module 'nbformat' from '/Users/ryan/.pyenv/versions/ur-3.8.2/lib/python3.8/site-packages/nbformat/__init__.py'>,\n",
       " 'cells': <module 'cells' from '/Users/ryan/c/ur/cells.py'>,\n",
       " 'mmap': <module 'mmap' from '/Users/ryan/.pyenv/versions/3.8.2/lib/python3.8/lib-dynload/mmap.cpython-38-darwin.so'>,\n",
       " 'smmap.util': <module 'smmap.util' from '/Users/ryan/.pyenv/versions/ur-3.8.2/lib/python3.8/site-packages/smmap/util.py'>,\n",
       " 'smmap.mman': <module 'smmap.mman' from '/Users/ryan/.pyenv/versions/ur-3.8.2/lib/python3.8/site-packages/smmap/mman.py'>,\n",
       " 'smmap.buf': <module 'smmap.buf' from '/Users/ryan/.pyenv/versions/ur-3.8.2/lib/python3.8/site-packages/smmap/buf.py'>,\n",
       " 'smmap': <module 'smmap' from '/Users/ryan/.pyenv/versions/ur-3.8.2/lib/python3.8/site-packages/smmap/__init__.py'>,\n",
       " 'gitdb.const': <module 'gitdb.const' from '/Users/ryan/.pyenv/versions/ur-3.8.2/lib/python3.8/site-packages/gitdb/const.py'>,\n",
       " 'gitdb.util': <module 'gitdb.util' from '/Users/ryan/.pyenv/versions/ur-3.8.2/lib/python3.8/site-packages/gitdb/util.py'>,\n",
       " 'gitdb.utils': <module 'gitdb.utils' from '/Users/ryan/.pyenv/versions/ur-3.8.2/lib/python3.8/site-packages/gitdb/utils/__init__.py'>,\n",
       " 'gitdb.utils.encoding': <module 'gitdb.utils.encoding' from '/Users/ryan/.pyenv/versions/ur-3.8.2/lib/python3.8/site-packages/gitdb/utils/encoding.py'>,\n",
       " 'gitdb.typ': <module 'gitdb.typ' from '/Users/ryan/.pyenv/versions/ur-3.8.2/lib/python3.8/site-packages/gitdb/typ.py'>,\n",
       " 'gitdb.fun': <module 'gitdb.fun' from '/Users/ryan/.pyenv/versions/ur-3.8.2/lib/python3.8/site-packages/gitdb/fun.py'>,\n",
       " 'gitdb.base': <module 'gitdb.base' from '/Users/ryan/.pyenv/versions/ur-3.8.2/lib/python3.8/site-packages/gitdb/base.py'>,\n",
       " 'gitdb.exc': <module 'gitdb.exc' from '/Users/ryan/.pyenv/versions/ur-3.8.2/lib/python3.8/site-packages/gitdb/exc.py'>,\n",
       " 'gitdb.db.base': <module 'gitdb.db.base' from '/Users/ryan/.pyenv/versions/ur-3.8.2/lib/python3.8/site-packages/gitdb/db/base.py'>,\n",
       " 'gitdb.stream': <module 'gitdb.stream' from '/Users/ryan/.pyenv/versions/ur-3.8.2/lib/python3.8/site-packages/gitdb/stream.py'>,\n",
       " 'gitdb.db.loose': <module 'gitdb.db.loose' from '/Users/ryan/.pyenv/versions/ur-3.8.2/lib/python3.8/site-packages/gitdb/db/loose.py'>,\n",
       " 'gitdb.db.mem': <module 'gitdb.db.mem' from '/Users/ryan/.pyenv/versions/ur-3.8.2/lib/python3.8/site-packages/gitdb/db/mem.py'>,\n",
       " 'gitdb.pack': <module 'gitdb.pack' from '/Users/ryan/.pyenv/versions/ur-3.8.2/lib/python3.8/site-packages/gitdb/pack.py'>,\n",
       " 'gitdb.db.pack': <module 'gitdb.db.pack' from '/Users/ryan/.pyenv/versions/ur-3.8.2/lib/python3.8/site-packages/gitdb/db/pack.py'>,\n",
       " 'gitdb.db.ref': <module 'gitdb.db.ref' from '/Users/ryan/.pyenv/versions/ur-3.8.2/lib/python3.8/site-packages/gitdb/db/ref.py'>,\n",
       " 'gitdb.db.git': <module 'gitdb.db.git' from '/Users/ryan/.pyenv/versions/ur-3.8.2/lib/python3.8/site-packages/gitdb/db/git.py'>,\n",
       " 'gitdb.db': <module 'gitdb.db' from '/Users/ryan/.pyenv/versions/ur-3.8.2/lib/python3.8/site-packages/gitdb/db/__init__.py'>,\n",
       " 'gitdb': <module 'gitdb' from '/Users/ryan/.pyenv/versions/ur-3.8.2/lib/python3.8/site-packages/gitdb/__init__.py'>,\n",
       " 'git.compat': <module 'git.compat' from '/Users/ryan/.pyenv/versions/ur-3.8.2/lib/python3.8/site-packages/git/compat.py'>,\n",
       " 'git.exc': <module 'git.exc' from '/Users/ryan/.pyenv/versions/ur-3.8.2/lib/python3.8/site-packages/git/exc.py'>,\n",
       " 'unittest.util': <module 'unittest.util' from '/Users/ryan/.pyenv/versions/3.8.2/lib/python3.8/unittest/util.py'>,\n",
       " 'unittest.result': <module 'unittest.result' from '/Users/ryan/.pyenv/versions/3.8.2/lib/python3.8/unittest/result.py'>,\n",
       " 'unittest.case': <module 'unittest.case' from '/Users/ryan/.pyenv/versions/3.8.2/lib/python3.8/unittest/case.py'>,\n",
       " 'unittest.async_case': <module 'unittest.async_case' from '/Users/ryan/.pyenv/versions/3.8.2/lib/python3.8/unittest/async_case.py'>,\n",
       " 'unittest.suite': <module 'unittest.suite' from '/Users/ryan/.pyenv/versions/3.8.2/lib/python3.8/unittest/suite.py'>,\n",
       " 'unittest.loader': <module 'unittest.loader' from '/Users/ryan/.pyenv/versions/3.8.2/lib/python3.8/unittest/loader.py'>,\n",
       " 'unittest.signals': <module 'unittest.signals' from '/Users/ryan/.pyenv/versions/3.8.2/lib/python3.8/unittest/signals.py'>,\n",
       " 'unittest.runner': <module 'unittest.runner' from '/Users/ryan/.pyenv/versions/3.8.2/lib/python3.8/unittest/runner.py'>,\n",
       " 'unittest.main': <module 'unittest.main' from '/Users/ryan/.pyenv/versions/3.8.2/lib/python3.8/unittest/main.py'>,\n",
       " 'unittest': <module 'unittest' from '/Users/ryan/.pyenv/versions/3.8.2/lib/python3.8/unittest/__init__.py'>,\n",
       " 'git.util': <module 'git.util' from '/Users/ryan/.pyenv/versions/ur-3.8.2/lib/python3.8/site-packages/git/util.py'>,\n",
       " 'git.config': <module 'git.config' from '/Users/ryan/.pyenv/versions/ur-3.8.2/lib/python3.8/site-packages/git/config.py'>,\n",
       " 'git.objects.util': <module 'git.objects.util' from '/Users/ryan/.pyenv/versions/ur-3.8.2/lib/python3.8/site-packages/git/objects/util.py'>,\n",
       " 'git.objects.base': <module 'git.objects.base' from '/Users/ryan/.pyenv/versions/ur-3.8.2/lib/python3.8/site-packages/git/objects/base.py'>,\n",
       " 'git.objects.blob': <module 'git.objects.blob' from '/Users/ryan/.pyenv/versions/ur-3.8.2/lib/python3.8/site-packages/git/objects/blob.py'>,\n",
       " 'git.cmd': <module 'git.cmd' from '/Users/ryan/.pyenv/versions/ur-3.8.2/lib/python3.8/site-packages/git/cmd.py'>,\n",
       " 'git.diff': <module 'git.diff' from '/Users/ryan/.pyenv/versions/ur-3.8.2/lib/python3.8/site-packages/git/diff.py'>,\n",
       " 'git.objects.submodule': <module 'git.objects.submodule' from '/Users/ryan/.pyenv/versions/ur-3.8.2/lib/python3.8/site-packages/git/objects/submodule/__init__.py'>,\n",
       " 'git.objects.submodule.util': <module 'git.objects.submodule.util' from '/Users/ryan/.pyenv/versions/ur-3.8.2/lib/python3.8/site-packages/git/objects/submodule/util.py'>,\n",
       " 'git.objects.submodule.base': <module 'git.objects.submodule.base' from '/Users/ryan/.pyenv/versions/ur-3.8.2/lib/python3.8/site-packages/git/objects/submodule/base.py'>,\n",
       " 'git.objects.fun': <module 'git.objects.fun' from '/Users/ryan/.pyenv/versions/ur-3.8.2/lib/python3.8/site-packages/git/objects/fun.py'>,\n",
       " 'git.objects.tree': <module 'git.objects.tree' from '/Users/ryan/.pyenv/versions/ur-3.8.2/lib/python3.8/site-packages/git/objects/tree.py'>,\n",
       " 'git.objects.commit': <module 'git.objects.commit' from '/Users/ryan/.pyenv/versions/ur-3.8.2/lib/python3.8/site-packages/git/objects/commit.py'>,\n",
       " 'git.objects.submodule.root': <module 'git.objects.submodule.root' from '/Users/ryan/.pyenv/versions/ur-3.8.2/lib/python3.8/site-packages/git/objects/submodule/root.py'>,\n",
       " 'git.objects.tag': <module 'git.objects.tag' from '/Users/ryan/.pyenv/versions/ur-3.8.2/lib/python3.8/site-packages/git/objects/tag.py'>,\n",
       " 'git.objects': <module 'git.objects' from '/Users/ryan/.pyenv/versions/ur-3.8.2/lib/python3.8/site-packages/git/objects/__init__.py'>,\n",
       " 'git.refs.log': <module 'git.refs.log' from '/Users/ryan/.pyenv/versions/ur-3.8.2/lib/python3.8/site-packages/git/refs/log.py'>,\n",
       " 'git.refs.symbolic': <module 'git.refs.symbolic' from '/Users/ryan/.pyenv/versions/ur-3.8.2/lib/python3.8/site-packages/git/refs/symbolic.py'>,\n",
       " 'git.refs.reference': <module 'git.refs.reference' from '/Users/ryan/.pyenv/versions/ur-3.8.2/lib/python3.8/site-packages/git/refs/reference.py'>,\n",
       " 'git.refs.head': <module 'git.refs.head' from '/Users/ryan/.pyenv/versions/ur-3.8.2/lib/python3.8/site-packages/git/refs/head.py'>,\n",
       " 'git.refs.tag': <module 'git.refs.tag' from '/Users/ryan/.pyenv/versions/ur-3.8.2/lib/python3.8/site-packages/git/refs/tag.py'>,\n",
       " 'git.refs.remote': <module 'git.refs.remote' from '/Users/ryan/.pyenv/versions/ur-3.8.2/lib/python3.8/site-packages/git/refs/remote.py'>,\n",
       " 'git.refs': <module 'git.refs' from '/Users/ryan/.pyenv/versions/ur-3.8.2/lib/python3.8/site-packages/git/refs/__init__.py'>,\n",
       " 'git.db': <module 'git.db' from '/Users/ryan/.pyenv/versions/ur-3.8.2/lib/python3.8/site-packages/git/db.py'>,\n",
       " 'git.index.util': <module 'git.index.util' from '/Users/ryan/.pyenv/versions/ur-3.8.2/lib/python3.8/site-packages/git/index/util.py'>,\n",
       " 'git.index.typ': <module 'git.index.typ' from '/Users/ryan/.pyenv/versions/ur-3.8.2/lib/python3.8/site-packages/git/index/typ.py'>,\n",
       " 'git.index.fun': <module 'git.index.fun' from '/Users/ryan/.pyenv/versions/ur-3.8.2/lib/python3.8/site-packages/git/index/fun.py'>,\n",
       " 'git.index.base': <module 'git.index.base' from '/Users/ryan/.pyenv/versions/ur-3.8.2/lib/python3.8/site-packages/git/index/base.py'>,\n",
       " 'git.index': <module 'git.index' from '/Users/ryan/.pyenv/versions/ur-3.8.2/lib/python3.8/site-packages/git/index/__init__.py'>,\n",
       " 'git.remote': <module 'git.remote' from '/Users/ryan/.pyenv/versions/ur-3.8.2/lib/python3.8/site-packages/git/remote.py'>,\n",
       " 'git.repo.fun': <module 'git.repo.fun' from '/Users/ryan/.pyenv/versions/ur-3.8.2/lib/python3.8/site-packages/git/repo/fun.py'>,\n",
       " 'git.repo.base': <module 'git.repo.base' from '/Users/ryan/.pyenv/versions/ur-3.8.2/lib/python3.8/site-packages/git/repo/base.py'>,\n",
       " 'git.repo': <module 'git.repo' from '/Users/ryan/.pyenv/versions/ur-3.8.2/lib/python3.8/site-packages/git/repo/__init__.py'>,\n",
       " 'git': <module 'git' from '/Users/ryan/.pyenv/versions/ur-3.8.2/lib/python3.8/site-packages/git/__init__.py'>,\n",
       " 'unittest.mock': <module 'unittest.mock' from '/Users/ryan/.pyenv/versions/3.8.2/lib/python3.8/unittest/mock.py'>,\n",
       " 'urllib3.packages.ssl_match_hostname': <module 'urllib3.packages.ssl_match_hostname' from '/Users/ryan/.pyenv/versions/ur-3.8.2/lib/python3.8/site-packages/urllib3/packages/ssl_match_hostname/__init__.py'>,\n",
       " 'urllib3.packages': <module 'urllib3.packages' from '/Users/ryan/.pyenv/versions/ur-3.8.2/lib/python3.8/site-packages/urllib3/packages/__init__.py'>,\n",
       " 'urllib3.packages.six': <module 'urllib3.packages.six' from '/Users/ryan/.pyenv/versions/ur-3.8.2/lib/python3.8/site-packages/urllib3/packages/six.py'>,\n",
       " 'urllib3.packages.six.moves': <module 'urllib3.packages.six.moves' (<urllib3.packages.six._SixMetaPathImporter object at 0x1059024f0>)>,\n",
       " 'urllib3.packages.six.moves.http_client': <module 'http.client' from '/Users/ryan/.pyenv/versions/3.8.2/lib/python3.8/http/client.py'>,\n",
       " 'urllib3.exceptions': <module 'urllib3.exceptions' from '/Users/ryan/.pyenv/versions/ur-3.8.2/lib/python3.8/site-packages/urllib3/exceptions.py'>,\n",
       " 'urllib3.util.wait': <module 'urllib3.util.wait' from '/Users/ryan/.pyenv/versions/ur-3.8.2/lib/python3.8/site-packages/urllib3/util/wait.py'>,\n",
       " 'urllib3.contrib': <module 'urllib3.contrib' from '/Users/ryan/.pyenv/versions/ur-3.8.2/lib/python3.8/site-packages/urllib3/contrib/__init__.py'>,\n",
       " 'urllib3.contrib._appengine_environ': <module 'urllib3.contrib._appengine_environ' from '/Users/ryan/.pyenv/versions/ur-3.8.2/lib/python3.8/site-packages/urllib3/contrib/_appengine_environ.py'>,\n",
       " 'urllib3.util.connection': <module 'urllib3.util.connection' from '/Users/ryan/.pyenv/versions/ur-3.8.2/lib/python3.8/site-packages/urllib3/util/connection.py'>,\n",
       " 'urllib3.util.request': <module 'urllib3.util.request' from '/Users/ryan/.pyenv/versions/ur-3.8.2/lib/python3.8/site-packages/urllib3/util/request.py'>,\n",
       " 'urllib3.util.response': <module 'urllib3.util.response' from '/Users/ryan/.pyenv/versions/ur-3.8.2/lib/python3.8/site-packages/urllib3/util/response.py'>,\n",
       " 'urllib3.util.url': <module 'urllib3.util.url' from '/Users/ryan/.pyenv/versions/ur-3.8.2/lib/python3.8/site-packages/urllib3/util/url.py'>,\n",
       " 'urllib3.util.ssl_': <module 'urllib3.util.ssl_' from '/Users/ryan/.pyenv/versions/ur-3.8.2/lib/python3.8/site-packages/urllib3/util/ssl_.py'>,\n",
       " 'urllib3.util.timeout': <module 'urllib3.util.timeout' from '/Users/ryan/.pyenv/versions/ur-3.8.2/lib/python3.8/site-packages/urllib3/util/timeout.py'>,\n",
       " 'urllib3.util.retry': <module 'urllib3.util.retry' from '/Users/ryan/.pyenv/versions/ur-3.8.2/lib/python3.8/site-packages/urllib3/util/retry.py'>,\n",
       " 'urllib3.util': <module 'urllib3.util' from '/Users/ryan/.pyenv/versions/ur-3.8.2/lib/python3.8/site-packages/urllib3/util/__init__.py'>,\n",
       " 'urllib3._collections': <module 'urllib3._collections' from '/Users/ryan/.pyenv/versions/ur-3.8.2/lib/python3.8/site-packages/urllib3/_collections.py'>,\n",
       " 'urllib3.connection': <module 'urllib3.connection' from '/Users/ryan/.pyenv/versions/ur-3.8.2/lib/python3.8/site-packages/urllib3/connection.py'>,\n",
       " 'urllib3.fields': <module 'urllib3.fields' from '/Users/ryan/.pyenv/versions/ur-3.8.2/lib/python3.8/site-packages/urllib3/fields.py'>,\n",
       " 'urllib3.filepost': <module 'urllib3.filepost' from '/Users/ryan/.pyenv/versions/ur-3.8.2/lib/python3.8/site-packages/urllib3/filepost.py'>,\n",
       " 'urllib3.packages.six.moves.urllib': <module 'urllib3.packages.six.moves.urllib' (<urllib3.packages.six._SixMetaPathImporter object at 0x1059024f0>)>,\n",
       " 'urllib3.packages.six.moves.urllib.parse': <module 'urllib3.packages.six.moves.urllib.parse' (<urllib3.packages.six._SixMetaPathImporter object at 0x1059024f0>)>,\n",
       " 'urllib3.request': <module 'urllib3.request' from '/Users/ryan/.pyenv/versions/ur-3.8.2/lib/python3.8/site-packages/urllib3/request.py'>,\n",
       " 'urllib3.response': <module 'urllib3.response' from '/Users/ryan/.pyenv/versions/ur-3.8.2/lib/python3.8/site-packages/urllib3/response.py'>,\n",
       " 'urllib3.util.queue': <module 'urllib3.util.queue' from '/Users/ryan/.pyenv/versions/ur-3.8.2/lib/python3.8/site-packages/urllib3/util/queue.py'>,\n",
       " 'urllib3.connectionpool': <module 'urllib3.connectionpool' from '/Users/ryan/.pyenv/versions/ur-3.8.2/lib/python3.8/site-packages/urllib3/connectionpool.py'>,\n",
       " 'urllib3.poolmanager': <module 'urllib3.poolmanager' from '/Users/ryan/.pyenv/versions/ur-3.8.2/lib/python3.8/site-packages/urllib3/poolmanager.py'>,\n",
       " 'urllib3': <module 'urllib3' from '/Users/ryan/.pyenv/versions/ur-3.8.2/lib/python3.8/site-packages/urllib3/__init__.py'>,\n",
       " 'chardet.compat': <module 'chardet.compat' from '/Users/ryan/.pyenv/versions/ur-3.8.2/lib/python3.8/site-packages/chardet/compat.py'>,\n",
       " 'chardet.enums': <module 'chardet.enums' from '/Users/ryan/.pyenv/versions/ur-3.8.2/lib/python3.8/site-packages/chardet/enums.py'>,\n",
       " 'chardet.charsetprober': <module 'chardet.charsetprober' from '/Users/ryan/.pyenv/versions/ur-3.8.2/lib/python3.8/site-packages/chardet/charsetprober.py'>,\n",
       " 'chardet.charsetgroupprober': <module 'chardet.charsetgroupprober' from '/Users/ryan/.pyenv/versions/ur-3.8.2/lib/python3.8/site-packages/chardet/charsetgroupprober.py'>,\n",
       " 'chardet.codingstatemachine': <module 'chardet.codingstatemachine' from '/Users/ryan/.pyenv/versions/ur-3.8.2/lib/python3.8/site-packages/chardet/codingstatemachine.py'>,\n",
       " 'chardet.escsm': <module 'chardet.escsm' from '/Users/ryan/.pyenv/versions/ur-3.8.2/lib/python3.8/site-packages/chardet/escsm.py'>,\n",
       " 'chardet.escprober': <module 'chardet.escprober' from '/Users/ryan/.pyenv/versions/ur-3.8.2/lib/python3.8/site-packages/chardet/escprober.py'>,\n",
       " 'chardet.latin1prober': <module 'chardet.latin1prober' from '/Users/ryan/.pyenv/versions/ur-3.8.2/lib/python3.8/site-packages/chardet/latin1prober.py'>,\n",
       " 'chardet.mbcssm': <module 'chardet.mbcssm' from '/Users/ryan/.pyenv/versions/ur-3.8.2/lib/python3.8/site-packages/chardet/mbcssm.py'>,\n",
       " 'chardet.utf8prober': <module 'chardet.utf8prober' from '/Users/ryan/.pyenv/versions/ur-3.8.2/lib/python3.8/site-packages/chardet/utf8prober.py'>,\n",
       " 'chardet.mbcharsetprober': <module 'chardet.mbcharsetprober' from '/Users/ryan/.pyenv/versions/ur-3.8.2/lib/python3.8/site-packages/chardet/mbcharsetprober.py'>,\n",
       " 'chardet.euctwfreq': <module 'chardet.euctwfreq' from '/Users/ryan/.pyenv/versions/ur-3.8.2/lib/python3.8/site-packages/chardet/euctwfreq.py'>,\n",
       " 'chardet.euckrfreq': <module 'chardet.euckrfreq' from '/Users/ryan/.pyenv/versions/ur-3.8.2/lib/python3.8/site-packages/chardet/euckrfreq.py'>,\n",
       " 'chardet.gb2312freq': <module 'chardet.gb2312freq' from '/Users/ryan/.pyenv/versions/ur-3.8.2/lib/python3.8/site-packages/chardet/gb2312freq.py'>,\n",
       " 'chardet.big5freq': <module 'chardet.big5freq' from '/Users/ryan/.pyenv/versions/ur-3.8.2/lib/python3.8/site-packages/chardet/big5freq.py'>,\n",
       " 'chardet.jisfreq': <module 'chardet.jisfreq' from '/Users/ryan/.pyenv/versions/ur-3.8.2/lib/python3.8/site-packages/chardet/jisfreq.py'>,\n",
       " 'chardet.chardistribution': <module 'chardet.chardistribution' from '/Users/ryan/.pyenv/versions/ur-3.8.2/lib/python3.8/site-packages/chardet/chardistribution.py'>,\n",
       " 'chardet.jpcntx': <module 'chardet.jpcntx' from '/Users/ryan/.pyenv/versions/ur-3.8.2/lib/python3.8/site-packages/chardet/jpcntx.py'>,\n",
       " 'chardet.sjisprober': <module 'chardet.sjisprober' from '/Users/ryan/.pyenv/versions/ur-3.8.2/lib/python3.8/site-packages/chardet/sjisprober.py'>,\n",
       " 'chardet.eucjpprober': <module 'chardet.eucjpprober' from '/Users/ryan/.pyenv/versions/ur-3.8.2/lib/python3.8/site-packages/chardet/eucjpprober.py'>,\n",
       " 'chardet.gb2312prober': <module 'chardet.gb2312prober' from '/Users/ryan/.pyenv/versions/ur-3.8.2/lib/python3.8/site-packages/chardet/gb2312prober.py'>,\n",
       " 'chardet.euckrprober': <module 'chardet.euckrprober' from '/Users/ryan/.pyenv/versions/ur-3.8.2/lib/python3.8/site-packages/chardet/euckrprober.py'>,\n",
       " 'chardet.cp949prober': <module 'chardet.cp949prober' from '/Users/ryan/.pyenv/versions/ur-3.8.2/lib/python3.8/site-packages/chardet/cp949prober.py'>,\n",
       " 'chardet.big5prober': <module 'chardet.big5prober' from '/Users/ryan/.pyenv/versions/ur-3.8.2/lib/python3.8/site-packages/chardet/big5prober.py'>,\n",
       " 'chardet.euctwprober': <module 'chardet.euctwprober' from '/Users/ryan/.pyenv/versions/ur-3.8.2/lib/python3.8/site-packages/chardet/euctwprober.py'>,\n",
       " 'chardet.mbcsgroupprober': <module 'chardet.mbcsgroupprober' from '/Users/ryan/.pyenv/versions/ur-3.8.2/lib/python3.8/site-packages/chardet/mbcsgroupprober.py'>,\n",
       " 'chardet.sbcharsetprober': <module 'chardet.sbcharsetprober' from '/Users/ryan/.pyenv/versions/ur-3.8.2/lib/python3.8/site-packages/chardet/sbcharsetprober.py'>,\n",
       " 'chardet.langcyrillicmodel': <module 'chardet.langcyrillicmodel' from '/Users/ryan/.pyenv/versions/ur-3.8.2/lib/python3.8/site-packages/chardet/langcyrillicmodel.py'>,\n",
       " 'chardet.langgreekmodel': <module 'chardet.langgreekmodel' from '/Users/ryan/.pyenv/versions/ur-3.8.2/lib/python3.8/site-packages/chardet/langgreekmodel.py'>,\n",
       " 'chardet.langbulgarianmodel': <module 'chardet.langbulgarianmodel' from '/Users/ryan/.pyenv/versions/ur-3.8.2/lib/python3.8/site-packages/chardet/langbulgarianmodel.py'>,\n",
       " 'chardet.langthaimodel': <module 'chardet.langthaimodel' from '/Users/ryan/.pyenv/versions/ur-3.8.2/lib/python3.8/site-packages/chardet/langthaimodel.py'>,\n",
       " 'chardet.langhebrewmodel': <module 'chardet.langhebrewmodel' from '/Users/ryan/.pyenv/versions/ur-3.8.2/lib/python3.8/site-packages/chardet/langhebrewmodel.py'>,\n",
       " 'chardet.hebrewprober': <module 'chardet.hebrewprober' from '/Users/ryan/.pyenv/versions/ur-3.8.2/lib/python3.8/site-packages/chardet/hebrewprober.py'>,\n",
       " 'chardet.langturkishmodel': <module 'chardet.langturkishmodel' from '/Users/ryan/.pyenv/versions/ur-3.8.2/lib/python3.8/site-packages/chardet/langturkishmodel.py'>,\n",
       " 'chardet.sbcsgroupprober': <module 'chardet.sbcsgroupprober' from '/Users/ryan/.pyenv/versions/ur-3.8.2/lib/python3.8/site-packages/chardet/sbcsgroupprober.py'>,\n",
       " 'chardet.universaldetector': <module 'chardet.universaldetector' from '/Users/ryan/.pyenv/versions/ur-3.8.2/lib/python3.8/site-packages/chardet/universaldetector.py'>,\n",
       " 'chardet.version': <module 'chardet.version' from '/Users/ryan/.pyenv/versions/ur-3.8.2/lib/python3.8/site-packages/chardet/version.py'>,\n",
       " 'chardet': <module 'chardet' from '/Users/ryan/.pyenv/versions/ur-3.8.2/lib/python3.8/site-packages/chardet/__init__.py'>,\n",
       " 'requests.exceptions': <module 'requests.exceptions' from '/Users/ryan/.pyenv/versions/ur-3.8.2/lib/python3.8/site-packages/requests/exceptions.py'>,\n",
       " 'requests.__version__': <module 'requests.__version__' from '/Users/ryan/.pyenv/versions/ur-3.8.2/lib/python3.8/site-packages/requests/__version__.py'>,\n",
       " 'importlib.resources': <module 'importlib.resources' from '/Users/ryan/.pyenv/versions/3.8.2/lib/python3.8/importlib/resources.py'>,\n",
       " 'certifi.core': <module 'certifi.core' from '/Users/ryan/.pyenv/versions/ur-3.8.2/lib/python3.8/site-packages/certifi/core.py'>,\n",
       " 'certifi': <module 'certifi' from '/Users/ryan/.pyenv/versions/ur-3.8.2/lib/python3.8/site-packages/certifi/__init__.py'>,\n",
       " 'requests.certs': <module 'requests.certs' from '/Users/ryan/.pyenv/versions/ur-3.8.2/lib/python3.8/site-packages/requests/certs.py'>,\n",
       " ...}"
      ]
     },
     "execution_count": 4,
     "metadata": {},
     "output_type": "execute_result"
    },
    {
     "name": "stdout",
     "output_type": "stream",
     "text": [
      "Importer.find_spec: fullname=zmq.utils.garbage path=['/Users/ryan/.pyenv/versions/ur-3.8.2/lib/python3.8/site-packages/zmq/utils'] target=None mod_path=None\n",
      "find_spec received path: ['/Users/ryan/.pyenv/versions/ur-3.8.2/lib/python3.8/site-packages/zmq/utils']\n",
      "node_spec: node=Node(/Users/ryan/.pyenv/versions/ur-3.8.2/lib/python3.8/site-packages/zmq/utils), mod_path=['zmq', 'utils', 'garbage']\n",
      "node_spec: node=Node(/Users/ryan/c/ur), mod_path=['zmq', 'utils', 'garbage']\n",
      "node_spec: node=Node(/Users/ryan/c/ur), mod_path=['zmq', 'utils', 'garbage']\n",
      "Returning without finding spec: fullname=zmq.utils.garbage mod_path=['zmq', 'utils', 'garbage'] path=[Node(/Users/ryan/.pyenv/versions/ur-3.8.2/lib/python3.8/site-packages/zmq/utils), Node(/Users/ryan/c/ur), Node(/Users/ryan/c/ur)]\n"
     ]
    }
   ],
   "source": [
    "import sys\n",
    "sys.modules"
   ]
  },
  {
   "cell_type": "code",
   "execution_count": 4,
   "metadata": {},
   "outputs": [
    {
     "data": {
      "text/plain": [
       "'aaa'"
      ]
     },
     "execution_count": 4,
     "metadata": {},
     "output_type": "execute_result"
    }
   ],
   "source": [
    "a()"
   ]
  },
  {
   "cell_type": "code",
   "execution_count": 5,
   "metadata": {},
   "outputs": [
    {
     "data": {
      "text/plain": [
       "'bbb'"
      ]
     },
     "execution_count": 5,
     "metadata": {},
     "output_type": "execute_result"
    }
   ],
   "source": [
    "b()"
   ]
  },
  {
   "cell_type": "code",
   "execution_count": 6,
   "metadata": {},
   "outputs": [
    {
     "data": {
      "text/plain": [
       "<module 'URL(id=http://localhost:8000/examples/abcd_gist/c.ipynb)' (.objs/URL/http:/localhost:8000/examples/abcd_gist/c.ipynb/content)>"
      ]
     },
     "execution_count": 6,
     "metadata": {},
     "output_type": "execute_result"
    }
   ],
   "source": [
    "local = ur * 'http://localhost:8000/examples/abcd_gist/c.ipynb'\n",
    "local"
   ]
  },
  {
   "cell_type": "code",
   "execution_count": 7,
   "metadata": {},
   "outputs": [
    {
     "data": {
      "text/plain": [
       "'ccc'"
      ]
     },
     "execution_count": 7,
     "metadata": {},
     "output_type": "execute_result"
    }
   ],
   "source": [
    "local.c()"
   ]
  },
  {
   "cell_type": "code",
   "execution_count": 8,
   "metadata": {},
   "outputs": [
    {
     "data": {
      "text/plain": [
       "'ccc'"
      ]
     },
     "execution_count": 8,
     "metadata": {},
     "output_type": "execute_result"
    }
   ],
   "source": [
    "c()"
   ]
  },
  {
   "cell_type": "code",
   "execution_count": 5,
   "metadata": {},
   "outputs": [
    {
     "name": "stdout",
     "output_type": "stream",
     "text": [
      "Importer.find_spec: fullname=examples path=None target=None mod_path=None\n",
      "node_spec: node=Node(/Users/ryan/c/ur), mod_path=['examples']\n",
      "Creating package spec examples from Node(/Users/ryan/c/ur/examples) (origin=/Users/ryan/c/ur/examples)\n",
      "create_module ModuleSpec(name='examples', loader=<importer.Importer object at 0x1056e4a30>, origin='/Users/ryan/c/ur/examples', submodule_search_locations=[])\n",
      "Installing module examples: <module 'examples' (/Users/ryan/c/ur/examples)>\n",
      "exec_module <module 'examples' (/Users/ryan/c/ur/examples)>\n",
      "exec: name=examples mod=<module 'examples' (/Users/ryan/c/ur/examples)> node=Node(/Users/ryan/c/ur/examples) root_path=None\n",
      "Executing module examples (<module 'examples' (/Users/ryan/c/ur/examples)>) for first time (0)\n",
      "Importer.find_spec: fullname=examples.abcd_gist path=[Node(/Users/ryan/c/ur/examples)] target=None mod_path=['abcd_gist']\n",
      "find_spec received path: [Node(/Users/ryan/c/ur/examples)]\n",
      "node_spec: node=Node(/Users/ryan/c/ur/examples), mod_path=['abcd_gist']\n",
      "Creating package spec examples.abcd_gist from Node(/Users/ryan/c/ur/examples/abcd_gist) (origin=/Users/ryan/c/ur/examples/abcd_gist)\n",
      "Found spec for child module abcd_gist (examples)\n",
      "create_module ModuleSpec(name='examples.abcd_gist', loader=<importer.Importer object at 0x1056e4a30>, origin='/Users/ryan/c/ur/examples/abcd_gist', submodule_search_locations=[])\n",
      "Installing module examples.abcd_gist: <module 'examples.abcd_gist' (/Users/ryan/c/ur/examples/abcd_gist)>\n",
      "Prepending Importer tmp_path: [Node(/Users/ryan/c/ur/examples/abcd_gist)]\n",
      "exec_module <module 'examples.abcd_gist' (/Users/ryan/c/ur/examples/abcd_gist)>\n",
      "exec: name=examples.abcd_gist mod=<module 'examples.abcd_gist' (/Users/ryan/c/ur/examples/abcd_gist)> node=Node(/Users/ryan/c/ur/examples/abcd_gist) root_path=[Node(/Users/ryan/c/ur/examples)]\n",
      "Executing module examples.abcd_gist (<module 'examples.abcd_gist' (/Users/ryan/c/ur/examples/abcd_gist)>) for first time (0)\n",
      "Importer.find_spec: fullname=examples.abcd_gist.py_abs_py path=[Node(/Users/ryan/c/ur/examples)] target=None mod_path=['py_abs_py']\n",
      "find_spec received path: [Node(/Users/ryan/c/ur/examples)]\n",
      "find_spec adding self.path: [Node(/Users/ryan/c/ur/examples/abcd_gist)]\n",
      "node_spec: node=Node(/Users/ryan/c/ur/examples), mod_path=['py_abs_py']\n",
      "node_spec: node=Node(/Users/ryan/c/ur/examples/abcd_gist), mod_path=['py_abs_py']\n",
      "Creating package spec examples.abcd_gist.py_abs_py from Node(/Users/ryan/c/ur/examples/abcd_gist/py_abs_py.py) (origin=/Users/ryan/c/ur/examples/abcd_gist/py_abs_py.py)\n",
      "Found spec for child module py_abs_py.py (examples.abcd_gist)\n",
      "create_module ModuleSpec(name='examples.abcd_gist.py_abs_py', loader=<importer.Importer object at 0x1056e4a30>, origin='/Users/ryan/c/ur/examples/abcd_gist/py_abs_py.py')\n",
      "Installing module examples.abcd_gist.py_abs_py: <module 'examples.abcd_gist.py_abs_py' (/Users/ryan/c/ur/examples/abcd_gist/py_abs_py.py)>\n",
      "exec_module <module 'examples.abcd_gist.py_abs_py' (/Users/ryan/c/ur/examples/abcd_gist/py_abs_py.py)>\n",
      "exec: name=examples.abcd_gist.py_abs_py mod=<module 'examples.abcd_gist.py_abs_py' (/Users/ryan/c/ur/examples/abcd_gist/py_abs_py.py)> node=Node(/Users/ryan/c/ur/examples/abcd_gist/py_abs_py.py) root_path=[Node(/Users/ryan/c/ur/examples)]\n",
      "Executing module examples.abcd_gist.py_abs_py (<module 'examples.abcd_gist.py_abs_py' (/Users/ryan/c/ur/examples/abcd_gist/py_abs_py.py)>) for first time (0)\n",
      "Attempt to exec module examples.abcd_gist.py_abs_py (root_path=[Node(/Users/ryan/c/ur/examples)])\n",
      "Prepending Importer tmp_path: [Node(/Users/ryan/c/ur/examples)]\n",
      "exec .py file: Node(/Users/ryan/c/ur/examples/abcd_gist/py_abs_py.py)\n",
      "Importer.find_spec: fullname=d path=None target=None mod_path=None\n",
      "find_spec adding self.path: [Node(/Users/ryan/c/ur/examples), Node(/Users/ryan/c/ur/examples/abcd_gist)]\n",
      "node_spec: node=Node(/Users/ryan/c/ur/examples), mod_path=['d']\n",
      "node_spec: node=Node(/Users/ryan/c/ur/examples/abcd_gist), mod_path=['d']\n",
      "Creating package spec d from Node(/Users/ryan/c/ur/examples/abcd_gist/d.py) (origin=/Users/ryan/c/ur/examples/abcd_gist/d.py)\n",
      "create_module ModuleSpec(name='d', loader=<importer.Importer object at 0x1056e4a30>, origin='/Users/ryan/c/ur/examples/abcd_gist/d.py')\n",
      "Installing module d: <module 'd' (/Users/ryan/c/ur/examples/abcd_gist/d.py)>\n",
      "exec_module <module 'd' (/Users/ryan/c/ur/examples/abcd_gist/d.py)>\n",
      "exec: name=d mod=<module 'd' (/Users/ryan/c/ur/examples/abcd_gist/d.py)> node=Node(/Users/ryan/c/ur/examples/abcd_gist/d.py) root_path=None\n",
      "Executing module d (<module 'd' (/Users/ryan/c/ur/examples/abcd_gist/d.py)>) for first time (0)\n",
      "Attempt to exec module d (root_path=None)\n",
      "exec .py file: Node(/Users/ryan/c/ur/examples/abcd_gist/d.py)\n",
      "Popping Importer tmp_path: Node(/Users/ryan/c/ur/examples)\n",
      "Importer.find_spec: fullname=examples.abcd_gist.nb_abs_py path=[Node(/Users/ryan/c/ur/examples)] target=None mod_path=['nb_abs_py']\n",
      "find_spec received path: [Node(/Users/ryan/c/ur/examples)]\n",
      "find_spec adding self.path: [Node(/Users/ryan/c/ur/examples/abcd_gist)]\n",
      "node_spec: node=Node(/Users/ryan/c/ur/examples), mod_path=['nb_abs_py']\n",
      "node_spec: node=Node(/Users/ryan/c/ur/examples/abcd_gist), mod_path=['nb_abs_py']\n",
      "Creating package spec examples.abcd_gist.nb_abs_py from Node(/Users/ryan/c/ur/examples/abcd_gist/nb_abs_py.ipynb) (origin=/Users/ryan/c/ur/examples/abcd_gist/nb_abs_py.ipynb)\n",
      "Found spec for child module nb_abs_py.ipynb (examples.abcd_gist)\n",
      "create_module ModuleSpec(name='examples.abcd_gist.nb_abs_py', loader=<importer.Importer object at 0x1056e4a30>, origin='/Users/ryan/c/ur/examples/abcd_gist/nb_abs_py.ipynb')\n",
      "Installing module examples.abcd_gist.nb_abs_py: <module 'examples.abcd_gist.nb_abs_py' (/Users/ryan/c/ur/examples/abcd_gist/nb_abs_py.ipynb)>\n",
      "exec_module <module 'examples.abcd_gist.nb_abs_py' (/Users/ryan/c/ur/examples/abcd_gist/nb_abs_py.ipynb)>\n",
      "exec: name=examples.abcd_gist.nb_abs_py mod=<module 'examples.abcd_gist.nb_abs_py' (/Users/ryan/c/ur/examples/abcd_gist/nb_abs_py.ipynb)> node=Node(/Users/ryan/c/ur/examples/abcd_gist/nb_abs_py.ipynb) root_path=[Node(/Users/ryan/c/ur/examples)]\n",
      "Executing module examples.abcd_gist.nb_abs_py (<module 'examples.abcd_gist.nb_abs_py' (/Users/ryan/c/ur/examples/abcd_gist/nb_abs_py.ipynb)>) for first time (0)\n",
      "Attempt to exec module examples.abcd_gist.nb_abs_py (root_path=[Node(/Users/ryan/c/ur/examples)])\n",
      "Prepending Importer tmp_path: [Node(/Users/ryan/c/ur/examples)]\n",
      "exec .ipynb file: Node(/Users/ryan/c/ur/examples/abcd_gist/nb_abs_py.ipynb)\n",
      "defs only\n",
      "Popping Importer tmp_path: Node(/Users/ryan/c/ur/examples)\n",
      "Importer.find_spec: fullname=examples.abcd_gist.c path=[Node(/Users/ryan/c/ur/examples)] target=None mod_path=['c']\n",
      "find_spec received path: [Node(/Users/ryan/c/ur/examples)]\n",
      "find_spec adding self.path: [Node(/Users/ryan/c/ur/examples/abcd_gist)]\n",
      "node_spec: node=Node(/Users/ryan/c/ur/examples), mod_path=['c']\n",
      "node_spec: node=Node(/Users/ryan/c/ur/examples/abcd_gist), mod_path=['c']\n",
      "Creating package spec examples.abcd_gist.c from Node(/Users/ryan/c/ur/examples/abcd_gist/c.ipynb) (origin=/Users/ryan/c/ur/examples/abcd_gist/c.ipynb)\n",
      "Found spec for child module c.ipynb (examples.abcd_gist)\n",
      "create_module ModuleSpec(name='examples.abcd_gist.c', loader=<importer.Importer object at 0x1056e4a30>, origin='/Users/ryan/c/ur/examples/abcd_gist/c.ipynb')\n",
      "Installing module examples.abcd_gist.c: <module 'examples.abcd_gist.c' (/Users/ryan/c/ur/examples/abcd_gist/c.ipynb)>\n",
      "exec_module <module 'examples.abcd_gist.c' (/Users/ryan/c/ur/examples/abcd_gist/c.ipynb)>\n",
      "exec: name=examples.abcd_gist.c mod=<module 'examples.abcd_gist.c' (/Users/ryan/c/ur/examples/abcd_gist/c.ipynb)> node=Node(/Users/ryan/c/ur/examples/abcd_gist/c.ipynb) root_path=[Node(/Users/ryan/c/ur/examples)]\n",
      "Executing module examples.abcd_gist.c (<module 'examples.abcd_gist.c' (/Users/ryan/c/ur/examples/abcd_gist/c.ipynb)>) for first time (0)\n",
      "Attempt to exec module examples.abcd_gist.c (root_path=[Node(/Users/ryan/c/ur/examples)])\n",
      "Prepending Importer tmp_path: [Node(/Users/ryan/c/ur/examples)]\n",
      "exec .ipynb file: Node(/Users/ryan/c/ur/examples/abcd_gist/c.ipynb)\n",
      "defs only\n",
      "Popping Importer tmp_path: Node(/Users/ryan/c/ur/examples)\n",
      "Skipping Node(/Users/ryan/c/ur/examples/abcd_gist/relative-imports-failure-test.ipynb) due to urignores: [UrIgnore(Node(/Users/ryan/c/ur/.urignore))]\n",
      "Importer.find_spec: fullname=examples.abcd_gist.py_abs_nb path=[Node(/Users/ryan/c/ur/examples)] target=None mod_path=['py_abs_nb']\n",
      "find_spec received path: [Node(/Users/ryan/c/ur/examples)]\n",
      "find_spec adding self.path: [Node(/Users/ryan/c/ur/examples/abcd_gist)]\n",
      "node_spec: node=Node(/Users/ryan/c/ur/examples), mod_path=['py_abs_nb']\n",
      "node_spec: node=Node(/Users/ryan/c/ur/examples/abcd_gist), mod_path=['py_abs_nb']\n",
      "Creating package spec examples.abcd_gist.py_abs_nb from Node(/Users/ryan/c/ur/examples/abcd_gist/py_abs_nb.py) (origin=/Users/ryan/c/ur/examples/abcd_gist/py_abs_nb.py)\n",
      "Found spec for child module py_abs_nb.py (examples.abcd_gist)\n",
      "create_module ModuleSpec(name='examples.abcd_gist.py_abs_nb', loader=<importer.Importer object at 0x1056e4a30>, origin='/Users/ryan/c/ur/examples/abcd_gist/py_abs_nb.py')\n",
      "Installing module examples.abcd_gist.py_abs_nb: <module 'examples.abcd_gist.py_abs_nb' (/Users/ryan/c/ur/examples/abcd_gist/py_abs_nb.py)>\n",
      "exec_module <module 'examples.abcd_gist.py_abs_nb' (/Users/ryan/c/ur/examples/abcd_gist/py_abs_nb.py)>\n",
      "exec: name=examples.abcd_gist.py_abs_nb mod=<module 'examples.abcd_gist.py_abs_nb' (/Users/ryan/c/ur/examples/abcd_gist/py_abs_nb.py)> node=Node(/Users/ryan/c/ur/examples/abcd_gist/py_abs_nb.py) root_path=[Node(/Users/ryan/c/ur/examples)]\n",
      "Executing module examples.abcd_gist.py_abs_nb (<module 'examples.abcd_gist.py_abs_nb' (/Users/ryan/c/ur/examples/abcd_gist/py_abs_nb.py)>) for first time (0)\n",
      "Attempt to exec module examples.abcd_gist.py_abs_nb (root_path=[Node(/Users/ryan/c/ur/examples)])\n",
      "Prepending Importer tmp_path: [Node(/Users/ryan/c/ur/examples)]\n",
      "exec .py file: Node(/Users/ryan/c/ur/examples/abcd_gist/py_abs_nb.py)\n",
      "Importer.find_spec: fullname=a_b path=None target=None mod_path=None\n",
      "find_spec adding self.path: [Node(/Users/ryan/c/ur/examples), Node(/Users/ryan/c/ur/examples/abcd_gist)]\n",
      "node_spec: node=Node(/Users/ryan/c/ur/examples), mod_path=['a_b']\n",
      "node_spec: node=Node(/Users/ryan/c/ur/examples/abcd_gist), mod_path=['a_b']\n",
      "Creating package spec a_b from Node(/Users/ryan/c/ur/examples/abcd_gist/a_b.ipynb) (origin=/Users/ryan/c/ur/examples/abcd_gist/a_b.ipynb)\n",
      "create_module ModuleSpec(name='a_b', loader=<importer.Importer object at 0x1056e4a30>, origin='/Users/ryan/c/ur/examples/abcd_gist/a_b.ipynb')\n",
      "Installing module a_b: <module 'a_b' (/Users/ryan/c/ur/examples/abcd_gist/a_b.ipynb)>\n",
      "exec_module <module 'a_b' (/Users/ryan/c/ur/examples/abcd_gist/a_b.ipynb)>\n",
      "exec: name=a_b mod=<module 'a_b' (/Users/ryan/c/ur/examples/abcd_gist/a_b.ipynb)> node=Node(/Users/ryan/c/ur/examples/abcd_gist/a_b.ipynb) root_path=None\n",
      "Executing module a_b (<module 'a_b' (/Users/ryan/c/ur/examples/abcd_gist/a_b.ipynb)>) for first time (0)\n",
      "Attempt to exec module a_b (root_path=None)\n",
      "exec .ipynb file: Node(/Users/ryan/c/ur/examples/abcd_gist/a_b.ipynb)\n",
      "defs only\n",
      "defs only\n",
      "Popping Importer tmp_path: Node(/Users/ryan/c/ur/examples)\n",
      "Importer.find_spec: fullname=examples.abcd_gist.nb_abs_nb path=[Node(/Users/ryan/c/ur/examples)] target=None mod_path=['nb_abs_nb']\n",
      "find_spec received path: [Node(/Users/ryan/c/ur/examples)]\n",
      "find_spec adding self.path: [Node(/Users/ryan/c/ur/examples/abcd_gist)]\n",
      "node_spec: node=Node(/Users/ryan/c/ur/examples), mod_path=['nb_abs_nb']\n",
      "node_spec: node=Node(/Users/ryan/c/ur/examples/abcd_gist), mod_path=['nb_abs_nb']\n",
      "Creating package spec examples.abcd_gist.nb_abs_nb from Node(/Users/ryan/c/ur/examples/abcd_gist/nb_abs_nb.ipynb) (origin=/Users/ryan/c/ur/examples/abcd_gist/nb_abs_nb.ipynb)\n",
      "Found spec for child module nb_abs_nb.ipynb (examples.abcd_gist)\n",
      "create_module ModuleSpec(name='examples.abcd_gist.nb_abs_nb', loader=<importer.Importer object at 0x1056e4a30>, origin='/Users/ryan/c/ur/examples/abcd_gist/nb_abs_nb.ipynb')\n",
      "Installing module examples.abcd_gist.nb_abs_nb: <module 'examples.abcd_gist.nb_abs_nb' (/Users/ryan/c/ur/examples/abcd_gist/nb_abs_nb.ipynb)>\n",
      "exec_module <module 'examples.abcd_gist.nb_abs_nb' (/Users/ryan/c/ur/examples/abcd_gist/nb_abs_nb.ipynb)>\n",
      "exec: name=examples.abcd_gist.nb_abs_nb mod=<module 'examples.abcd_gist.nb_abs_nb' (/Users/ryan/c/ur/examples/abcd_gist/nb_abs_nb.ipynb)> node=Node(/Users/ryan/c/ur/examples/abcd_gist/nb_abs_nb.ipynb) root_path=[Node(/Users/ryan/c/ur/examples)]\n",
      "Executing module examples.abcd_gist.nb_abs_nb (<module 'examples.abcd_gist.nb_abs_nb' (/Users/ryan/c/ur/examples/abcd_gist/nb_abs_nb.ipynb)>) for first time (0)\n",
      "Attempt to exec module examples.abcd_gist.nb_abs_nb (root_path=[Node(/Users/ryan/c/ur/examples)])\n",
      "Prepending Importer tmp_path: [Node(/Users/ryan/c/ur/examples)]\n",
      "exec .ipynb file: Node(/Users/ryan/c/ur/examples/abcd_gist/nb_abs_nb.ipynb)\n",
      "defs only\n",
      "Popping Importer tmp_path: Node(/Users/ryan/c/ur/examples)\n",
      "Importer.find_spec: fullname=examples.abcd_gist.a_b path=[Node(/Users/ryan/c/ur/examples)] target=None mod_path=['a_b']\n",
      "find_spec received path: [Node(/Users/ryan/c/ur/examples)]\n",
      "find_spec adding self.path: [Node(/Users/ryan/c/ur/examples/abcd_gist)]\n",
      "node_spec: node=Node(/Users/ryan/c/ur/examples), mod_path=['a_b']\n",
      "node_spec: node=Node(/Users/ryan/c/ur/examples/abcd_gist), mod_path=['a_b']\n",
      "Returning cached spec for examples.abcd_gist.a_b (node=Node(/Users/ryan/c/ur/examples/abcd_gist/a_b.ipynb), origin=/Users/ryan/c/ur/examples/abcd_gist/a_b.ipynb)\n",
      "Found spec for child module a_b.ipynb (examples.abcd_gist)\n",
      "Skipping re-creating module a_b: <module 'a_b' (/Users/ryan/c/ur/examples/abcd_gist/a_b.ipynb)>\n",
      "exec_module <module 'a_b' (/Users/ryan/c/ur/examples/abcd_gist/a_b.ipynb)>\n",
      "exec: name=a_b mod=<module 'a_b' (/Users/ryan/c/ur/examples/abcd_gist/a_b.ipynb)> node=Node(/Users/ryan/c/ur/examples/abcd_gist/a_b.ipynb) root_path=[Node(/Users/ryan/c/ur/examples)]\n",
      "Skipping re-executing module (1x): a_b\n",
      "Importer.find_spec: fullname=examples.abcd_gist.d path=[Node(/Users/ryan/c/ur/examples)] target=None mod_path=['d']\n",
      "find_spec received path: [Node(/Users/ryan/c/ur/examples)]\n",
      "find_spec adding self.path: [Node(/Users/ryan/c/ur/examples/abcd_gist)]\n",
      "node_spec: node=Node(/Users/ryan/c/ur/examples), mod_path=['d']\n",
      "node_spec: node=Node(/Users/ryan/c/ur/examples/abcd_gist), mod_path=['d']\n",
      "Returning cached spec for examples.abcd_gist.d (node=Node(/Users/ryan/c/ur/examples/abcd_gist/d.py), origin=/Users/ryan/c/ur/examples/abcd_gist/d.py)\n",
      "Found spec for child module d.py (examples.abcd_gist)\n",
      "Skipping re-creating module d: <module 'd' (/Users/ryan/c/ur/examples/abcd_gist/d.py)>\n",
      "exec_module <module 'd' (/Users/ryan/c/ur/examples/abcd_gist/d.py)>\n",
      "exec: name=d mod=<module 'd' (/Users/ryan/c/ur/examples/abcd_gist/d.py)> node=Node(/Users/ryan/c/ur/examples/abcd_gist/d.py) root_path=[Node(/Users/ryan/c/ur/examples)]\n",
      "Skipping re-executing module (1x): d\n",
      "Popping Importer tmp_path: Node(/Users/ryan/c/ur/examples/abcd_gist)\n"
     ]
    }
   ],
   "source": [
    "import examples"
   ]
  },
  {
   "cell_type": "code",
   "execution_count": 6,
   "metadata": {},
   "outputs": [],
   "source": [
    "from examples import *"
   ]
  },
  {
   "cell_type": "code",
   "execution_count": 7,
   "metadata": {},
   "outputs": [
    {
     "data": {
      "text/plain": [
       "<module 'examples.abcd_gist' (/Users/ryan/c/ur/examples/abcd_gist)>"
      ]
     },
     "execution_count": 7,
     "metadata": {},
     "output_type": "execute_result"
    }
   ],
   "source": [
    "abcd_gist"
   ]
  },
  {
   "cell_type": "code",
   "execution_count": 3,
   "metadata": {},
   "outputs": [],
   "source": [
    "from examples.abcd_gist import *"
   ]
  },
  {
   "cell_type": "code",
   "execution_count": 4,
   "metadata": {},
   "outputs": [
    {
     "data": {
      "text/plain": [
       "<module 'a_b' (/Users/ryan/c/ur/examples/abcd_gist/a_b.ipynb)>"
      ]
     },
     "execution_count": 4,
     "metadata": {},
     "output_type": "execute_result"
    }
   ],
   "source": [
    "a_b"
   ]
  },
  {
   "cell_type": "code",
   "execution_count": 2,
   "metadata": {},
   "outputs": [
    {
     "data": {
      "text/plain": [
       "<module 'gist._1288bff2f9e05394a94312010da267bb.a_b' (https://gist.github.com/1288bff2f9e05394a94312010da267bb/001cf9c4ee425e50a822524d2a475ef18c6423d8/a_b.ipynb)>"
      ]
     },
     "execution_count": 2,
     "metadata": {},
     "output_type": "execute_result"
    }
   ],
   "source": [
    "from examples.abcd_gist.a_b import *     # ✅\n",
    "from examples.abcd_gist.a_b import a     # ✅\n",
    "from examples.abcd_gist.a_b import a, b  # ✅\n",
    "import examples.abcd_gist.a_b            # ✅\n",
    "\n",
    "import gist._1288bff2f9e05394a94312010da267bb\n",
    "from gist._1288bff2f9e05394a94312010da267bb import *\n",
    "from gist._1288bff2f9e05394a94312010da267bb import a_b\n",
    "from gist._1288bff2f9e05394a94312010da267bb import c\n",
    "from gist._1288bff2f9e05394a94312010da267bb.a_b import *\n",
    "from gist._1288bff2f9e05394a94312010da267bb.a_b import a, b\n",
    "\n",
    "ur * 'https://gist.github.com/1288bff2f9e05394a94312010da267bb'\n",
    "ur * 'https://gist.github.com/ryan-williams/1288bff2f9e05394a94312010da267bb#file-a_b-ipynb'  # ✅"
   ]
  },
  {
   "cell_type": "code",
   "execution_count": null,
   "metadata": {},
   "outputs": [],
   "source": []
  }
 ],
 "metadata": {
  "kernelspec": {
   "display_name": "ur-3.8.2",
   "language": "python",
   "name": "ur-3.8.2"
  },
  "language_info": {
   "codemirror_mode": {
    "name": "ipython",
    "version": 3
   },
   "file_extension": ".py",
   "mimetype": "text/x-python",
   "name": "python",
   "nbconvert_exporter": "python",
   "pygments_lexer": "ipython3",
   "version": "3.8.2"
  }
 },
 "nbformat": 4,
 "nbformat_minor": 2
}
