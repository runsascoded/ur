{
 "cells": [
  {
   "cell_type": "markdown",
   "metadata": {
    "papermill": {
     "duration": 0.027765,
     "end_time": "2020-06-24T23:36:10.054684",
     "exception": false,
     "start_time": "2020-06-24T23:36:10.026919",
     "status": "completed"
    },
    "tags": []
   },
   "source": [
    "# ur\n",
    "\n",
    "Import remote Python files and Jupyter notebooks, from GitHub Gists, the local filesystem, or arbitrary URLs:\n",
    "\n",
    "<table>\n",
    "  <tr>\n",
    "    <th colspan=\"2\" rowspan=\"2\"></th>\n",
    "    <th colspan=\"5\" align=\"center\" style=\"text-align:center\">\n",
    "      <b>Import From</b>\n",
    "    </th>\n",
    "  </tr>\n",
    "  <tr>\n",
    "    <th>\n",
    "      <b>Gists</b>\n",
    "    </th>\n",
    "    <th>\n",
    "      <b>URLs</b>\n",
    "    </th>\n",
    "    <th>\n",
    "      <b>Local files</b>\n",
    "    </th>\n",
    "    <th>\n",
    "      <b>GitHub</b>\n",
    "    </th>\n",
    "    <th>\n",
    "      <b>GitLab</b>\n",
    "    </th>\n",
    "  </tr>\n",
    "  <tr>\n",
    "    <td rowspan=\"2\">\n",
    "      <b>File Type</b>\n",
    "    </td>\n",
    "    <td align=\"right\">\n",
    "      <b>Notebook (.ipynb)</b>\n",
    "    </td>\n",
    "    <td align=\"right\">✅</td>\n",
    "    <td align=\"right\">✅</td>\n",
    "    <td align=\"right\">✅</td>\n",
    "    <td align=\"right\">✅</td>\n",
    "    <td align=\"right\">✅</td>\n",
    "  </tr>\n",
    "  <tr>\n",
    "    <td align=\"right\">\n",
    "      <b>Python (.py)</b>\n",
    "    </td>\n",
    "    <td align=\"right\">✅</td>\n",
    "    <td align=\"right\">✅</td>\n",
    "    <td align=\"right\">✅</td>\n",
    "    <td align=\"right\">✅</td>\n",
    "    <td align=\"right\">✅</td>\n",
    "  </tr>\n",
    "</table>\n",
    "\n",
    "--------\n",
    "\n",
    "- [**Install**](#install)\n",
    "- [**Usage**](#usage)\n",
    "  - [Import GitHub Gists](#gists)\n",
    "  - [Import from GitHub Repos](#github)\n",
    "  - [Import arbitrary URLs](#urls)\n",
    "  - [Configuration: `ur.opts`](#configs)\n",
    "- [**Discussion**](#discussion)\n",
    "  - [\"package-less publishing\"](#package-less)\n",
    "  - [\"anyone with the link can view\" git repositories](#link-visibility)\n",
    "  - [Use-case: portable, shareable \"dotfiles\"](#dotfiles)\n",
    "  - [Future work](#future-work)\n",
    "    - [Customize import behavior](#Customize-import-behavior)\n",
    "    - [Usability](#Usability)\n",
    "    - [Import Sources](#Import-Sources)\n",
    "    - [Project Management](#Project-Management)"
   ]
  },
  {
   "cell_type": "markdown",
   "metadata": {
    "papermill": {
     "duration": 0.016967,
     "end_time": "2020-06-24T23:36:10.090974",
     "exception": false,
     "start_time": "2020-06-24T23:36:10.074007",
     "status": "completed"
    },
    "tags": []
   },
   "source": [
    "## Install: <a id=\"install\"></a>\n",
    "In a shell:\n",
    "```bash\n",
    "pip install ur\n",
    "```\n",
    "In a Jupyter notebook:\n",
    "```python\n",
    "from sys import executable as python\n",
    "!{python} -m pip install ur \n",
    "```"
   ]
  },
  {
   "cell_type": "markdown",
   "metadata": {
    "papermill": {
     "duration": 0.014887,
     "end_time": "2020-06-24T23:36:10.121427",
     "exception": false,
     "start_time": "2020-06-24T23:36:10.106540",
     "status": "completed"
    },
    "tags": []
   },
   "source": [
    "## Usage <a id=\"usage\"></a>"
   ]
  },
  {
   "cell_type": "markdown",
   "metadata": {
    "papermill": {
     "duration": 0.015191,
     "end_time": "2020-06-24T23:36:10.154165",
     "exception": false,
     "start_time": "2020-06-24T23:36:10.138974",
     "status": "completed"
    },
    "tags": []
   },
   "source": [
    "### Import GitHub Gists <a id=\"gists\"></a>"
   ]
  },
  {
   "cell_type": "markdown",
   "metadata": {
    "papermill": {
     "duration": 0.015788,
     "end_time": "2020-06-24T23:36:10.185261",
     "exception": false,
     "start_time": "2020-06-24T23:36:10.169473",
     "status": "completed"
    },
    "tags": []
   },
   "source": [
    "Import several notebooks and Python files from [a Gist](https://gist.github.com/1288bff2f9e05394a94312010da267bb):"
   ]
  },
  {
   "cell_type": "code",
   "execution_count": 1,
   "metadata": {
    "execution": {
     "iopub.execute_input": "2020-06-24T23:36:10.222553Z",
     "iopub.status.busy": "2020-06-24T23:36:10.221423Z",
     "iopub.status.idle": "2020-06-24T23:36:11.168734Z",
     "shell.execute_reply": "2020-06-24T23:36:11.168190Z"
    },
    "papermill": {
     "duration": 0.968063,
     "end_time": "2020-06-24T23:36:11.168889",
     "exception": false,
     "start_time": "2020-06-24T23:36:10.200826",
     "status": "completed"
    },
    "tags": []
   },
   "outputs": [
    {
     "data": {
      "text/plain": [
       "('aaa', 'bbb', 'ccc')"
      ]
     },
     "execution_count": 1,
     "metadata": {},
     "output_type": "execute_result"
    }
   ],
   "source": [
    "from gist._1288bff2f9e05394a94312010da267bb import *\n",
    "a_b.a(), a_b.b(), c.c()"
   ]
  },
  {
   "cell_type": "markdown",
   "metadata": {
    "papermill": {
     "duration": 0.014448,
     "end_time": "2020-06-24T23:36:11.198977",
     "exception": false,
     "start_time": "2020-06-24T23:36:11.184529",
     "status": "completed"
    },
    "tags": []
   },
   "source": [
    "(note the leading underscore in the `import` statement, which is necessary when the Gist ID begins with a number)"
   ]
  },
  {
   "cell_type": "markdown",
   "metadata": {
    "papermill": {
     "duration": 0.016067,
     "end_time": "2020-06-24T23:36:11.231528",
     "exception": false,
     "start_time": "2020-06-24T23:36:11.215461",
     "status": "completed"
    },
    "tags": []
   },
   "source": [
    "### Import from GitHub, GitLab Repos <a id=\"github\"></a>\n",
    "Import some helper functions (in this case, various wrappers around [`subprocess`](https://docs.python.org/3/library/subprocess.html) functions) directly from [a notebook on GitHub](https://github.com/ryan-williams/jupyter-rc/blob/master/process.ipynb):"
   ]
  },
  {
   "cell_type": "code",
   "execution_count": 2,
   "metadata": {
    "execution": {
     "iopub.execute_input": "2020-06-24T23:36:11.272572Z",
     "iopub.status.busy": "2020-06-24T23:36:11.271518Z",
     "iopub.status.idle": "2020-06-24T23:36:26.830626Z",
     "shell.execute_reply": "2020-06-24T23:36:26.831052Z"
    },
    "papermill": {
     "duration": 15.582792,
     "end_time": "2020-06-24T23:36:26.831261",
     "exception": false,
     "start_time": "2020-06-24T23:36:11.248469",
     "status": "completed"
    },
    "tags": []
   },
   "outputs": [
    {
     "name": "stdout",
     "output_type": "stream",
     "text": [
      "Running: ['echo', 'yay']\n"
     ]
    },
    {
     "data": {
      "text/plain": [
       "['yay']"
      ]
     },
     "execution_count": 2,
     "metadata": {},
     "output_type": "execute_result"
    }
   ],
   "source": [
    "from github.ryan_williams.jupyter_rc.process import *\n",
    "lines('echo','yay')  # wrapper around subprocess.check_output that asserts and returns a single line written to stdout"
   ]
  },
  {
   "cell_type": "markdown",
   "metadata": {
    "papermill": {
     "duration": 0.01487,
     "end_time": "2020-06-24T23:36:26.862252",
     "exception": false,
     "start_time": "2020-06-24T23:36:26.847382",
     "status": "completed"
    },
    "tags": []
   },
   "source": [
    "Importing from GitLab also works; here we import a `cd` (\"change directory\") [contextmanager](https://docs.python.org/3/library/contextlib.html):"
   ]
  },
  {
   "cell_type": "code",
   "execution_count": 3,
   "metadata": {
    "execution": {
     "iopub.execute_input": "2020-06-24T23:36:26.907446Z",
     "iopub.status.busy": "2020-06-24T23:36:26.906368Z",
     "iopub.status.idle": "2020-06-24T23:36:30.870048Z",
     "shell.execute_reply": "2020-06-24T23:36:30.873329Z"
    },
    "papermill": {
     "duration": 3.990295,
     "end_time": "2020-06-24T23:36:30.873861",
     "exception": false,
     "start_time": "2020-06-24T23:36:26.883566",
     "status": "completed"
    },
    "tags": []
   },
   "outputs": [
    {
     "data": {
      "text/html": [
       "\n",
       "<style type='text/css'>\n",
       ".hll { background-color: #ffffcc }\n",
       ".c { color: #408080; font-style: italic } /* Comment */\n",
       ".err { border: 1px solid #FF0000 } /* Error */\n",
       ".k { color: #008000; font-weight: bold } /* Keyword */\n",
       ".o { color: #666666 } /* Operator */\n",
       ".ch { color: #408080; font-style: italic } /* Comment.Hashbang */\n",
       ".cm { color: #408080; font-style: italic } /* Comment.Multiline */\n",
       ".cp { color: #BC7A00 } /* Comment.Preproc */\n",
       ".cpf { color: #408080; font-style: italic } /* Comment.PreprocFile */\n",
       ".c1 { color: #408080; font-style: italic } /* Comment.Single */\n",
       ".cs { color: #408080; font-style: italic } /* Comment.Special */\n",
       ".gd { color: #A00000 } /* Generic.Deleted */\n",
       ".ge { font-style: italic } /* Generic.Emph */\n",
       ".gr { color: #FF0000 } /* Generic.Error */\n",
       ".gh { color: #000080; font-weight: bold } /* Generic.Heading */\n",
       ".gi { color: #00A000 } /* Generic.Inserted */\n",
       ".go { color: #888888 } /* Generic.Output */\n",
       ".gp { color: #000080; font-weight: bold } /* Generic.Prompt */\n",
       ".gs { font-weight: bold } /* Generic.Strong */\n",
       ".gu { color: #800080; font-weight: bold } /* Generic.Subheading */\n",
       ".gt { color: #0044DD } /* Generic.Traceback */\n",
       ".kc { color: #008000; font-weight: bold } /* Keyword.Constant */\n",
       ".kd { color: #008000; font-weight: bold } /* Keyword.Declaration */\n",
       ".kn { color: #008000; font-weight: bold } /* Keyword.Namespace */\n",
       ".kp { color: #008000 } /* Keyword.Pseudo */\n",
       ".kr { color: #008000; font-weight: bold } /* Keyword.Reserved */\n",
       ".kt { color: #B00040 } /* Keyword.Type */\n",
       ".m { color: #666666 } /* Literal.Number */\n",
       ".s { color: #BA2121 } /* Literal.String */\n",
       ".na { color: #7D9029 } /* Name.Attribute */\n",
       ".nb { color: #008000 } /* Name.Builtin */\n",
       ".nc { color: #0000FF; font-weight: bold } /* Name.Class */\n",
       ".no { color: #880000 } /* Name.Constant */\n",
       ".nd { color: #AA22FF } /* Name.Decorator */\n",
       ".ni { color: #999999; font-weight: bold } /* Name.Entity */\n",
       ".ne { color: #D2413A; font-weight: bold } /* Name.Exception */\n",
       ".nf { color: #0000FF } /* Name.Function */\n",
       ".nl { color: #A0A000 } /* Name.Label */\n",
       ".nn { color: #0000FF; font-weight: bold } /* Name.Namespace */\n",
       ".nt { color: #008000; font-weight: bold } /* Name.Tag */\n",
       ".nv { color: #19177C } /* Name.Variable */\n",
       ".ow { color: #AA22FF; font-weight: bold } /* Operator.Word */\n",
       ".w { color: #bbbbbb } /* Text.Whitespace */\n",
       ".mb { color: #666666 } /* Literal.Number.Bin */\n",
       ".mf { color: #666666 } /* Literal.Number.Float */\n",
       ".mh { color: #666666 } /* Literal.Number.Hex */\n",
       ".mi { color: #666666 } /* Literal.Number.Integer */\n",
       ".mo { color: #666666 } /* Literal.Number.Oct */\n",
       ".sa { color: #BA2121 } /* Literal.String.Affix */\n",
       ".sb { color: #BA2121 } /* Literal.String.Backtick */\n",
       ".sc { color: #BA2121 } /* Literal.String.Char */\n",
       ".dl { color: #BA2121 } /* Literal.String.Delimiter */\n",
       ".sd { color: #BA2121; font-style: italic } /* Literal.String.Doc */\n",
       ".s2 { color: #BA2121 } /* Literal.String.Double */\n",
       ".se { color: #BB6622; font-weight: bold } /* Literal.String.Escape */\n",
       ".sh { color: #BA2121 } /* Literal.String.Heredoc */\n",
       ".si { color: #BB6688; font-weight: bold } /* Literal.String.Interpol */\n",
       ".sx { color: #008000 } /* Literal.String.Other */\n",
       ".sr { color: #BB6688 } /* Literal.String.Regex */\n",
       ".s1 { color: #BA2121 } /* Literal.String.Single */\n",
       ".ss { color: #19177C } /* Literal.String.Symbol */\n",
       ".bp { color: #008000 } /* Name.Builtin.Pseudo */\n",
       ".fm { color: #0000FF } /* Name.Function.Magic */\n",
       ".vc { color: #19177C } /* Name.Variable.Class */\n",
       ".vg { color: #19177C } /* Name.Variable.Global */\n",
       ".vi { color: #19177C } /* Name.Variable.Instance */\n",
       ".vm { color: #19177C } /* Name.Variable.Magic */\n",
       ".il { color: #666666 } /* Literal.Number.Integer.Long */\n",
       "</style>\n"
      ],
      "text/plain": [
       "<IPython.core.display.HTML object>"
      ]
     },
     "metadata": {},
     "output_type": "display_data"
    },
    {
     "name": "stdout",
     "output_type": "stream",
     "text": [
      "/ur/examples\n"
     ]
    }
   ],
   "source": [
    "from gitlab.runsascoded.dotfiles.jupyter.cd import cd\n",
    "from pathlib import Path\n",
    "with cd('examples'): print(Path.cwd())"
   ]
  },
  {
   "cell_type": "markdown",
   "metadata": {
    "papermill": {
     "duration": 0.021948,
     "end_time": "2020-06-24T23:36:30.914793",
     "exception": false,
     "start_time": "2020-06-24T23:36:30.892845",
     "status": "completed"
    },
    "tags": []
   },
   "source": [
    "([gitlab.com notebook](https://gitlab.com/runsascoded/dotfiles/jupyter/-/blob/master/cd.ipynb))"
   ]
  },
  {
   "cell_type": "markdown",
   "metadata": {
    "papermill": {
     "duration": 0.022593,
     "end_time": "2020-06-24T23:36:30.957703",
     "exception": false,
     "start_time": "2020-06-24T23:36:30.935110",
     "status": "completed"
    },
    "tags": []
   },
   "source": [
    "### Import arbitrary URLs <a id=\"urls\"></a>\n",
    "The `ur` module exposes a powerful API for importing code from {local,remote} {`.py`,`.ipynb`} files.\n",
    "\n",
    "Here is an example directly importing one of the files in [the example gist used above](https://gist.github.com/ryan-williams/1288bff2f9e05394a94312010da267bb):"
   ]
  },
  {
   "cell_type": "code",
   "execution_count": 4,
   "metadata": {
    "execution": {
     "iopub.execute_input": "2020-06-24T23:36:31.007242Z",
     "iopub.status.busy": "2020-06-24T23:36:31.006334Z",
     "iopub.status.idle": "2020-06-24T23:36:31.227746Z",
     "shell.execute_reply": "2020-06-24T23:36:31.226761Z"
    },
    "papermill": {
     "duration": 0.249899,
     "end_time": "2020-06-24T23:36:31.227935",
     "exception": false,
     "start_time": "2020-06-24T23:36:30.978036",
     "status": "completed"
    },
    "tags": []
   },
   "outputs": [
    {
     "data": {
      "text/plain": [
       "('aaa', 'bbb')"
      ]
     },
     "execution_count": 4,
     "metadata": {},
     "output_type": "execute_result"
    }
   ],
   "source": [
    "import ur\n",
    "a_b = ur('https://gist.githubusercontent.com/ryan-williams/1288bff2f9e05394a94312010da267bb/raw/a_b.ipynb')\n",
    "a_b.a(), a_b.b()"
   ]
  },
  {
   "cell_type": "markdown",
   "metadata": {
    "papermill": {
     "duration": 0.023496,
     "end_time": "2020-06-24T23:36:31.295784",
     "exception": false,
     "start_time": "2020-06-24T23:36:31.272288",
     "status": "completed"
    },
    "tags": []
   },
   "source": [
    "#### Import wildcards"
   ]
  },
  {
   "cell_type": "markdown",
   "metadata": {
    "papermill": {
     "duration": 0.020353,
     "end_time": "2020-06-24T23:36:31.337337",
     "exception": false,
     "start_time": "2020-06-24T23:36:31.316984",
     "status": "completed"
    },
    "tags": []
   },
   "source": [
    "In addition to calling the `ur` module (and returning a module), the `*` operator can be used:"
   ]
  },
  {
   "cell_type": "code",
   "execution_count": 5,
   "metadata": {
    "execution": {
     "iopub.execute_input": "2020-06-24T23:36:31.397378Z",
     "iopub.status.busy": "2020-06-24T23:36:31.395595Z",
     "iopub.status.idle": "2020-06-24T23:36:31.842200Z",
     "shell.execute_reply": "2020-06-24T23:36:31.841153Z"
    },
    "papermill": {
     "duration": 0.481612,
     "end_time": "2020-06-24T23:36:31.842424",
     "exception": false,
     "start_time": "2020-06-24T23:36:31.360812",
     "status": "completed"
    },
    "tags": []
   },
   "outputs": [
    {
     "data": {
      "text/plain": [
       "('aaa', 'bbb', 'ccc')"
      ]
     },
     "execution_count": 5,
     "metadata": {},
     "output_type": "execute_result"
    }
   ],
   "source": [
    "import ur\n",
    "ur * 'https://gist.github.com/1288bff2f9e05394a94312010da267bb'\n",
    "a_b.a(), a_b.b(), c.c()"
   ]
  },
  {
   "cell_type": "markdown",
   "metadata": {
    "papermill": {
     "duration": 0.024453,
     "end_time": "2020-06-24T23:36:31.889074",
     "exception": false,
     "start_time": "2020-06-24T23:36:31.864621",
     "status": "completed"
    },
    "tags": []
   },
   "source": [
    "This is is analogous to `import *` syntax, but can be used to import from arbitrary URLs (in this case, `ur` detects that the URL represents a gist, and imports the two `.ipynb` modules found there).\n",
    "\n",
    "Here is an equivalent import using the `ur(…)` syntax:"
   ]
  },
  {
   "cell_type": "code",
   "execution_count": 6,
   "metadata": {
    "execution": {
     "iopub.execute_input": "2020-06-24T23:36:31.943741Z",
     "iopub.status.busy": "2020-06-24T23:36:31.942737Z",
     "iopub.status.idle": "2020-06-24T23:36:32.067040Z",
     "shell.execute_reply": "2020-06-24T23:36:32.066425Z"
    },
    "papermill": {
     "duration": 0.154418,
     "end_time": "2020-06-24T23:36:32.067221",
     "exception": false,
     "start_time": "2020-06-24T23:36:31.912803",
     "status": "completed"
    },
    "tags": []
   },
   "outputs": [
    {
     "data": {
      "text/plain": [
       "('aaa', 'bbb', 'ccc')"
      ]
     },
     "execution_count": 6,
     "metadata": {},
     "output_type": "execute_result"
    }
   ],
   "source": [
    "import ur\n",
    "ur(gist='1288bff2f9e05394a94312010da267bb', all='*')\n",
    "a_b.a(), a_b.b(), c.c()"
   ]
  },
  {
   "cell_type": "code",
   "execution_count": 7,
   "metadata": {
    "execution": {
     "iopub.execute_input": "2020-06-24T23:36:32.116804Z",
     "iopub.status.busy": "2020-06-24T23:36:32.115683Z",
     "iopub.status.idle": "2020-06-24T23:36:32.269616Z",
     "shell.execute_reply": "2020-06-24T23:36:32.268884Z"
    },
    "papermill": {
     "duration": 0.182007,
     "end_time": "2020-06-24T23:36:32.269785",
     "exception": false,
     "start_time": "2020-06-24T23:36:32.087778",
     "status": "completed"
    },
    "tags": []
   },
   "outputs": [
    {
     "data": {
      "text/plain": [
       "'ccc'"
      ]
     },
     "execution_count": 7,
     "metadata": {},
     "output_type": "execute_result"
    }
   ],
   "source": [
    "import ur\n",
    "url = 'https://gist.githubusercontent.com/ryan-williams/1288bff2f9e05394a94312010da267bb/raw/0a2b5966c22c5461734063b78239262e39e4f363/c.ipynb'\n",
    "ur(url, all=True)\n",
    "c()"
   ]
  },
  {
   "cell_type": "markdown",
   "metadata": {
    "papermill": {
     "duration": 0.021929,
     "end_time": "2020-06-24T23:36:32.311950",
     "exception": false,
     "start_time": "2020-06-24T23:36:32.290021",
     "status": "completed"
    },
    "tags": []
   },
   "source": [
    "### Configuration: `ur.opts` <a id=\"configs\"></a>\n",
    "Various behaviors can be configured via the `ur.opts` object:\n",
    "\n",
    "#### `only_defs` <a id=\"config.only_defs\"></a>\n",
    "Default: `True`\n",
    "\n",
    "Only bring certain top-level entities (functions, modules, and imported symbols; see [`CellDeleter`](./cells.py)) into scope from the imported module.\n",
    "\n",
    "#### `verbose` <a id=\"config.verbose\"></a>\n",
    "Default: `False`\n",
    "Eenable verbose logging during import magic\n",
    "\n",
    "#### `skip_cache` <a id=\"config.skip_cache\"></a>\n",
    "Default: `False`\n",
    "\n",
    "When set, pull latest versions of imported modules (instead of reusing Git clones cached by previous runs).\n",
    "\n",
    "#### `cache_root` <a id=\"config.cache_root\"></a>\n",
    "Default `.objs`\n",
    "\n",
    "Remote imported modules are cloned and cached here, namespaced by their type and a primary key.\n",
    "\n",
    "For example, the example Gist referenced above will persist information in a directory called `.objs/Gist/1288bff2f9e05394a94312010da267bb`.\n",
    "\n",
    "[`cache-root-example.ipynb`](./cache-root-example.ipynb) shows how to set a non-default `cache_root`, and what the cache dir's contents look like.\n",
    "\n",
    "#### `encoding` <a id=\"config.encoding\"></a>\n",
    "Default: `utf-8`\n",
    "\n",
    "Encoding to decode remote notebooks with."
   ]
  },
  {
   "cell_type": "markdown",
   "metadata": {
    "papermill": {
     "duration": 0.0248,
     "end_time": "2020-06-24T23:36:32.357887",
     "exception": false,
     "start_time": "2020-06-24T23:36:32.333087",
     "status": "completed"
    },
    "tags": []
   },
   "source": [
    "## Discussion <a id=\"discussion\"></a>\n",
    "Jupyter notebooks provide a rich, literate programming experience that is preferable to conventional IDE-based Python environments in many ways.\n",
    "\n",
    "However, conventional wisdom is that reusing code in notebooks requires porting it to `.py` files. This is tedious and often requires trashing some of what makes notebooks great in the first place (rich, inline documentation, easy reproducibility, etc.).\n",
    "\n",
    "Jupyter itself provides [sample code for importing code from (local) Jupyter notebooks](https://jupyter-notebook.readthedocs.io/en/stable/examples/Notebook/Importing%20Notebooks.html) ([originally from 2014?](https://github.com/adrn/ipython/blob/master/examples/Notebook/Importing%20Notebooks.ipynb)), and [several](https://github.com/marella/nbimport) [packages](https://github.com/rileyedmunds/import-ipynb), [repositories](https://github.com/ipython/ipynb), [blog posts](https://vispud.blogspot.com/2019/02/ipynb-import-another-ipynb-file.html), [and](https://github.com/jupyter/notebook/issues/1588) [issues](https://github.com/jupyter/notebook/issues/3479) have built on and published similar code.\n",
    "\n",
    "[nbimporter](https://github.com/grst/nbimporter) (which this repo is a fork of) is perhaps most notable, allowing seamless reuse of Jupyter-resident utilities within single projects, but [its author now recommends factoring code out to `.py` modules](https://github.com/grst/nbimporter/blob/0fc2bdf458005be742090f67c306a4e3bcc04e77/README.md#update-2019-06-i-do-not-recommend-any-more-to-use-nbimporter).\n",
    "\n",
    "The Jupyter ecosystem increasingly shines for the ease with which it allows of publishing and sharing notebooks, and stands to gain a lot from easier remixing+reuse of the wealth of code and data being published in Jupyter notebooks every day. I believe there are straightforward answers to [the reproducibility and testability concerns raised in `nbimporter`](https://github.com/grst/nbimporter/blob/0fc2bdf458005be742090f67c306a4e3bcc04e77/README.md#why), and built the `ur` package to bear that out (and solve immediate productivity and code-reuse needs in my day-to-day life).\n",
    "\n",
    "### Remote importing: package-less publishing <a id=\"package-less\"></a>\n",
    "An animating idea of `ur` is that publishing+reusing a useful helper function should be no harder than\n",
    "Reuse of code in Jupyter notebooks should be made as easy as possible. Users shouldn't have to mangle their utility-code and then publish it to Pip repositories in order to avoid copy/pasting standard helpers in every notebook/project they work in.\n",
    "\n",
    "Importing code directly from remote Notebooks (or `.py` files) allows frictionless code reuse beyond what Python/Jupyter users are offered today.\n",
    "\n",
    "### GitHub Gists: \"anyone with the link can view\" git repositories <a id=\"link-visibility\"></a>\n",
    "`ur` particularly emphasizes using and importing from [GitHub Gists](https://help.github.com/en/enterprise/2.13/user/articles/about-gists). Like `git` itself, Gists combine a few simple but powerful concepts orthogonally, forming a great platform for sharing and tracking code:\n",
    "- Gists are the only service I'm aware of that allows \"publishing\" a Git repository to an opaque URL that can be easily shared, but is otherwise (cryptographically, I think?) private, not search-indexed, etc.\n",
    "  - [GitLab snippets](https://docs.gitlab.com/ee/user/snippets.html) are a comparable product, but [a request for this feature is open at time of writing](https://gitlab.com/gitlab-org/gitlab/issues/14201)\n",
    "- Each Gist is backed by a full Git repository, under the hood\n",
    "  - Gists can therefore track changes to many files over time\n",
    "  - Users can choose to view Gists' \"latest `HEAD`\" content (the default on https://gist.github.com), or specify frozen Git-SHA permalinks for guaranteed reproducibility\n",
    "    - both \"modes\" are supported via web browser, Git CLI, or [GitHub API](https://developer.github.com/v3/gists/#get-a-single-gist)\n",
    "- Many CLIs and SDKs exist for interacting with Gists from different languages/environments\n",
    "  - [I previously wrote a `gist-dir` helper](https://github.com/defunkt/gist/issues/191#issuecomment-569572229) that uploads an entire directory as a Gist (also working around issues with binary data that the Gist API normally doesn't handle correctly)\n",
    "\n",
    "### Use-case: portable, shareable \"dotfiles\" <a id=\"dotfiles\"></a>\n",
    "Something that `ur` makes easy is boilerplate-free reuse of common imports and aliases across notebooks/projects/users.\n",
    "\n",
    "For example, \"everyone\" imports `numpy as np`, `pandas as pd`, `plotly as pl`, etc. I have a few that I like in addition: `from os import environ as env`, `from sys import python as executable`, etc.\n",
    "\n",
    "`ur` offers several minimal-boilerplate ways to let you (and anyone you share your notebook with) use all the helpers you like, portably, without having to redeclare them or otherwise interfere with the environment you originally used them in:\n",
    "\n",
    "```python\n",
    "import ur\n",
    "ur(github='ryan-williams/dotfiles', tree='v1.0', file='dotfiles.ipynb', all='*')\n",
    "```\n",
    "\n",
    "Many versions of this can be used, depending on your preferences, e.g.:\n",
    "\n",
    "```python\n",
    "from gist.abcdef0123456789abcdef0123456789 import *\n",
    "```\n",
    "\n",
    "### Future work <a id=\"future-work\"></a>\n",
    "\n",
    "#### Customize import behavior\n",
    "- [x] test/handle intra-gist imports\n",
    "- [ ] test/handle pip dependencies in gist imports\n",
    "- [ ] API for tagging/skipping cells in notebooks (visualizations, tests, etc.)\n",
    "- [ ] Context manager for controlling ancestor imports\n",
    "- [ ] Skip importing notebooks with [Papermill `parameters` tags](https://papermill.readthedocs.io/en/latest/usage-parameterize.html#designate-parameters-for-a-cell)\n",
    "- [ ] work with `importlib.reload`\n",
    "- [x] support `__init__.ipynb` (automatically load notebook when loading Gist), `__all__` (configure `import *` behavior)\n",
    "- [ ] more nuanced TTL / `skip_cache` behavior (e.g. let cached URLs time-out appropriately based on HTTP headers, a la [`requests-cache`](https://pypi.org/project/requests-cache/))\n",
    "- [ ] `setup.py` \"extras\" to allow for `pip`-installing only specific pieces (e.g. exclude gists/github/gitlab?)\n",
    "\n",
    "#### Usability\n",
    "- [ ] pretty-print info about what's imported (in notebook environments)\n",
    "- proper logging:\n",
    "  - [ ] support `dict` for `opts.verbose`\n",
    "  - [ ] colorized / rich log rendering (incl. HTML in notebook environments)\n",
    "\n",
    "Speed\n",
    "- [ ] do some benchmarking\n",
    "- [ ] read from `__pycache__`, when present, instead of compiling\n",
    "\n",
    "#### Import Sources\n",
    "- [x] support github / gitlab imports\n",
    "- [ ] Support `nbformat`/Jupyter versions >4\n",
    "\n",
    "Import from specific refs within Gists/repos:\n",
    "  - [ ] commit SHAs (e.g. `gist._1288bff2f9e05394a94312010da267bb._8d7c134f5ef7bd340fd52840006d37bdd52515a5`)\n",
    "  - [ ] short commit SHAs (e.g. `gist._1288bff2f9e05394a94312010da267bb._8d7c134`)\n",
    "  - [ ] branch names (e.g. `gist._1288bff2f9e05394a94312010da267bb.master`)\n",
    "  - [ ] tags (e.g. `gist._1288bff2f9e05394a94312010da267bb.v1.0`)\n",
    "\n",
    "#### Project Management\n",
    "- [ ] Minimize(+freeze!) [dependencies](./setup.py)\n",
    "- Self-hosting:\n",
    "  - [ ] put code in notebooks\n",
    "  - [ ] mirror repository in a Gist\n",
    "  - [ ] implement subsequent versions of `ur` using earlier versions of `ur` (importing from remote, package-less locations)\n",
    "- [x] run `*-test.ipynb` notebooks as tests\n",
    "- [x] set up CI\n",
    "- [x] generate `README.md` from `README.ipynb` with pre-commit hook\n",
    "- [ ] convert/copy all of these TODOs GitHub into issues!"
   ]
  }
 ],
 "metadata": {
  "kernelspec": {
   "display_name": "3.8.2",
   "language": "python",
   "name": "3.8.2"
  },
  "language_info": {
   "codemirror_mode": {
    "name": "ipython",
    "version": 3
   },
   "file_extension": ".py",
   "mimetype": "text/x-python",
   "name": "python",
   "nbconvert_exporter": "python",
   "pygments_lexer": "ipython3",
   "version": "3.8.2"
  },
  "papermill": {
   "duration": 25.219879,
   "end_time": "2020-06-24T23:36:33.863855",
   "environment_variables": {},
   "exception": null,
   "input_path": "README.ipynb",
   "output_path": "README.ipynb",
   "parameters": {},
   "start_time": "2020-06-24T23:36:08.643976",
   "version": "2.1.1"
  }
 },
 "nbformat": 4,
 "nbformat_minor": 2
}
