{
 "cells": [
  {
   "cell_type": "markdown",
   "metadata": {
    "papermill": {
     "duration": 0.018764,
     "end_time": "2020-05-30T18:38:14.586361",
     "exception": false,
     "start_time": "2020-05-30T18:38:14.567597",
     "status": "completed"
    },
    "tags": []
   },
   "source": [
    "Test importing from URLs:\n",
    "- spin up an HTTP server serving local files\n",
    "- import a notebook by URL\n",
    "\n",
    "`papermill` params:"
   ]
  },
  {
   "cell_type": "code",
   "execution_count": 1,
   "metadata": {
    "execution": {
     "iopub.execute_input": "2020-05-30T18:38:14.624558Z",
     "iopub.status.busy": "2020-05-30T18:38:14.623384Z",
     "iopub.status.idle": "2020-05-30T18:38:14.626266Z",
     "shell.execute_reply": "2020-05-30T18:38:14.625772Z"
    },
    "papermill": {
     "duration": 0.021996,
     "end_time": "2020-05-30T18:38:14.626361",
     "exception": false,
     "start_time": "2020-05-30T18:38:14.604365",
     "status": "completed"
    },
    "tags": [
     "parameters"
    ]
   },
   "outputs": [],
   "source": [
    "# Configs for web server that we'll run, and load notebooks from:\n",
    "host = 'localhost'\n",
    "port = 8000"
   ]
  },
  {
   "cell_type": "markdown",
   "metadata": {
    "papermill": {
     "duration": 0.013422,
     "end_time": "2020-05-30T18:38:14.653196",
     "exception": false,
     "start_time": "2020-05-30T18:38:14.639774",
     "status": "completed"
    },
    "tags": []
   },
   "source": [
    "Serve the current directory over an HTTP server:"
   ]
  },
  {
   "cell_type": "code",
   "execution_count": 2,
   "metadata": {
    "execution": {
     "iopub.execute_input": "2020-05-30T18:38:14.686726Z",
     "iopub.status.busy": "2020-05-30T18:38:14.685851Z",
     "iopub.status.idle": "2020-05-30T18:38:15.695338Z",
     "shell.execute_reply": "2020-05-30T18:38:15.693764Z"
    },
    "papermill": {
     "duration": 1.028973,
     "end_time": "2020-05-30T18:38:15.695478",
     "exception": false,
     "start_time": "2020-05-30T18:38:14.666505",
     "status": "completed"
    },
    "tags": []
   },
   "outputs": [
    {
     "name": "stdout",
     "output_type": "stream",
     "text": [
      "serving at localhost:8000\n"
     ]
    }
   ],
   "source": [
    "def http_server():\n",
    "    from http.server import SimpleHTTPRequestHandler as Handler \n",
    "    from socketserver import TCPServer\n",
    "\n",
    "    with TCPServer((host, port), Handler) as httpd:\n",
    "        print(f\"serving at {host}:{port}\")\n",
    "        httpd.serve_forever()\n",
    "    \n",
    "from threading import Thread\n",
    "thread = Thread(target=http_server)\n",
    "thread.start()\n",
    "from time import sleep\n",
    "sleep(1)"
   ]
  },
  {
   "cell_type": "markdown",
   "metadata": {
    "papermill": {
     "duration": 0.016474,
     "end_time": "2020-05-30T18:38:15.737174",
     "exception": false,
     "start_time": "2020-05-30T18:38:15.720700",
     "status": "completed"
    },
    "tags": []
   },
   "source": [
    "## Import a remote notebook as a Python module:"
   ]
  },
  {
   "cell_type": "code",
   "execution_count": 3,
   "metadata": {
    "execution": {
     "iopub.execute_input": "2020-05-30T18:38:15.770944Z",
     "iopub.status.busy": "2020-05-30T18:38:15.769727Z",
     "iopub.status.idle": "2020-05-30T18:38:16.085177Z",
     "shell.execute_reply": "2020-05-30T18:38:16.085580Z"
    },
    "papermill": {
     "duration": 0.334273,
     "end_time": "2020-05-30T18:38:16.085691",
     "exception": false,
     "start_time": "2020-05-30T18:38:15.751418",
     "status": "completed"
    },
    "scrolled": false,
    "tags": []
   },
   "outputs": [
    {
     "name": "stdout",
     "output_type": "stream",
     "text": [
      "Forwarding dir .objs/URL/http:/localhost:8000/a_b.ipynb/content for url URL(id=http://localhost:8000/a_b.ipynb)\n"
     ]
    },
    {
     "data": {
      "text/plain": [
       "<module '.objs/URL/http:/localhost:8000/a_b.ipynb/content' from '.objs/URL/http:/localhost:8000/a_b.ipynb/content'>"
      ]
     },
     "execution_count": 3,
     "metadata": {},
     "output_type": "execute_result"
    }
   ],
   "source": [
    "import ur\n",
    "url = 'http://localhost:8000/a_b.ipynb'\n",
    "ur * url"
   ]
  },
  {
   "cell_type": "code",
   "execution_count": 4,
   "metadata": {
    "execution": {
     "iopub.execute_input": "2020-05-30T18:38:16.122371Z",
     "iopub.status.busy": "2020-05-30T18:38:16.121828Z",
     "iopub.status.idle": "2020-05-30T18:38:16.127020Z",
     "shell.execute_reply": "2020-05-30T18:38:16.126503Z"
    },
    "papermill": {
     "duration": 0.025343,
     "end_time": "2020-05-30T18:38:16.127101",
     "exception": false,
     "start_time": "2020-05-30T18:38:16.101758",
     "status": "completed"
    },
    "tags": []
   },
   "outputs": [
    {
     "data": {
      "text/plain": [
       "'aaa'"
      ]
     },
     "execution_count": 4,
     "metadata": {},
     "output_type": "execute_result"
    }
   ],
   "source": [
    "a()"
   ]
  },
  {
   "cell_type": "code",
   "execution_count": 5,
   "metadata": {
    "execution": {
     "iopub.execute_input": "2020-05-30T18:38:16.162807Z",
     "iopub.status.busy": "2020-05-30T18:38:16.161836Z",
     "iopub.status.idle": "2020-05-30T18:38:16.166111Z",
     "shell.execute_reply": "2020-05-30T18:38:16.165574Z"
    },
    "papermill": {
     "duration": 0.024095,
     "end_time": "2020-05-30T18:38:16.166240",
     "exception": false,
     "start_time": "2020-05-30T18:38:16.142145",
     "status": "completed"
    },
    "tags": []
   },
   "outputs": [
    {
     "data": {
      "text/plain": [
       "'bbb'"
      ]
     },
     "execution_count": 5,
     "metadata": {},
     "output_type": "execute_result"
    }
   ],
   "source": [
    "b()"
   ]
  },
  {
   "cell_type": "code",
   "execution_count": 6,
   "metadata": {
    "execution": {
     "iopub.execute_input": "2020-05-30T18:38:16.200665Z",
     "iopub.status.busy": "2020-05-30T18:38:16.200050Z",
     "iopub.status.idle": "2020-05-30T18:38:16.208651Z",
     "shell.execute_reply": "2020-05-30T18:38:16.208077Z"
    },
    "papermill": {
     "duration": 0.02734,
     "end_time": "2020-05-30T18:38:16.208732",
     "exception": false,
     "start_time": "2020-05-30T18:38:16.181392",
     "status": "completed"
    },
    "tags": []
   },
   "outputs": [],
   "source": [
    "import c"
   ]
  },
  {
   "cell_type": "code",
   "execution_count": 7,
   "metadata": {
    "execution": {
     "iopub.execute_input": "2020-05-30T18:38:16.245525Z",
     "iopub.status.busy": "2020-05-30T18:38:16.244942Z",
     "iopub.status.idle": "2020-05-30T18:38:16.250321Z",
     "shell.execute_reply": "2020-05-30T18:38:16.249753Z"
    },
    "papermill": {
     "duration": 0.025042,
     "end_time": "2020-05-30T18:38:16.250415",
     "exception": false,
     "start_time": "2020-05-30T18:38:16.225373",
     "status": "completed"
    },
    "tags": []
   },
   "outputs": [
    {
     "data": {
      "text/plain": [
       "'ccc'"
      ]
     },
     "execution_count": 7,
     "metadata": {},
     "output_type": "execute_result"
    }
   ],
   "source": [
    "c.c()"
   ]
  },
  {
   "cell_type": "code",
   "execution_count": 8,
   "metadata": {
    "execution": {
     "iopub.execute_input": "2020-05-30T18:38:16.285461Z",
     "iopub.status.busy": "2020-05-30T18:38:16.284899Z",
     "iopub.status.idle": "2020-05-30T18:38:16.288035Z",
     "shell.execute_reply": "2020-05-30T18:38:16.288864Z"
    },
    "papermill": {
     "duration": 0.022796,
     "end_time": "2020-05-30T18:38:16.289077",
     "exception": false,
     "start_time": "2020-05-30T18:38:16.266281",
     "status": "completed"
    },
    "tags": []
   },
   "outputs": [],
   "source": [
    "from c import c"
   ]
  },
  {
   "cell_type": "code",
   "execution_count": 9,
   "metadata": {
    "execution": {
     "iopub.execute_input": "2020-05-30T18:38:16.324963Z",
     "iopub.status.busy": "2020-05-30T18:38:16.324375Z",
     "iopub.status.idle": "2020-05-30T18:38:16.328540Z",
     "shell.execute_reply": "2020-05-30T18:38:16.327989Z"
    },
    "papermill": {
     "duration": 0.023396,
     "end_time": "2020-05-30T18:38:16.328621",
     "exception": false,
     "start_time": "2020-05-30T18:38:16.305225",
     "status": "completed"
    },
    "tags": []
   },
   "outputs": [
    {
     "data": {
      "text/plain": [
       "'ccc'"
      ]
     },
     "execution_count": 9,
     "metadata": {},
     "output_type": "execute_result"
    }
   ],
   "source": [
    "c()"
   ]
  },
  {
   "cell_type": "code",
   "execution_count": 10,
   "metadata": {
    "execution": {
     "iopub.execute_input": "2020-05-30T18:38:16.369068Z",
     "iopub.status.busy": "2020-05-30T18:38:16.368436Z",
     "iopub.status.idle": "2020-05-30T18:38:16.395768Z",
     "shell.execute_reply": "2020-05-30T18:38:16.396289Z"
    },
    "papermill": {
     "duration": 0.049957,
     "end_time": "2020-05-30T18:38:16.396397",
     "exception": false,
     "start_time": "2020-05-30T18:38:16.346440",
     "status": "completed"
    },
    "tags": []
   },
   "outputs": [
    {
     "name": "stdout",
     "output_type": "stream",
     "text": [
      "Forwarding dir .objs/URL/http:/localhost:8000/c.ipynb/content for url URL(id=http://localhost:8000/c.ipynb)\n"
     ]
    },
    {
     "data": {
      "text/plain": [
       "<module '.objs/URL/http:/localhost:8000/c.ipynb/content' from '.objs/URL/http:/localhost:8000/c.ipynb/content'>"
      ]
     },
     "execution_count": 10,
     "metadata": {},
     "output_type": "execute_result"
    }
   ],
   "source": [
    "local = ur * 'http://localhost:8000/c.ipynb'\n",
    "local"
   ]
  },
  {
   "cell_type": "code",
   "execution_count": 11,
   "metadata": {
    "execution": {
     "iopub.execute_input": "2020-05-30T18:38:16.432516Z",
     "iopub.status.busy": "2020-05-30T18:38:16.431725Z",
     "iopub.status.idle": "2020-05-30T18:38:16.437833Z",
     "shell.execute_reply": "2020-05-30T18:38:16.438460Z"
    },
    "papermill": {
     "duration": 0.025389,
     "end_time": "2020-05-30T18:38:16.438581",
     "exception": false,
     "start_time": "2020-05-30T18:38:16.413192",
     "status": "completed"
    },
    "tags": []
   },
   "outputs": [
    {
     "data": {
      "text/plain": [
       "'ccc'"
      ]
     },
     "execution_count": 11,
     "metadata": {},
     "output_type": "execute_result"
    }
   ],
   "source": [
    "local.c()"
   ]
  },
  {
   "cell_type": "code",
   "execution_count": 12,
   "metadata": {
    "execution": {
     "iopub.execute_input": "2020-05-30T18:38:16.478517Z",
     "iopub.status.busy": "2020-05-30T18:38:16.477991Z",
     "iopub.status.idle": "2020-05-30T18:38:16.482768Z",
     "shell.execute_reply": "2020-05-30T18:38:16.483433Z"
    },
    "papermill": {
     "duration": 0.026159,
     "end_time": "2020-05-30T18:38:16.483550",
     "exception": false,
     "start_time": "2020-05-30T18:38:16.457391",
     "status": "completed"
    },
    "tags": []
   },
   "outputs": [
    {
     "data": {
      "text/plain": [
       "'ccc'"
      ]
     },
     "execution_count": 12,
     "metadata": {},
     "output_type": "execute_result"
    }
   ],
   "source": [
    "c()"
   ]
  },
  {
   "cell_type": "code",
   "execution_count": 13,
   "metadata": {
    "execution": {
     "iopub.execute_input": "2020-05-30T18:38:16.521757Z",
     "iopub.status.busy": "2020-05-30T18:38:16.521244Z",
     "iopub.status.idle": "2020-05-30T18:38:18.121270Z",
     "shell.execute_reply": "2020-05-30T18:38:18.121758Z"
    },
    "papermill": {
     "duration": 1.620402,
     "end_time": "2020-05-30T18:38:18.121879",
     "exception": false,
     "start_time": "2020-05-30T18:38:16.501477",
     "status": "completed"
    },
    "tags": []
   },
   "outputs": [
    {
     "data": {
      "text/plain": [
       "<module 'gists._1288bff2f9e05394a94312010da267bb.a_b' (https://gist.githubusercontent.com/ryan-williams/1288bff2f9e05394a94312010da267bb/raw/4cb2c6dc67ffceb540fd41ded4b61a6f72cd57dc/a_b.ipynb)>"
      ]
     },
     "execution_count": 13,
     "metadata": {},
     "output_type": "execute_result"
    }
   ],
   "source": [
    "from a_b import *     # ✅\n",
    "from a_b import a     # ✅\n",
    "from a_b import a, b  # ✅\n",
    "import a_b            # ✅\n",
    "\n",
    "import gist._1288bff2f9e05394a94312010da267bb\n",
    "from gist._1288bff2f9e05394a94312010da267bb import *\n",
    "from gist._1288bff2f9e05394a94312010da267bb import a_b\n",
    "from gist._1288bff2f9e05394a94312010da267bb import c\n",
    "from gist._1288bff2f9e05394a94312010da267bb.a_b import *\n",
    "from gist._1288bff2f9e05394a94312010da267bb.a_b import a, b\n",
    "\n",
    "ur * 'https://gist.github.com/1288bff2f9e05394a94312010da267bb'\n",
    "ur * 'https://gist.github.com/ryan-williams/1288bff2f9e05394a94312010da267bb#file-a_b-ipynb'  # ✅"
   ]
  }
 ],
 "metadata": {
  "kernelspec": {
   "display_name": "ur-3.8.2",
   "language": "python",
   "name": "ur-3.8.2"
  },
  "language_info": {
   "codemirror_mode": {
    "name": "ipython",
    "version": 3
   },
   "file_extension": ".py",
   "mimetype": "text/x-python",
   "name": "python",
   "nbconvert_exporter": "python",
   "pygments_lexer": "ipython3",
   "version": "3.8.2"
  },
  "papermill": {
   "duration": 4.459388,
   "end_time": "2020-05-30T18:38:18.255156",
   "environment_variables": {},
   "exception": null,
   "input_path": "/ur/url-import-test.ipynb",
   "output_path": "/ur/out/url-import-test.ipynb",
   "parameters": {},
   "start_time": "2020-05-30T18:38:13.795768",
   "version": "2.1.1"
  }
 },
 "nbformat": 4,
 "nbformat_minor": 2
}