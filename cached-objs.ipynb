{
 "cells": [
  {
   "cell_type": "code",
   "execution_count": 41,
   "metadata": {},
   "outputs": [],
   "source": [
    "from functools import partial, partialmethod, wraps\n",
    "import json\n",
    "from pathlib import Path\n",
    "class Meta(type):\n",
    "    def __new__(cls, clsname, bases, dct):\n",
    "        print(f'Meta.__new__({cls}, {clsname}, {bases}, {dct})')\n",
    "        methods = dct.copy()\n",
    "        fields = []\n",
    "        dir = Path.cwd() / '.objs'\n",
    "        dir.mkdir(parents=True, exist_ok=True)\n",
    "        for name, fn in dct.items():\n",
    "            print(f'Checking: {name}: {fn}')\n",
    "            if isinstance(fn, property):\n",
    "                print(f'property: {name} -> {fn}')\n",
    "                fields.append(name)\n",
    "                field_name = f'_{name}'\n",
    "\n",
    "                @wraps(fn)\n",
    "                def wrapped_fn(self, name, field_name, fn, *args, **kwargs):\n",
    "                    print(f'wrapped_fn: {name} ({field_name}): {fn}')\n",
    "                    if not hasattr(self, field_name):\n",
    "                        print(f'Computing: {name}')\n",
    "                        assert isinstance(fn, property), fn\n",
    "                        val = fn.fget(self, *args, **kwargs)\n",
    "                        print(f'Computed: {name}={val}')\n",
    "                        path = dir / name\n",
    "                        print(f'Saving {name} to {path}')\n",
    "                        with path.open('w') as f:\n",
    "                            json.dump(val, f)\n",
    "                        setattr(self, field_name, val)\n",
    "                    else:\n",
    "                        print(f'Lookup: {name}={getattr(self, field_name)}')\n",
    "                    return getattr(self, field_name)\n",
    "\n",
    "                applied = wraps(fn)(partialmethod(wrapped_fn, name=name, field_name=field_name, fn=fn))\n",
    "                print(f'Setting method: {name}: {applied}')\n",
    "                methods[name] = applied\n",
    "            else:\n",
    "                print(f'Skipping: {name}')\n",
    "                    \n",
    "        print(f'Fields: {fields}')\n",
    "        orig_init = None\n",
    "        if '__init__' in methods:\n",
    "            orig_init = methods['__init__']\n",
    "\n",
    "        def __init__(self, *args, **kwargs):\n",
    "            print(f'__init__(self, {args}, {kwargs})')\n",
    "            _kwargs = kwargs.copy()\n",
    "            for field in fields:\n",
    "                field_name = f'_{field}'\n",
    "                if field in _kwargs:\n",
    "                    val = _kwargs.pop(field)\n",
    "                    print(f'Initializing {field_name}={val}')\n",
    "                    setattr(self, field_name, val)\n",
    "                else:\n",
    "                    print(f'Skipping {field_name}')\n",
    "\n",
    "            if orig_init:\n",
    "                orig_init(self, *args, **_kwargs)\n",
    "            \n",
    "            print(f'Done with injected __init__: n={self.n}')\n",
    "        \n",
    "        methods['__init__'] = __init__\n",
    "\n",
    "        def load(clz, dir, *args, **_kwargs):\n",
    "            print(f'Calling: {clz}.load({dir}, {args}, {_kwargs})')\n",
    "            kwargs = _kwargs.copy()\n",
    "            dir = Path(dir)\n",
    "            if not dir.exists():\n",
    "                raise Exception(f\"Can't load from non-existent directory {dir}\")\n",
    "\n",
    "            kwargs = {}    \n",
    "            for field in fields:\n",
    "                path = dir / field\n",
    "                if path.exists():\n",
    "                    with path.open('r') as f:\n",
    "                        val = json.load(f)\n",
    "                    if field in kwargs:\n",
    "                        print(f'Loaded field {field}={val} being overridden by passed value {kwargs[field]}')\n",
    "                    else:\n",
    "                        kwargs[field] = val\n",
    "            \n",
    "            print(f'Loading with fields: {kwargs}; super {super(Meta, cls)}')\n",
    "            self = clz.__new__(clz, clsname, bases, dct)\n",
    "            \n",
    "            __init__(self, *args, **kwargs)\n",
    "            return self\n",
    "        \n",
    "        methods['load'] = classmethod(load)\n",
    "        new = super(Meta, cls).__new__(cls, clsname, bases, methods)\n",
    "        print(f'returning {new}: {methods}')\n",
    "\n",
    "        return new "
   ]
  },
  {
   "cell_type": "code",
   "execution_count": 42,
   "metadata": {},
   "outputs": [
    {
     "name": "stdout",
     "output_type": "stream",
     "text": [
      "Meta.__new__(<class '__main__.Meta'>, Foo, (), {'__module__': '__main__', '__qualname__': 'Foo', '__init__': <function Foo.__init__ at 0x10c64f290>, 'a': <property object at 0x10c657bf0>, 'b': <property object at 0x10c657ad0>, '__str__': <function Foo.__str__ at 0x10c64fe60>})\n",
      "Checking: __module__: __main__\n",
      "Skipping: __module__\n",
      "Checking: __qualname__: Foo\n",
      "Skipping: __qualname__\n",
      "Checking: __init__: <function Foo.__init__ at 0x10c64f290>\n",
      "Skipping: __init__\n",
      "Checking: a: <property object at 0x10c657bf0>\n",
      "property: a -> <property object at 0x10c657bf0>\n",
      "Setting method: a: functools.partialmethod(<function Meta.__new__.<locals>.wrapped_fn at 0x10c649b00>, , name='a', field_name='_a', fn=<property object at 0x10c657bf0>)\n",
      "Checking: b: <property object at 0x10c657ad0>\n",
      "property: b -> <property object at 0x10c657ad0>\n",
      "Setting method: b: functools.partialmethod(<function Meta.__new__.<locals>.wrapped_fn at 0x10c6493b0>, , name='b', field_name='_b', fn=<property object at 0x10c657ad0>)\n",
      "Checking: __str__: <function Foo.__str__ at 0x10c64fe60>\n",
      "Skipping: __str__\n",
      "Fields: ['a', 'b']\n",
      "returning <class '__main__.Foo'>: {'__module__': '__main__', '__qualname__': 'Foo', '__init__': <function Meta.__new__.<locals>.__init__ at 0x10c677050>, 'a': functools.partialmethod(<function Meta.__new__.<locals>.wrapped_fn at 0x10c649b00>, , name='a', field_name='_a', fn=<property object at 0x10c657bf0>), 'b': functools.partialmethod(<function Meta.__new__.<locals>.wrapped_fn at 0x10c6493b0>, , name='b', field_name='_b', fn=<property object at 0x10c657ad0>), '__str__': <function Foo.__str__ at 0x10c64fe60>, 'load': <classmethod object at 0x10c65e450>}\n"
     ]
    }
   ],
   "source": [
    "class Foo(metaclass=Meta):\n",
    "    def __init__(self, n):\n",
    "        self.n = n\n",
    "        print(f'Foo.__init__(self, n={n})')\n",
    "        \n",
    "    @property\n",
    "    def a(self):\n",
    "        return f'{self.n}-a'\n",
    "\n",
    "    @property\n",
    "    def b(self):\n",
    "        return self.n * 2\n",
    "    \n",
    "    def __str__(f):\n",
    "        print(f'Foo.__str__(n={f.n})')\n",
    "        _a = getattr(f, '_a') if hasattr(f, '_a') else None\n",
    "        _b = getattr(f, '_b') if hasattr(f, '_b') else None\n",
    "        return f'Foo({f.a()} ({_a}), {f.b()} ({_b}))'"
   ]
  },
  {
   "cell_type": "code",
   "execution_count": 44,
   "metadata": {},
   "outputs": [
    {
     "name": "stdout",
     "output_type": "stream",
     "text": [
      "__init__(self, (111,), {})\n",
      "Skipping _a\n",
      "Skipping _b\n",
      "Foo.__init__(self, n=111)\n",
      "Done with injected __init__: n=111\n"
     ]
    }
   ],
   "source": [
    "f = Foo(111)"
   ]
  },
  {
   "cell_type": "code",
   "execution_count": 48,
   "metadata": {},
   "outputs": [
    {
     "data": {
      "text/plain": [
       "(False,\n",
       " False,\n",
       " functools.partial(<bound method Meta.__new__.<locals>.wrapped_fn of <__main__.Foo object at 0x10c66bc50>>, name='a', field_name='_a', fn=<property object at 0x10c657bf0>),\n",
       " functools.partial(<bound method Meta.__new__.<locals>.wrapped_fn of <__main__.Foo object at 0x10c66bc50>>, name='b', field_name='_b', fn=<property object at 0x10c657ad0>))"
      ]
     },
     "execution_count": 48,
     "metadata": {},
     "output_type": "execute_result"
    }
   ],
   "source": [
    "hasattr(f, '_a'), hasattr(f, '_b'), f.a, f.b"
   ]
  },
  {
   "cell_type": "code",
   "execution_count": 49,
   "metadata": {},
   "outputs": [
    {
     "name": "stdout",
     "output_type": "stream",
     "text": [
      "wrapped_fn: a (_a): <property object at 0x10c657bf0>\n",
      "Computing: a\n",
      "Computed: a=111-a\n",
      "Saving a to /Users/ryan/c/ur/.objs/a\n"
     ]
    },
    {
     "data": {
      "text/plain": [
       "'111-a'"
      ]
     },
     "execution_count": 49,
     "metadata": {},
     "output_type": "execute_result"
    }
   ],
   "source": [
    "f.a()"
   ]
  },
  {
   "cell_type": "code",
   "execution_count": 50,
   "metadata": {},
   "outputs": [
    {
     "name": "stdout",
     "output_type": "stream",
     "text": [
      "Calling: <class '__main__.Foo'>.load(.objs, (222,), {})\n",
      "Loading with fields: {'a': '111-a'}; super <super: <class 'Meta'>, <Meta object>>\n",
      "__init__(self, (222,), {'a': '111-a'})\n",
      "Initializing _a=111-a\n",
      "Skipping _b\n",
      "Foo.__init__(self, n=222)\n",
      "Done with injected __init__: n=222\n"
     ]
    },
    {
     "data": {
      "text/plain": [
       "<__main__.Foo at 0x10c64b6d0>"
      ]
     },
     "execution_count": 50,
     "metadata": {},
     "output_type": "execute_result"
    }
   ],
   "source": [
    "foo = Foo.load('.objs', 222); foo"
   ]
  },
  {
   "cell_type": "code",
   "execution_count": 51,
   "metadata": {},
   "outputs": [
    {
     "name": "stdout",
     "output_type": "stream",
     "text": [
      "wrapped_fn: a (_a): <property object at 0x10c657bf0>\n",
      "Lookup: a=111-a\n"
     ]
    },
    {
     "data": {
      "text/plain": [
       "'111-a'"
      ]
     },
     "execution_count": 51,
     "metadata": {},
     "output_type": "execute_result"
    }
   ],
   "source": [
    "foo.a()"
   ]
  },
  {
   "cell_type": "code",
   "execution_count": 52,
   "metadata": {},
   "outputs": [
    {
     "data": {
      "text/plain": [
       "222"
      ]
     },
     "execution_count": 52,
     "metadata": {},
     "output_type": "execute_result"
    }
   ],
   "source": [
    "foo.n"
   ]
  },
  {
   "cell_type": "code",
   "execution_count": 53,
   "metadata": {},
   "outputs": [
    {
     "ename": "AttributeError",
     "evalue": "'Foo' object has no attribute '_b'",
     "output_type": "error",
     "traceback": [
      "\u001b[0;31m---------------------------------------------------------------------------\u001b[0m",
      "\u001b[0;31mAttributeError\u001b[0m                            Traceback (most recent call last)",
      "\u001b[0;32m<ipython-input-53-9a32a6bca392>\u001b[0m in \u001b[0;36m<module>\u001b[0;34m\u001b[0m\n\u001b[0;32m----> 1\u001b[0;31m \u001b[0mfoo\u001b[0m\u001b[0;34m.\u001b[0m\u001b[0m_b\u001b[0m\u001b[0;34m\u001b[0m\u001b[0;34m\u001b[0m\u001b[0m\n\u001b[0m",
      "\u001b[0;31mAttributeError\u001b[0m: 'Foo' object has no attribute '_b'"
     ]
    }
   ],
   "source": [
    "foo._b"
   ]
  },
  {
   "cell_type": "code",
   "execution_count": 7,
   "metadata": {},
   "outputs": [
    {
     "name": "stdout",
     "output_type": "stream",
     "text": [
      "wrapped_fn: a (_b): <property object at 0x10b5815f0>\n",
      "Lookup: a=None\n"
     ]
    },
    {
     "data": {
      "text/plain": [
       "(None, None)"
      ]
     },
     "execution_count": 7,
     "metadata": {},
     "output_type": "execute_result"
    }
   ],
   "source": [
    "foo.a(), foo._a"
   ]
  },
  {
   "cell_type": "code",
   "execution_count": null,
   "metadata": {},
   "outputs": [],
   "source": [
    "str(foo)"
   ]
  },
  {
   "cell_type": "code",
   "execution_count": null,
   "metadata": {},
   "outputs": [],
   "source": []
  },
  {
   "cell_type": "code",
   "execution_count": 24,
   "metadata": {},
   "outputs": [
    {
     "data": {
      "text/plain": [
       "False"
      ]
     },
     "execution_count": 24,
     "metadata": {},
     "output_type": "execute_result"
    }
   ],
   "source": [
    "hasattr(f, '_a')"
   ]
  },
  {
   "cell_type": "code",
   "execution_count": 20,
   "metadata": {},
   "outputs": [
    {
     "name": "stdout",
     "output_type": "stream",
     "text": [
      "wrapped_fn: a (_b): <property object at 0x10b5db1d0>\n",
      "Lookup: a=111-a\n"
     ]
    },
    {
     "data": {
      "text/plain": [
       "'111-a'"
      ]
     },
     "execution_count": 20,
     "metadata": {},
     "output_type": "execute_result"
    }
   ],
   "source": [
    "f.a()"
   ]
  },
  {
   "cell_type": "code",
   "execution_count": null,
   "metadata": {},
   "outputs": [],
   "source": [
    "f.id, f._a, f._b"
   ]
  },
  {
   "cell_type": "code",
   "execution_count": null,
   "metadata": {},
   "outputs": [],
   "source": [
    "f.a, f.b"
   ]
  },
  {
   "cell_type": "code",
   "execution_count": null,
   "metadata": {},
   "outputs": [],
   "source": [
    "class Bar:\n",
    "    def __init__(self, n):\n",
    "        self.n = n"
   ]
  },
  {
   "cell_type": "code",
   "execution_count": null,
   "metadata": {},
   "outputs": [],
   "source": [
    "bar = Bar.__new__(Bar, 'Bar', ); bar"
   ]
  },
  {
   "cell_type": "code",
   "execution_count": null,
   "metadata": {},
   "outputs": [],
   "source": [
    "Bar.__init__(bar, 12)"
   ]
  },
  {
   "cell_type": "code",
   "execution_count": null,
   "metadata": {},
   "outputs": [],
   "source": [
    "bar.n"
   ]
  },
  {
   "cell_type": "code",
   "execution_count": null,
   "metadata": {},
   "outputs": [],
   "source": []
  }
 ],
 "metadata": {
  "kernelspec": {
   "display_name": "ur-3.7.4",
   "language": "python",
   "name": "ur-3.7.4"
  },
  "language_info": {
   "codemirror_mode": {
    "name": "ipython",
    "version": 3
   },
   "file_extension": ".py",
   "mimetype": "text/x-python",
   "name": "python",
   "nbconvert_exporter": "python",
   "pygments_lexer": "ipython3",
   "version": "3.7.4"
  }
 },
 "nbformat": 4,
 "nbformat_minor": 2
}
