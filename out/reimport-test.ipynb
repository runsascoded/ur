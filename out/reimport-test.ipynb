{
 "cells": [
  {
   "cell_type": "markdown",
   "metadata": {
    "papermill": {
     "duration": 0.012574,
     "end_time": "2020-06-08T04:58:53.371468",
     "exception": false,
     "start_time": "2020-06-08T04:58:53.358894",
     "status": "completed"
    },
    "tags": []
   },
   "source": [
    "# reimport-test\n",
    "Test importing [an example gist](https://gist.github.com/ryan-williams/aca1060cb371eb93eb14bb07ee68e4eb) (built from [the `mutating-notebook-test` submodule](./mutating-notebook-test)), with and without `ur.skip_cache` set."
   ]
  },
  {
   "cell_type": "code",
   "execution_count": 1,
   "metadata": {
    "execution": {
     "iopub.execute_input": "2020-06-08T04:58:53.398941Z",
     "iopub.status.busy": "2020-06-08T04:58:53.398010Z",
     "iopub.status.idle": "2020-06-08T04:58:53.601463Z",
     "shell.execute_reply": "2020-06-08T04:58:53.600840Z"
    },
    "papermill": {
     "duration": 0.217052,
     "end_time": "2020-06-08T04:58:53.601548",
     "exception": false,
     "start_time": "2020-06-08T04:58:53.384496",
     "status": "completed"
    },
    "tags": []
   },
   "outputs": [],
   "source": [
    "import ur"
   ]
  },
  {
   "cell_type": "markdown",
   "metadata": {
    "papermill": {
     "duration": 0.011094,
     "end_time": "2020-06-08T04:58:53.624620",
     "exception": false,
     "start_time": "2020-06-08T04:58:53.613526",
     "status": "completed"
    },
    "tags": []
   },
   "source": [
    "Set `ur.only_defs = False` to pick up the `timestamp` value set in [the example notebook](./mutating-notebook-test/example.ipynb) (which is not a function or other statement-type that `ur` would normally pick up, by default):"
   ]
  },
  {
   "cell_type": "code",
   "execution_count": 2,
   "metadata": {
    "execution": {
     "iopub.execute_input": "2020-06-08T04:58:53.645982Z",
     "iopub.status.busy": "2020-06-08T04:58:53.645513Z",
     "iopub.status.idle": "2020-06-08T04:58:53.650838Z",
     "shell.execute_reply": "2020-06-08T04:58:53.650405Z"
    },
    "papermill": {
     "duration": 0.018112,
     "end_time": "2020-06-08T04:58:53.650924",
     "exception": false,
     "start_time": "2020-06-08T04:58:53.632812",
     "status": "completed"
    },
    "tags": []
   },
   "outputs": [],
   "source": [
    "ur.only_defs = False"
   ]
  },
  {
   "cell_type": "markdown",
   "metadata": {
    "papermill": {
     "duration": 0.008353,
     "end_time": "2020-06-08T04:58:53.669190",
     "exception": false,
     "start_time": "2020-06-08T04:58:53.660837",
     "status": "completed"
    },
    "tags": []
   },
   "source": [
    "Optional: enable verbose logging of import machinery, gist resolution, and clone/pull activity:"
   ]
  },
  {
   "cell_type": "code",
   "execution_count": 3,
   "metadata": {
    "execution": {
     "iopub.execute_input": "2020-06-08T04:58:53.691615Z",
     "iopub.status.busy": "2020-06-08T04:58:53.691050Z",
     "iopub.status.idle": "2020-06-08T04:58:53.695797Z",
     "shell.execute_reply": "2020-06-08T04:58:53.695237Z"
    },
    "papermill": {
     "duration": 0.01716,
     "end_time": "2020-06-08T04:58:53.695880",
     "exception": false,
     "start_time": "2020-06-08T04:58:53.678720",
     "status": "completed"
    },
    "tags": []
   },
   "outputs": [],
   "source": [
    "#ur.verbose = True"
   ]
  },
  {
   "cell_type": "markdown",
   "metadata": {
    "papermill": {
     "duration": 0.00883,
     "end_time": "2020-06-08T04:58:53.714386",
     "exception": false,
     "start_time": "2020-06-08T04:58:53.705556",
     "status": "completed"
    },
    "tags": []
   },
   "source": [
    "Without this set, the first cloned version of the Gist will be used in perpetuity.\n",
    "\n",
    "By setting it to true, a `git pull` will update the local cache of the Gist to pick up the most recent version:"
   ]
  },
  {
   "cell_type": "code",
   "execution_count": 4,
   "metadata": {
    "execution": {
     "iopub.execute_input": "2020-06-08T04:58:53.739065Z",
     "iopub.status.busy": "2020-06-08T04:58:53.738117Z",
     "iopub.status.idle": "2020-06-08T04:58:53.741070Z",
     "shell.execute_reply": "2020-06-08T04:58:53.740571Z"
    },
    "papermill": {
     "duration": 0.01578,
     "end_time": "2020-06-08T04:58:53.741163",
     "exception": false,
     "start_time": "2020-06-08T04:58:53.725383",
     "status": "completed"
    },
    "tags": []
   },
   "outputs": [],
   "source": [
    "#ur.skip_cache = True"
   ]
  },
  {
   "cell_type": "markdown",
   "metadata": {
    "papermill": {
     "duration": 0.008648,
     "end_time": "2020-06-08T04:58:53.759440",
     "exception": false,
     "start_time": "2020-06-08T04:58:53.750792",
     "status": "completed"
    },
    "tags": []
   },
   "source": [
    "Import the example notebook, and show the `now` value (written into the notebook as a string literal the last time it was executed; see [`mutating-notebook-test/example.ipynb`](./mutating-notebook-test/example.ipynb)):"
   ]
  },
  {
   "cell_type": "code",
   "execution_count": 5,
   "metadata": {
    "execution": {
     "iopub.execute_input": "2020-06-08T04:58:53.780842Z",
     "iopub.status.busy": "2020-06-08T04:58:53.779977Z",
     "iopub.status.idle": "2020-06-08T04:58:54.418840Z",
     "shell.execute_reply": "2020-06-08T04:58:54.418387Z"
    },
    "papermill": {
     "duration": 0.650349,
     "end_time": "2020-06-08T04:58:54.418913",
     "exception": false,
     "start_time": "2020-06-08T04:58:53.768564",
     "status": "completed"
    },
    "tags": []
   },
   "outputs": [
    {
     "data": {
      "text/plain": [
       "'2020-05-26T00:07:58'"
      ]
     },
     "execution_count": 5,
     "metadata": {},
     "output_type": "execute_result"
    }
   ],
   "source": [
    "from gist.aca1060cb371eb93eb14bb07ee68e4eb.example import *\n",
    "timestamp"
   ]
  }
 ],
 "metadata": {
  "kernelspec": {
   "display_name": "3.8.2",
   "language": "python",
   "name": "3.8.2"
  },
  "language_info": {
   "codemirror_mode": {
    "name": "ipython",
    "version": 3
   },
   "file_extension": ".py",
   "mimetype": "text/x-python",
   "name": "python",
   "nbconvert_exporter": "python",
   "pygments_lexer": "ipython3",
   "version": "3.8.3"
  },
  "papermill": {
   "duration": 3.045477,
   "end_time": "2020-06-08T04:58:55.556024",
   "environment_variables": {},
   "exception": null,
   "input_path": "/ur/reimport-test.ipynb",
   "output_path": "/ur/out/reimport-test.ipynb",
   "parameters": {},
   "start_time": "2020-06-08T04:58:52.510547",
   "version": "2.1.1"
  }
 },
 "nbformat": 4,
 "nbformat_minor": 2
}