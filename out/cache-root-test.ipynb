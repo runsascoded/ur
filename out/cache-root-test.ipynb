{
 "cells": [
  {
   "cell_type": "markdown",
   "metadata": {
    "papermill": {
     "duration": 0.015334,
     "end_time": "2020-05-30T18:38:11.538699",
     "exception": false,
     "start_time": "2020-05-30T18:38:11.523365",
     "status": "completed"
    },
    "tags": []
   },
   "source": [
    "Set a non-default `cache_root` (can only be changed before any Gists are imported; subsequent changes will have no effect):"
   ]
  },
  {
   "cell_type": "code",
   "execution_count": 1,
   "metadata": {
    "execution": {
     "iopub.execute_input": "2020-05-30T18:38:11.567244Z",
     "iopub.status.busy": "2020-05-30T18:38:11.565846Z",
     "iopub.status.idle": "2020-05-30T18:38:11.958172Z",
     "shell.execute_reply": "2020-05-30T18:38:11.957562Z"
    },
    "papermill": {
     "duration": 0.409964,
     "end_time": "2020-05-30T18:38:11.958269",
     "exception": false,
     "start_time": "2020-05-30T18:38:11.548305",
     "status": "completed"
    },
    "tags": []
   },
   "outputs": [],
   "source": [
    "import ur\n",
    "ur.cache_root = '.cache'\n",
    "\n",
    "from gist._1288bff2f9e05394a94312010da267bb import *"
   ]
  },
  {
   "cell_type": "code",
   "execution_count": 2,
   "metadata": {
    "execution": {
     "iopub.execute_input": "2020-05-30T18:38:11.985353Z",
     "iopub.status.busy": "2020-05-30T18:38:11.981746Z",
     "iopub.status.idle": "2020-05-30T18:38:11.989654Z",
     "shell.execute_reply": "2020-05-30T18:38:11.990116Z"
    },
    "papermill": {
     "duration": 0.024306,
     "end_time": "2020-05-30T18:38:11.990314",
     "exception": false,
     "start_time": "2020-05-30T18:38:11.966008",
     "status": "completed"
    },
    "scrolled": true,
    "tags": []
   },
   "outputs": [
    {
     "data": {
      "text/plain": [
       "('aaa', 'bbb', 'ccc')"
      ]
     },
     "execution_count": 2,
     "metadata": {},
     "output_type": "execute_result"
    }
   ],
   "source": [
    "a_b.a(), a_b.b(), c.c()"
   ]
  },
  {
   "cell_type": "code",
   "execution_count": 3,
   "metadata": {
    "execution": {
     "iopub.execute_input": "2020-05-30T18:38:12.012881Z",
     "iopub.status.busy": "2020-05-30T18:38:12.011582Z",
     "iopub.status.idle": "2020-05-30T18:38:12.634823Z",
     "shell.execute_reply": "2020-05-30T18:38:12.633791Z"
    },
    "papermill": {
     "duration": 0.636099,
     "end_time": "2020-05-30T18:38:12.634925",
     "exception": false,
     "start_time": "2020-05-30T18:38:11.998826",
     "status": "completed"
    },
    "tags": []
   },
   "outputs": [
    {
     "name": "stdout",
     "output_type": "stream",
     "text": [
      "/bin/sh: 1: tree: not found\r\n"
     ]
    }
   ],
   "source": [
    "!tree .cache"
   ]
  }
 ],
 "metadata": {
  "kernelspec": {
   "display_name": "3.8.2",
   "language": "python",
   "name": "3.8.2"
  },
  "language_info": {
   "codemirror_mode": {
    "name": "ipython",
    "version": 3
   },
   "file_extension": ".py",
   "mimetype": "text/x-python",
   "name": "python",
   "nbconvert_exporter": "python",
   "pygments_lexer": "ipython3",
   "version": "3.8.2"
  },
  "papermill": {
   "duration": 3.029728,
   "end_time": "2020-05-30T18:38:13.736543",
   "environment_variables": {},
   "exception": null,
   "input_path": "/ur/cache-root-test.ipynb",
   "output_path": "/ur/out/cache-root-test.ipynb",
   "parameters": {},
   "start_time": "2020-05-30T18:38:10.706815",
   "version": "2.1.1"
  }
 },
 "nbformat": 4,
 "nbformat_minor": 2
}