{
 "cells": [
  {
   "cell_type": "markdown",
   "metadata": {
    "papermill": {
     "duration": 0.019243,
     "end_time": "2020-06-08T04:58:46.435699",
     "exception": false,
     "start_time": "2020-06-08T04:58:46.416456",
     "status": "completed"
    },
    "tags": []
   },
   "source": [
    "Import from a notebook that imports adjacent notebooks from the same Gist (local imports in a remote notebook):"
   ]
  },
  {
   "cell_type": "code",
   "execution_count": 1,
   "metadata": {
    "execution": {
     "iopub.execute_input": "2020-06-08T04:58:46.460595Z",
     "iopub.status.busy": "2020-06-08T04:58:46.459134Z",
     "iopub.status.idle": "2020-06-08T04:58:47.007245Z",
     "shell.execute_reply": "2020-06-08T04:58:47.006278Z"
    },
    "papermill": {
     "duration": 0.561145,
     "end_time": "2020-06-08T04:58:47.007348",
     "exception": false,
     "start_time": "2020-06-08T04:58:46.446203",
     "status": "completed"
    },
    "tags": []
   },
   "outputs": [],
   "source": [
    "import ur\n",
    "from gist._1288bff2f9e05394a94312010da267bb import *"
   ]
  },
  {
   "cell_type": "code",
   "execution_count": 2,
   "metadata": {
    "execution": {
     "iopub.execute_input": "2020-06-08T04:58:47.042211Z",
     "iopub.status.busy": "2020-06-08T04:58:47.041485Z",
     "iopub.status.idle": "2020-06-08T04:58:47.045813Z",
     "shell.execute_reply": "2020-06-08T04:58:47.045371Z"
    },
    "papermill": {
     "duration": 0.026513,
     "end_time": "2020-06-08T04:58:47.045896",
     "exception": false,
     "start_time": "2020-06-08T04:58:47.019383",
     "status": "completed"
    },
    "tags": []
   },
   "outputs": [
    {
     "data": {
      "text/plain": [
       "('aaabbb', 'DDD!yay', 'aaabbb', 'DDD!yay')"
      ]
     },
     "execution_count": 2,
     "metadata": {},
     "output_type": "execute_result"
    }
   ],
   "source": [
    "nb_abs_nb.nb_abs_nb(), nb_abs_py.nb_abs_py(), py_abs_nb.py_abs_nb(), py_abs_py.py_abs_py()"
   ]
  },
  {
   "cell_type": "markdown",
   "metadata": {
    "papermill": {
     "duration": 0.006942,
     "end_time": "2020-06-08T04:58:47.060071",
     "exception": false,
     "start_time": "2020-06-08T04:58:47.053129",
     "status": "completed"
    },
    "tags": []
   },
   "source": [
    "Test a wildcard import from a specific module in a Gist:"
   ]
  },
  {
   "cell_type": "code",
   "execution_count": 3,
   "metadata": {
    "execution": {
     "iopub.execute_input": "2020-06-08T04:58:47.080276Z",
     "iopub.status.busy": "2020-06-08T04:58:47.079259Z",
     "iopub.status.idle": "2020-06-08T04:58:47.080859Z",
     "shell.execute_reply": "2020-06-08T04:58:47.081347Z"
    },
    "papermill": {
     "duration": 0.01461,
     "end_time": "2020-06-08T04:58:47.081454",
     "exception": false,
     "start_time": "2020-06-08T04:58:47.066844",
     "status": "completed"
    },
    "scrolled": false,
    "tags": []
   },
   "outputs": [],
   "source": [
    "from gist._1288bff2f9e05394a94312010da267bb.c import *"
   ]
  },
  {
   "cell_type": "code",
   "execution_count": 4,
   "metadata": {
    "execution": {
     "iopub.execute_input": "2020-06-08T04:58:47.103029Z",
     "iopub.status.busy": "2020-06-08T04:58:47.102136Z",
     "iopub.status.idle": "2020-06-08T04:58:47.105254Z",
     "shell.execute_reply": "2020-06-08T04:58:47.105800Z"
    },
    "papermill": {
     "duration": 0.016527,
     "end_time": "2020-06-08T04:58:47.105922",
     "exception": false,
     "start_time": "2020-06-08T04:58:47.089395",
     "status": "completed"
    },
    "tags": []
   },
   "outputs": [
    {
     "data": {
      "text/plain": [
       "'ccc'"
      ]
     },
     "execution_count": 4,
     "metadata": {},
     "output_type": "execute_result"
    }
   ],
   "source": [
    "c()"
   ]
  }
 ],
 "metadata": {
  "kernelspec": {
   "display_name": "3.8.2",
   "language": "python",
   "name": "3.8.2"
  },
  "language_info": {
   "codemirror_mode": {
    "name": "ipython",
    "version": 3
   },
   "file_extension": ".py",
   "mimetype": "text/x-python",
   "name": "python",
   "nbconvert_exporter": "python",
   "pygments_lexer": "ipython3",
   "version": "3.8.3"
  },
  "papermill": {
   "duration": 1.75962,
   "end_time": "2020-06-08T04:58:47.228549",
   "environment_variables": {},
   "exception": null,
   "input_path": "/ur/remote-nested-import-test.ipynb",
   "output_path": "/ur/out/remote-nested-import-test.ipynb",
   "parameters": {},
   "start_time": "2020-06-08T04:58:45.468929",
   "version": "2.1.1"
  }
 },
 "nbformat": 4,
 "nbformat_minor": 2
}