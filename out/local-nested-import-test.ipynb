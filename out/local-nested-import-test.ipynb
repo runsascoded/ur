{
 "cells": [
  {
   "cell_type": "markdown",
   "metadata": {
    "papermill": {
     "duration": 0.015626,
     "end_time": "2020-06-08T02:11:17.530134",
     "exception": false,
     "start_time": "2020-06-08T02:11:17.514508",
     "status": "completed"
    },
    "tags": []
   },
   "source": [
    "Test importing functions from local {`.py`,`.ipynb`} modules that in turn import from other local {`.py`,`.ipynb`} modules:"
   ]
  },
  {
   "cell_type": "code",
   "execution_count": 1,
   "metadata": {
    "execution": {
     "iopub.execute_input": "2020-06-08T02:11:17.568360Z",
     "iopub.status.busy": "2020-06-08T02:11:17.566087Z",
     "iopub.status.idle": "2020-06-08T02:11:17.780677Z",
     "shell.execute_reply": "2020-06-08T02:11:17.781169Z"
    },
    "papermill": {
     "duration": 0.236953,
     "end_time": "2020-06-08T02:11:17.781331",
     "exception": false,
     "start_time": "2020-06-08T02:11:17.544378",
     "status": "completed"
    },
    "tags": []
   },
   "outputs": [],
   "source": [
    "import ur"
   ]
  },
  {
   "cell_type": "markdown",
   "metadata": {
    "papermill": {
     "duration": 0.010466,
     "end_time": "2020-06-08T02:11:17.804889",
     "exception": false,
     "start_time": "2020-06-08T02:11:17.794423",
     "status": "completed"
    },
    "tags": []
   },
   "source": [
    "Import from a notebook that in turn imports from another, adjacent notebook:"
   ]
  },
  {
   "cell_type": "code",
   "execution_count": 2,
   "metadata": {
    "execution": {
     "iopub.execute_input": "2020-06-08T02:11:17.831230Z",
     "iopub.status.busy": "2020-06-08T02:11:17.829928Z",
     "iopub.status.idle": "2020-06-08T02:11:17.958589Z",
     "shell.execute_reply": "2020-06-08T02:11:17.958075Z"
    },
    "papermill": {
     "duration": 0.141518,
     "end_time": "2020-06-08T02:11:17.958668",
     "exception": false,
     "start_time": "2020-06-08T02:11:17.817150",
     "status": "completed"
    },
    "scrolled": true,
    "tags": []
   },
   "outputs": [
    {
     "data": {
      "text/plain": [
       "'aaabbb'"
      ]
     },
     "execution_count": 2,
     "metadata": {},
     "output_type": "execute_result"
    }
   ],
   "source": [
    "from examples.abcd_gist.nb_abs_nb import nb_abs_nb\n",
    "nb_abs_nb()"
   ]
  },
  {
   "cell_type": "markdown",
   "metadata": {
    "papermill": {
     "duration": 0.014464,
     "end_time": "2020-06-08T02:11:17.985548",
     "exception": false,
     "start_time": "2020-06-08T02:11:17.971084",
     "status": "completed"
    },
    "tags": []
   },
   "source": [
    "Import from a notebook that in turn imports from an adjacent Python file:"
   ]
  },
  {
   "cell_type": "code",
   "execution_count": 3,
   "metadata": {
    "execution": {
     "iopub.execute_input": "2020-06-08T02:11:18.024905Z",
     "iopub.status.busy": "2020-06-08T02:11:18.023767Z",
     "iopub.status.idle": "2020-06-08T02:11:18.030007Z",
     "shell.execute_reply": "2020-06-08T02:11:18.029088Z"
    },
    "papermill": {
     "duration": 0.030426,
     "end_time": "2020-06-08T02:11:18.030133",
     "exception": false,
     "start_time": "2020-06-08T02:11:17.999707",
     "status": "completed"
    },
    "scrolled": true,
    "tags": []
   },
   "outputs": [
    {
     "data": {
      "text/plain": [
       "'DDD!yay'"
      ]
     },
     "execution_count": 3,
     "metadata": {},
     "output_type": "execute_result"
    }
   ],
   "source": [
    "from examples.abcd_gist.nb_abs_py import nb_abs_py\n",
    "nb_abs_py()"
   ]
  },
  {
   "cell_type": "markdown",
   "metadata": {
    "papermill": {
     "duration": 0.010262,
     "end_time": "2020-06-08T02:11:18.052576",
     "exception": false,
     "start_time": "2020-06-08T02:11:18.042314",
     "status": "completed"
    },
    "tags": []
   },
   "source": [
    "Import from a Python file that in turn imports an adjacent notebook:"
   ]
  },
  {
   "cell_type": "code",
   "execution_count": 4,
   "metadata": {
    "execution": {
     "iopub.execute_input": "2020-06-08T02:11:18.080403Z",
     "iopub.status.busy": "2020-06-08T02:11:18.079607Z",
     "iopub.status.idle": "2020-06-08T02:11:18.083295Z",
     "shell.execute_reply": "2020-06-08T02:11:18.082770Z"
    },
    "papermill": {
     "duration": 0.018782,
     "end_time": "2020-06-08T02:11:18.083371",
     "exception": false,
     "start_time": "2020-06-08T02:11:18.064589",
     "status": "completed"
    },
    "scrolled": true,
    "tags": []
   },
   "outputs": [
    {
     "data": {
      "text/plain": [
       "'aaabbb'"
      ]
     },
     "execution_count": 4,
     "metadata": {},
     "output_type": "execute_result"
    }
   ],
   "source": [
    "from examples.abcd_gist.py_abs_nb import py_abs_nb\n",
    "py_abs_nb()"
   ]
  },
  {
   "cell_type": "markdown",
   "metadata": {
    "papermill": {
     "duration": 0.012682,
     "end_time": "2020-06-08T02:11:18.108816",
     "exception": false,
     "start_time": "2020-06-08T02:11:18.096134",
     "status": "completed"
    },
    "tags": []
   },
   "source": [
    "Import from a Python file that in turn imports from another, adjacent Python file:"
   ]
  },
  {
   "cell_type": "code",
   "execution_count": 5,
   "metadata": {
    "execution": {
     "iopub.execute_input": "2020-06-08T02:11:18.134729Z",
     "iopub.status.busy": "2020-06-08T02:11:18.133786Z",
     "iopub.status.idle": "2020-06-08T02:11:18.137804Z",
     "shell.execute_reply": "2020-06-08T02:11:18.138320Z"
    },
    "papermill": {
     "duration": 0.018714,
     "end_time": "2020-06-08T02:11:18.138429",
     "exception": false,
     "start_time": "2020-06-08T02:11:18.119715",
     "status": "completed"
    },
    "scrolled": true,
    "tags": []
   },
   "outputs": [
    {
     "data": {
      "text/plain": [
       "'DDD!yay'"
      ]
     },
     "execution_count": 5,
     "metadata": {},
     "output_type": "execute_result"
    }
   ],
   "source": [
    "from examples.abcd_gist.py_abs_py import py_abs_py\n",
    "py_abs_py()"
   ]
  }
 ],
 "metadata": {
  "kernelspec": {
   "display_name": "3.8.2",
   "language": "python",
   "name": "3.8.2"
  },
  "language_info": {
   "codemirror_mode": {
    "name": "ipython",
    "version": 3
   },
   "file_extension": ".py",
   "mimetype": "text/x-python",
   "name": "python",
   "nbconvert_exporter": "python",
   "pygments_lexer": "ipython3",
   "version": "3.8.3"
  },
  "papermill": {
   "duration": 1.603913,
   "end_time": "2020-06-08T02:11:18.167673",
   "environment_variables": {},
   "exception": null,
   "input_path": "/ur/local-nested-import-test.ipynb",
   "output_path": "/ur/out/local-nested-import-test.ipynb",
   "parameters": {},
   "start_time": "2020-06-08T02:11:16.563760",
   "version": "2.1.1"
  }
 },
 "nbformat": 4,
 "nbformat_minor": 2
}