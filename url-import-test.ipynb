{
 "cells": [
  {
   "cell_type": "markdown",
   "metadata": {},
   "source": [
    "Test importing from URLs:\n",
    "- spin up an HTTP server serving local files\n",
    "- import a notebook by URL\n",
    "\n",
    "`papermill` params:"
   ]
  },
  {
   "cell_type": "code",
   "execution_count": 1,
   "metadata": {
    "tags": [
     "parameters"
    ]
   },
   "outputs": [],
   "source": [
    "# Configs for web server that we'll run, and load notebooks from:\n",
    "host = 'localhost'\n",
    "port = 8000"
   ]
  },
  {
   "cell_type": "markdown",
   "metadata": {},
   "source": [
    "Serve the current directory over an HTTP server:"
   ]
  },
  {
   "cell_type": "code",
   "execution_count": 2,
   "metadata": {},
   "outputs": [
    {
     "name": "stdout",
     "output_type": "stream",
     "text": [
      "serving at localhost:8000\n"
     ]
    }
   ],
   "source": [
    "def http_server():\n",
    "    from http.server import SimpleHTTPRequestHandler as Handler \n",
    "    from socketserver import TCPServer\n",
    "\n",
    "    with TCPServer((host, port), Handler) as httpd:\n",
    "        print(f\"serving at {host}:{port}\")\n",
    "        httpd.serve_forever()\n",
    "    \n",
    "from threading import Thread\n",
    "thread = Thread(target=http_server)\n",
    "thread.start()\n",
    "from time import sleep\n",
    "sleep(1)"
   ]
  },
  {
   "cell_type": "markdown",
   "metadata": {},
   "source": [
    "## Import a remote notebook as a Python module:"
   ]
  },
  {
   "cell_type": "code",
   "execution_count": 3,
   "metadata": {
    "scrolled": false
   },
   "outputs": [
    {
     "data": {
      "text/plain": [
       "<module 'URL(id=http://localhost:8000/examples/abcd_gist/a_b.ipynb)' (.objs/URL/http:/localhost:8000/examples/abcd_gist/a_b.ipynb/content)>"
      ]
     },
     "execution_count": 3,
     "metadata": {},
     "output_type": "execute_result"
    }
   ],
   "source": [
    "import ur\n",
    "url = 'http://localhost:8000/examples/abcd_gist/a_b.ipynb'\n",
    "ur * url"
   ]
  },
  {
   "cell_type": "code",
   "execution_count": 4,
   "metadata": {},
   "outputs": [
    {
     "data": {
      "text/plain": [
       "'aaa'"
      ]
     },
     "execution_count": 4,
     "metadata": {},
     "output_type": "execute_result"
    }
   ],
   "source": [
    "a()"
   ]
  },
  {
   "cell_type": "code",
   "execution_count": 5,
   "metadata": {},
   "outputs": [
    {
     "data": {
      "text/plain": [
       "'bbb'"
      ]
     },
     "execution_count": 5,
     "metadata": {},
     "output_type": "execute_result"
    }
   ],
   "source": [
    "b()"
   ]
  },
  {
   "cell_type": "code",
   "execution_count": 6,
   "metadata": {},
   "outputs": [
    {
     "data": {
      "text/plain": [
       "<module 'URL(id=http://localhost:8000/examples/abcd_gist/c.ipynb)' (.objs/URL/http:/localhost:8000/examples/abcd_gist/c.ipynb/content)>"
      ]
     },
     "execution_count": 6,
     "metadata": {},
     "output_type": "execute_result"
    }
   ],
   "source": [
    "local = ur * 'http://localhost:8000/examples/abcd_gist/c.ipynb'\n",
    "local"
   ]
  },
  {
   "cell_type": "code",
   "execution_count": 7,
   "metadata": {},
   "outputs": [
    {
     "data": {
      "text/plain": [
       "'ccc'"
      ]
     },
     "execution_count": 7,
     "metadata": {},
     "output_type": "execute_result"
    }
   ],
   "source": [
    "local.c()"
   ]
  },
  {
   "cell_type": "code",
   "execution_count": 8,
   "metadata": {},
   "outputs": [
    {
     "data": {
      "text/plain": [
       "'ccc'"
      ]
     },
     "execution_count": 8,
     "metadata": {},
     "output_type": "execute_result"
    }
   ],
   "source": [
    "c()"
   ]
  },
  {
   "cell_type": "code",
   "execution_count": 9,
   "metadata": {},
   "outputs": [
    {
     "data": {
      "text/plain": [
       "<module 'gist._1288bff2f9e05394a94312010da267bb.a_b' (https://gist.github.com/1288bff2f9e05394a94312010da267bb/001cf9c4ee425e50a822524d2a475ef18c6423d8/a_b.ipynb)>"
      ]
     },
     "execution_count": 9,
     "metadata": {},
     "output_type": "execute_result"
    }
   ],
   "source": [
    "from examples.abcd_gist.a_b import *     # ✅\n",
    "from examples.abcd_gist.a_b import a     # ✅\n",
    "from examples.abcd_gist.a_b import a, b  # ✅\n",
    "import examples.abcd_gist.a_b            # ✅\n",
    "\n",
    "import gist._1288bff2f9e05394a94312010da267bb\n",
    "from gist._1288bff2f9e05394a94312010da267bb import *\n",
    "from gist._1288bff2f9e05394a94312010da267bb import a_b\n",
    "from gist._1288bff2f9e05394a94312010da267bb import c\n",
    "from gist._1288bff2f9e05394a94312010da267bb.a_b import *\n",
    "from gist._1288bff2f9e05394a94312010da267bb.a_b import a, b\n",
    "\n",
    "ur * 'https://gist.github.com/1288bff2f9e05394a94312010da267bb'\n",
    "ur * 'https://gist.github.com/ryan-williams/1288bff2f9e05394a94312010da267bb#file-a_b-ipynb'  # ✅"
   ]
  }
 ],
 "metadata": {
  "kernelspec": {
   "display_name": "ur-3.8.2",
   "language": "python",
   "name": "ur-3.8.2"
  },
  "language_info": {
   "codemirror_mode": {
    "name": "ipython",
    "version": 3
   },
   "file_extension": ".py",
   "mimetype": "text/x-python",
   "name": "python",
   "nbconvert_exporter": "python",
   "pygments_lexer": "ipython3",
   "version": "3.8.2"
  }
 },
 "nbformat": 4,
 "nbformat_minor": 2
}
