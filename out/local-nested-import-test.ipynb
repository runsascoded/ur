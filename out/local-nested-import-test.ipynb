{
 "cells": [
  {
   "cell_type": "markdown",
   "metadata": {
    "papermill": {
     "duration": 0.028436,
     "end_time": "2020-06-08T04:22:18.415059",
     "exception": false,
     "start_time": "2020-06-08T04:22:18.386623",
     "status": "completed"
    },
    "tags": []
   },
   "source": [
    "Test importing functions from local {`.py`,`.ipynb`} modules that in turn import from other local {`.py`,`.ipynb`} modules:"
   ]
  },
  {
   "cell_type": "code",
   "execution_count": 1,
   "metadata": {
    "execution": {
     "iopub.execute_input": "2020-06-08T04:22:18.468159Z",
     "iopub.status.busy": "2020-06-08T04:22:18.466033Z",
     "iopub.status.idle": "2020-06-08T04:22:18.952647Z",
     "shell.execute_reply": "2020-06-08T04:22:18.954007Z"
    },
    "papermill": {
     "duration": 0.513177,
     "end_time": "2020-06-08T04:22:18.954214",
     "exception": false,
     "start_time": "2020-06-08T04:22:18.441037",
     "status": "completed"
    },
    "tags": []
   },
   "outputs": [],
   "source": [
    "import ur"
   ]
  },
  {
   "cell_type": "markdown",
   "metadata": {
    "papermill": {
     "duration": 0.017772,
     "end_time": "2020-06-08T04:22:18.991543",
     "exception": false,
     "start_time": "2020-06-08T04:22:18.973771",
     "status": "completed"
    },
    "tags": []
   },
   "source": [
    "Import from a notebook that in turn imports from another, adjacent notebook:"
   ]
  },
  {
   "cell_type": "code",
   "execution_count": 2,
   "metadata": {
    "execution": {
     "iopub.execute_input": "2020-06-08T04:22:19.043211Z",
     "iopub.status.busy": "2020-06-08T04:22:19.041425Z",
     "iopub.status.idle": "2020-06-08T04:22:19.303294Z",
     "shell.execute_reply": "2020-06-08T04:22:19.300743Z"
    },
    "papermill": {
     "duration": 0.292431,
     "end_time": "2020-06-08T04:22:19.303412",
     "exception": false,
     "start_time": "2020-06-08T04:22:19.010981",
     "status": "completed"
    },
    "scrolled": true,
    "tags": []
   },
   "outputs": [
    {
     "data": {
      "text/plain": [
       "'aaabbb'"
      ]
     },
     "execution_count": 2,
     "metadata": {},
     "output_type": "execute_result"
    }
   ],
   "source": [
    "from examples.abcd_gist.nb_abs_nb import nb_abs_nb\n",
    "nb_abs_nb()"
   ]
  },
  {
   "cell_type": "markdown",
   "metadata": {
    "papermill": {
     "duration": 0.033295,
     "end_time": "2020-06-08T04:22:19.360167",
     "exception": false,
     "start_time": "2020-06-08T04:22:19.326872",
     "status": "completed"
    },
    "tags": []
   },
   "source": [
    "Import from a notebook that in turn imports from an adjacent Python file:"
   ]
  },
  {
   "cell_type": "code",
   "execution_count": 3,
   "metadata": {
    "execution": {
     "iopub.execute_input": "2020-06-08T04:22:19.449086Z",
     "iopub.status.busy": "2020-06-08T04:22:19.447508Z",
     "iopub.status.idle": "2020-06-08T04:22:19.457111Z",
     "shell.execute_reply": "2020-06-08T04:22:19.456216Z"
    },
    "papermill": {
     "duration": 0.077083,
     "end_time": "2020-06-08T04:22:19.457219",
     "exception": false,
     "start_time": "2020-06-08T04:22:19.380136",
     "status": "completed"
    },
    "scrolled": true,
    "tags": []
   },
   "outputs": [
    {
     "data": {
      "text/plain": [
       "'DDD!yay'"
      ]
     },
     "execution_count": 3,
     "metadata": {},
     "output_type": "execute_result"
    }
   ],
   "source": [
    "from examples.abcd_gist.nb_abs_py import nb_abs_py\n",
    "nb_abs_py()"
   ]
  },
  {
   "cell_type": "markdown",
   "metadata": {
    "papermill": {
     "duration": 0.019779,
     "end_time": "2020-06-08T04:22:19.500850",
     "exception": false,
     "start_time": "2020-06-08T04:22:19.481071",
     "status": "completed"
    },
    "tags": []
   },
   "source": [
    "Import from a Python file that in turn imports an adjacent notebook:"
   ]
  },
  {
   "cell_type": "code",
   "execution_count": 4,
   "metadata": {
    "execution": {
     "iopub.execute_input": "2020-06-08T04:22:19.555999Z",
     "iopub.status.busy": "2020-06-08T04:22:19.553811Z",
     "iopub.status.idle": "2020-06-08T04:22:19.560382Z",
     "shell.execute_reply": "2020-06-08T04:22:19.561557Z"
    },
    "papermill": {
     "duration": 0.038827,
     "end_time": "2020-06-08T04:22:19.561900",
     "exception": false,
     "start_time": "2020-06-08T04:22:19.523073",
     "status": "completed"
    },
    "scrolled": true,
    "tags": []
   },
   "outputs": [
    {
     "data": {
      "text/plain": [
       "'aaabbb'"
      ]
     },
     "execution_count": 4,
     "metadata": {},
     "output_type": "execute_result"
    }
   ],
   "source": [
    "from examples.abcd_gist.py_abs_nb import py_abs_nb\n",
    "py_abs_nb()"
   ]
  },
  {
   "cell_type": "markdown",
   "metadata": {
    "papermill": {
     "duration": 0.022602,
     "end_time": "2020-06-08T04:22:19.611671",
     "exception": false,
     "start_time": "2020-06-08T04:22:19.589069",
     "status": "completed"
    },
    "tags": []
   },
   "source": [
    "Import from a Python file that in turn imports from another, adjacent Python file:"
   ]
  },
  {
   "cell_type": "code",
   "execution_count": 5,
   "metadata": {
    "execution": {
     "iopub.execute_input": "2020-06-08T04:22:19.658179Z",
     "iopub.status.busy": "2020-06-08T04:22:19.656637Z",
     "iopub.status.idle": "2020-06-08T04:22:19.663376Z",
     "shell.execute_reply": "2020-06-08T04:22:19.662647Z"
    },
    "papermill": {
     "duration": 0.034508,
     "end_time": "2020-06-08T04:22:19.663488",
     "exception": false,
     "start_time": "2020-06-08T04:22:19.628980",
     "status": "completed"
    },
    "scrolled": true,
    "tags": []
   },
   "outputs": [
    {
     "data": {
      "text/plain": [
       "'DDD!yay'"
      ]
     },
     "execution_count": 5,
     "metadata": {},
     "output_type": "execute_result"
    }
   ],
   "source": [
    "from examples.abcd_gist.py_abs_py import py_abs_py\n",
    "py_abs_py()"
   ]
  }
 ],
 "metadata": {
  "kernelspec": {
   "display_name": "3.8.2",
   "language": "python",
   "name": "3.8.2"
  },
  "language_info": {
   "codemirror_mode": {
    "name": "ipython",
    "version": 3
   },
   "file_extension": ".py",
   "mimetype": "text/x-python",
   "name": "python",
   "nbconvert_exporter": "python",
   "pygments_lexer": "ipython3",
   "version": "3.8.3"
  },
  "papermill": {
   "duration": 4.685261,
   "end_time": "2020-06-08T04:22:19.809319",
   "environment_variables": {},
   "exception": null,
   "input_path": "/ur/local-nested-import-test.ipynb",
   "output_path": "/ur/out/local-nested-import-test.ipynb",
   "parameters": {},
   "start_time": "2020-06-08T04:22:15.124058",
   "version": "2.1.1"
  }
 },
 "nbformat": 4,
 "nbformat_minor": 2
}