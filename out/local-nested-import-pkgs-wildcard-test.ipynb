{
 "cells": [
  {
   "cell_type": "markdown",
   "metadata": {
    "papermill": {
     "duration": 0.014818,
     "end_time": "2020-06-08T04:59:04.251568",
     "exception": false,
     "start_time": "2020-06-08T04:59:04.236750",
     "status": "completed"
    },
    "tags": []
   },
   "source": [
    "Test a wildcard-import of local {`.py`,`.ipynb`} modules that in turn import from other local {`.py`,`.ipynb`} modules:"
   ]
  },
  {
   "cell_type": "code",
   "execution_count": 1,
   "metadata": {
    "execution": {
     "iopub.execute_input": "2020-06-08T04:59:04.281127Z",
     "iopub.status.busy": "2020-06-08T04:59:04.280045Z",
     "iopub.status.idle": "2020-06-08T04:59:04.545760Z",
     "shell.execute_reply": "2020-06-08T04:59:04.546223Z"
    },
    "papermill": {
     "duration": 0.281227,
     "end_time": "2020-06-08T04:59:04.546465",
     "exception": false,
     "start_time": "2020-06-08T04:59:04.265238",
     "status": "completed"
    },
    "tags": []
   },
   "outputs": [],
   "source": [
    "import ur\n",
    "from examples.abcd_gist import *"
   ]
  },
  {
   "cell_type": "markdown",
   "metadata": {
    "papermill": {
     "duration": 0.010913,
     "end_time": "2020-06-08T04:59:04.569485",
     "exception": false,
     "start_time": "2020-06-08T04:59:04.558572",
     "status": "completed"
    },
    "tags": []
   },
   "source": [
    "Use a notebook that in turn imports from another, adjacent notebook:"
   ]
  },
  {
   "cell_type": "code",
   "execution_count": 2,
   "metadata": {
    "execution": {
     "iopub.execute_input": "2020-06-08T04:59:04.594653Z",
     "iopub.status.busy": "2020-06-08T04:59:04.593483Z",
     "iopub.status.idle": "2020-06-08T04:59:04.601572Z",
     "shell.execute_reply": "2020-06-08T04:59:04.601000Z"
    },
    "papermill": {
     "duration": 0.023822,
     "end_time": "2020-06-08T04:59:04.601655",
     "exception": false,
     "start_time": "2020-06-08T04:59:04.577833",
     "status": "completed"
    },
    "scrolled": true,
    "tags": []
   },
   "outputs": [
    {
     "data": {
      "text/plain": [
       "'aaabbb'"
      ]
     },
     "execution_count": 2,
     "metadata": {},
     "output_type": "execute_result"
    }
   ],
   "source": [
    "nb_abs_nb.nb_abs_nb()"
   ]
  },
  {
   "cell_type": "markdown",
   "metadata": {
    "papermill": {
     "duration": 0.008061,
     "end_time": "2020-06-08T04:59:04.618970",
     "exception": false,
     "start_time": "2020-06-08T04:59:04.610909",
     "status": "completed"
    },
    "tags": []
   },
   "source": [
    "Use a notebook that in turn imports from an adjacent Python file:"
   ]
  },
  {
   "cell_type": "code",
   "execution_count": 3,
   "metadata": {
    "execution": {
     "iopub.execute_input": "2020-06-08T04:59:04.639837Z",
     "iopub.status.busy": "2020-06-08T04:59:04.639127Z",
     "iopub.status.idle": "2020-06-08T04:59:04.643382Z",
     "shell.execute_reply": "2020-06-08T04:59:04.642802Z"
    },
    "papermill": {
     "duration": 0.015763,
     "end_time": "2020-06-08T04:59:04.643466",
     "exception": false,
     "start_time": "2020-06-08T04:59:04.627703",
     "status": "completed"
    },
    "scrolled": true,
    "tags": []
   },
   "outputs": [
    {
     "data": {
      "text/plain": [
       "'DDD!yay'"
      ]
     },
     "execution_count": 3,
     "metadata": {},
     "output_type": "execute_result"
    }
   ],
   "source": [
    "nb_abs_py.nb_abs_py()"
   ]
  },
  {
   "cell_type": "markdown",
   "metadata": {
    "papermill": {
     "duration": 0.008218,
     "end_time": "2020-06-08T04:59:04.661652",
     "exception": false,
     "start_time": "2020-06-08T04:59:04.653434",
     "status": "completed"
    },
    "tags": []
   },
   "source": [
    "Use a Python file that in turn imports an adjacent notebook:"
   ]
  },
  {
   "cell_type": "code",
   "execution_count": 4,
   "metadata": {
    "execution": {
     "iopub.execute_input": "2020-06-08T04:59:04.685083Z",
     "iopub.status.busy": "2020-06-08T04:59:04.684465Z",
     "iopub.status.idle": "2020-06-08T04:59:04.688989Z",
     "shell.execute_reply": "2020-06-08T04:59:04.688475Z"
    },
    "papermill": {
     "duration": 0.017282,
     "end_time": "2020-06-08T04:59:04.689070",
     "exception": false,
     "start_time": "2020-06-08T04:59:04.671788",
     "status": "completed"
    },
    "scrolled": true,
    "tags": []
   },
   "outputs": [
    {
     "data": {
      "text/plain": [
       "'aaabbb'"
      ]
     },
     "execution_count": 4,
     "metadata": {},
     "output_type": "execute_result"
    }
   ],
   "source": [
    "py_abs_nb.py_abs_nb()"
   ]
  },
  {
   "cell_type": "markdown",
   "metadata": {
    "papermill": {
     "duration": 0.009252,
     "end_time": "2020-06-08T04:59:04.708114",
     "exception": false,
     "start_time": "2020-06-08T04:59:04.698862",
     "status": "completed"
    },
    "tags": []
   },
   "source": [
    "Use a Python file that in turn imports from another, adjacent Python file:"
   ]
  },
  {
   "cell_type": "code",
   "execution_count": 5,
   "metadata": {
    "execution": {
     "iopub.execute_input": "2020-06-08T04:59:04.731050Z",
     "iopub.status.busy": "2020-06-08T04:59:04.730564Z",
     "iopub.status.idle": "2020-06-08T04:59:04.734177Z",
     "shell.execute_reply": "2020-06-08T04:59:04.734608Z"
    },
    "papermill": {
     "duration": 0.017264,
     "end_time": "2020-06-08T04:59:04.734718",
     "exception": false,
     "start_time": "2020-06-08T04:59:04.717454",
     "status": "completed"
    },
    "scrolled": true,
    "tags": []
   },
   "outputs": [
    {
     "data": {
      "text/plain": [
       "'DDD!yay'"
      ]
     },
     "execution_count": 5,
     "metadata": {},
     "output_type": "execute_result"
    }
   ],
   "source": [
    "py_abs_py.py_abs_py()"
   ]
  }
 ],
 "metadata": {
  "kernelspec": {
   "display_name": "3.8.2",
   "language": "python",
   "name": "3.8.2"
  },
  "language_info": {
   "codemirror_mode": {
    "name": "ipython",
    "version": 3
   },
   "file_extension": ".py",
   "mimetype": "text/x-python",
   "name": "python",
   "nbconvert_exporter": "python",
   "pygments_lexer": "ipython3",
   "version": "3.8.3"
  },
  "papermill": {
   "duration": 1.457011,
   "end_time": "2020-06-08T04:59:04.853861",
   "environment_variables": {},
   "exception": null,
   "input_path": "/ur/local-nested-import-pkgs-wildcard-test.ipynb",
   "output_path": "/ur/out/local-nested-import-pkgs-wildcard-test.ipynb",
   "parameters": {},
   "start_time": "2020-06-08T04:59:03.396850",
   "version": "2.1.1"
  }
 },
 "nbformat": 4,
 "nbformat_minor": 2
}