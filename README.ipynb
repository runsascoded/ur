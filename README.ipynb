{
 "cells": [
  {
   "cell_type": "markdown",
   "metadata": {},
   "source": [
    "# ur\n",
    "\n",
    "> *ur- (combining form): primitive, original, or earliest*\n",
    " \n",
    "*Universal Resources*: import remote Python files and Jupyter notebooks, from GitHub Gists, the local filesystem, or arbitrary URLs.\n",
    "\n",
    "<table>\n",
    "  <tr>\n",
    "    <th colspan=\"2\" rowspan=\"2\"></th>\n",
    "    <th colspan=\"5\" align=\"center\" style=\"text-align:center\">\n",
    "      <b>Import From</b>\n",
    "    </th>\n",
    "  </tr>\n",
    "  <tr>\n",
    "    <th>\n",
    "      <b>Gists</b>\n",
    "    </th>\n",
    "    <th>\n",
    "      <b>URLs</b>\n",
    "    </th>\n",
    "    <th>\n",
    "      <b>Local files</b>\n",
    "    </th>\n",
    "    <th>\n",
    "      <b>GitHub</b>\n",
    "    </th>\n",
    "    <th>\n",
    "      <b>GitLab</b>\n",
    "    </th>\n",
    "  </tr>\n",
    "  <tr>\n",
    "    <td rowspan=\"2\">\n",
    "      <b>File Type</b>\n",
    "    </td>\n",
    "    <td align=\"right\">\n",
    "      <b>Notebook (.ipynb)</b>\n",
    "    </td>\n",
    "    <td align=\"right\">✅</td>\n",
    "    <td align=\"right\">✅</td>\n",
    "    <td align=\"right\">✅</td>\n",
    "    <td align=\"right\">🚧</td>\n",
    "    <td align=\"right\">🚧</td>\n",
    "  </tr>\n",
    "  <tr>\n",
    "    <td align=\"right\">\n",
    "      <b>Python (.py)</b>\n",
    "    </td>\n",
    "    <td align=\"right\">✅</td>\n",
    "    <td align=\"right\">✅</td>\n",
    "    <td align=\"right\">✅</td>\n",
    "    <td align=\"right\">🚧</td>\n",
    "    <td align=\"right\">🚧</td>\n",
    "  </tr>\n",
    "</table>\n",
    "\n",
    "--------\n",
    "\n",
    "- [**Install**](#install)\n",
    "- [**Usage**](#usage)\n",
    "  - [Import GitHub Gists](#gists)\n",
    "  - [Import arbitrary URLs](#urls)\n",
    "  - [Configuration: `ur.opts`](#configs)\n",
    "- [**Discussion**](#discussion)\n",
    "  - [\"package-less publishing\"](#package-less)\n",
    "  - [\"anyone with the link can view\" git repositories](#link-visibility)\n",
    "  - [Use-case: portable, shareable \"dotfiles\"](#dotfiles)\n",
    "  - [Future work](#future-work)\n",
    "    - [Customize import behavior](#Customize-import-behavior)\n",
    "    - [Usability](#Usability)\n",
    "    - [Import Sources](#Import-Sources)\n",
    "    - [Project Management](#Project-Management)"
   ]
  },
  {
   "cell_type": "markdown",
   "metadata": {},
   "source": [
    "## Install: <a id=\"install\"></a>\n",
    "```bash\n",
    "pip install ur\n",
    "```\n",
    "Or, in a Jupyter notebook:"
   ]
  },
  {
   "cell_type": "code",
   "execution_count": null,
   "metadata": {},
   "outputs": [],
   "source": [
    "from os import environ as env\n",
    "env['HOME']"
   ]
  },
  {
   "cell_type": "code",
   "execution_count": null,
   "metadata": {},
   "outputs": [],
   "source": [
    "from sys import executable as python\n",
    "!{python} -m pip --version\n",
    "!{python} -m pip cache dir\n",
    "!{python} -m pip install ur"
   ]
  },
  {
   "cell_type": "markdown",
   "metadata": {},
   "source": [
    "## Usage <a id=\"usage\"></a>"
   ]
  },
  {
   "cell_type": "markdown",
   "metadata": {},
   "source": [
    "### Import GitHub Gists <a id=\"gists\"></a>"
   ]
  },
  {
   "cell_type": "code",
   "execution_count": 2,
   "metadata": {},
   "outputs": [
    {
     "data": {
      "text/plain": [
       "('aaa', 'bbb', 'ccc')"
      ]
     },
     "execution_count": 2,
     "metadata": {},
     "output_type": "execute_result"
    }
   ],
   "source": [
    "from gist._1288bff2f9e05394a94312010da267bb import *\n",
    "a_b.a(), a_b.b(), c.c()"
   ]
  },
  {
   "cell_type": "markdown",
   "metadata": {},
   "source": [
    "That imports 2 Jupyter notebooks from https://gist.github.com/1288bff2f9e05394a94312010da267bb (note the leading underscore in the `import` statement, which is necessary when the Gist ID begins with a number), and calls functions defined in them."
   ]
  },
  {
   "cell_type": "markdown",
   "metadata": {},
   "source": [
    "### Import arbitrary URLs <a id=\"urls\"></a>\n",
    "The `ur` module exposes a powerful API for importing code from {local,remote} {`.py`,`.ipynb`} files.\n",
    "\n",
    "Here is an example directly importing one of the files in [the example gist used above](https://gist.github.com/ryan-williams/1288bff2f9e05394a94312010da267bb):"
   ]
  },
  {
   "cell_type": "code",
   "execution_count": 3,
   "metadata": {},
   "outputs": [
    {
     "data": {
      "text/plain": [
       "('aaa', 'bbb')"
      ]
     },
     "execution_count": 3,
     "metadata": {},
     "output_type": "execute_result"
    }
   ],
   "source": [
    "import ur\n",
    "a_b = ur('https://gist.githubusercontent.com/ryan-williams/1288bff2f9e05394a94312010da267bb/raw/a_b.ipynb')\n",
    "a_b.a(), a_b.b()"
   ]
  },
  {
   "cell_type": "markdown",
   "metadata": {},
   "source": [
    "#### Import wildcards"
   ]
  },
  {
   "cell_type": "markdown",
   "metadata": {},
   "source": [
    "In addition to calling the `ur` module (and returning a module), the `*` operator can be used:"
   ]
  },
  {
   "cell_type": "code",
   "execution_count": 4,
   "metadata": {},
   "outputs": [
    {
     "data": {
      "text/plain": [
       "('aaa', 'bbb', 'ccc')"
      ]
     },
     "execution_count": 4,
     "metadata": {},
     "output_type": "execute_result"
    }
   ],
   "source": [
    "import ur\n",
    "ur * 'https://gist.github.com/1288bff2f9e05394a94312010da267bb'\n",
    "a_b.a(), a_b.b(), c.c()"
   ]
  },
  {
   "cell_type": "markdown",
   "metadata": {},
   "source": [
    "This is is analogous to `import *` syntax, but can be used to import from arbitrary URLs (in this case, `ur` detects that the URL represents a gist, and imports the two `.ipynb` modules found there).\n",
    "\n",
    "Here is an equivalent import using the `ur(…)` syntax:"
   ]
  },
  {
   "cell_type": "code",
   "execution_count": 5,
   "metadata": {},
   "outputs": [
    {
     "data": {
      "text/plain": [
       "('aaa', 'bbb', 'ccc')"
      ]
     },
     "execution_count": 5,
     "metadata": {},
     "output_type": "execute_result"
    }
   ],
   "source": [
    "import ur\n",
    "ur(gist='1288bff2f9e05394a94312010da267bb', all='*')\n",
    "a_b.a(), a_b.b(), c.c()"
   ]
  },
  {
   "cell_type": "code",
   "execution_count": 6,
   "metadata": {},
   "outputs": [
    {
     "data": {
      "text/plain": [
       "'ccc'"
      ]
     },
     "execution_count": 6,
     "metadata": {},
     "output_type": "execute_result"
    }
   ],
   "source": [
    "import ur\n",
    "url = 'https://gist.githubusercontent.com/ryan-williams/1288bff2f9e05394a94312010da267bb/raw/0a2b5966c22c5461734063b78239262e39e4f363/c.ipynb'\n",
    "ur(url, all=True)\n",
    "c()"
   ]
  },
  {
   "cell_type": "markdown",
   "metadata": {},
   "source": [
    "### Configuration: `ur.opts` <a id=\"configs\"></a>\n",
    "Various behaviors can be configured via the `ur.opts` object:\n",
    "\n",
    "#### `only_defs` <a id=\"config.only_defs\"></a>\n",
    "Default: `True`\n",
    "\n",
    "Only bring certain top-level entities (functions, modules, and imported symbols; see [`CellDeleter`](./cells.py)) into scope from the imported module.\n",
    "\n",
    "#### `verbose` <a id=\"config.verbose\"></a>\n",
    "Default: `False`\n",
    "Eenable verbose logging during import magic\n",
    "\n",
    "#### `skip_cache` <a id=\"config.skip_cache\"></a>\n",
    "Default: `False`\n",
    "\n",
    "When set, pull latest versions of imported modules (instead of reusing Git clones cached by previous runs).\n",
    "\n",
    "#### `cache_root` <a id=\"config.cache_root\"></a>\n",
    "Default `.objs`\n",
    "\n",
    "Remote imported modules are cloned and cached here, namespaced by their type and a primary key.\n",
    "\n",
    "For example, the example Gist referenced above will persist information in a directory called `.objs/Gist/1288bff2f9e05394a94312010da267bb`.\n",
    "\n",
    "[`cache-root-example.ipynb`](./cache-root-example.ipynb) shows how to set a non-default `cache_root`, and what the cache dir's contents look like.\n",
    "\n",
    "#### `encoding` <a id=\"config.encoding\"></a>\n",
    "Default: `utf-8`\n",
    "\n",
    "Encoding to decode remote notebooks with."
   ]
  },
  {
   "cell_type": "markdown",
   "metadata": {},
   "source": [
    "## Discussion <a id=\"discussion\"></a>\n",
    "Jupyter notebooks provide a rich, literate programming experience that is preferable to conventional IDE-based Python environments in many ways.\n",
    "\n",
    "However, conventional wisdom is that reusing code in notebooks requires porting it to `.py` files. This is tedious and often requires trashing some of what makes notebooks great in the first place (rich, inline documentation, easy reproducibility, etc.).\n",
    "\n",
    "Jupyter itself provides [sample code for importing code from (local) Jupyter notebooks](https://jupyter-notebook.readthedocs.io/en/stable/examples/Notebook/Importing%20Notebooks.html) ([originally from 2014?](https://github.com/adrn/ipython/blob/master/examples/Notebook/Importing%20Notebooks.ipynb)), and [several](https://github.com/marella/nbimport) [packages](https://github.com/rileyedmunds/import-ipynb), [repositories](https://github.com/ipython/ipynb), [blog posts](https://vispud.blogspot.com/2019/02/ipynb-import-another-ipynb-file.html), [and](https://github.com/jupyter/notebook/issues/1588) [issues](https://github.com/jupyter/notebook/issues/3479) have built on and published similar code.\n",
    "\n",
    "[nbimporter](https://github.com/grst/nbimporter) (which this repo is a fork of) is perhaps most notable, allowing seamless reuse of Jupyter-resident utilities within single projects, but [its author now recommends factoring code out to `.py` modules](https://github.com/grst/nbimporter/blob/0fc2bdf458005be742090f67c306a4e3bcc04e77/README.md#update-2019-06-i-do-not-recommend-any-more-to-use-nbimporter).\n",
    "\n",
    "The Jupyter ecosystem increasingly shines for the ease with which it allows of publishing and sharing notebooks, and stands to gain a lot from easier remixing+reuse of the wealth of code and data being published in Jupyter notebooks every day. I believe there are straightforward answers to [the reproducibility and testability concerns raised in `nbimporter`](https://github.com/grst/nbimporter/blob/0fc2bdf458005be742090f67c306a4e3bcc04e77/README.md#why), and built the `ur` package to bear that out (and solve immediate productivity and code-reuse needs in my day-to-day life).\n",
    "\n",
    "### Remote importing: package-less publishing <a id=\"package-less\"></a>\n",
    "An animating idea of `ur` is that publishing+reusing a useful helper function should be no harder than\n",
    "Reuse of code in Jupyter notebooks should be made as easy as possible. Users shouldn't have to mangle their utility-code and then publish it to Pip repositories in order to avoid copy/pasting standard helpers in every notebook/project they work in.\n",
    "\n",
    "Importing code directly from remote Notebooks (or `.py` files) allows frictionless code reuse beyond what Python/Jupyter users are offered today.\n",
    "\n",
    "### GitHub Gists: \"anyone with the link can view\" git repositories <a id=\"link-visibility\"></a>\n",
    "`ur` particularly emphasizes using and importing from [GitHub Gists](https://help.github.com/en/enterprise/2.13/user/articles/about-gists). Like `git` itself, Gists combine a few simple but powerful concepts orthogonally, forming a great platform for sharing and tracking code:\n",
    "- Gists are the only service I'm aware of that allows \"publishing\" a Git repository to an opaque URL that can be easily shared, but is otherwise (cryptographically, I think?) private, not search-indexed, etc.\n",
    "  - [GitLab snippets](https://docs.gitlab.com/ee/user/snippets.html) are a comparable product, but [a request for this feature is open at time of writing](https://gitlab.com/gitlab-org/gitlab/issues/14201)\n",
    "- Each Gist is backed by a full Git repository, under the hood\n",
    "  - Gists can therefore track changes to many files over time\n",
    "  - Users can choose to view Gists' \"latest `HEAD`\" content (the default on https://gist.github.com), or specify frozen Git-SHA permalinks for guaranteed reproducibility\n",
    "    - both \"modes\" are supported via web browser, Git CLI, or [GitHub API](https://developer.github.com/v3/gists/#get-a-single-gist)\n",
    "- Many CLIs and SDKs exist for interacting with Gists from different languages/environments\n",
    "  - [I previously wrote a `gist-dir` helper](https://github.com/defunkt/gist/issues/191#issuecomment-569572229) that uploads an entire directory as a Gist (also working around issues with binary data that the Gist API normally doesn't handle correctly)\n",
    "\n",
    "### Use-case: portable, shareable \"dotfiles\" <a id=\"dotfiles\"></a>\n",
    "Something that `ur` makes easy is boilerplate-free reuse of common imports and aliases across notebooks/projects/users.\n",
    "\n",
    "For example, \"everyone\" imports `numpy as np`, `pandas as pd`, `plotly as pl`, etc. I have a few that I like in addition: `from os import environ as env`, `from sys import python as executable`, etc.\n",
    "\n",
    "`ur` offers several minimal-boilerplate ways to let you (and anyone you share your notebook with) use all the helpers you like, portably, without having to redeclare them or otherwise interfere with the environment you originally used them in:\n",
    "\n",
    "```python\n",
    "import ur\n",
    "ur(github='ryan-williams/dotfiles', tree='v1.0', file='dotfiles.ipynb', all='*')\n",
    "```\n",
    "\n",
    "Many versions of this can be used, depending on your preferences, e.g.:\n",
    "\n",
    "```python\n",
    "from gist.abcdef0123456789abcdef0123456789 import *\n",
    "```\n",
    "\n",
    "### Future work <a id=\"future-work\"></a>\n",
    "\n",
    "#### Customize import behavior\n",
    "- [x] test/handle intra-gist imports\n",
    "- [ ] test/handle pip dependencies in gist imports\n",
    "- [ ] API for tagging/skipping cells in notebooks (visualizations, tests, etc.)\n",
    "- [ ] work with `importlib.reload`\n",
    "- [ ] support `__init__.ipynb` (automatically load notebook when loading Gist), `__all__` (configure `import *` behavior)\n",
    "- [ ] more nuanced TTL / `skip_cache` behavior (e.g. let cached URLs time-out appropriately based on HTTP headers, a la [`requests-cache`](https://pypi.org/project/requests-cache/))\n",
    "\n",
    "#### Usability\n",
    "- [ ] pretty-print info about what's imported (in notebook environments)\n",
    "- proper logging:\n",
    "  - [ ] support `dict` for `opts.verbose`\n",
    "  - [ ] colorized / rich log rendering (incl. HTML in notebook environments)\n",
    "\n",
    "#### Import Sources\n",
    "- [ ] support github / gitlab imports\n",
    "- [ ] Support `nbformat`/Jupyter versions >4\n",
    "\n",
    "#### Project Management\n",
    "- [ ] Minimize(+freeze!) [dependencies](./setup.py)\n",
    "- Self-hosting:\n",
    "  - [ ] put code in notebooks\n",
    "  - [ ] mirror repository in a Gist\n",
    "  - [ ] implement subsequent versions of `ur` using earlier versions of `ur` (importing from remote, package-less locations)\n",
    "- [x] run `*-test.ipynb` notebooks as tests\n",
    "- [x] set up CI\n",
    "- [x] generate `README.md` from `README.ipynb` with pre-commit hook\n",
    "- [ ] convert/copy all of these TODOs GitHub into issues!"
   ]
  }
 ],
 "metadata": {
  "kernelspec": {
   "display_name": "3.8.2",
   "language": "python",
   "name": "3.8.2"
  },
  "language_info": {
   "codemirror_mode": {
    "name": "ipython",
    "version": 3
   },
   "file_extension": ".py",
   "mimetype": "text/x-python",
   "name": "python",
   "nbconvert_exporter": "python",
   "pygments_lexer": "ipython3",
   "version": "3.8.2"
  }
 },
 "nbformat": 4,
 "nbformat_minor": 2
}
