{
 "cells": [
  {
   "cell_type": "markdown",
   "metadata": {
    "papermill": {
     "duration": 0.012436,
     "end_time": "2020-05-30T18:38:08.019229",
     "exception": false,
     "start_time": "2020-05-30T18:38:08.006793",
     "status": "completed"
    },
    "tags": []
   },
   "source": [
    "Import from a notebook that imports adjacent notebooks from the same Gist (local imports in a remote notebook):"
   ]
  },
  {
   "cell_type": "code",
   "execution_count": 1,
   "metadata": {
    "execution": {
     "iopub.execute_input": "2020-05-30T18:38:08.043762Z",
     "iopub.status.busy": "2020-05-30T18:38:08.043065Z",
     "iopub.status.idle": "2020-05-30T18:38:08.781964Z",
     "shell.execute_reply": "2020-05-30T18:38:08.782466Z"
    },
    "papermill": {
     "duration": 0.752281,
     "end_time": "2020-05-30T18:38:08.782610",
     "exception": false,
     "start_time": "2020-05-30T18:38:08.030329",
     "status": "completed"
    },
    "scrolled": true,
    "tags": []
   },
   "outputs": [],
   "source": [
    "from gist._1288bff2f9e05394a94312010da267bb import *"
   ]
  },
  {
   "cell_type": "code",
   "execution_count": 2,
   "metadata": {
    "execution": {
     "iopub.execute_input": "2020-05-30T18:38:08.805850Z",
     "iopub.status.busy": "2020-05-30T18:38:08.803724Z",
     "iopub.status.idle": "2020-05-30T18:38:08.811282Z",
     "shell.execute_reply": "2020-05-30T18:38:08.810682Z"
    },
    "papermill": {
     "duration": 0.021144,
     "end_time": "2020-05-30T18:38:08.811400",
     "exception": false,
     "start_time": "2020-05-30T18:38:08.790256",
     "status": "completed"
    },
    "tags": []
   },
   "outputs": [
    {
     "data": {
      "text/plain": [
       "'aaabbb'"
      ]
     },
     "execution_count": 2,
     "metadata": {},
     "output_type": "execute_result"
    }
   ],
   "source": [
    "nb_import_nb.a_and_b()"
   ]
  },
  {
   "cell_type": "code",
   "execution_count": 3,
   "metadata": {
    "execution": {
     "iopub.execute_input": "2020-05-30T18:38:08.828393Z",
     "iopub.status.busy": "2020-05-30T18:38:08.827703Z",
     "iopub.status.idle": "2020-05-30T18:38:08.833456Z",
     "shell.execute_reply": "2020-05-30T18:38:08.833864Z"
    },
    "papermill": {
     "duration": 0.015941,
     "end_time": "2020-05-30T18:38:08.834074",
     "exception": false,
     "start_time": "2020-05-30T18:38:08.818133",
     "status": "completed"
    },
    "tags": []
   },
   "outputs": [
    {
     "data": {
      "text/plain": [
       "'DDD!yay'"
      ]
     },
     "execution_count": 3,
     "metadata": {},
     "output_type": "execute_result"
    }
   ],
   "source": [
    "nb_import_py.wrap_py_fn()"
   ]
  }
 ],
 "metadata": {
  "kernelspec": {
   "display_name": "3.8.2",
   "language": "python",
   "name": "3.8.2"
  },
  "language_info": {
   "codemirror_mode": {
    "name": "ipython",
    "version": 3
   },
   "file_extension": ".py",
   "mimetype": "text/x-python",
   "name": "python",
   "nbconvert_exporter": "python",
   "pygments_lexer": "ipython3",
   "version": "3.8.2"
  },
  "papermill": {
   "duration": 1.765862,
   "end_time": "2020-05-30T18:38:08.956023",
   "environment_variables": {},
   "exception": null,
   "input_path": "/ur/remote-relative-import-test.ipynb",
   "output_path": "/ur/out/remote-relative-import-test.ipynb",
   "parameters": {},
   "start_time": "2020-05-30T18:38:07.190161",
   "version": "2.1.1"
  }
 },
 "nbformat": 4,
 "nbformat_minor": 2
}