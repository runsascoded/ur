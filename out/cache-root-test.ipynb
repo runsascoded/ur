{
 "cells": [
  {
   "cell_type": "markdown",
   "metadata": {
    "papermill": {
     "duration": 0.009477,
     "end_time": "2020-06-08T04:22:36.135504",
     "exception": false,
     "start_time": "2020-06-08T04:22:36.126027",
     "status": "completed"
    },
    "tags": []
   },
   "source": [
    "Set a non-default `cache_root` (can only be changed before any Gists are imported; subsequent changes will have no effect):"
   ]
  },
  {
   "cell_type": "code",
   "execution_count": 1,
   "metadata": {
    "execution": {
     "iopub.execute_input": "2020-06-08T04:22:36.155159Z",
     "iopub.status.busy": "2020-06-08T04:22:36.154423Z",
     "iopub.status.idle": "2020-06-08T04:22:36.603168Z",
     "shell.execute_reply": "2020-06-08T04:22:36.603576Z"
    },
    "papermill": {
     "duration": 0.459972,
     "end_time": "2020-06-08T04:22:36.603705",
     "exception": false,
     "start_time": "2020-06-08T04:22:36.143733",
     "status": "completed"
    },
    "tags": []
   },
   "outputs": [],
   "source": [
    "import ur\n",
    "ur.cache_root = '.cache'\n",
    "\n",
    "from gist._1288bff2f9e05394a94312010da267bb import *"
   ]
  },
  {
   "cell_type": "code",
   "execution_count": 2,
   "metadata": {
    "execution": {
     "iopub.execute_input": "2020-06-08T04:22:36.642698Z",
     "iopub.status.busy": "2020-06-08T04:22:36.639751Z",
     "iopub.status.idle": "2020-06-08T04:22:36.647346Z",
     "shell.execute_reply": "2020-06-08T04:22:36.646660Z"
    },
    "papermill": {
     "duration": 0.02527,
     "end_time": "2020-06-08T04:22:36.647438",
     "exception": false,
     "start_time": "2020-06-08T04:22:36.622168",
     "status": "completed"
    },
    "scrolled": true,
    "tags": []
   },
   "outputs": [
    {
     "data": {
      "text/plain": [
       "('aaa', 'bbb', 'ccc')"
      ]
     },
     "execution_count": 2,
     "metadata": {},
     "output_type": "execute_result"
    }
   ],
   "source": [
    "a_b.a(), a_b.b(), c.c()"
   ]
  },
  {
   "cell_type": "code",
   "execution_count": 3,
   "metadata": {
    "execution": {
     "iopub.execute_input": "2020-06-08T04:22:36.668803Z",
     "iopub.status.busy": "2020-06-08T04:22:36.667968Z",
     "iopub.status.idle": "2020-06-08T04:22:37.332787Z",
     "shell.execute_reply": "2020-06-08T04:22:37.333413Z"
    },
    "papermill": {
     "duration": 0.678393,
     "end_time": "2020-06-08T04:22:37.333564",
     "exception": false,
     "start_time": "2020-06-08T04:22:36.655171",
     "status": "completed"
    },
    "tags": []
   },
   "outputs": [
    {
     "name": "stdout",
     "output_type": "stream",
     "text": [
      "/bin/sh: 1: tree: not found\r\n"
     ]
    }
   ],
   "source": [
    "!tree .cache"
   ]
  }
 ],
 "metadata": {
  "kernelspec": {
   "display_name": "3.8.2",
   "language": "python",
   "name": "3.8.2"
  },
  "language_info": {
   "codemirror_mode": {
    "name": "ipython",
    "version": 3
   },
   "file_extension": ".py",
   "mimetype": "text/x-python",
   "name": "python",
   "nbconvert_exporter": "python",
   "pygments_lexer": "ipython3",
   "version": "3.8.3"
  },
  "papermill": {
   "duration": 2.231868,
   "end_time": "2020-06-08T04:22:37.462508",
   "environment_variables": {},
   "exception": null,
   "input_path": "/ur/cache-root-test.ipynb",
   "output_path": "/ur/out/cache-root-test.ipynb",
   "parameters": {},
   "start_time": "2020-06-08T04:22:35.230640",
   "version": "2.1.1"
  }
 },
 "nbformat": 4,
 "nbformat_minor": 2
}