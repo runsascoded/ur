{
 "cells": [
  {
   "cell_type": "code",
   "execution_count": 160,
   "metadata": {},
   "outputs": [],
   "source": [
    "from functools import partial, partialmethod, wraps\n",
    "import json\n",
    "from pathlib import Path\n",
    "\n",
    "class Meta(type):\n",
    "    def __new__(\n",
    "        cls, clsname, bases, dct, \n",
    "        cache_root=None, \n",
    "        cache_type_name=None,\n",
    "        cache_key='id',\n",
    "        cache_dir_key='_dir',\n",
    "        debug=None,\n",
    "    ):\n",
    "        def print(*args, **kwargs):\n",
    "            if debug:\n",
    "                debug(*args, **kwargs)\n",
    "        \n",
    "        print(f'Meta.__new__({cls}, {clsname}, {bases}, {dct})')\n",
    "        methods = dct.copy()\n",
    "        fields = []\n",
    "\n",
    "        if not cache_root:\n",
    "            cache_root = Path.cwd() / '.objs'\n",
    "        cache_root = Path(cache_root)\n",
    "\n",
    "        if not cache_type_name:\n",
    "            cache_type_name = clsname\n",
    "            \n",
    "        class_dir = cache_root / cache_type_name\n",
    "        class_dir.mkdir(parents=True, exist_ok=True)\n",
    "        print(f'Class cache dir: {class_dir}')\n",
    "\n",
    "        for name, fn in dct.items():\n",
    "            print(f'Checking: {name}: {fn}')\n",
    "            if isinstance(fn, property):\n",
    "                print(f'property: {name} -> {fn}')\n",
    "                fields.append(name)\n",
    "                field_name = f'_{name}'\n",
    "                \n",
    "                def wrapped_fn(self, name, field_name, fn, *args, **kwargs):\n",
    "                    print(f'wrapped_fn: {name} ({field_name}): {fn}')\n",
    "                    if not hasattr(self, field_name):\n",
    "                        \n",
    "                        # Path to cache this instance's fields to\n",
    "                        cache_dir = getattr(self, cache_dir_key)\n",
    "\n",
    "                        # Path to cache this specific field to (within the instance's dir)\n",
    "                        path = cache_dir / name\n",
    "                        if path.exists():\n",
    "                            with path.open('r') as f:\n",
    "                                val = json.load(f)\n",
    "                            print(f'Loaded attr from cache: {field_name}={val}')\n",
    "                        else:\n",
    "                            print(f'Computing: {name}')\n",
    "                            assert isinstance(fn, property), fn\n",
    "\n",
    "                            val = fn.fget(self, *args, **kwargs)\n",
    "                            print(f'Computed: {name}={val}')\n",
    "\n",
    "                            cache_dir.mkdir(parents=True, exist_ok=True)\n",
    "\n",
    "                            print(f'Saving {name} to {path}')\n",
    "                            with path.open('w') as f:\n",
    "                                json.dump(val, f)\n",
    "\n",
    "                        # set loaded value on instance\n",
    "                        setattr(self, field_name, val)\n",
    "                    else:\n",
    "                        print(f'Lookup: {name}={getattr(self, field_name)}')\n",
    "\n",
    "                    return getattr(self, field_name)\n",
    "\n",
    "                applied = partial(wrapped_fn, name=name, field_name=field_name, fn=fn)\n",
    "                prop = property(applied)\n",
    "                print(f'Setting method: {name}: {prop}')\n",
    "                methods[name] = prop\n",
    "            else:\n",
    "                print(f'Skipping: {name}')\n",
    "                    \n",
    "        print(f'Fields: {fields}')\n",
    "        orig_init = None\n",
    "        if '__init__' in methods:\n",
    "            orig_init = methods['__init__']\n",
    "\n",
    "        def __init__(self, *args, **_kwargs):\n",
    "            kwargs = _kwargs.copy()\n",
    "            print(f'__init__(self, {args}, {kwargs})')\n",
    "\n",
    "            if cache_key in kwargs:\n",
    "                cache_id = kwargs.pop(cache_key)\n",
    "            elif args:\n",
    "                cache_id = args[0]\n",
    "                args = args[1:]\n",
    "            else:\n",
    "                raise Exception(f\"Couldn't find {cache_key} field in kwargs or as first element of *args \")\n",
    "\n",
    "            print(f'Setting cache id {cache_key}={cache_id}')    \n",
    "            setattr(self, cache_key, cache_id)\n",
    "            \n",
    "            cache_dir = class_dir / str(cache_id)\n",
    "            setattr(self, cache_dir_key, cache_dir)\n",
    "            print(f'Set {cache_dir_key}={cache_dir} for id {cache_id}')\n",
    "                    \n",
    "            if orig_init:\n",
    "                orig_init(self, *args, **kwargs)\n",
    "            \n",
    "            print(f'Done with injected __init__')\n",
    "        \n",
    "        methods['__init__'] = __init__\n",
    "        \n",
    "        def __str__(self):\n",
    "            strs = [ f'{cache_key}={getattr(self, cache_key)}' ]\n",
    "            for field in fields:\n",
    "                k = f'_{field}'\n",
    "                if hasattr(self, k):\n",
    "                    v = getattr(self, k)\n",
    "                    strs.append(f'{field}={v}')\n",
    "            return '%s(%s)' % (clsname, ', '.join(strs))\n",
    "                \n",
    "        if '__str__' not in methods:\n",
    "            methods['__str__'] = __str__\n",
    "\n",
    "        if '__repr__' not in methods:\n",
    "            methods['__repr__'] = __str__\n",
    "\n",
    "        new = super(Meta, cls).__new__(cls, clsname, bases, methods)\n",
    "        print(f'returning {new}: {methods}')\n",
    "\n",
    "        return new"
   ]
  },
  {
   "cell_type": "code",
   "execution_count": 167,
   "metadata": {},
   "outputs": [],
   "source": [
    "class Foo(metaclass=Meta):\n",
    "    @property\n",
    "    def a(self):\n",
    "        return f'{self.id}-a'\n",
    "\n",
    "    @property\n",
    "    def b(self):\n",
    "        return self.id * 2"
   ]
  },
  {
   "cell_type": "code",
   "execution_count": 168,
   "metadata": {},
   "outputs": [
    {
     "data": {
      "text/plain": [
       "Foo(id=111)"
      ]
     },
     "execution_count": 168,
     "metadata": {},
     "output_type": "execute_result"
    }
   ],
   "source": [
    "f = Foo(111); f"
   ]
  },
  {
   "cell_type": "code",
   "execution_count": 170,
   "metadata": {},
   "outputs": [
    {
     "data": {
      "text/plain": [
       "('111-a', 'Foo(id=111, a=111-a)')"
      ]
     },
     "execution_count": 170,
     "metadata": {},
     "output_type": "execute_result"
    }
   ],
   "source": [
    "f.a, str(f)"
   ]
  },
  {
   "cell_type": "code",
   "execution_count": 171,
   "metadata": {},
   "outputs": [
    {
     "data": {
      "text/plain": [
       "(222, 'Foo(id=111, a=111-a, b=222)')"
      ]
     },
     "execution_count": 171,
     "metadata": {},
     "output_type": "execute_result"
    }
   ],
   "source": [
    "f.b, str(f)"
   ]
  },
  {
   "cell_type": "code",
   "execution_count": 173,
   "metadata": {},
   "outputs": [
    {
     "data": {
      "text/plain": [
       "Foo(id=222)"
      ]
     },
     "execution_count": 173,
     "metadata": {},
     "output_type": "execute_result"
    }
   ],
   "source": [
    "f2 = Foo(222); f2"
   ]
  },
  {
   "cell_type": "code",
   "execution_count": 174,
   "metadata": {},
   "outputs": [
    {
     "data": {
      "text/plain": [
       "('222-a', 'Foo(id=222, a=222-a)')"
      ]
     },
     "execution_count": 174,
     "metadata": {},
     "output_type": "execute_result"
    }
   ],
   "source": [
    "f2.a, str(f2)"
   ]
  },
  {
   "cell_type": "code",
   "execution_count": 175,
   "metadata": {},
   "outputs": [
    {
     "data": {
      "text/plain": [
       "(444, 'Foo(id=222, a=222-a, b=444)')"
      ]
     },
     "execution_count": 175,
     "metadata": {},
     "output_type": "execute_result"
    }
   ],
   "source": [
    "f2.b, str(f2)"
   ]
  }
 ],
 "metadata": {
  "kernelspec": {
   "display_name": "ur-3.7.4",
   "language": "python",
   "name": "ur-3.7.4"
  },
  "language_info": {
   "codemirror_mode": {
    "name": "ipython",
    "version": 3
   },
   "file_extension": ".py",
   "mimetype": "text/x-python",
   "name": "python",
   "nbconvert_exporter": "python",
   "pygments_lexer": "ipython3",
   "version": "3.7.4"
  }
 },
 "nbformat": 4,
 "nbformat_minor": 2
}
