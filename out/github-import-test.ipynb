{
 "cells": [
  {
   "cell_type": "markdown",
   "metadata": {
    "papermill": {
     "duration": 0.008568,
     "end_time": "2020-06-08T04:58:56.624001",
     "exception": false,
     "start_time": "2020-06-08T04:58:56.615433",
     "status": "completed"
    },
    "tags": []
   },
   "source": [
    "Wildcard-import a module from [a GitHub repo](https://github.com/ryan-williams/jupyter-rc):"
   ]
  },
  {
   "cell_type": "code",
   "execution_count": 1,
   "metadata": {
    "execution": {
     "iopub.execute_input": "2020-06-08T04:58:56.652325Z",
     "iopub.status.busy": "2020-06-08T04:58:56.651612Z",
     "iopub.status.idle": "2020-06-08T04:58:57.667567Z",
     "shell.execute_reply": "2020-06-08T04:58:57.666715Z"
    },
    "papermill": {
     "duration": 1.027843,
     "end_time": "2020-06-08T04:58:57.667657",
     "exception": false,
     "start_time": "2020-06-08T04:58:56.639814",
     "status": "completed"
    },
    "scrolled": false,
    "tags": []
   },
   "outputs": [],
   "source": [
    "import ur\n",
    "from github.ryan_williams.jupyter_rc.context import *"
   ]
  },
  {
   "cell_type": "markdown",
   "metadata": {
    "papermill": {
     "duration": 0.006599,
     "end_time": "2020-06-08T04:58:57.684058",
     "exception": false,
     "start_time": "2020-06-08T04:58:57.677459",
     "status": "completed"
    },
    "tags": []
   },
   "source": [
    "The `catch` function is now in scope:"
   ]
  },
  {
   "cell_type": "code",
   "execution_count": 2,
   "metadata": {
    "execution": {
     "iopub.execute_input": "2020-06-08T04:58:57.702855Z",
     "iopub.status.busy": "2020-06-08T04:58:57.702052Z",
     "iopub.status.idle": "2020-06-08T04:58:57.705786Z",
     "shell.execute_reply": "2020-06-08T04:58:57.705262Z"
    },
    "papermill": {
     "duration": 0.014311,
     "end_time": "2020-06-08T04:58:57.705868",
     "exception": false,
     "start_time": "2020-06-08T04:58:57.691557",
     "status": "completed"
    },
    "tags": []
   },
   "outputs": [],
   "source": [
    "with catch(ValueError): raise ValueError"
   ]
  },
  {
   "cell_type": "markdown",
   "metadata": {
    "papermill": {
     "duration": 0.006249,
     "end_time": "2020-06-08T04:58:57.719287",
     "exception": false,
     "start_time": "2020-06-08T04:58:57.713038",
     "status": "completed"
    },
    "tags": []
   },
   "source": [
    "Direct-import a class from another module:"
   ]
  },
  {
   "cell_type": "code",
   "execution_count": 3,
   "metadata": {
    "execution": {
     "iopub.execute_input": "2020-06-08T04:58:57.742588Z",
     "iopub.status.busy": "2020-06-08T04:58:57.740800Z",
     "iopub.status.idle": "2020-06-08T04:58:57.747570Z",
     "shell.execute_reply": "2020-06-08T04:58:57.747012Z"
    },
    "papermill": {
     "duration": 0.021192,
     "end_time": "2020-06-08T04:58:57.747653",
     "exception": false,
     "start_time": "2020-06-08T04:58:57.726461",
     "status": "completed"
    },
    "tags": []
   },
   "outputs": [
    {
     "data": {
      "text/plain": [
       "{'a': 1, 'b': 2}"
      ]
     },
     "execution_count": 3,
     "metadata": {},
     "output_type": "execute_result"
    }
   ],
   "source": [
    "from github.ryan_williams.jupyter_rc.o import o\n",
    "o(a=1,b=2)"
   ]
  }
 ],
 "metadata": {
  "kernelspec": {
   "display_name": "ur-3.8.2",
   "language": "python",
   "name": "ur-3.8.2"
  },
  "language_info": {
   "codemirror_mode": {
    "name": "ipython",
    "version": 3
   },
   "file_extension": ".py",
   "mimetype": "text/x-python",
   "name": "python",
   "nbconvert_exporter": "python",
   "pygments_lexer": "ipython3",
   "version": "3.8.3"
  },
  "papermill": {
   "duration": 2.231975,
   "end_time": "2020-06-08T04:58:57.866094",
   "environment_variables": {},
   "exception": null,
   "input_path": "/ur/github-import-test.ipynb",
   "output_path": "/ur/out/github-import-test.ipynb",
   "parameters": {},
   "start_time": "2020-06-08T04:58:55.634119",
   "version": "2.1.1"
  }
 },
 "nbformat": 4,
 "nbformat_minor": 2
}