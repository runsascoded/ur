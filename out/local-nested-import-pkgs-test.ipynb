{
 "cells": [
  {
   "cell_type": "markdown",
   "metadata": {
    "papermill": {
     "duration": 0.013792,
     "end_time": "2020-06-08T04:58:44.749924",
     "exception": false,
     "start_time": "2020-06-08T04:58:44.736132",
     "status": "completed"
    },
    "tags": []
   },
   "source": [
    "Test importing local {`.py`,`.ipynb`} modules that in turn import from other local {`.py`,`.ipynb`} modules:"
   ]
  },
  {
   "cell_type": "code",
   "execution_count": 1,
   "metadata": {
    "execution": {
     "iopub.execute_input": "2020-06-08T04:58:44.784161Z",
     "iopub.status.busy": "2020-06-08T04:58:44.782387Z",
     "iopub.status.idle": "2020-06-08T04:58:44.989975Z",
     "shell.execute_reply": "2020-06-08T04:58:44.990358Z"
    },
    "papermill": {
     "duration": 0.225014,
     "end_time": "2020-06-08T04:58:44.990484",
     "exception": false,
     "start_time": "2020-06-08T04:58:44.765470",
     "status": "completed"
    },
    "tags": []
   },
   "outputs": [],
   "source": [
    "import ur"
   ]
  },
  {
   "cell_type": "markdown",
   "metadata": {
    "papermill": {
     "duration": 0.011068,
     "end_time": "2020-06-08T04:58:45.014627",
     "exception": false,
     "start_time": "2020-06-08T04:58:45.003559",
     "status": "completed"
    },
    "tags": []
   },
   "source": [
    "Import from a notebook that in turn imports from another, adjacent notebook:"
   ]
  },
  {
   "cell_type": "code",
   "execution_count": 2,
   "metadata": {
    "execution": {
     "iopub.execute_input": "2020-06-08T04:58:45.038017Z",
     "iopub.status.busy": "2020-06-08T04:58:45.036653Z",
     "iopub.status.idle": "2020-06-08T04:58:45.135400Z",
     "shell.execute_reply": "2020-06-08T04:58:45.135030Z"
    },
    "papermill": {
     "duration": 0.112192,
     "end_time": "2020-06-08T04:58:45.135476",
     "exception": false,
     "start_time": "2020-06-08T04:58:45.023284",
     "status": "completed"
    },
    "scrolled": true,
    "tags": []
   },
   "outputs": [
    {
     "data": {
      "text/plain": [
       "'aaabbb'"
      ]
     },
     "execution_count": 2,
     "metadata": {},
     "output_type": "execute_result"
    }
   ],
   "source": [
    "from examples.abcd_gist import nb_abs_nb\n",
    "nb_abs_nb.nb_abs_nb()"
   ]
  },
  {
   "cell_type": "markdown",
   "metadata": {
    "papermill": {
     "duration": 0.010867,
     "end_time": "2020-06-08T04:58:45.160021",
     "exception": false,
     "start_time": "2020-06-08T04:58:45.149154",
     "status": "completed"
    },
    "tags": []
   },
   "source": [
    "Import from a notebook that in turn imports from an adjacent Python file:"
   ]
  },
  {
   "cell_type": "code",
   "execution_count": 3,
   "metadata": {
    "execution": {
     "iopub.execute_input": "2020-06-08T04:58:45.184521Z",
     "iopub.status.busy": "2020-06-08T04:58:45.183952Z",
     "iopub.status.idle": "2020-06-08T04:58:45.187313Z",
     "shell.execute_reply": "2020-06-08T04:58:45.187825Z"
    },
    "papermill": {
     "duration": 0.017822,
     "end_time": "2020-06-08T04:58:45.187933",
     "exception": false,
     "start_time": "2020-06-08T04:58:45.170111",
     "status": "completed"
    },
    "scrolled": true,
    "tags": []
   },
   "outputs": [
    {
     "data": {
      "text/plain": [
       "'DDD!yay'"
      ]
     },
     "execution_count": 3,
     "metadata": {},
     "output_type": "execute_result"
    }
   ],
   "source": [
    "from examples.abcd_gist import nb_abs_py\n",
    "nb_abs_py.nb_abs_py()"
   ]
  },
  {
   "cell_type": "markdown",
   "metadata": {
    "papermill": {
     "duration": 0.009599,
     "end_time": "2020-06-08T04:58:45.207784",
     "exception": false,
     "start_time": "2020-06-08T04:58:45.198185",
     "status": "completed"
    },
    "tags": []
   },
   "source": [
    "Import from a Python file that in turn imports an adjacent notebook:"
   ]
  },
  {
   "cell_type": "code",
   "execution_count": 4,
   "metadata": {
    "execution": {
     "iopub.execute_input": "2020-06-08T04:58:45.232243Z",
     "iopub.status.busy": "2020-06-08T04:58:45.231284Z",
     "iopub.status.idle": "2020-06-08T04:58:45.234343Z",
     "shell.execute_reply": "2020-06-08T04:58:45.234856Z"
    },
    "papermill": {
     "duration": 0.01717,
     "end_time": "2020-06-08T04:58:45.234963",
     "exception": false,
     "start_time": "2020-06-08T04:58:45.217793",
     "status": "completed"
    },
    "scrolled": true,
    "tags": []
   },
   "outputs": [
    {
     "data": {
      "text/plain": [
       "'aaabbb'"
      ]
     },
     "execution_count": 4,
     "metadata": {},
     "output_type": "execute_result"
    }
   ],
   "source": [
    "from examples.abcd_gist import py_abs_nb\n",
    "py_abs_nb.py_abs_nb()"
   ]
  },
  {
   "cell_type": "markdown",
   "metadata": {
    "papermill": {
     "duration": 0.010738,
     "end_time": "2020-06-08T04:58:45.256219",
     "exception": false,
     "start_time": "2020-06-08T04:58:45.245481",
     "status": "completed"
    },
    "tags": []
   },
   "source": [
    "Import from a Python file that in turn imports from another, adjacent Python file:"
   ]
  },
  {
   "cell_type": "code",
   "execution_count": 5,
   "metadata": {
    "execution": {
     "iopub.execute_input": "2020-06-08T04:58:45.287685Z",
     "iopub.status.busy": "2020-06-08T04:58:45.287137Z",
     "iopub.status.idle": "2020-06-08T04:58:45.291554Z",
     "shell.execute_reply": "2020-06-08T04:58:45.290881Z"
    },
    "papermill": {
     "duration": 0.021796,
     "end_time": "2020-06-08T04:58:45.291659",
     "exception": false,
     "start_time": "2020-06-08T04:58:45.269863",
     "status": "completed"
    },
    "scrolled": true,
    "tags": []
   },
   "outputs": [
    {
     "data": {
      "text/plain": [
       "'DDD!yay'"
      ]
     },
     "execution_count": 5,
     "metadata": {},
     "output_type": "execute_result"
    }
   ],
   "source": [
    "from examples.abcd_gist import py_abs_py\n",
    "py_abs_py.py_abs_py()"
   ]
  }
 ],
 "metadata": {
  "kernelspec": {
   "display_name": "3.8.2",
   "language": "python",
   "name": "3.8.2"
  },
  "language_info": {
   "codemirror_mode": {
    "name": "ipython",
    "version": 3
   },
   "file_extension": ".py",
   "mimetype": "text/x-python",
   "name": "python",
   "nbconvert_exporter": "python",
   "pygments_lexer": "ipython3",
   "version": "3.8.3"
  },
  "papermill": {
   "duration": 1.539311,
   "end_time": "2020-06-08T04:58:45.414217",
   "environment_variables": {},
   "exception": null,
   "input_path": "/ur/local-nested-import-pkgs-test.ipynb",
   "output_path": "/ur/out/local-nested-import-pkgs-test.ipynb",
   "parameters": {},
   "start_time": "2020-06-08T04:58:43.874906",
   "version": "2.1.1"
  }
 },
 "nbformat": 4,
 "nbformat_minor": 2
}