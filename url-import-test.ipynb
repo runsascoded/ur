{
 "cells": [
  {
   "cell_type": "markdown",
   "metadata": {
    "papermill": {
     "duration": 0.016957,
     "end_time": "2020-06-25T00:25:10.236077",
     "exception": false,
     "start_time": "2020-06-25T00:25:10.219120",
     "status": "completed"
    },
    "tags": []
   },
   "source": [
    "Test importing from URLs:\n",
    "- spin up an HTTP server serving local files\n",
    "- import a notebook by URL\n",
    "\n",
    "`papermill` params:"
   ]
  },
  {
   "cell_type": "code",
   "execution_count": 1,
   "metadata": {
    "execution": {
     "iopub.execute_input": "2020-06-25T00:25:10.281189Z",
     "iopub.status.busy": "2020-06-25T00:25:10.279687Z",
     "iopub.status.idle": "2020-06-25T00:25:10.283193Z",
     "shell.execute_reply": "2020-06-25T00:25:10.283624Z"
    },
    "papermill": {
     "duration": 0.027682,
     "end_time": "2020-06-25T00:25:10.283848",
     "exception": false,
     "start_time": "2020-06-25T00:25:10.256166",
     "status": "completed"
    },
    "tags": [
     "parameters"
    ]
   },
   "outputs": [],
   "source": [
    "# Configs for web server that we'll run, and load notebooks from:\n",
    "host = 'localhost'\n",
    "port = 8000"
   ]
  },
  {
   "cell_type": "markdown",
   "metadata": {
    "papermill": {
     "duration": 0.011152,
     "end_time": "2020-06-25T00:25:10.307433",
     "exception": false,
     "start_time": "2020-06-25T00:25:10.296281",
     "status": "completed"
    },
    "tags": []
   },
   "source": [
    "Serve the current directory over an HTTP server:"
   ]
  },
  {
   "cell_type": "code",
   "execution_count": 2,
   "metadata": {
    "execution": {
     "iopub.execute_input": "2020-06-25T00:25:10.345184Z",
     "iopub.status.busy": "2020-06-25T00:25:10.343990Z",
     "iopub.status.idle": "2020-06-25T00:25:11.355260Z",
     "shell.execute_reply": "2020-06-25T00:25:11.356083Z"
    },
    "papermill": {
     "duration": 1.034637,
     "end_time": "2020-06-25T00:25:11.356377",
     "exception": false,
     "start_time": "2020-06-25T00:25:10.321740",
     "status": "completed"
    },
    "tags": []
   },
   "outputs": [
    {
     "name": "stdout",
     "output_type": "stream",
     "text": [
      "serving at localhost:8000 from dir /ur: [PosixPath('/ur/runtest.py'), PosixPath('/ur/ignore_tests'), PosixPath('/ur/gists-test.ipynb'), PosixPath('/ur/runtests.ipynb'), PosixPath('/ur/Dockerfile.test'), PosixPath('/ur/.objs'), PosixPath('/ur/importer.py'), PosixPath('/ur/LICENSE'), PosixPath('/ur/.pytest_cache'), PosixPath('/ur/out'), PosixPath('/ur/dist'), PosixPath('/ur/local-nested-import-test.ipynb'), PosixPath('/ur/Untitled.ipynb'), PosixPath('/ur/ur.iml'), PosixPath('/ur/MANIFEST'), PosixPath('/ur/.urignore'), PosixPath('/ur/_github'), PosixPath('/ur/url_loader.py'), PosixPath('/ur/README.ipynb'), PosixPath('/ur/tests'), PosixPath('/ur/ur.code-workspace'), PosixPath('/ur/__init__.py'), PosixPath('/ur/fd.ipynb'), PosixPath('/ur/__pycache__'), PosixPath('/ur/README.html'), PosixPath('/ur/.gitmodules'), PosixPath('/ur/make-dockerignore.py'), PosixPath('/ur/local-nested-import-pkgs-test.ipynb'), PosixPath('/ur/README.md'), PosixPath('/ur/url.py'), PosixPath('/ur/remote-nested-import-test.ipynb'), PosixPath('/ur/urignore-test.ipynb'), PosixPath('/ur/setup.py'), PosixPath('/ur/.dockerignore'), PosixPath('/ur/github'), PosixPath('/ur/.gitignore'), PosixPath('/ur/gitlab-import-test.ipynb'), PosixPath('/ur/examples'), PosixPath('/ur/opts.py'), PosixPath('/ur/reimport-test.ipynb'), PosixPath('/ur/ur.py'), PosixPath('/ur/.github'), PosixPath('/ur/rgxs.py'), PosixPath('/ur/jupyter_rc'), PosixPath('/ur/github-import-test.ipynb'), PosixPath('/ur/.python-version'), PosixPath('/ur/ur.egg-info'), PosixPath('/ur/cache-root-test.ipynb'), PosixPath('/ur/setup.cfg'), PosixPath('/ur/.ipynb_checkpoints'), PosixPath('/ur/nb.py'), PosixPath('/ur/node.py'), PosixPath('/ur/_gist'), PosixPath('/ur/mutating-notebook-test'), PosixPath('/ur/stack-overflow-import'), PosixPath('/ur/.git'), PosixPath('/ur/.vscode'), PosixPath('/ur/nbimporter'), PosixPath('/ur/cells.py'), PosixPath('/ur/pclass'), PosixPath('/ur/gist'), PosixPath('/ur/.cache'), PosixPath('/ur/urignore.py'), PosixPath('/ur/_gitlab'), PosixPath('/ur/gists'), PosixPath('/ur/url-import-test.ipynb'), PosixPath('/ur/runtests.py'), PosixPath('/ur/import-support-table.ipynb'), PosixPath('/ur/local-nested-import-pkgs-wildcard-test.ipynb'), PosixPath('/ur/.idea')]\n"
     ]
    }
   ],
   "source": [
    "from pathlib import Path\n",
    "\n",
    "def http_server():\n",
    "    from http.server import SimpleHTTPRequestHandler as Handler \n",
    "    from socketserver import TCPServer\n",
    "\n",
    "    with TCPServer((host, port), Handler) as httpd:\n",
    "        cwd = Path.cwd()\n",
    "        print(f\"serving at {host}:{port} from dir {cwd}: {list(cwd.iterdir())}\")\n",
    "        httpd.serve_forever()\n",
    "    \n",
    "from threading import Thread\n",
    "thread = Thread(target=http_server)\n",
    "thread.start()\n",
    "from time import sleep\n",
    "sleep(1)"
   ]
  },
  {
   "cell_type": "markdown",
   "metadata": {
    "papermill": {
     "duration": 0.01552,
     "end_time": "2020-06-25T00:25:11.394627",
     "exception": false,
     "start_time": "2020-06-25T00:25:11.379107",
     "status": "completed"
    },
    "tags": []
   },
   "source": [
    "## Import a remote notebook as a Python module:"
   ]
  },
  {
   "cell_type": "code",
   "execution_count": 3,
   "metadata": {
    "execution": {
     "iopub.execute_input": "2020-06-25T00:25:11.436104Z",
     "iopub.status.busy": "2020-06-25T00:25:11.435104Z",
     "iopub.status.idle": "2020-06-25T00:25:12.273628Z",
     "shell.execute_reply": "2020-06-25T00:25:12.274200Z"
    },
    "papermill": {
     "duration": 0.864317,
     "end_time": "2020-06-25T00:25:12.274396",
     "exception": false,
     "start_time": "2020-06-25T00:25:11.410079",
     "status": "completed"
    },
    "scrolled": true,
    "tags": []
   },
   "outputs": [
    {
     "data": {
      "text/plain": [
       "<module 'URL(id=http://localhost:8000/examples/abcd_gist/a_b.ipynb)' (.objs/URL/http:/localhost:8000/examples/abcd_gist/a_b.ipynb/content)>"
      ]
     },
     "execution_count": 3,
     "metadata": {},
     "output_type": "execute_result"
    }
   ],
   "source": [
    "import ur\n",
    "url = 'http://localhost:8000/examples/abcd_gist/a_b.ipynb'\n",
    "ur * url"
   ]
  },
  {
   "cell_type": "code",
   "execution_count": 4,
   "metadata": {
    "execution": {
     "iopub.execute_input": "2020-06-25T00:25:12.304479Z",
     "iopub.status.busy": "2020-06-25T00:25:12.302472Z",
     "iopub.status.idle": "2020-06-25T00:25:12.312452Z",
     "shell.execute_reply": "2020-06-25T00:25:12.313434Z"
    },
    "papermill": {
     "duration": 0.027519,
     "end_time": "2020-06-25T00:25:12.313768",
     "exception": false,
     "start_time": "2020-06-25T00:25:12.286249",
     "status": "completed"
    },
    "tags": []
   },
   "outputs": [
    {
     "data": {
      "text/plain": [
       "'aaa'"
      ]
     },
     "execution_count": 4,
     "metadata": {},
     "output_type": "execute_result"
    }
   ],
   "source": [
    "a()"
   ]
  },
  {
   "cell_type": "code",
   "execution_count": 5,
   "metadata": {
    "execution": {
     "iopub.execute_input": "2020-06-25T00:25:12.347378Z",
     "iopub.status.busy": "2020-06-25T00:25:12.346216Z",
     "iopub.status.idle": "2020-06-25T00:25:12.351292Z",
     "shell.execute_reply": "2020-06-25T00:25:12.351894Z"
    },
    "papermill": {
     "duration": 0.0228,
     "end_time": "2020-06-25T00:25:12.352118",
     "exception": false,
     "start_time": "2020-06-25T00:25:12.329318",
     "status": "completed"
    },
    "tags": []
   },
   "outputs": [
    {
     "data": {
      "text/plain": [
       "'bbb'"
      ]
     },
     "execution_count": 5,
     "metadata": {},
     "output_type": "execute_result"
    }
   ],
   "source": [
    "b()"
   ]
  },
  {
   "cell_type": "code",
   "execution_count": 6,
   "metadata": {
    "execution": {
     "iopub.execute_input": "2020-06-25T00:25:12.388001Z",
     "iopub.status.busy": "2020-06-25T00:25:12.386921Z",
     "iopub.status.idle": "2020-06-25T00:25:12.423544Z",
     "shell.execute_reply": "2020-06-25T00:25:12.423008Z"
    },
    "papermill": {
     "duration": 0.055789,
     "end_time": "2020-06-25T00:25:12.423735",
     "exception": false,
     "start_time": "2020-06-25T00:25:12.367946",
     "status": "completed"
    },
    "tags": []
   },
   "outputs": [
    {
     "data": {
      "text/plain": [
       "<module 'URL(id=http://localhost:8000/examples/abcd_gist/c.ipynb)' (.objs/URL/http:/localhost:8000/examples/abcd_gist/c.ipynb/content)>"
      ]
     },
     "execution_count": 6,
     "metadata": {},
     "output_type": "execute_result"
    }
   ],
   "source": [
    "local = ur * 'http://localhost:8000/examples/abcd_gist/c.ipynb'\n",
    "local"
   ]
  },
  {
   "cell_type": "code",
   "execution_count": 7,
   "metadata": {
    "execution": {
     "iopub.execute_input": "2020-06-25T00:25:12.643958Z",
     "iopub.status.busy": "2020-06-25T00:25:12.642928Z",
     "iopub.status.idle": "2020-06-25T00:25:12.651911Z",
     "shell.execute_reply": "2020-06-25T00:25:12.650431Z"
    },
    "papermill": {
     "duration": 0.046003,
     "end_time": "2020-06-25T00:25:12.652249",
     "exception": false,
     "start_time": "2020-06-25T00:25:12.606246",
     "status": "completed"
    },
    "tags": []
   },
   "outputs": [
    {
     "data": {
      "text/plain": [
       "'ccc'"
      ]
     },
     "execution_count": 7,
     "metadata": {},
     "output_type": "execute_result"
    }
   ],
   "source": [
    "local.c()"
   ]
  },
  {
   "cell_type": "code",
   "execution_count": 8,
   "metadata": {
    "execution": {
     "iopub.execute_input": "2020-06-25T00:25:12.729511Z",
     "iopub.status.busy": "2020-06-25T00:25:12.727203Z",
     "iopub.status.idle": "2020-06-25T00:25:12.735456Z",
     "shell.execute_reply": "2020-06-25T00:25:12.734792Z"
    },
    "papermill": {
     "duration": 0.060551,
     "end_time": "2020-06-25T00:25:12.735637",
     "exception": false,
     "start_time": "2020-06-25T00:25:12.675086",
     "status": "completed"
    },
    "tags": []
   },
   "outputs": [
    {
     "data": {
      "text/plain": [
       "'ccc'"
      ]
     },
     "execution_count": 8,
     "metadata": {},
     "output_type": "execute_result"
    }
   ],
   "source": [
    "c()"
   ]
  },
  {
   "cell_type": "code",
   "execution_count": 9,
   "metadata": {
    "execution": {
     "iopub.execute_input": "2020-06-25T00:25:12.792649Z",
     "iopub.status.busy": "2020-06-25T00:25:12.791401Z",
     "iopub.status.idle": "2020-06-25T00:25:13.904234Z",
     "shell.execute_reply": "2020-06-25T00:25:13.903417Z"
    },
    "papermill": {
     "duration": 1.142179,
     "end_time": "2020-06-25T00:25:13.904420",
     "exception": false,
     "start_time": "2020-06-25T00:25:12.762241",
     "status": "completed"
    },
    "tags": []
   },
   "outputs": [
    {
     "data": {
      "text/plain": [
       "<module 'gist._1288bff2f9e05394a94312010da267bb.a_b' (https://gist.github.com/1288bff2f9e05394a94312010da267bb/001cf9c4ee425e50a822524d2a475ef18c6423d8/a_b.ipynb)>"
      ]
     },
     "execution_count": 9,
     "metadata": {},
     "output_type": "execute_result"
    }
   ],
   "source": [
    "from examples.abcd_gist.a_b import *     # ✅\n",
    "from examples.abcd_gist.a_b import a     # ✅\n",
    "from examples.abcd_gist.a_b import a, b  # ✅\n",
    "import examples.abcd_gist.a_b            # ✅\n",
    "\n",
    "import gist._1288bff2f9e05394a94312010da267bb\n",
    "from gist._1288bff2f9e05394a94312010da267bb import *\n",
    "from gist._1288bff2f9e05394a94312010da267bb import a_b\n",
    "from gist._1288bff2f9e05394a94312010da267bb import c\n",
    "from gist._1288bff2f9e05394a94312010da267bb.a_b import *\n",
    "from gist._1288bff2f9e05394a94312010da267bb.a_b import a, b\n",
    "\n",
    "ur * 'https://gist.github.com/1288bff2f9e05394a94312010da267bb'\n",
    "ur * 'https://gist.github.com/ryan-williams/1288bff2f9e05394a94312010da267bb#file-a_b-ipynb'  # ✅"
   ]
  }
 ],
 "metadata": {
  "kernelspec": {
   "display_name": "ur-3.8.2",
   "language": "python",
   "name": "ur-3.8.2"
  },
  "language_info": {
   "codemirror_mode": {
    "name": "ipython",
    "version": 3
   },
   "file_extension": ".py",
   "mimetype": "text/x-python",
   "name": "python",
   "nbconvert_exporter": "python",
   "pygments_lexer": "ipython3",
   "version": "3.8.3"
  },
  "papermill": {
   "duration": 10.095607,
   "end_time": "2020-06-25T00:25:19.002420",
   "environment_variables": {},
   "exception": null,
   "input_path": "url-import-test.ipynb",
   "output_path": "url-import-test.ipynb",
   "parameters": {},
   "start_time": "2020-06-25T00:25:08.906813",
   "version": "2.1.1"
  }
 },
 "nbformat": 4,
 "nbformat_minor": 2
}