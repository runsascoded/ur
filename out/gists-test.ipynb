{
 "cells": [
  {
   "cell_type": "markdown",
   "metadata": {
    "papermill": {
     "duration": 0.015982,
     "end_time": "2020-06-08T04:58:40.596736",
     "exception": false,
     "start_time": "2020-06-08T04:58:40.580754",
     "status": "completed"
    },
    "tags": []
   },
   "source": [
    "Verify some behaviors and properties about [the `Gist` class](./_gist/__init__.py) used in this repo:"
   ]
  },
  {
   "cell_type": "code",
   "execution_count": 1,
   "metadata": {
    "execution": {
     "iopub.execute_input": "2020-06-08T04:58:40.634468Z",
     "iopub.status.busy": "2020-06-08T04:58:40.633127Z",
     "iopub.status.idle": "2020-06-08T04:58:40.917979Z",
     "shell.execute_reply": "2020-06-08T04:58:40.917367Z"
    },
    "papermill": {
     "duration": 0.305028,
     "end_time": "2020-06-08T04:58:40.918067",
     "exception": false,
     "start_time": "2020-06-08T04:58:40.613039",
     "status": "completed"
    },
    "scrolled": false,
    "tags": []
   },
   "outputs": [
    {
     "data": {
      "text/plain": [
       "('https://gist.github.com/1288bff2f9e05394a94312010da267bb',\n",
       " 'https://gist.github.com/1288bff2f9e05394a94312010da267bb.git')"
      ]
     },
     "execution_count": 1,
     "metadata": {},
     "output_type": "execute_result"
    }
   ],
   "source": [
    "from _gist import Gist\n",
    "\n",
    "gist_id = '1288bff2f9e05394a94312010da267bb'\n",
    "g = Gist(gist_id)\n",
    "g.www_url, g.git_url"
   ]
  },
  {
   "cell_type": "code",
   "execution_count": 2,
   "metadata": {
    "execution": {
     "iopub.execute_input": "2020-06-08T04:58:40.953164Z",
     "iopub.status.busy": "2020-06-08T04:58:40.951145Z",
     "iopub.status.idle": "2020-06-08T04:58:41.019312Z",
     "shell.execute_reply": "2020-06-08T04:58:41.018893Z"
    },
    "papermill": {
     "duration": 0.08711,
     "end_time": "2020-06-08T04:58:41.019398",
     "exception": false,
     "start_time": "2020-06-08T04:58:40.932288",
     "status": "completed"
    },
    "tags": []
   },
   "outputs": [
    {
     "data": {
      "text/plain": [
       "{'file-a_b-ipynb': 'a_b.ipynb',\n",
       " 'file-c-ipynb': 'c.ipynb',\n",
       " 'file-conv-import-tests-sh': 'conv-import-tests.sh',\n",
       " 'file-d-py': 'd.py',\n",
       " 'file-nb_abs_nb-ipynb': 'nb_abs_nb.ipynb',\n",
       " 'file-nb_abs_py-ipynb': 'nb_abs_py.ipynb',\n",
       " 'file-py_abs_nb-py': 'py_abs_nb.py',\n",
       " 'file-py_abs_py-py': 'py_abs_py.py',\n",
       " 'file-relative-imports-failure-test-ipynb': 'relative-imports-failure-test.ipynb'}"
      ]
     },
     "execution_count": 2,
     "metadata": {},
     "output_type": "execute_result"
    }
   ],
   "source": [
    "g.commit.fragments"
   ]
  },
  {
   "cell_type": "code",
   "execution_count": 3,
   "metadata": {
    "execution": {
     "iopub.execute_input": "2020-06-08T04:58:41.056025Z",
     "iopub.status.busy": "2020-06-08T04:58:41.054113Z",
     "iopub.status.idle": "2020-06-08T04:58:41.109187Z",
     "shell.execute_reply": "2020-06-08T04:58:41.109645Z"
    },
    "papermill": {
     "duration": 0.075324,
     "end_time": "2020-06-08T04:58:41.109803",
     "exception": false,
     "start_time": "2020-06-08T04:58:41.034479",
     "status": "completed"
    },
    "tags": []
   },
   "outputs": [
    {
     "data": {
      "text/plain": [
       "'{\\n \"cells\": [\\n  {\\n   \"cell_type\": \"code\",\\n   \"execution_count\": 3,\\n   \"metadata\": {},\\n   \"outputs\": [],\\n   \"source\": [\\n    \"def a():\\\\n\",\\n    \"    return \\'aaa\\'\"\\n   ]\\n  },\\n  {\\n   \"cell_type\": \"code\",\\n   \"execution_count\": null,\\n   \"metadata\": {},\\n   \"outputs\": [],\\n   \"source\": [\\n    \"def b():\\\\n\",\\n    \"    return \\'bbb\\'\"\\n   ]\\n  }\\n ],\\n \"metadata\": {\\n  \"kernelspec\": {\\n   \"display_name\": \"ur-3.7.4\",\\n   \"language\": \"python\",\\n   \"name\": \"ur-3.7.4\"\\n  },\\n  \"language_info\": {\\n   \"codemirror_mode\": {\\n    \"name\": \"ipython\",\\n    \"version\": 3\\n   },\\n   \"file_extension\": \".py\",\\n   \"mimetype\": \"text/x-python\",\\n   \"name\": \"python\",\\n   \"nbconvert_exporter\": \"python\",\\n   \"pygments_lexer\": \"ipython3\",\\n   \"version\": \"3.7.4\"\\n  }\\n },\\n \"nbformat\": 4,\\n \"nbformat_minor\": 2\\n}\\n'"
      ]
     },
     "execution_count": 3,
     "metadata": {},
     "output_type": "execute_result"
    }
   ],
   "source": [
    "g.commit.files[0].read_text()"
   ]
  },
  {
   "cell_type": "code",
   "execution_count": 4,
   "metadata": {
    "execution": {
     "iopub.execute_input": "2020-06-08T04:58:41.144514Z",
     "iopub.status.busy": "2020-06-08T04:58:41.143958Z",
     "iopub.status.idle": "2020-06-08T04:58:41.199911Z",
     "shell.execute_reply": "2020-06-08T04:58:41.199391Z"
    },
    "papermill": {
     "duration": 0.07446,
     "end_time": "2020-06-08T04:58:41.200010",
     "exception": false,
     "start_time": "2020-06-08T04:58:41.125550",
     "status": "completed"
    },
    "tags": []
   },
   "outputs": [
    {
     "data": {
      "text/plain": [
       "<Element html at 0x7ff054620500>"
      ]
     },
     "execution_count": 4,
     "metadata": {},
     "output_type": "execute_result"
    }
   ],
   "source": [
    "g.xml"
   ]
  },
  {
   "cell_type": "code",
   "execution_count": 5,
   "metadata": {
    "execution": {
     "iopub.execute_input": "2020-06-08T04:58:41.254435Z",
     "iopub.status.busy": "2020-06-08T04:58:41.252804Z",
     "iopub.status.idle": "2020-06-08T04:58:41.284757Z",
     "shell.execute_reply": "2020-06-08T04:58:41.285147Z"
    },
    "papermill": {
     "duration": 0.057868,
     "end_time": "2020-06-08T04:58:41.285270",
     "exception": false,
     "start_time": "2020-06-08T04:58:41.227402",
     "status": "completed"
    },
    "tags": []
   },
   "outputs": [
    {
     "data": {
      "text/plain": [
       "'ryan.williams@mssm.edu'"
      ]
     },
     "execution_count": 5,
     "metadata": {},
     "output_type": "execute_result"
    }
   ],
   "source": [
    "g.commit.author"
   ]
  },
  {
   "cell_type": "code",
   "execution_count": 6,
   "metadata": {
    "execution": {
     "iopub.execute_input": "2020-06-08T04:58:41.326627Z",
     "iopub.status.busy": "2020-06-08T04:58:41.325786Z",
     "iopub.status.idle": "2020-06-08T04:58:41.335255Z",
     "shell.execute_reply": "2020-06-08T04:58:41.334749Z"
    },
    "papermill": {
     "duration": 0.029419,
     "end_time": "2020-06-08T04:58:41.335336",
     "exception": false,
     "start_time": "2020-06-08T04:58:41.305917",
     "status": "completed"
    },
    "tags": []
   },
   "outputs": [
    {
     "data": {
      "text/plain": [
       "'ryan-williams'"
      ]
     },
     "execution_count": 6,
     "metadata": {},
     "output_type": "execute_result"
    }
   ],
   "source": [
    "g.user"
   ]
  },
  {
   "cell_type": "code",
   "execution_count": 7,
   "metadata": {
    "execution": {
     "iopub.execute_input": "2020-06-08T04:58:41.380913Z",
     "iopub.status.busy": "2020-06-08T04:58:41.379824Z",
     "iopub.status.idle": "2020-06-08T04:58:41.385120Z",
     "shell.execute_reply": "2020-06-08T04:58:41.384502Z"
    },
    "papermill": {
     "duration": 0.0301,
     "end_time": "2020-06-08T04:58:41.385240",
     "exception": false,
     "start_time": "2020-06-08T04:58:41.355140",
     "status": "completed"
    },
    "tags": []
   },
   "outputs": [
    {
     "data": {
      "text/plain": [
       "'https://gist.github.com/1288bff2f9e05394a94312010da267bb.git'"
      ]
     },
     "execution_count": 7,
     "metadata": {},
     "output_type": "execute_result"
    }
   ],
   "source": [
    "g.git_url"
   ]
  },
  {
   "cell_type": "code",
   "execution_count": 8,
   "metadata": {
    "execution": {
     "iopub.execute_input": "2020-06-08T04:58:41.432715Z",
     "iopub.status.busy": "2020-06-08T04:58:41.431358Z",
     "iopub.status.idle": "2020-06-08T04:58:41.592195Z",
     "shell.execute_reply": "2020-06-08T04:58:41.591819Z"
    },
    "papermill": {
     "duration": 0.186546,
     "end_time": "2020-06-08T04:58:41.592270",
     "exception": false,
     "start_time": "2020-06-08T04:58:41.405724",
     "status": "completed"
    },
    "scrolled": false,
    "tags": []
   },
   "outputs": [
    {
     "data": {
      "text/plain": [
       "('aaa', 'bbb', 'ccc')"
      ]
     },
     "execution_count": 8,
     "metadata": {},
     "output_type": "execute_result"
    }
   ],
   "source": [
    "from gist._1288bff2f9e05394a94312010da267bb import *\n",
    "a_b.a(), a_b.b(), c.c()"
   ]
  },
  {
   "cell_type": "code",
   "execution_count": 9,
   "metadata": {
    "execution": {
     "iopub.execute_input": "2020-06-08T04:58:41.631888Z",
     "iopub.status.busy": "2020-06-08T04:58:41.631144Z",
     "iopub.status.idle": "2020-06-08T04:58:41.635105Z",
     "shell.execute_reply": "2020-06-08T04:58:41.634676Z"
    },
    "papermill": {
     "duration": 0.024166,
     "end_time": "2020-06-08T04:58:41.635189",
     "exception": false,
     "start_time": "2020-06-08T04:58:41.611023",
     "status": "completed"
    },
    "tags": []
   },
   "outputs": [],
   "source": [
    "from pathlib import Path"
   ]
  },
  {
   "cell_type": "code",
   "execution_count": 10,
   "metadata": {
    "execution": {
     "iopub.execute_input": "2020-06-08T04:58:41.672414Z",
     "iopub.status.busy": "2020-06-08T04:58:41.671799Z",
     "iopub.status.idle": "2020-06-08T04:58:41.675828Z",
     "shell.execute_reply": "2020-06-08T04:58:41.676395Z"
    },
    "papermill": {
     "duration": 0.025268,
     "end_time": "2020-06-08T04:58:41.676509",
     "exception": false,
     "start_time": "2020-06-08T04:58:41.651241",
     "status": "completed"
    },
    "tags": []
   },
   "outputs": [
    {
     "data": {
      "text/plain": [
       "PosixPath('/ur/.objs/Gist/1288bff2f9e05394a94312010da267bb/clone')"
      ]
     },
     "execution_count": 10,
     "metadata": {},
     "output_type": "execute_result"
    }
   ],
   "source": [
    "Path(g.clone.git_dir).parent"
   ]
  },
  {
   "cell_type": "code",
   "execution_count": 11,
   "metadata": {
    "execution": {
     "iopub.execute_input": "2020-06-08T04:58:41.716892Z",
     "iopub.status.busy": "2020-06-08T04:58:41.716260Z",
     "iopub.status.idle": "2020-06-08T04:58:41.827793Z",
     "shell.execute_reply": "2020-06-08T04:58:41.828168Z"
    },
    "papermill": {
     "duration": 0.133739,
     "end_time": "2020-06-08T04:58:41.828276",
     "exception": false,
     "start_time": "2020-06-08T04:58:41.694537",
     "status": "completed"
    },
    "tags": []
   },
   "outputs": [
    {
     "data": {
      "text/plain": [
       "('aaa', 'bbb')"
      ]
     },
     "execution_count": 11,
     "metadata": {},
     "output_type": "execute_result"
    }
   ],
   "source": [
    "from gists._1288bff2f9e05394a94312010da267bb.a_b import *\n",
    "a(), b()"
   ]
  },
  {
   "cell_type": "code",
   "execution_count": 12,
   "metadata": {
    "execution": {
     "iopub.execute_input": "2020-06-08T04:58:41.871230Z",
     "iopub.status.busy": "2020-06-08T04:58:41.870719Z",
     "iopub.status.idle": "2020-06-08T04:58:41.873432Z",
     "shell.execute_reply": "2020-06-08T04:58:41.873960Z"
    },
    "papermill": {
     "duration": 0.02741,
     "end_time": "2020-06-08T04:58:41.874068",
     "exception": false,
     "start_time": "2020-06-08T04:58:41.846658",
     "status": "completed"
    },
    "tags": []
   },
   "outputs": [
    {
     "data": {
      "text/plain": [
       "(<module 'gists._1288bff2f9e05394a94312010da267bb.a_b' (https://gist.github.com/1288bff2f9e05394a94312010da267bb/001cf9c4ee425e50a822524d2a475ef18c6423d8/a_b.ipynb)>,\n",
       " 'aaa',\n",
       " 'bbb')"
      ]
     },
     "execution_count": 12,
     "metadata": {},
     "output_type": "execute_result"
    }
   ],
   "source": [
    "from gists._1288bff2f9e05394a94312010da267bb import a_b\n",
    "a_b, a_b.a(), a_b.b()"
   ]
  },
  {
   "cell_type": "markdown",
   "metadata": {
    "papermill": {
     "duration": 0.01671,
     "end_time": "2020-06-08T04:58:41.909467",
     "exception": false,
     "start_time": "2020-06-08T04:58:41.892757",
     "status": "completed"
    },
    "tags": []
   },
   "source": [
    "Executes the sibling module `a_b` (from the same Gist \"package\") as well!"
   ]
  },
  {
   "cell_type": "code",
   "execution_count": 13,
   "metadata": {
    "execution": {
     "iopub.execute_input": "2020-06-08T04:58:41.947580Z",
     "iopub.status.busy": "2020-06-08T04:58:41.946948Z",
     "iopub.status.idle": "2020-06-08T04:58:41.949573Z",
     "shell.execute_reply": "2020-06-08T04:58:41.950058Z"
    },
    "papermill": {
     "duration": 0.024157,
     "end_time": "2020-06-08T04:58:41.950155",
     "exception": false,
     "start_time": "2020-06-08T04:58:41.925998",
     "status": "completed"
    },
    "tags": []
   },
   "outputs": [
    {
     "data": {
      "text/plain": [
       "'ccc'"
      ]
     },
     "execution_count": 13,
     "metadata": {},
     "output_type": "execute_result"
    }
   ],
   "source": [
    "from gists._1288bff2f9e05394a94312010da267bb.c import c\n",
    "c()"
   ]
  },
  {
   "cell_type": "code",
   "execution_count": 14,
   "metadata": {
    "execution": {
     "iopub.execute_input": "2020-06-08T04:58:41.994450Z",
     "iopub.status.busy": "2020-06-08T04:58:41.993951Z",
     "iopub.status.idle": "2020-06-08T04:58:41.997809Z",
     "shell.execute_reply": "2020-06-08T04:58:41.998273Z"
    },
    "papermill": {
     "duration": 0.028097,
     "end_time": "2020-06-08T04:58:41.998398",
     "exception": false,
     "start_time": "2020-06-08T04:58:41.970301",
     "status": "completed"
    },
    "tags": []
   },
   "outputs": [
    {
     "data": {
      "text/plain": [
       "'ccc'"
      ]
     },
     "execution_count": 14,
     "metadata": {},
     "output_type": "execute_result"
    }
   ],
   "source": [
    "from gists._1288bff2f9e05394a94312010da267bb.c import c\n",
    "c()"
   ]
  },
  {
   "cell_type": "code",
   "execution_count": 15,
   "metadata": {
    "execution": {
     "iopub.execute_input": "2020-06-08T04:58:42.038936Z",
     "iopub.status.busy": "2020-06-08T04:58:42.038407Z",
     "iopub.status.idle": "2020-06-08T04:58:42.042907Z",
     "shell.execute_reply": "2020-06-08T04:58:42.042323Z"
    },
    "papermill": {
     "duration": 0.026303,
     "end_time": "2020-06-08T04:58:42.043002",
     "exception": false,
     "start_time": "2020-06-08T04:58:42.016699",
     "status": "completed"
    },
    "tags": []
   },
   "outputs": [
    {
     "data": {
      "text/plain": [
       "'ccc'"
      ]
     },
     "execution_count": 15,
     "metadata": {},
     "output_type": "execute_result"
    }
   ],
   "source": [
    "import gists._1288bff2f9e05394a94312010da267bb.c\n",
    "gists._1288bff2f9e05394a94312010da267bb.c.c()"
   ]
  },
  {
   "cell_type": "code",
   "execution_count": 16,
   "metadata": {
    "execution": {
     "iopub.execute_input": "2020-06-08T04:58:42.086330Z",
     "iopub.status.busy": "2020-06-08T04:58:42.085752Z",
     "iopub.status.idle": "2020-06-08T04:58:42.090620Z",
     "shell.execute_reply": "2020-06-08T04:58:42.090169Z"
    },
    "papermill": {
     "duration": 0.027881,
     "end_time": "2020-06-08T04:58:42.090706",
     "exception": false,
     "start_time": "2020-06-08T04:58:42.062825",
     "status": "completed"
    },
    "tags": []
   },
   "outputs": [
    {
     "data": {
      "text/plain": [
       "'aaa'"
      ]
     },
     "execution_count": 16,
     "metadata": {},
     "output_type": "execute_result"
    }
   ],
   "source": [
    "from gists._1288bff2f9e05394a94312010da267bb import a_b as ab\n",
    "ab.a()"
   ]
  }
 ],
 "metadata": {
  "kernelspec": {
   "display_name": "ur-3.7.4",
   "language": "python",
   "name": "ur-3.7.4"
  },
  "language_info": {
   "codemirror_mode": {
    "name": "ipython",
    "version": 3
   },
   "file_extension": ".py",
   "mimetype": "text/x-python",
   "name": "python",
   "nbconvert_exporter": "python",
   "pygments_lexer": "ipython3",
   "version": "3.8.3"
  },
  "papermill": {
   "duration": 2.592954,
   "end_time": "2020-06-08T04:58:42.226003",
   "environment_variables": {},
   "exception": null,
   "input_path": "/ur/gists-test.ipynb",
   "output_path": "/ur/out/gists-test.ipynb",
   "parameters": {},
   "start_time": "2020-06-08T04:58:39.633049",
   "version": "2.1.1"
  }
 },
 "nbformat": 4,
 "nbformat_minor": 2
}