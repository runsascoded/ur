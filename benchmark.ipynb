{
 "cells": [
  {
   "cell_type": "markdown",
   "metadata": {},
   "source": [
    "# Import Benchmarking\n",
    "Execute [the benchmark-import notebook](benchmark-import.ipynb) to time various imports:\n",
    "- `import numpy`: \n",
    "- `import pandas` (slightly more complicated 3rd-party library)\n",
    "- \"Dotfiles\" (notebooks; `from df_nb.imports import *`)\n",
    "  - test importing a bunch of helper imports+functions from [ryan-williams/jupyter-rc](https://github.com/ryan-williams/jupyter-rc)\n",
    "  - requires cloning that repo locally:\n",
    "  ```bash\n",
    "  git clone https://github.com/ryan-williams/jupyter-rc df_nb\n",
    "  ```\n",
    "  - `ur`-mode only; for a baseline comparison to non-`ur`, see \"python files\" version below.\n",
    "- \"Dotfiles\" (python files; `from df_py.imports import *`)\n",
    "  - same as above, but with notebooks converted to Python files, so that importing works with or without `ur`, allowing some comparison of the timings\n",
    "  - requires cloning that repo locally:\n",
    "  ```bash\n",
    "  git clone --single-branch --branch py https://github.com/ryan-williams/jupyter-rc df_py\n",
    "  ```\n"
   ]
  },
  {
   "cell_type": "code",
   "execution_count": 1,
   "metadata": {},
   "outputs": [
    {
     "name": "stdout",
     "output_type": "stream",
     "text": [
      "Executing: benchmark-numpy.ipynb\n"
     ]
    },
    {
     "data": {
      "application/vnd.jupyter.widget-view+json": {
       "model_id": "2f4295052a1942889c6c050841a04377",
       "version_major": 2,
       "version_minor": 0
      },
      "text/plain": [
       "HBox(children=(FloatProgress(value=0.0, description='Executing', max=12.0, style=ProgressStyle(description_wid…"
      ]
     },
     "metadata": {},
     "output_type": "display_data"
    },
    {
     "name": "stdout",
     "output_type": "stream",
     "text": [
      "\n",
      "Executing: benchmark-numpy-ur.ipynb\n"
     ]
    },
    {
     "data": {
      "application/vnd.jupyter.widget-view+json": {
       "model_id": "d77f85ff392e4731b9b1de006828b3b8",
       "version_major": 2,
       "version_minor": 0
      },
      "text/plain": [
       "HBox(children=(FloatProgress(value=0.0, description='Executing', max=12.0, style=ProgressStyle(description_wid…"
      ]
     },
     "metadata": {},
     "output_type": "display_data"
    },
    {
     "name": "stdout",
     "output_type": "stream",
     "text": [
      "\n",
      "Executing: benchmark-pandas.ipynb\n"
     ]
    },
    {
     "data": {
      "application/vnd.jupyter.widget-view+json": {
       "model_id": "44f2158aaa3047fda78dc91ac01bcc7c",
       "version_major": 2,
       "version_minor": 0
      },
      "text/plain": [
       "HBox(children=(FloatProgress(value=0.0, description='Executing', max=12.0, style=ProgressStyle(description_wid…"
      ]
     },
     "metadata": {},
     "output_type": "display_data"
    },
    {
     "name": "stdout",
     "output_type": "stream",
     "text": [
      "\n",
      "Executing: benchmark-pandas-ur.ipynb\n"
     ]
    },
    {
     "data": {
      "application/vnd.jupyter.widget-view+json": {
       "model_id": "b280adc2de8c44c180b0093f2e519c81",
       "version_major": 2,
       "version_minor": 0
      },
      "text/plain": [
       "HBox(children=(FloatProgress(value=0.0, description='Executing', max=12.0, style=ProgressStyle(description_wid…"
      ]
     },
     "metadata": {},
     "output_type": "display_data"
    },
    {
     "name": "stdout",
     "output_type": "stream",
     "text": [
      "\n",
      "Executing: benchmark-dotfiles-nb-ur.ipynb\n"
     ]
    },
    {
     "data": {
      "application/vnd.jupyter.widget-view+json": {
       "model_id": "44abe5a189804b5483778569f0bac76d",
       "version_major": 2,
       "version_minor": 0
      },
      "text/plain": [
       "HBox(children=(FloatProgress(value=0.0, description='Executing', max=12.0, style=ProgressStyle(description_wid…"
      ]
     },
     "metadata": {},
     "output_type": "display_data"
    },
    {
     "name": "stdout",
     "output_type": "stream",
     "text": [
      "\n",
      "Executing: benchmark-dotfiles-py.ipynb\n"
     ]
    },
    {
     "data": {
      "application/vnd.jupyter.widget-view+json": {
       "model_id": "3529decc85564939b57ed46208f52d1e",
       "version_major": 2,
       "version_minor": 0
      },
      "text/plain": [
       "HBox(children=(FloatProgress(value=0.0, description='Executing', max=12.0, style=ProgressStyle(description_wid…"
      ]
     },
     "metadata": {},
     "output_type": "display_data"
    },
    {
     "name": "stdout",
     "output_type": "stream",
     "text": [
      "\n",
      "Executing: benchmark-dotfiles-py-ur.ipynb\n"
     ]
    },
    {
     "data": {
      "application/vnd.jupyter.widget-view+json": {
       "model_id": "d325386f87ce4dd2b47443e12373b423",
       "version_major": 2,
       "version_minor": 0
      },
      "text/plain": [
       "HBox(children=(FloatProgress(value=0.0, description='Executing', max=12.0, style=ProgressStyle(description_wid…"
      ]
     },
     "metadata": {},
     "output_type": "display_data"
    },
    {
     "name": "stdout",
     "output_type": "stream",
     "text": [
      "\n",
      "Executing: benchmark-gh-nb-ur.ipynb\n"
     ]
    },
    {
     "data": {
      "application/vnd.jupyter.widget-view+json": {
       "model_id": "46a724ea178f4715839afe020ee33084",
       "version_major": 2,
       "version_minor": 0
      },
      "text/plain": [
       "HBox(children=(FloatProgress(value=0.0, description='Executing', max=12.0, style=ProgressStyle(description_wid…"
      ]
     },
     "metadata": {},
     "output_type": "display_data"
    },
    {
     "name": "stdout",
     "output_type": "stream",
     "text": [
      "\n"
     ]
    }
   ],
   "source": [
    "from papermill import execute_notebook\n",
    "nb = 'benchmark-import.ipynb'\n",
    "for module in ['numpy','pandas','dotfiles-nb','dotfiles-py','gh-nb']:\n",
    "    for use_ur in [False, True]:\n",
    "        if module.endswith('-nb') and not use_ur: continue\n",
    "        out = f'benchmark-{module}'\n",
    "        if use_ur: out += '-ur'\n",
    "        out += '.ipynb'\n",
    "        print(f'Executing: {out}')\n",
    "        execute_notebook(\n",
    "            nb,\n",
    "            out,\n",
    "            nest_asyncio=True,\n",
    "            parameters=dict(\n",
    "                module=module,\n",
    "                use_ur=use_ur,\n",
    "            ),\n",
    "        )"
   ]
  }
 ],
 "metadata": {
  "kernelspec": {
   "display_name": "3.8.2",
   "language": "python",
   "name": "3.8.2"
  },
  "language_info": {
   "codemirror_mode": {
    "name": "ipython",
    "version": 3
   },
   "file_extension": ".py",
   "mimetype": "text/x-python",
   "name": "python",
   "nbconvert_exporter": "python",
   "pygments_lexer": "ipython3",
   "version": "3.8.2"
  }
 },
 "nbformat": 4,
 "nbformat_minor": 2
}
