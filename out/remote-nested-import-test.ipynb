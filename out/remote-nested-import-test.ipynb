{
 "cells": [
  {
   "cell_type": "markdown",
   "metadata": {
    "papermill": {
     "duration": 0.01943,
     "end_time": "2020-06-08T04:22:24.663398",
     "exception": false,
     "start_time": "2020-06-08T04:22:24.643968",
     "status": "completed"
    },
    "tags": []
   },
   "source": [
    "Import from a notebook that imports adjacent notebooks from the same Gist (local imports in a remote notebook):"
   ]
  },
  {
   "cell_type": "code",
   "execution_count": 1,
   "metadata": {
    "execution": {
     "iopub.execute_input": "2020-06-08T04:22:24.685652Z",
     "iopub.status.busy": "2020-06-08T04:22:24.684272Z",
     "iopub.status.idle": "2020-06-08T04:22:25.109067Z",
     "shell.execute_reply": "2020-06-08T04:22:25.108500Z"
    },
    "papermill": {
     "duration": 0.436273,
     "end_time": "2020-06-08T04:22:25.109182",
     "exception": false,
     "start_time": "2020-06-08T04:22:24.672909",
     "status": "completed"
    },
    "tags": []
   },
   "outputs": [],
   "source": [
    "import ur\n",
    "from gist._1288bff2f9e05394a94312010da267bb import *"
   ]
  },
  {
   "cell_type": "code",
   "execution_count": 2,
   "metadata": {
    "execution": {
     "iopub.execute_input": "2020-06-08T04:22:25.139256Z",
     "iopub.status.busy": "2020-06-08T04:22:25.136433Z",
     "iopub.status.idle": "2020-06-08T04:22:25.143750Z",
     "shell.execute_reply": "2020-06-08T04:22:25.143215Z"
    },
    "papermill": {
     "duration": 0.025287,
     "end_time": "2020-06-08T04:22:25.143833",
     "exception": false,
     "start_time": "2020-06-08T04:22:25.118546",
     "status": "completed"
    },
    "tags": []
   },
   "outputs": [
    {
     "data": {
      "text/plain": [
       "('aaabbb', 'DDD!yay', 'aaabbb', 'DDD!yay')"
      ]
     },
     "execution_count": 2,
     "metadata": {},
     "output_type": "execute_result"
    }
   ],
   "source": [
    "nb_abs_nb.nb_abs_nb(), nb_abs_py.nb_abs_py(), py_abs_nb.py_abs_nb(), py_abs_py.py_abs_py()"
   ]
  },
  {
   "cell_type": "markdown",
   "metadata": {
    "papermill": {
     "duration": 0.006755,
     "end_time": "2020-06-08T04:22:25.158498",
     "exception": false,
     "start_time": "2020-06-08T04:22:25.151743",
     "status": "completed"
    },
    "tags": []
   },
   "source": [
    "Test a wildcard import from a specific module in a Gist:"
   ]
  },
  {
   "cell_type": "code",
   "execution_count": 3,
   "metadata": {
    "execution": {
     "iopub.execute_input": "2020-06-08T04:22:25.177625Z",
     "iopub.status.busy": "2020-06-08T04:22:25.177006Z",
     "iopub.status.idle": "2020-06-08T04:22:25.180112Z",
     "shell.execute_reply": "2020-06-08T04:22:25.179560Z"
    },
    "papermill": {
     "duration": 0.014132,
     "end_time": "2020-06-08T04:22:25.180196",
     "exception": false,
     "start_time": "2020-06-08T04:22:25.166064",
     "status": "completed"
    },
    "scrolled": false,
    "tags": []
   },
   "outputs": [],
   "source": [
    "from gist._1288bff2f9e05394a94312010da267bb.c import *"
   ]
  },
  {
   "cell_type": "code",
   "execution_count": 4,
   "metadata": {
    "execution": {
     "iopub.execute_input": "2020-06-08T04:22:25.199906Z",
     "iopub.status.busy": "2020-06-08T04:22:25.199224Z",
     "iopub.status.idle": "2020-06-08T04:22:25.202855Z",
     "shell.execute_reply": "2020-06-08T04:22:25.202310Z"
    },
    "papermill": {
     "duration": 0.014978,
     "end_time": "2020-06-08T04:22:25.202942",
     "exception": false,
     "start_time": "2020-06-08T04:22:25.187964",
     "status": "completed"
    },
    "tags": []
   },
   "outputs": [
    {
     "data": {
      "text/plain": [
       "'ccc'"
      ]
     },
     "execution_count": 4,
     "metadata": {},
     "output_type": "execute_result"
    }
   ],
   "source": [
    "c()"
   ]
  }
 ],
 "metadata": {
  "kernelspec": {
   "display_name": "3.8.2",
   "language": "python",
   "name": "3.8.2"
  },
  "language_info": {
   "codemirror_mode": {
    "name": "ipython",
    "version": 3
   },
   "file_extension": ".py",
   "mimetype": "text/x-python",
   "name": "python",
   "nbconvert_exporter": "python",
   "pygments_lexer": "ipython3",
   "version": "3.8.3"
  },
  "papermill": {
   "duration": 2.773782,
   "end_time": "2020-06-08T04:22:25.323993",
   "environment_variables": {},
   "exception": null,
   "input_path": "/ur/remote-nested-import-test.ipynb",
   "output_path": "/ur/out/remote-nested-import-test.ipynb",
   "parameters": {},
   "start_time": "2020-06-08T04:22:22.550211",
   "version": "2.1.1"
  }
 },
 "nbformat": 4,
 "nbformat_minor": 2
}