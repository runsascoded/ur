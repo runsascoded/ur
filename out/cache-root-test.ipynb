{
 "cells": [
  {
   "cell_type": "markdown",
   "metadata": {
    "papermill": {
     "duration": 0.017773,
     "end_time": "2020-06-08T02:11:27.149777",
     "exception": false,
     "start_time": "2020-06-08T02:11:27.132004",
     "status": "completed"
    },
    "tags": []
   },
   "source": [
    "Set a non-default `cache_root` (can only be changed before any Gists are imported; subsequent changes will have no effect):"
   ]
  },
  {
   "cell_type": "code",
   "execution_count": 1,
   "metadata": {
    "execution": {
     "iopub.execute_input": "2020-06-08T02:11:27.174974Z",
     "iopub.status.busy": "2020-06-08T02:11:27.173382Z",
     "iopub.status.idle": "2020-06-08T02:11:27.765556Z",
     "shell.execute_reply": "2020-06-08T02:11:27.763761Z"
    },
    "papermill": {
     "duration": 0.60747,
     "end_time": "2020-06-08T02:11:27.765725",
     "exception": false,
     "start_time": "2020-06-08T02:11:27.158255",
     "status": "completed"
    },
    "tags": []
   },
   "outputs": [],
   "source": [
    "import ur\n",
    "ur.cache_root = '.cache'\n",
    "\n",
    "from gist._1288bff2f9e05394a94312010da267bb import *"
   ]
  },
  {
   "cell_type": "code",
   "execution_count": 2,
   "metadata": {
    "execution": {
     "iopub.execute_input": "2020-06-08T02:11:27.809039Z",
     "iopub.status.busy": "2020-06-08T02:11:27.803745Z",
     "iopub.status.idle": "2020-06-08T02:11:27.814827Z",
     "shell.execute_reply": "2020-06-08T02:11:27.814297Z"
    },
    "papermill": {
     "duration": 0.033458,
     "end_time": "2020-06-08T02:11:27.814912",
     "exception": false,
     "start_time": "2020-06-08T02:11:27.781454",
     "status": "completed"
    },
    "scrolled": true,
    "tags": []
   },
   "outputs": [
    {
     "data": {
      "text/plain": [
       "('aaa', 'bbb', 'ccc')"
      ]
     },
     "execution_count": 2,
     "metadata": {},
     "output_type": "execute_result"
    }
   ],
   "source": [
    "a_b.a(), a_b.b(), c.c()"
   ]
  },
  {
   "cell_type": "code",
   "execution_count": 3,
   "metadata": {
    "execution": {
     "iopub.execute_input": "2020-06-08T02:11:27.839265Z",
     "iopub.status.busy": "2020-06-08T02:11:27.837908Z",
     "iopub.status.idle": "2020-06-08T02:11:28.459871Z",
     "shell.execute_reply": "2020-06-08T02:11:28.460462Z"
    },
    "papermill": {
     "duration": 0.636561,
     "end_time": "2020-06-08T02:11:28.460599",
     "exception": false,
     "start_time": "2020-06-08T02:11:27.824038",
     "status": "completed"
    },
    "tags": []
   },
   "outputs": [
    {
     "name": "stdout",
     "output_type": "stream",
     "text": [
      "/bin/sh: 1: tree: not found\r\n"
     ]
    }
   ],
   "source": [
    "!tree .cache"
   ]
  }
 ],
 "metadata": {
  "kernelspec": {
   "display_name": "3.8.2",
   "language": "python",
   "name": "3.8.2"
  },
  "language_info": {
   "codemirror_mode": {
    "name": "ipython",
    "version": 3
   },
   "file_extension": ".py",
   "mimetype": "text/x-python",
   "name": "python",
   "nbconvert_exporter": "python",
   "pygments_lexer": "ipython3",
   "version": "3.8.3"
  },
  "papermill": {
   "duration": 2.539667,
   "end_time": "2020-06-08T02:11:28.583228",
   "environment_variables": {},
   "exception": null,
   "input_path": "/ur/cache-root-test.ipynb",
   "output_path": "/ur/out/cache-root-test.ipynb",
   "parameters": {},
   "start_time": "2020-06-08T02:11:26.043561",
   "version": "2.1.1"
  }
 },
 "nbformat": 4,
 "nbformat_minor": 2
}