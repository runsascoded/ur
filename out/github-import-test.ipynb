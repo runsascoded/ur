{
 "cells": [
  {
   "cell_type": "markdown",
   "metadata": {
    "papermill": {
     "duration": 0.01092,
     "end_time": "2020-06-08T02:11:24.730301",
     "exception": false,
     "start_time": "2020-06-08T02:11:24.719381",
     "status": "completed"
    },
    "tags": []
   },
   "source": [
    "Wildcard-import a module from a GitHub repo:"
   ]
  },
  {
   "cell_type": "code",
   "execution_count": 1,
   "metadata": {
    "execution": {
     "iopub.execute_input": "2020-06-08T02:11:24.753566Z",
     "iopub.status.busy": "2020-06-08T02:11:24.752758Z",
     "iopub.status.idle": "2020-06-08T02:11:25.777928Z",
     "shell.execute_reply": "2020-06-08T02:11:25.778395Z"
    },
    "papermill": {
     "duration": 1.038328,
     "end_time": "2020-06-08T02:11:25.778526",
     "exception": false,
     "start_time": "2020-06-08T02:11:24.740198",
     "status": "completed"
    },
    "scrolled": false,
    "tags": []
   },
   "outputs": [],
   "source": [
    "import ur\n",
    "from github.ryan_williams.jupyter_rc.context import *"
   ]
  },
  {
   "cell_type": "markdown",
   "metadata": {
    "papermill": {
     "duration": 0.008344,
     "end_time": "2020-06-08T02:11:25.796592",
     "exception": false,
     "start_time": "2020-06-08T02:11:25.788248",
     "status": "completed"
    },
    "tags": []
   },
   "source": [
    "The `catch` function is now in scope:"
   ]
  },
  {
   "cell_type": "code",
   "execution_count": 2,
   "metadata": {
    "execution": {
     "iopub.execute_input": "2020-06-08T02:11:25.820221Z",
     "iopub.status.busy": "2020-06-08T02:11:25.819292Z",
     "iopub.status.idle": "2020-06-08T02:11:25.823619Z",
     "shell.execute_reply": "2020-06-08T02:11:25.823166Z"
    },
    "papermill": {
     "duration": 0.015851,
     "end_time": "2020-06-08T02:11:25.823704",
     "exception": false,
     "start_time": "2020-06-08T02:11:25.807853",
     "status": "completed"
    },
    "tags": []
   },
   "outputs": [],
   "source": [
    "with catch(ValueError): raise ValueError"
   ]
  },
  {
   "cell_type": "markdown",
   "metadata": {
    "papermill": {
     "duration": 0.00654,
     "end_time": "2020-06-08T02:11:25.838182",
     "exception": false,
     "start_time": "2020-06-08T02:11:25.831642",
     "status": "completed"
    },
    "tags": []
   },
   "source": [
    "Direct-import a class from another module:"
   ]
  },
  {
   "cell_type": "code",
   "execution_count": 3,
   "metadata": {
    "execution": {
     "iopub.execute_input": "2020-06-08T02:11:25.860515Z",
     "iopub.status.busy": "2020-06-08T02:11:25.859948Z",
     "iopub.status.idle": "2020-06-08T02:11:25.866560Z",
     "shell.execute_reply": "2020-06-08T02:11:25.866005Z"
    },
    "papermill": {
     "duration": 0.021118,
     "end_time": "2020-06-08T02:11:25.866640",
     "exception": false,
     "start_time": "2020-06-08T02:11:25.845522",
     "status": "completed"
    },
    "tags": []
   },
   "outputs": [
    {
     "data": {
      "text/plain": [
       "{'a': 1, 'b': 2}"
      ]
     },
     "execution_count": 3,
     "metadata": {},
     "output_type": "execute_result"
    }
   ],
   "source": [
    "from github.ryan_williams.jupyter_rc.o import o\n",
    "o(a=1,b=2)"
   ]
  }
 ],
 "metadata": {
  "kernelspec": {
   "display_name": "ur-3.8.2",
   "language": "python",
   "name": "ur-3.8.2"
  },
  "language_info": {
   "codemirror_mode": {
    "name": "ipython",
    "version": 3
   },
   "file_extension": ".py",
   "mimetype": "text/x-python",
   "name": "python",
   "nbconvert_exporter": "python",
   "pygments_lexer": "ipython3",
   "version": "3.8.3"
  },
  "papermill": {
   "duration": 2.148626,
   "end_time": "2020-06-08T02:11:25.989879",
   "environment_variables": {},
   "exception": null,
   "input_path": "/ur/github-import-test.ipynb",
   "output_path": "/ur/out/github-import-test.ipynb",
   "parameters": {},
   "start_time": "2020-06-08T02:11:23.841253",
   "version": "2.1.1"
  }
 },
 "nbformat": 4,
 "nbformat_minor": 2
}