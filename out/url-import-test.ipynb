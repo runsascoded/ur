{
 "cells": [
  {
   "cell_type": "markdown",
   "metadata": {
    "papermill": {
     "duration": 0.013894,
     "end_time": "2020-06-08T04:59:00.979444",
     "exception": false,
     "start_time": "2020-06-08T04:59:00.965550",
     "status": "completed"
    },
    "tags": []
   },
   "source": [
    "Test importing from URLs:\n",
    "- spin up an HTTP server serving local files\n",
    "- import a notebook by URL\n",
    "\n",
    "`papermill` params:"
   ]
  },
  {
   "cell_type": "code",
   "execution_count": 1,
   "metadata": {
    "execution": {
     "iopub.execute_input": "2020-06-08T04:59:01.006542Z",
     "iopub.status.busy": "2020-06-08T04:59:01.005948Z",
     "iopub.status.idle": "2020-06-08T04:59:01.010095Z",
     "shell.execute_reply": "2020-06-08T04:59:01.010683Z"
    },
    "papermill": {
     "duration": 0.01959,
     "end_time": "2020-06-08T04:59:01.010835",
     "exception": false,
     "start_time": "2020-06-08T04:59:00.991245",
     "status": "completed"
    },
    "tags": [
     "parameters"
    ]
   },
   "outputs": [],
   "source": [
    "# Configs for web server that we'll run, and load notebooks from:\n",
    "host = 'localhost'\n",
    "port = 8000"
   ]
  },
  {
   "cell_type": "markdown",
   "metadata": {
    "papermill": {
     "duration": 0.010675,
     "end_time": "2020-06-08T04:59:01.032418",
     "exception": false,
     "start_time": "2020-06-08T04:59:01.021743",
     "status": "completed"
    },
    "tags": []
   },
   "source": [
    "Serve the current directory over an HTTP server:"
   ]
  },
  {
   "cell_type": "code",
   "execution_count": 2,
   "metadata": {
    "execution": {
     "iopub.execute_input": "2020-06-08T04:59:01.059357Z",
     "iopub.status.busy": "2020-06-08T04:59:01.058807Z",
     "iopub.status.idle": "2020-06-08T04:59:02.070087Z",
     "shell.execute_reply": "2020-06-08T04:59:02.069285Z"
    },
    "papermill": {
     "duration": 1.02713,
     "end_time": "2020-06-08T04:59:02.070198",
     "exception": false,
     "start_time": "2020-06-08T04:59:01.043068",
     "status": "completed"
    },
    "tags": []
   },
   "outputs": [
    {
     "name": "stdout",
     "output_type": "stream",
     "text": [
      "serving at localhost:8000\n"
     ]
    }
   ],
   "source": [
    "def http_server():\n",
    "    from http.server import SimpleHTTPRequestHandler as Handler \n",
    "    from socketserver import TCPServer\n",
    "\n",
    "    with TCPServer((host, port), Handler) as httpd:\n",
    "        print(f\"serving at {host}:{port}\")\n",
    "        httpd.serve_forever()\n",
    "    \n",
    "from threading import Thread\n",
    "thread = Thread(target=http_server)\n",
    "thread.start()\n",
    "from time import sleep\n",
    "sleep(1)"
   ]
  },
  {
   "cell_type": "markdown",
   "metadata": {
    "papermill": {
     "duration": 0.014907,
     "end_time": "2020-06-08T04:59:02.101938",
     "exception": false,
     "start_time": "2020-06-08T04:59:02.087031",
     "status": "completed"
    },
    "tags": []
   },
   "source": [
    "## Import a remote notebook as a Python module:"
   ]
  },
  {
   "cell_type": "code",
   "execution_count": 3,
   "metadata": {
    "execution": {
     "iopub.execute_input": "2020-06-08T04:59:02.130321Z",
     "iopub.status.busy": "2020-06-08T04:59:02.128731Z",
     "iopub.status.idle": "2020-06-08T04:59:02.553871Z",
     "shell.execute_reply": "2020-06-08T04:59:02.554212Z"
    },
    "papermill": {
     "duration": 0.440647,
     "end_time": "2020-06-08T04:59:02.554450",
     "exception": false,
     "start_time": "2020-06-08T04:59:02.113803",
     "status": "completed"
    },
    "scrolled": false,
    "tags": []
   },
   "outputs": [
    {
     "data": {
      "text/plain": [
       "<module 'URL(id=http://localhost:8000/examples/abcd_gist/a_b.ipynb)' (.objs/URL/http:/localhost:8000/examples/abcd_gist/a_b.ipynb/content)>"
      ]
     },
     "execution_count": 3,
     "metadata": {},
     "output_type": "execute_result"
    }
   ],
   "source": [
    "import ur\n",
    "url = 'http://localhost:8000/examples/abcd_gist/a_b.ipynb'\n",
    "ur * url"
   ]
  },
  {
   "cell_type": "code",
   "execution_count": 4,
   "metadata": {
    "execution": {
     "iopub.execute_input": "2020-06-08T04:59:02.586688Z",
     "iopub.status.busy": "2020-06-08T04:59:02.586056Z",
     "iopub.status.idle": "2020-06-08T04:59:02.590338Z",
     "shell.execute_reply": "2020-06-08T04:59:02.589787Z"
    },
    "papermill": {
     "duration": 0.022169,
     "end_time": "2020-06-08T04:59:02.590423",
     "exception": false,
     "start_time": "2020-06-08T04:59:02.568254",
     "status": "completed"
    },
    "tags": []
   },
   "outputs": [
    {
     "data": {
      "text/plain": [
       "'aaa'"
      ]
     },
     "execution_count": 4,
     "metadata": {},
     "output_type": "execute_result"
    }
   ],
   "source": [
    "a()"
   ]
  },
  {
   "cell_type": "code",
   "execution_count": 5,
   "metadata": {
    "execution": {
     "iopub.execute_input": "2020-06-08T04:59:02.618866Z",
     "iopub.status.busy": "2020-06-08T04:59:02.618329Z",
     "iopub.status.idle": "2020-06-08T04:59:02.622605Z",
     "shell.execute_reply": "2020-06-08T04:59:02.622041Z"
    },
    "papermill": {
     "duration": 0.020811,
     "end_time": "2020-06-08T04:59:02.622690",
     "exception": false,
     "start_time": "2020-06-08T04:59:02.601879",
     "status": "completed"
    },
    "tags": []
   },
   "outputs": [
    {
     "data": {
      "text/plain": [
       "'bbb'"
      ]
     },
     "execution_count": 5,
     "metadata": {},
     "output_type": "execute_result"
    }
   ],
   "source": [
    "b()"
   ]
  },
  {
   "cell_type": "code",
   "execution_count": 6,
   "metadata": {
    "execution": {
     "iopub.execute_input": "2020-06-08T04:59:02.652633Z",
     "iopub.status.busy": "2020-06-08T04:59:02.651114Z",
     "iopub.status.idle": "2020-06-08T04:59:02.677864Z",
     "shell.execute_reply": "2020-06-08T04:59:02.677277Z"
    },
    "papermill": {
     "duration": 0.041868,
     "end_time": "2020-06-08T04:59:02.677949",
     "exception": false,
     "start_time": "2020-06-08T04:59:02.636081",
     "status": "completed"
    },
    "tags": []
   },
   "outputs": [
    {
     "data": {
      "text/plain": [
       "<module 'URL(id=http://localhost:8000/examples/abcd_gist/c.ipynb)' (.objs/URL/http:/localhost:8000/examples/abcd_gist/c.ipynb/content)>"
      ]
     },
     "execution_count": 6,
     "metadata": {},
     "output_type": "execute_result"
    }
   ],
   "source": [
    "local = ur * 'http://localhost:8000/examples/abcd_gist/c.ipynb'\n",
    "local"
   ]
  },
  {
   "cell_type": "code",
   "execution_count": 7,
   "metadata": {
    "execution": {
     "iopub.execute_input": "2020-06-08T04:59:02.710194Z",
     "iopub.status.busy": "2020-06-08T04:59:02.709582Z",
     "iopub.status.idle": "2020-06-08T04:59:02.713903Z",
     "shell.execute_reply": "2020-06-08T04:59:02.713261Z"
    },
    "papermill": {
     "duration": 0.021916,
     "end_time": "2020-06-08T04:59:02.714002",
     "exception": false,
     "start_time": "2020-06-08T04:59:02.692086",
     "status": "completed"
    },
    "tags": []
   },
   "outputs": [
    {
     "data": {
      "text/plain": [
       "'ccc'"
      ]
     },
     "execution_count": 7,
     "metadata": {},
     "output_type": "execute_result"
    }
   ],
   "source": [
    "local.c()"
   ]
  },
  {
   "cell_type": "code",
   "execution_count": 8,
   "metadata": {
    "execution": {
     "iopub.execute_input": "2020-06-08T04:59:02.744471Z",
     "iopub.status.busy": "2020-06-08T04:59:02.743864Z",
     "iopub.status.idle": "2020-06-08T04:59:02.748604Z",
     "shell.execute_reply": "2020-06-08T04:59:02.748042Z"
    },
    "papermill": {
     "duration": 0.021291,
     "end_time": "2020-06-08T04:59:02.748685",
     "exception": false,
     "start_time": "2020-06-08T04:59:02.727394",
     "status": "completed"
    },
    "tags": []
   },
   "outputs": [
    {
     "data": {
      "text/plain": [
       "'ccc'"
      ]
     },
     "execution_count": 8,
     "metadata": {},
     "output_type": "execute_result"
    }
   ],
   "source": [
    "c()"
   ]
  },
  {
   "cell_type": "code",
   "execution_count": 9,
   "metadata": {
    "execution": {
     "iopub.execute_input": "2020-06-08T04:59:02.780647Z",
     "iopub.status.busy": "2020-06-08T04:59:02.780053Z",
     "iopub.status.idle": "2020-06-08T04:59:03.200707Z",
     "shell.execute_reply": "2020-06-08T04:59:03.201096Z"
    },
    "papermill": {
     "duration": 0.439383,
     "end_time": "2020-06-08T04:59:03.201209",
     "exception": false,
     "start_time": "2020-06-08T04:59:02.761826",
     "status": "completed"
    },
    "tags": []
   },
   "outputs": [
    {
     "data": {
      "text/plain": [
       "<module 'gist._1288bff2f9e05394a94312010da267bb.a_b' (https://gist.github.com/1288bff2f9e05394a94312010da267bb/001cf9c4ee425e50a822524d2a475ef18c6423d8/a_b.ipynb)>"
      ]
     },
     "execution_count": 9,
     "metadata": {},
     "output_type": "execute_result"
    }
   ],
   "source": [
    "from examples.abcd_gist.a_b import *     # ✅\n",
    "from examples.abcd_gist.a_b import a     # ✅\n",
    "from examples.abcd_gist.a_b import a, b  # ✅\n",
    "import examples.abcd_gist.a_b            # ✅\n",
    "\n",
    "import gist._1288bff2f9e05394a94312010da267bb\n",
    "from gist._1288bff2f9e05394a94312010da267bb import *\n",
    "from gist._1288bff2f9e05394a94312010da267bb import a_b\n",
    "from gist._1288bff2f9e05394a94312010da267bb import c\n",
    "from gist._1288bff2f9e05394a94312010da267bb.a_b import *\n",
    "from gist._1288bff2f9e05394a94312010da267bb.a_b import a, b\n",
    "\n",
    "ur * 'https://gist.github.com/1288bff2f9e05394a94312010da267bb'\n",
    "ur * 'https://gist.github.com/ryan-williams/1288bff2f9e05394a94312010da267bb#file-a_b-ipynb'  # ✅"
   ]
  }
 ],
 "metadata": {
  "kernelspec": {
   "display_name": "ur-3.8.2",
   "language": "python",
   "name": "ur-3.8.2"
  },
  "language_info": {
   "codemirror_mode": {
    "name": "ipython",
    "version": 3
   },
   "file_extension": ".py",
   "mimetype": "text/x-python",
   "name": "python",
   "nbconvert_exporter": "python",
   "pygments_lexer": "ipython3",
   "version": "3.8.3"
  },
  "papermill": {
   "duration": 3.2302,
   "end_time": "2020-06-08T04:59:03.329136",
   "environment_variables": {},
   "exception": null,
   "input_path": "/ur/url-import-test.ipynb",
   "output_path": "/ur/out/url-import-test.ipynb",
   "parameters": {},
   "start_time": "2020-06-08T04:59:00.098936",
   "version": "2.1.1"
  }
 },
 "nbformat": 4,
 "nbformat_minor": 2
}