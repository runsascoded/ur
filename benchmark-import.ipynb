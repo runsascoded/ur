{
 "cells": [
  {
   "cell_type": "markdown",
   "metadata": {},
   "source": [
    "Papermill params:"
   ]
  },
  {
   "cell_type": "code",
   "execution_count": null,
   "metadata": {
    "tags": [
     "parameters"
    ]
   },
   "outputs": [],
   "source": [
    "module = None\n",
    "use_ur = False\n",
    "only_defs = False"
   ]
  },
  {
   "cell_type": "code",
   "execution_count": null,
   "metadata": {},
   "outputs": [],
   "source": [
    "import sys"
   ]
  },
  {
   "cell_type": "markdown",
   "metadata": {},
   "source": [
    "Snapshot `sys.modules` before we've done anything:"
   ]
  },
  {
   "cell_type": "code",
   "execution_count": null,
   "metadata": {},
   "outputs": [],
   "source": [
    "before = sys.modules.copy()\n",
    "len(before)"
   ]
  },
  {
   "cell_type": "markdown",
   "metadata": {},
   "source": [
    "When timing `ur` (or unrelated imports in the presence of `ur`), import it here (it prepends an entry to `sys.meta_path`):"
   ]
  },
  {
   "cell_type": "code",
   "execution_count": null,
   "metadata": {},
   "outputs": [],
   "source": [
    "%%time\n",
    "if use_ur:\n",
    "    import ur\n",
    "    ur.only_defs = only_defs"
   ]
  },
  {
   "cell_type": "code",
   "execution_count": null,
   "metadata": {
    "scrolled": false
   },
   "outputs": [],
   "source": [
    "%%time\n",
    "if module == 'numpy':\n",
    "    import numpy\n",
    "elif module == 'pandas':\n",
    "    import pandas\n",
    "elif module == 'dotfiles-nb':\n",
    "    from df_nb.imports import *\n",
    "elif module == 'dotfiles-py':\n",
    "    from df_py.imports import *\n",
    "elif module == 'gh-nb':\n",
    "    from github.ryan_williams.jupyter_rc.imports import *\n",
    "else:\n",
    "    raise ValueError('')"
   ]
  },
  {
   "cell_type": "code",
   "execution_count": null,
   "metadata": {},
   "outputs": [],
   "source": [
    "if use_ur:\n",
    "    name = f'{module}-ur'\n",
    "else:\n",
    "    import ur\n",
    "    name = module"
   ]
  },
  {
   "cell_type": "code",
   "execution_count": null,
   "metadata": {},
   "outputs": [],
   "source": [
    "after = sys.modules.copy()\n",
    "len(after)"
   ]
  },
  {
   "cell_type": "code",
   "execution_count": null,
   "metadata": {},
   "outputs": [],
   "source": [
    "with open(f'{name}-final','w') as f:\n",
    "    [ f.write(f'{m}\\n') for m in sorted(after.keys()) ]"
   ]
  }
 ],
 "metadata": {
  "kernelspec": {
   "display_name": "3.8.2",
   "language": "python",
   "name": "3.8.2"
  },
  "language_info": {
   "codemirror_mode": {
    "name": "ipython",
    "version": 3
   },
   "file_extension": ".py",
   "mimetype": "text/x-python",
   "name": "python",
   "nbconvert_exporter": "python",
   "pygments_lexer": "ipython3",
   "version": "3.8.2"
  }
 },
 "nbformat": 4,
 "nbformat_minor": 2
}
