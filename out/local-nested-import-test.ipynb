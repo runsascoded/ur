{
 "cells": [
  {
   "cell_type": "markdown",
   "metadata": {
    "papermill": {
     "duration": 0.013561,
     "end_time": "2020-06-08T04:58:43.168236",
     "exception": false,
     "start_time": "2020-06-08T04:58:43.154675",
     "status": "completed"
    },
    "tags": []
   },
   "source": [
    "Test importing functions from local {`.py`,`.ipynb`} modules that in turn import from other local {`.py`,`.ipynb`} modules:"
   ]
  },
  {
   "cell_type": "code",
   "execution_count": 1,
   "metadata": {
    "execution": {
     "iopub.execute_input": "2020-06-08T04:58:43.197494Z",
     "iopub.status.busy": "2020-06-08T04:58:43.196793Z",
     "iopub.status.idle": "2020-06-08T04:58:43.414809Z",
     "shell.execute_reply": "2020-06-08T04:58:43.414278Z"
    },
    "papermill": {
     "duration": 0.233277,
     "end_time": "2020-06-08T04:58:43.414893",
     "exception": false,
     "start_time": "2020-06-08T04:58:43.181616",
     "status": "completed"
    },
    "tags": []
   },
   "outputs": [],
   "source": [
    "import ur"
   ]
  },
  {
   "cell_type": "markdown",
   "metadata": {
    "papermill": {
     "duration": 0.00979,
     "end_time": "2020-06-08T04:58:43.436577",
     "exception": false,
     "start_time": "2020-06-08T04:58:43.426787",
     "status": "completed"
    },
    "tags": []
   },
   "source": [
    "Import from a notebook that in turn imports from another, adjacent notebook:"
   ]
  },
  {
   "cell_type": "code",
   "execution_count": 2,
   "metadata": {
    "execution": {
     "iopub.execute_input": "2020-06-08T04:58:43.457469Z",
     "iopub.status.busy": "2020-06-08T04:58:43.456924Z",
     "iopub.status.idle": "2020-06-08T04:58:43.554204Z",
     "shell.execute_reply": "2020-06-08T04:58:43.554893Z"
    },
    "papermill": {
     "duration": 0.109447,
     "end_time": "2020-06-08T04:58:43.554997",
     "exception": false,
     "start_time": "2020-06-08T04:58:43.445550",
     "status": "completed"
    },
    "scrolled": true,
    "tags": []
   },
   "outputs": [
    {
     "data": {
      "text/plain": [
       "'aaabbb'"
      ]
     },
     "execution_count": 2,
     "metadata": {},
     "output_type": "execute_result"
    }
   ],
   "source": [
    "from examples.abcd_gist.nb_abs_nb import nb_abs_nb\n",
    "nb_abs_nb()"
   ]
  },
  {
   "cell_type": "markdown",
   "metadata": {
    "papermill": {
     "duration": 0.009791,
     "end_time": "2020-06-08T04:58:43.577118",
     "exception": false,
     "start_time": "2020-06-08T04:58:43.567327",
     "status": "completed"
    },
    "tags": []
   },
   "source": [
    "Import from a notebook that in turn imports from an adjacent Python file:"
   ]
  },
  {
   "cell_type": "code",
   "execution_count": 3,
   "metadata": {
    "execution": {
     "iopub.execute_input": "2020-06-08T04:58:43.598847Z",
     "iopub.status.busy": "2020-06-08T04:58:43.598342Z",
     "iopub.status.idle": "2020-06-08T04:58:43.602894Z",
     "shell.execute_reply": "2020-06-08T04:58:43.602444Z"
    },
    "papermill": {
     "duration": 0.017137,
     "end_time": "2020-06-08T04:58:43.602978",
     "exception": false,
     "start_time": "2020-06-08T04:58:43.585841",
     "status": "completed"
    },
    "scrolled": true,
    "tags": []
   },
   "outputs": [
    {
     "data": {
      "text/plain": [
       "'DDD!yay'"
      ]
     },
     "execution_count": 3,
     "metadata": {},
     "output_type": "execute_result"
    }
   ],
   "source": [
    "from examples.abcd_gist.nb_abs_py import nb_abs_py\n",
    "nb_abs_py()"
   ]
  },
  {
   "cell_type": "markdown",
   "metadata": {
    "papermill": {
     "duration": 0.008595,
     "end_time": "2020-06-08T04:58:43.621082",
     "exception": false,
     "start_time": "2020-06-08T04:58:43.612487",
     "status": "completed"
    },
    "tags": []
   },
   "source": [
    "Import from a Python file that in turn imports an adjacent notebook:"
   ]
  },
  {
   "cell_type": "code",
   "execution_count": 4,
   "metadata": {
    "execution": {
     "iopub.execute_input": "2020-06-08T04:58:43.642945Z",
     "iopub.status.busy": "2020-06-08T04:58:43.642242Z",
     "iopub.status.idle": "2020-06-08T04:58:43.646737Z",
     "shell.execute_reply": "2020-06-08T04:58:43.646279Z"
    },
    "papermill": {
     "duration": 0.016571,
     "end_time": "2020-06-08T04:58:43.646822",
     "exception": false,
     "start_time": "2020-06-08T04:58:43.630251",
     "status": "completed"
    },
    "scrolled": true,
    "tags": []
   },
   "outputs": [
    {
     "data": {
      "text/plain": [
       "'aaabbb'"
      ]
     },
     "execution_count": 4,
     "metadata": {},
     "output_type": "execute_result"
    }
   ],
   "source": [
    "from examples.abcd_gist.py_abs_nb import py_abs_nb\n",
    "py_abs_nb()"
   ]
  },
  {
   "cell_type": "markdown",
   "metadata": {
    "papermill": {
     "duration": 0.008975,
     "end_time": "2020-06-08T04:58:43.665673",
     "exception": false,
     "start_time": "2020-06-08T04:58:43.656698",
     "status": "completed"
    },
    "tags": []
   },
   "source": [
    "Import from a Python file that in turn imports from another, adjacent Python file:"
   ]
  },
  {
   "cell_type": "code",
   "execution_count": 5,
   "metadata": {
    "execution": {
     "iopub.execute_input": "2020-06-08T04:58:43.692496Z",
     "iopub.status.busy": "2020-06-08T04:58:43.691949Z",
     "iopub.status.idle": "2020-06-08T04:58:43.696049Z",
     "shell.execute_reply": "2020-06-08T04:58:43.696528Z"
    },
    "papermill": {
     "duration": 0.020338,
     "end_time": "2020-06-08T04:58:43.696678",
     "exception": false,
     "start_time": "2020-06-08T04:58:43.676340",
     "status": "completed"
    },
    "scrolled": true,
    "tags": []
   },
   "outputs": [
    {
     "data": {
      "text/plain": [
       "'DDD!yay'"
      ]
     },
     "execution_count": 5,
     "metadata": {},
     "output_type": "execute_result"
    }
   ],
   "source": [
    "from examples.abcd_gist.py_abs_py import py_abs_py\n",
    "py_abs_py()"
   ]
  }
 ],
 "metadata": {
  "kernelspec": {
   "display_name": "3.8.2",
   "language": "python",
   "name": "3.8.2"
  },
  "language_info": {
   "codemirror_mode": {
    "name": "ipython",
    "version": 3
   },
   "file_extension": ".py",
   "mimetype": "text/x-python",
   "name": "python",
   "nbconvert_exporter": "python",
   "pygments_lexer": "ipython3",
   "version": "3.8.3"
  },
  "papermill": {
   "duration": 1.517641,
   "end_time": "2020-06-08T04:58:43.819854",
   "environment_variables": {},
   "exception": null,
   "input_path": "/ur/local-nested-import-test.ipynb",
   "output_path": "/ur/out/local-nested-import-test.ipynb",
   "parameters": {},
   "start_time": "2020-06-08T04:58:42.302213",
   "version": "2.1.1"
  }
 },
 "nbformat": 4,
 "nbformat_minor": 2
}