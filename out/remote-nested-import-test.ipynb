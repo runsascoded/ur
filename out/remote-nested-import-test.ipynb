{
 "cells": [
  {
   "cell_type": "markdown",
   "metadata": {
    "papermill": {
     "duration": 0.018989,
     "end_time": "2020-06-08T02:11:20.827501",
     "exception": false,
     "start_time": "2020-06-08T02:11:20.808512",
     "status": "completed"
    },
    "tags": []
   },
   "source": [
    "Import from a notebook that imports adjacent notebooks from the same Gist (local imports in a remote notebook):"
   ]
  },
  {
   "cell_type": "code",
   "execution_count": 1,
   "metadata": {
    "execution": {
     "iopub.execute_input": "2020-06-08T02:11:20.848741Z",
     "iopub.status.busy": "2020-06-08T02:11:20.847768Z",
     "iopub.status.idle": "2020-06-08T02:11:21.340181Z",
     "shell.execute_reply": "2020-06-08T02:11:21.340590Z"
    },
    "papermill": {
     "duration": 0.503831,
     "end_time": "2020-06-08T02:11:21.340721",
     "exception": false,
     "start_time": "2020-06-08T02:11:20.836890",
     "status": "completed"
    },
    "tags": []
   },
   "outputs": [],
   "source": [
    "import ur\n",
    "from gist._1288bff2f9e05394a94312010da267bb import *"
   ]
  },
  {
   "cell_type": "code",
   "execution_count": 2,
   "metadata": {
    "execution": {
     "iopub.execute_input": "2020-06-08T02:11:21.366644Z",
     "iopub.status.busy": "2020-06-08T02:11:21.365477Z",
     "iopub.status.idle": "2020-06-08T02:11:21.375755Z",
     "shell.execute_reply": "2020-06-08T02:11:21.375242Z"
    },
    "papermill": {
     "duration": 0.026223,
     "end_time": "2020-06-08T02:11:21.375836",
     "exception": false,
     "start_time": "2020-06-08T02:11:21.349613",
     "status": "completed"
    },
    "tags": []
   },
   "outputs": [
    {
     "data": {
      "text/plain": [
       "('aaabbb', 'DDD!yay', 'aaabbb', 'DDD!yay')"
      ]
     },
     "execution_count": 2,
     "metadata": {},
     "output_type": "execute_result"
    }
   ],
   "source": [
    "nb_abs_nb.nb_abs_nb(), nb_abs_py.nb_abs_py(), py_abs_nb.py_abs_nb(), py_abs_py.py_abs_py()"
   ]
  },
  {
   "cell_type": "markdown",
   "metadata": {
    "papermill": {
     "duration": 0.006705,
     "end_time": "2020-06-08T02:11:21.390853",
     "exception": false,
     "start_time": "2020-06-08T02:11:21.384148",
     "status": "completed"
    },
    "tags": []
   },
   "source": [
    "Test a wildcard import from a specific module in a Gist:"
   ]
  },
  {
   "cell_type": "code",
   "execution_count": 3,
   "metadata": {
    "execution": {
     "iopub.execute_input": "2020-06-08T02:11:21.411341Z",
     "iopub.status.busy": "2020-06-08T02:11:21.410729Z",
     "iopub.status.idle": "2020-06-08T02:11:21.414920Z",
     "shell.execute_reply": "2020-06-08T02:11:21.415360Z"
    },
    "papermill": {
     "duration": 0.016715,
     "end_time": "2020-06-08T02:11:21.415475",
     "exception": false,
     "start_time": "2020-06-08T02:11:21.398760",
     "status": "completed"
    },
    "scrolled": false,
    "tags": []
   },
   "outputs": [],
   "source": [
    "from gist._1288bff2f9e05394a94312010da267bb.c import *"
   ]
  },
  {
   "cell_type": "code",
   "execution_count": 4,
   "metadata": {
    "execution": {
     "iopub.execute_input": "2020-06-08T02:11:21.435480Z",
     "iopub.status.busy": "2020-06-08T02:11:21.434756Z",
     "iopub.status.idle": "2020-06-08T02:11:21.439953Z",
     "shell.execute_reply": "2020-06-08T02:11:21.439436Z"
    },
    "papermill": {
     "duration": 0.01636,
     "end_time": "2020-06-08T02:11:21.440086",
     "exception": false,
     "start_time": "2020-06-08T02:11:21.423726",
     "status": "completed"
    },
    "tags": []
   },
   "outputs": [
    {
     "data": {
      "text/plain": [
       "'ccc'"
      ]
     },
     "execution_count": 4,
     "metadata": {},
     "output_type": "execute_result"
    }
   ],
   "source": [
    "c()"
   ]
  }
 ],
 "metadata": {
  "kernelspec": {
   "display_name": "3.8.2",
   "language": "python",
   "name": "3.8.2"
  },
  "language_info": {
   "codemirror_mode": {
    "name": "ipython",
    "version": 3
   },
   "file_extension": ".py",
   "mimetype": "text/x-python",
   "name": "python",
   "nbconvert_exporter": "python",
   "pygments_lexer": "ipython3",
   "version": "3.8.3"
  },
  "papermill": {
   "duration": 1.697982,
   "end_time": "2020-06-08T02:11:21.572629",
   "environment_variables": {},
   "exception": null,
   "input_path": "/ur/remote-nested-import-test.ipynb",
   "output_path": "/ur/out/remote-nested-import-test.ipynb",
   "parameters": {},
   "start_time": "2020-06-08T02:11:19.874647",
   "version": "2.1.1"
  }
 },
 "nbformat": 4,
 "nbformat_minor": 2
}