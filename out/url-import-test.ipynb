{
 "cells": [
  {
   "cell_type": "markdown",
   "metadata": {
    "papermill": {
     "duration": 0.018505,
     "end_time": "2020-06-08T02:11:29.708056",
     "exception": false,
     "start_time": "2020-06-08T02:11:29.689551",
     "status": "completed"
    },
    "tags": []
   },
   "source": [
    "Test importing from URLs:\n",
    "- spin up an HTTP server serving local files\n",
    "- import a notebook by URL\n",
    "\n",
    "`papermill` params:"
   ]
  },
  {
   "cell_type": "code",
   "execution_count": 1,
   "metadata": {
    "execution": {
     "iopub.execute_input": "2020-06-08T02:11:29.742587Z",
     "iopub.status.busy": "2020-06-08T02:11:29.742043Z",
     "iopub.status.idle": "2020-06-08T02:11:29.745839Z",
     "shell.execute_reply": "2020-06-08T02:11:29.745368Z"
    },
    "papermill": {
     "duration": 0.021622,
     "end_time": "2020-06-08T02:11:29.746019",
     "exception": false,
     "start_time": "2020-06-08T02:11:29.724397",
     "status": "completed"
    },
    "tags": [
     "parameters"
    ]
   },
   "outputs": [],
   "source": [
    "# Configs for web server that we'll run, and load notebooks from:\n",
    "host = 'localhost'\n",
    "port = 8000"
   ]
  },
  {
   "cell_type": "markdown",
   "metadata": {
    "papermill": {
     "duration": 0.013069,
     "end_time": "2020-06-08T02:11:29.772966",
     "exception": false,
     "start_time": "2020-06-08T02:11:29.759897",
     "status": "completed"
    },
    "tags": []
   },
   "source": [
    "Serve the current directory over an HTTP server:"
   ]
  },
  {
   "cell_type": "code",
   "execution_count": 2,
   "metadata": {
    "execution": {
     "iopub.execute_input": "2020-06-08T02:11:29.805895Z",
     "iopub.status.busy": "2020-06-08T02:11:29.805319Z",
     "iopub.status.idle": "2020-06-08T02:11:30.813344Z",
     "shell.execute_reply": "2020-06-08T02:11:30.812549Z"
    },
    "papermill": {
     "duration": 1.027059,
     "end_time": "2020-06-08T02:11:30.813457",
     "exception": false,
     "start_time": "2020-06-08T02:11:29.786398",
     "status": "completed"
    },
    "tags": []
   },
   "outputs": [
    {
     "name": "stdout",
     "output_type": "stream",
     "text": [
      "serving at localhost:8000\n"
     ]
    }
   ],
   "source": [
    "def http_server():\n",
    "    from http.server import SimpleHTTPRequestHandler as Handler \n",
    "    from socketserver import TCPServer\n",
    "\n",
    "    with TCPServer((host, port), Handler) as httpd:\n",
    "        print(f\"serving at {host}:{port}\")\n",
    "        httpd.serve_forever()\n",
    "    \n",
    "from threading import Thread\n",
    "thread = Thread(target=http_server)\n",
    "thread.start()\n",
    "from time import sleep\n",
    "sleep(1)"
   ]
  },
  {
   "cell_type": "markdown",
   "metadata": {
    "papermill": {
     "duration": 0.01576,
     "end_time": "2020-06-08T02:11:30.848212",
     "exception": false,
     "start_time": "2020-06-08T02:11:30.832452",
     "status": "completed"
    },
    "tags": []
   },
   "source": [
    "## Import a remote notebook as a Python module:"
   ]
  },
  {
   "cell_type": "code",
   "execution_count": 3,
   "metadata": {
    "execution": {
     "iopub.execute_input": "2020-06-08T02:11:30.879574Z",
     "iopub.status.busy": "2020-06-08T02:11:30.878632Z",
     "iopub.status.idle": "2020-06-08T02:11:31.297440Z",
     "shell.execute_reply": "2020-06-08T02:11:31.297849Z"
    },
    "papermill": {
     "duration": 0.436906,
     "end_time": "2020-06-08T02:11:31.297966",
     "exception": false,
     "start_time": "2020-06-08T02:11:30.861060",
     "status": "completed"
    },
    "scrolled": false,
    "tags": []
   },
   "outputs": [
    {
     "data": {
      "text/plain": [
       "<module 'URL(id=http://localhost:8000/a_b.ipynb)' (.objs/URL/http:/localhost:8000/a_b.ipynb/content)>"
      ]
     },
     "execution_count": 3,
     "metadata": {},
     "output_type": "execute_result"
    }
   ],
   "source": [
    "import ur\n",
    "url = 'http://localhost:8000/a_b.ipynb'\n",
    "ur * url"
   ]
  },
  {
   "cell_type": "code",
   "execution_count": 4,
   "metadata": {
    "execution": {
     "iopub.execute_input": "2020-06-08T02:11:31.350508Z",
     "iopub.status.busy": "2020-06-08T02:11:31.349800Z",
     "iopub.status.idle": "2020-06-08T02:11:31.355769Z",
     "shell.execute_reply": "2020-06-08T02:11:31.355183Z"
    },
    "papermill": {
     "duration": 0.040634,
     "end_time": "2020-06-08T02:11:31.355858",
     "exception": false,
     "start_time": "2020-06-08T02:11:31.315224",
     "status": "completed"
    },
    "tags": []
   },
   "outputs": [
    {
     "data": {
      "text/plain": [
       "'aaa'"
      ]
     },
     "execution_count": 4,
     "metadata": {},
     "output_type": "execute_result"
    }
   ],
   "source": [
    "a()"
   ]
  },
  {
   "cell_type": "code",
   "execution_count": 5,
   "metadata": {
    "execution": {
     "iopub.execute_input": "2020-06-08T02:11:31.394659Z",
     "iopub.status.busy": "2020-06-08T02:11:31.394151Z",
     "iopub.status.idle": "2020-06-08T02:11:31.398638Z",
     "shell.execute_reply": "2020-06-08T02:11:31.398118Z"
    },
    "papermill": {
     "duration": 0.023948,
     "end_time": "2020-06-08T02:11:31.398721",
     "exception": false,
     "start_time": "2020-06-08T02:11:31.374773",
     "status": "completed"
    },
    "tags": []
   },
   "outputs": [
    {
     "data": {
      "text/plain": [
       "'bbb'"
      ]
     },
     "execution_count": 5,
     "metadata": {},
     "output_type": "execute_result"
    }
   ],
   "source": [
    "b()"
   ]
  },
  {
   "cell_type": "code",
   "execution_count": 6,
   "metadata": {
    "execution": {
     "iopub.execute_input": "2020-06-08T02:11:31.436325Z",
     "iopub.status.busy": "2020-06-08T02:11:31.435733Z",
     "iopub.status.idle": "2020-06-08T02:11:31.450798Z",
     "shell.execute_reply": "2020-06-08T02:11:31.450338Z"
    },
    "papermill": {
     "duration": 0.036196,
     "end_time": "2020-06-08T02:11:31.450894",
     "exception": false,
     "start_time": "2020-06-08T02:11:31.414698",
     "status": "completed"
    },
    "tags": []
   },
   "outputs": [],
   "source": [
    "import c"
   ]
  },
  {
   "cell_type": "code",
   "execution_count": 7,
   "metadata": {
    "execution": {
     "iopub.execute_input": "2020-06-08T02:11:31.488515Z",
     "iopub.status.busy": "2020-06-08T02:11:31.488019Z",
     "iopub.status.idle": "2020-06-08T02:11:31.492512Z",
     "shell.execute_reply": "2020-06-08T02:11:31.493043Z"
    },
    "papermill": {
     "duration": 0.024777,
     "end_time": "2020-06-08T02:11:31.493158",
     "exception": false,
     "start_time": "2020-06-08T02:11:31.468381",
     "status": "completed"
    },
    "tags": []
   },
   "outputs": [
    {
     "data": {
      "text/plain": [
       "'ccc'"
      ]
     },
     "execution_count": 7,
     "metadata": {},
     "output_type": "execute_result"
    }
   ],
   "source": [
    "c.c()"
   ]
  },
  {
   "cell_type": "code",
   "execution_count": 8,
   "metadata": {
    "execution": {
     "iopub.execute_input": "2020-06-08T02:11:31.529504Z",
     "iopub.status.busy": "2020-06-08T02:11:31.528998Z",
     "iopub.status.idle": "2020-06-08T02:11:31.532195Z",
     "shell.execute_reply": "2020-06-08T02:11:31.531622Z"
    },
    "papermill": {
     "duration": 0.023856,
     "end_time": "2020-06-08T02:11:31.532279",
     "exception": false,
     "start_time": "2020-06-08T02:11:31.508423",
     "status": "completed"
    },
    "tags": []
   },
   "outputs": [],
   "source": [
    "from c import c"
   ]
  },
  {
   "cell_type": "code",
   "execution_count": 9,
   "metadata": {
    "execution": {
     "iopub.execute_input": "2020-06-08T02:11:31.571091Z",
     "iopub.status.busy": "2020-06-08T02:11:31.570538Z",
     "iopub.status.idle": "2020-06-08T02:11:31.574710Z",
     "shell.execute_reply": "2020-06-08T02:11:31.574274Z"
    },
    "papermill": {
     "duration": 0.02437,
     "end_time": "2020-06-08T02:11:31.574833",
     "exception": false,
     "start_time": "2020-06-08T02:11:31.550463",
     "status": "completed"
    },
    "tags": []
   },
   "outputs": [
    {
     "data": {
      "text/plain": [
       "'ccc'"
      ]
     },
     "execution_count": 9,
     "metadata": {},
     "output_type": "execute_result"
    }
   ],
   "source": [
    "c()"
   ]
  },
  {
   "cell_type": "code",
   "execution_count": 10,
   "metadata": {
    "execution": {
     "iopub.execute_input": "2020-06-08T02:11:31.613935Z",
     "iopub.status.busy": "2020-06-08T02:11:31.613191Z",
     "iopub.status.idle": "2020-06-08T02:11:31.639270Z",
     "shell.execute_reply": "2020-06-08T02:11:31.638697Z"
    },
    "papermill": {
     "duration": 0.046732,
     "end_time": "2020-06-08T02:11:31.639354",
     "exception": false,
     "start_time": "2020-06-08T02:11:31.592622",
     "status": "completed"
    },
    "tags": []
   },
   "outputs": [
    {
     "data": {
      "text/plain": [
       "<module 'URL(id=http://localhost:8000/c.ipynb)' (.objs/URL/http:/localhost:8000/c.ipynb/content)>"
      ]
     },
     "execution_count": 10,
     "metadata": {},
     "output_type": "execute_result"
    }
   ],
   "source": [
    "local = ur * 'http://localhost:8000/c.ipynb'\n",
    "local"
   ]
  },
  {
   "cell_type": "code",
   "execution_count": 11,
   "metadata": {
    "execution": {
     "iopub.execute_input": "2020-06-08T02:11:31.677009Z",
     "iopub.status.busy": "2020-06-08T02:11:31.676466Z",
     "iopub.status.idle": "2020-06-08T02:11:31.680661Z",
     "shell.execute_reply": "2020-06-08T02:11:31.681100Z"
    },
    "papermill": {
     "duration": 0.024357,
     "end_time": "2020-06-08T02:11:31.681216",
     "exception": false,
     "start_time": "2020-06-08T02:11:31.656859",
     "status": "completed"
    },
    "tags": []
   },
   "outputs": [
    {
     "data": {
      "text/plain": [
       "'ccc'"
      ]
     },
     "execution_count": 11,
     "metadata": {},
     "output_type": "execute_result"
    }
   ],
   "source": [
    "local.c()"
   ]
  },
  {
   "cell_type": "code",
   "execution_count": 12,
   "metadata": {
    "execution": {
     "iopub.execute_input": "2020-06-08T02:11:31.717375Z",
     "iopub.status.busy": "2020-06-08T02:11:31.716830Z",
     "iopub.status.idle": "2020-06-08T02:11:31.721491Z",
     "shell.execute_reply": "2020-06-08T02:11:31.720968Z"
    },
    "papermill": {
     "duration": 0.024541,
     "end_time": "2020-06-08T02:11:31.721574",
     "exception": false,
     "start_time": "2020-06-08T02:11:31.697033",
     "status": "completed"
    },
    "tags": []
   },
   "outputs": [
    {
     "data": {
      "text/plain": [
       "'ccc'"
      ]
     },
     "execution_count": 12,
     "metadata": {},
     "output_type": "execute_result"
    }
   ],
   "source": [
    "c()"
   ]
  },
  {
   "cell_type": "code",
   "execution_count": 13,
   "metadata": {
    "execution": {
     "iopub.execute_input": "2020-06-08T02:11:31.759376Z",
     "iopub.status.busy": "2020-06-08T02:11:31.758740Z",
     "iopub.status.idle": "2020-06-08T02:11:32.180188Z",
     "shell.execute_reply": "2020-06-08T02:11:32.180852Z"
    },
    "papermill": {
     "duration": 0.442887,
     "end_time": "2020-06-08T02:11:32.180979",
     "exception": false,
     "start_time": "2020-06-08T02:11:31.738092",
     "status": "completed"
    },
    "tags": []
   },
   "outputs": [
    {
     "data": {
      "text/plain": [
       "<module 'gist._1288bff2f9e05394a94312010da267bb.a_b' (https://gist.github.com/1288bff2f9e05394a94312010da267bb/001cf9c4ee425e50a822524d2a475ef18c6423d8/a_b.ipynb)>"
      ]
     },
     "execution_count": 13,
     "metadata": {},
     "output_type": "execute_result"
    }
   ],
   "source": [
    "from a_b import *     # ✅\n",
    "from a_b import a     # ✅\n",
    "from a_b import a, b  # ✅\n",
    "import a_b            # ✅\n",
    "\n",
    "import gist._1288bff2f9e05394a94312010da267bb\n",
    "from gist._1288bff2f9e05394a94312010da267bb import *\n",
    "from gist._1288bff2f9e05394a94312010da267bb import a_b\n",
    "from gist._1288bff2f9e05394a94312010da267bb import c\n",
    "from gist._1288bff2f9e05394a94312010da267bb.a_b import *\n",
    "from gist._1288bff2f9e05394a94312010da267bb.a_b import a, b\n",
    "\n",
    "ur * 'https://gist.github.com/1288bff2f9e05394a94312010da267bb'\n",
    "ur * 'https://gist.github.com/ryan-williams/1288bff2f9e05394a94312010da267bb#file-a_b-ipynb'  # ✅"
   ]
  }
 ],
 "metadata": {
  "kernelspec": {
   "display_name": "ur-3.8.2",
   "language": "python",
   "name": "ur-3.8.2"
  },
  "language_info": {
   "codemirror_mode": {
    "name": "ipython",
    "version": 3
   },
   "file_extension": ".py",
   "mimetype": "text/x-python",
   "name": "python",
   "nbconvert_exporter": "python",
   "pygments_lexer": "ipython3",
   "version": "3.8.3"
  },
  "papermill": {
   "duration": 3.600802,
   "end_time": "2020-06-08T02:11:32.318631",
   "environment_variables": {},
   "exception": null,
   "input_path": "/ur/url-import-test.ipynb",
   "output_path": "/ur/out/url-import-test.ipynb",
   "parameters": {},
   "start_time": "2020-06-08T02:11:28.717829",
   "version": "2.1.1"
  }
 },
 "nbformat": 4,
 "nbformat_minor": 2
}