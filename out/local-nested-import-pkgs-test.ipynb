{
 "cells": [
  {
   "cell_type": "markdown",
   "metadata": {
    "papermill": {
     "duration": 0.012088,
     "end_time": "2020-06-08T02:11:19.148056",
     "exception": false,
     "start_time": "2020-06-08T02:11:19.135968",
     "status": "completed"
    },
    "tags": []
   },
   "source": [
    "Test importing local {`.py`,`.ipynb`} modules that in turn import from other local {`.py`,`.ipynb`} modules:"
   ]
  },
  {
   "cell_type": "code",
   "execution_count": 1,
   "metadata": {
    "execution": {
     "iopub.execute_input": "2020-06-08T02:11:19.174275Z",
     "iopub.status.busy": "2020-06-08T02:11:19.172545Z",
     "iopub.status.idle": "2020-06-08T02:11:19.392109Z",
     "shell.execute_reply": "2020-06-08T02:11:19.392520Z"
    },
    "papermill": {
     "duration": 0.234104,
     "end_time": "2020-06-08T02:11:19.392652",
     "exception": false,
     "start_time": "2020-06-08T02:11:19.158548",
     "status": "completed"
    },
    "tags": []
   },
   "outputs": [],
   "source": [
    "import ur"
   ]
  },
  {
   "cell_type": "markdown",
   "metadata": {
    "papermill": {
     "duration": 0.008874,
     "end_time": "2020-06-08T02:11:19.412020",
     "exception": false,
     "start_time": "2020-06-08T02:11:19.403146",
     "status": "completed"
    },
    "tags": []
   },
   "source": [
    "Import from a notebook that in turn imports from another, adjacent notebook:"
   ]
  },
  {
   "cell_type": "code",
   "execution_count": 2,
   "metadata": {
    "execution": {
     "iopub.execute_input": "2020-06-08T02:11:19.437758Z",
     "iopub.status.busy": "2020-06-08T02:11:19.436425Z",
     "iopub.status.idle": "2020-06-08T02:11:19.540686Z",
     "shell.execute_reply": "2020-06-08T02:11:19.540252Z"
    },
    "papermill": {
     "duration": 0.11942,
     "end_time": "2020-06-08T02:11:19.540770",
     "exception": false,
     "start_time": "2020-06-08T02:11:19.421350",
     "status": "completed"
    },
    "scrolled": true,
    "tags": []
   },
   "outputs": [
    {
     "data": {
      "text/plain": [
       "'aaabbb'"
      ]
     },
     "execution_count": 2,
     "metadata": {},
     "output_type": "execute_result"
    }
   ],
   "source": [
    "from examples.abcd_gist import nb_abs_nb\n",
    "nb_abs_nb.nb_abs_nb()"
   ]
  },
  {
   "cell_type": "markdown",
   "metadata": {
    "papermill": {
     "duration": 0.010436,
     "end_time": "2020-06-08T02:11:19.564922",
     "exception": false,
     "start_time": "2020-06-08T02:11:19.554486",
     "status": "completed"
    },
    "tags": []
   },
   "source": [
    "Import from a notebook that in turn imports from an adjacent Python file:"
   ]
  },
  {
   "cell_type": "code",
   "execution_count": 3,
   "metadata": {
    "execution": {
     "iopub.execute_input": "2020-06-08T02:11:19.589098Z",
     "iopub.status.busy": "2020-06-08T02:11:19.588173Z",
     "iopub.status.idle": "2020-06-08T02:11:19.592144Z",
     "shell.execute_reply": "2020-06-08T02:11:19.591665Z"
    },
    "papermill": {
     "duration": 0.018083,
     "end_time": "2020-06-08T02:11:19.592230",
     "exception": false,
     "start_time": "2020-06-08T02:11:19.574147",
     "status": "completed"
    },
    "scrolled": true,
    "tags": []
   },
   "outputs": [
    {
     "data": {
      "text/plain": [
       "'DDD!yay'"
      ]
     },
     "execution_count": 3,
     "metadata": {},
     "output_type": "execute_result"
    }
   ],
   "source": [
    "from examples.abcd_gist import nb_abs_py\n",
    "nb_abs_py.nb_abs_py()"
   ]
  },
  {
   "cell_type": "markdown",
   "metadata": {
    "papermill": {
     "duration": 0.008877,
     "end_time": "2020-06-08T02:11:19.611107",
     "exception": false,
     "start_time": "2020-06-08T02:11:19.602230",
     "status": "completed"
    },
    "tags": []
   },
   "source": [
    "Import from a Python file that in turn imports an adjacent notebook:"
   ]
  },
  {
   "cell_type": "code",
   "execution_count": 4,
   "metadata": {
    "execution": {
     "iopub.execute_input": "2020-06-08T02:11:19.638192Z",
     "iopub.status.busy": "2020-06-08T02:11:19.637315Z",
     "iopub.status.idle": "2020-06-08T02:11:19.641113Z",
     "shell.execute_reply": "2020-06-08T02:11:19.641590Z"
    },
    "papermill": {
     "duration": 0.020283,
     "end_time": "2020-06-08T02:11:19.641695",
     "exception": false,
     "start_time": "2020-06-08T02:11:19.621412",
     "status": "completed"
    },
    "scrolled": true,
    "tags": []
   },
   "outputs": [
    {
     "data": {
      "text/plain": [
       "'aaabbb'"
      ]
     },
     "execution_count": 4,
     "metadata": {},
     "output_type": "execute_result"
    }
   ],
   "source": [
    "from examples.abcd_gist import py_abs_nb\n",
    "py_abs_nb.py_abs_nb()"
   ]
  },
  {
   "cell_type": "markdown",
   "metadata": {
    "papermill": {
     "duration": 0.011062,
     "end_time": "2020-06-08T02:11:19.664830",
     "exception": false,
     "start_time": "2020-06-08T02:11:19.653768",
     "status": "completed"
    },
    "tags": []
   },
   "source": [
    "Import from a Python file that in turn imports from another, adjacent Python file:"
   ]
  },
  {
   "cell_type": "code",
   "execution_count": 5,
   "metadata": {
    "execution": {
     "iopub.execute_input": "2020-06-08T02:11:19.690093Z",
     "iopub.status.busy": "2020-06-08T02:11:19.689045Z",
     "iopub.status.idle": "2020-06-08T02:11:19.693421Z",
     "shell.execute_reply": "2020-06-08T02:11:19.692864Z"
    },
    "papermill": {
     "duration": 0.018615,
     "end_time": "2020-06-08T02:11:19.693503",
     "exception": false,
     "start_time": "2020-06-08T02:11:19.674888",
     "status": "completed"
    },
    "scrolled": true,
    "tags": []
   },
   "outputs": [
    {
     "data": {
      "text/plain": [
       "'DDD!yay'"
      ]
     },
     "execution_count": 5,
     "metadata": {},
     "output_type": "execute_result"
    }
   ],
   "source": [
    "from examples.abcd_gist import py_abs_py\n",
    "py_abs_py.py_abs_py()"
   ]
  }
 ],
 "metadata": {
  "kernelspec": {
   "display_name": "3.8.2",
   "language": "python",
   "name": "3.8.2"
  },
  "language_info": {
   "codemirror_mode": {
    "name": "ipython",
    "version": 3
   },
   "file_extension": ".py",
   "mimetype": "text/x-python",
   "name": "python",
   "nbconvert_exporter": "python",
   "pygments_lexer": "ipython3",
   "version": "3.8.3"
  },
  "papermill": {
   "duration": 1.593287,
   "end_time": "2020-06-08T02:11:19.815715",
   "environment_variables": {},
   "exception": null,
   "input_path": "/ur/local-nested-import-pkgs-test.ipynb",
   "output_path": "/ur/out/local-nested-import-pkgs-test.ipynb",
   "parameters": {},
   "start_time": "2020-06-08T02:11:18.222428",
   "version": "2.1.1"
  }
 },
 "nbformat": 4,
 "nbformat_minor": 2
}