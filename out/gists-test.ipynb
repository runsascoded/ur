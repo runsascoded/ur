{
 "cells": [
  {
   "cell_type": "markdown",
   "metadata": {
    "papermill": {
     "duration": 0.01948,
     "end_time": "2020-05-30T18:38:03.590750",
     "exception": false,
     "start_time": "2020-05-30T18:38:03.571270",
     "status": "completed"
    },
    "tags": []
   },
   "source": [
    "Verify some behaviors and properties about [the `Gist` class](./_gist/__init__.py) used in this repo:"
   ]
  },
  {
   "cell_type": "code",
   "execution_count": 1,
   "metadata": {
    "execution": {
     "iopub.execute_input": "2020-05-30T18:38:03.627691Z",
     "iopub.status.busy": "2020-05-30T18:38:03.626484Z",
     "iopub.status.idle": "2020-05-30T18:38:03.823830Z",
     "shell.execute_reply": "2020-05-30T18:38:03.824281Z"
    },
    "papermill": {
     "duration": 0.21724,
     "end_time": "2020-05-30T18:38:03.824435",
     "exception": false,
     "start_time": "2020-05-30T18:38:03.607195",
     "status": "completed"
    },
    "scrolled": false,
    "tags": []
   },
   "outputs": [
    {
     "data": {
      "text/plain": [
       "('https://gist.github.com/1288bff2f9e05394a94312010da267bb',\n",
       " 'https://gist.github.com/1288bff2f9e05394a94312010da267bb')"
      ]
     },
     "execution_count": 1,
     "metadata": {},
     "output_type": "execute_result"
    }
   ],
   "source": [
    "from _gist import Gist\n",
    "\n",
    "gist_id = '1288bff2f9e05394a94312010da267bb'\n",
    "g = Gist(gist_id)\n",
    "g.url, g.git_url"
   ]
  },
  {
   "cell_type": "code",
   "execution_count": 2,
   "metadata": {
    "execution": {
     "iopub.execute_input": "2020-05-30T18:38:03.865041Z",
     "iopub.status.busy": "2020-05-30T18:38:03.863816Z",
     "iopub.status.idle": "2020-05-30T18:38:04.608492Z",
     "shell.execute_reply": "2020-05-30T18:38:04.607261Z"
    },
    "papermill": {
     "duration": 0.766279,
     "end_time": "2020-05-30T18:38:04.608622",
     "exception": false,
     "start_time": "2020-05-30T18:38:03.842343",
     "status": "completed"
    },
    "tags": []
   },
   "outputs": [
    {
     "data": {
      "text/plain": [
       "{'file-a_b-ipynb': 'a_b.ipynb',\n",
       " 'file-c-ipynb': 'c.ipynb',\n",
       " 'file-d-py': 'd.py',\n",
       " 'file-nb_import_nb-ipynb': 'nb_import_nb.ipynb',\n",
       " 'file-nb_import_py-ipynb': 'nb_import_py.ipynb',\n",
       " 'file-py_import_nb-py': 'py_import_nb.py',\n",
       " 'file-py_import_py-py': 'py_import_py.py'}"
      ]
     },
     "execution_count": 2,
     "metadata": {},
     "output_type": "execute_result"
    }
   ],
   "source": [
    "g.commit.fragments"
   ]
  },
  {
   "cell_type": "code",
   "execution_count": 3,
   "metadata": {
    "execution": {
     "iopub.execute_input": "2020-05-30T18:38:04.648259Z",
     "iopub.status.busy": "2020-05-30T18:38:04.647273Z",
     "iopub.status.idle": "2020-05-30T18:38:04.700044Z",
     "shell.execute_reply": "2020-05-30T18:38:04.700595Z"
    },
    "papermill": {
     "duration": 0.075012,
     "end_time": "2020-05-30T18:38:04.700703",
     "exception": false,
     "start_time": "2020-05-30T18:38:04.625691",
     "status": "completed"
    },
    "tags": []
   },
   "outputs": [
    {
     "data": {
      "text/plain": [
       "'{\\n \"cells\": [\\n  {\\n   \"cell_type\": \"code\",\\n   \"execution_count\": 3,\\n   \"metadata\": {},\\n   \"outputs\": [],\\n   \"source\": [\\n    \"def a():\\\\n\",\\n    \"    return \\'aaa\\'\"\\n   ]\\n  },\\n  {\\n   \"cell_type\": \"code\",\\n   \"execution_count\": null,\\n   \"metadata\": {},\\n   \"outputs\": [],\\n   \"source\": [\\n    \"def b():\\\\n\",\\n    \"    return \\'bbb\\'\"\\n   ]\\n  }\\n ],\\n \"metadata\": {\\n  \"kernelspec\": {\\n   \"display_name\": \"ur-3.7.4\",\\n   \"language\": \"python\",\\n   \"name\": \"ur-3.7.4\"\\n  },\\n  \"language_info\": {\\n   \"codemirror_mode\": {\\n    \"name\": \"ipython\",\\n    \"version\": 3\\n   },\\n   \"file_extension\": \".py\",\\n   \"mimetype\": \"text/x-python\",\\n   \"name\": \"python\",\\n   \"nbconvert_exporter\": \"python\",\\n   \"pygments_lexer\": \"ipython3\",\\n   \"version\": \"3.7.4\"\\n  }\\n },\\n \"nbformat\": 4,\\n \"nbformat_minor\": 2\\n}\\n'"
      ]
     },
     "execution_count": 3,
     "metadata": {},
     "output_type": "execute_result"
    }
   ],
   "source": [
    "g.commit.files[0].read_text()"
   ]
  },
  {
   "cell_type": "code",
   "execution_count": 4,
   "metadata": {
    "execution": {
     "iopub.execute_input": "2020-05-30T18:38:04.738186Z",
     "iopub.status.busy": "2020-05-30T18:38:04.737306Z",
     "iopub.status.idle": "2020-05-30T18:38:04.759942Z",
     "shell.execute_reply": "2020-05-30T18:38:04.759427Z"
    },
    "papermill": {
     "duration": 0.043403,
     "end_time": "2020-05-30T18:38:04.760021",
     "exception": false,
     "start_time": "2020-05-30T18:38:04.716618",
     "status": "completed"
    },
    "tags": []
   },
   "outputs": [
    {
     "data": {
      "text/plain": [
       "<Element html at 0x7fd641637d40>"
      ]
     },
     "execution_count": 4,
     "metadata": {},
     "output_type": "execute_result"
    }
   ],
   "source": [
    "g.xml"
   ]
  },
  {
   "cell_type": "code",
   "execution_count": 5,
   "metadata": {
    "execution": {
     "iopub.execute_input": "2020-05-30T18:38:04.800198Z",
     "iopub.status.busy": "2020-05-30T18:38:04.799593Z",
     "iopub.status.idle": "2020-05-30T18:38:04.813793Z",
     "shell.execute_reply": "2020-05-30T18:38:04.814225Z"
    },
    "papermill": {
     "duration": 0.036774,
     "end_time": "2020-05-30T18:38:04.814338",
     "exception": false,
     "start_time": "2020-05-30T18:38:04.777564",
     "status": "completed"
    },
    "tags": []
   },
   "outputs": [
    {
     "data": {
      "text/plain": [
       "'ryan.williams@mssm.edu'"
      ]
     },
     "execution_count": 5,
     "metadata": {},
     "output_type": "execute_result"
    }
   ],
   "source": [
    "g.commit.author"
   ]
  },
  {
   "cell_type": "code",
   "execution_count": 6,
   "metadata": {
    "execution": {
     "iopub.execute_input": "2020-05-30T18:38:04.851939Z",
     "iopub.status.busy": "2020-05-30T18:38:04.851427Z",
     "iopub.status.idle": "2020-05-30T18:38:04.861844Z",
     "shell.execute_reply": "2020-05-30T18:38:04.862414Z"
    },
    "papermill": {
     "duration": 0.031106,
     "end_time": "2020-05-30T18:38:04.862527",
     "exception": false,
     "start_time": "2020-05-30T18:38:04.831421",
     "status": "completed"
    },
    "tags": []
   },
   "outputs": [
    {
     "data": {
      "text/plain": [
       "'ryan-williams'"
      ]
     },
     "execution_count": 6,
     "metadata": {},
     "output_type": "execute_result"
    }
   ],
   "source": [
    "g.user"
   ]
  },
  {
   "cell_type": "code",
   "execution_count": 7,
   "metadata": {
    "execution": {
     "iopub.execute_input": "2020-05-30T18:38:04.904338Z",
     "iopub.status.busy": "2020-05-30T18:38:04.903808Z",
     "iopub.status.idle": "2020-05-30T18:38:04.908377Z",
     "shell.execute_reply": "2020-05-30T18:38:04.908917Z"
    },
    "papermill": {
     "duration": 0.027084,
     "end_time": "2020-05-30T18:38:04.909047",
     "exception": false,
     "start_time": "2020-05-30T18:38:04.881963",
     "status": "completed"
    },
    "tags": []
   },
   "outputs": [
    {
     "data": {
      "text/plain": [
       "'https://gist.github.com/1288bff2f9e05394a94312010da267bb'"
      ]
     },
     "execution_count": 7,
     "metadata": {},
     "output_type": "execute_result"
    }
   ],
   "source": [
    "g.git_url"
   ]
  },
  {
   "cell_type": "code",
   "execution_count": 8,
   "metadata": {
    "execution": {
     "iopub.execute_input": "2020-05-30T18:38:04.950204Z",
     "iopub.status.busy": "2020-05-30T18:38:04.949605Z",
     "iopub.status.idle": "2020-05-30T18:38:05.753857Z",
     "shell.execute_reply": "2020-05-30T18:38:05.754593Z"
    },
    "papermill": {
     "duration": 0.827563,
     "end_time": "2020-05-30T18:38:05.754774",
     "exception": false,
     "start_time": "2020-05-30T18:38:04.927211",
     "status": "completed"
    },
    "scrolled": false,
    "tags": []
   },
   "outputs": [
    {
     "data": {
      "text/plain": [
       "('aaa', 'bbb', 'ccc')"
      ]
     },
     "execution_count": 8,
     "metadata": {},
     "output_type": "execute_result"
    }
   ],
   "source": [
    "from gist._1288bff2f9e05394a94312010da267bb import *\n",
    "a_b.a(), a_b.b(), c.c()"
   ]
  },
  {
   "cell_type": "code",
   "execution_count": 9,
   "metadata": {
    "execution": {
     "iopub.execute_input": "2020-05-30T18:38:05.807457Z",
     "iopub.status.busy": "2020-05-30T18:38:05.806931Z",
     "iopub.status.idle": "2020-05-30T18:38:05.810905Z",
     "shell.execute_reply": "2020-05-30T18:38:05.811394Z"
    },
    "papermill": {
     "duration": 0.02817,
     "end_time": "2020-05-30T18:38:05.811515",
     "exception": false,
     "start_time": "2020-05-30T18:38:05.783345",
     "status": "completed"
    },
    "tags": []
   },
   "outputs": [],
   "source": [
    "from pathlib import Path"
   ]
  },
  {
   "cell_type": "code",
   "execution_count": 10,
   "metadata": {
    "execution": {
     "iopub.execute_input": "2020-05-30T18:38:05.852094Z",
     "iopub.status.busy": "2020-05-30T18:38:05.851528Z",
     "iopub.status.idle": "2020-05-30T18:38:05.856692Z",
     "shell.execute_reply": "2020-05-30T18:38:05.857087Z"
    },
    "papermill": {
     "duration": 0.026819,
     "end_time": "2020-05-30T18:38:05.857282",
     "exception": false,
     "start_time": "2020-05-30T18:38:05.830463",
     "status": "completed"
    },
    "tags": []
   },
   "outputs": [
    {
     "data": {
      "text/plain": [
       "PosixPath('/ur/.objs/Gist/1288bff2f9e05394a94312010da267bb/clone')"
      ]
     },
     "execution_count": 10,
     "metadata": {},
     "output_type": "execute_result"
    }
   ],
   "source": [
    "Path(g.clone.git_dir).parent"
   ]
  },
  {
   "cell_type": "code",
   "execution_count": 11,
   "metadata": {
    "execution": {
     "iopub.execute_input": "2020-05-30T18:38:05.898861Z",
     "iopub.status.busy": "2020-05-30T18:38:05.898353Z",
     "iopub.status.idle": "2020-05-30T18:38:06.697651Z",
     "shell.execute_reply": "2020-05-30T18:38:06.698129Z"
    },
    "papermill": {
     "duration": 0.821572,
     "end_time": "2020-05-30T18:38:06.698249",
     "exception": false,
     "start_time": "2020-05-30T18:38:05.876677",
     "status": "completed"
    },
    "tags": []
   },
   "outputs": [
    {
     "data": {
      "text/plain": [
       "('aaa', 'bbb')"
      ]
     },
     "execution_count": 11,
     "metadata": {},
     "output_type": "execute_result"
    }
   ],
   "source": [
    "from gists._1288bff2f9e05394a94312010da267bb.a_b import *\n",
    "a(), b()"
   ]
  },
  {
   "cell_type": "code",
   "execution_count": 12,
   "metadata": {
    "execution": {
     "iopub.execute_input": "2020-05-30T18:38:06.741758Z",
     "iopub.status.busy": "2020-05-30T18:38:06.741231Z",
     "iopub.status.idle": "2020-05-30T18:38:06.746520Z",
     "shell.execute_reply": "2020-05-30T18:38:06.746913Z"
    },
    "papermill": {
     "duration": 0.027654,
     "end_time": "2020-05-30T18:38:06.747103",
     "exception": false,
     "start_time": "2020-05-30T18:38:06.719449",
     "status": "completed"
    },
    "tags": []
   },
   "outputs": [
    {
     "data": {
      "text/plain": [
       "(<module 'gists._1288bff2f9e05394a94312010da267bb.a_b' (https://gist.githubusercontent.com/ryan-williams/1288bff2f9e05394a94312010da267bb/raw/4cb2c6dc67ffceb540fd41ded4b61a6f72cd57dc/a_b.ipynb)>,\n",
       " 'aaa',\n",
       " 'bbb')"
      ]
     },
     "execution_count": 12,
     "metadata": {},
     "output_type": "execute_result"
    }
   ],
   "source": [
    "from gists._1288bff2f9e05394a94312010da267bb import a_b\n",
    "a_b, a_b.a(), a_b.b()"
   ]
  },
  {
   "cell_type": "markdown",
   "metadata": {
    "papermill": {
     "duration": 0.019973,
     "end_time": "2020-05-30T18:38:06.786254",
     "exception": false,
     "start_time": "2020-05-30T18:38:06.766281",
     "status": "completed"
    },
    "tags": []
   },
   "source": [
    "Executes the sibling module `a_b` (from the same Gist \"package\") as well!"
   ]
  },
  {
   "cell_type": "code",
   "execution_count": 13,
   "metadata": {
    "execution": {
     "iopub.execute_input": "2020-05-30T18:38:06.828178Z",
     "iopub.status.busy": "2020-05-30T18:38:06.827420Z",
     "iopub.status.idle": "2020-05-30T18:38:06.833460Z",
     "shell.execute_reply": "2020-05-30T18:38:06.833995Z"
    },
    "papermill": {
     "duration": 0.028165,
     "end_time": "2020-05-30T18:38:06.834108",
     "exception": false,
     "start_time": "2020-05-30T18:38:06.805943",
     "status": "completed"
    },
    "tags": []
   },
   "outputs": [
    {
     "data": {
      "text/plain": [
       "'ccc'"
      ]
     },
     "execution_count": 13,
     "metadata": {},
     "output_type": "execute_result"
    }
   ],
   "source": [
    "from gists._1288bff2f9e05394a94312010da267bb.c import c\n",
    "c()"
   ]
  },
  {
   "cell_type": "code",
   "execution_count": 14,
   "metadata": {
    "execution": {
     "iopub.execute_input": "2020-05-30T18:38:06.877778Z",
     "iopub.status.busy": "2020-05-30T18:38:06.877292Z",
     "iopub.status.idle": "2020-05-30T18:38:06.881916Z",
     "shell.execute_reply": "2020-05-30T18:38:06.882468Z"
    },
    "papermill": {
     "duration": 0.026777,
     "end_time": "2020-05-30T18:38:06.882584",
     "exception": false,
     "start_time": "2020-05-30T18:38:06.855807",
     "status": "completed"
    },
    "tags": []
   },
   "outputs": [
    {
     "data": {
      "text/plain": [
       "'ccc'"
      ]
     },
     "execution_count": 14,
     "metadata": {},
     "output_type": "execute_result"
    }
   ],
   "source": [
    "from gists._1288bff2f9e05394a94312010da267bb.c import c\n",
    "c()"
   ]
  },
  {
   "cell_type": "code",
   "execution_count": 15,
   "metadata": {
    "execution": {
     "iopub.execute_input": "2020-05-30T18:38:06.923824Z",
     "iopub.status.busy": "2020-05-30T18:38:06.923330Z",
     "iopub.status.idle": "2020-05-30T18:38:06.928501Z",
     "shell.execute_reply": "2020-05-30T18:38:06.928917Z"
    },
    "papermill": {
     "duration": 0.027489,
     "end_time": "2020-05-30T18:38:06.929031",
     "exception": false,
     "start_time": "2020-05-30T18:38:06.901542",
     "status": "completed"
    },
    "tags": []
   },
   "outputs": [
    {
     "data": {
      "text/plain": [
       "'ccc'"
      ]
     },
     "execution_count": 15,
     "metadata": {},
     "output_type": "execute_result"
    }
   ],
   "source": [
    "import gists._1288bff2f9e05394a94312010da267bb.c\n",
    "gists._1288bff2f9e05394a94312010da267bb.c.c()"
   ]
  },
  {
   "cell_type": "code",
   "execution_count": 16,
   "metadata": {
    "execution": {
     "iopub.execute_input": "2020-05-30T18:38:06.971936Z",
     "iopub.status.busy": "2020-05-30T18:38:06.971022Z",
     "iopub.status.idle": "2020-05-30T18:38:06.976177Z",
     "shell.execute_reply": "2020-05-30T18:38:06.976804Z"
    },
    "papermill": {
     "duration": 0.027861,
     "end_time": "2020-05-30T18:38:06.976914",
     "exception": false,
     "start_time": "2020-05-30T18:38:06.949053",
     "status": "completed"
    },
    "tags": []
   },
   "outputs": [
    {
     "data": {
      "text/plain": [
       "'aaa'"
      ]
     },
     "execution_count": 16,
     "metadata": {},
     "output_type": "execute_result"
    }
   ],
   "source": [
    "from gists._1288bff2f9e05394a94312010da267bb import a_b as ab\n",
    "ab.a()"
   ]
  }
 ],
 "metadata": {
  "kernelspec": {
   "display_name": "ur-3.7.4",
   "language": "python",
   "name": "ur-3.7.4"
  },
  "language_info": {
   "codemirror_mode": {
    "name": "ipython",
    "version": 3
   },
   "file_extension": ".py",
   "mimetype": "text/x-python",
   "name": "python",
   "nbconvert_exporter": "python",
   "pygments_lexer": "ipython3",
   "version": "3.8.2"
  },
  "papermill": {
   "duration": 4.332235,
   "end_time": "2020-05-30T18:38:07.115508",
   "environment_variables": {},
   "exception": null,
   "input_path": "/ur/gists-test.ipynb",
   "output_path": "/ur/out/gists-test.ipynb",
   "parameters": {},
   "start_time": "2020-05-30T18:38:02.783273",
   "version": "2.1.1"
  }
 },
 "nbformat": 4,
 "nbformat_minor": 2
}