{
 "cells": [
  {
   "cell_type": "markdown",
   "metadata": {
    "papermill": {
     "duration": 0.016496,
     "end_time": "2020-06-08T04:22:38.521419",
     "exception": false,
     "start_time": "2020-06-08T04:22:38.504923",
     "status": "completed"
    },
    "tags": []
   },
   "source": [
    "Test importing from URLs:\n",
    "- spin up an HTTP server serving local files\n",
    "- import a notebook by URL\n",
    "\n",
    "`papermill` params:"
   ]
  },
  {
   "cell_type": "code",
   "execution_count": 1,
   "metadata": {
    "execution": {
     "iopub.execute_input": "2020-06-08T04:22:38.553527Z",
     "iopub.status.busy": "2020-06-08T04:22:38.552992Z",
     "iopub.status.idle": "2020-06-08T04:22:38.557713Z",
     "shell.execute_reply": "2020-06-08T04:22:38.556793Z"
    },
    "papermill": {
     "duration": 0.021425,
     "end_time": "2020-06-08T04:22:38.557844",
     "exception": false,
     "start_time": "2020-06-08T04:22:38.536419",
     "status": "completed"
    },
    "tags": [
     "parameters"
    ]
   },
   "outputs": [],
   "source": [
    "# Configs for web server that we'll run, and load notebooks from:\n",
    "host = 'localhost'\n",
    "port = 8000"
   ]
  },
  {
   "cell_type": "markdown",
   "metadata": {
    "papermill": {
     "duration": 0.010027,
     "end_time": "2020-06-08T04:22:38.578007",
     "exception": false,
     "start_time": "2020-06-08T04:22:38.567980",
     "status": "completed"
    },
    "tags": []
   },
   "source": [
    "Serve the current directory over an HTTP server:"
   ]
  },
  {
   "cell_type": "code",
   "execution_count": 2,
   "metadata": {
    "execution": {
     "iopub.execute_input": "2020-06-08T04:22:38.603697Z",
     "iopub.status.busy": "2020-06-08T04:22:38.603203Z",
     "iopub.status.idle": "2020-06-08T04:22:39.628492Z",
     "shell.execute_reply": "2020-06-08T04:22:39.628913Z"
    },
    "papermill": {
     "duration": 1.041323,
     "end_time": "2020-06-08T04:22:39.629086",
     "exception": false,
     "start_time": "2020-06-08T04:22:38.587763",
     "status": "completed"
    },
    "tags": []
   },
   "outputs": [
    {
     "name": "stdout",
     "output_type": "stream",
     "text": [
      "serving at localhost:8000\n"
     ]
    }
   ],
   "source": [
    "def http_server():\n",
    "    from http.server import SimpleHTTPRequestHandler as Handler \n",
    "    from socketserver import TCPServer\n",
    "\n",
    "    with TCPServer((host, port), Handler) as httpd:\n",
    "        print(f\"serving at {host}:{port}\")\n",
    "        httpd.serve_forever()\n",
    "    \n",
    "from threading import Thread\n",
    "thread = Thread(target=http_server)\n",
    "thread.start()\n",
    "from time import sleep\n",
    "sleep(1)"
   ]
  },
  {
   "cell_type": "markdown",
   "metadata": {
    "papermill": {
     "duration": 0.011731,
     "end_time": "2020-06-08T04:22:39.654308",
     "exception": false,
     "start_time": "2020-06-08T04:22:39.642577",
     "status": "completed"
    },
    "tags": []
   },
   "source": [
    "## Import a remote notebook as a Python module:"
   ]
  },
  {
   "cell_type": "code",
   "execution_count": 3,
   "metadata": {
    "execution": {
     "iopub.execute_input": "2020-06-08T04:22:39.686343Z",
     "iopub.status.busy": "2020-06-08T04:22:39.685078Z",
     "iopub.status.idle": "2020-06-08T04:22:40.115931Z",
     "shell.execute_reply": "2020-06-08T04:22:40.116409Z"
    },
    "papermill": {
     "duration": 0.449642,
     "end_time": "2020-06-08T04:22:40.116546",
     "exception": false,
     "start_time": "2020-06-08T04:22:39.666904",
     "status": "completed"
    },
    "scrolled": false,
    "tags": []
   },
   "outputs": [
    {
     "data": {
      "text/plain": [
       "<module 'URL(id=http://localhost:8000/examples/abcd_gist/a_b.ipynb)' (.objs/URL/http:/localhost:8000/examples/abcd_gist/a_b.ipynb/content)>"
      ]
     },
     "execution_count": 3,
     "metadata": {},
     "output_type": "execute_result"
    }
   ],
   "source": [
    "import ur\n",
    "url = 'http://localhost:8000/examples/abcd_gist/a_b.ipynb'\n",
    "ur * url"
   ]
  },
  {
   "cell_type": "code",
   "execution_count": 4,
   "metadata": {
    "execution": {
     "iopub.execute_input": "2020-06-08T04:22:40.148219Z",
     "iopub.status.busy": "2020-06-08T04:22:40.147630Z",
     "iopub.status.idle": "2020-06-08T04:22:40.151884Z",
     "shell.execute_reply": "2020-06-08T04:22:40.152363Z"
    },
    "papermill": {
     "duration": 0.022876,
     "end_time": "2020-06-08T04:22:40.152479",
     "exception": false,
     "start_time": "2020-06-08T04:22:40.129603",
     "status": "completed"
    },
    "tags": []
   },
   "outputs": [
    {
     "data": {
      "text/plain": [
       "'aaa'"
      ]
     },
     "execution_count": 4,
     "metadata": {},
     "output_type": "execute_result"
    }
   ],
   "source": [
    "a()"
   ]
  },
  {
   "cell_type": "code",
   "execution_count": 5,
   "metadata": {
    "execution": {
     "iopub.execute_input": "2020-06-08T04:22:40.184434Z",
     "iopub.status.busy": "2020-06-08T04:22:40.183843Z",
     "iopub.status.idle": "2020-06-08T04:22:40.188695Z",
     "shell.execute_reply": "2020-06-08T04:22:40.189283Z"
    },
    "papermill": {
     "duration": 0.024709,
     "end_time": "2020-06-08T04:22:40.189408",
     "exception": false,
     "start_time": "2020-06-08T04:22:40.164699",
     "status": "completed"
    },
    "tags": []
   },
   "outputs": [
    {
     "data": {
      "text/plain": [
       "'bbb'"
      ]
     },
     "execution_count": 5,
     "metadata": {},
     "output_type": "execute_result"
    }
   ],
   "source": [
    "b()"
   ]
  },
  {
   "cell_type": "code",
   "execution_count": 6,
   "metadata": {
    "execution": {
     "iopub.execute_input": "2020-06-08T04:22:40.220480Z",
     "iopub.status.busy": "2020-06-08T04:22:40.219284Z",
     "iopub.status.idle": "2020-06-08T04:22:40.251175Z",
     "shell.execute_reply": "2020-06-08T04:22:40.250454Z"
    },
    "papermill": {
     "duration": 0.049411,
     "end_time": "2020-06-08T04:22:40.251259",
     "exception": false,
     "start_time": "2020-06-08T04:22:40.201848",
     "status": "completed"
    },
    "tags": []
   },
   "outputs": [
    {
     "data": {
      "text/plain": [
       "<module 'URL(id=http://localhost:8000/examples/abcd_gist/c.ipynb)' (.objs/URL/http:/localhost:8000/examples/abcd_gist/c.ipynb/content)>"
      ]
     },
     "execution_count": 6,
     "metadata": {},
     "output_type": "execute_result"
    }
   ],
   "source": [
    "local = ur * 'http://localhost:8000/examples/abcd_gist/c.ipynb'\n",
    "local"
   ]
  },
  {
   "cell_type": "code",
   "execution_count": 7,
   "metadata": {
    "execution": {
     "iopub.execute_input": "2020-06-08T04:22:40.285553Z",
     "iopub.status.busy": "2020-06-08T04:22:40.285028Z",
     "iopub.status.idle": "2020-06-08T04:22:40.289754Z",
     "shell.execute_reply": "2020-06-08T04:22:40.289353Z"
    },
    "papermill": {
     "duration": 0.022908,
     "end_time": "2020-06-08T04:22:40.289834",
     "exception": false,
     "start_time": "2020-06-08T04:22:40.266926",
     "status": "completed"
    },
    "tags": []
   },
   "outputs": [
    {
     "data": {
      "text/plain": [
       "'ccc'"
      ]
     },
     "execution_count": 7,
     "metadata": {},
     "output_type": "execute_result"
    }
   ],
   "source": [
    "local.c()"
   ]
  },
  {
   "cell_type": "code",
   "execution_count": 8,
   "metadata": {
    "execution": {
     "iopub.execute_input": "2020-06-08T04:22:40.321210Z",
     "iopub.status.busy": "2020-06-08T04:22:40.320541Z",
     "iopub.status.idle": "2020-06-08T04:22:40.325798Z",
     "shell.execute_reply": "2020-06-08T04:22:40.325333Z"
    },
    "papermill": {
     "duration": 0.023249,
     "end_time": "2020-06-08T04:22:40.325934",
     "exception": false,
     "start_time": "2020-06-08T04:22:40.302685",
     "status": "completed"
    },
    "tags": []
   },
   "outputs": [
    {
     "data": {
      "text/plain": [
       "'ccc'"
      ]
     },
     "execution_count": 8,
     "metadata": {},
     "output_type": "execute_result"
    }
   ],
   "source": [
    "c()"
   ]
  },
  {
   "cell_type": "code",
   "execution_count": 9,
   "metadata": {
    "execution": {
     "iopub.execute_input": "2020-06-08T04:22:40.359528Z",
     "iopub.status.busy": "2020-06-08T04:22:40.358804Z",
     "iopub.status.idle": "2020-06-08T04:22:40.905313Z",
     "shell.execute_reply": "2020-06-08T04:22:40.905723Z"
    },
    "papermill": {
     "duration": 0.56654,
     "end_time": "2020-06-08T04:22:40.905833",
     "exception": false,
     "start_time": "2020-06-08T04:22:40.339293",
     "status": "completed"
    },
    "tags": []
   },
   "outputs": [
    {
     "data": {
      "text/plain": [
       "<module 'gist._1288bff2f9e05394a94312010da267bb.a_b' (https://gist.github.com/1288bff2f9e05394a94312010da267bb/001cf9c4ee425e50a822524d2a475ef18c6423d8/a_b.ipynb)>"
      ]
     },
     "execution_count": 9,
     "metadata": {},
     "output_type": "execute_result"
    }
   ],
   "source": [
    "from examples.abcd_gist.a_b import *     # ✅\n",
    "from examples.abcd_gist.a_b import a     # ✅\n",
    "from examples.abcd_gist.a_b import a, b  # ✅\n",
    "import examples.abcd_gist.a_b            # ✅\n",
    "\n",
    "import gist._1288bff2f9e05394a94312010da267bb\n",
    "from gist._1288bff2f9e05394a94312010da267bb import *\n",
    "from gist._1288bff2f9e05394a94312010da267bb import a_b\n",
    "from gist._1288bff2f9e05394a94312010da267bb import c\n",
    "from gist._1288bff2f9e05394a94312010da267bb.a_b import *\n",
    "from gist._1288bff2f9e05394a94312010da267bb.a_b import a, b\n",
    "\n",
    "ur * 'https://gist.github.com/1288bff2f9e05394a94312010da267bb'\n",
    "ur * 'https://gist.github.com/ryan-williams/1288bff2f9e05394a94312010da267bb#file-a_b-ipynb'  # ✅"
   ]
  }
 ],
 "metadata": {
  "kernelspec": {
   "display_name": "ur-3.8.2",
   "language": "python",
   "name": "ur-3.8.2"
  },
  "language_info": {
   "codemirror_mode": {
    "name": "ipython",
    "version": 3
   },
   "file_extension": ".py",
   "mimetype": "text/x-python",
   "name": "python",
   "nbconvert_exporter": "python",
   "pygments_lexer": "ipython3",
   "version": "3.8.3"
  },
  "papermill": {
   "duration": 3.516235,
   "end_time": "2020-06-08T04:22:41.034954",
   "environment_variables": {},
   "exception": null,
   "input_path": "/ur/url-import-test.ipynb",
   "output_path": "/ur/out/url-import-test.ipynb",
   "parameters": {},
   "start_time": "2020-06-08T04:22:37.518719",
   "version": "2.1.1"
  }
 },
 "nbformat": 4,
 "nbformat_minor": 2
}