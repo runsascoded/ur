{
 "cells": [
  {
   "cell_type": "markdown",
   "metadata": {
    "papermill": {
     "duration": 0.014004,
     "end_time": "2020-06-08T02:11:14.688229",
     "exception": false,
     "start_time": "2020-06-08T02:11:14.674225",
     "status": "completed"
    },
    "tags": []
   },
   "source": [
    "Verify some behaviors and properties about [the `Gist` class](./_gist/__init__.py) used in this repo:"
   ]
  },
  {
   "cell_type": "code",
   "execution_count": 1,
   "metadata": {
    "execution": {
     "iopub.execute_input": "2020-06-08T02:11:14.722273Z",
     "iopub.status.busy": "2020-06-08T02:11:14.720732Z",
     "iopub.status.idle": "2020-06-08T02:11:14.984927Z",
     "shell.execute_reply": "2020-06-08T02:11:14.984330Z"
    },
    "papermill": {
     "duration": 0.281308,
     "end_time": "2020-06-08T02:11:14.985088",
     "exception": false,
     "start_time": "2020-06-08T02:11:14.703780",
     "status": "completed"
    },
    "scrolled": false,
    "tags": []
   },
   "outputs": [
    {
     "data": {
      "text/plain": [
       "('https://gist.github.com/1288bff2f9e05394a94312010da267bb',\n",
       " 'https://gist.github.com/1288bff2f9e05394a94312010da267bb.git')"
      ]
     },
     "execution_count": 1,
     "metadata": {},
     "output_type": "execute_result"
    }
   ],
   "source": [
    "from _gist import Gist\n",
    "\n",
    "gist_id = '1288bff2f9e05394a94312010da267bb'\n",
    "g = Gist(gist_id)\n",
    "g.www_url, g.git_url"
   ]
  },
  {
   "cell_type": "code",
   "execution_count": 2,
   "metadata": {
    "execution": {
     "iopub.execute_input": "2020-06-08T02:11:15.022390Z",
     "iopub.status.busy": "2020-06-08T02:11:15.020677Z",
     "iopub.status.idle": "2020-06-08T02:11:15.297296Z",
     "shell.execute_reply": "2020-06-08T02:11:15.297677Z"
    },
    "papermill": {
     "duration": 0.296665,
     "end_time": "2020-06-08T02:11:15.297786",
     "exception": false,
     "start_time": "2020-06-08T02:11:15.001121",
     "status": "completed"
    },
    "tags": []
   },
   "outputs": [
    {
     "data": {
      "text/plain": [
       "{'file-a_b-ipynb': 'a_b.ipynb',\n",
       " 'file-c-ipynb': 'c.ipynb',\n",
       " 'file-conv-import-tests-sh': 'conv-import-tests.sh',\n",
       " 'file-d-py': 'd.py',\n",
       " 'file-nb_abs_nb-ipynb': 'nb_abs_nb.ipynb',\n",
       " 'file-nb_abs_py-ipynb': 'nb_abs_py.ipynb',\n",
       " 'file-py_abs_nb-py': 'py_abs_nb.py',\n",
       " 'file-py_abs_py-py': 'py_abs_py.py',\n",
       " 'file-relative-imports-failure-test-ipynb': 'relative-imports-failure-test.ipynb'}"
      ]
     },
     "execution_count": 2,
     "metadata": {},
     "output_type": "execute_result"
    }
   ],
   "source": [
    "g.commit.fragments"
   ]
  },
  {
   "cell_type": "code",
   "execution_count": 3,
   "metadata": {
    "execution": {
     "iopub.execute_input": "2020-06-08T02:11:15.335665Z",
     "iopub.status.busy": "2020-06-08T02:11:15.334464Z",
     "iopub.status.idle": "2020-06-08T02:11:15.401530Z",
     "shell.execute_reply": "2020-06-08T02:11:15.400982Z"
    },
    "papermill": {
     "duration": 0.0856,
     "end_time": "2020-06-08T02:11:15.401612",
     "exception": false,
     "start_time": "2020-06-08T02:11:15.316012",
     "status": "completed"
    },
    "tags": []
   },
   "outputs": [
    {
     "data": {
      "text/plain": [
       "'{\\n \"cells\": [\\n  {\\n   \"cell_type\": \"code\",\\n   \"execution_count\": 3,\\n   \"metadata\": {},\\n   \"outputs\": [],\\n   \"source\": [\\n    \"def a():\\\\n\",\\n    \"    return \\'aaa\\'\"\\n   ]\\n  },\\n  {\\n   \"cell_type\": \"code\",\\n   \"execution_count\": null,\\n   \"metadata\": {},\\n   \"outputs\": [],\\n   \"source\": [\\n    \"def b():\\\\n\",\\n    \"    return \\'bbb\\'\"\\n   ]\\n  }\\n ],\\n \"metadata\": {\\n  \"kernelspec\": {\\n   \"display_name\": \"ur-3.7.4\",\\n   \"language\": \"python\",\\n   \"name\": \"ur-3.7.4\"\\n  },\\n  \"language_info\": {\\n   \"codemirror_mode\": {\\n    \"name\": \"ipython\",\\n    \"version\": 3\\n   },\\n   \"file_extension\": \".py\",\\n   \"mimetype\": \"text/x-python\",\\n   \"name\": \"python\",\\n   \"nbconvert_exporter\": \"python\",\\n   \"pygments_lexer\": \"ipython3\",\\n   \"version\": \"3.7.4\"\\n  }\\n },\\n \"nbformat\": 4,\\n \"nbformat_minor\": 2\\n}\\n'"
      ]
     },
     "execution_count": 3,
     "metadata": {},
     "output_type": "execute_result"
    }
   ],
   "source": [
    "g.commit.files[0].read_text()"
   ]
  },
  {
   "cell_type": "code",
   "execution_count": 4,
   "metadata": {
    "execution": {
     "iopub.execute_input": "2020-06-08T02:11:15.439190Z",
     "iopub.status.busy": "2020-06-08T02:11:15.437745Z",
     "iopub.status.idle": "2020-06-08T02:11:15.490262Z",
     "shell.execute_reply": "2020-06-08T02:11:15.490626Z"
    },
    "papermill": {
     "duration": 0.072231,
     "end_time": "2020-06-08T02:11:15.490810",
     "exception": false,
     "start_time": "2020-06-08T02:11:15.418579",
     "status": "completed"
    },
    "tags": []
   },
   "outputs": [
    {
     "data": {
      "text/plain": [
       "<Element html at 0x7fa349c1cf00>"
      ]
     },
     "execution_count": 4,
     "metadata": {},
     "output_type": "execute_result"
    }
   ],
   "source": [
    "g.xml"
   ]
  },
  {
   "cell_type": "code",
   "execution_count": 5,
   "metadata": {
    "execution": {
     "iopub.execute_input": "2020-06-08T02:11:15.527392Z",
     "iopub.status.busy": "2020-06-08T02:11:15.525865Z",
     "iopub.status.idle": "2020-06-08T02:11:15.541090Z",
     "shell.execute_reply": "2020-06-08T02:11:15.540537Z"
    },
    "papermill": {
     "duration": 0.033429,
     "end_time": "2020-06-08T02:11:15.541170",
     "exception": false,
     "start_time": "2020-06-08T02:11:15.507741",
     "status": "completed"
    },
    "tags": []
   },
   "outputs": [
    {
     "data": {
      "text/plain": [
       "'ryan.williams@mssm.edu'"
      ]
     },
     "execution_count": 5,
     "metadata": {},
     "output_type": "execute_result"
    }
   ],
   "source": [
    "g.commit.author"
   ]
  },
  {
   "cell_type": "code",
   "execution_count": 6,
   "metadata": {
    "execution": {
     "iopub.execute_input": "2020-06-08T02:11:15.579131Z",
     "iopub.status.busy": "2020-06-08T02:11:15.578047Z",
     "iopub.status.idle": "2020-06-08T02:11:15.587166Z",
     "shell.execute_reply": "2020-06-08T02:11:15.586612Z"
    },
    "papermill": {
     "duration": 0.028359,
     "end_time": "2020-06-08T02:11:15.587246",
     "exception": false,
     "start_time": "2020-06-08T02:11:15.558887",
     "status": "completed"
    },
    "tags": []
   },
   "outputs": [
    {
     "data": {
      "text/plain": [
       "'ryan-williams'"
      ]
     },
     "execution_count": 6,
     "metadata": {},
     "output_type": "execute_result"
    }
   ],
   "source": [
    "g.user"
   ]
  },
  {
   "cell_type": "code",
   "execution_count": 7,
   "metadata": {
    "execution": {
     "iopub.execute_input": "2020-06-08T02:11:15.624202Z",
     "iopub.status.busy": "2020-06-08T02:11:15.623537Z",
     "iopub.status.idle": "2020-06-08T02:11:15.628503Z",
     "shell.execute_reply": "2020-06-08T02:11:15.627822Z"
    },
    "papermill": {
     "duration": 0.025384,
     "end_time": "2020-06-08T02:11:15.628583",
     "exception": false,
     "start_time": "2020-06-08T02:11:15.603199",
     "status": "completed"
    },
    "tags": []
   },
   "outputs": [
    {
     "data": {
      "text/plain": [
       "'https://gist.github.com/1288bff2f9e05394a94312010da267bb.git'"
      ]
     },
     "execution_count": 7,
     "metadata": {},
     "output_type": "execute_result"
    }
   ],
   "source": [
    "g.git_url"
   ]
  },
  {
   "cell_type": "code",
   "execution_count": 8,
   "metadata": {
    "execution": {
     "iopub.execute_input": "2020-06-08T02:11:15.667972Z",
     "iopub.status.busy": "2020-06-08T02:11:15.666718Z",
     "iopub.status.idle": "2020-06-08T02:11:15.822200Z",
     "shell.execute_reply": "2020-06-08T02:11:15.822731Z"
    },
    "papermill": {
     "duration": 0.179492,
     "end_time": "2020-06-08T02:11:15.822833",
     "exception": false,
     "start_time": "2020-06-08T02:11:15.643341",
     "status": "completed"
    },
    "scrolled": false,
    "tags": []
   },
   "outputs": [
    {
     "data": {
      "text/plain": [
       "('aaa', 'bbb', 'ccc')"
      ]
     },
     "execution_count": 8,
     "metadata": {},
     "output_type": "execute_result"
    }
   ],
   "source": [
    "from gist._1288bff2f9e05394a94312010da267bb import *\n",
    "a_b.a(), a_b.b(), c.c()"
   ]
  },
  {
   "cell_type": "code",
   "execution_count": 9,
   "metadata": {
    "execution": {
     "iopub.execute_input": "2020-06-08T02:11:15.869118Z",
     "iopub.status.busy": "2020-06-08T02:11:15.867907Z",
     "iopub.status.idle": "2020-06-08T02:11:15.869591Z",
     "shell.execute_reply": "2020-06-08T02:11:15.868496Z"
    },
    "papermill": {
     "duration": 0.027541,
     "end_time": "2020-06-08T02:11:15.869673",
     "exception": false,
     "start_time": "2020-06-08T02:11:15.842132",
     "status": "completed"
    },
    "tags": []
   },
   "outputs": [],
   "source": [
    "from pathlib import Path"
   ]
  },
  {
   "cell_type": "code",
   "execution_count": 10,
   "metadata": {
    "execution": {
     "iopub.execute_input": "2020-06-08T02:11:15.910218Z",
     "iopub.status.busy": "2020-06-08T02:11:15.909575Z",
     "iopub.status.idle": "2020-06-08T02:11:15.911654Z",
     "shell.execute_reply": "2020-06-08T02:11:15.912336Z"
    },
    "papermill": {
     "duration": 0.025945,
     "end_time": "2020-06-08T02:11:15.912448",
     "exception": false,
     "start_time": "2020-06-08T02:11:15.886503",
     "status": "completed"
    },
    "tags": []
   },
   "outputs": [
    {
     "data": {
      "text/plain": [
       "PosixPath('/ur/.objs/Gist/1288bff2f9e05394a94312010da267bb/clone')"
      ]
     },
     "execution_count": 10,
     "metadata": {},
     "output_type": "execute_result"
    }
   ],
   "source": [
    "Path(g.clone.git_dir).parent"
   ]
  },
  {
   "cell_type": "code",
   "execution_count": 11,
   "metadata": {
    "execution": {
     "iopub.execute_input": "2020-06-08T02:11:15.953556Z",
     "iopub.status.busy": "2020-06-08T02:11:15.951425Z",
     "iopub.status.idle": "2020-06-08T02:11:16.071128Z",
     "shell.execute_reply": "2020-06-08T02:11:16.070525Z"
    },
    "papermill": {
     "duration": 0.141989,
     "end_time": "2020-06-08T02:11:16.071208",
     "exception": false,
     "start_time": "2020-06-08T02:11:15.929219",
     "status": "completed"
    },
    "tags": []
   },
   "outputs": [
    {
     "data": {
      "text/plain": [
       "('aaa', 'bbb')"
      ]
     },
     "execution_count": 11,
     "metadata": {},
     "output_type": "execute_result"
    }
   ],
   "source": [
    "from gists._1288bff2f9e05394a94312010da267bb.a_b import *\n",
    "a(), b()"
   ]
  },
  {
   "cell_type": "code",
   "execution_count": 12,
   "metadata": {
    "execution": {
     "iopub.execute_input": "2020-06-08T02:11:16.120398Z",
     "iopub.status.busy": "2020-06-08T02:11:16.119732Z",
     "iopub.status.idle": "2020-06-08T02:11:16.124283Z",
     "shell.execute_reply": "2020-06-08T02:11:16.123677Z"
    },
    "papermill": {
     "duration": 0.030195,
     "end_time": "2020-06-08T02:11:16.124366",
     "exception": false,
     "start_time": "2020-06-08T02:11:16.094171",
     "status": "completed"
    },
    "tags": []
   },
   "outputs": [
    {
     "data": {
      "text/plain": [
       "(<module 'gists._1288bff2f9e05394a94312010da267bb.a_b' (https://gist.github.com/1288bff2f9e05394a94312010da267bb/001cf9c4ee425e50a822524d2a475ef18c6423d8/a_b.ipynb)>,\n",
       " 'aaa',\n",
       " 'bbb')"
      ]
     },
     "execution_count": 12,
     "metadata": {},
     "output_type": "execute_result"
    }
   ],
   "source": [
    "from gists._1288bff2f9e05394a94312010da267bb import a_b\n",
    "a_b, a_b.a(), a_b.b()"
   ]
  },
  {
   "cell_type": "markdown",
   "metadata": {
    "papermill": {
     "duration": 0.017075,
     "end_time": "2020-06-08T02:11:16.159651",
     "exception": false,
     "start_time": "2020-06-08T02:11:16.142576",
     "status": "completed"
    },
    "tags": []
   },
   "source": [
    "Executes the sibling module `a_b` (from the same Gist \"package\") as well!"
   ]
  },
  {
   "cell_type": "code",
   "execution_count": 13,
   "metadata": {
    "execution": {
     "iopub.execute_input": "2020-06-08T02:11:16.199941Z",
     "iopub.status.busy": "2020-06-08T02:11:16.199207Z",
     "iopub.status.idle": "2020-06-08T02:11:16.203613Z",
     "shell.execute_reply": "2020-06-08T02:11:16.204194Z"
    },
    "papermill": {
     "duration": 0.027136,
     "end_time": "2020-06-08T02:11:16.204316",
     "exception": false,
     "start_time": "2020-06-08T02:11:16.177180",
     "status": "completed"
    },
    "tags": []
   },
   "outputs": [
    {
     "data": {
      "text/plain": [
       "'ccc'"
      ]
     },
     "execution_count": 13,
     "metadata": {},
     "output_type": "execute_result"
    }
   ],
   "source": [
    "from gists._1288bff2f9e05394a94312010da267bb.c import c\n",
    "c()"
   ]
  },
  {
   "cell_type": "code",
   "execution_count": 14,
   "metadata": {
    "execution": {
     "iopub.execute_input": "2020-06-08T02:11:16.251730Z",
     "iopub.status.busy": "2020-06-08T02:11:16.250937Z",
     "iopub.status.idle": "2020-06-08T02:11:16.255263Z",
     "shell.execute_reply": "2020-06-08T02:11:16.254769Z"
    },
    "papermill": {
     "duration": 0.028722,
     "end_time": "2020-06-08T02:11:16.255349",
     "exception": false,
     "start_time": "2020-06-08T02:11:16.226627",
     "status": "completed"
    },
    "tags": []
   },
   "outputs": [
    {
     "data": {
      "text/plain": [
       "'ccc'"
      ]
     },
     "execution_count": 14,
     "metadata": {},
     "output_type": "execute_result"
    }
   ],
   "source": [
    "from gists._1288bff2f9e05394a94312010da267bb.c import c\n",
    "c()"
   ]
  },
  {
   "cell_type": "code",
   "execution_count": 15,
   "metadata": {
    "execution": {
     "iopub.execute_input": "2020-06-08T02:11:16.301188Z",
     "iopub.status.busy": "2020-06-08T02:11:16.300659Z",
     "iopub.status.idle": "2020-06-08T02:11:16.304470Z",
     "shell.execute_reply": "2020-06-08T02:11:16.304925Z"
    },
    "papermill": {
     "duration": 0.031696,
     "end_time": "2020-06-08T02:11:16.305104",
     "exception": false,
     "start_time": "2020-06-08T02:11:16.273408",
     "status": "completed"
    },
    "tags": []
   },
   "outputs": [
    {
     "data": {
      "text/plain": [
       "'ccc'"
      ]
     },
     "execution_count": 15,
     "metadata": {},
     "output_type": "execute_result"
    }
   ],
   "source": [
    "import gists._1288bff2f9e05394a94312010da267bb.c\n",
    "gists._1288bff2f9e05394a94312010da267bb.c.c()"
   ]
  },
  {
   "cell_type": "code",
   "execution_count": 16,
   "metadata": {
    "execution": {
     "iopub.execute_input": "2020-06-08T02:11:16.347309Z",
     "iopub.status.busy": "2020-06-08T02:11:16.346759Z",
     "iopub.status.idle": "2020-06-08T02:11:16.350087Z",
     "shell.execute_reply": "2020-06-08T02:11:16.350683Z"
    },
    "papermill": {
     "duration": 0.028666,
     "end_time": "2020-06-08T02:11:16.350796",
     "exception": false,
     "start_time": "2020-06-08T02:11:16.322130",
     "status": "completed"
    },
    "tags": []
   },
   "outputs": [
    {
     "data": {
      "text/plain": [
       "'aaa'"
      ]
     },
     "execution_count": 16,
     "metadata": {},
     "output_type": "execute_result"
    }
   ],
   "source": [
    "from gists._1288bff2f9e05394a94312010da267bb import a_b as ab\n",
    "ab.a()"
   ]
  }
 ],
 "metadata": {
  "kernelspec": {
   "display_name": "ur-3.7.4",
   "language": "python",
   "name": "ur-3.7.4"
  },
  "language_info": {
   "codemirror_mode": {
    "name": "ipython",
    "version": 3
   },
   "file_extension": ".py",
   "mimetype": "text/x-python",
   "name": "python",
   "nbconvert_exporter": "python",
   "pygments_lexer": "ipython3",
   "version": "3.8.3"
  },
  "papermill": {
   "duration": 2.652964,
   "end_time": "2020-06-08T02:11:16.485104",
   "environment_variables": {},
   "exception": null,
   "input_path": "/ur/gists-test.ipynb",
   "output_path": "/ur/out/gists-test.ipynb",
   "parameters": {},
   "start_time": "2020-06-08T02:11:13.832140",
   "version": "2.1.1"
  }
 },
 "nbformat": 4,
 "nbformat_minor": 2
}