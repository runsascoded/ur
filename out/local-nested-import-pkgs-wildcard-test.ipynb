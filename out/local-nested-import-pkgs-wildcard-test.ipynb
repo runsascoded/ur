{
 "cells": [
  {
   "cell_type": "markdown",
   "metadata": {
    "papermill": {
     "duration": 0.016605,
     "end_time": "2020-06-08T02:11:33.520869",
     "exception": false,
     "start_time": "2020-06-08T02:11:33.504264",
     "status": "completed"
    },
    "tags": []
   },
   "source": [
    "Test a wildcard-import of local {`.py`,`.ipynb`} modules that in turn import from other local {`.py`,`.ipynb`} modules:"
   ]
  },
  {
   "cell_type": "code",
   "execution_count": 1,
   "metadata": {
    "execution": {
     "iopub.execute_input": "2020-06-08T02:11:33.551528Z",
     "iopub.status.busy": "2020-06-08T02:11:33.550910Z",
     "iopub.status.idle": "2020-06-08T02:11:33.877027Z",
     "shell.execute_reply": "2020-06-08T02:11:33.876455Z"
    },
    "papermill": {
     "duration": 0.341569,
     "end_time": "2020-06-08T02:11:33.877127",
     "exception": false,
     "start_time": "2020-06-08T02:11:33.535558",
     "status": "completed"
    },
    "tags": []
   },
   "outputs": [],
   "source": [
    "import ur\n",
    "from examples.abcd_gist import *"
   ]
  },
  {
   "cell_type": "markdown",
   "metadata": {
    "papermill": {
     "duration": 0.009511,
     "end_time": "2020-06-08T02:11:33.897649",
     "exception": false,
     "start_time": "2020-06-08T02:11:33.888138",
     "status": "completed"
    },
    "tags": []
   },
   "source": [
    "Use a notebook that in turn imports from another, adjacent notebook:"
   ]
  },
  {
   "cell_type": "code",
   "execution_count": 2,
   "metadata": {
    "execution": {
     "iopub.execute_input": "2020-06-08T02:11:33.931109Z",
     "iopub.status.busy": "2020-06-08T02:11:33.930567Z",
     "iopub.status.idle": "2020-06-08T02:11:33.936113Z",
     "shell.execute_reply": "2020-06-08T02:11:33.935280Z"
    },
    "papermill": {
     "duration": 0.028635,
     "end_time": "2020-06-08T02:11:33.936229",
     "exception": false,
     "start_time": "2020-06-08T02:11:33.907594",
     "status": "completed"
    },
    "scrolled": true,
    "tags": []
   },
   "outputs": [
    {
     "data": {
      "text/plain": [
       "'aaabbb'"
      ]
     },
     "execution_count": 2,
     "metadata": {},
     "output_type": "execute_result"
    }
   ],
   "source": [
    "nb_abs_nb.nb_abs_nb()"
   ]
  },
  {
   "cell_type": "markdown",
   "metadata": {
    "papermill": {
     "duration": 0.009477,
     "end_time": "2020-06-08T02:11:33.955742",
     "exception": false,
     "start_time": "2020-06-08T02:11:33.946265",
     "status": "completed"
    },
    "tags": []
   },
   "source": [
    "Use a notebook that in turn imports from an adjacent Python file:"
   ]
  },
  {
   "cell_type": "code",
   "execution_count": 3,
   "metadata": {
    "execution": {
     "iopub.execute_input": "2020-06-08T02:11:33.978480Z",
     "iopub.status.busy": "2020-06-08T02:11:33.977971Z",
     "iopub.status.idle": "2020-06-08T02:11:33.981659Z",
     "shell.execute_reply": "2020-06-08T02:11:33.982179Z"
    },
    "papermill": {
     "duration": 0.016814,
     "end_time": "2020-06-08T02:11:33.982287",
     "exception": false,
     "start_time": "2020-06-08T02:11:33.965473",
     "status": "completed"
    },
    "scrolled": true,
    "tags": []
   },
   "outputs": [
    {
     "data": {
      "text/plain": [
       "'DDD!yay'"
      ]
     },
     "execution_count": 3,
     "metadata": {},
     "output_type": "execute_result"
    }
   ],
   "source": [
    "nb_abs_py.nb_abs_py()"
   ]
  },
  {
   "cell_type": "markdown",
   "metadata": {
    "papermill": {
     "duration": 0.013112,
     "end_time": "2020-06-08T02:11:34.006397",
     "exception": false,
     "start_time": "2020-06-08T02:11:33.993285",
     "status": "completed"
    },
    "tags": []
   },
   "source": [
    "Use a Python file that in turn imports an adjacent notebook:"
   ]
  },
  {
   "cell_type": "code",
   "execution_count": 4,
   "metadata": {
    "execution": {
     "iopub.execute_input": "2020-06-08T02:11:34.030734Z",
     "iopub.status.busy": "2020-06-08T02:11:34.030201Z",
     "iopub.status.idle": "2020-06-08T02:11:34.033920Z",
     "shell.execute_reply": "2020-06-08T02:11:34.034484Z"
    },
    "papermill": {
     "duration": 0.018118,
     "end_time": "2020-06-08T02:11:34.034616",
     "exception": false,
     "start_time": "2020-06-08T02:11:34.016498",
     "status": "completed"
    },
    "scrolled": true,
    "tags": []
   },
   "outputs": [
    {
     "data": {
      "text/plain": [
       "'aaabbb'"
      ]
     },
     "execution_count": 4,
     "metadata": {},
     "output_type": "execute_result"
    }
   ],
   "source": [
    "py_abs_nb.py_abs_nb()"
   ]
  },
  {
   "cell_type": "markdown",
   "metadata": {
    "papermill": {
     "duration": 0.009242,
     "end_time": "2020-06-08T02:11:34.054608",
     "exception": false,
     "start_time": "2020-06-08T02:11:34.045366",
     "status": "completed"
    },
    "tags": []
   },
   "source": [
    "Use a Python file that in turn imports from another, adjacent Python file:"
   ]
  },
  {
   "cell_type": "code",
   "execution_count": 5,
   "metadata": {
    "execution": {
     "iopub.execute_input": "2020-06-08T02:11:34.086863Z",
     "iopub.status.busy": "2020-06-08T02:11:34.085240Z",
     "iopub.status.idle": "2020-06-08T02:11:34.093754Z",
     "shell.execute_reply": "2020-06-08T02:11:34.093213Z"
    },
    "papermill": {
     "duration": 0.028808,
     "end_time": "2020-06-08T02:11:34.093840",
     "exception": false,
     "start_time": "2020-06-08T02:11:34.065032",
     "status": "completed"
    },
    "scrolled": true,
    "tags": []
   },
   "outputs": [
    {
     "data": {
      "text/plain": [
       "'DDD!yay'"
      ]
     },
     "execution_count": 5,
     "metadata": {},
     "output_type": "execute_result"
    }
   ],
   "source": [
    "py_abs_py.py_abs_py()"
   ]
  }
 ],
 "metadata": {
  "kernelspec": {
   "display_name": "3.8.2",
   "language": "python",
   "name": "3.8.2"
  },
  "language_info": {
   "codemirror_mode": {
    "name": "ipython",
    "version": 3
   },
   "file_extension": ".py",
   "mimetype": "text/x-python",
   "name": "python",
   "nbconvert_exporter": "python",
   "pygments_lexer": "ipython3",
   "version": "3.8.3"
  },
  "papermill": {
   "duration": 1.778543,
   "end_time": "2020-06-08T02:11:34.223244",
   "environment_variables": {},
   "exception": null,
   "input_path": "/ur/local-nested-import-pkgs-wildcard-test.ipynb",
   "output_path": "/ur/out/local-nested-import-pkgs-wildcard-test.ipynb",
   "parameters": {},
   "start_time": "2020-06-08T02:11:32.444701",
   "version": "2.1.1"
  }
 },
 "nbformat": 4,
 "nbformat_minor": 2
}